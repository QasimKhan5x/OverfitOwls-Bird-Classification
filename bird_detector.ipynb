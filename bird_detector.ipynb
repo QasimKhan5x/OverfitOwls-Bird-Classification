{
  "cells": [
    {
      "cell_type": "code",
      "execution_count": 2,
      "id": "3b7d92df",
      "metadata": {
        "_cell_guid": "b1076dfc-b9ad-4769-8c92-a6c4dae69d19",
        "_uuid": "8f2839f25d086af736a60e9eeb907d3b93b6e0e5",
        "execution": {
          "iopub.execute_input": "2025-02-05T20:56:01.263766Z",
          "iopub.status.busy": "2025-02-05T20:56:01.263246Z",
          "iopub.status.idle": "2025-02-05T20:56:01.450204Z",
          "shell.execute_reply": "2025-02-05T20:56:01.448932Z"
        },
        "papermill": {
          "duration": 0.193013,
          "end_time": "2025-02-05T20:56:01.452237",
          "exception": false,
          "start_time": "2025-02-05T20:56:01.259224",
          "status": "completed"
        },
        "tags": [],
        "colab": {
          "base_uri": "https://localhost:8080/"
        },
        "id": "3b7d92df",
        "outputId": "e4669487-3132-48b8-ac52-4972e0d4c975"
      },
      "outputs": [
        {
          "output_type": "stream",
          "name": "stdout",
          "text": [
            "Thu Feb  6 09:54:25 2025       \n",
            "+-----------------------------------------------------------------------------------------+\n",
            "| NVIDIA-SMI 550.54.15              Driver Version: 550.54.15      CUDA Version: 12.4     |\n",
            "|-----------------------------------------+------------------------+----------------------+\n",
            "| GPU  Name                 Persistence-M | Bus-Id          Disp.A | Volatile Uncorr. ECC |\n",
            "| Fan  Temp   Perf          Pwr:Usage/Cap |           Memory-Usage | GPU-Util  Compute M. |\n",
            "|                                         |                        |               MIG M. |\n",
            "|=========================================+========================+======================|\n",
            "|   0  Tesla T4                       Off |   00000000:00:04.0 Off |                    0 |\n",
            "| N/A   44C    P8              9W /   70W |       0MiB /  15360MiB |      0%      Default |\n",
            "|                                         |                        |                  N/A |\n",
            "+-----------------------------------------+------------------------+----------------------+\n",
            "                                                                                         \n",
            "+-----------------------------------------------------------------------------------------+\n",
            "| Processes:                                                                              |\n",
            "|  GPU   GI   CI        PID   Type   Process name                              GPU Memory |\n",
            "|        ID   ID                                                               Usage      |\n",
            "|=========================================================================================|\n",
            "|  No running processes found                                                             |\n",
            "+-----------------------------------------------------------------------------------------+\n"
          ]
        }
      ],
      "source": [
        "!nvidia-smi"
      ]
    },
    {
      "cell_type": "code",
      "execution_count": 3,
      "id": "8048cd19",
      "metadata": {
        "execution": {
          "iopub.execute_input": "2025-02-05T20:56:01.458544Z",
          "iopub.status.busy": "2025-02-05T20:56:01.458223Z",
          "iopub.status.idle": "2025-02-05T20:56:07.843925Z",
          "shell.execute_reply": "2025-02-05T20:56:07.842852Z"
        },
        "papermill": {
          "duration": 6.390662,
          "end_time": "2025-02-05T20:56:07.845733",
          "exception": false,
          "start_time": "2025-02-05T20:56:01.455071",
          "status": "completed"
        },
        "tags": [],
        "colab": {
          "base_uri": "https://localhost:8080/"
        },
        "id": "8048cd19",
        "outputId": "e558bf08-6430-4d3f-e9ea-d204e566f277"
      },
      "outputs": [
        {
          "output_type": "stream",
          "name": "stdout",
          "text": [
            "Requirement already satisfied: ultralytics in /usr/local/lib/python3.11/dist-packages (8.3.72)\n",
            "Requirement already satisfied: numpy<=2.1.1,>=1.23.0 in /usr/local/lib/python3.11/dist-packages (from ultralytics) (1.26.4)\n",
            "Requirement already satisfied: matplotlib>=3.3.0 in /usr/local/lib/python3.11/dist-packages (from ultralytics) (3.10.0)\n",
            "Requirement already satisfied: opencv-python>=4.6.0 in /usr/local/lib/python3.11/dist-packages (from ultralytics) (4.10.0.84)\n",
            "Requirement already satisfied: pillow>=7.1.2 in /usr/local/lib/python3.11/dist-packages (from ultralytics) (11.1.0)\n",
            "Requirement already satisfied: pyyaml>=5.3.1 in /usr/local/lib/python3.11/dist-packages (from ultralytics) (6.0.2)\n",
            "Requirement already satisfied: requests>=2.23.0 in /usr/local/lib/python3.11/dist-packages (from ultralytics) (2.32.3)\n",
            "Requirement already satisfied: scipy>=1.4.1 in /usr/local/lib/python3.11/dist-packages (from ultralytics) (1.13.1)\n",
            "Requirement already satisfied: torch>=1.8.0 in /usr/local/lib/python3.11/dist-packages (from ultralytics) (2.5.1+cu124)\n",
            "Requirement already satisfied: torchvision>=0.9.0 in /usr/local/lib/python3.11/dist-packages (from ultralytics) (0.20.1+cu124)\n",
            "Requirement already satisfied: tqdm>=4.64.0 in /usr/local/lib/python3.11/dist-packages (from ultralytics) (4.67.1)\n",
            "Requirement already satisfied: psutil in /usr/local/lib/python3.11/dist-packages (from ultralytics) (5.9.5)\n",
            "Requirement already satisfied: py-cpuinfo in /usr/local/lib/python3.11/dist-packages (from ultralytics) (9.0.0)\n",
            "Requirement already satisfied: pandas>=1.1.4 in /usr/local/lib/python3.11/dist-packages (from ultralytics) (2.2.2)\n",
            "Requirement already satisfied: seaborn>=0.11.0 in /usr/local/lib/python3.11/dist-packages (from ultralytics) (0.13.2)\n",
            "Requirement already satisfied: ultralytics-thop>=2.0.0 in /usr/local/lib/python3.11/dist-packages (from ultralytics) (2.0.14)\n",
            "Requirement already satisfied: contourpy>=1.0.1 in /usr/local/lib/python3.11/dist-packages (from matplotlib>=3.3.0->ultralytics) (1.3.1)\n",
            "Requirement already satisfied: cycler>=0.10 in /usr/local/lib/python3.11/dist-packages (from matplotlib>=3.3.0->ultralytics) (0.12.1)\n",
            "Requirement already satisfied: fonttools>=4.22.0 in /usr/local/lib/python3.11/dist-packages (from matplotlib>=3.3.0->ultralytics) (4.55.7)\n",
            "Requirement already satisfied: kiwisolver>=1.3.1 in /usr/local/lib/python3.11/dist-packages (from matplotlib>=3.3.0->ultralytics) (1.4.8)\n",
            "Requirement already satisfied: packaging>=20.0 in /usr/local/lib/python3.11/dist-packages (from matplotlib>=3.3.0->ultralytics) (24.2)\n",
            "Requirement already satisfied: pyparsing>=2.3.1 in /usr/local/lib/python3.11/dist-packages (from matplotlib>=3.3.0->ultralytics) (3.2.1)\n",
            "Requirement already satisfied: python-dateutil>=2.7 in /usr/local/lib/python3.11/dist-packages (from matplotlib>=3.3.0->ultralytics) (2.8.2)\n",
            "Requirement already satisfied: pytz>=2020.1 in /usr/local/lib/python3.11/dist-packages (from pandas>=1.1.4->ultralytics) (2024.2)\n",
            "Requirement already satisfied: tzdata>=2022.7 in /usr/local/lib/python3.11/dist-packages (from pandas>=1.1.4->ultralytics) (2025.1)\n",
            "Requirement already satisfied: charset-normalizer<4,>=2 in /usr/local/lib/python3.11/dist-packages (from requests>=2.23.0->ultralytics) (3.4.1)\n",
            "Requirement already satisfied: idna<4,>=2.5 in /usr/local/lib/python3.11/dist-packages (from requests>=2.23.0->ultralytics) (3.7)\n",
            "Requirement already satisfied: urllib3<3,>=1.21.1 in /usr/local/lib/python3.11/dist-packages (from requests>=2.23.0->ultralytics) (2.3.0)\n",
            "Requirement already satisfied: certifi>=2017.4.17 in /usr/local/lib/python3.11/dist-packages (from requests>=2.23.0->ultralytics) (2024.12.14)\n",
            "Requirement already satisfied: filelock in /usr/local/lib/python3.11/dist-packages (from torch>=1.8.0->ultralytics) (3.17.0)\n",
            "Requirement already satisfied: typing-extensions>=4.8.0 in /usr/local/lib/python3.11/dist-packages (from torch>=1.8.0->ultralytics) (4.12.2)\n",
            "Requirement already satisfied: networkx in /usr/local/lib/python3.11/dist-packages (from torch>=1.8.0->ultralytics) (3.4.2)\n",
            "Requirement already satisfied: jinja2 in /usr/local/lib/python3.11/dist-packages (from torch>=1.8.0->ultralytics) (3.1.5)\n",
            "Requirement already satisfied: fsspec in /usr/local/lib/python3.11/dist-packages (from torch>=1.8.0->ultralytics) (2024.10.0)\n",
            "Requirement already satisfied: nvidia-cuda-nvrtc-cu12==12.4.127 in /usr/local/lib/python3.11/dist-packages (from torch>=1.8.0->ultralytics) (12.4.127)\n",
            "Requirement already satisfied: nvidia-cuda-runtime-cu12==12.4.127 in /usr/local/lib/python3.11/dist-packages (from torch>=1.8.0->ultralytics) (12.4.127)\n",
            "Requirement already satisfied: nvidia-cuda-cupti-cu12==12.4.127 in /usr/local/lib/python3.11/dist-packages (from torch>=1.8.0->ultralytics) (12.4.127)\n",
            "Requirement already satisfied: nvidia-cudnn-cu12==9.1.0.70 in /usr/local/lib/python3.11/dist-packages (from torch>=1.8.0->ultralytics) (9.1.0.70)\n",
            "Requirement already satisfied: nvidia-cublas-cu12==12.4.5.8 in /usr/local/lib/python3.11/dist-packages (from torch>=1.8.0->ultralytics) (12.4.5.8)\n",
            "Requirement already satisfied: nvidia-cufft-cu12==11.2.1.3 in /usr/local/lib/python3.11/dist-packages (from torch>=1.8.0->ultralytics) (11.2.1.3)\n",
            "Requirement already satisfied: nvidia-curand-cu12==10.3.5.147 in /usr/local/lib/python3.11/dist-packages (from torch>=1.8.0->ultralytics) (10.3.5.147)\n",
            "Requirement already satisfied: nvidia-cusolver-cu12==11.6.1.9 in /usr/local/lib/python3.11/dist-packages (from torch>=1.8.0->ultralytics) (11.6.1.9)\n",
            "Requirement already satisfied: nvidia-cusparse-cu12==12.3.1.170 in /usr/local/lib/python3.11/dist-packages (from torch>=1.8.0->ultralytics) (12.3.1.170)\n",
            "Requirement already satisfied: nvidia-nccl-cu12==2.21.5 in /usr/local/lib/python3.11/dist-packages (from torch>=1.8.0->ultralytics) (2.21.5)\n",
            "Requirement already satisfied: nvidia-nvtx-cu12==12.4.127 in /usr/local/lib/python3.11/dist-packages (from torch>=1.8.0->ultralytics) (12.4.127)\n",
            "Requirement already satisfied: nvidia-nvjitlink-cu12==12.4.127 in /usr/local/lib/python3.11/dist-packages (from torch>=1.8.0->ultralytics) (12.4.127)\n",
            "Requirement already satisfied: triton==3.1.0 in /usr/local/lib/python3.11/dist-packages (from torch>=1.8.0->ultralytics) (3.1.0)\n",
            "Requirement already satisfied: sympy==1.13.1 in /usr/local/lib/python3.11/dist-packages (from torch>=1.8.0->ultralytics) (1.13.1)\n",
            "Requirement already satisfied: mpmath<1.4,>=1.1.0 in /usr/local/lib/python3.11/dist-packages (from sympy==1.13.1->torch>=1.8.0->ultralytics) (1.3.0)\n",
            "Requirement already satisfied: six>=1.5 in /usr/local/lib/python3.11/dist-packages (from python-dateutil>=2.7->matplotlib>=3.3.0->ultralytics) (1.17.0)\n",
            "Requirement already satisfied: MarkupSafe>=2.0 in /usr/local/lib/python3.11/dist-packages (from jinja2->torch>=1.8.0->ultralytics) (3.0.2)\n"
          ]
        }
      ],
      "source": [
        "!pip install ultralytics"
      ]
    },
    {
      "cell_type": "code",
      "execution_count": 4,
      "id": "b69f1a89",
      "metadata": {
        "execution": {
          "iopub.execute_input": "2025-02-05T20:56:07.855336Z",
          "iopub.status.busy": "2025-02-05T20:56:07.855012Z",
          "iopub.status.idle": "2025-02-05T20:56:14.486236Z",
          "shell.execute_reply": "2025-02-05T20:56:14.485305Z"
        },
        "papermill": {
          "duration": 6.638392,
          "end_time": "2025-02-05T20:56:14.487794",
          "exception": false,
          "start_time": "2025-02-05T20:56:07.849402",
          "status": "completed"
        },
        "tags": [],
        "colab": {
          "base_uri": "https://localhost:8080/"
        },
        "id": "b69f1a89",
        "outputId": "885a0eaf-1bcb-4c85-d0ee-83e5879731be"
      },
      "outputs": [
        {
          "output_type": "stream",
          "name": "stdout",
          "text": [
            "Ultralytics 8.3.72 🚀 Python-3.11.11 torch-2.5.1+cu124 CUDA:0 (Tesla T4, 15095MiB)\n",
            "Setup complete ✅ (2 CPUs, 12.7 GB RAM, 33.2/112.6 GB disk)\n"
          ]
        }
      ],
      "source": [
        "import ultralytics\n",
        "ultralytics.checks()"
      ]
    },
    {
      "cell_type": "code",
      "execution_count": null,
      "id": "ccefbd8e",
      "metadata": {
        "execution": {
          "iopub.execute_input": "2025-02-05T20:56:14.496316Z",
          "iopub.status.busy": "2025-02-05T20:56:14.495820Z",
          "iopub.status.idle": "2025-02-05T20:56:14.503729Z",
          "shell.execute_reply": "2025-02-05T20:56:14.502926Z"
        },
        "papermill": {
          "duration": 0.013663,
          "end_time": "2025-02-05T20:56:14.505120",
          "exception": false,
          "start_time": "2025-02-05T20:56:14.491457",
          "status": "completed"
        },
        "tags": [],
        "id": "ccefbd8e",
        "outputId": "b5d6f2c8-33cb-4f52-bb66-b26cc74fcee4"
      },
      "outputs": [
        {
          "name": "stdout",
          "output_type": "stream",
          "text": [
            "Ultralytics 8.3.71 🚀 Python-3.10.12 torch-2.5.1+cu121 CUDA:0 (Tesla P100-PCIE-16GB, 16269MiB)\n",
            "Setup complete ✅ (4 CPUs, 31.4 GB RAM, 6095.9/8062.4 GB disk)\n"
          ]
        }
      ],
      "source": [
        "import ultralytics\n",
        "ultralytics.checks()"
      ]
    },
    {
      "cell_type": "code",
      "source": [
        "!pip install roboflow"
      ],
      "metadata": {
        "colab": {
          "base_uri": "https://localhost:8080/",
          "height": 957
        },
        "id": "3Bp9m5dsoyN3",
        "outputId": "4854bccc-3123-4197-cbab-a601d6b40ecd"
      },
      "id": "3Bp9m5dsoyN3",
      "execution_count": null,
      "outputs": [
        {
          "output_type": "stream",
          "name": "stdout",
          "text": [
            "Collecting roboflow\n",
            "  Downloading roboflow-1.1.53-py3-none-any.whl.metadata (9.7 kB)\n",
            "Requirement already satisfied: certifi in /usr/local/lib/python3.11/dist-packages (from roboflow) (2024.12.14)\n",
            "Collecting idna==3.7 (from roboflow)\n",
            "  Downloading idna-3.7-py3-none-any.whl.metadata (9.9 kB)\n",
            "Requirement already satisfied: cycler in /usr/local/lib/python3.11/dist-packages (from roboflow) (0.12.1)\n",
            "Requirement already satisfied: kiwisolver>=1.3.1 in /usr/local/lib/python3.11/dist-packages (from roboflow) (1.4.8)\n",
            "Requirement already satisfied: matplotlib in /usr/local/lib/python3.11/dist-packages (from roboflow) (3.10.0)\n",
            "Requirement already satisfied: numpy>=1.18.5 in /usr/local/lib/python3.11/dist-packages (from roboflow) (1.26.4)\n",
            "Collecting opencv-python-headless==4.10.0.84 (from roboflow)\n",
            "  Downloading opencv_python_headless-4.10.0.84-cp37-abi3-manylinux_2_17_x86_64.manylinux2014_x86_64.whl.metadata (20 kB)\n",
            "Requirement already satisfied: Pillow>=7.1.2 in /usr/local/lib/python3.11/dist-packages (from roboflow) (11.1.0)\n",
            "Requirement already satisfied: python-dateutil in /usr/local/lib/python3.11/dist-packages (from roboflow) (2.8.2)\n",
            "Collecting python-dotenv (from roboflow)\n",
            "  Downloading python_dotenv-1.0.1-py3-none-any.whl.metadata (23 kB)\n",
            "Requirement already satisfied: requests in /usr/local/lib/python3.11/dist-packages (from roboflow) (2.32.3)\n",
            "Requirement already satisfied: six in /usr/local/lib/python3.11/dist-packages (from roboflow) (1.17.0)\n",
            "Requirement already satisfied: urllib3>=1.26.6 in /usr/local/lib/python3.11/dist-packages (from roboflow) (2.3.0)\n",
            "Requirement already satisfied: tqdm>=4.41.0 in /usr/local/lib/python3.11/dist-packages (from roboflow) (4.67.1)\n",
            "Requirement already satisfied: PyYAML>=5.3.1 in /usr/local/lib/python3.11/dist-packages (from roboflow) (6.0.2)\n",
            "Requirement already satisfied: requests-toolbelt in /usr/local/lib/python3.11/dist-packages (from roboflow) (1.0.0)\n",
            "Collecting filetype (from roboflow)\n",
            "  Downloading filetype-1.2.0-py2.py3-none-any.whl.metadata (6.5 kB)\n",
            "Requirement already satisfied: contourpy>=1.0.1 in /usr/local/lib/python3.11/dist-packages (from matplotlib->roboflow) (1.3.1)\n",
            "Requirement already satisfied: fonttools>=4.22.0 in /usr/local/lib/python3.11/dist-packages (from matplotlib->roboflow) (4.55.7)\n",
            "Requirement already satisfied: packaging>=20.0 in /usr/local/lib/python3.11/dist-packages (from matplotlib->roboflow) (24.2)\n",
            "Requirement already satisfied: pyparsing>=2.3.1 in /usr/local/lib/python3.11/dist-packages (from matplotlib->roboflow) (3.2.1)\n",
            "Requirement already satisfied: charset-normalizer<4,>=2 in /usr/local/lib/python3.11/dist-packages (from requests->roboflow) (3.4.1)\n",
            "Downloading roboflow-1.1.53-py3-none-any.whl (82 kB)\n",
            "\u001b[2K   \u001b[90m━━━━━━━━━━━━━━━━━━━━━━━━━━━━━━━━━━━━━━━━\u001b[0m \u001b[32m83.0/83.0 kB\u001b[0m \u001b[31m6.2 MB/s\u001b[0m eta \u001b[36m0:00:00\u001b[0m\n",
            "\u001b[?25hDownloading idna-3.7-py3-none-any.whl (66 kB)\n",
            "\u001b[2K   \u001b[90m━━━━━━━━━━━━━━━━━━━━━━━━━━━━━━━━━━━━━━━━\u001b[0m \u001b[32m66.8/66.8 kB\u001b[0m \u001b[31m7.3 MB/s\u001b[0m eta \u001b[36m0:00:00\u001b[0m\n",
            "\u001b[?25hDownloading opencv_python_headless-4.10.0.84-cp37-abi3-manylinux_2_17_x86_64.manylinux2014_x86_64.whl (49.9 MB)\n",
            "\u001b[2K   \u001b[90m━━━━━━━━━━━━━━━━━━━━━━━━━━━━━━━━━━━━━━━━\u001b[0m \u001b[32m49.9/49.9 MB\u001b[0m \u001b[31m16.8 MB/s\u001b[0m eta \u001b[36m0:00:00\u001b[0m\n",
            "\u001b[?25hDownloading filetype-1.2.0-py2.py3-none-any.whl (19 kB)\n",
            "Downloading python_dotenv-1.0.1-py3-none-any.whl (19 kB)\n",
            "Installing collected packages: filetype, python-dotenv, opencv-python-headless, idna, roboflow\n",
            "  Attempting uninstall: opencv-python-headless\n",
            "    Found existing installation: opencv-python-headless 4.11.0.86\n",
            "    Uninstalling opencv-python-headless-4.11.0.86:\n",
            "      Successfully uninstalled opencv-python-headless-4.11.0.86\n",
            "  Attempting uninstall: idna\n",
            "    Found existing installation: idna 3.10\n",
            "    Uninstalling idna-3.10:\n",
            "      Successfully uninstalled idna-3.10\n",
            "Successfully installed filetype-1.2.0 idna-3.7 opencv-python-headless-4.10.0.84 python-dotenv-1.0.1 roboflow-1.1.53\n"
          ]
        },
        {
          "output_type": "display_data",
          "data": {
            "application/vnd.colab-display-data+json": {
              "pip_warning": {
                "packages": [
                  "cv2"
                ]
              },
              "id": "ac54881aa5214a869ede888d85f5a7a0"
            }
          },
          "metadata": {}
        }
      ]
    },
    {
      "cell_type": "code",
      "execution_count": null,
      "id": "b4c86fbe",
      "metadata": {
        "execution": {
          "iopub.execute_input": "2025-02-05T20:56:14.513165Z",
          "iopub.status.busy": "2025-02-05T20:56:14.512891Z",
          "iopub.status.idle": "2025-02-05T20:56:26.813431Z",
          "shell.execute_reply": "2025-02-05T20:56:26.812520Z"
        },
        "papermill": {
          "duration": 12.306402,
          "end_time": "2025-02-05T20:56:26.815233",
          "exception": false,
          "start_time": "2025-02-05T20:56:14.508831",
          "status": "completed"
        },
        "tags": [],
        "id": "b4c86fbe",
        "outputId": "9e9a682a-40a5-4766-f905-47eeffe3b2ac"
      },
      "outputs": [
        {
          "name": "stdout",
          "output_type": "stream",
          "text": [
            "Collecting roboflow\r\n",
            "  Downloading roboflow-1.1.53-py3-none-any.whl.metadata (9.7 kB)\r\n",
            "Requirement already satisfied: certifi in /usr/local/lib/python3.10/dist-packages (from roboflow) (2024.12.14)\r\n",
            "Collecting idna==3.7 (from roboflow)\r\n",
            "  Downloading idna-3.7-py3-none-any.whl.metadata (9.9 kB)\r\n",
            "Requirement already satisfied: cycler in /usr/local/lib/python3.10/dist-packages (from roboflow) (0.12.1)\r\n",
            "Requirement already satisfied: kiwisolver>=1.3.1 in /usr/local/lib/python3.10/dist-packages (from roboflow) (1.4.7)\r\n",
            "Requirement already satisfied: matplotlib in /usr/local/lib/python3.10/dist-packages (from roboflow) (3.7.5)\r\n",
            "Requirement already satisfied: numpy>=1.18.5 in /usr/local/lib/python3.10/dist-packages (from roboflow) (1.26.4)\r\n",
            "Requirement already satisfied: opencv-python-headless==4.10.0.84 in /usr/local/lib/python3.10/dist-packages (from roboflow) (4.10.0.84)\r\n",
            "Requirement already satisfied: Pillow>=7.1.2 in /usr/local/lib/python3.10/dist-packages (from roboflow) (11.0.0)\r\n",
            "Requirement already satisfied: python-dateutil in /usr/local/lib/python3.10/dist-packages (from roboflow) (2.8.2)\r\n",
            "Collecting python-dotenv (from roboflow)\r\n",
            "  Downloading python_dotenv-1.0.1-py3-none-any.whl.metadata (23 kB)\r\n",
            "Requirement already satisfied: requests in /usr/local/lib/python3.10/dist-packages (from roboflow) (2.32.3)\r\n",
            "Requirement already satisfied: six in /usr/local/lib/python3.10/dist-packages (from roboflow) (1.17.0)\r\n",
            "Requirement already satisfied: urllib3>=1.26.6 in /usr/local/lib/python3.10/dist-packages (from roboflow) (2.2.3)\r\n",
            "Requirement already satisfied: tqdm>=4.41.0 in /usr/local/lib/python3.10/dist-packages (from roboflow) (4.67.1)\r\n",
            "Requirement already satisfied: PyYAML>=5.3.1 in /usr/local/lib/python3.10/dist-packages (from roboflow) (6.0.2)\r\n",
            "Requirement already satisfied: requests-toolbelt in /usr/local/lib/python3.10/dist-packages (from roboflow) (1.0.0)\r\n",
            "Collecting filetype (from roboflow)\r\n",
            "  Downloading filetype-1.2.0-py2.py3-none-any.whl.metadata (6.5 kB)\r\n",
            "Requirement already satisfied: mkl_fft in /usr/local/lib/python3.10/dist-packages (from numpy>=1.18.5->roboflow) (1.3.8)\r\n",
            "Requirement already satisfied: mkl_random in /usr/local/lib/python3.10/dist-packages (from numpy>=1.18.5->roboflow) (1.2.4)\r\n",
            "Requirement already satisfied: mkl_umath in /usr/local/lib/python3.10/dist-packages (from numpy>=1.18.5->roboflow) (0.1.1)\r\n",
            "Requirement already satisfied: mkl in /usr/local/lib/python3.10/dist-packages (from numpy>=1.18.5->roboflow) (2025.0.1)\r\n",
            "Requirement already satisfied: tbb4py in /usr/local/lib/python3.10/dist-packages (from numpy>=1.18.5->roboflow) (2022.0.0)\r\n",
            "Requirement already satisfied: mkl-service in /usr/local/lib/python3.10/dist-packages (from numpy>=1.18.5->roboflow) (2.4.1)\r\n",
            "Requirement already satisfied: contourpy>=1.0.1 in /usr/local/lib/python3.10/dist-packages (from matplotlib->roboflow) (1.3.1)\r\n",
            "Requirement already satisfied: fonttools>=4.22.0 in /usr/local/lib/python3.10/dist-packages (from matplotlib->roboflow) (4.55.3)\r\n",
            "Requirement already satisfied: packaging>=20.0 in /usr/local/lib/python3.10/dist-packages (from matplotlib->roboflow) (24.2)\r\n",
            "Requirement already satisfied: pyparsing>=2.3.1 in /usr/local/lib/python3.10/dist-packages (from matplotlib->roboflow) (3.2.0)\r\n",
            "Requirement already satisfied: charset-normalizer<4,>=2 in /usr/local/lib/python3.10/dist-packages (from requests->roboflow) (3.4.0)\r\n",
            "Requirement already satisfied: intel-openmp>=2024 in /usr/local/lib/python3.10/dist-packages (from mkl->numpy>=1.18.5->roboflow) (2024.2.0)\r\n",
            "Requirement already satisfied: tbb==2022.* in /usr/local/lib/python3.10/dist-packages (from mkl->numpy>=1.18.5->roboflow) (2022.0.0)\r\n",
            "Requirement already satisfied: tcmlib==1.* in /usr/local/lib/python3.10/dist-packages (from tbb==2022.*->mkl->numpy>=1.18.5->roboflow) (1.2.0)\r\n",
            "Requirement already satisfied: intel-cmplr-lib-rt in /usr/local/lib/python3.10/dist-packages (from mkl_umath->numpy>=1.18.5->roboflow) (2024.2.0)\r\n",
            "Requirement already satisfied: intel-cmplr-lib-ur==2024.2.0 in /usr/local/lib/python3.10/dist-packages (from intel-openmp>=2024->mkl->numpy>=1.18.5->roboflow) (2024.2.0)\r\n",
            "Downloading roboflow-1.1.53-py3-none-any.whl (82 kB)\r\n",
            "\u001b[2K   \u001b[90m━━━━━━━━━━━━━━━━━━━━━━━━━━━━━━━━━━━━━━━━\u001b[0m \u001b[32m83.0/83.0 kB\u001b[0m \u001b[31m3.1 MB/s\u001b[0m eta \u001b[36m0:00:00\u001b[0m\r\n",
            "\u001b[?25hDownloading idna-3.7-py3-none-any.whl (66 kB)\r\n",
            "\u001b[2K   \u001b[90m━━━━━━━━━━━━━━━━━━━━━━━━━━━━━━━━━━━━━━━━\u001b[0m \u001b[32m66.8/66.8 kB\u001b[0m \u001b[31m3.4 MB/s\u001b[0m eta \u001b[36m0:00:00\u001b[0m\r\n",
            "\u001b[?25hDownloading filetype-1.2.0-py2.py3-none-any.whl (19 kB)\r\n",
            "Downloading python_dotenv-1.0.1-py3-none-any.whl (19 kB)\r\n",
            "Installing collected packages: filetype, python-dotenv, idna, roboflow\r\n",
            "  Attempting uninstall: idna\r\n",
            "    Found existing installation: idna 3.10\r\n",
            "    Uninstalling idna-3.10:\r\n",
            "      Successfully uninstalled idna-3.10\r\n",
            "\u001b[31mERROR: pip's dependency resolver does not currently take into account all the packages that are installed. This behaviour is the source of the following dependency conflicts.\r\n",
            "tensorflow-decision-forests 1.10.0 requires tensorflow==2.17.0, but you have tensorflow 2.17.1 which is incompatible.\u001b[0m\u001b[31m\r\n",
            "\u001b[0mSuccessfully installed filetype-1.2.0 idna-3.7 python-dotenv-1.0.1 roboflow-1.1.53\r\n",
            "loading Roboflow workspace...\n",
            "loading Roboflow project...\n"
          ]
        },
        {
          "name": "stderr",
          "output_type": "stream",
          "text": [
            "Downloading Dataset Version Zip in BirdDetector-1 to yolov11:: 100%|██████████| 220309/220309 [00:03<00:00, 61168.63it/s]"
          ]
        },
        {
          "name": "stdout",
          "output_type": "stream",
          "text": [
            "\n"
          ]
        },
        {
          "name": "stderr",
          "output_type": "stream",
          "text": [
            "\n",
            "Extracting Dataset Version Zip to BirdDetector-1 in yolov11:: 100%|██████████| 8186/8186 [00:01<00:00, 6310.50it/s]\n"
          ]
        }
      ],
      "source": [
        "from roboflow import Roboflow\n",
        "rf = Roboflow(api_key=\"uhtPWClvIGgUa3WaB0k6\")\n",
        "project = rf.workspace(\"ml-lmvau\").project(\"birddetector-wrvb1-v20r0\")\n",
        "version = project.version(1)\n",
        "dataset = version.download(\"yolov11\")"
      ]
    },
    {
      "cell_type": "code",
      "execution_count": null,
      "id": "40b75eed",
      "metadata": {
        "execution": {
          "iopub.execute_input": "2025-02-05T20:56:26.832148Z",
          "iopub.status.busy": "2025-02-05T20:56:26.831765Z",
          "iopub.status.idle": "2025-02-05T20:56:26.838130Z",
          "shell.execute_reply": "2025-02-05T20:56:26.837159Z"
        },
        "papermill": {
          "duration": 0.016253,
          "end_time": "2025-02-05T20:56:26.839599",
          "exception": false,
          "start_time": "2025-02-05T20:56:26.823346",
          "status": "completed"
        },
        "tags": [],
        "id": "40b75eed",
        "outputId": "e97e129e-43fa-468a-9cbc-ec4e5c495b51"
      },
      "outputs": [
        {
          "data": {
            "text/plain": [
              "'/kaggle/working/BirdDetector-1'"
            ]
          },
          "execution_count": 6,
          "metadata": {},
          "output_type": "execute_result"
        }
      ],
      "source": [
        "dataset.location"
      ]
    },
    {
      "cell_type": "code",
      "execution_count": null,
      "id": "b9200280",
      "metadata": {
        "execution": {
          "iopub.execute_input": "2025-02-05T20:56:26.855866Z",
          "iopub.status.busy": "2025-02-05T20:56:26.855492Z",
          "iopub.status.idle": "2025-02-06T03:14:53.806919Z",
          "shell.execute_reply": "2025-02-06T03:14:53.805574Z"
        },
        "papermill": {
          "duration": 22706.961535,
          "end_time": "2025-02-06T03:14:53.808804",
          "exception": false,
          "start_time": "2025-02-05T20:56:26.847269",
          "status": "completed"
        },
        "tags": [],
        "id": "b9200280",
        "outputId": "6706320b-57b8-4dd0-8b6f-dddf97e1adbd"
      },
      "outputs": [
        {
          "name": "stdout",
          "output_type": "stream",
          "text": [
            "Downloading https://github.com/ultralytics/assets/releases/download/v8.3.0/yolo11l.pt to 'yolo11l.pt'...\r\n",
            "100%|███████████████████████████████████████| 49.0M/49.0M [00:00<00:00, 226MB/s]\r\n",
            "Ultralytics 8.3.71 🚀 Python-3.10.12 torch-2.5.1+cu121 CUDA:0 (Tesla P100-PCIE-16GB, 16269MiB)\r\n",
            "\u001b[34m\u001b[1mengine/trainer: \u001b[0mtask=detect, mode=train, model=yolo11l.pt, data=/kaggle/working/BirdDetector-1/data.yaml, epochs=100, time=None, patience=100, batch=16, imgsz=640, save=True, save_period=-1, cache=False, device=None, workers=8, project=None, name=train, exist_ok=False, pretrained=True, optimizer=auto, verbose=True, seed=0, deterministic=True, single_cls=False, rect=False, cos_lr=False, close_mosaic=10, resume=False, amp=True, fraction=1.0, profile=False, freeze=None, multi_scale=False, overlap_mask=True, mask_ratio=4, dropout=0.0, val=True, split=val, save_json=False, save_hybrid=False, conf=None, iou=0.7, max_det=300, half=False, dnn=False, plots=True, source=None, vid_stride=1, stream_buffer=False, visualize=False, augment=False, agnostic_nms=False, classes=None, retina_masks=False, embed=None, show=False, save_frames=False, save_txt=False, save_conf=False, save_crop=False, show_labels=True, show_conf=True, show_boxes=True, line_width=None, format=torchscript, keras=False, optimize=False, int8=False, dynamic=False, simplify=True, opset=None, workspace=None, nms=False, lr0=0.01, lrf=0.01, momentum=0.937, weight_decay=0.0005, warmup_epochs=3.0, warmup_momentum=0.8, warmup_bias_lr=0.1, box=7.5, cls=0.5, dfl=1.5, pose=12.0, kobj=1.0, nbs=64, hsv_h=0.015, hsv_s=0.7, hsv_v=0.4, degrees=0.0, translate=0.1, scale=0.5, shear=0.0, perspective=0.0, flipud=0.0, fliplr=0.5, bgr=0.0, mosaic=1.0, mixup=0.0, copy_paste=0.0, copy_paste_mode=flip, auto_augment=randaugment, erasing=0.4, crop_fraction=1.0, cfg=None, tracker=botsort.yaml, save_dir=runs/detect/train\r\n",
            "Downloading https://ultralytics.com/assets/Arial.ttf to '/root/.config/Ultralytics/Arial.ttf'...\r\n",
            "100%|████████████████████████████████████████| 755k/755k [00:00<00:00, 17.9MB/s]\r\n",
            "Overriding model.yaml nc=80 with nc=1\r\n",
            "\r\n",
            "                   from  n    params  module                                       arguments                     \r\n",
            "  0                  -1  1      1856  ultralytics.nn.modules.conv.Conv             [3, 64, 3, 2]                 \r\n",
            "  1                  -1  1     73984  ultralytics.nn.modules.conv.Conv             [64, 128, 3, 2]               \r\n",
            "  2                  -1  2    173824  ultralytics.nn.modules.block.C3k2            [128, 256, 2, True, 0.25]     \r\n",
            "  3                  -1  1    590336  ultralytics.nn.modules.conv.Conv             [256, 256, 3, 2]              \r\n",
            "  4                  -1  2    691712  ultralytics.nn.modules.block.C3k2            [256, 512, 2, True, 0.25]     \r\n",
            "  5                  -1  1   2360320  ultralytics.nn.modules.conv.Conv             [512, 512, 3, 2]              \r\n",
            "  6                  -1  2   2234368  ultralytics.nn.modules.block.C3k2            [512, 512, 2, True]           \r\n",
            "  7                  -1  1   2360320  ultralytics.nn.modules.conv.Conv             [512, 512, 3, 2]              \r\n",
            "  8                  -1  2   2234368  ultralytics.nn.modules.block.C3k2            [512, 512, 2, True]           \r\n",
            "  9                  -1  1    656896  ultralytics.nn.modules.block.SPPF            [512, 512, 5]                 \r\n",
            " 10                  -1  2   1455616  ultralytics.nn.modules.block.C2PSA           [512, 512, 2]                 \r\n",
            " 11                  -1  1         0  torch.nn.modules.upsampling.Upsample         [None, 2, 'nearest']          \r\n",
            " 12             [-1, 6]  1         0  ultralytics.nn.modules.conv.Concat           [1]                           \r\n",
            " 13                  -1  2   2496512  ultralytics.nn.modules.block.C3k2            [1024, 512, 2, True]          \r\n",
            " 14                  -1  1         0  torch.nn.modules.upsampling.Upsample         [None, 2, 'nearest']          \r\n",
            " 15             [-1, 4]  1         0  ultralytics.nn.modules.conv.Concat           [1]                           \r\n",
            " 16                  -1  2    756736  ultralytics.nn.modules.block.C3k2            [1024, 256, 2, True]          \r\n",
            " 17                  -1  1    590336  ultralytics.nn.modules.conv.Conv             [256, 256, 3, 2]              \r\n",
            " 18            [-1, 13]  1         0  ultralytics.nn.modules.conv.Concat           [1]                           \r\n",
            " 19                  -1  2   2365440  ultralytics.nn.modules.block.C3k2            [768, 512, 2, True]           \r\n",
            " 20                  -1  1   2360320  ultralytics.nn.modules.conv.Conv             [512, 512, 3, 2]              \r\n",
            " 21            [-1, 10]  1         0  ultralytics.nn.modules.conv.Concat           [1]                           \r\n",
            " 22                  -1  2   2496512  ultralytics.nn.modules.block.C3k2            [1024, 512, 2, True]          \r\n",
            " 23        [16, 19, 22]  1   1411795  ultralytics.nn.modules.head.Detect           [1, [256, 512, 512]]          \r\n",
            "YOLO11l summary: 631 layers, 25,311,251 parameters, 25,311,235 gradients, 87.3 GFLOPs\r\n",
            "\r\n",
            "Transferred 1009/1015 items from pretrained weights\r\n",
            "\u001b[34m\u001b[1mTensorBoard: \u001b[0mStart with 'tensorboard --logdir runs/detect/train', view at http://localhost:6006/\r\n",
            "Freezing layer 'model.23.dfl.conv.weight'\r\n",
            "\u001b[34m\u001b[1mAMP: \u001b[0mrunning Automatic Mixed Precision (AMP) checks...\r\n",
            "Downloading https://github.com/ultralytics/assets/releases/download/v8.3.0/yolo11n.pt to 'yolo11n.pt'...\r\n",
            "100%|██████████████████████████████████████| 5.35M/5.35M [00:00<00:00, 75.5MB/s]\r\n",
            "\u001b[34m\u001b[1mAMP: \u001b[0mchecks passed ✅\r\n",
            "\u001b[34m\u001b[1mtrain: \u001b[0mScanning /kaggle/working/BirdDetector-1/train/labels... 3753 images, 0 ba\u001b[0m\r\n",
            "\u001b[34m\u001b[1mtrain: \u001b[0mNew cache created: /kaggle/working/BirdDetector-1/train/labels.cache\r\n",
            "/usr/local/lib/python3.10/dist-packages/albumentations/__init__.py:24: UserWarning: A new version of Albumentations is available: 2.0.3 (you have 1.4.20). Upgrade using: pip install -U albumentations. To disable automatic update checks, set the environment variable NO_ALBUMENTATIONS_UPDATE to 1.\r\n",
            "  check_for_updates()\r\n",
            "\u001b[34m\u001b[1malbumentations: \u001b[0mBlur(p=0.01, blur_limit=(3, 7)), MedianBlur(p=0.01, blur_limit=(3, 7)), ToGray(p=0.01, num_output_channels=3, method='weighted_average'), CLAHE(p=0.01, clip_limit=(1.0, 4.0), tile_grid_size=(8, 8))\r\n",
            "\u001b[34m\u001b[1mval: \u001b[0mScanning /kaggle/working/BirdDetector-1/valid/labels... 205 images, 0 backg\u001b[0m\r\n",
            "\u001b[34m\u001b[1mval: \u001b[0mNew cache created: /kaggle/working/BirdDetector-1/valid/labels.cache\r\n",
            "Plotting labels to runs/detect/train/labels.jpg... \r\n",
            "\u001b[34m\u001b[1moptimizer:\u001b[0m 'optimizer=auto' found, ignoring 'lr0=0.01' and 'momentum=0.937' and determining best 'optimizer', 'lr0' and 'momentum' automatically... \r\n",
            "\u001b[34m\u001b[1moptimizer:\u001b[0m AdamW(lr=0.002, momentum=0.9) with parameter groups 167 weight(decay=0.0), 174 weight(decay=0.0005), 173 bias(decay=0.0)\r\n",
            "\u001b[34m\u001b[1mTensorBoard: \u001b[0mmodel graph visualization added ✅\r\n",
            "Image sizes 640 train, 640 val\r\n",
            "Using 4 dataloader workers\r\n",
            "Logging results to \u001b[1mruns/detect/train\u001b[0m\r\n",
            "Starting training for 100 epochs...\r\n",
            "\r\n",
            "      Epoch    GPU_mem   box_loss   cls_loss   dfl_loss  Instances       Size\r\n",
            "      1/100      11.1G      1.647      1.873      2.044         23        640: 1\r\n",
            "                 Class     Images  Instances      Box(P          R      mAP50  m\r\n",
            "                   all        205        205     0.0749      0.102      0.024    0.00629\r\n",
            "\r\n",
            "      Epoch    GPU_mem   box_loss   cls_loss   dfl_loss  Instances       Size\r\n",
            "      2/100        11G      1.816      1.996      2.124         19        640: 1\r\n",
            "                 Class     Images  Instances      Box(P          R      mAP50  m\r\n",
            "                   all        205        205      0.261      0.346       0.19     0.0538\r\n",
            "\r\n",
            "      Epoch    GPU_mem   box_loss   cls_loss   dfl_loss  Instances       Size\r\n",
            "      3/100      11.1G      1.723      1.861      2.042         25        640: 1\r\n",
            "                 Class     Images  Instances      Box(P          R      mAP50  m\r\n",
            "                   all        205        205      0.542      0.473      0.462      0.177\r\n",
            "\r\n",
            "      Epoch    GPU_mem   box_loss   cls_loss   dfl_loss  Instances       Size\r\n",
            "      4/100      11.1G      1.644      1.722      1.964         21        640: 1\r\n",
            "                 Class     Images  Instances      Box(P          R      mAP50  m\r\n",
            "                   all        205        205      0.788      0.629      0.763      0.319\r\n",
            "\r\n",
            "      Epoch    GPU_mem   box_loss   cls_loss   dfl_loss  Instances       Size\r\n",
            "      5/100        11G      1.577      1.599      1.899         15        640: 1\r\n",
            "                 Class     Images  Instances      Box(P          R      mAP50  m\r\n",
            "                   all        205        205      0.796      0.645      0.776      0.343\r\n",
            "\r\n",
            "      Epoch    GPU_mem   box_loss   cls_loss   dfl_loss  Instances       Size\r\n",
            "      6/100      11.1G      1.536      1.549      1.865         16        640: 1\r\n",
            "                 Class     Images  Instances      Box(P          R      mAP50  m\r\n",
            "                   all        205        205      0.684      0.643      0.705      0.342\r\n",
            "\r\n",
            "      Epoch    GPU_mem   box_loss   cls_loss   dfl_loss  Instances       Size\r\n",
            "      7/100      11.2G       1.51      1.503      1.849         21        640: 1\r\n",
            "                 Class     Images  Instances      Box(P          R      mAP50  m\r\n",
            "                   all        205        205      0.789      0.771      0.846      0.439\r\n",
            "\r\n",
            "      Epoch    GPU_mem   box_loss   cls_loss   dfl_loss  Instances       Size\r\n",
            "      8/100      11.1G      1.481      1.449      1.808         21        640: 1\r\n",
            "                 Class     Images  Instances      Box(P          R      mAP50  m\r\n",
            "                   all        205        205      0.843      0.762      0.859      0.412\r\n",
            "\r\n",
            "      Epoch    GPU_mem   box_loss   cls_loss   dfl_loss  Instances       Size\r\n",
            "      9/100        11G      1.452      1.425      1.791         24        640: 1\r\n",
            "                 Class     Images  Instances      Box(P          R      mAP50  m\r\n",
            "                   all        205        205      0.623      0.659      0.659      0.243\r\n",
            "\r\n",
            "      Epoch    GPU_mem   box_loss   cls_loss   dfl_loss  Instances       Size\r\n",
            "     10/100      11.1G      1.416       1.36      1.766         22        640: 1\r\n",
            "                 Class     Images  Instances      Box(P          R      mAP50  m\r\n",
            "                   all        205        205      0.853      0.795      0.878      0.511\r\n",
            "\r\n",
            "      Epoch    GPU_mem   box_loss   cls_loss   dfl_loss  Instances       Size\r\n",
            "     11/100      11.2G        1.4      1.335      1.748         12        640: 1\r\n",
            "                 Class     Images  Instances      Box(P          R      mAP50  m\r\n",
            "                   all        205        205      0.803      0.814      0.888      0.489\r\n",
            "\r\n",
            "      Epoch    GPU_mem   box_loss   cls_loss   dfl_loss  Instances       Size\r\n",
            "     12/100      11.2G      1.375      1.297      1.725         18        640: 1\r\n",
            "                 Class     Images  Instances      Box(P          R      mAP50  m\r\n",
            "                   all        205        205       0.87      0.846      0.893      0.477\r\n",
            "\r\n",
            "      Epoch    GPU_mem   box_loss   cls_loss   dfl_loss  Instances       Size\r\n",
            "     13/100      11.2G      1.356      1.258      1.712         21        640: 1\r\n",
            "                 Class     Images  Instances      Box(P          R      mAP50  m\r\n",
            "                   all        205        205      0.927      0.863      0.938       0.54\r\n",
            "\r\n",
            "      Epoch    GPU_mem   box_loss   cls_loss   dfl_loss  Instances       Size\r\n",
            "     14/100      11.1G      1.338      1.214      1.692         16        640: 1\r\n",
            "                 Class     Images  Instances      Box(P          R      mAP50  m\r\n",
            "                   all        205        205      0.887       0.84      0.927      0.611\r\n",
            "\r\n",
            "      Epoch    GPU_mem   box_loss   cls_loss   dfl_loss  Instances       Size\r\n",
            "     15/100        11G      1.317      1.214      1.671         16        640: 1\r\n",
            "                 Class     Images  Instances      Box(P          R      mAP50  m\r\n",
            "                   all        205        205      0.893      0.855      0.945       0.62\r\n",
            "\r\n",
            "      Epoch    GPU_mem   box_loss   cls_loss   dfl_loss  Instances       Size\r\n",
            "     16/100      11.1G      1.296      1.174      1.656         18        640: 1\r\n",
            "                 Class     Images  Instances      Box(P          R      mAP50  m\r\n",
            "                   all        205        205      0.905      0.868      0.942      0.627\r\n",
            "\r\n",
            "      Epoch    GPU_mem   box_loss   cls_loss   dfl_loss  Instances       Size\r\n",
            "     17/100      10.9G      1.281      1.157      1.651         24        640: 1\r\n",
            "                 Class     Images  Instances      Box(P          R      mAP50  m\r\n",
            "                   all        205        205      0.904      0.893      0.953      0.634\r\n",
            "\r\n",
            "      Epoch    GPU_mem   box_loss   cls_loss   dfl_loss  Instances       Size\r\n",
            "     18/100      10.9G      1.276      1.144      1.639         16        640: 1\r\n",
            "                 Class     Images  Instances      Box(P          R      mAP50  m\r\n",
            "                   all        205        205      0.888      0.893      0.961      0.647\r\n",
            "\r\n",
            "      Epoch    GPU_mem   box_loss   cls_loss   dfl_loss  Instances       Size\r\n",
            "     19/100        11G      1.249       1.12      1.618         23        640: 1\r\n",
            "                 Class     Images  Instances      Box(P          R      mAP50  m\r\n",
            "                   all        205        205       0.93      0.909      0.963      0.686\r\n",
            "\r\n",
            "      Epoch    GPU_mem   box_loss   cls_loss   dfl_loss  Instances       Size\r\n",
            "     20/100      11.2G      1.233      1.097      1.607         24        640: 1\r\n",
            "                 Class     Images  Instances      Box(P          R      mAP50  m\r\n",
            "                   all        205        205      0.914      0.907      0.971      0.665\r\n",
            "\r\n",
            "      Epoch    GPU_mem   box_loss   cls_loss   dfl_loss  Instances       Size\r\n",
            "     21/100        11G      1.212      1.072      1.586         18        640: 1\r\n",
            "                 Class     Images  Instances      Box(P          R      mAP50  m\r\n",
            "                   all        205        205      0.947      0.875      0.962      0.682\r\n",
            "\r\n",
            "      Epoch    GPU_mem   box_loss   cls_loss   dfl_loss  Instances       Size\r\n",
            "     22/100      10.9G      1.197      1.051      1.579         20        640: 1\r\n",
            "                 Class     Images  Instances      Box(P          R      mAP50  m\r\n",
            "                   all        205        205      0.927      0.888      0.964      0.695\r\n",
            "\r\n",
            "      Epoch    GPU_mem   box_loss   cls_loss   dfl_loss  Instances       Size\r\n",
            "     23/100      11.2G      1.195      1.027      1.576         25        640: 1\r\n",
            "                 Class     Images  Instances      Box(P          R      mAP50  m\r\n",
            "                   all        205        205      0.944      0.888      0.965      0.715\r\n",
            "\r\n",
            "      Epoch    GPU_mem   box_loss   cls_loss   dfl_loss  Instances       Size\r\n",
            "     24/100      10.9G      1.165      1.018      1.548         24        640: 1\r\n",
            "                 Class     Images  Instances      Box(P          R      mAP50  m\r\n",
            "                   all        205        205      0.946      0.946      0.977      0.711\r\n",
            "\r\n",
            "      Epoch    GPU_mem   box_loss   cls_loss   dfl_loss  Instances       Size\r\n",
            "     25/100      10.9G      1.166      1.015      1.554         22        640: 1\r\n",
            "                 Class     Images  Instances      Box(P          R      mAP50  m\r\n",
            "                   all        205        205      0.934      0.898      0.963      0.697\r\n",
            "\r\n",
            "      Epoch    GPU_mem   box_loss   cls_loss   dfl_loss  Instances       Size\r\n",
            "     26/100        11G      1.151     0.9938      1.541         18        640: 1\r\n",
            "                 Class     Images  Instances      Box(P          R      mAP50  m\r\n",
            "                   all        205        205      0.947      0.875       0.97      0.724\r\n",
            "\r\n",
            "      Epoch    GPU_mem   box_loss   cls_loss   dfl_loss  Instances       Size\r\n",
            "     27/100        11G      1.137     0.9741      1.529         21        640: 1\r\n",
            "                 Class     Images  Instances      Box(P          R      mAP50  m\r\n",
            "                   all        205        205      0.931      0.917      0.968      0.736\r\n",
            "\r\n",
            "      Epoch    GPU_mem   box_loss   cls_loss   dfl_loss  Instances       Size\r\n",
            "     28/100      10.9G      1.147     0.9812      1.537         16        640: 1\r\n",
            "                 Class     Images  Instances      Box(P          R      mAP50  m\r\n",
            "                   all        205        205      0.954      0.941      0.987      0.757\r\n",
            "\r\n",
            "      Epoch    GPU_mem   box_loss   cls_loss   dfl_loss  Instances       Size\r\n",
            "     29/100      10.9G      1.139     0.9473      1.525         21        640: 1\r\n",
            "                 Class     Images  Instances      Box(P          R      mAP50  m\r\n",
            "                   all        205        205       0.89      0.922      0.966      0.732\r\n",
            "\r\n",
            "      Epoch    GPU_mem   box_loss   cls_loss   dfl_loss  Instances       Size\r\n",
            "     30/100        11G      1.104     0.9425      1.506         16        640: 1\r\n",
            "                 Class     Images  Instances      Box(P          R      mAP50  m\r\n",
            "                   all        205        205      0.926       0.92      0.977      0.757\r\n",
            "\r\n",
            "      Epoch    GPU_mem   box_loss   cls_loss   dfl_loss  Instances       Size\r\n",
            "     31/100      10.9G      1.089     0.9126      1.492         16        640: 1\r\n",
            "                 Class     Images  Instances      Box(P          R      mAP50  m\r\n",
            "                   all        205        205      0.955      0.929      0.981      0.768\r\n",
            "\r\n",
            "      Epoch    GPU_mem   box_loss   cls_loss   dfl_loss  Instances       Size\r\n",
            "     32/100      10.9G      1.107     0.9233        1.5         25        640: 1\r\n",
            "                 Class     Images  Instances      Box(P          R      mAP50  m\r\n",
            "                   all        205        205       0.94      0.932      0.981      0.794\r\n",
            "\r\n",
            "      Epoch    GPU_mem   box_loss   cls_loss   dfl_loss  Instances       Size\r\n",
            "     33/100      11.2G      1.084      0.912       1.49         21        640: 1\r\n",
            "                 Class     Images  Instances      Box(P          R      mAP50  m\r\n",
            "                   all        205        205      0.945      0.923      0.982      0.749\r\n",
            "\r\n",
            "      Epoch    GPU_mem   box_loss   cls_loss   dfl_loss  Instances       Size\r\n",
            "     34/100      10.9G      1.074      0.885      1.475         25        640: 1\r\n",
            "                 Class     Images  Instances      Box(P          R      mAP50  m\r\n",
            "                   all        205        205      0.971      0.912      0.981      0.783\r\n",
            "\r\n",
            "      Epoch    GPU_mem   box_loss   cls_loss   dfl_loss  Instances       Size\r\n",
            "     35/100        11G      1.063     0.8679      1.466         23        640: 1\r\n",
            "                 Class     Images  Instances      Box(P          R      mAP50  m\r\n",
            "                   all        205        205      0.979      0.926      0.985      0.805\r\n",
            "\r\n",
            "      Epoch    GPU_mem   box_loss   cls_loss   dfl_loss  Instances       Size\r\n",
            "     36/100      10.9G      1.055      0.881      1.455         19        640: 1\r\n",
            "                 Class     Images  Instances      Box(P          R      mAP50  m\r\n",
            "                   all        205        205      0.934      0.951      0.983      0.801\r\n",
            "\r\n",
            "      Epoch    GPU_mem   box_loss   cls_loss   dfl_loss  Instances       Size\r\n",
            "     37/100      10.9G      1.054     0.8518      1.454         19        640: 1\r\n",
            "                 Class     Images  Instances      Box(P          R      mAP50  m\r\n",
            "                   all        205        205      0.915      0.961       0.98       0.78\r\n",
            "\r\n",
            "      Epoch    GPU_mem   box_loss   cls_loss   dfl_loss  Instances       Size\r\n",
            "     38/100      10.9G      1.034     0.8491      1.439         21        640: 1\r\n",
            "                 Class     Images  Instances      Box(P          R      mAP50  m\r\n",
            "                   all        205        205      0.971      0.946      0.981      0.784\r\n",
            "\r\n",
            "      Epoch    GPU_mem   box_loss   cls_loss   dfl_loss  Instances       Size\r\n",
            "     39/100        11G      1.036     0.8468      1.441         22        640: 1\r\n",
            "                 Class     Images  Instances      Box(P          R      mAP50  m\r\n",
            "                   all        205        205      0.926      0.974      0.988      0.805\r\n",
            "\r\n",
            "      Epoch    GPU_mem   box_loss   cls_loss   dfl_loss  Instances       Size\r\n",
            "     40/100      11.2G      1.026     0.8338      1.436         16        640: 1\r\n",
            "                 Class     Images  Instances      Box(P          R      mAP50  m\r\n",
            "                   all        205        205      0.938      0.937      0.986      0.784\r\n",
            "\r\n",
            "      Epoch    GPU_mem   box_loss   cls_loss   dfl_loss  Instances       Size\r\n",
            "     41/100      10.9G      1.016     0.8173      1.428         26        640: 1\r\n",
            "                 Class     Images  Instances      Box(P          R      mAP50  m\r\n",
            "                   all        205        205      0.975      0.938      0.986      0.789\r\n",
            "\r\n",
            "      Epoch    GPU_mem   box_loss   cls_loss   dfl_loss  Instances       Size\r\n",
            "     42/100      10.9G       1.02     0.8299      1.436         16        640: 1\r\n",
            "                 Class     Images  Instances      Box(P          R      mAP50  m\r\n",
            "                   all        205        205       0.96      0.945      0.986       0.79\r\n",
            "\r\n",
            "      Epoch    GPU_mem   box_loss   cls_loss   dfl_loss  Instances       Size\r\n",
            "     43/100      10.9G      1.007      0.822      1.418         15        640: 1\r\n",
            "                 Class     Images  Instances      Box(P          R      mAP50  m\r\n",
            "                   all        205        205      0.963      0.966      0.992      0.816\r\n",
            "\r\n",
            "      Epoch    GPU_mem   box_loss   cls_loss   dfl_loss  Instances       Size\r\n",
            "     44/100      10.9G     0.9981      0.802      1.421         19        640: 1\r\n",
            "                 Class     Images  Instances      Box(P          R      mAP50  m\r\n",
            "                   all        205        205      0.961      0.957      0.988      0.816\r\n",
            "\r\n",
            "      Epoch    GPU_mem   box_loss   cls_loss   dfl_loss  Instances       Size\r\n",
            "     45/100      10.9G     0.9964     0.7955      1.415         18        640: 1\r\n",
            "                 Class     Images  Instances      Box(P          R      mAP50  m\r\n",
            "                   all        205        205      0.969      0.928      0.988       0.82\r\n",
            "\r\n",
            "      Epoch    GPU_mem   box_loss   cls_loss   dfl_loss  Instances       Size\r\n",
            "     46/100      10.9G     0.9827     0.7937      1.405         21        640: 1\r\n",
            "                 Class     Images  Instances      Box(P          R      mAP50  m\r\n",
            "                   all        205        205      0.961      0.961      0.989      0.807\r\n",
            "\r\n",
            "      Epoch    GPU_mem   box_loss   cls_loss   dfl_loss  Instances       Size\r\n",
            "     47/100      10.9G     0.9532     0.7616      1.387         25        640: 1\r\n",
            "                 Class     Images  Instances      Box(P          R      mAP50  m\r\n",
            "                   all        205        205      0.961      0.971      0.989      0.814\r\n",
            "\r\n",
            "      Epoch    GPU_mem   box_loss   cls_loss   dfl_loss  Instances       Size\r\n",
            "     48/100      10.9G     0.9565     0.7603       1.38         20        640: 1\r\n",
            "                 Class     Images  Instances      Box(P          R      mAP50  m\r\n",
            "                   all        205        205      0.966      0.961      0.989      0.828\r\n",
            "\r\n",
            "      Epoch    GPU_mem   box_loss   cls_loss   dfl_loss  Instances       Size\r\n",
            "     49/100      10.9G     0.9478     0.7561      1.373         21        640: 1\r\n",
            "                 Class     Images  Instances      Box(P          R      mAP50  m\r\n",
            "                   all        205        205       0.97      0.939       0.99      0.831\r\n",
            "\r\n",
            "      Epoch    GPU_mem   box_loss   cls_loss   dfl_loss  Instances       Size\r\n",
            "     50/100      10.9G     0.9483     0.7569      1.381         19        640: 1\r\n",
            "                 Class     Images  Instances      Box(P          R      mAP50  m\r\n",
            "                   all        205        205      0.959      0.956       0.99      0.814\r\n",
            "\r\n",
            "      Epoch    GPU_mem   box_loss   cls_loss   dfl_loss  Instances       Size\r\n",
            "     51/100        11G     0.9463     0.7443       1.37         29        640: 1\r\n",
            "                 Class     Images  Instances      Box(P          R      mAP50  m\r\n",
            "                   all        205        205      0.948      0.972       0.99      0.812\r\n",
            "\r\n",
            "      Epoch    GPU_mem   box_loss   cls_loss   dfl_loss  Instances       Size\r\n",
            "     52/100      11.1G     0.9227     0.7463      1.362         27        640: 1\r\n",
            "                 Class     Images  Instances      Box(P          R      mAP50  m\r\n",
            "                   all        205        205       0.95      0.971       0.99      0.827\r\n",
            "\r\n",
            "      Epoch    GPU_mem   box_loss   cls_loss   dfl_loss  Instances       Size\r\n",
            "     53/100      10.9G     0.9388     0.7354      1.366         22        640: 1\r\n",
            "                 Class     Images  Instances      Box(P          R      mAP50  m\r\n",
            "                   all        205        205      0.961      0.971      0.991      0.846\r\n",
            "\r\n",
            "      Epoch    GPU_mem   box_loss   cls_loss   dfl_loss  Instances       Size\r\n",
            "     54/100      10.9G     0.9344     0.7335      1.369         23        640: 1\r\n",
            "                 Class     Images  Instances      Box(P          R      mAP50  m\r\n",
            "                   all        205        205      0.937      0.943      0.986      0.819\r\n",
            "\r\n",
            "      Epoch    GPU_mem   box_loss   cls_loss   dfl_loss  Instances       Size\r\n",
            "     55/100        11G     0.9199     0.7215      1.358         23        640: 1\r\n",
            "                 Class     Images  Instances      Box(P          R      mAP50  m\r\n",
            "                   all        205        205      0.955      0.971       0.99      0.823\r\n",
            "\r\n",
            "      Epoch    GPU_mem   box_loss   cls_loss   dfl_loss  Instances       Size\r\n",
            "     56/100      10.9G     0.9138     0.7278       1.35         15        640: 1\r\n",
            "                 Class     Images  Instances      Box(P          R      mAP50  m\r\n",
            "                   all        205        205      0.966      0.965       0.99      0.826\r\n",
            "\r\n",
            "      Epoch    GPU_mem   box_loss   cls_loss   dfl_loss  Instances       Size\r\n",
            "     57/100      10.9G     0.9019     0.7033      1.338         18        640: 1\r\n",
            "                 Class     Images  Instances      Box(P          R      mAP50  m\r\n",
            "                   all        205        205      0.965      0.953      0.988       0.85\r\n",
            "\r\n",
            "      Epoch    GPU_mem   box_loss   cls_loss   dfl_loss  Instances       Size\r\n",
            "     58/100      10.9G     0.8993     0.7005      1.339         26        640: 1\r\n",
            "                 Class     Images  Instances      Box(P          R      mAP50  m\r\n",
            "                   all        205        205      0.995      0.954      0.992      0.842\r\n",
            "\r\n",
            "      Epoch    GPU_mem   box_loss   cls_loss   dfl_loss  Instances       Size\r\n",
            "     59/100      10.9G     0.8943     0.7021       1.34         20        640: 1\r\n",
            "                 Class     Images  Instances      Box(P          R      mAP50  m\r\n",
            "                   all        205        205      0.983      0.956      0.989       0.85\r\n",
            "\r\n",
            "      Epoch    GPU_mem   box_loss   cls_loss   dfl_loss  Instances       Size\r\n",
            "     60/100      10.9G     0.8947     0.6877      1.341         22        640: 1\r\n",
            "                 Class     Images  Instances      Box(P          R      mAP50  m\r\n",
            "                   all        205        205      0.977      0.971      0.989      0.838\r\n",
            "\r\n",
            "      Epoch    GPU_mem   box_loss   cls_loss   dfl_loss  Instances       Size\r\n",
            "     61/100      10.9G     0.8903     0.6869      1.336         21        640: 1\r\n",
            "                 Class     Images  Instances      Box(P          R      mAP50  m\r\n",
            "                   all        205        205      0.989      0.985      0.994      0.835\r\n",
            "\r\n",
            "      Epoch    GPU_mem   box_loss   cls_loss   dfl_loss  Instances       Size\r\n",
            "     62/100      10.9G     0.8811     0.6878      1.328         23        640: 1\r\n",
            "                 Class     Images  Instances      Box(P          R      mAP50  m\r\n",
            "                   all        205        205      0.985      0.961      0.993      0.846\r\n",
            "\r\n",
            "      Epoch    GPU_mem   box_loss   cls_loss   dfl_loss  Instances       Size\r\n",
            "     63/100      10.9G     0.8719      0.673      1.321         24        640: 1\r\n",
            "                 Class     Images  Instances      Box(P          R      mAP50  m\r\n",
            "                   all        205        205       0.98      0.943      0.991      0.844\r\n",
            "\r\n",
            "      Epoch    GPU_mem   box_loss   cls_loss   dfl_loss  Instances       Size\r\n",
            "     64/100      10.9G     0.8754     0.6798      1.322         17        640: 1\r\n",
            "                 Class     Images  Instances      Box(P          R      mAP50  m\r\n",
            "                   all        205        205       0.97       0.96      0.991       0.84\r\n",
            "\r\n",
            "      Epoch    GPU_mem   box_loss   cls_loss   dfl_loss  Instances       Size\r\n",
            "     65/100      10.9G     0.8636     0.6637      1.308         23        640: 1\r\n",
            "                 Class     Images  Instances      Box(P          R      mAP50  m\r\n",
            "                   all        205        205       0.97       0.98      0.992      0.844\r\n",
            "\r\n",
            "      Epoch    GPU_mem   box_loss   cls_loss   dfl_loss  Instances       Size\r\n",
            "     66/100      10.9G     0.8529     0.6526      1.305         21        640: 1\r\n",
            "                 Class     Images  Instances      Box(P          R      mAP50  m\r\n",
            "                   all        205        205      0.948       0.98      0.991       0.85\r\n",
            "\r\n",
            "      Epoch    GPU_mem   box_loss   cls_loss   dfl_loss  Instances       Size\r\n",
            "     67/100      10.9G     0.8443     0.6412        1.3         22        640: 1\r\n",
            "                 Class     Images  Instances      Box(P          R      mAP50  m\r\n",
            "                   all        205        205      0.971      0.977      0.992      0.839\r\n",
            "\r\n",
            "      Epoch    GPU_mem   box_loss   cls_loss   dfl_loss  Instances       Size\r\n",
            "     68/100      10.9G     0.8514     0.6399      1.302         23        640: 1\r\n",
            "                 Class     Images  Instances      Box(P          R      mAP50  m\r\n",
            "                   all        205        205      0.966      0.971      0.992      0.848\r\n",
            "\r\n",
            "      Epoch    GPU_mem   box_loss   cls_loss   dfl_loss  Instances       Size\r\n",
            "     69/100      10.9G     0.8535     0.6556      1.308         21        640: 1\r\n",
            "                 Class     Images  Instances      Box(P          R      mAP50  m\r\n",
            "                   all        205        205      0.966      0.978      0.992      0.841\r\n",
            "\r\n",
            "      Epoch    GPU_mem   box_loss   cls_loss   dfl_loss  Instances       Size\r\n",
            "     70/100      10.9G     0.8583      0.646      1.314         21        640: 1\r\n",
            "                 Class     Images  Instances      Box(P          R      mAP50  m\r\n",
            "                   all        205        205      0.976      0.966      0.993      0.851\r\n",
            "\r\n",
            "      Epoch    GPU_mem   box_loss   cls_loss   dfl_loss  Instances       Size\r\n",
            "     71/100      11.2G     0.8385     0.6363      1.292         20        640: 1\r\n",
            "                 Class     Images  Instances      Box(P          R      mAP50  m\r\n",
            "                   all        205        205      0.944      0.984      0.992      0.859\r\n",
            "\r\n",
            "      Epoch    GPU_mem   box_loss   cls_loss   dfl_loss  Instances       Size\r\n",
            "     72/100      10.9G     0.8361     0.6216      1.291         18        640: 1\r\n",
            "                 Class     Images  Instances      Box(P          R      mAP50  m\r\n",
            "                   all        205        205      0.994      0.937      0.991      0.853\r\n",
            "\r\n",
            "      Epoch    GPU_mem   box_loss   cls_loss   dfl_loss  Instances       Size\r\n",
            "     73/100        11G     0.8264     0.6231      1.285         20        640: 1\r\n",
            "                 Class     Images  Instances      Box(P          R      mAP50  m\r\n",
            "                   all        205        205      0.971      0.971      0.992      0.871\r\n",
            "\r\n",
            "      Epoch    GPU_mem   box_loss   cls_loss   dfl_loss  Instances       Size\r\n",
            "     74/100      10.9G     0.8119     0.6214      1.276         20        640: 1\r\n",
            "                 Class     Images  Instances      Box(P          R      mAP50  m\r\n",
            "                   all        205        205      0.985      0.955      0.991      0.864\r\n",
            "\r\n",
            "      Epoch    GPU_mem   box_loss   cls_loss   dfl_loss  Instances       Size\r\n",
            "     75/100      11.2G     0.8179     0.6191       1.29         27        640: 1\r\n",
            "                 Class     Images  Instances      Box(P          R      mAP50  m\r\n",
            "                   all        205        205      0.979      0.976      0.993      0.871\r\n",
            "\r\n",
            "      Epoch    GPU_mem   box_loss   cls_loss   dfl_loss  Instances       Size\r\n",
            "     76/100      10.9G     0.8019     0.6069      1.273         19        640: 1\r\n",
            "                 Class     Images  Instances      Box(P          R      mAP50  m\r\n",
            "                   all        205        205      0.987      0.956      0.991      0.866\r\n",
            "\r\n",
            "      Epoch    GPU_mem   box_loss   cls_loss   dfl_loss  Instances       Size\r\n",
            "     77/100      10.9G     0.8022     0.6001      1.263         26        640: 1\r\n",
            "                 Class     Images  Instances      Box(P          R      mAP50  m\r\n",
            "                   all        205        205      0.975      0.967      0.989      0.858\r\n",
            "\r\n",
            "      Epoch    GPU_mem   box_loss   cls_loss   dfl_loss  Instances       Size\r\n",
            "     78/100      10.9G      0.792     0.6059      1.271         18        640: 1\r\n",
            "                 Class     Images  Instances      Box(P          R      mAP50  m\r\n",
            "                   all        205        205       0.98      0.962      0.992       0.87\r\n",
            "\r\n",
            "      Epoch    GPU_mem   box_loss   cls_loss   dfl_loss  Instances       Size\r\n",
            "     79/100        11G     0.8045     0.6045      1.271         22        640: 1\r\n",
            "                 Class     Images  Instances      Box(P          R      mAP50  m\r\n",
            "                   all        205        205      0.992      0.946      0.992      0.864\r\n",
            "\r\n",
            "      Epoch    GPU_mem   box_loss   cls_loss   dfl_loss  Instances       Size\r\n",
            "     80/100      10.9G       0.78     0.5869      1.257         15        640: 1\r\n",
            "                 Class     Images  Instances      Box(P          R      mAP50  m\r\n",
            "                   all        205        205       0.99      0.952       0.99      0.861\r\n",
            "\r\n",
            "      Epoch    GPU_mem   box_loss   cls_loss   dfl_loss  Instances       Size\r\n",
            "     81/100      10.9G     0.7852     0.5871      1.253         21        640: 1\r\n",
            "                 Class     Images  Instances      Box(P          R      mAP50  m\r\n",
            "                   all        205        205      0.971      0.965      0.991      0.868\r\n",
            "\r\n",
            "      Epoch    GPU_mem   box_loss   cls_loss   dfl_loss  Instances       Size\r\n",
            "     82/100      10.9G     0.7757     0.5857      1.248         21        640: 1\r\n",
            "                 Class     Images  Instances      Box(P          R      mAP50  m\r\n",
            "                   all        205        205      0.977      0.961      0.988      0.863\r\n",
            "\r\n",
            "      Epoch    GPU_mem   box_loss   cls_loss   dfl_loss  Instances       Size\r\n",
            "     83/100        11G     0.7805     0.5787      1.257         22        640: 1\r\n",
            "                 Class     Images  Instances      Box(P          R      mAP50  m\r\n",
            "                   all        205        205      0.984      0.961       0.99      0.863\r\n",
            "\r\n",
            "      Epoch    GPU_mem   box_loss   cls_loss   dfl_loss  Instances       Size\r\n",
            "     84/100      10.9G     0.7754     0.5768      1.246         21        640: 1\r\n",
            "                 Class     Images  Instances      Box(P          R      mAP50  m\r\n",
            "                   all        205        205      0.985      0.945      0.991      0.866\r\n",
            "\r\n",
            "      Epoch    GPU_mem   box_loss   cls_loss   dfl_loss  Instances       Size\r\n",
            "     85/100      10.9G      0.773     0.5754      1.246         17        640: 1\r\n",
            "                 Class     Images  Instances      Box(P          R      mAP50  m\r\n",
            "                   all        205        205      0.994      0.951      0.992      0.874\r\n",
            "\r\n",
            "      Epoch    GPU_mem   box_loss   cls_loss   dfl_loss  Instances       Size\r\n",
            "     86/100      10.9G     0.7726     0.5792       1.25         23        640: 1\r\n",
            "                 Class     Images  Instances      Box(P          R      mAP50  m\r\n",
            "                   all        205        205       0.99      0.963      0.993      0.874\r\n",
            "\r\n",
            "      Epoch    GPU_mem   box_loss   cls_loss   dfl_loss  Instances       Size\r\n",
            "     87/100      10.9G     0.7592     0.5645      1.241         23        640: 1\r\n",
            "                 Class     Images  Instances      Box(P          R      mAP50  m\r\n",
            "                   all        205        205      0.976      0.973      0.992      0.874\r\n",
            "\r\n",
            "      Epoch    GPU_mem   box_loss   cls_loss   dfl_loss  Instances       Size\r\n",
            "     88/100      10.9G     0.7471     0.5597       1.23         32        640: 1\r\n",
            "                 Class     Images  Instances      Box(P          R      mAP50  m\r\n",
            "                   all        205        205      0.989      0.941      0.991       0.87\r\n",
            "\r\n",
            "      Epoch    GPU_mem   box_loss   cls_loss   dfl_loss  Instances       Size\r\n",
            "     89/100      10.9G     0.7527     0.5617      1.237         16        640: 1\r\n",
            "                 Class     Images  Instances      Box(P          R      mAP50  m\r\n",
            "                   all        205        205       0.99       0.94       0.99      0.872\r\n",
            "\r\n",
            "      Epoch    GPU_mem   box_loss   cls_loss   dfl_loss  Instances       Size\r\n",
            "     90/100      10.9G     0.7448     0.5531      1.229         15        640: 1\r\n",
            "                 Class     Images  Instances      Box(P          R      mAP50  m\r\n",
            "                   all        205        205          1      0.944      0.992      0.878\r\n",
            "Closing dataloader mosaic\r\n",
            "\u001b[34m\u001b[1malbumentations: \u001b[0mBlur(p=0.01, blur_limit=(3, 7)), MedianBlur(p=0.01, blur_limit=(3, 7)), ToGray(p=0.01, num_output_channels=3, method='weighted_average'), CLAHE(p=0.01, clip_limit=(1.0, 4.0), tile_grid_size=(8, 8))\r\n",
            "\r\n",
            "      Epoch    GPU_mem   box_loss   cls_loss   dfl_loss  Instances       Size\r\n",
            "     91/100      11.2G     0.5614     0.3022      1.159          9        640: 1\r\n",
            "                 Class     Images  Instances      Box(P          R      mAP50  m\r\n",
            "                   all        205        205      0.994      0.951      0.992      0.881\r\n",
            "\r\n",
            "      Epoch    GPU_mem   box_loss   cls_loss   dfl_loss  Instances       Size\r\n",
            "     92/100      10.9G     0.5478     0.2836      1.148          9        640: 1\r\n",
            "                 Class     Images  Instances      Box(P          R      mAP50  m\r\n",
            "                   all        205        205      0.957      0.968      0.991      0.879\r\n",
            "\r\n",
            "      Epoch    GPU_mem   box_loss   cls_loss   dfl_loss  Instances       Size\r\n",
            "     93/100      10.9G     0.5398     0.2785      1.143          9        640: 1\r\n",
            "                 Class     Images  Instances      Box(P          R      mAP50  m\r\n",
            "                   all        205        205      0.985      0.951      0.991      0.884\r\n",
            "\r\n",
            "      Epoch    GPU_mem   box_loss   cls_loss   dfl_loss  Instances       Size\r\n",
            "     94/100      10.9G     0.5362     0.2716      1.148          9        640: 1\r\n",
            "                 Class     Images  Instances      Box(P          R      mAP50  m\r\n",
            "                   all        205        205      0.978      0.971      0.992      0.886\r\n",
            "\r\n",
            "      Epoch    GPU_mem   box_loss   cls_loss   dfl_loss  Instances       Size\r\n",
            "     95/100      11.2G     0.5164     0.2679      1.127          9        640: 1\r\n",
            "                 Class     Images  Instances      Box(P          R      mAP50  m\r\n",
            "                   all        205        205       0.99      0.955      0.992      0.889\r\n",
            "\r\n",
            "      Epoch    GPU_mem   box_loss   cls_loss   dfl_loss  Instances       Size\r\n",
            "     96/100      10.9G     0.5164     0.2638      1.116          9        640: 1\r\n",
            "                 Class     Images  Instances      Box(P          R      mAP50  m\r\n",
            "                   all        205        205      0.995      0.954      0.991      0.887\r\n",
            "\r\n",
            "      Epoch    GPU_mem   box_loss   cls_loss   dfl_loss  Instances       Size\r\n",
            "     97/100      10.9G     0.5013     0.2584      1.113          9        640: 1\r\n",
            "                 Class     Images  Instances      Box(P          R      mAP50  m\r\n",
            "                   all        205        205      0.977      0.966      0.991      0.884\r\n",
            "\r\n",
            "      Epoch    GPU_mem   box_loss   cls_loss   dfl_loss  Instances       Size\r\n",
            "     98/100      10.9G      0.494     0.2547      1.096          9        640: 1\r\n",
            "                 Class     Images  Instances      Box(P          R      mAP50  m\r\n",
            "                   all        205        205      0.988      0.951       0.99      0.889\r\n",
            "\r\n",
            "      Epoch    GPU_mem   box_loss   cls_loss   dfl_loss  Instances       Size\r\n",
            "     99/100      10.9G     0.4884     0.2542        1.1          9        640: 1\r\n",
            "                 Class     Images  Instances      Box(P          R      mAP50  m\r\n",
            "                   all        205        205      0.976      0.966      0.991      0.893\r\n",
            "\r\n",
            "      Epoch    GPU_mem   box_loss   cls_loss   dfl_loss  Instances       Size\r\n",
            "    100/100      10.9G     0.4827     0.2509       1.09          9        640: 1\r\n",
            "                 Class     Images  Instances      Box(P          R      mAP50  m\r\n",
            "                   all        205        205      0.966      0.972       0.99      0.893\r\n",
            "\r\n",
            "100 epochs completed in 6.292 hours.\r\n",
            "Optimizer stripped from runs/detect/train/weights/last.pt, 51.2MB\r\n",
            "Optimizer stripped from runs/detect/train/weights/best.pt, 51.2MB\r\n",
            "\r\n",
            "Validating runs/detect/train/weights/best.pt...\r\n",
            "Ultralytics 8.3.71 🚀 Python-3.10.12 torch-2.5.1+cu121 CUDA:0 (Tesla P100-PCIE-16GB, 16269MiB)\r\n",
            "YOLO11l summary (fused): 464 layers, 25,280,083 parameters, 0 gradients, 86.6 GFLOPs\r\n",
            "                 Class     Images  Instances      Box(P          R      mAP50  m\r\n",
            "                   all        205        205      0.966      0.973       0.99      0.892\r\n",
            "/usr/local/lib/python3.10/dist-packages/matplotlib/colors.py:721: RuntimeWarning: invalid value encountered in less\r\n",
            "  xa[xa < 0] = -1\r\n",
            "/usr/local/lib/python3.10/dist-packages/matplotlib/colors.py:721: RuntimeWarning: invalid value encountered in less\r\n",
            "  xa[xa < 0] = -1\r\n",
            "Speed: 0.2ms preprocess, 15.3ms inference, 0.0ms loss, 2.9ms postprocess per image\r\n",
            "Results saved to \u001b[1mruns/detect/train\u001b[0m\r\n",
            "💡 Learn more at https://docs.ultralytics.com/modes/train\r\n"
          ]
        }
      ],
      "source": [
        "!yolo task=detect mode=train data={dataset.location}/data.yaml model=\"yolo11l.pt\" epochs=100 imgsz=640 batch=16 plots=True save=True"
      ]
    },
    {
      "cell_type": "code",
      "source": [
        "from google.colab import drive\n",
        "drive.mount('/content/drive')"
      ],
      "metadata": {
        "colab": {
          "base_uri": "https://localhost:8080/"
        },
        "id": "SZ0wVnefn81i",
        "outputId": "4af9998f-1b36-426a-c113-b8f9ebc1a70d"
      },
      "id": "SZ0wVnefn81i",
      "execution_count": 5,
      "outputs": [
        {
          "output_type": "stream",
          "name": "stdout",
          "text": [
            "Drive already mounted at /content/drive; to attempt to forcibly remount, call drive.mount(\"/content/drive\", force_remount=True).\n"
          ]
        }
      ]
    },
    {
      "cell_type": "code",
      "source": [
        "import os\n",
        "import cv2\n",
        "import pandas as pd\n",
        "from PIL import Image\n",
        "from tqdm import tqdm\n",
        "from ultralytics import YOLO\n",
        "\n",
        "# ===========================\n",
        "# CONFIGURATION\n",
        "# ===========================\n",
        "MODEL_PATH = \"/content/drive/MyDrive/bdma-07-competition/best.pt\"  # Path to trained YOLO11L model\n",
        "ROOT_DIR = \"/content/drive/MyDrive/bdma-07-competition/BDMA7_project_files/\"\n",
        "SAVE_DIR = \"/content/drive/MyDrive/bdma-07-competition/BDMA7_project_files/cropped_images/\"\n",
        "RESIZE_SHAPE = (448, 448)  # Resize cropped images to 448x448\n",
        "\n",
        "# Paths to metadata files\n",
        "train_csv = os.path.join(ROOT_DIR, \"train_metadata.csv\")\n",
        "val_csv = os.path.join(ROOT_DIR, \"val_metadata.csv\")\n",
        "train_img_dir = os.path.join(ROOT_DIR, \"train_images\")\n",
        "val_img_dir = os.path.join(ROOT_DIR, \"val_images\")\n",
        "test_img_dir = os.path.join(ROOT_DIR, \"test_images/mistery_cat\")\n",
        "\n",
        "# ===========================\n",
        "# LOAD YOLO MODEL\n",
        "# ===========================\n",
        "model = YOLO(MODEL_PATH)\n",
        "\n",
        "# ===========================\n",
        "# HELPER FUNCTION: CROP, RESIZE, AND SAVE IMAGES\n",
        "# ===========================\n",
        "def crop_resize_save_images(image_paths, save_subdir, is_test=False):\n",
        "    for img_path in tqdm(image_paths, desc=f\"Processing {save_subdir} images\"):\n",
        "        try:\n",
        "            filename = img_path\n",
        "            if not is_test:\n",
        "                class_name = filename.split('/')[7]  # Extract class from folder structure\n",
        "                class_save_dir = os.path.join(SAVE_DIR, save_subdir, class_name)\n",
        "                os.makedirs(class_save_dir, exist_ok=True)\n",
        "                save_path = os.path.join(class_save_dir, filename.split('/')[8])  # Keep original name\n",
        "            else:\n",
        "                test_save_dir = os.path.join(SAVE_DIR, save_subdir)\n",
        "                os.makedirs(test_save_dir, exist_ok=True)\n",
        "                save_path = os.path.join(test_save_dir, filename.split('/')[8])  # Keep original name\n",
        "\n",
        "            # Read image\n",
        "            image = cv2.imread(img_path)\n",
        "            if image is None:\n",
        "                print(f\"Warning: Could not read {img_path}\")\n",
        "                continue\n",
        "\n",
        "            # Run YOLO inference\n",
        "            results = model(img_path)\n",
        "\n",
        "            for result in results:\n",
        "                boxes = result.boxes.xyxy.cpu().numpy()  # Get bounding boxes [x1, y1, x2, y2]\n",
        "                if len(boxes) == 0:\n",
        "                    print(f\"Warning: No objects detected in {img_path}, skipping cropping.\")\n",
        "                    continue  # Skip if no objects detected\n",
        "\n",
        "                # Use the first detected box (assuming one object per image)\n",
        "                x1, y1, x2, y2 = map(int, boxes[0])\n",
        "\n",
        "                # Crop the detected region\n",
        "                cropped_img = image[y1:y2, x1:x2]\n",
        "\n",
        "                # Convert to PIL format, resize, and save\n",
        "                cropped_img_pil = Image.fromarray(cv2.cvtColor(cropped_img, cv2.COLOR_BGR2RGB))\n",
        "                resized_img_pil = cropped_img_pil.resize(RESIZE_SHAPE, Image.Resampling.LANCZOS)\n",
        "                resized_img_pil.save(save_path)\n",
        "\n",
        "        except Exception as e:\n",
        "            print(f\"Error processing {img_path}: {e}\")\n",
        "\n",
        "# ===========================\n",
        "# PROCESS TRAIN, VAL, TEST IMAGES\n",
        "# ===========================\n",
        "\n",
        "# Load train and val metadata\n",
        "train_metadata = pd.read_csv(train_csv)\n",
        "val_metadata = pd.read_csv(val_csv)\n",
        "\n",
        "# Get full image paths\n",
        "train_images = [os.path.join(train_img_dir, img) for img in train_metadata.iloc[:, 0].tolist()]\n",
        "val_images = [os.path.join(val_img_dir, img) for img in val_metadata.iloc[:, 0].tolist()]\n",
        "test_images = [os.path.join(test_img_dir, img) for img in os.listdir(test_img_dir) if img.endswith((\".jpg\", \".png\"))]\n",
        "\n",
        "print(train_images[0].split(\"/\")[7])\n",
        "\n",
        "# Process images\n",
        "crop_resize_save_images(train_images, \"train_images\")\n",
        "crop_resize_save_images(val_images, \"val_images\")\n",
        "crop_resize_save_images(test_images, \"test_images/mistery_cat\", is_test=True)\n",
        "\n",
        "print(\"✅ Cropped and resized images saved successfully!\")"
      ],
      "metadata": {
        "id": "yZpCTo7poDTg",
        "colab": {
          "base_uri": "https://localhost:8080/"
        },
        "outputId": "bcdb6bfa-473c-4c29-a02f-fa25f57d6a46"
      },
      "id": "yZpCTo7poDTg",
      "execution_count": 21,
      "outputs": [
        {
          "output_type": "stream",
          "name": "stdout",
          "text": [
            "Brandt_Cormorant\n"
          ]
        },
        {
          "output_type": "stream",
          "name": "stderr",
          "text": [
            "\rProcessing train_images images:   0%|          | 0/1082 [00:00<?, ?it/s]"
          ]
        },
        {
          "output_type": "stream",
          "name": "stdout",
          "text": [
            "\n",
            "image 1/1 /content/drive/MyDrive/bdma-07-competition/BDMA7_project_files/train_images/Brandt_Cormorant/Brandt_Cormorant_0071_23007.jpg: 640x640 1 Bird, 47.4ms\n",
            "Speed: 3.0ms preprocess, 47.4ms inference, 1.3ms postprocess per image at shape (1, 3, 640, 640)\n"
          ]
        },
        {
          "output_type": "stream",
          "name": "stderr",
          "text": [
            "\rProcessing train_images images:   0%|          | 1/1082 [00:00<09:51,  1.83it/s]"
          ]
        },
        {
          "output_type": "stream",
          "name": "stdout",
          "text": [
            "\n",
            "image 1/1 /content/drive/MyDrive/bdma-07-competition/BDMA7_project_files/train_images/Brandt_Cormorant/Brandt_Cormorant_0028_22892.jpg: 640x640 1 Bird, 38.5ms\n",
            "Speed: 3.7ms preprocess, 38.5ms inference, 1.2ms postprocess per image at shape (1, 3, 640, 640)\n",
            "\n",
            "image 1/1 /content/drive/MyDrive/bdma-07-competition/BDMA7_project_files/train_images/Brandt_Cormorant/Brandt_Cormorant_0076_23021.jpg: 640x640 1 Bird, 38.4ms\n",
            "Speed: 2.6ms preprocess, 38.4ms inference, 1.2ms postprocess per image at shape (1, 3, 640, 640)\n"
          ]
        },
        {
          "output_type": "stream",
          "name": "stderr",
          "text": [
            "\rProcessing train_images images:   0%|          | 3/1082 [00:00<03:30,  5.13it/s]"
          ]
        },
        {
          "output_type": "stream",
          "name": "stdout",
          "text": [
            "\n",
            "image 1/1 /content/drive/MyDrive/bdma-07-competition/BDMA7_project_files/train_images/Brandt_Cormorant/Brandt_Cormorant_0080_23002.jpg: 640x640 1 Bird, 38.4ms\n",
            "Speed: 2.4ms preprocess, 38.4ms inference, 1.2ms postprocess per image at shape (1, 3, 640, 640)\n",
            "\n",
            "image 1/1 /content/drive/MyDrive/bdma-07-competition/BDMA7_project_files/train_images/Brandt_Cormorant/Brandt_Cormorant_0045_22916.jpg: 640x640 1 Bird, 29.4ms\n",
            "Speed: 2.5ms preprocess, 29.4ms inference, 1.2ms postprocess per image at shape (1, 3, 640, 640)\n"
          ]
        },
        {
          "output_type": "stream",
          "name": "stderr",
          "text": [
            "\rProcessing train_images images:   0%|          | 5/1082 [00:00<02:17,  7.82it/s]"
          ]
        },
        {
          "output_type": "stream",
          "name": "stdout",
          "text": [
            "\n",
            "image 1/1 /content/drive/MyDrive/bdma-07-competition/BDMA7_project_files/train_images/Brandt_Cormorant/Brandt_Cormorant_0018_23090.jpg: 640x640 1 Bird, 29.2ms\n",
            "Speed: 2.4ms preprocess, 29.2ms inference, 1.2ms postprocess per image at shape (1, 3, 640, 640)\n",
            "\n",
            "image 1/1 /content/drive/MyDrive/bdma-07-competition/BDMA7_project_files/train_images/Brandt_Cormorant/Brandt_Cormorant_0035_23000.jpg: 640x640 1 Bird, 28.5ms\n",
            "Speed: 2.6ms preprocess, 28.5ms inference, 1.2ms postprocess per image at shape (1, 3, 640, 640)\n"
          ]
        },
        {
          "output_type": "stream",
          "name": "stderr",
          "text": [
            "\rProcessing train_images images:   1%|          | 7/1082 [00:00<01:45, 10.19it/s]"
          ]
        },
        {
          "output_type": "stream",
          "name": "stdout",
          "text": [
            "\n",
            "image 1/1 /content/drive/MyDrive/bdma-07-competition/BDMA7_project_files/train_images/Brandt_Cormorant/Brandt_Cormorant_0044_22884.jpg: 640x640 1 Bird, 27.8ms\n",
            "Speed: 2.4ms preprocess, 27.8ms inference, 1.3ms postprocess per image at shape (1, 3, 640, 640)\n",
            "\n",
            "image 1/1 /content/drive/MyDrive/bdma-07-competition/BDMA7_project_files/train_images/Brandt_Cormorant/Brandt_Cormorant_0072_23069.jpg: 640x640 1 Bird, 27.8ms\n",
            "Speed: 3.2ms preprocess, 27.8ms inference, 1.4ms postprocess per image at shape (1, 3, 640, 640)\n"
          ]
        },
        {
          "output_type": "stream",
          "name": "stderr",
          "text": [
            "\rProcessing train_images images:   1%|          | 9/1082 [00:01<01:30, 11.90it/s]"
          ]
        },
        {
          "output_type": "stream",
          "name": "stdout",
          "text": [
            "\n",
            "image 1/1 /content/drive/MyDrive/bdma-07-competition/BDMA7_project_files/train_images/Brandt_Cormorant/Brandt_Cormorant_0064_22849.jpg: 640x640 1 Bird, 27.1ms\n",
            "Speed: 3.2ms preprocess, 27.1ms inference, 1.5ms postprocess per image at shape (1, 3, 640, 640)\n",
            "\n",
            "image 1/1 /content/drive/MyDrive/bdma-07-competition/BDMA7_project_files/train_images/Brandt_Cormorant/Brandt_Cormorant_0074_22881.jpg: 640x640 1 Bird, 26.3ms\n",
            "Speed: 2.4ms preprocess, 26.3ms inference, 1.2ms postprocess per image at shape (1, 3, 640, 640)\n"
          ]
        },
        {
          "output_type": "stream",
          "name": "stderr",
          "text": [
            "\rProcessing train_images images:   1%|          | 11/1082 [00:01<01:21, 13.21it/s]"
          ]
        },
        {
          "output_type": "stream",
          "name": "stdout",
          "text": [
            "\n",
            "image 1/1 /content/drive/MyDrive/bdma-07-competition/BDMA7_project_files/train_images/Brandt_Cormorant/Brandt_Cormorant_0052_23356.jpg: 640x640 1 Bird, 24.1ms\n",
            "Speed: 2.4ms preprocess, 24.1ms inference, 1.2ms postprocess per image at shape (1, 3, 640, 640)\n",
            "\n",
            "image 1/1 /content/drive/MyDrive/bdma-07-competition/BDMA7_project_files/train_images/Brandt_Cormorant/Brandt_Cormorant_0063_22865.jpg: 640x640 1 Bird, 24.3ms\n",
            "Speed: 2.6ms preprocess, 24.3ms inference, 1.2ms postprocess per image at shape (1, 3, 640, 640)\n"
          ]
        },
        {
          "output_type": "stream",
          "name": "stderr",
          "text": [
            "\rProcessing train_images images:   1%|          | 13/1082 [00:01<01:15, 14.09it/s]"
          ]
        },
        {
          "output_type": "stream",
          "name": "stdout",
          "text": [
            "\n",
            "image 1/1 /content/drive/MyDrive/bdma-07-competition/BDMA7_project_files/train_images/Brandt_Cormorant/Brandt_Cormorant_0087_23126.jpg: 640x640 1 Bird, 24.1ms\n",
            "Speed: 2.4ms preprocess, 24.1ms inference, 1.1ms postprocess per image at shape (1, 3, 640, 640)\n",
            "\n",
            "image 1/1 /content/drive/MyDrive/bdma-07-competition/BDMA7_project_files/train_images/Brandt_Cormorant/Brandt_Cormorant_0040_23144.jpg: 640x640 1 Bird, 24.1ms\n",
            "Speed: 2.4ms preprocess, 24.1ms inference, 1.1ms postprocess per image at shape (1, 3, 640, 640)\n"
          ]
        },
        {
          "output_type": "stream",
          "name": "stderr",
          "text": [
            "\rProcessing train_images images:   1%|▏         | 15/1082 [00:01<01:09, 15.41it/s]"
          ]
        },
        {
          "output_type": "stream",
          "name": "stdout",
          "text": [
            "\n",
            "image 1/1 /content/drive/MyDrive/bdma-07-competition/BDMA7_project_files/train_images/Brandt_Cormorant/Brandt_Cormorant_0079_22874.jpg: 640x640 1 Bird, 24.1ms\n",
            "Speed: 2.4ms preprocess, 24.1ms inference, 1.1ms postprocess per image at shape (1, 3, 640, 640)\n",
            "\n",
            "image 1/1 /content/drive/MyDrive/bdma-07-competition/BDMA7_project_files/train_images/Brandt_Cormorant/Brandt_Cormorant_0015_23198.jpg: 640x640 1 Bird, 24.1ms\n",
            "Speed: 2.5ms preprocess, 24.1ms inference, 1.1ms postprocess per image at shape (1, 3, 640, 640)\n"
          ]
        },
        {
          "output_type": "stream",
          "name": "stderr",
          "text": [
            "\rProcessing train_images images:   2%|▏         | 17/1082 [00:01<01:04, 16.46it/s]"
          ]
        },
        {
          "output_type": "stream",
          "name": "stdout",
          "text": [
            "\n",
            "image 1/1 /content/drive/MyDrive/bdma-07-competition/BDMA7_project_files/train_images/Brandt_Cormorant/Brandt_Cormorant_0062_23038.jpg: 640x640 1 Bird, 24.1ms\n",
            "Speed: 2.6ms preprocess, 24.1ms inference, 1.2ms postprocess per image at shape (1, 3, 640, 640)\n",
            "\n",
            "image 1/1 /content/drive/MyDrive/bdma-07-competition/BDMA7_project_files/train_images/Brandt_Cormorant/Brandt_Cormorant_0049_22924.jpg: 640x640 2 Birds, 27.4ms\n",
            "Speed: 3.4ms preprocess, 27.4ms inference, 2.3ms postprocess per image at shape (1, 3, 640, 640)\n"
          ]
        },
        {
          "output_type": "stream",
          "name": "stderr",
          "text": [
            "\rProcessing train_images images:   2%|▏         | 19/1082 [00:01<01:04, 16.60it/s]"
          ]
        },
        {
          "output_type": "stream",
          "name": "stdout",
          "text": [
            "\n",
            "image 1/1 /content/drive/MyDrive/bdma-07-competition/BDMA7_project_files/train_images/Brandt_Cormorant/Brandt_Cormorant_0013_23391.jpg: 640x640 1 Bird, 23.3ms\n",
            "Speed: 2.5ms preprocess, 23.3ms inference, 1.2ms postprocess per image at shape (1, 3, 640, 640)\n",
            "\n",
            "image 1/1 /content/drive/MyDrive/bdma-07-competition/BDMA7_project_files/train_images/Brandt_Cormorant/Brandt_Cormorant_0068_23019.jpg: 640x640 2 Birds, 23.0ms\n",
            "Speed: 2.5ms preprocess, 23.0ms inference, 1.2ms postprocess per image at shape (1, 3, 640, 640)\n"
          ]
        },
        {
          "output_type": "stream",
          "name": "stderr",
          "text": [
            "\rProcessing train_images images:   2%|▏         | 21/1082 [00:01<01:01, 17.14it/s]"
          ]
        },
        {
          "output_type": "stream",
          "name": "stdout",
          "text": [
            "\n",
            "image 1/1 /content/drive/MyDrive/bdma-07-competition/BDMA7_project_files/train_images/Brandt_Cormorant/Brandt_Cormorant_0061_22902.jpg: 640x640 1 Bird, 23.8ms\n",
            "Speed: 2.4ms preprocess, 23.8ms inference, 1.5ms postprocess per image at shape (1, 3, 640, 640)\n",
            "\n",
            "image 1/1 /content/drive/MyDrive/bdma-07-competition/BDMA7_project_files/train_images/Brandt_Cormorant/Brandt_Cormorant_0003_22922.jpg: 640x640 1 Bird, 23.6ms\n",
            "Speed: 2.4ms preprocess, 23.6ms inference, 1.4ms postprocess per image at shape (1, 3, 640, 640)\n"
          ]
        },
        {
          "output_type": "stream",
          "name": "stderr",
          "text": [
            "\rProcessing train_images images:   2%|▏         | 23/1082 [00:01<01:00, 17.50it/s]"
          ]
        },
        {
          "output_type": "stream",
          "name": "stdout",
          "text": [
            "\n",
            "image 1/1 /content/drive/MyDrive/bdma-07-competition/BDMA7_project_files/train_images/Brandt_Cormorant/Brandt_Cormorant_0078_23203.jpg: 640x640 1 Bird, 23.2ms\n",
            "Speed: 2.5ms preprocess, 23.2ms inference, 1.2ms postprocess per image at shape (1, 3, 640, 640)\n",
            "\n",
            "image 1/1 /content/drive/MyDrive/bdma-07-competition/BDMA7_project_files/train_images/Brandt_Cormorant/Brandt_Cormorant_0084_23265.jpg: 640x640 1 Bird, 23.9ms\n",
            "Speed: 3.1ms preprocess, 23.9ms inference, 1.3ms postprocess per image at shape (1, 3, 640, 640)\n"
          ]
        },
        {
          "output_type": "stream",
          "name": "stderr",
          "text": [
            "\rProcessing train_images images:   2%|▏         | 25/1082 [00:01<00:59, 17.91it/s]"
          ]
        },
        {
          "output_type": "stream",
          "name": "stdout",
          "text": [
            "\n",
            "image 1/1 /content/drive/MyDrive/bdma-07-competition/BDMA7_project_files/train_images/Brandt_Cormorant/Brandt_Cormorant_0001_23398.jpg: 640x640 1 Bird, 23.6ms\n",
            "Speed: 3.1ms preprocess, 23.6ms inference, 1.7ms postprocess per image at shape (1, 3, 640, 640)\n",
            "\n",
            "image 1/1 /content/drive/MyDrive/bdma-07-competition/BDMA7_project_files/train_images/Brandt_Cormorant/Brandt_Cormorant_0025_22820.jpg: 640x640 1 Bird, 27.0ms\n",
            "Speed: 3.2ms preprocess, 27.0ms inference, 1.9ms postprocess per image at shape (1, 3, 640, 640)\n"
          ]
        },
        {
          "output_type": "stream",
          "name": "stderr",
          "text": [
            "\rProcessing train_images images:   2%|▏         | 27/1082 [00:02<01:03, 16.64it/s]"
          ]
        },
        {
          "output_type": "stream",
          "name": "stdout",
          "text": [
            "\n",
            "image 1/1 /content/drive/MyDrive/bdma-07-competition/BDMA7_project_files/train_images/Brandt_Cormorant/Brandt_Cormorant_0073_23259.jpg: 640x640 1 Bird, 26.3ms\n",
            "Speed: 3.4ms preprocess, 26.3ms inference, 1.6ms postprocess per image at shape (1, 3, 640, 640)\n",
            "\n",
            "image 1/1 /content/drive/MyDrive/bdma-07-competition/BDMA7_project_files/train_images/Brandt_Cormorant/Brandt_Cormorant_0006_22925.jpg: 640x640 1 Bird, 27.0ms\n",
            "Speed: 3.2ms preprocess, 27.0ms inference, 1.6ms postprocess per image at shape (1, 3, 640, 640)\n"
          ]
        },
        {
          "output_type": "stream",
          "name": "stderr",
          "text": [
            "\rProcessing train_images images:   3%|▎         | 29/1082 [00:02<01:04, 16.22it/s]"
          ]
        },
        {
          "output_type": "stream",
          "name": "stdout",
          "text": [
            "\n",
            "image 1/1 /content/drive/MyDrive/bdma-07-competition/BDMA7_project_files/train_images/Brandt_Cormorant/Brandt_Cormorant_0067_23352.jpg: 640x640 1 Bird, 22.8ms\n",
            "Speed: 3.5ms preprocess, 22.8ms inference, 1.2ms postprocess per image at shape (1, 3, 640, 640)\n",
            "\n",
            "image 1/1 /content/drive/MyDrive/bdma-07-competition/BDMA7_project_files/train_images/Brandt_Cormorant/Brandt_Cormorant_0032_22886.jpg: 640x640 1 Bird, 23.6ms\n",
            "Speed: 2.4ms preprocess, 23.6ms inference, 1.3ms postprocess per image at shape (1, 3, 640, 640)\n"
          ]
        },
        {
          "output_type": "stream",
          "name": "stderr",
          "text": [
            "\rProcessing train_images images:   3%|▎         | 31/1082 [00:02<01:02, 16.84it/s]"
          ]
        },
        {
          "output_type": "stream",
          "name": "stdout",
          "text": [
            "\n",
            "image 1/1 /content/drive/MyDrive/bdma-07-competition/BDMA7_project_files/train_images/Brandt_Cormorant/Brandt_Cormorant_0019_23058.jpg: 640x640 1 Bird, 23.1ms\n",
            "Speed: 2.4ms preprocess, 23.1ms inference, 1.2ms postprocess per image at shape (1, 3, 640, 640)\n",
            "\n",
            "image 1/1 /content/drive/MyDrive/bdma-07-competition/BDMA7_project_files/train_images/Brandt_Cormorant/Brandt_Cormorant_0022_23157.jpg: 640x640 1 Bird, 23.9ms\n",
            "Speed: 2.4ms preprocess, 23.9ms inference, 1.2ms postprocess per image at shape (1, 3, 640, 640)\n"
          ]
        },
        {
          "output_type": "stream",
          "name": "stderr",
          "text": [
            "\rProcessing train_images images:   3%|▎         | 33/1082 [00:02<01:01, 17.08it/s]"
          ]
        },
        {
          "output_type": "stream",
          "name": "stdout",
          "text": [
            "\n",
            "image 1/1 /content/drive/MyDrive/bdma-07-competition/BDMA7_project_files/train_images/Brandt_Cormorant/Brandt_Cormorant_0065_23118.jpg: 640x640 2 Birds, 23.8ms\n",
            "Speed: 2.4ms preprocess, 23.8ms inference, 1.2ms postprocess per image at shape (1, 3, 640, 640)\n",
            "\n",
            "image 1/1 /content/drive/MyDrive/bdma-07-competition/BDMA7_project_files/train_images/Brandt_Cormorant/Brandt_Cormorant_0026_22913.jpg: 640x640 1 Bird, 23.0ms\n",
            "Speed: 2.4ms preprocess, 23.0ms inference, 1.1ms postprocess per image at shape (1, 3, 640, 640)\n"
          ]
        },
        {
          "output_type": "stream",
          "name": "stderr",
          "text": [
            "\rProcessing train_images images:   3%|▎         | 35/1082 [00:02<00:59, 17.60it/s]"
          ]
        },
        {
          "output_type": "stream",
          "name": "stdout",
          "text": [
            "\n",
            "image 1/1 /content/drive/MyDrive/bdma-07-competition/BDMA7_project_files/train_images/Brandt_Cormorant/Brandt_Cormorant_0082_22978.jpg: 640x640 1 Bird, 23.5ms\n",
            "Speed: 2.4ms preprocess, 23.5ms inference, 1.1ms postprocess per image at shape (1, 3, 640, 640)\n",
            "\n",
            "image 1/1 /content/drive/MyDrive/bdma-07-competition/BDMA7_project_files/train_images/Brandt_Cormorant/Brandt_Cormorant_0075_22970.jpg: 640x640 1 Bird, 27.1ms\n",
            "Speed: 3.0ms preprocess, 27.1ms inference, 1.3ms postprocess per image at shape (1, 3, 640, 640)\n"
          ]
        },
        {
          "output_type": "stream",
          "name": "stderr",
          "text": [
            "\rProcessing train_images images:   3%|▎         | 37/1082 [00:02<00:59, 17.67it/s]"
          ]
        },
        {
          "output_type": "stream",
          "name": "stdout",
          "text": [
            "\n",
            "image 1/1 /content/drive/MyDrive/bdma-07-competition/BDMA7_project_files/train_images/Brandt_Cormorant/Brandt_Cormorant_0042_23151.jpg: 640x640 1 Bird, 23.3ms\n",
            "Speed: 2.4ms preprocess, 23.3ms inference, 1.1ms postprocess per image at shape (1, 3, 640, 640)\n",
            "\n",
            "image 1/1 /content/drive/MyDrive/bdma-07-competition/BDMA7_project_files/train_images/Brandt_Cormorant/Brandt_Cormorant_0017_23141.jpg: 640x640 1 Bird, 23.2ms\n",
            "Speed: 2.4ms preprocess, 23.2ms inference, 1.2ms postprocess per image at shape (1, 3, 640, 640)\n"
          ]
        },
        {
          "output_type": "stream",
          "name": "stderr",
          "text": [
            "\rProcessing train_images images:   4%|▎         | 39/1082 [00:02<01:00, 17.21it/s]"
          ]
        },
        {
          "output_type": "stream",
          "name": "stdout",
          "text": [
            "\n",
            "image 1/1 /content/drive/MyDrive/bdma-07-competition/BDMA7_project_files/train_images/Brandt_Cormorant/Brandt_Cormorant_0023_23254.jpg: 640x640 2 Birds, 23.5ms\n",
            "Speed: 2.4ms preprocess, 23.5ms inference, 1.1ms postprocess per image at shape (1, 3, 640, 640)\n",
            "\n",
            "image 1/1 /content/drive/MyDrive/bdma-07-competition/BDMA7_project_files/train_images/Brandt_Cormorant/Brandt_Cormorant_0007_22934.jpg: 640x640 1 Bird, 23.1ms\n",
            "Speed: 2.4ms preprocess, 23.1ms inference, 1.2ms postprocess per image at shape (1, 3, 640, 640)\n"
          ]
        },
        {
          "output_type": "stream",
          "name": "stderr",
          "text": [
            "\rProcessing train_images images:   4%|▍         | 41/1082 [00:02<00:58, 17.69it/s]"
          ]
        },
        {
          "output_type": "stream",
          "name": "stdout",
          "text": [
            "\n",
            "image 1/1 /content/drive/MyDrive/bdma-07-competition/BDMA7_project_files/train_images/Brandt_Cormorant/Brandt_Cormorant_0002_23072.jpg: 640x640 1 Bird, 24.2ms\n",
            "Speed: 2.6ms preprocess, 24.2ms inference, 1.2ms postprocess per image at shape (1, 3, 640, 640)\n",
            "\n",
            "image 1/1 /content/drive/MyDrive/bdma-07-competition/BDMA7_project_files/train_images/Brandt_Cormorant/Brandt_Cormorant_0036_22937.jpg: 640x640 1 Bird, 23.5ms\n",
            "Speed: 2.4ms preprocess, 23.5ms inference, 1.3ms postprocess per image at shape (1, 3, 640, 640)\n"
          ]
        },
        {
          "output_type": "stream",
          "name": "stderr",
          "text": [
            "\rProcessing train_images images:   4%|▍         | 43/1082 [00:02<00:58, 17.88it/s]"
          ]
        },
        {
          "output_type": "stream",
          "name": "stdout",
          "text": [
            "\n",
            "image 1/1 /content/drive/MyDrive/bdma-07-competition/BDMA7_project_files/train_images/Brandt_Cormorant/Brandt_Cormorant_0033_22975.jpg: 640x640 1 Bird, 24.9ms\n",
            "Speed: 3.9ms preprocess, 24.9ms inference, 1.4ms postprocess per image at shape (1, 3, 640, 640)\n",
            "\n",
            "image 1/1 /content/drive/MyDrive/bdma-07-competition/BDMA7_project_files/train_images/Brandt_Cormorant/Brandt_Cormorant_0021_23097.jpg: 640x640 1 Bird, 24.1ms\n",
            "Speed: 4.4ms preprocess, 24.1ms inference, 1.8ms postprocess per image at shape (1, 3, 640, 640)\n"
          ]
        },
        {
          "output_type": "stream",
          "name": "stderr",
          "text": [
            "\rProcessing train_images images:   4%|▍         | 45/1082 [00:03<01:00, 17.13it/s]"
          ]
        },
        {
          "output_type": "stream",
          "name": "stdout",
          "text": [
            "\n",
            "image 1/1 /content/drive/MyDrive/bdma-07-competition/BDMA7_project_files/train_images/Brandt_Cormorant/Brandt_Cormorant_0088_22948.jpg: 640x640 1 Bird, 25.5ms\n",
            "Speed: 3.3ms preprocess, 25.5ms inference, 1.6ms postprocess per image at shape (1, 3, 640, 640)\n",
            "\n",
            "image 1/1 /content/drive/MyDrive/bdma-07-competition/BDMA7_project_files/train_images/Brandt_Cormorant/Brandt_Cormorant_0030_22926.jpg: 640x640 1 Bird, 25.2ms\n",
            "Speed: 3.0ms preprocess, 25.2ms inference, 1.2ms postprocess per image at shape (1, 3, 640, 640)\n"
          ]
        },
        {
          "output_type": "stream",
          "name": "stderr",
          "text": [
            "\rProcessing train_images images:   4%|▍         | 47/1082 [00:03<01:00, 17.12it/s]"
          ]
        },
        {
          "output_type": "stream",
          "name": "stdout",
          "text": [
            "\n",
            "image 1/1 /content/drive/MyDrive/bdma-07-competition/BDMA7_project_files/train_images/Brandt_Cormorant/Brandt_Cormorant_0053_22957.jpg: 640x640 1 Bird, 24.0ms\n",
            "Speed: 2.9ms preprocess, 24.0ms inference, 1.1ms postprocess per image at shape (1, 3, 640, 640)\n",
            "\n",
            "image 1/1 /content/drive/MyDrive/bdma-07-competition/BDMA7_project_files/train_images/Brandt_Cormorant/Brandt_Cormorant_0038_23110.jpg: 640x640 1 Bird, 23.9ms\n",
            "Speed: 2.4ms preprocess, 23.9ms inference, 1.1ms postprocess per image at shape (1, 3, 640, 640)\n"
          ]
        },
        {
          "output_type": "stream",
          "name": "stderr",
          "text": [
            "\rProcessing train_images images:   5%|▍         | 49/1082 [00:03<00:59, 17.49it/s]"
          ]
        },
        {
          "output_type": "stream",
          "name": "stdout",
          "text": [
            "\n",
            "image 1/1 /content/drive/MyDrive/bdma-07-competition/BDMA7_project_files/train_images/Brandt_Cormorant/Brandt_Cormorant_0014_23050.jpg: 640x640 1 Bird, 24.6ms\n",
            "Speed: 2.4ms preprocess, 24.6ms inference, 1.1ms postprocess per image at shape (1, 3, 640, 640)\n",
            "\n",
            "image 1/1 /content/drive/MyDrive/bdma-07-competition/BDMA7_project_files/train_images/Brandt_Cormorant/Brandt_Cormorant_0029_23043.jpg: 640x640 3 Birds, 24.8ms\n",
            "Speed: 2.3ms preprocess, 24.8ms inference, 1.2ms postprocess per image at shape (1, 3, 640, 640)\n"
          ]
        },
        {
          "output_type": "stream",
          "name": "stderr",
          "text": [
            "\rProcessing train_images images:   5%|▍         | 51/1082 [00:03<00:58, 17.66it/s]"
          ]
        },
        {
          "output_type": "stream",
          "name": "stdout",
          "text": [
            "\n",
            "image 1/1 /content/drive/MyDrive/bdma-07-competition/BDMA7_project_files/train_images/Brandt_Cormorant/Brandt_Cormorant_0091_22825.jpg: 640x640 1 Bird, 24.7ms\n",
            "Speed: 2.5ms preprocess, 24.7ms inference, 1.2ms postprocess per image at shape (1, 3, 640, 640)\n",
            "\n",
            "image 1/1 /content/drive/MyDrive/bdma-07-competition/BDMA7_project_files/train_images/Brandt_Cormorant/Brandt_Cormorant_0016_23077.jpg: 640x640 1 Bird, 25.0ms\n",
            "Speed: 2.6ms preprocess, 25.0ms inference, 1.1ms postprocess per image at shape (1, 3, 640, 640)\n"
          ]
        },
        {
          "output_type": "stream",
          "name": "stderr",
          "text": [
            "\rProcessing train_images images:   5%|▍         | 53/1082 [00:03<01:00, 17.14it/s]"
          ]
        },
        {
          "output_type": "stream",
          "name": "stdout",
          "text": [
            "\n",
            "image 1/1 /content/drive/MyDrive/bdma-07-competition/BDMA7_project_files/train_images/Brown_Creeper/Brown_Creeper_0102_25000.jpg: 640x640 1 Bird, 23.4ms\n",
            "Speed: 2.4ms preprocess, 23.4ms inference, 1.3ms postprocess per image at shape (1, 3, 640, 640)\n",
            "\n",
            "image 1/1 /content/drive/MyDrive/bdma-07-competition/BDMA7_project_files/train_images/Brown_Creeper/Brown_Creeper_0101_24987.jpg: 640x640 1 Bird, 23.4ms\n",
            "Speed: 3.9ms preprocess, 23.4ms inference, 1.1ms postprocess per image at shape (1, 3, 640, 640)\n"
          ]
        },
        {
          "output_type": "stream",
          "name": "stderr",
          "text": [
            "\rProcessing train_images images:   5%|▌         | 55/1082 [00:03<00:59, 17.25it/s]"
          ]
        },
        {
          "output_type": "stream",
          "name": "stdout",
          "text": [
            "\n",
            "image 1/1 /content/drive/MyDrive/bdma-07-competition/BDMA7_project_files/train_images/Brown_Creeper/Brown_Creeper_0125_24995.jpg: 640x640 1 Bird, 23.4ms\n",
            "Speed: 2.4ms preprocess, 23.4ms inference, 1.1ms postprocess per image at shape (1, 3, 640, 640)\n",
            "\n",
            "image 1/1 /content/drive/MyDrive/bdma-07-competition/BDMA7_project_files/train_images/Brown_Creeper/Brown_Creeper_0027_24729.jpg: 640x640 1 Bird, 24.0ms\n",
            "Speed: 2.4ms preprocess, 24.0ms inference, 1.1ms postprocess per image at shape (1, 3, 640, 640)\n"
          ]
        },
        {
          "output_type": "stream",
          "name": "stderr",
          "text": [
            "\rProcessing train_images images:   5%|▌         | 57/1082 [00:03<00:58, 17.56it/s]"
          ]
        },
        {
          "output_type": "stream",
          "name": "stdout",
          "text": [
            "\n",
            "image 1/1 /content/drive/MyDrive/bdma-07-competition/BDMA7_project_files/train_images/Brown_Creeper/Brown_Creeper_0031_24999.jpg: 640x640 1 Bird, 23.8ms\n",
            "Speed: 2.6ms preprocess, 23.8ms inference, 1.2ms postprocess per image at shape (1, 3, 640, 640)\n",
            "\n",
            "image 1/1 /content/drive/MyDrive/bdma-07-competition/BDMA7_project_files/train_images/Brown_Creeper/Brown_Creeper_0032_24800.jpg: 640x640 1 Bird, 23.3ms\n",
            "Speed: 2.5ms preprocess, 23.3ms inference, 1.2ms postprocess per image at shape (1, 3, 640, 640)\n"
          ]
        },
        {
          "output_type": "stream",
          "name": "stderr",
          "text": [
            "\rProcessing train_images images:   5%|▌         | 59/1082 [00:03<00:58, 17.34it/s]"
          ]
        },
        {
          "output_type": "stream",
          "name": "stdout",
          "text": [
            "\n",
            "image 1/1 /content/drive/MyDrive/bdma-07-competition/BDMA7_project_files/train_images/Brown_Creeper/Brown_Creeper_0053_24451.jpg: 640x640 1 Bird, 23.3ms\n",
            "Speed: 2.5ms preprocess, 23.3ms inference, 1.2ms postprocess per image at shape (1, 3, 640, 640)\n",
            "\n",
            "image 1/1 /content/drive/MyDrive/bdma-07-competition/BDMA7_project_files/train_images/Brown_Creeper/Brown_Creeper_0106_24617.jpg: 640x640 1 Bird, 24.6ms\n",
            "Speed: 3.3ms preprocess, 24.6ms inference, 1.5ms postprocess per image at shape (1, 3, 640, 640)\n"
          ]
        },
        {
          "output_type": "stream",
          "name": "stderr",
          "text": [
            "\rProcessing train_images images:   6%|▌         | 61/1082 [00:04<00:59, 17.23it/s]"
          ]
        },
        {
          "output_type": "stream",
          "name": "stdout",
          "text": [
            "\n",
            "image 1/1 /content/drive/MyDrive/bdma-07-competition/BDMA7_project_files/train_images/Brown_Creeper/Brown_Creeper_0111_24590.jpg: 640x640 (no detections), 24.6ms\n",
            "Speed: 3.9ms preprocess, 24.6ms inference, 0.7ms postprocess per image at shape (1, 3, 640, 640)\n",
            "Warning: No objects detected in /content/drive/MyDrive/bdma-07-competition/BDMA7_project_files/train_images/Brown_Creeper/Brown_Creeper_0111_24590.jpg, skipping cropping.\n",
            "\n",
            "image 1/1 /content/drive/MyDrive/bdma-07-competition/BDMA7_project_files/train_images/Brown_Creeper/Brown_Creeper_0075_24947.jpg: 640x640 1 Bird, 25.9ms\n",
            "Speed: 3.1ms preprocess, 25.9ms inference, 1.6ms postprocess per image at shape (1, 3, 640, 640)\n"
          ]
        },
        {
          "output_type": "stream",
          "name": "stderr",
          "text": [
            "\rProcessing train_images images:   6%|▌         | 63/1082 [00:04<00:58, 17.51it/s]"
          ]
        },
        {
          "output_type": "stream",
          "name": "stdout",
          "text": [
            "\n",
            "image 1/1 /content/drive/MyDrive/bdma-07-competition/BDMA7_project_files/train_images/Brown_Creeper/Brown_Creeper_0121_24574.jpg: 640x640 1 Bird, 25.1ms\n",
            "Speed: 3.1ms preprocess, 25.1ms inference, 1.6ms postprocess per image at shape (1, 3, 640, 640)\n",
            "\n",
            "image 1/1 /content/drive/MyDrive/bdma-07-competition/BDMA7_project_files/train_images/Brown_Creeper/Brown_Creeper_0042_24578.jpg: 640x640 1 Bird, 23.8ms\n",
            "Speed: 2.5ms preprocess, 23.8ms inference, 1.6ms postprocess per image at shape (1, 3, 640, 640)\n"
          ]
        },
        {
          "output_type": "stream",
          "name": "stderr",
          "text": [
            "\rProcessing train_images images:   6%|▌         | 65/1082 [00:04<01:01, 16.67it/s]"
          ]
        },
        {
          "output_type": "stream",
          "name": "stdout",
          "text": [
            "\n",
            "image 1/1 /content/drive/MyDrive/bdma-07-competition/BDMA7_project_files/train_images/Brown_Creeper/Brown_Creeper_0065_24464.jpg: 640x640 1 Bird, 23.4ms\n",
            "Speed: 2.6ms preprocess, 23.4ms inference, 1.2ms postprocess per image at shape (1, 3, 640, 640)\n",
            "\n",
            "image 1/1 /content/drive/MyDrive/bdma-07-competition/BDMA7_project_files/train_images/Brown_Creeper/Brown_Creeper_0118_24500.jpg: 640x640 1 Bird, 24.5ms\n",
            "Speed: 3.2ms preprocess, 24.5ms inference, 1.3ms postprocess per image at shape (1, 3, 640, 640)\n"
          ]
        },
        {
          "output_type": "stream",
          "name": "stderr",
          "text": [
            "\rProcessing train_images images:   6%|▌         | 67/1082 [00:04<00:59, 17.12it/s]"
          ]
        },
        {
          "output_type": "stream",
          "name": "stdout",
          "text": [
            "\n",
            "image 1/1 /content/drive/MyDrive/bdma-07-competition/BDMA7_project_files/train_images/Brown_Creeper/Brown_Creeper_0012_24956.jpg: 640x640 1 Bird, 23.5ms\n",
            "Speed: 2.4ms preprocess, 23.5ms inference, 1.2ms postprocess per image at shape (1, 3, 640, 640)\n",
            "\n",
            "image 1/1 /content/drive/MyDrive/bdma-07-competition/BDMA7_project_files/train_images/Brown_Creeper/Brown_Creeper_0005_24659.jpg: 640x640 1 Bird, 23.3ms\n",
            "Speed: 2.4ms preprocess, 23.3ms inference, 1.1ms postprocess per image at shape (1, 3, 640, 640)\n"
          ]
        },
        {
          "output_type": "stream",
          "name": "stderr",
          "text": [
            "\rProcessing train_images images:   6%|▋         | 69/1082 [00:04<00:58, 17.37it/s]"
          ]
        },
        {
          "output_type": "stream",
          "name": "stdout",
          "text": [
            "\n",
            "image 1/1 /content/drive/MyDrive/bdma-07-competition/BDMA7_project_files/train_images/Brown_Creeper/Brown_Creeper_0006_25034.jpg: 640x640 1 Bird, 23.5ms\n",
            "Speed: 2.4ms preprocess, 23.5ms inference, 2.2ms postprocess per image at shape (1, 3, 640, 640)\n",
            "\n",
            "image 1/1 /content/drive/MyDrive/bdma-07-competition/BDMA7_project_files/train_images/Brown_Creeper/Brown_Creeper_0103_24632.jpg: 640x640 1 Bird, 24.0ms\n",
            "Speed: 2.6ms preprocess, 24.0ms inference, 1.2ms postprocess per image at shape (1, 3, 640, 640)\n"
          ]
        },
        {
          "output_type": "stream",
          "name": "stderr",
          "text": [
            "\rProcessing train_images images:   7%|▋         | 71/1082 [00:04<00:57, 17.54it/s]"
          ]
        },
        {
          "output_type": "stream",
          "name": "stdout",
          "text": [
            "\n",
            "image 1/1 /content/drive/MyDrive/bdma-07-competition/BDMA7_project_files/train_images/Brown_Creeper/Brown_Creeper_0100_24502.jpg: 640x640 1 Bird, 23.3ms\n",
            "Speed: 2.4ms preprocess, 23.3ms inference, 1.2ms postprocess per image at shape (1, 3, 640, 640)\n",
            "\n",
            "image 1/1 /content/drive/MyDrive/bdma-07-competition/BDMA7_project_files/train_images/Brown_Creeper/Brown_Creeper_0069_24618.jpg: 640x640 1 Bird, 23.1ms\n",
            "Speed: 3.7ms preprocess, 23.1ms inference, 1.2ms postprocess per image at shape (1, 3, 640, 640)\n"
          ]
        },
        {
          "output_type": "stream",
          "name": "stderr",
          "text": [
            "\rProcessing train_images images:   7%|▋         | 73/1082 [00:04<00:57, 17.58it/s]"
          ]
        },
        {
          "output_type": "stream",
          "name": "stdout",
          "text": [
            "\n",
            "image 1/1 /content/drive/MyDrive/bdma-07-competition/BDMA7_project_files/train_images/Brown_Creeper/Brown_Creeper_0049_24911.jpg: 640x640 1 Bird, 23.3ms\n",
            "Speed: 2.4ms preprocess, 23.3ms inference, 1.6ms postprocess per image at shape (1, 3, 640, 640)\n",
            "\n",
            "image 1/1 /content/drive/MyDrive/bdma-07-competition/BDMA7_project_files/train_images/Brown_Creeper/Brown_Creeper_0110_24866.jpg: 640x640 1 Bird, 24.4ms\n",
            "Speed: 2.5ms preprocess, 24.4ms inference, 1.3ms postprocess per image at shape (1, 3, 640, 640)\n"
          ]
        },
        {
          "output_type": "stream",
          "name": "stderr",
          "text": [
            "\rProcessing train_images images:   7%|▋         | 75/1082 [00:04<00:56, 17.79it/s]"
          ]
        },
        {
          "output_type": "stream",
          "name": "stdout",
          "text": [
            "\n",
            "image 1/1 /content/drive/MyDrive/bdma-07-competition/BDMA7_project_files/train_images/Brown_Creeper/Brown_Creeper_0073_24546.jpg: 640x640 1 Bird, 23.6ms\n",
            "Speed: 2.5ms preprocess, 23.6ms inference, 1.3ms postprocess per image at shape (1, 3, 640, 640)\n",
            "\n",
            "image 1/1 /content/drive/MyDrive/bdma-07-competition/BDMA7_project_files/train_images/Brown_Creeper/Brown_Creeper_0072_24977.jpg: 640x640 1 Bird, 23.0ms\n",
            "Speed: 2.4ms preprocess, 23.0ms inference, 1.2ms postprocess per image at shape (1, 3, 640, 640)\n"
          ]
        },
        {
          "output_type": "stream",
          "name": "stderr",
          "text": [
            "\rProcessing train_images images:   7%|▋         | 77/1082 [00:04<00:55, 17.98it/s]"
          ]
        },
        {
          "output_type": "stream",
          "name": "stdout",
          "text": [
            "\n",
            "image 1/1 /content/drive/MyDrive/bdma-07-competition/BDMA7_project_files/train_images/Brown_Creeper/Brown_Creeper_0047_24984.jpg: 640x640 1 Bird, 24.3ms\n",
            "Speed: 2.4ms preprocess, 24.3ms inference, 1.6ms postprocess per image at shape (1, 3, 640, 640)\n",
            "\n",
            "image 1/1 /content/drive/MyDrive/bdma-07-competition/BDMA7_project_files/train_images/Brown_Creeper/Brown_Creeper_0074_24789.jpg: 640x640 1 Bird, 27.2ms\n",
            "Speed: 3.6ms preprocess, 27.2ms inference, 1.7ms postprocess per image at shape (1, 3, 640, 640)\n"
          ]
        },
        {
          "output_type": "stream",
          "name": "stderr",
          "text": [
            "\rProcessing train_images images:   7%|▋         | 79/1082 [00:05<01:00, 16.65it/s]"
          ]
        },
        {
          "output_type": "stream",
          "name": "stdout",
          "text": [
            "\n",
            "image 1/1 /content/drive/MyDrive/bdma-07-competition/BDMA7_project_files/train_images/Brown_Creeper/Brown_Creeper_0085_24938.jpg: 640x640 1 Bird, 25.3ms\n",
            "Speed: 3.6ms preprocess, 25.3ms inference, 1.8ms postprocess per image at shape (1, 3, 640, 640)\n",
            "\n",
            "image 1/1 /content/drive/MyDrive/bdma-07-competition/BDMA7_project_files/train_images/Brown_Creeper/Brown_Creeper_0046_24463.jpg: 640x640 1 Bird, 27.1ms\n",
            "Speed: 3.1ms preprocess, 27.1ms inference, 1.7ms postprocess per image at shape (1, 3, 640, 640)\n"
          ]
        },
        {
          "output_type": "stream",
          "name": "stderr",
          "text": [
            "\rProcessing train_images images:   7%|▋         | 81/1082 [00:05<01:00, 16.43it/s]"
          ]
        },
        {
          "output_type": "stream",
          "name": "stdout",
          "text": [
            "\n",
            "image 1/1 /content/drive/MyDrive/bdma-07-competition/BDMA7_project_files/train_images/Brown_Creeper/Brown_Creeper_0123_24589.jpg: 640x640 1 Bird, 23.1ms\n",
            "Speed: 2.4ms preprocess, 23.1ms inference, 1.2ms postprocess per image at shape (1, 3, 640, 640)\n",
            "\n",
            "image 1/1 /content/drive/MyDrive/bdma-07-competition/BDMA7_project_files/train_images/Brown_Creeper/Brown_Creeper_0058_24933.jpg: 640x640 1 Bird, 23.3ms\n",
            "Speed: 2.4ms preprocess, 23.3ms inference, 1.2ms postprocess per image at shape (1, 3, 640, 640)\n"
          ]
        },
        {
          "output_type": "stream",
          "name": "stderr",
          "text": [
            "\rProcessing train_images images:   8%|▊         | 83/1082 [00:05<00:59, 16.75it/s]"
          ]
        },
        {
          "output_type": "stream",
          "name": "stdout",
          "text": [
            "\n",
            "image 1/1 /content/drive/MyDrive/bdma-07-competition/BDMA7_project_files/train_images/Brown_Creeper/Brown_Creeper_0114_24649.jpg: 640x640 1 Bird, 23.9ms\n",
            "Speed: 2.5ms preprocess, 23.9ms inference, 1.1ms postprocess per image at shape (1, 3, 640, 640)\n",
            "\n",
            "image 1/1 /content/drive/MyDrive/bdma-07-competition/BDMA7_project_files/train_images/Brown_Creeper/Brown_Creeper_0127_24656.jpg: 640x640 1 Bird, 23.1ms\n",
            "Speed: 2.4ms preprocess, 23.1ms inference, 1.2ms postprocess per image at shape (1, 3, 640, 640)\n"
          ]
        },
        {
          "output_type": "stream",
          "name": "stderr",
          "text": [
            "\rProcessing train_images images:   8%|▊         | 85/1082 [00:05<00:57, 17.19it/s]"
          ]
        },
        {
          "output_type": "stream",
          "name": "stdout",
          "text": [
            "\n",
            "image 1/1 /content/drive/MyDrive/bdma-07-competition/BDMA7_project_files/train_images/Brown_Creeper/Brown_Creeper_0107_24827.jpg: 640x640 1 Bird, 23.6ms\n",
            "Speed: 2.4ms preprocess, 23.6ms inference, 1.2ms postprocess per image at shape (1, 3, 640, 640)\n",
            "\n",
            "image 1/1 /content/drive/MyDrive/bdma-07-competition/BDMA7_project_files/train_images/Brown_Creeper/Brown_Creeper_0056_24452.jpg: 640x640 1 Bird, 24.2ms\n",
            "Speed: 2.4ms preprocess, 24.2ms inference, 1.1ms postprocess per image at shape (1, 3, 640, 640)\n"
          ]
        },
        {
          "output_type": "stream",
          "name": "stderr",
          "text": [
            "\rProcessing train_images images:   8%|▊         | 87/1082 [00:05<00:56, 17.55it/s]"
          ]
        },
        {
          "output_type": "stream",
          "name": "stdout",
          "text": [
            "\n",
            "image 1/1 /content/drive/MyDrive/bdma-07-competition/BDMA7_project_files/train_images/Brown_Creeper/Brown_Creeper_0002_24838.jpg: 640x640 1 Bird, 23.4ms\n",
            "Speed: 2.4ms preprocess, 23.4ms inference, 1.2ms postprocess per image at shape (1, 3, 640, 640)\n",
            "\n",
            "image 1/1 /content/drive/MyDrive/bdma-07-competition/BDMA7_project_files/train_images/Brown_Creeper/Brown_Creeper_0115_24488.jpg: 640x640 1 Bird, 26.4ms\n",
            "Speed: 3.3ms preprocess, 26.4ms inference, 1.1ms postprocess per image at shape (1, 3, 640, 640)\n"
          ]
        },
        {
          "output_type": "stream",
          "name": "stderr",
          "text": [
            "\rProcessing train_images images:   8%|▊         | 89/1082 [00:05<00:56, 17.55it/s]"
          ]
        },
        {
          "output_type": "stream",
          "name": "stdout",
          "text": [
            "\n",
            "image 1/1 /content/drive/MyDrive/bdma-07-competition/BDMA7_project_files/train_images/Brown_Creeper/Brown_Creeper_0048_24976.jpg: 640x640 1 Bird, 38.0ms\n",
            "Speed: 2.4ms preprocess, 38.0ms inference, 2.2ms postprocess per image at shape (1, 3, 640, 640)\n",
            "\n",
            "image 1/1 /content/drive/MyDrive/bdma-07-competition/BDMA7_project_files/train_images/Brown_Creeper/Brown_Creeper_0004_24851.jpg: 640x640 1 Bird, 23.3ms\n",
            "Speed: 2.4ms preprocess, 23.3ms inference, 1.2ms postprocess per image at shape (1, 3, 640, 640)\n"
          ]
        },
        {
          "output_type": "stream",
          "name": "stderr",
          "text": [
            "\rProcessing train_images images:   8%|▊         | 91/1082 [00:05<00:58, 17.04it/s]"
          ]
        },
        {
          "output_type": "stream",
          "name": "stdout",
          "text": [
            "\n",
            "image 1/1 /content/drive/MyDrive/bdma-07-competition/BDMA7_project_files/train_images/Brown_Creeper/Brown_Creeper_0051_24468.jpg: 640x640 1 Bird, 25.4ms\n",
            "Speed: 2.6ms preprocess, 25.4ms inference, 1.3ms postprocess per image at shape (1, 3, 640, 640)\n",
            "\n",
            "image 1/1 /content/drive/MyDrive/bdma-07-competition/BDMA7_project_files/train_images/Brown_Creeper/Brown_Creeper_0120_24955.jpg: 640x640 1 Bird, 25.4ms\n",
            "Speed: 2.5ms preprocess, 25.4ms inference, 1.2ms postprocess per image at shape (1, 3, 640, 640)\n"
          ]
        },
        {
          "output_type": "stream",
          "name": "stderr",
          "text": [
            "\rProcessing train_images images:   9%|▊         | 93/1082 [00:05<00:59, 16.51it/s]"
          ]
        },
        {
          "output_type": "stream",
          "name": "stdout",
          "text": [
            "\n",
            "image 1/1 /content/drive/MyDrive/bdma-07-competition/BDMA7_project_files/train_images/Brown_Creeper/Brown_Creeper_0064_24840.jpg: 640x640 1 Bird, 25.3ms\n",
            "Speed: 2.9ms preprocess, 25.3ms inference, 1.2ms postprocess per image at shape (1, 3, 640, 640)\n",
            "\n",
            "image 1/1 /content/drive/MyDrive/bdma-07-competition/BDMA7_project_files/train_images/Brown_Creeper/Brown_Creeper_0093_24581.jpg: 640x640 1 Bird, 26.0ms\n",
            "Speed: 3.0ms preprocess, 26.0ms inference, 1.5ms postprocess per image at shape (1, 3, 640, 640)\n"
          ]
        },
        {
          "output_type": "stream",
          "name": "stderr",
          "text": [
            "\rProcessing train_images images:   9%|▉         | 95/1082 [00:06<01:00, 16.43it/s]"
          ]
        },
        {
          "output_type": "stream",
          "name": "stdout",
          "text": [
            "\n",
            "image 1/1 /content/drive/MyDrive/bdma-07-competition/BDMA7_project_files/train_images/Brown_Creeper/Brown_Creeper_0063_24724.jpg: 640x640 1 Bird, 24.8ms\n",
            "Speed: 2.8ms preprocess, 24.8ms inference, 2.0ms postprocess per image at shape (1, 3, 640, 640)\n",
            "\n",
            "image 1/1 /content/drive/MyDrive/bdma-07-competition/BDMA7_project_files/train_images/Brown_Creeper/Brown_Creeper_0023_24940.jpg: 640x640 1 Bird, 26.3ms\n",
            "Speed: 3.2ms preprocess, 26.3ms inference, 1.6ms postprocess per image at shape (1, 3, 640, 640)\n"
          ]
        },
        {
          "output_type": "stream",
          "name": "stderr",
          "text": [
            "\rProcessing train_images images:   9%|▉         | 97/1082 [00:06<01:01, 16.06it/s]"
          ]
        },
        {
          "output_type": "stream",
          "name": "stdout",
          "text": [
            "\n",
            "image 1/1 /content/drive/MyDrive/bdma-07-competition/BDMA7_project_files/train_images/Brown_Creeper/Brown_Creeper_0057_24529.jpg: 640x640 1 Bird, 26.1ms\n",
            "Speed: 3.1ms preprocess, 26.1ms inference, 1.8ms postprocess per image at shape (1, 3, 640, 640)\n",
            "\n",
            "image 1/1 /content/drive/MyDrive/bdma-07-competition/BDMA7_project_files/train_images/Brown_Creeper/Brown_Creeper_0001_24449.jpg: 640x640 1 Bird, 24.7ms\n",
            "Speed: 2.4ms preprocess, 24.7ms inference, 1.2ms postprocess per image at shape (1, 3, 640, 640)\n"
          ]
        },
        {
          "output_type": "stream",
          "name": "stderr",
          "text": [
            "\rProcessing train_images images:   9%|▉         | 99/1082 [00:06<01:00, 16.33it/s]"
          ]
        },
        {
          "output_type": "stream",
          "name": "stdout",
          "text": [
            "\n",
            "image 1/1 /content/drive/MyDrive/bdma-07-competition/BDMA7_project_files/train_images/Brown_Creeper/Brown_Creeper_0124_24963.jpg: 640x640 1 Bird, 24.7ms\n",
            "Speed: 2.5ms preprocess, 24.7ms inference, 1.2ms postprocess per image at shape (1, 3, 640, 640)\n",
            "\n",
            "image 1/1 /content/drive/MyDrive/bdma-07-competition/BDMA7_project_files/train_images/Brown_Creeper/Brown_Creeper_0104_24698.jpg: 640x640 1 Bird, 24.8ms\n",
            "Speed: 2.5ms preprocess, 24.8ms inference, 1.2ms postprocess per image at shape (1, 3, 640, 640)\n"
          ]
        },
        {
          "output_type": "stream",
          "name": "stderr",
          "text": [
            "\rProcessing train_images images:   9%|▉         | 101/1082 [00:06<00:58, 16.67it/s]"
          ]
        },
        {
          "output_type": "stream",
          "name": "stdout",
          "text": [
            "\n",
            "image 1/1 /content/drive/MyDrive/bdma-07-competition/BDMA7_project_files/train_images/Brown_Creeper/Brown_Creeper_0061_24601.jpg: 640x640 1 Bird, 24.7ms\n",
            "Speed: 2.6ms preprocess, 24.7ms inference, 1.1ms postprocess per image at shape (1, 3, 640, 640)\n",
            "\n",
            "image 1/1 /content/drive/MyDrive/bdma-07-competition/BDMA7_project_files/train_images/Brown_Creeper/Brown_Creeper_0088_24731.jpg: 640x640 1 Bird, 24.5ms\n",
            "Speed: 2.5ms preprocess, 24.5ms inference, 1.3ms postprocess per image at shape (1, 3, 640, 640)\n"
          ]
        },
        {
          "output_type": "stream",
          "name": "stderr",
          "text": [
            "\rProcessing train_images images:  10%|▉         | 103/1082 [00:06<00:57, 17.10it/s]"
          ]
        },
        {
          "output_type": "stream",
          "name": "stdout",
          "text": [
            "\n",
            "image 1/1 /content/drive/MyDrive/bdma-07-competition/BDMA7_project_files/train_images/Brown_Creeper/Brown_Creeper_0079_24647.jpg: 640x640 1 Bird, 24.3ms\n",
            "Speed: 2.4ms preprocess, 24.3ms inference, 1.2ms postprocess per image at shape (1, 3, 640, 640)\n",
            "\n",
            "image 1/1 /content/drive/MyDrive/bdma-07-competition/BDMA7_project_files/train_images/Brown_Creeper/Brown_Creeper_0007_24902.jpg: 640x640 1 Bird, 24.3ms\n",
            "Speed: 2.4ms preprocess, 24.3ms inference, 1.2ms postprocess per image at shape (1, 3, 640, 640)\n"
          ]
        },
        {
          "output_type": "stream",
          "name": "stderr",
          "text": [
            "\rProcessing train_images images:  10%|▉         | 105/1082 [00:06<00:58, 16.57it/s]"
          ]
        },
        {
          "output_type": "stream",
          "name": "stdout",
          "text": [
            "\n",
            "image 1/1 /content/drive/MyDrive/bdma-07-competition/BDMA7_project_files/train_images/Bronzed_Cowbird/Bronzed_Cowbird_0064_24199.jpg: 640x640 1 Bird, 24.5ms\n",
            "Speed: 2.4ms preprocess, 24.5ms inference, 1.2ms postprocess per image at shape (1, 3, 640, 640)\n",
            "\n",
            "image 1/1 /content/drive/MyDrive/bdma-07-competition/BDMA7_project_files/train_images/Bronzed_Cowbird/Bronzed_Cowbird_0049_24147.jpg: 640x640 1 Bird, 24.2ms\n",
            "Speed: 2.5ms preprocess, 24.2ms inference, 1.8ms postprocess per image at shape (1, 3, 640, 640)\n"
          ]
        },
        {
          "output_type": "stream",
          "name": "stderr",
          "text": [
            "\rProcessing train_images images:  10%|▉         | 107/1082 [00:06<00:58, 16.75it/s]"
          ]
        },
        {
          "output_type": "stream",
          "name": "stdout",
          "text": [
            "\n",
            "image 1/1 /content/drive/MyDrive/bdma-07-competition/BDMA7_project_files/train_images/Bronzed_Cowbird/Bronzed_Cowbird_0054_24159.jpg: 640x640 1 Bird, 24.2ms\n",
            "Speed: 2.6ms preprocess, 24.2ms inference, 1.2ms postprocess per image at shape (1, 3, 640, 640)\n",
            "\n",
            "image 1/1 /content/drive/MyDrive/bdma-07-competition/BDMA7_project_files/train_images/Bronzed_Cowbird/Bronzed_Cowbird_0023_24058.jpg: 640x640 1 Bird, 24.0ms\n",
            "Speed: 2.5ms preprocess, 24.0ms inference, 1.3ms postprocess per image at shape (1, 3, 640, 640)\n"
          ]
        },
        {
          "output_type": "stream",
          "name": "stderr",
          "text": [
            "\rProcessing train_images images:  10%|█         | 109/1082 [00:06<00:57, 17.06it/s]"
          ]
        },
        {
          "output_type": "stream",
          "name": "stdout",
          "text": [
            "\n",
            "image 1/1 /content/drive/MyDrive/bdma-07-competition/BDMA7_project_files/train_images/Bronzed_Cowbird/Bronzed_Cowbird_0005_24173.jpg: 640x640 1 Bird, 24.2ms\n",
            "Speed: 2.7ms preprocess, 24.2ms inference, 1.2ms postprocess per image at shape (1, 3, 640, 640)\n",
            "\n",
            "image 1/1 /content/drive/MyDrive/bdma-07-competition/BDMA7_project_files/train_images/Bronzed_Cowbird/Bronzed_Cowbird_0087_796223.jpg: 640x640 1 Bird, 24.3ms\n",
            "Speed: 2.6ms preprocess, 24.3ms inference, 1.2ms postprocess per image at shape (1, 3, 640, 640)\n"
          ]
        },
        {
          "output_type": "stream",
          "name": "stderr",
          "text": [
            "\rProcessing train_images images:  10%|█         | 111/1082 [00:06<00:57, 16.96it/s]"
          ]
        },
        {
          "output_type": "stream",
          "name": "stdout",
          "text": [
            "\n",
            "image 1/1 /content/drive/MyDrive/bdma-07-competition/BDMA7_project_files/train_images/Bronzed_Cowbird/Bronzed_Cowbird_0061_796232.jpg: 640x640 1 Bird, 26.2ms\n",
            "Speed: 3.2ms preprocess, 26.2ms inference, 1.6ms postprocess per image at shape (1, 3, 640, 640)\n",
            "\n",
            "image 1/1 /content/drive/MyDrive/bdma-07-competition/BDMA7_project_files/train_images/Bronzed_Cowbird/Bronzed_Cowbird_0044_24145.jpg: 640x640 1 Bird, 26.0ms\n",
            "Speed: 3.2ms preprocess, 26.0ms inference, 1.5ms postprocess per image at shape (1, 3, 640, 640)\n"
          ]
        },
        {
          "output_type": "stream",
          "name": "stderr",
          "text": [
            "\rProcessing train_images images:  10%|█         | 113/1082 [00:07<00:58, 16.70it/s]"
          ]
        },
        {
          "output_type": "stream",
          "name": "stdout",
          "text": [
            "\n",
            "image 1/1 /content/drive/MyDrive/bdma-07-competition/BDMA7_project_files/train_images/Bronzed_Cowbird/Bronzed_Cowbird_0091_796212.jpg: 640x640 1 Bird, 25.1ms\n",
            "Speed: 2.8ms preprocess, 25.1ms inference, 1.8ms postprocess per image at shape (1, 3, 640, 640)\n",
            "\n",
            "image 1/1 /content/drive/MyDrive/bdma-07-competition/BDMA7_project_files/train_images/Bronzed_Cowbird/Bronzed_Cowbird_0031_24139.jpg: 640x640 1 Bird, 23.8ms\n",
            "Speed: 3.0ms preprocess, 23.8ms inference, 1.2ms postprocess per image at shape (1, 3, 640, 640)\n"
          ]
        },
        {
          "output_type": "stream",
          "name": "stderr",
          "text": [
            "\rProcessing train_images images:  11%|█         | 115/1082 [00:07<00:58, 16.50it/s]"
          ]
        },
        {
          "output_type": "stream",
          "name": "stdout",
          "text": [
            "\n",
            "image 1/1 /content/drive/MyDrive/bdma-07-competition/BDMA7_project_files/train_images/Bronzed_Cowbird/Bronzed_Cowbird_0055_24076.jpg: 640x640 1 Bird, 23.7ms\n",
            "Speed: 2.8ms preprocess, 23.7ms inference, 1.2ms postprocess per image at shape (1, 3, 640, 640)\n",
            "\n",
            "image 1/1 /content/drive/MyDrive/bdma-07-competition/BDMA7_project_files/train_images/Bronzed_Cowbird/Bronzed_Cowbird_0043_796224.jpg: 640x640 1 Bird, 23.6ms\n",
            "Speed: 2.5ms preprocess, 23.6ms inference, 1.2ms postprocess per image at shape (1, 3, 640, 640)\n"
          ]
        },
        {
          "output_type": "stream",
          "name": "stderr",
          "text": [
            "\rProcessing train_images images:  11%|█         | 117/1082 [00:07<00:59, 16.11it/s]"
          ]
        },
        {
          "output_type": "stream",
          "name": "stdout",
          "text": [
            "\n",
            "image 1/1 /content/drive/MyDrive/bdma-07-competition/BDMA7_project_files/train_images/Bronzed_Cowbird/Bronzed_Cowbird_0073_796226.jpg: 640x640 1 Bird, 34.6ms\n",
            "Speed: 2.4ms preprocess, 34.6ms inference, 8.6ms postprocess per image at shape (1, 3, 640, 640)\n",
            "\n",
            "image 1/1 /content/drive/MyDrive/bdma-07-competition/BDMA7_project_files/train_images/Bronzed_Cowbird/Bronzed_Cowbird_0060_24082.jpg: 640x640 1 Bird, 28.4ms\n",
            "Speed: 5.2ms preprocess, 28.4ms inference, 1.7ms postprocess per image at shape (1, 3, 640, 640)\n"
          ]
        },
        {
          "output_type": "stream",
          "name": "stderr",
          "text": [
            "\rProcessing train_images images:  11%|█         | 119/1082 [00:07<01:06, 14.56it/s]"
          ]
        },
        {
          "output_type": "stream",
          "name": "stdout",
          "text": [
            "\n",
            "image 1/1 /content/drive/MyDrive/bdma-07-competition/BDMA7_project_files/train_images/Bronzed_Cowbird/Bronzed_Cowbird_0026_796229.jpg: 640x640 1 Bird, 27.1ms\n",
            "Speed: 5.5ms preprocess, 27.1ms inference, 1.6ms postprocess per image at shape (1, 3, 640, 640)\n",
            "\n",
            "image 1/1 /content/drive/MyDrive/bdma-07-competition/BDMA7_project_files/train_images/Bronzed_Cowbird/Bronzed_Cowbird_0019_796242.jpg: 640x640 1 Bird, 23.7ms\n",
            "Speed: 4.0ms preprocess, 23.7ms inference, 1.5ms postprocess per image at shape (1, 3, 640, 640)\n"
          ]
        },
        {
          "output_type": "stream",
          "name": "stderr",
          "text": [
            "\rProcessing train_images images:  11%|█         | 121/1082 [00:07<01:07, 14.22it/s]"
          ]
        },
        {
          "output_type": "stream",
          "name": "stdout",
          "text": [
            "\n",
            "image 1/1 /content/drive/MyDrive/bdma-07-competition/BDMA7_project_files/train_images/Bronzed_Cowbird/Bronzed_Cowbird_0074_24045.jpg: 640x640 1 Bird, 27.1ms\n",
            "Speed: 3.9ms preprocess, 27.1ms inference, 1.7ms postprocess per image at shape (1, 3, 640, 640)\n",
            "\n",
            "image 1/1 /content/drive/MyDrive/bdma-07-competition/BDMA7_project_files/train_images/Bronzed_Cowbird/Bronzed_Cowbird_0040_24134.jpg: 640x640 1 Bird, 24.1ms\n",
            "Speed: 4.3ms preprocess, 24.1ms inference, 1.5ms postprocess per image at shape (1, 3, 640, 640)\n"
          ]
        },
        {
          "output_type": "stream",
          "name": "stderr",
          "text": [
            "\rProcessing train_images images:  11%|█▏        | 123/1082 [00:07<01:10, 13.65it/s]"
          ]
        },
        {
          "output_type": "stream",
          "name": "stdout",
          "text": [
            "\n",
            "image 1/1 /content/drive/MyDrive/bdma-07-competition/BDMA7_project_files/train_images/Bronzed_Cowbird/Bronzed_Cowbird_0053_24170.jpg: 640x640 1 Bird, 23.6ms\n",
            "Speed: 3.8ms preprocess, 23.6ms inference, 1.6ms postprocess per image at shape (1, 3, 640, 640)\n",
            "\n",
            "image 1/1 /content/drive/MyDrive/bdma-07-competition/BDMA7_project_files/train_images/Bronzed_Cowbird/Bronzed_Cowbird_0034_796209.jpg: 640x640 1 Bird, 25.1ms\n",
            "Speed: 3.9ms preprocess, 25.1ms inference, 1.6ms postprocess per image at shape (1, 3, 640, 640)\n"
          ]
        },
        {
          "output_type": "stream",
          "name": "stderr",
          "text": [
            "\rProcessing train_images images:  12%|█▏        | 125/1082 [00:07<01:09, 13.71it/s]"
          ]
        },
        {
          "output_type": "stream",
          "name": "stdout",
          "text": [
            "\n",
            "image 1/1 /content/drive/MyDrive/bdma-07-competition/BDMA7_project_files/train_images/Bronzed_Cowbird/Bronzed_Cowbird_0013_24131.jpg: 640x640 1 Bird, 30.3ms\n",
            "Speed: 3.9ms preprocess, 30.3ms inference, 3.0ms postprocess per image at shape (1, 3, 640, 640)\n",
            "\n",
            "image 1/1 /content/drive/MyDrive/bdma-07-competition/BDMA7_project_files/train_images/Bronzed_Cowbird/Bronzed_Cowbird_0018_24140.jpg: 640x640 1 Bird, 37.4ms\n",
            "Speed: 4.6ms preprocess, 37.4ms inference, 1.8ms postprocess per image at shape (1, 3, 640, 640)\n"
          ]
        },
        {
          "output_type": "stream",
          "name": "stderr",
          "text": [
            "\rProcessing train_images images:  12%|█▏        | 127/1082 [00:08<01:13, 12.93it/s]"
          ]
        },
        {
          "output_type": "stream",
          "name": "stdout",
          "text": [
            "\n",
            "image 1/1 /content/drive/MyDrive/bdma-07-competition/BDMA7_project_files/train_images/Bronzed_Cowbird/Bronzed_Cowbird_0086_796259.jpg: 640x640 1 Bird, 32.1ms\n",
            "Speed: 4.7ms preprocess, 32.1ms inference, 2.1ms postprocess per image at shape (1, 3, 640, 640)\n",
            "\n",
            "image 1/1 /content/drive/MyDrive/bdma-07-competition/BDMA7_project_files/train_images/Bronzed_Cowbird/Bronzed_Cowbird_0009_24033.jpg: 640x640 1 Bird, 26.3ms\n",
            "Speed: 4.3ms preprocess, 26.3ms inference, 1.5ms postprocess per image at shape (1, 3, 640, 640)\n"
          ]
        },
        {
          "output_type": "stream",
          "name": "stderr",
          "text": [
            "\rProcessing train_images images:  12%|█▏        | 129/1082 [00:08<01:16, 12.47it/s]"
          ]
        },
        {
          "output_type": "stream",
          "name": "stdout",
          "text": [
            "\n",
            "image 1/1 /content/drive/MyDrive/bdma-07-competition/BDMA7_project_files/train_images/Bronzed_Cowbird/Bronzed_Cowbird_0029_796256.jpg: 640x640 1 Bird, 23.5ms\n",
            "Speed: 5.7ms preprocess, 23.5ms inference, 1.6ms postprocess per image at shape (1, 3, 640, 640)\n",
            "\n",
            "image 1/1 /content/drive/MyDrive/bdma-07-competition/BDMA7_project_files/train_images/Bronzed_Cowbird/Bronzed_Cowbird_0082_24175.jpg: 640x640 1 Bird, 23.7ms\n",
            "Speed: 4.6ms preprocess, 23.7ms inference, 1.8ms postprocess per image at shape (1, 3, 640, 640)\n"
          ]
        },
        {
          "output_type": "stream",
          "name": "stderr",
          "text": [
            "\rProcessing train_images images:  12%|█▏        | 131/1082 [00:08<01:12, 13.13it/s]"
          ]
        },
        {
          "output_type": "stream",
          "name": "stdout",
          "text": [
            "\n",
            "image 1/1 /content/drive/MyDrive/bdma-07-competition/BDMA7_project_files/train_images/Bronzed_Cowbird/Bronzed_Cowbird_0032_796233.jpg: 640x640 1 Bird, 23.5ms\n",
            "Speed: 4.1ms preprocess, 23.5ms inference, 1.8ms postprocess per image at shape (1, 3, 640, 640)\n",
            "\n",
            "image 1/1 /content/drive/MyDrive/bdma-07-competition/BDMA7_project_files/train_images/Bronzed_Cowbird/Bronzed_Cowbird_0017_24019.jpg: 640x640 1 Bird, 34.6ms\n",
            "Speed: 4.3ms preprocess, 34.6ms inference, 1.8ms postprocess per image at shape (1, 3, 640, 640)\n"
          ]
        },
        {
          "output_type": "stream",
          "name": "stderr",
          "text": [
            "\rProcessing train_images images:  12%|█▏        | 133/1082 [00:08<01:11, 13.23it/s]"
          ]
        },
        {
          "output_type": "stream",
          "name": "stdout",
          "text": [
            "\n",
            "image 1/1 /content/drive/MyDrive/bdma-07-competition/BDMA7_project_files/train_images/Bronzed_Cowbird/Bronzed_Cowbird_0016_796245.jpg: 640x640 1 Bird, 35.4ms\n",
            "Speed: 5.9ms preprocess, 35.4ms inference, 1.9ms postprocess per image at shape (1, 3, 640, 640)\n",
            "\n",
            "image 1/1 /content/drive/MyDrive/bdma-07-competition/BDMA7_project_files/train_images/Bronzed_Cowbird/Bronzed_Cowbird_0089_796220.jpg: 640x640 1 Bird, 30.3ms\n",
            "Speed: 4.1ms preprocess, 30.3ms inference, 1.9ms postprocess per image at shape (1, 3, 640, 640)\n"
          ]
        },
        {
          "output_type": "stream",
          "name": "stderr",
          "text": [
            "\rProcessing train_images images:  12%|█▏        | 135/1082 [00:08<01:12, 13.14it/s]"
          ]
        },
        {
          "output_type": "stream",
          "name": "stdout",
          "text": [
            "\n",
            "image 1/1 /content/drive/MyDrive/bdma-07-competition/BDMA7_project_files/train_images/Bronzed_Cowbird/Bronzed_Cowbird_0039_24026.jpg: 640x640 1 Bird, 31.4ms\n",
            "Speed: 5.7ms preprocess, 31.4ms inference, 1.5ms postprocess per image at shape (1, 3, 640, 640)\n",
            "\n",
            "image 1/1 /content/drive/MyDrive/bdma-07-competition/BDMA7_project_files/train_images/Bronzed_Cowbird/Bronzed_Cowbird_0057_24074.jpg: 640x640 1 Bird, 31.4ms\n",
            "Speed: 3.9ms preprocess, 31.4ms inference, 1.7ms postprocess per image at shape (1, 3, 640, 640)\n"
          ]
        },
        {
          "output_type": "stream",
          "name": "stderr",
          "text": [
            "\rProcessing train_images images:  13%|█▎        | 137/1082 [00:08<01:11, 13.19it/s]"
          ]
        },
        {
          "output_type": "stream",
          "name": "stdout",
          "text": [
            "\n",
            "image 1/1 /content/drive/MyDrive/bdma-07-competition/BDMA7_project_files/train_images/Bronzed_Cowbird/Bronzed_Cowbird_0025_796213.jpg: 640x640 1 Bird, 23.6ms\n",
            "Speed: 4.7ms preprocess, 23.6ms inference, 2.4ms postprocess per image at shape (1, 3, 640, 640)\n",
            "\n",
            "image 1/1 /content/drive/MyDrive/bdma-07-competition/BDMA7_project_files/train_images/Bronzed_Cowbird/Bronzed_Cowbird_0021_24189.jpg: 640x640 1 Bird, 31.3ms\n",
            "Speed: 4.1ms preprocess, 31.3ms inference, 1.8ms postprocess per image at shape (1, 3, 640, 640)\n"
          ]
        },
        {
          "output_type": "stream",
          "name": "stderr",
          "text": [
            "\rProcessing train_images images:  13%|█▎        | 139/1082 [00:09<01:12, 13.07it/s]"
          ]
        },
        {
          "output_type": "stream",
          "name": "stdout",
          "text": [
            "\n",
            "image 1/1 /content/drive/MyDrive/bdma-07-competition/BDMA7_project_files/train_images/Bronzed_Cowbird/Bronzed_Cowbird_0092_796215.jpg: 640x640 1 Bird, 27.3ms\n",
            "Speed: 4.2ms preprocess, 27.3ms inference, 1.8ms postprocess per image at shape (1, 3, 640, 640)\n",
            "\n",
            "image 1/1 /content/drive/MyDrive/bdma-07-competition/BDMA7_project_files/train_images/Bronzed_Cowbird/Bronzed_Cowbird_0012_796247.jpg: 640x640 1 Bird, 26.9ms\n",
            "Speed: 7.6ms preprocess, 26.9ms inference, 1.6ms postprocess per image at shape (1, 3, 640, 640)\n"
          ]
        },
        {
          "output_type": "stream",
          "name": "stderr",
          "text": [
            "\rProcessing train_images images:  13%|█▎        | 141/1082 [00:09<01:12, 12.99it/s]"
          ]
        },
        {
          "output_type": "stream",
          "name": "stdout",
          "text": [
            "\n",
            "image 1/1 /content/drive/MyDrive/bdma-07-competition/BDMA7_project_files/train_images/Bronzed_Cowbird/Bronzed_Cowbird_0051_24083.jpg: 640x640 1 Bird, 26.1ms\n",
            "Speed: 4.1ms preprocess, 26.1ms inference, 1.6ms postprocess per image at shape (1, 3, 640, 640)\n",
            "\n",
            "image 1/1 /content/drive/MyDrive/bdma-07-competition/BDMA7_project_files/train_images/Bronzed_Cowbird/Bronzed_Cowbird_0011_24138.jpg: 640x640 1 Bird, 26.6ms\n",
            "Speed: 3.9ms preprocess, 26.6ms inference, 1.7ms postprocess per image at shape (1, 3, 640, 640)\n"
          ]
        },
        {
          "output_type": "stream",
          "name": "stderr",
          "text": [
            "\rProcessing train_images images:  13%|█▎        | 143/1082 [00:09<01:11, 13.08it/s]"
          ]
        },
        {
          "output_type": "stream",
          "name": "stdout",
          "text": [
            "\n",
            "image 1/1 /content/drive/MyDrive/bdma-07-competition/BDMA7_project_files/train_images/Bronzed_Cowbird/Bronzed_Cowbird_0003_796246.jpg: 640x640 1 Bird, 26.4ms\n",
            "Speed: 4.0ms preprocess, 26.4ms inference, 1.6ms postprocess per image at shape (1, 3, 640, 640)\n",
            "\n",
            "image 1/1 /content/drive/MyDrive/bdma-07-competition/BDMA7_project_files/train_images/Bronzed_Cowbird/Bronzed_Cowbird_0008_796250.jpg: 640x640 1 Bird, 27.6ms\n",
            "Speed: 3.9ms preprocess, 27.6ms inference, 1.7ms postprocess per image at shape (1, 3, 640, 640)\n"
          ]
        },
        {
          "output_type": "stream",
          "name": "stderr",
          "text": [
            "\rProcessing train_images images:  13%|█▎        | 145/1082 [00:09<01:08, 13.64it/s]"
          ]
        },
        {
          "output_type": "stream",
          "name": "stdout",
          "text": [
            "\n",
            "image 1/1 /content/drive/MyDrive/bdma-07-competition/BDMA7_project_files/train_images/Bronzed_Cowbird/Bronzed_Cowbird_0076_796235.jpg: 640x640 1 Bird, 27.5ms\n",
            "Speed: 4.8ms preprocess, 27.5ms inference, 1.4ms postprocess per image at shape (1, 3, 640, 640)\n",
            "\n",
            "image 1/1 /content/drive/MyDrive/bdma-07-competition/BDMA7_project_files/train_images/Bronzed_Cowbird/Bronzed_Cowbird_0037_24032.jpg: 640x640 1 Bird, 26.9ms\n",
            "Speed: 4.2ms preprocess, 26.9ms inference, 1.5ms postprocess per image at shape (1, 3, 640, 640)\n"
          ]
        },
        {
          "output_type": "stream",
          "name": "stderr",
          "text": [
            "\rProcessing train_images images:  14%|█▎        | 147/1082 [00:09<01:06, 14.16it/s]"
          ]
        },
        {
          "output_type": "stream",
          "name": "stdout",
          "text": [
            "\n",
            "image 1/1 /content/drive/MyDrive/bdma-07-competition/BDMA7_project_files/train_images/Bronzed_Cowbird/Bronzed_Cowbird_0030_24103.jpg: 640x640 1 Bird, 26.5ms\n",
            "Speed: 4.3ms preprocess, 26.5ms inference, 1.5ms postprocess per image at shape (1, 3, 640, 640)\n",
            "\n",
            "image 1/1 /content/drive/MyDrive/bdma-07-competition/BDMA7_project_files/train_images/Bronzed_Cowbird/Bronzed_Cowbird_0022_796221.jpg: 640x640 1 Bird, 26.3ms\n",
            "Speed: 4.3ms preprocess, 26.3ms inference, 1.5ms postprocess per image at shape (1, 3, 640, 640)\n"
          ]
        },
        {
          "output_type": "stream",
          "name": "stderr",
          "text": [
            "\rProcessing train_images images:  14%|█▍        | 149/1082 [00:09<01:04, 14.53it/s]"
          ]
        },
        {
          "output_type": "stream",
          "name": "stdout",
          "text": [
            "\n",
            "image 1/1 /content/drive/MyDrive/bdma-07-competition/BDMA7_project_files/train_images/Bronzed_Cowbird/Bronzed_Cowbird_0027_24022.jpg: 640x640 1 Bird, 25.8ms\n",
            "Speed: 4.1ms preprocess, 25.8ms inference, 1.5ms postprocess per image at shape (1, 3, 640, 640)\n",
            "\n",
            "image 1/1 /content/drive/MyDrive/bdma-07-competition/BDMA7_project_files/train_images/Bronzed_Cowbird/Bronzed_Cowbird_0014_24030.jpg: 640x640 1 Bird, 33.0ms\n",
            "Speed: 4.2ms preprocess, 33.0ms inference, 1.6ms postprocess per image at shape (1, 3, 640, 640)\n"
          ]
        },
        {
          "output_type": "stream",
          "name": "stderr",
          "text": [
            "\rProcessing train_images images:  14%|█▍        | 151/1082 [00:09<01:04, 14.50it/s]"
          ]
        },
        {
          "output_type": "stream",
          "name": "stdout",
          "text": [
            "\n",
            "image 1/1 /content/drive/MyDrive/bdma-07-competition/BDMA7_project_files/train_images/Bronzed_Cowbird/Bronzed_Cowbird_0024_24167.jpg: 640x640 1 Bird, 26.1ms\n",
            "Speed: 5.5ms preprocess, 26.1ms inference, 1.5ms postprocess per image at shape (1, 3, 640, 640)\n",
            "\n",
            "image 1/1 /content/drive/MyDrive/bdma-07-competition/BDMA7_project_files/train_images/Bronzed_Cowbird/Bronzed_Cowbird_0046_796218.jpg: 640x640 1 Bird, 47.0ms\n",
            "Speed: 4.3ms preprocess, 47.0ms inference, 1.9ms postprocess per image at shape (1, 3, 640, 640)\n"
          ]
        },
        {
          "output_type": "stream",
          "name": "stderr",
          "text": [
            "\rProcessing train_images images:  14%|█▍        | 153/1082 [00:10<01:07, 13.80it/s]"
          ]
        },
        {
          "output_type": "stream",
          "name": "stdout",
          "text": [
            "\n",
            "image 1/1 /content/drive/MyDrive/bdma-07-competition/BDMA7_project_files/train_images/Bronzed_Cowbird/Bronzed_Cowbird_0090_24179.jpg: 640x640 1 Bird, 25.9ms\n",
            "Speed: 4.1ms preprocess, 25.9ms inference, 1.9ms postprocess per image at shape (1, 3, 640, 640)\n",
            "\n",
            "image 1/1 /content/drive/MyDrive/bdma-07-competition/BDMA7_project_files/train_images/Bronzed_Cowbird/Bronzed_Cowbird_0085_24152.jpg: 640x640 1 Bird, 27.5ms\n",
            "Speed: 7.0ms preprocess, 27.5ms inference, 2.1ms postprocess per image at shape (1, 3, 640, 640)\n"
          ]
        },
        {
          "output_type": "stream",
          "name": "stderr",
          "text": [
            "\rProcessing train_images images:  14%|█▍        | 155/1082 [00:10<01:10, 13.14it/s]"
          ]
        },
        {
          "output_type": "stream",
          "name": "stdout",
          "text": [
            "\n",
            "image 1/1 /content/drive/MyDrive/bdma-07-competition/BDMA7_project_files/train_images/Bronzed_Cowbird/Bronzed_Cowbird_0020_796237.jpg: 640x640 1 Bird, 30.9ms\n",
            "Speed: 3.9ms preprocess, 30.9ms inference, 1.8ms postprocess per image at shape (1, 3, 640, 640)\n",
            "\n",
            "image 1/1 /content/drive/MyDrive/bdma-07-competition/BDMA7_project_files/train_images/Bronzed_Cowbird/Bronzed_Cowbird_0001_796219.jpg: 640x640 1 Bird, 26.1ms\n",
            "Speed: 4.1ms preprocess, 26.1ms inference, 1.5ms postprocess per image at shape (1, 3, 640, 640)\n"
          ]
        },
        {
          "output_type": "stream",
          "name": "stderr",
          "text": [
            "\rProcessing train_images images:  15%|█▍        | 157/1082 [00:10<01:08, 13.47it/s]"
          ]
        },
        {
          "output_type": "stream",
          "name": "stdout",
          "text": [
            "\n",
            "image 1/1 /content/drive/MyDrive/bdma-07-competition/BDMA7_project_files/train_images/Black_billed_Cuckoo/Black_Billed_Cuckoo_0045_26194.jpg: 640x640 1 Bird, 26.5ms\n",
            "Speed: 4.1ms preprocess, 26.5ms inference, 1.5ms postprocess per image at shape (1, 3, 640, 640)\n",
            "\n",
            "image 1/1 /content/drive/MyDrive/bdma-07-competition/BDMA7_project_files/train_images/Black_billed_Cuckoo/Black_Billed_Cuckoo_0095_795307.jpg: 640x640 1 Bird, 34.1ms\n",
            "Speed: 3.9ms preprocess, 34.1ms inference, 1.9ms postprocess per image at shape (1, 3, 640, 640)\n"
          ]
        },
        {
          "output_type": "stream",
          "name": "stderr",
          "text": [
            "\rProcessing train_images images:  15%|█▍        | 159/1082 [00:10<01:08, 13.42it/s]"
          ]
        },
        {
          "output_type": "stream",
          "name": "stdout",
          "text": [
            "\n",
            "image 1/1 /content/drive/MyDrive/bdma-07-competition/BDMA7_project_files/train_images/Black_billed_Cuckoo/Black_Billed_Cuckoo_0027_26319.jpg: 640x640 1 Bird, 26.5ms\n",
            "Speed: 3.8ms preprocess, 26.5ms inference, 1.6ms postprocess per image at shape (1, 3, 640, 640)\n",
            "\n",
            "image 1/1 /content/drive/MyDrive/bdma-07-competition/BDMA7_project_files/train_images/Black_billed_Cuckoo/Black_Billed_Cuckoo_0023_26258.jpg: 640x640 1 Bird, 30.1ms\n",
            "Speed: 5.1ms preprocess, 30.1ms inference, 1.8ms postprocess per image at shape (1, 3, 640, 640)\n"
          ]
        },
        {
          "output_type": "stream",
          "name": "stderr",
          "text": [
            "\rProcessing train_images images:  15%|█▍        | 161/1082 [00:10<01:08, 13.37it/s]"
          ]
        },
        {
          "output_type": "stream",
          "name": "stdout",
          "text": [
            "\n",
            "image 1/1 /content/drive/MyDrive/bdma-07-competition/BDMA7_project_files/train_images/Black_billed_Cuckoo/Black_Billed_Cuckoo_0092_795313.jpg: 640x640 1 Bird, 30.1ms\n",
            "Speed: 3.8ms preprocess, 30.1ms inference, 1.8ms postprocess per image at shape (1, 3, 640, 640)\n",
            "\n",
            "image 1/1 /content/drive/MyDrive/bdma-07-competition/BDMA7_project_files/train_images/Black_billed_Cuckoo/Black_Billed_Cuckoo_0006_26233.jpg: 640x640 1 Bird, 30.3ms\n",
            "Speed: 3.9ms preprocess, 30.3ms inference, 1.7ms postprocess per image at shape (1, 3, 640, 640)\n"
          ]
        },
        {
          "output_type": "stream",
          "name": "stderr",
          "text": [
            "\rProcessing train_images images:  15%|█▌        | 163/1082 [00:10<01:08, 13.43it/s]"
          ]
        },
        {
          "output_type": "stream",
          "name": "stdout",
          "text": [
            "\n",
            "image 1/1 /content/drive/MyDrive/bdma-07-competition/BDMA7_project_files/train_images/Black_billed_Cuckoo/Black_Billed_Cuckoo_0046_795328.jpg: 640x640 1 Bird, 26.5ms\n",
            "Speed: 3.8ms preprocess, 26.5ms inference, 1.6ms postprocess per image at shape (1, 3, 640, 640)\n",
            "\n",
            "image 1/1 /content/drive/MyDrive/bdma-07-competition/BDMA7_project_files/train_images/Black_billed_Cuckoo/Black_Billed_Cuckoo_0017_26221.jpg: 640x640 1 Bird, 25.9ms\n",
            "Speed: 3.7ms preprocess, 25.9ms inference, 1.8ms postprocess per image at shape (1, 3, 640, 640)\n"
          ]
        },
        {
          "output_type": "stream",
          "name": "stderr",
          "text": [
            "\rProcessing train_images images:  15%|█▌        | 165/1082 [00:10<01:08, 13.38it/s]"
          ]
        },
        {
          "output_type": "stream",
          "name": "stdout",
          "text": [
            "\n",
            "image 1/1 /content/drive/MyDrive/bdma-07-competition/BDMA7_project_files/train_images/Black_billed_Cuckoo/Black_Billed_Cuckoo_0034_795320.jpg: 640x640 1 Bird, 39.1ms\n",
            "Speed: 4.8ms preprocess, 39.1ms inference, 2.2ms postprocess per image at shape (1, 3, 640, 640)\n",
            "\n",
            "image 1/1 /content/drive/MyDrive/bdma-07-competition/BDMA7_project_files/train_images/Black_billed_Cuckoo/Black_Billed_Cuckoo_0055_26223.jpg: 640x640 1 Bird, 44.9ms\n",
            "Speed: 5.2ms preprocess, 44.9ms inference, 2.9ms postprocess per image at shape (1, 3, 640, 640)\n"
          ]
        },
        {
          "output_type": "stream",
          "name": "stderr",
          "text": [
            "\rProcessing train_images images:  15%|█▌        | 167/1082 [00:11<01:14, 12.35it/s]"
          ]
        },
        {
          "output_type": "stream",
          "name": "stdout",
          "text": [
            "\n",
            "image 1/1 /content/drive/MyDrive/bdma-07-competition/BDMA7_project_files/train_images/Black_billed_Cuckoo/Black_Billed_Cuckoo_0042_795308.jpg: 640x640 1 Bird, 29.2ms\n",
            "Speed: 3.9ms preprocess, 29.2ms inference, 1.9ms postprocess per image at shape (1, 3, 640, 640)\n",
            "\n",
            "image 1/1 /content/drive/MyDrive/bdma-07-competition/BDMA7_project_files/train_images/Black_billed_Cuckoo/Black_Billed_Cuckoo_0062_795309.jpg: 640x640 1 Bird, 29.1ms\n",
            "Speed: 4.7ms preprocess, 29.1ms inference, 1.7ms postprocess per image at shape (1, 3, 640, 640)\n"
          ]
        },
        {
          "output_type": "stream",
          "name": "stderr",
          "text": [
            "\rProcessing train_images images:  16%|█▌        | 169/1082 [00:11<01:12, 12.62it/s]"
          ]
        },
        {
          "output_type": "stream",
          "name": "stdout",
          "text": [
            "\n",
            "image 1/1 /content/drive/MyDrive/bdma-07-competition/BDMA7_project_files/train_images/Black_billed_Cuckoo/Black_Billed_Cuckoo_0024_795331.jpg: 640x640 1 Bird, 32.3ms\n",
            "Speed: 3.8ms preprocess, 32.3ms inference, 2.2ms postprocess per image at shape (1, 3, 640, 640)\n",
            "\n",
            "image 1/1 /content/drive/MyDrive/bdma-07-competition/BDMA7_project_files/train_images/Black_billed_Cuckoo/Black_Billed_Cuckoo_0044_26243.jpg: 640x640 1 Bird, 32.6ms\n",
            "Speed: 4.2ms preprocess, 32.6ms inference, 2.2ms postprocess per image at shape (1, 3, 640, 640)\n"
          ]
        },
        {
          "output_type": "stream",
          "name": "stderr",
          "text": [
            "\rProcessing train_images images:  16%|█▌        | 171/1082 [00:11<01:11, 12.82it/s]"
          ]
        },
        {
          "output_type": "stream",
          "name": "stdout",
          "text": [
            "\n",
            "image 1/1 /content/drive/MyDrive/bdma-07-competition/BDMA7_project_files/train_images/Black_billed_Cuckoo/Black_Billed_Cuckoo_0054_26313.jpg: 640x640 1 Bird, 29.0ms\n",
            "Speed: 3.7ms preprocess, 29.0ms inference, 1.7ms postprocess per image at shape (1, 3, 640, 640)\n",
            "\n",
            "image 1/1 /content/drive/MyDrive/bdma-07-competition/BDMA7_project_files/train_images/Black_billed_Cuckoo/Black_Billed_Cuckoo_0018_26218.jpg: 640x640 1 Bird, 28.2ms\n",
            "Speed: 3.7ms preprocess, 28.2ms inference, 1.5ms postprocess per image at shape (1, 3, 640, 640)\n"
          ]
        },
        {
          "output_type": "stream",
          "name": "stderr",
          "text": [
            "\rProcessing train_images images:  16%|█▌        | 173/1082 [00:11<01:08, 13.22it/s]"
          ]
        },
        {
          "output_type": "stream",
          "name": "stdout",
          "text": [
            "\n",
            "image 1/1 /content/drive/MyDrive/bdma-07-competition/BDMA7_project_files/train_images/Black_billed_Cuckoo/Black_Billed_Cuckoo_0091_26246.jpg: 640x640 1 Bird, 28.0ms\n",
            "Speed: 4.1ms preprocess, 28.0ms inference, 1.1ms postprocess per image at shape (1, 3, 640, 640)\n",
            "\n",
            "image 1/1 /content/drive/MyDrive/bdma-07-competition/BDMA7_project_files/train_images/Black_billed_Cuckoo/Black_Billed_Cuckoo_0085_795294.jpg: 640x640 1 Bird, 28.3ms\n",
            "Speed: 2.4ms preprocess, 28.3ms inference, 1.1ms postprocess per image at shape (1, 3, 640, 640)\n"
          ]
        },
        {
          "output_type": "stream",
          "name": "stderr",
          "text": [
            "\rProcessing train_images images:  16%|█▌        | 175/1082 [00:11<01:04, 14.11it/s]"
          ]
        },
        {
          "output_type": "stream",
          "name": "stdout",
          "text": [
            "\n",
            "image 1/1 /content/drive/MyDrive/bdma-07-competition/BDMA7_project_files/train_images/Black_billed_Cuckoo/Black_Billed_Cuckoo_0015_26208.jpg: 640x640 1 Bird, 27.7ms\n",
            "Speed: 2.4ms preprocess, 27.7ms inference, 1.2ms postprocess per image at shape (1, 3, 640, 640)\n",
            "\n",
            "image 1/1 /content/drive/MyDrive/bdma-07-competition/BDMA7_project_files/train_images/Black_billed_Cuckoo/Black_Billed_Cuckoo_0051_795318.jpg: 640x640 1 Bird, 27.7ms\n",
            "Speed: 2.4ms preprocess, 27.7ms inference, 1.2ms postprocess per image at shape (1, 3, 640, 640)\n"
          ]
        },
        {
          "output_type": "stream",
          "name": "stderr",
          "text": [
            "\rProcessing train_images images:  16%|█▋        | 177/1082 [00:11<01:01, 14.79it/s]"
          ]
        },
        {
          "output_type": "stream",
          "name": "stdout",
          "text": [
            "\n",
            "image 1/1 /content/drive/MyDrive/bdma-07-competition/BDMA7_project_files/train_images/Black_billed_Cuckoo/Black_Billed_Cuckoo_0032_26292.jpg: 640x640 2 Birds, 23.4ms\n",
            "Speed: 2.4ms preprocess, 23.4ms inference, 1.1ms postprocess per image at shape (1, 3, 640, 640)\n",
            "\n",
            "image 1/1 /content/drive/MyDrive/bdma-07-competition/BDMA7_project_files/train_images/Black_billed_Cuckoo/Black_Billed_Cuckoo_0061_795327.jpg: 640x640 1 Bird, 24.2ms\n",
            "Speed: 3.0ms preprocess, 24.2ms inference, 1.8ms postprocess per image at shape (1, 3, 640, 640)\n"
          ]
        },
        {
          "output_type": "stream",
          "name": "stderr",
          "text": [
            "\rProcessing train_images images:  17%|█▋        | 179/1082 [00:11<00:58, 15.49it/s]"
          ]
        },
        {
          "output_type": "stream",
          "name": "stdout",
          "text": [
            "\n",
            "image 1/1 /content/drive/MyDrive/bdma-07-competition/BDMA7_project_files/train_images/Black_billed_Cuckoo/Black_Billed_Cuckoo_0096_26204.jpg: 640x640 1 Bird, 29.0ms\n",
            "Speed: 3.8ms preprocess, 29.0ms inference, 1.8ms postprocess per image at shape (1, 3, 640, 640)\n",
            "\n",
            "image 1/1 /content/drive/MyDrive/bdma-07-competition/BDMA7_project_files/train_images/Black_billed_Cuckoo/Black_Billed_Cuckoo_0070_795310.jpg: 640x640 1 Bird, 27.0ms\n",
            "Speed: 3.0ms preprocess, 27.0ms inference, 1.7ms postprocess per image at shape (1, 3, 640, 640)\n"
          ]
        },
        {
          "output_type": "stream",
          "name": "stderr",
          "text": [
            "\rProcessing train_images images:  17%|█▋        | 181/1082 [00:12<01:00, 14.91it/s]"
          ]
        },
        {
          "output_type": "stream",
          "name": "stdout",
          "text": [
            "\n",
            "image 1/1 /content/drive/MyDrive/bdma-07-competition/BDMA7_project_files/train_images/Black_billed_Cuckoo/Black_Billed_Cuckoo_0022_795319.jpg: 640x640 1 Bird, 24.2ms\n",
            "Speed: 3.1ms preprocess, 24.2ms inference, 1.5ms postprocess per image at shape (1, 3, 640, 640)\n",
            "\n",
            "image 1/1 /content/drive/MyDrive/bdma-07-competition/BDMA7_project_files/train_images/Black_billed_Cuckoo/Black_Billed_Cuckoo_0075_795298.jpg: 640x640 1 Bird, 23.9ms\n",
            "Speed: 3.1ms preprocess, 23.9ms inference, 1.4ms postprocess per image at shape (1, 3, 640, 640)\n"
          ]
        },
        {
          "output_type": "stream",
          "name": "stderr",
          "text": [
            "\rProcessing train_images images:  17%|█▋        | 183/1082 [00:12<00:58, 15.48it/s]"
          ]
        },
        {
          "output_type": "stream",
          "name": "stdout",
          "text": [
            "\n",
            "image 1/1 /content/drive/MyDrive/bdma-07-competition/BDMA7_project_files/train_images/Black_billed_Cuckoo/Black_Billed_Cuckoo_0053_795321.jpg: 640x640 1 Bird, 23.5ms\n",
            "Speed: 3.7ms preprocess, 23.5ms inference, 1.2ms postprocess per image at shape (1, 3, 640, 640)\n",
            "\n",
            "image 1/1 /content/drive/MyDrive/bdma-07-competition/BDMA7_project_files/train_images/Black_billed_Cuckoo/Black_Billed_Cuckoo_0052_26232.jpg: 640x640 1 Bird, 24.1ms\n",
            "Speed: 2.5ms preprocess, 24.1ms inference, 1.2ms postprocess per image at shape (1, 3, 640, 640)\n"
          ]
        },
        {
          "output_type": "stream",
          "name": "stderr",
          "text": [
            "\rProcessing train_images images:  17%|█▋        | 185/1082 [00:12<00:55, 16.12it/s]"
          ]
        },
        {
          "output_type": "stream",
          "name": "stdout",
          "text": [
            "\n",
            "image 1/1 /content/drive/MyDrive/bdma-07-competition/BDMA7_project_files/train_images/Black_billed_Cuckoo/Black_Billed_Cuckoo_0089_795322.jpg: 640x640 1 Bird, 23.6ms\n",
            "Speed: 2.4ms preprocess, 23.6ms inference, 1.1ms postprocess per image at shape (1, 3, 640, 640)\n",
            "\n",
            "image 1/1 /content/drive/MyDrive/bdma-07-competition/BDMA7_project_files/train_images/Black_billed_Cuckoo/Black_Billed_Cuckoo_0030_26240.jpg: 640x640 1 Bird, 23.2ms\n",
            "Speed: 2.5ms preprocess, 23.2ms inference, 1.1ms postprocess per image at shape (1, 3, 640, 640)\n"
          ]
        },
        {
          "output_type": "stream",
          "name": "stderr",
          "text": [
            "\rProcessing train_images images:  17%|█▋        | 187/1082 [00:12<00:53, 16.64it/s]"
          ]
        },
        {
          "output_type": "stream",
          "name": "stdout",
          "text": [
            "\n",
            "image 1/1 /content/drive/MyDrive/bdma-07-competition/BDMA7_project_files/train_images/Black_billed_Cuckoo/Black_Billed_Cuckoo_0074_795286.jpg: 640x640 1 Bird, 23.6ms\n",
            "Speed: 3.6ms preprocess, 23.6ms inference, 1.1ms postprocess per image at shape (1, 3, 640, 640)\n",
            "\n",
            "image 1/1 /content/drive/MyDrive/bdma-07-competition/BDMA7_project_files/train_images/Black_billed_Cuckoo/Black_Billed_Cuckoo_0008_795305.jpg: 640x640 1 Bird, 24.1ms\n",
            "Speed: 2.5ms preprocess, 24.1ms inference, 1.3ms postprocess per image at shape (1, 3, 640, 640)\n"
          ]
        },
        {
          "output_type": "stream",
          "name": "stderr",
          "text": [
            "\rProcessing train_images images:  17%|█▋        | 189/1082 [00:12<00:52, 16.91it/s]"
          ]
        },
        {
          "output_type": "stream",
          "name": "stdout",
          "text": [
            "\n",
            "image 1/1 /content/drive/MyDrive/bdma-07-competition/BDMA7_project_files/train_images/Black_billed_Cuckoo/Black_Billed_Cuckoo_0093_795316.jpg: 640x640 1 Bird, 23.9ms\n",
            "Speed: 2.4ms preprocess, 23.9ms inference, 1.1ms postprocess per image at shape (1, 3, 640, 640)\n",
            "\n",
            "image 1/1 /content/drive/MyDrive/bdma-07-competition/BDMA7_project_files/train_images/Black_billed_Cuckoo/Black_Billed_Cuckoo_0057_795323.jpg: 640x640 1 Bird, 23.6ms\n",
            "Speed: 2.4ms preprocess, 23.6ms inference, 1.1ms postprocess per image at shape (1, 3, 640, 640)\n"
          ]
        },
        {
          "output_type": "stream",
          "name": "stderr",
          "text": [
            "\rProcessing train_images images:  18%|█▊        | 191/1082 [00:12<00:51, 17.25it/s]"
          ]
        },
        {
          "output_type": "stream",
          "name": "stdout",
          "text": [
            "\n",
            "image 1/1 /content/drive/MyDrive/bdma-07-competition/BDMA7_project_files/train_images/Black_billed_Cuckoo/Black_Billed_Cuckoo_0084_26175.jpg: 640x640 1 Bird, 24.2ms\n",
            "Speed: 2.3ms preprocess, 24.2ms inference, 1.1ms postprocess per image at shape (1, 3, 640, 640)\n",
            "\n",
            "image 1/1 /content/drive/MyDrive/bdma-07-competition/BDMA7_project_files/train_images/Black_billed_Cuckoo/Black_Billed_Cuckoo_0058_795292.jpg: 640x640 1 Bird, 24.2ms\n",
            "Speed: 2.5ms preprocess, 24.2ms inference, 1.2ms postprocess per image at shape (1, 3, 640, 640)\n"
          ]
        },
        {
          "output_type": "stream",
          "name": "stderr",
          "text": [
            "\rProcessing train_images images:  18%|█▊        | 193/1082 [00:12<00:53, 16.70it/s]"
          ]
        },
        {
          "output_type": "stream",
          "name": "stdout",
          "text": [
            "\n",
            "image 1/1 /content/drive/MyDrive/bdma-07-competition/BDMA7_project_files/train_images/Black_billed_Cuckoo/Black_Billed_Cuckoo_0031_26318.jpg: 640x640 1 Bird, 24.3ms\n",
            "Speed: 2.4ms preprocess, 24.3ms inference, 1.1ms postprocess per image at shape (1, 3, 640, 640)\n",
            "\n",
            "image 1/1 /content/drive/MyDrive/bdma-07-competition/BDMA7_project_files/train_images/Black_billed_Cuckoo/Black_Billed_Cuckoo_0007_26320.jpg: 640x640 1 Bird, 24.5ms\n",
            "Speed: 2.5ms preprocess, 24.5ms inference, 1.2ms postprocess per image at shape (1, 3, 640, 640)\n"
          ]
        },
        {
          "output_type": "stream",
          "name": "stderr",
          "text": [
            "\rProcessing train_images images:  18%|█▊        | 195/1082 [00:12<00:52, 16.83it/s]"
          ]
        },
        {
          "output_type": "stream",
          "name": "stdout",
          "text": [
            "\n",
            "image 1/1 /content/drive/MyDrive/bdma-07-competition/BDMA7_project_files/train_images/Black_billed_Cuckoo/Black_Billed_Cuckoo_0071_26288.jpg: 640x640 1 Bird, 24.3ms\n",
            "Speed: 2.4ms preprocess, 24.3ms inference, 1.7ms postprocess per image at shape (1, 3, 640, 640)\n",
            "\n",
            "image 1/1 /content/drive/MyDrive/bdma-07-competition/BDMA7_project_files/train_images/Black_billed_Cuckoo/Black_Billed_Cuckoo_0088_26217.jpg: 640x640 1 Bird, 26.7ms\n",
            "Speed: 3.3ms preprocess, 26.7ms inference, 1.6ms postprocess per image at shape (1, 3, 640, 640)\n"
          ]
        },
        {
          "output_type": "stream",
          "name": "stderr",
          "text": [
            "\rProcessing train_images images:  18%|█▊        | 197/1082 [00:13<00:55, 15.99it/s]"
          ]
        },
        {
          "output_type": "stream",
          "name": "stdout",
          "text": [
            "\n",
            "image 1/1 /content/drive/MyDrive/bdma-07-competition/BDMA7_project_files/train_images/Black_billed_Cuckoo/Black_Billed_Cuckoo_0082_26241.jpg: 640x640 1 Bird, 24.5ms\n",
            "Speed: 2.9ms preprocess, 24.5ms inference, 1.6ms postprocess per image at shape (1, 3, 640, 640)\n",
            "\n",
            "image 1/1 /content/drive/MyDrive/bdma-07-competition/BDMA7_project_files/train_images/Black_billed_Cuckoo/Black_Billed_Cuckoo_0065_26203.jpg: 640x640 1 Bird, 24.5ms\n",
            "Speed: 2.9ms preprocess, 24.5ms inference, 1.7ms postprocess per image at shape (1, 3, 640, 640)\n"
          ]
        },
        {
          "output_type": "stream",
          "name": "stderr",
          "text": [
            "\rProcessing train_images images:  18%|█▊        | 199/1082 [00:13<00:55, 15.84it/s]"
          ]
        },
        {
          "output_type": "stream",
          "name": "stdout",
          "text": [
            "\n",
            "image 1/1 /content/drive/MyDrive/bdma-07-competition/BDMA7_project_files/train_images/Black_billed_Cuckoo/Black_Billed_Cuckoo_0047_26176.jpg: 640x640 1 Bird, 24.4ms\n",
            "Speed: 2.5ms preprocess, 24.4ms inference, 1.4ms postprocess per image at shape (1, 3, 640, 640)\n",
            "\n",
            "image 1/1 /content/drive/MyDrive/bdma-07-competition/BDMA7_project_files/train_images/Black_billed_Cuckoo/Black_Billed_Cuckoo_0086_26188.jpg: 640x640 1 Bird, 24.8ms\n",
            "Speed: 2.7ms preprocess, 24.8ms inference, 1.2ms postprocess per image at shape (1, 3, 640, 640)\n"
          ]
        },
        {
          "output_type": "stream",
          "name": "stderr",
          "text": [
            "\rProcessing train_images images:  19%|█▊        | 201/1082 [00:13<00:55, 15.98it/s]"
          ]
        },
        {
          "output_type": "stream",
          "name": "stdout",
          "text": [
            "\n",
            "image 1/1 /content/drive/MyDrive/bdma-07-competition/BDMA7_project_files/train_images/Black_billed_Cuckoo/Black_Billed_Cuckoo_0090_26311.jpg: 640x640 1 Bird, 24.6ms\n",
            "Speed: 2.4ms preprocess, 24.6ms inference, 1.2ms postprocess per image at shape (1, 3, 640, 640)\n",
            "\n",
            "image 1/1 /content/drive/MyDrive/bdma-07-competition/BDMA7_project_files/train_images/Black_billed_Cuckoo/Black_Billed_Cuckoo_0043_795324.jpg: 640x640 1 Bird, 24.4ms\n",
            "Speed: 2.4ms preprocess, 24.4ms inference, 1.1ms postprocess per image at shape (1, 3, 640, 640)\n"
          ]
        },
        {
          "output_type": "stream",
          "name": "stderr",
          "text": [
            "\rProcessing train_images images:  19%|█▉        | 203/1082 [00:13<00:53, 16.58it/s]"
          ]
        },
        {
          "output_type": "stream",
          "name": "stdout",
          "text": [
            "\n",
            "image 1/1 /content/drive/MyDrive/bdma-07-competition/BDMA7_project_files/train_images/Black_billed_Cuckoo/Black_Billed_Cuckoo_0083_795315.jpg: 640x640 1 Bird, 24.2ms\n",
            "Speed: 2.6ms preprocess, 24.2ms inference, 1.2ms postprocess per image at shape (1, 3, 640, 640)\n",
            "\n",
            "image 1/1 /content/drive/MyDrive/bdma-07-competition/BDMA7_project_files/train_images/Black_billed_Cuckoo/Black_Billed_Cuckoo_0087_795300.jpg: 640x640 1 Bird, 23.8ms\n",
            "Speed: 2.4ms preprocess, 23.8ms inference, 1.2ms postprocess per image at shape (1, 3, 640, 640)\n"
          ]
        },
        {
          "output_type": "stream",
          "name": "stderr",
          "text": [
            "\rProcessing train_images images:  19%|█▉        | 205/1082 [00:13<00:54, 16.24it/s]"
          ]
        },
        {
          "output_type": "stream",
          "name": "stdout",
          "text": [
            "\n",
            "image 1/1 /content/drive/MyDrive/bdma-07-competition/BDMA7_project_files/train_images/Black_billed_Cuckoo/Black_Billed_Cuckoo_0001_26242.jpg: 640x640 1 Bird, 23.9ms\n",
            "Speed: 2.5ms preprocess, 23.9ms inference, 1.2ms postprocess per image at shape (1, 3, 640, 640)\n",
            "\n",
            "image 1/1 /content/drive/MyDrive/bdma-07-competition/BDMA7_project_files/train_images/Black_billed_Cuckoo/Black_Billed_Cuckoo_0079_26180.jpg: 640x640 1 Bird, 23.7ms\n",
            "Speed: 2.4ms preprocess, 23.7ms inference, 1.1ms postprocess per image at shape (1, 3, 640, 640)\n"
          ]
        },
        {
          "output_type": "stream",
          "name": "stderr",
          "text": [
            "\rProcessing train_images images:  19%|█▉        | 207/1082 [00:13<00:52, 16.75it/s]"
          ]
        },
        {
          "output_type": "stream",
          "name": "stdout",
          "text": [
            "\n",
            "image 1/1 /content/drive/MyDrive/bdma-07-competition/BDMA7_project_files/train_images/Black_billed_Cuckoo/Black_Billed_Cuckoo_0081_26209.jpg: 640x640 1 Bird, 24.1ms\n",
            "Speed: 2.4ms preprocess, 24.1ms inference, 2.4ms postprocess per image at shape (1, 3, 640, 640)\n",
            "\n",
            "image 1/1 /content/drive/MyDrive/bdma-07-competition/BDMA7_project_files/train_images/Black_billed_Cuckoo/Black_Billed_Cuckoo_0005_26161.jpg: 640x640 2 Birds, 24.1ms\n",
            "Speed: 2.4ms preprocess, 24.1ms inference, 1.1ms postprocess per image at shape (1, 3, 640, 640)\n"
          ]
        },
        {
          "output_type": "stream",
          "name": "stderr",
          "text": [
            "\rProcessing train_images images:  19%|█▉        | 209/1082 [00:13<00:51, 16.86it/s]"
          ]
        },
        {
          "output_type": "stream",
          "name": "stdout",
          "text": [
            "\n",
            "image 1/1 /content/drive/MyDrive/bdma-07-competition/BDMA7_project_files/train_images/Black_billed_Cuckoo/Black_Billed_Cuckoo_0066_26303.jpg: 640x640 1 Bird, 24.1ms\n",
            "Speed: 2.5ms preprocess, 24.1ms inference, 1.2ms postprocess per image at shape (1, 3, 640, 640)\n",
            "\n",
            "image 1/1 /content/drive/MyDrive/bdma-07-competition/BDMA7_project_files/train_images/Black_billed_Cuckoo/Black_Billed_Cuckoo_0077_26222.jpg: 640x640 1 Bird, 24.7ms\n",
            "Speed: 2.5ms preprocess, 24.7ms inference, 1.2ms postprocess per image at shape (1, 3, 640, 640)\n"
          ]
        },
        {
          "output_type": "stream",
          "name": "stderr",
          "text": [
            "\rProcessing train_images images:  20%|█▉        | 211/1082 [00:13<00:51, 16.93it/s]"
          ]
        },
        {
          "output_type": "stream",
          "name": "stdout",
          "text": [
            "\n",
            "image 1/1 /content/drive/MyDrive/bdma-07-competition/BDMA7_project_files/train_images/Black_billed_Cuckoo/Black_Billed_Cuckoo_0073_795304.jpg: 640x640 1 Bird, 24.4ms\n",
            "Speed: 2.5ms preprocess, 24.4ms inference, 1.1ms postprocess per image at shape (1, 3, 640, 640)\n",
            "\n",
            "image 1/1 /content/drive/MyDrive/bdma-07-competition/BDMA7_project_files/train_images/Eastern_Towhee/Eastern_Towhee_0082_22330.jpg: 640x640 1 Bird, 26.7ms\n",
            "Speed: 2.5ms preprocess, 26.7ms inference, 2.7ms postprocess per image at shape (1, 3, 640, 640)\n"
          ]
        },
        {
          "output_type": "stream",
          "name": "stderr",
          "text": [
            "\rProcessing train_images images:  20%|█▉        | 213/1082 [00:14<00:52, 16.63it/s]"
          ]
        },
        {
          "output_type": "stream",
          "name": "stdout",
          "text": [
            "\n",
            "image 1/1 /content/drive/MyDrive/bdma-07-competition/BDMA7_project_files/train_images/Eastern_Towhee/Eastern_Towhee_0068_22194.jpg: 640x640 1 Bird, 30.8ms\n",
            "Speed: 5.1ms preprocess, 30.8ms inference, 1.6ms postprocess per image at shape (1, 3, 640, 640)\n",
            "\n",
            "image 1/1 /content/drive/MyDrive/bdma-07-competition/BDMA7_project_files/train_images/Eastern_Towhee/Eastern_Towhee_0098_22676.jpg: 640x640 1 Bird, 24.4ms\n",
            "Speed: 3.8ms preprocess, 24.4ms inference, 1.8ms postprocess per image at shape (1, 3, 640, 640)\n"
          ]
        },
        {
          "output_type": "stream",
          "name": "stderr",
          "text": [
            "\rProcessing train_images images:  20%|█▉        | 215/1082 [00:14<00:59, 14.52it/s]"
          ]
        },
        {
          "output_type": "stream",
          "name": "stdout",
          "text": [
            "\n",
            "image 1/1 /content/drive/MyDrive/bdma-07-competition/BDMA7_project_files/train_images/Eastern_Towhee/Eastern_Towhee_0091_22629.jpg: 640x640 1 Bird, 24.4ms\n",
            "Speed: 2.8ms preprocess, 24.4ms inference, 1.3ms postprocess per image at shape (1, 3, 640, 640)\n",
            "\n",
            "image 1/1 /content/drive/MyDrive/bdma-07-competition/BDMA7_project_files/train_images/Eastern_Towhee/Eastern_Towhee_0110_22549.jpg: 640x640 1 Bird, 24.4ms\n",
            "Speed: 2.5ms preprocess, 24.4ms inference, 1.2ms postprocess per image at shape (1, 3, 640, 640)\n"
          ]
        },
        {
          "output_type": "stream",
          "name": "stderr",
          "text": [
            "\rProcessing train_images images:  20%|██        | 217/1082 [00:14<01:00, 14.37it/s]"
          ]
        },
        {
          "output_type": "stream",
          "name": "stdout",
          "text": [
            "\n",
            "image 1/1 /content/drive/MyDrive/bdma-07-competition/BDMA7_project_files/train_images/Eastern_Towhee/Eastern_Towhee_0002_22318.jpg: 640x640 1 Bird, 24.6ms\n",
            "Speed: 2.5ms preprocess, 24.6ms inference, 1.3ms postprocess per image at shape (1, 3, 640, 640)\n",
            "\n",
            "image 1/1 /content/drive/MyDrive/bdma-07-competition/BDMA7_project_files/train_images/Eastern_Towhee/Eastern_Towhee_0126_22639.jpg: 640x640 1 Bird, 24.6ms\n",
            "Speed: 2.4ms preprocess, 24.6ms inference, 1.3ms postprocess per image at shape (1, 3, 640, 640)\n"
          ]
        },
        {
          "output_type": "stream",
          "name": "stderr",
          "text": [
            "\rProcessing train_images images:  20%|██        | 219/1082 [00:14<00:56, 15.18it/s]"
          ]
        },
        {
          "output_type": "stream",
          "name": "stdout",
          "text": [
            "\n",
            "image 1/1 /content/drive/MyDrive/bdma-07-competition/BDMA7_project_files/train_images/Eastern_Towhee/Eastern_Towhee_0052_22558.jpg: 640x640 1 Bird, 24.4ms\n",
            "Speed: 3.4ms preprocess, 24.4ms inference, 1.2ms postprocess per image at shape (1, 3, 640, 640)\n",
            "\n",
            "image 1/1 /content/drive/MyDrive/bdma-07-competition/BDMA7_project_files/train_images/Eastern_Towhee/Eastern_Towhee_0124_22585.jpg: 640x640 1 Bird, 24.3ms\n",
            "Speed: 2.4ms preprocess, 24.3ms inference, 1.1ms postprocess per image at shape (1, 3, 640, 640)\n"
          ]
        },
        {
          "output_type": "stream",
          "name": "stderr",
          "text": [
            "\rProcessing train_images images:  20%|██        | 221/1082 [00:14<00:54, 15.88it/s]"
          ]
        },
        {
          "output_type": "stream",
          "name": "stdout",
          "text": [
            "\n",
            "image 1/1 /content/drive/MyDrive/bdma-07-competition/BDMA7_project_files/train_images/Eastern_Towhee/Eastern_Towhee_0097_22580.jpg: 640x640 1 Bird, 24.3ms\n",
            "Speed: 2.5ms preprocess, 24.3ms inference, 1.3ms postprocess per image at shape (1, 3, 640, 640)\n",
            "\n",
            "image 1/1 /content/drive/MyDrive/bdma-07-competition/BDMA7_project_files/train_images/Eastern_Towhee/Eastern_Towhee_0007_22172.jpg: 640x640 1 Bird, 24.7ms\n",
            "Speed: 2.3ms preprocess, 24.7ms inference, 1.2ms postprocess per image at shape (1, 3, 640, 640)\n"
          ]
        },
        {
          "output_type": "stream",
          "name": "stderr",
          "text": [
            "\rProcessing train_images images:  21%|██        | 223/1082 [00:14<00:52, 16.35it/s]"
          ]
        },
        {
          "output_type": "stream",
          "name": "stdout",
          "text": [
            "\n",
            "image 1/1 /content/drive/MyDrive/bdma-07-competition/BDMA7_project_files/train_images/Eastern_Towhee/Eastern_Towhee_0115_22304.jpg: 640x640 1 Bird, 23.3ms\n",
            "Speed: 2.4ms preprocess, 23.3ms inference, 1.2ms postprocess per image at shape (1, 3, 640, 640)\n",
            "\n",
            "image 1/1 /content/drive/MyDrive/bdma-07-competition/BDMA7_project_files/train_images/Eastern_Towhee/Eastern_Towhee_0064_22649.jpg: 640x640 1 Bird, 23.3ms\n",
            "Speed: 2.4ms preprocess, 23.3ms inference, 1.2ms postprocess per image at shape (1, 3, 640, 640)\n"
          ]
        },
        {
          "output_type": "stream",
          "name": "stderr",
          "text": [
            "\rProcessing train_images images:  21%|██        | 225/1082 [00:14<00:51, 16.72it/s]"
          ]
        },
        {
          "output_type": "stream",
          "name": "stdout",
          "text": [
            "\n",
            "image 1/1 /content/drive/MyDrive/bdma-07-competition/BDMA7_project_files/train_images/Eastern_Towhee/Eastern_Towhee_0073_22247.jpg: 640x640 1 Bird, 23.7ms\n",
            "Speed: 2.5ms preprocess, 23.7ms inference, 1.1ms postprocess per image at shape (1, 3, 640, 640)\n",
            "\n",
            "image 1/1 /content/drive/MyDrive/bdma-07-competition/BDMA7_project_files/train_images/Eastern_Towhee/Eastern_Towhee_0067_22142.jpg: 640x640 1 Bird, 24.6ms\n",
            "Speed: 2.5ms preprocess, 24.6ms inference, 1.1ms postprocess per image at shape (1, 3, 640, 640)\n"
          ]
        },
        {
          "output_type": "stream",
          "name": "stderr",
          "text": [
            "\rProcessing train_images images:  21%|██        | 227/1082 [00:14<00:50, 16.91it/s]"
          ]
        },
        {
          "output_type": "stream",
          "name": "stdout",
          "text": [
            "\n",
            "image 1/1 /content/drive/MyDrive/bdma-07-competition/BDMA7_project_files/train_images/Eastern_Towhee/Eastern_Towhee_0093_22621.jpg: 640x640 1 Bird, 24.0ms\n",
            "Speed: 2.5ms preprocess, 24.0ms inference, 1.2ms postprocess per image at shape (1, 3, 640, 640)\n",
            "\n",
            "image 1/1 /content/drive/MyDrive/bdma-07-competition/BDMA7_project_files/train_images/Eastern_Towhee/Eastern_Towhee_0120_22189.jpg: 640x640 1 Bird, 29.7ms\n",
            "Speed: 3.3ms preprocess, 29.7ms inference, 1.6ms postprocess per image at shape (1, 3, 640, 640)\n"
          ]
        },
        {
          "output_type": "stream",
          "name": "stderr",
          "text": [
            "\rProcessing train_images images:  21%|██        | 229/1082 [00:15<00:51, 16.60it/s]"
          ]
        },
        {
          "output_type": "stream",
          "name": "stdout",
          "text": [
            "\n",
            "image 1/1 /content/drive/MyDrive/bdma-07-competition/BDMA7_project_files/train_images/Eastern_Towhee/Eastern_Towhee_0018_22546.jpg: 640x640 1 Bird, 33.3ms\n",
            "Speed: 6.6ms preprocess, 33.3ms inference, 1.7ms postprocess per image at shape (1, 3, 640, 640)\n",
            "\n",
            "image 1/1 /content/drive/MyDrive/bdma-07-competition/BDMA7_project_files/train_images/Eastern_Towhee/Eastern_Towhee_0001_22314.jpg: 640x640 1 Bird, 26.0ms\n",
            "Speed: 3.3ms preprocess, 26.0ms inference, 1.8ms postprocess per image at shape (1, 3, 640, 640)\n"
          ]
        },
        {
          "output_type": "stream",
          "name": "stderr",
          "text": [
            "\rProcessing train_images images:  21%|██▏       | 231/1082 [00:15<00:56, 15.10it/s]"
          ]
        },
        {
          "output_type": "stream",
          "name": "stdout",
          "text": [
            "\n",
            "image 1/1 /content/drive/MyDrive/bdma-07-competition/BDMA7_project_files/train_images/Eastern_Towhee/Eastern_Towhee_0014_22367.jpg: 640x640 1 Bird, 22.9ms\n",
            "Speed: 3.0ms preprocess, 22.9ms inference, 2.4ms postprocess per image at shape (1, 3, 640, 640)\n",
            "\n",
            "image 1/1 /content/drive/MyDrive/bdma-07-competition/BDMA7_project_files/train_images/Eastern_Towhee/Eastern_Towhee_0038_22399.jpg: 640x640 1 Bird, 24.0ms\n",
            "Speed: 2.7ms preprocess, 24.0ms inference, 1.5ms postprocess per image at shape (1, 3, 640, 640)\n"
          ]
        },
        {
          "output_type": "stream",
          "name": "stderr",
          "text": [
            "\rProcessing train_images images:  22%|██▏       | 233/1082 [00:15<00:54, 15.54it/s]"
          ]
        },
        {
          "output_type": "stream",
          "name": "stdout",
          "text": [
            "\n",
            "image 1/1 /content/drive/MyDrive/bdma-07-competition/BDMA7_project_files/train_images/Eastern_Towhee/Eastern_Towhee_0053_22623.jpg: 640x640 1 Bird, 23.7ms\n",
            "Speed: 2.6ms preprocess, 23.7ms inference, 1.2ms postprocess per image at shape (1, 3, 640, 640)\n",
            "\n",
            "image 1/1 /content/drive/MyDrive/bdma-07-competition/BDMA7_project_files/train_images/Eastern_Towhee/Eastern_Towhee_0075_22588.jpg: 640x640 1 Bird, 23.9ms\n",
            "Speed: 2.4ms preprocess, 23.9ms inference, 1.3ms postprocess per image at shape (1, 3, 640, 640)\n"
          ]
        },
        {
          "output_type": "stream",
          "name": "stderr",
          "text": [
            "\rProcessing train_images images:  22%|██▏       | 235/1082 [00:15<00:52, 16.11it/s]"
          ]
        },
        {
          "output_type": "stream",
          "name": "stdout",
          "text": [
            "\n",
            "image 1/1 /content/drive/MyDrive/bdma-07-competition/BDMA7_project_files/train_images/Eastern_Towhee/Eastern_Towhee_0074_22620.jpg: 640x640 2 Birds, 23.4ms\n",
            "Speed: 2.6ms preprocess, 23.4ms inference, 1.3ms postprocess per image at shape (1, 3, 640, 640)\n",
            "\n",
            "image 1/1 /content/drive/MyDrive/bdma-07-competition/BDMA7_project_files/train_images/Eastern_Towhee/Eastern_Towhee_0117_22741.jpg: 640x640 1 Bird, 23.3ms\n",
            "Speed: 2.5ms preprocess, 23.3ms inference, 1.3ms postprocess per image at shape (1, 3, 640, 640)\n"
          ]
        },
        {
          "output_type": "stream",
          "name": "stderr",
          "text": [
            "\rProcessing train_images images:  22%|██▏       | 237/1082 [00:15<00:51, 16.57it/s]"
          ]
        },
        {
          "output_type": "stream",
          "name": "stdout",
          "text": [
            "\n",
            "image 1/1 /content/drive/MyDrive/bdma-07-competition/BDMA7_project_files/train_images/Eastern_Towhee/Eastern_Towhee_0048_22557.jpg: 640x640 1 Bird, 23.4ms\n",
            "Speed: 2.4ms preprocess, 23.4ms inference, 1.1ms postprocess per image at shape (1, 3, 640, 640)\n",
            "\n",
            "image 1/1 /content/drive/MyDrive/bdma-07-competition/BDMA7_project_files/train_images/Eastern_Towhee/Eastern_Towhee_0040_22341.jpg: 640x640 1 Bird, 24.3ms\n",
            "Speed: 2.4ms preprocess, 24.3ms inference, 1.1ms postprocess per image at shape (1, 3, 640, 640)\n"
          ]
        },
        {
          "output_type": "stream",
          "name": "stderr",
          "text": [
            "\rProcessing train_images images:  22%|██▏       | 239/1082 [00:15<00:50, 16.81it/s]"
          ]
        },
        {
          "output_type": "stream",
          "name": "stdout",
          "text": [
            "\n",
            "image 1/1 /content/drive/MyDrive/bdma-07-competition/BDMA7_project_files/train_images/Eastern_Towhee/Eastern_Towhee_0121_22319.jpg: 640x640 1 Bird, 24.0ms\n",
            "Speed: 2.6ms preprocess, 24.0ms inference, 1.1ms postprocess per image at shape (1, 3, 640, 640)\n",
            "\n",
            "image 1/1 /content/drive/MyDrive/bdma-07-competition/BDMA7_project_files/train_images/Eastern_Towhee/Eastern_Towhee_0129_22358.jpg: 640x640 1 Bird, 23.7ms\n",
            "Speed: 2.5ms preprocess, 23.7ms inference, 1.2ms postprocess per image at shape (1, 3, 640, 640)\n"
          ]
        },
        {
          "output_type": "stream",
          "name": "stderr",
          "text": [
            "\rProcessing train_images images:  22%|██▏       | 241/1082 [00:15<00:49, 17.06it/s]"
          ]
        },
        {
          "output_type": "stream",
          "name": "stdout",
          "text": [
            "\n",
            "image 1/1 /content/drive/MyDrive/bdma-07-competition/BDMA7_project_files/train_images/Eastern_Towhee/Eastern_Towhee_0079_22690.jpg: 640x640 1 Bird, 23.3ms\n",
            "Speed: 2.4ms preprocess, 23.3ms inference, 1.1ms postprocess per image at shape (1, 3, 640, 640)\n",
            "\n",
            "image 1/1 /content/drive/MyDrive/bdma-07-competition/BDMA7_project_files/train_images/Eastern_Towhee/Eastern_Towhee_0013_22336.jpg: 640x640 1 Bird, 24.2ms\n",
            "Speed: 2.6ms preprocess, 24.2ms inference, 1.2ms postprocess per image at shape (1, 3, 640, 640)\n"
          ]
        },
        {
          "output_type": "stream",
          "name": "stderr",
          "text": [
            "\rProcessing train_images images:  22%|██▏       | 243/1082 [00:15<00:50, 16.47it/s]"
          ]
        },
        {
          "output_type": "stream",
          "name": "stdout",
          "text": [
            "\n",
            "image 1/1 /content/drive/MyDrive/bdma-07-competition/BDMA7_project_files/train_images/Eastern_Towhee/Eastern_Towhee_0027_22372.jpg: 640x640 1 Bird, 23.6ms\n",
            "Speed: 2.5ms preprocess, 23.6ms inference, 1.3ms postprocess per image at shape (1, 3, 640, 640)\n",
            "\n",
            "image 1/1 /content/drive/MyDrive/bdma-07-competition/BDMA7_project_files/train_images/Eastern_Towhee/Eastern_Towhee_0086_22611.jpg: 640x640 1 Bird, 24.0ms\n",
            "Speed: 3.2ms preprocess, 24.0ms inference, 1.5ms postprocess per image at shape (1, 3, 640, 640)\n"
          ]
        },
        {
          "output_type": "stream",
          "name": "stderr",
          "text": [
            "\rProcessing train_images images:  23%|██▎       | 245/1082 [00:16<00:50, 16.47it/s]"
          ]
        },
        {
          "output_type": "stream",
          "name": "stdout",
          "text": [
            "\n",
            "image 1/1 /content/drive/MyDrive/bdma-07-competition/BDMA7_project_files/train_images/Eastern_Towhee/Eastern_Towhee_0049_22357.jpg: 640x640 1 Bird, 26.4ms\n",
            "Speed: 3.3ms preprocess, 26.4ms inference, 1.8ms postprocess per image at shape (1, 3, 640, 640)\n",
            "\n",
            "image 1/1 /content/drive/MyDrive/bdma-07-competition/BDMA7_project_files/train_images/Eastern_Towhee/Eastern_Towhee_0085_22674.jpg: 640x640 1 Bird, 28.0ms\n",
            "Speed: 4.7ms preprocess, 28.0ms inference, 1.7ms postprocess per image at shape (1, 3, 640, 640)\n"
          ]
        },
        {
          "output_type": "stream",
          "name": "stderr",
          "text": [
            "\rProcessing train_images images:  23%|██▎       | 247/1082 [00:16<00:53, 15.68it/s]"
          ]
        },
        {
          "output_type": "stream",
          "name": "stdout",
          "text": [
            "\n",
            "image 1/1 /content/drive/MyDrive/bdma-07-competition/BDMA7_project_files/train_images/Eastern_Towhee/Eastern_Towhee_0020_22141.jpg: 640x640 2 Birds, 24.2ms\n",
            "Speed: 2.9ms preprocess, 24.2ms inference, 1.2ms postprocess per image at shape (1, 3, 640, 640)\n",
            "\n",
            "image 1/1 /content/drive/MyDrive/bdma-07-competition/BDMA7_project_files/train_images/Eastern_Towhee/Eastern_Towhee_0062_22418.jpg: 640x640 1 Bird, 24.1ms\n",
            "Speed: 3.1ms preprocess, 24.1ms inference, 1.2ms postprocess per image at shape (1, 3, 640, 640)\n"
          ]
        },
        {
          "output_type": "stream",
          "name": "stderr",
          "text": [
            "\rProcessing train_images images:  23%|██▎       | 249/1082 [00:16<00:51, 16.09it/s]"
          ]
        },
        {
          "output_type": "stream",
          "name": "stdout",
          "text": [
            "\n",
            "image 1/1 /content/drive/MyDrive/bdma-07-competition/BDMA7_project_files/train_images/Eastern_Towhee/Eastern_Towhee_0101_22559.jpg: 640x640 1 Bird, 23.8ms\n",
            "Speed: 2.4ms preprocess, 23.8ms inference, 1.2ms postprocess per image at shape (1, 3, 640, 640)\n",
            "\n",
            "image 1/1 /content/drive/MyDrive/bdma-07-competition/BDMA7_project_files/train_images/Eastern_Towhee/Eastern_Towhee_0031_22233.jpg: 640x640 1 Bird, 23.5ms\n",
            "Speed: 3.2ms preprocess, 23.5ms inference, 2.1ms postprocess per image at shape (1, 3, 640, 640)\n"
          ]
        },
        {
          "output_type": "stream",
          "name": "stderr",
          "text": [
            "\rProcessing train_images images:  23%|██▎       | 251/1082 [00:16<00:50, 16.49it/s]"
          ]
        },
        {
          "output_type": "stream",
          "name": "stdout",
          "text": [
            "\n",
            "image 1/1 /content/drive/MyDrive/bdma-07-competition/BDMA7_project_files/train_images/Eastern_Towhee/Eastern_Towhee_0042_22155.jpg: 640x640 1 Bird, 23.3ms\n",
            "Speed: 2.6ms preprocess, 23.3ms inference, 1.1ms postprocess per image at shape (1, 3, 640, 640)\n",
            "\n",
            "image 1/1 /content/drive/MyDrive/bdma-07-competition/BDMA7_project_files/train_images/Eastern_Towhee/Eastern_Towhee_0054_22147.jpg: 640x640 1 Bird, 23.5ms\n",
            "Speed: 4.1ms preprocess, 23.5ms inference, 1.1ms postprocess per image at shape (1, 3, 640, 640)\n"
          ]
        },
        {
          "output_type": "stream",
          "name": "stderr",
          "text": [
            "\rProcessing train_images images:  23%|██▎       | 253/1082 [00:16<00:51, 16.17it/s]"
          ]
        },
        {
          "output_type": "stream",
          "name": "stdout",
          "text": [
            "\n",
            "image 1/1 /content/drive/MyDrive/bdma-07-competition/BDMA7_project_files/train_images/Eastern_Towhee/Eastern_Towhee_0105_22675.jpg: 640x640 1 Bird, 23.5ms\n",
            "Speed: 2.5ms preprocess, 23.5ms inference, 1.1ms postprocess per image at shape (1, 3, 640, 640)\n",
            "\n",
            "image 1/1 /content/drive/MyDrive/bdma-07-competition/BDMA7_project_files/train_images/Eastern_Towhee/Eastern_Towhee_0111_22168.jpg: 640x640 1 Bird, 23.4ms\n",
            "Speed: 2.4ms preprocess, 23.4ms inference, 1.1ms postprocess per image at shape (1, 3, 640, 640)\n"
          ]
        },
        {
          "output_type": "stream",
          "name": "stderr",
          "text": [
            "\rProcessing train_images images:  24%|██▎       | 255/1082 [00:16<00:49, 16.62it/s]"
          ]
        },
        {
          "output_type": "stream",
          "name": "stdout",
          "text": [
            "\n",
            "image 1/1 /content/drive/MyDrive/bdma-07-competition/BDMA7_project_files/train_images/Eastern_Towhee/Eastern_Towhee_0099_22566.jpg: 640x640 1 Bird, 28.4ms\n",
            "Speed: 2.9ms preprocess, 28.4ms inference, 1.7ms postprocess per image at shape (1, 3, 640, 640)\n",
            "\n",
            "image 1/1 /content/drive/MyDrive/bdma-07-competition/BDMA7_project_files/train_images/Eastern_Towhee/Eastern_Towhee_0035_22223.jpg: 640x640 1 Bird, 23.4ms\n",
            "Speed: 3.8ms preprocess, 23.4ms inference, 1.2ms postprocess per image at shape (1, 3, 640, 640)\n"
          ]
        },
        {
          "output_type": "stream",
          "name": "stderr",
          "text": [
            "\rProcessing train_images images:  24%|██▍       | 257/1082 [00:16<00:52, 15.76it/s]"
          ]
        },
        {
          "output_type": "stream",
          "name": "stdout",
          "text": [
            "\n",
            "image 1/1 /content/drive/MyDrive/bdma-07-competition/BDMA7_project_files/train_images/Eastern_Towhee/Eastern_Towhee_0125_22220.jpg: 640x640 1 Bird, 23.5ms\n",
            "Speed: 2.4ms preprocess, 23.5ms inference, 1.1ms postprocess per image at shape (1, 3, 640, 640)\n",
            "\n",
            "image 1/1 /content/drive/MyDrive/bdma-07-competition/BDMA7_project_files/train_images/Eastern_Towhee/Eastern_Towhee_0024_22382.jpg: 640x640 1 Bird, 24.2ms\n",
            "Speed: 3.7ms preprocess, 24.2ms inference, 1.3ms postprocess per image at shape (1, 3, 640, 640)\n"
          ]
        },
        {
          "output_type": "stream",
          "name": "stderr",
          "text": [
            "\rProcessing train_images images:  24%|██▍       | 259/1082 [00:16<00:50, 16.24it/s]"
          ]
        },
        {
          "output_type": "stream",
          "name": "stdout",
          "text": [
            "\n",
            "image 1/1 /content/drive/MyDrive/bdma-07-competition/BDMA7_project_files/train_images/Eastern_Towhee/Eastern_Towhee_0022_22279.jpg: 640x640 1 Bird, 24.2ms\n",
            "Speed: 2.4ms preprocess, 24.2ms inference, 1.1ms postprocess per image at shape (1, 3, 640, 640)\n",
            "\n",
            "image 1/1 /content/drive/MyDrive/bdma-07-competition/BDMA7_project_files/train_images/Eastern_Towhee/Eastern_Towhee_0015_22275.jpg: 640x640 1 Bird, 25.8ms\n",
            "Speed: 3.1ms preprocess, 25.8ms inference, 1.6ms postprocess per image at shape (1, 3, 640, 640)\n"
          ]
        },
        {
          "output_type": "stream",
          "name": "stderr",
          "text": [
            "\rProcessing train_images images:  24%|██▍       | 261/1082 [00:17<00:49, 16.60it/s]"
          ]
        },
        {
          "output_type": "stream",
          "name": "stdout",
          "text": [
            "\n",
            "image 1/1 /content/drive/MyDrive/bdma-07-competition/BDMA7_project_files/train_images/Eastern_Towhee/Eastern_Towhee_0080_22303.jpg: 640x640 1 Bird, 26.5ms\n",
            "Speed: 3.9ms preprocess, 26.5ms inference, 1.4ms postprocess per image at shape (1, 3, 640, 640)\n",
            "\n",
            "image 1/1 /content/drive/MyDrive/bdma-07-competition/BDMA7_project_files/train_images/Eastern_Towhee/Eastern_Towhee_0134_22624.jpg: 640x640 1 Bird, 25.8ms\n",
            "Speed: 3.3ms preprocess, 25.8ms inference, 1.8ms postprocess per image at shape (1, 3, 640, 640)\n"
          ]
        },
        {
          "output_type": "stream",
          "name": "stderr",
          "text": [
            "\rProcessing train_images images:  24%|██▍       | 263/1082 [00:17<00:52, 15.73it/s]"
          ]
        },
        {
          "output_type": "stream",
          "name": "stdout",
          "text": [
            "\n",
            "image 1/1 /content/drive/MyDrive/bdma-07-competition/BDMA7_project_files/train_images/Eastern_Towhee/Eastern_Towhee_0017_22138.jpg: 640x640 1 Bird, 27.7ms\n",
            "Speed: 6.2ms preprocess, 27.7ms inference, 3.5ms postprocess per image at shape (1, 3, 640, 640)\n",
            "\n",
            "image 1/1 /content/drive/MyDrive/bdma-07-competition/BDMA7_project_files/train_images/Eastern_Towhee/Eastern_Towhee_0095_22594.jpg: 640x640 1 Bird, 23.4ms\n",
            "Speed: 2.6ms preprocess, 23.4ms inference, 1.2ms postprocess per image at shape (1, 3, 640, 640)\n"
          ]
        },
        {
          "output_type": "stream",
          "name": "stderr",
          "text": [
            "\rProcessing train_images images:  24%|██▍       | 265/1082 [00:17<00:54, 15.01it/s]"
          ]
        },
        {
          "output_type": "stream",
          "name": "stdout",
          "text": [
            "\n",
            "image 1/1 /content/drive/MyDrive/bdma-07-competition/BDMA7_project_files/train_images/Eastern_Towhee/Eastern_Towhee_0030_22693.jpg: 640x640 1 Bird, 24.0ms\n",
            "Speed: 2.4ms preprocess, 24.0ms inference, 1.2ms postprocess per image at shape (1, 3, 640, 640)\n",
            "\n",
            "image 1/1 /content/drive/MyDrive/bdma-07-competition/BDMA7_project_files/train_images/Groove_billed_Ani/Groove_Billed_Ani_0072_1696.jpg: 640x640 2 Birds, 23.5ms\n",
            "Speed: 2.4ms preprocess, 23.5ms inference, 1.3ms postprocess per image at shape (1, 3, 640, 640)\n"
          ]
        },
        {
          "output_type": "stream",
          "name": "stderr",
          "text": [
            "\rProcessing train_images images:  25%|██▍       | 267/1082 [00:17<00:52, 15.46it/s]"
          ]
        },
        {
          "output_type": "stream",
          "name": "stdout",
          "text": [
            "\n",
            "image 1/1 /content/drive/MyDrive/bdma-07-competition/BDMA7_project_files/train_images/Groove_billed_Ani/Groove_Billed_Ani_0015_1653.jpg: 640x640 1 Bird, 23.8ms\n",
            "Speed: 2.6ms preprocess, 23.8ms inference, 1.2ms postprocess per image at shape (1, 3, 640, 640)\n",
            "\n",
            "image 1/1 /content/drive/MyDrive/bdma-07-competition/BDMA7_project_files/train_images/Groove_billed_Ani/Groove_Billed_Ani_0046_1663.jpg: 640x640 1 Bird, 23.4ms\n",
            "Speed: 2.5ms preprocess, 23.4ms inference, 1.2ms postprocess per image at shape (1, 3, 640, 640)\n"
          ]
        },
        {
          "output_type": "stream",
          "name": "stderr",
          "text": [
            "\rProcessing train_images images:  25%|██▍       | 269/1082 [00:17<00:52, 15.37it/s]"
          ]
        },
        {
          "output_type": "stream",
          "name": "stdout",
          "text": [
            "\n",
            "image 1/1 /content/drive/MyDrive/bdma-07-competition/BDMA7_project_files/train_images/Groove_billed_Ani/Groove_Billed_Ani_0107_1590.jpg: 640x640 1 Bird, 23.4ms\n",
            "Speed: 2.5ms preprocess, 23.4ms inference, 1.1ms postprocess per image at shape (1, 3, 640, 640)\n",
            "\n",
            "image 1/1 /content/drive/MyDrive/bdma-07-competition/BDMA7_project_files/train_images/Groove_billed_Ani/Groove_Billed_Ani_0019_1585.jpg: 640x640 1 Bird, 23.6ms\n",
            "Speed: 2.4ms preprocess, 23.6ms inference, 1.1ms postprocess per image at shape (1, 3, 640, 640)\n"
          ]
        },
        {
          "output_type": "stream",
          "name": "stderr",
          "text": [
            "\rProcessing train_images images:  25%|██▌       | 271/1082 [00:17<00:51, 15.79it/s]"
          ]
        },
        {
          "output_type": "stream",
          "name": "stdout",
          "text": [
            "\n",
            "image 1/1 /content/drive/MyDrive/bdma-07-competition/BDMA7_project_files/train_images/Groove_billed_Ani/Groove_Billed_Ani_0082_1697.jpg: 640x640 1 Bird, 23.8ms\n",
            "Speed: 2.5ms preprocess, 23.8ms inference, 1.2ms postprocess per image at shape (1, 3, 640, 640)\n",
            "\n",
            "image 1/1 /content/drive/MyDrive/bdma-07-competition/BDMA7_project_files/train_images/Groove_billed_Ani/Groove_Billed_Ani_0087_1765.jpg: 640x640 1 Bird, 25.2ms\n",
            "Speed: 3.4ms preprocess, 25.2ms inference, 1.2ms postprocess per image at shape (1, 3, 640, 640)\n"
          ]
        },
        {
          "output_type": "stream",
          "name": "stderr",
          "text": [
            "\rProcessing train_images images:  25%|██▌       | 273/1082 [00:17<00:49, 16.34it/s]"
          ]
        },
        {
          "output_type": "stream",
          "name": "stdout",
          "text": [
            "\n",
            "image 1/1 /content/drive/MyDrive/bdma-07-competition/BDMA7_project_files/train_images/Groove_billed_Ani/Groove_Billed_Ani_0065_1502.jpg: 640x640 1 Bird, 24.5ms\n",
            "Speed: 2.7ms preprocess, 24.5ms inference, 1.1ms postprocess per image at shape (1, 3, 640, 640)\n",
            "\n",
            "image 1/1 /content/drive/MyDrive/bdma-07-competition/BDMA7_project_files/train_images/Groove_billed_Ani/Groove_Billed_Ani_0027_1754.jpg: 640x640 1 Bird, 24.5ms\n",
            "Speed: 2.5ms preprocess, 24.5ms inference, 1.2ms postprocess per image at shape (1, 3, 640, 640)\n"
          ]
        },
        {
          "output_type": "stream",
          "name": "stderr",
          "text": [
            "\rProcessing train_images images:  25%|██▌       | 275/1082 [00:17<00:49, 16.47it/s]"
          ]
        },
        {
          "output_type": "stream",
          "name": "stdout",
          "text": [
            "\n",
            "image 1/1 /content/drive/MyDrive/bdma-07-competition/BDMA7_project_files/train_images/Groove_billed_Ani/Groove_Billed_Ani_0080_1549.jpg: 640x640 1 Bird, 24.7ms\n",
            "Speed: 3.4ms preprocess, 24.7ms inference, 1.2ms postprocess per image at shape (1, 3, 640, 640)\n",
            "\n",
            "image 1/1 /content/drive/MyDrive/bdma-07-competition/BDMA7_project_files/train_images/Groove_billed_Ani/Groove_Billed_Ani_0047_1706.jpg: 640x640 1 Bird, 28.7ms\n",
            "Speed: 3.8ms preprocess, 28.7ms inference, 1.7ms postprocess per image at shape (1, 3, 640, 640)\n"
          ]
        },
        {
          "output_type": "stream",
          "name": "stderr",
          "text": [
            "\rProcessing train_images images:  26%|██▌       | 277/1082 [00:18<00:50, 16.08it/s]"
          ]
        },
        {
          "output_type": "stream",
          "name": "stdout",
          "text": [
            "\n",
            "image 1/1 /content/drive/MyDrive/bdma-07-competition/BDMA7_project_files/train_images/Groove_billed_Ani/Groove_Billed_Ani_0109_1592.jpg: 640x640 1 Bird, 27.1ms\n",
            "Speed: 3.3ms preprocess, 27.1ms inference, 1.7ms postprocess per image at shape (1, 3, 640, 640)\n",
            "\n",
            "image 1/1 /content/drive/MyDrive/bdma-07-competition/BDMA7_project_files/train_images/Groove_billed_Ani/Groove_Billed_Ani_0029_1620.jpg: 640x640 1 Bird, 25.8ms\n",
            "Speed: 3.0ms preprocess, 25.8ms inference, 2.1ms postprocess per image at shape (1, 3, 640, 640)\n"
          ]
        },
        {
          "output_type": "stream",
          "name": "stderr",
          "text": [
            "\rProcessing train_images images:  26%|██▌       | 279/1082 [00:18<00:51, 15.66it/s]"
          ]
        },
        {
          "output_type": "stream",
          "name": "stdout",
          "text": [
            "\n",
            "image 1/1 /content/drive/MyDrive/bdma-07-competition/BDMA7_project_files/train_images/Groove_billed_Ani/Groove_Billed_Ani_0036_1604.jpg: 640x640 1 Bird, 43.3ms\n",
            "Speed: 4.1ms preprocess, 43.3ms inference, 3.0ms postprocess per image at shape (1, 3, 640, 640)\n",
            "\n",
            "image 1/1 /content/drive/MyDrive/bdma-07-competition/BDMA7_project_files/train_images/Groove_billed_Ani/Groove_Billed_Ani_0031_1588.jpg: 640x640 1 Bird, 24.7ms\n",
            "Speed: 2.9ms preprocess, 24.7ms inference, 1.9ms postprocess per image at shape (1, 3, 640, 640)\n"
          ]
        },
        {
          "output_type": "stream",
          "name": "stderr",
          "text": [
            "\rProcessing train_images images:  26%|██▌       | 281/1082 [00:18<00:55, 14.56it/s]"
          ]
        },
        {
          "output_type": "stream",
          "name": "stdout",
          "text": [
            "\n",
            "image 1/1 /content/drive/MyDrive/bdma-07-competition/BDMA7_project_files/train_images/Groove_billed_Ani/Groove_Billed_Ani_0051_1650.jpg: 640x640 1 Bird, 24.7ms\n",
            "Speed: 2.7ms preprocess, 24.7ms inference, 1.2ms postprocess per image at shape (1, 3, 640, 640)\n",
            "\n",
            "image 1/1 /content/drive/MyDrive/bdma-07-competition/BDMA7_project_files/train_images/Groove_billed_Ani/Groove_Billed_Ani_0035_1591.jpg: 640x640 1 Bird, 24.6ms\n",
            "Speed: 2.5ms preprocess, 24.6ms inference, 1.2ms postprocess per image at shape (1, 3, 640, 640)\n"
          ]
        },
        {
          "output_type": "stream",
          "name": "stderr",
          "text": [
            "\rProcessing train_images images:  26%|██▌       | 283/1082 [00:18<00:52, 15.19it/s]"
          ]
        },
        {
          "output_type": "stream",
          "name": "stdout",
          "text": [
            "\n",
            "image 1/1 /content/drive/MyDrive/bdma-07-competition/BDMA7_project_files/train_images/Groove_billed_Ani/Groove_Billed_Ani_0055_1501.jpg: 640x640 2 Birds, 24.8ms\n",
            "Speed: 2.6ms preprocess, 24.8ms inference, 1.2ms postprocess per image at shape (1, 3, 640, 640)\n",
            "\n",
            "image 1/1 /content/drive/MyDrive/bdma-07-competition/BDMA7_project_files/train_images/Groove_billed_Ani/Groove_Billed_Ani_0009_1522.jpg: 640x640 1 Bird, 24.5ms\n",
            "Speed: 2.5ms preprocess, 24.5ms inference, 1.3ms postprocess per image at shape (1, 3, 640, 640)\n"
          ]
        },
        {
          "output_type": "stream",
          "name": "stderr",
          "text": [
            "\rProcessing train_images images:  26%|██▋       | 285/1082 [00:18<00:50, 15.67it/s]"
          ]
        },
        {
          "output_type": "stream",
          "name": "stdout",
          "text": [
            "\n",
            "image 1/1 /content/drive/MyDrive/bdma-07-competition/BDMA7_project_files/train_images/Groove_billed_Ani/Groove_Billed_Ani_0059_1480.jpg: 640x640 1 Bird, 24.4ms\n",
            "Speed: 2.5ms preprocess, 24.4ms inference, 1.2ms postprocess per image at shape (1, 3, 640, 640)\n",
            "\n",
            "image 1/1 /content/drive/MyDrive/bdma-07-competition/BDMA7_project_files/train_images/Groove_billed_Ani/Groove_Billed_Ani_0007_1615.jpg: 640x640 1 Bird, 24.3ms\n",
            "Speed: 3.5ms preprocess, 24.3ms inference, 1.1ms postprocess per image at shape (1, 3, 640, 640)\n"
          ]
        },
        {
          "output_type": "stream",
          "name": "stderr",
          "text": [
            "\rProcessing train_images images:  27%|██▋       | 287/1082 [00:18<00:49, 16.15it/s]"
          ]
        },
        {
          "output_type": "stream",
          "name": "stdout",
          "text": [
            "\n",
            "image 1/1 /content/drive/MyDrive/bdma-07-competition/BDMA7_project_files/train_images/Groove_billed_Ani/Groove_Billed_Ani_0091_1728.jpg: 640x640 1 Bird, 24.2ms\n",
            "Speed: 2.5ms preprocess, 24.2ms inference, 1.3ms postprocess per image at shape (1, 3, 640, 640)\n",
            "\n",
            "image 1/1 /content/drive/MyDrive/bdma-07-competition/BDMA7_project_files/train_images/Groove_billed_Ani/Groove_Billed_Ani_0014_1755.jpg: 640x640 1 Bird, 24.3ms\n",
            "Speed: 3.0ms preprocess, 24.3ms inference, 1.3ms postprocess per image at shape (1, 3, 640, 640)\n"
          ]
        },
        {
          "output_type": "stream",
          "name": "stderr",
          "text": [
            "\rProcessing train_images images:  27%|██▋       | 289/1082 [00:18<00:52, 15.25it/s]"
          ]
        },
        {
          "output_type": "stream",
          "name": "stdout",
          "text": [
            "\n",
            "image 1/1 /content/drive/MyDrive/bdma-07-competition/BDMA7_project_files/train_images/Groove_billed_Ani/Groove_Billed_Ani_0090_1567.jpg: 640x640 1 Bird, 24.1ms\n",
            "Speed: 2.7ms preprocess, 24.1ms inference, 1.4ms postprocess per image at shape (1, 3, 640, 640)\n",
            "\n",
            "image 1/1 /content/drive/MyDrive/bdma-07-competition/BDMA7_project_files/train_images/Groove_billed_Ani/Groove_Billed_Ani_0060_1505.jpg: 640x640 1 Bird, 24.3ms\n",
            "Speed: 2.9ms preprocess, 24.3ms inference, 1.2ms postprocess per image at shape (1, 3, 640, 640)\n"
          ]
        },
        {
          "output_type": "stream",
          "name": "stderr",
          "text": [
            "\rProcessing train_images images:  27%|██▋       | 291/1082 [00:18<00:51, 15.21it/s]"
          ]
        },
        {
          "output_type": "stream",
          "name": "stdout",
          "text": [
            "\n",
            "image 1/1 /content/drive/MyDrive/bdma-07-competition/BDMA7_project_files/train_images/Groove_billed_Ani/Groove_Billed_Ani_0071_1559.jpg: 640x640 1 Bird, 25.9ms\n",
            "Speed: 3.3ms preprocess, 25.9ms inference, 1.8ms postprocess per image at shape (1, 3, 640, 640)\n",
            "\n",
            "image 1/1 /content/drive/MyDrive/bdma-07-competition/BDMA7_project_files/train_images/Groove_billed_Ani/Groove_Billed_Ani_0010_1704.jpg: 640x640 1 Bird, 25.7ms\n",
            "Speed: 3.9ms preprocess, 25.7ms inference, 1.8ms postprocess per image at shape (1, 3, 640, 640)\n"
          ]
        },
        {
          "output_type": "stream",
          "name": "stderr",
          "text": [
            "\rProcessing train_images images:  27%|██▋       | 293/1082 [00:19<00:52, 15.02it/s]"
          ]
        },
        {
          "output_type": "stream",
          "name": "stdout",
          "text": [
            "\n",
            "image 1/1 /content/drive/MyDrive/bdma-07-competition/BDMA7_project_files/train_images/Groove_billed_Ani/Groove_Billed_Ani_0023_1485.jpg: 640x640 1 Bird, 25.8ms\n",
            "Speed: 4.2ms preprocess, 25.8ms inference, 1.8ms postprocess per image at shape (1, 3, 640, 640)\n",
            "\n",
            "image 1/1 /content/drive/MyDrive/bdma-07-competition/BDMA7_project_files/train_images/Groove_billed_Ani/Groove_Billed_Ani_0032_1776.jpg: 640x640 1 Bird, 24.0ms\n",
            "Speed: 3.4ms preprocess, 24.0ms inference, 1.7ms postprocess per image at shape (1, 3, 640, 640)\n"
          ]
        },
        {
          "output_type": "stream",
          "name": "stderr",
          "text": [
            "\rProcessing train_images images:  27%|██▋       | 295/1082 [00:19<00:52, 15.07it/s]"
          ]
        },
        {
          "output_type": "stream",
          "name": "stdout",
          "text": [
            "\n",
            "image 1/1 /content/drive/MyDrive/bdma-07-competition/BDMA7_project_files/train_images/Groove_billed_Ani/Groove_Billed_Ani_0075_1617.jpg: 640x640 1 Bird, 24.4ms\n",
            "Speed: 5.1ms preprocess, 24.4ms inference, 1.3ms postprocess per image at shape (1, 3, 640, 640)\n",
            "\n",
            "image 1/1 /content/drive/MyDrive/bdma-07-competition/BDMA7_project_files/train_images/Groove_billed_Ani/Groove_Billed_Ani_0100_1646.jpg: 640x640 1 Bird, 24.1ms\n",
            "Speed: 4.0ms preprocess, 24.1ms inference, 1.6ms postprocess per image at shape (1, 3, 640, 640)\n"
          ]
        },
        {
          "output_type": "stream",
          "name": "stderr",
          "text": [
            "\rProcessing train_images images:  27%|██▋       | 297/1082 [00:19<00:51, 15.39it/s]"
          ]
        },
        {
          "output_type": "stream",
          "name": "stdout",
          "text": [
            "\n",
            "image 1/1 /content/drive/MyDrive/bdma-07-competition/BDMA7_project_files/train_images/Groove_billed_Ani/Groove_Billed_Ani_0002_1670.jpg: 640x640 1 Bird, 24.1ms\n",
            "Speed: 2.4ms preprocess, 24.1ms inference, 1.2ms postprocess per image at shape (1, 3, 640, 640)\n",
            "\n",
            "image 1/1 /content/drive/MyDrive/bdma-07-competition/BDMA7_project_files/train_images/Groove_billed_Ani/Groove_Billed_Ani_0077_1724.jpg: 640x640 1 Bird, 24.0ms\n",
            "Speed: 2.5ms preprocess, 24.0ms inference, 1.2ms postprocess per image at shape (1, 3, 640, 640)\n"
          ]
        },
        {
          "output_type": "stream",
          "name": "stderr",
          "text": [
            "\rProcessing train_images images:  28%|██▊       | 299/1082 [00:19<00:49, 15.84it/s]"
          ]
        },
        {
          "output_type": "stream",
          "name": "stdout",
          "text": [
            "\n",
            "image 1/1 /content/drive/MyDrive/bdma-07-competition/BDMA7_project_files/train_images/Groove_billed_Ani/Groove_Billed_Ani_0037_1560.jpg: 640x640 1 Bird, 24.0ms\n",
            "Speed: 2.4ms preprocess, 24.0ms inference, 1.2ms postprocess per image at shape (1, 3, 640, 640)\n",
            "\n",
            "image 1/1 /content/drive/MyDrive/bdma-07-competition/BDMA7_project_files/train_images/Groove_billed_Ani/Groove_Billed_Ani_0005_1750.jpg: 640x640 1 Bird, 23.3ms\n",
            "Speed: 2.5ms preprocess, 23.3ms inference, 1.2ms postprocess per image at shape (1, 3, 640, 640)\n"
          ]
        },
        {
          "output_type": "stream",
          "name": "stderr",
          "text": [
            "\rProcessing train_images images:  28%|██▊       | 301/1082 [00:19<00:48, 16.23it/s]"
          ]
        },
        {
          "output_type": "stream",
          "name": "stdout",
          "text": [
            "\n",
            "image 1/1 /content/drive/MyDrive/bdma-07-competition/BDMA7_project_files/train_images/Groove_billed_Ani/Groove_Billed_Ani_0061_1510.jpg: 640x640 1 Bird, 24.3ms\n",
            "Speed: 2.4ms preprocess, 24.3ms inference, 1.2ms postprocess per image at shape (1, 3, 640, 640)\n",
            "\n",
            "image 1/1 /content/drive/MyDrive/bdma-07-competition/BDMA7_project_files/train_images/Groove_billed_Ani/Groove_Billed_Ani_0006_1763.jpg: 640x640 1 Bird, 23.9ms\n",
            "Speed: 2.4ms preprocess, 23.9ms inference, 1.2ms postprocess per image at shape (1, 3, 640, 640)\n"
          ]
        },
        {
          "output_type": "stream",
          "name": "stderr",
          "text": [
            "\rProcessing train_images images:  28%|██▊       | 303/1082 [00:19<00:47, 16.38it/s]"
          ]
        },
        {
          "output_type": "stream",
          "name": "stdout",
          "text": [
            "\n",
            "image 1/1 /content/drive/MyDrive/bdma-07-competition/BDMA7_project_files/train_images/Groove_billed_Ani/Groove_Billed_Ani_0018_1613.jpg: 640x640 1 Bird, 23.4ms\n",
            "Speed: 2.7ms preprocess, 23.4ms inference, 1.4ms postprocess per image at shape (1, 3, 640, 640)\n",
            "\n",
            "image 1/1 /content/drive/MyDrive/bdma-07-competition/BDMA7_project_files/train_images/Groove_billed_Ani/Groove_Billed_Ani_0101_1700.jpg: 640x640 1 Bird, 23.5ms\n",
            "Speed: 3.7ms preprocess, 23.5ms inference, 1.3ms postprocess per image at shape (1, 3, 640, 640)\n"
          ]
        },
        {
          "output_type": "stream",
          "name": "stderr",
          "text": [
            "\rProcessing train_images images:  28%|██▊       | 305/1082 [00:19<00:49, 15.63it/s]"
          ]
        },
        {
          "output_type": "stream",
          "name": "stdout",
          "text": [
            "\n",
            "image 1/1 /content/drive/MyDrive/bdma-07-competition/BDMA7_project_files/train_images/Groove_billed_Ani/Groove_Billed_Ani_0017_1561.jpg: 640x640 1 Bird, 23.1ms\n",
            "Speed: 2.6ms preprocess, 23.1ms inference, 1.4ms postprocess per image at shape (1, 3, 640, 640)\n",
            "\n",
            "image 1/1 /content/drive/MyDrive/bdma-07-competition/BDMA7_project_files/train_images/Groove_billed_Ani/Groove_Billed_Ani_0062_1767.jpg: 640x640 1 Bird, 24.2ms\n",
            "Speed: 2.7ms preprocess, 24.2ms inference, 1.3ms postprocess per image at shape (1, 3, 640, 640)\n"
          ]
        },
        {
          "output_type": "stream",
          "name": "stderr",
          "text": [
            "\rProcessing train_images images:  28%|██▊       | 307/1082 [00:19<00:48, 15.99it/s]"
          ]
        },
        {
          "output_type": "stream",
          "name": "stdout",
          "text": [
            "\n",
            "image 1/1 /content/drive/MyDrive/bdma-07-competition/BDMA7_project_files/train_images/Groove_billed_Ani/Groove_Billed_Ani_0092_1516.jpg: 640x640 1 Bird, 29.6ms\n",
            "Speed: 3.9ms preprocess, 29.6ms inference, 1.5ms postprocess per image at shape (1, 3, 640, 640)\n",
            "\n",
            "image 1/1 /content/drive/MyDrive/bdma-07-competition/BDMA7_project_files/train_images/Groove_billed_Ani/Groove_Billed_Ani_0044_1731.jpg: 640x640 1 Bird, 24.3ms\n",
            "Speed: 3.2ms preprocess, 24.3ms inference, 1.5ms postprocess per image at shape (1, 3, 640, 640)\n"
          ]
        },
        {
          "output_type": "stream",
          "name": "stderr",
          "text": [
            "\rProcessing train_images images:  29%|██▊       | 309/1082 [00:20<00:49, 15.58it/s]"
          ]
        },
        {
          "output_type": "stream",
          "name": "stdout",
          "text": [
            "\n",
            "image 1/1 /content/drive/MyDrive/bdma-07-competition/BDMA7_project_files/train_images/Groove_billed_Ani/Groove_Billed_Ani_0004_1528.jpg: 640x640 1 Bird, 25.4ms\n",
            "Speed: 3.1ms preprocess, 25.4ms inference, 1.7ms postprocess per image at shape (1, 3, 640, 640)\n",
            "\n",
            "image 1/1 /content/drive/MyDrive/bdma-07-competition/BDMA7_project_files/train_images/Groove_billed_Ani/Groove_Billed_Ani_0094_1540.jpg: 640x640 1 Bird, 24.9ms\n",
            "Speed: 4.0ms preprocess, 24.9ms inference, 1.3ms postprocess per image at shape (1, 3, 640, 640)\n"
          ]
        },
        {
          "output_type": "stream",
          "name": "stderr",
          "text": [
            "\rProcessing train_images images:  29%|██▊       | 311/1082 [00:20<00:49, 15.52it/s]"
          ]
        },
        {
          "output_type": "stream",
          "name": "stdout",
          "text": [
            "\n",
            "image 1/1 /content/drive/MyDrive/bdma-07-competition/BDMA7_project_files/train_images/Groove_billed_Ani/Groove_Billed_Ani_0056_1493.jpg: 640x640 1 Bird, 24.2ms\n",
            "Speed: 2.6ms preprocess, 24.2ms inference, 1.8ms postprocess per image at shape (1, 3, 640, 640)\n",
            "\n",
            "image 1/1 /content/drive/MyDrive/bdma-07-competition/BDMA7_project_files/train_images/Groove_billed_Ani/Groove_Billed_Ani_0088_1678.jpg: 640x640 1 Bird, 23.8ms\n",
            "Speed: 2.7ms preprocess, 23.8ms inference, 1.2ms postprocess per image at shape (1, 3, 640, 640)\n"
          ]
        },
        {
          "output_type": "stream",
          "name": "stderr",
          "text": [
            "\rProcessing train_images images:  29%|██▉       | 313/1082 [00:20<00:48, 15.79it/s]"
          ]
        },
        {
          "output_type": "stream",
          "name": "stdout",
          "text": [
            "\n",
            "image 1/1 /content/drive/MyDrive/bdma-07-competition/BDMA7_project_files/train_images/Groove_billed_Ani/Groove_Billed_Ani_0053_1672.jpg: 640x640 1 Bird, 23.6ms\n",
            "Speed: 2.7ms preprocess, 23.6ms inference, 1.3ms postprocess per image at shape (1, 3, 640, 640)\n",
            "\n",
            "image 1/1 /content/drive/MyDrive/bdma-07-competition/BDMA7_project_files/train_images/Groove_billed_Ani/Groove_Billed_Ani_0076_1661.jpg: 640x640 2 Birds, 23.8ms\n",
            "Speed: 2.9ms preprocess, 23.8ms inference, 1.2ms postprocess per image at shape (1, 3, 640, 640)\n"
          ]
        },
        {
          "output_type": "stream",
          "name": "stderr",
          "text": [
            "\rProcessing train_images images:  29%|██▉       | 315/1082 [00:20<00:47, 16.29it/s]"
          ]
        },
        {
          "output_type": "stream",
          "name": "stdout",
          "text": [
            "\n",
            "image 1/1 /content/drive/MyDrive/bdma-07-competition/BDMA7_project_files/train_images/Groove_billed_Ani/Groove_Billed_Ani_0074_1730.jpg: 640x640 1 Bird, 23.5ms\n",
            "Speed: 2.5ms preprocess, 23.5ms inference, 1.2ms postprocess per image at shape (1, 3, 640, 640)\n",
            "\n",
            "image 1/1 /content/drive/MyDrive/bdma-07-competition/BDMA7_project_files/train_images/Groove_billed_Ani/Groove_Billed_Ani_0040_1715.jpg: 640x640 1 Bird, 23.3ms\n",
            "Speed: 2.8ms preprocess, 23.3ms inference, 1.3ms postprocess per image at shape (1, 3, 640, 640)\n"
          ]
        },
        {
          "output_type": "stream",
          "name": "stderr",
          "text": [
            "\rProcessing train_images images:  29%|██▉       | 317/1082 [00:20<00:48, 15.82it/s]"
          ]
        },
        {
          "output_type": "stream",
          "name": "stdout",
          "text": [
            "\n",
            "image 1/1 /content/drive/MyDrive/bdma-07-competition/BDMA7_project_files/train_images/Groove_billed_Ani/Groove_Billed_Ani_0069_1546.jpg: 640x640 1 Bird, 23.5ms\n",
            "Speed: 2.6ms preprocess, 23.5ms inference, 1.4ms postprocess per image at shape (1, 3, 640, 640)\n",
            "\n",
            "image 1/1 /content/drive/MyDrive/bdma-07-competition/BDMA7_project_files/train_images/Groove_billed_Ani/Groove_Billed_Ani_0068_1538.jpg: 640x640 1 Bird, 23.5ms\n",
            "Speed: 2.7ms preprocess, 23.5ms inference, 1.2ms postprocess per image at shape (1, 3, 640, 640)\n"
          ]
        },
        {
          "output_type": "stream",
          "name": "stderr",
          "text": [
            "\rProcessing train_images images:  29%|██▉       | 319/1082 [00:20<00:47, 16.10it/s]"
          ]
        },
        {
          "output_type": "stream",
          "name": "stdout",
          "text": [
            "\n",
            "image 1/1 /content/drive/MyDrive/bdma-07-competition/BDMA7_project_files/train_images/Groove_billed_Ani/Groove_Billed_Ani_0058_1751.jpg: 640x640 1 Bird, 23.5ms\n",
            "Speed: 2.6ms preprocess, 23.5ms inference, 1.3ms postprocess per image at shape (1, 3, 640, 640)\n",
            "\n",
            "image 1/1 /content/drive/MyDrive/bdma-07-competition/BDMA7_project_files/train_images/Groove_billed_Ani/Groove_Billed_Ani_0078_1780.jpg: 640x640 1 Bird, 24.5ms\n",
            "Speed: 2.8ms preprocess, 24.5ms inference, 1.3ms postprocess per image at shape (1, 3, 640, 640)\n"
          ]
        },
        {
          "output_type": "stream",
          "name": "stderr",
          "text": [
            "\rProcessing train_images images:  30%|██▉       | 321/1082 [00:20<00:46, 16.24it/s]"
          ]
        },
        {
          "output_type": "stream",
          "name": "stdout",
          "text": [
            "\n",
            "image 1/1 /content/drive/MyDrive/bdma-07-competition/BDMA7_project_files/train_images/Groove_billed_Ani/Groove_Billed_Ani_0012_1784.jpg: 640x640 1 Bird, 23.3ms\n",
            "Speed: 2.6ms preprocess, 23.3ms inference, 1.3ms postprocess per image at shape (1, 3, 640, 640)\n",
            "\n",
            "image 1/1 /content/drive/MyDrive/bdma-07-competition/BDMA7_project_files/train_images/Groove_billed_Ani/Groove_Billed_Ani_0108_1639.jpg: 640x640 1 Bird, 24.2ms\n",
            "Speed: 2.5ms preprocess, 24.2ms inference, 1.2ms postprocess per image at shape (1, 3, 640, 640)\n"
          ]
        },
        {
          "output_type": "stream",
          "name": "stderr",
          "text": [
            "\rProcessing train_images images:  30%|██▉       | 323/1082 [00:20<00:45, 16.51it/s]"
          ]
        },
        {
          "output_type": "stream",
          "name": "stdout",
          "text": [
            "\n",
            "image 1/1 /content/drive/MyDrive/bdma-07-competition/BDMA7_project_files/train_images/Groove_billed_Ani/Groove_Billed_Ani_0033_1494.jpg: 640x640 1 Bird, 24.7ms\n",
            "Speed: 3.1ms preprocess, 24.7ms inference, 1.7ms postprocess per image at shape (1, 3, 640, 640)\n",
            "\n",
            "image 1/1 /content/drive/MyDrive/bdma-07-competition/BDMA7_project_files/train_images/Yellow_headed_Blackbird/Yellow_Headed_Blackbird_0059_8079.jpg: 640x640 1 Bird, 27.0ms\n",
            "Speed: 4.6ms preprocess, 27.0ms inference, 1.5ms postprocess per image at shape (1, 3, 640, 640)\n"
          ]
        },
        {
          "output_type": "stream",
          "name": "stderr",
          "text": [
            "\rProcessing train_images images:  30%|███       | 325/1082 [00:21<00:47, 16.04it/s]"
          ]
        },
        {
          "output_type": "stream",
          "name": "stdout",
          "text": [
            "\n",
            "image 1/1 /content/drive/MyDrive/bdma-07-competition/BDMA7_project_files/train_images/Yellow_headed_Blackbird/Yellow_Headed_Blackbird_0079_8535.jpg: 640x640 1 Bird, 24.7ms\n",
            "Speed: 2.9ms preprocess, 24.7ms inference, 1.8ms postprocess per image at shape (1, 3, 640, 640)\n",
            "\n",
            "image 1/1 /content/drive/MyDrive/bdma-07-competition/BDMA7_project_files/train_images/Yellow_headed_Blackbird/Yellow_Headed_Blackbird_0042_8574.jpg: 640x544 (no detections), 24.3ms\n",
            "Speed: 3.2ms preprocess, 24.3ms inference, 0.5ms postprocess per image at shape (1, 3, 640, 544)\n"
          ]
        },
        {
          "output_type": "stream",
          "name": "stderr",
          "text": [
            "\rProcessing train_images images:  30%|███       | 327/1082 [00:21<00:46, 16.38it/s]"
          ]
        },
        {
          "output_type": "stream",
          "name": "stdout",
          "text": [
            "Warning: No objects detected in /content/drive/MyDrive/bdma-07-competition/BDMA7_project_files/train_images/Yellow_headed_Blackbird/Yellow_Headed_Blackbird_0042_8574.jpg, skipping cropping.\n",
            "\n",
            "image 1/1 /content/drive/MyDrive/bdma-07-competition/BDMA7_project_files/train_images/Yellow_headed_Blackbird/Yellow_Headed_Blackbird_0085_8363.jpg: 640x640 1 Bird, 23.9ms\n",
            "Speed: 3.2ms preprocess, 23.9ms inference, 1.2ms postprocess per image at shape (1, 3, 640, 640)\n",
            "\n",
            "image 1/1 /content/drive/MyDrive/bdma-07-competition/BDMA7_project_files/train_images/Yellow_headed_Blackbird/Yellow_Headed_Blackbird_0080_8601.jpg: 640x640 1 Bird, 29.4ms\n",
            "Speed: 2.9ms preprocess, 29.4ms inference, 2.2ms postprocess per image at shape (1, 3, 640, 640)\n"
          ]
        },
        {
          "output_type": "stream",
          "name": "stderr",
          "text": [
            "\rProcessing train_images images:  30%|███       | 329/1082 [00:21<00:46, 16.10it/s]"
          ]
        },
        {
          "output_type": "stream",
          "name": "stdout",
          "text": [
            "\n",
            "image 1/1 /content/drive/MyDrive/bdma-07-competition/BDMA7_project_files/train_images/Yellow_headed_Blackbird/Yellow_Headed_Blackbird_0073_8442.jpg: 640x640 1 Bird, 22.9ms\n",
            "Speed: 2.6ms preprocess, 22.9ms inference, 1.2ms postprocess per image at shape (1, 3, 640, 640)\n",
            "\n",
            "image 1/1 /content/drive/MyDrive/bdma-07-competition/BDMA7_project_files/train_images/Yellow_headed_Blackbird/Yellow_Headed_Blackbird_0009_8248.jpg: 640x640 1 Bird, 23.0ms\n",
            "Speed: 4.1ms preprocess, 23.0ms inference, 1.2ms postprocess per image at shape (1, 3, 640, 640)\n"
          ]
        },
        {
          "output_type": "stream",
          "name": "stderr",
          "text": [
            "\rProcessing train_images images:  31%|███       | 331/1082 [00:21<00:47, 15.89it/s]"
          ]
        },
        {
          "output_type": "stream",
          "name": "stdout",
          "text": [
            "\n",
            "image 1/1 /content/drive/MyDrive/bdma-07-competition/BDMA7_project_files/train_images/Yellow_headed_Blackbird/Yellow_Headed_Blackbird_0047_7929.jpg: 640x640 1 Bird, 23.9ms\n",
            "Speed: 2.5ms preprocess, 23.9ms inference, 1.2ms postprocess per image at shape (1, 3, 640, 640)\n",
            "\n",
            "image 1/1 /content/drive/MyDrive/bdma-07-competition/BDMA7_project_files/train_images/Yellow_headed_Blackbird/Yellow_Headed_Blackbird_0012_8443.jpg: 640x640 1 Bird, 23.9ms\n",
            "Speed: 2.4ms preprocess, 23.9ms inference, 1.2ms postprocess per image at shape (1, 3, 640, 640)\n"
          ]
        },
        {
          "output_type": "stream",
          "name": "stderr",
          "text": [
            "\rProcessing train_images images:  31%|███       | 333/1082 [00:21<00:45, 16.30it/s]"
          ]
        },
        {
          "output_type": "stream",
          "name": "stdout",
          "text": [
            "\n",
            "image 1/1 /content/drive/MyDrive/bdma-07-competition/BDMA7_project_files/train_images/Yellow_headed_Blackbird/Yellow_Headed_Blackbird_0017_8511.jpg: 640x640 1 Bird, 23.8ms\n",
            "Speed: 2.4ms preprocess, 23.8ms inference, 1.1ms postprocess per image at shape (1, 3, 640, 640)\n",
            "\n",
            "image 1/1 /content/drive/MyDrive/bdma-07-competition/BDMA7_project_files/train_images/Yellow_headed_Blackbird/Yellow_Headed_Blackbird_0055_8357.jpg: 640x640 1 Bird, 27.9ms\n",
            "Speed: 3.9ms preprocess, 27.9ms inference, 1.7ms postprocess per image at shape (1, 3, 640, 640)\n"
          ]
        },
        {
          "output_type": "stream",
          "name": "stderr",
          "text": [
            "\rProcessing train_images images:  31%|███       | 335/1082 [00:21<00:47, 15.70it/s]"
          ]
        },
        {
          "output_type": "stream",
          "name": "stdout",
          "text": [
            "\n",
            "image 1/1 /content/drive/MyDrive/bdma-07-competition/BDMA7_project_files/train_images/Yellow_headed_Blackbird/Yellow_Headed_Blackbird_0062_8310.jpg: 640x640 1 Bird, 41.3ms\n",
            "Speed: 3.9ms preprocess, 41.3ms inference, 1.8ms postprocess per image at shape (1, 3, 640, 640)\n",
            "\n",
            "image 1/1 /content/drive/MyDrive/bdma-07-competition/BDMA7_project_files/train_images/Yellow_headed_Blackbird/Yellow_Headed_Blackbird_0026_8545.jpg: 640x640 1 Bird, 26.8ms\n",
            "Speed: 4.0ms preprocess, 26.8ms inference, 1.6ms postprocess per image at shape (1, 3, 640, 640)\n"
          ]
        },
        {
          "output_type": "stream",
          "name": "stderr",
          "text": [
            "\rProcessing train_images images:  31%|███       | 337/1082 [00:21<00:53, 13.95it/s]"
          ]
        },
        {
          "output_type": "stream",
          "name": "stdout",
          "text": [
            "\n",
            "image 1/1 /content/drive/MyDrive/bdma-07-competition/BDMA7_project_files/train_images/Yellow_headed_Blackbird/Yellow_Headed_Blackbird_0083_8300.jpg: 640x640 1 Bird, 31.7ms\n",
            "Speed: 3.9ms preprocess, 31.7ms inference, 1.7ms postprocess per image at shape (1, 3, 640, 640)\n",
            "\n",
            "image 1/1 /content/drive/MyDrive/bdma-07-competition/BDMA7_project_files/train_images/Yellow_headed_Blackbird/Yellow_Headed_Blackbird_0051_8387.jpg: 640x640 1 Bird, 47.4ms\n",
            "Speed: 4.0ms preprocess, 47.4ms inference, 3.0ms postprocess per image at shape (1, 3, 640, 640)\n"
          ]
        },
        {
          "output_type": "stream",
          "name": "stderr",
          "text": [
            "\rProcessing train_images images:  31%|███▏      | 339/1082 [00:22<00:57, 13.01it/s]"
          ]
        },
        {
          "output_type": "stream",
          "name": "stdout",
          "text": [
            "\n",
            "image 1/1 /content/drive/MyDrive/bdma-07-competition/BDMA7_project_files/train_images/Yellow_headed_Blackbird/Yellow_Headed_Blackbird_0086_8487.jpg: 640x640 1 Bird, 31.6ms\n",
            "Speed: 3.9ms preprocess, 31.6ms inference, 1.5ms postprocess per image at shape (1, 3, 640, 640)\n",
            "\n",
            "image 1/1 /content/drive/MyDrive/bdma-07-competition/BDMA7_project_files/train_images/Yellow_headed_Blackbird/Yellow_Headed_Blackbird_0058_8350.jpg: 640x640 1 Bird, 28.7ms\n",
            "Speed: 4.0ms preprocess, 28.7ms inference, 1.5ms postprocess per image at shape (1, 3, 640, 640)\n"
          ]
        },
        {
          "output_type": "stream",
          "name": "stderr",
          "text": [
            "\rProcessing train_images images:  32%|███▏      | 341/1082 [00:22<00:56, 13.09it/s]"
          ]
        },
        {
          "output_type": "stream",
          "name": "stdout",
          "text": [
            "\n",
            "image 1/1 /content/drive/MyDrive/bdma-07-competition/BDMA7_project_files/train_images/Yellow_headed_Blackbird/Yellow_Headed_Blackbird_0041_8264.jpg: 640x640 1 Bird, 30.7ms\n",
            "Speed: 5.9ms preprocess, 30.7ms inference, 1.7ms postprocess per image at shape (1, 3, 640, 640)\n",
            "\n",
            "image 1/1 /content/drive/MyDrive/bdma-07-competition/BDMA7_project_files/train_images/Yellow_headed_Blackbird/Yellow_Headed_Blackbird_0049_8548.jpg: 640x640 1 Bird, 50.2ms\n",
            "Speed: 3.9ms preprocess, 50.2ms inference, 4.6ms postprocess per image at shape (1, 3, 640, 640)\n"
          ]
        },
        {
          "output_type": "stream",
          "name": "stderr",
          "text": [
            "\rProcessing train_images images:  32%|███▏      | 343/1082 [00:22<01:01, 12.08it/s]"
          ]
        },
        {
          "output_type": "stream",
          "name": "stdout",
          "text": [
            "\n",
            "image 1/1 /content/drive/MyDrive/bdma-07-competition/BDMA7_project_files/train_images/Yellow_headed_Blackbird/Yellow_Headed_Blackbird_0024_8586.jpg: 640x640 1 Bird, 26.3ms\n",
            "Speed: 5.2ms preprocess, 26.3ms inference, 1.5ms postprocess per image at shape (1, 3, 640, 640)\n",
            "\n",
            "image 1/1 /content/drive/MyDrive/bdma-07-competition/BDMA7_project_files/train_images/Yellow_headed_Blackbird/Yellow_Headed_Blackbird_0020_8549.jpg: 640x640 1 Bird, 29.0ms\n",
            "Speed: 3.9ms preprocess, 29.0ms inference, 1.5ms postprocess per image at shape (1, 3, 640, 640)\n"
          ]
        },
        {
          "output_type": "stream",
          "name": "stderr",
          "text": [
            "\rProcessing train_images images:  32%|███▏      | 345/1082 [00:22<00:59, 12.48it/s]"
          ]
        },
        {
          "output_type": "stream",
          "name": "stdout",
          "text": [
            "\n",
            "image 1/1 /content/drive/MyDrive/bdma-07-competition/BDMA7_project_files/train_images/Yellow_headed_Blackbird/Yellow_Headed_Blackbird_0089_8326.jpg: 640x640 1 Bird, 23.3ms\n",
            "Speed: 4.3ms preprocess, 23.3ms inference, 1.4ms postprocess per image at shape (1, 3, 640, 640)\n",
            "\n",
            "image 1/1 /content/drive/MyDrive/bdma-07-competition/BDMA7_project_files/train_images/Yellow_headed_Blackbird/Yellow_Headed_Blackbird_0088_8257.jpg: 640x640 2 Birds, 23.7ms\n",
            "Speed: 4.0ms preprocess, 23.7ms inference, 1.5ms postprocess per image at shape (1, 3, 640, 640)\n"
          ]
        },
        {
          "output_type": "stream",
          "name": "stderr",
          "text": [
            "\rProcessing train_images images:  32%|███▏      | 347/1082 [00:22<00:56, 13.12it/s]"
          ]
        },
        {
          "output_type": "stream",
          "name": "stdout",
          "text": [
            "\n",
            "image 1/1 /content/drive/MyDrive/bdma-07-competition/BDMA7_project_files/train_images/Yellow_headed_Blackbird/Yellow_Headed_Blackbird_0056_8455.jpg: 640x640 1 Bird, 22.9ms\n",
            "Speed: 4.4ms preprocess, 22.9ms inference, 1.7ms postprocess per image at shape (1, 3, 640, 640)\n",
            "\n",
            "image 1/1 /content/drive/MyDrive/bdma-07-competition/BDMA7_project_files/train_images/Yellow_headed_Blackbird/Yellow_Headed_Blackbird_0031_8456.jpg: 640x640 1 Bird, 26.1ms\n",
            "Speed: 4.3ms preprocess, 26.1ms inference, 3.1ms postprocess per image at shape (1, 3, 640, 640)\n"
          ]
        },
        {
          "output_type": "stream",
          "name": "stderr",
          "text": [
            "\rProcessing train_images images:  32%|███▏      | 349/1082 [00:22<00:54, 13.53it/s]"
          ]
        },
        {
          "output_type": "stream",
          "name": "stdout",
          "text": [
            "\n",
            "image 1/1 /content/drive/MyDrive/bdma-07-competition/BDMA7_project_files/train_images/Yellow_headed_Blackbird/Yellow_Headed_Blackbird_0095_8458.jpg: 640x640 1 Bird, 26.2ms\n",
            "Speed: 4.9ms preprocess, 26.2ms inference, 1.4ms postprocess per image at shape (1, 3, 640, 640)\n",
            "\n",
            "image 1/1 /content/drive/MyDrive/bdma-07-competition/BDMA7_project_files/train_images/Yellow_headed_Blackbird/Yellow_Headed_Blackbird_0040_7514.jpg: 640x640 1 Bird, 26.2ms\n",
            "Speed: 4.3ms preprocess, 26.2ms inference, 1.4ms postprocess per image at shape (1, 3, 640, 640)\n"
          ]
        },
        {
          "output_type": "stream",
          "name": "stderr",
          "text": [
            "\rProcessing train_images images:  32%|███▏      | 351/1082 [00:22<00:52, 14.01it/s]"
          ]
        },
        {
          "output_type": "stream",
          "name": "stdout",
          "text": [
            "\n",
            "image 1/1 /content/drive/MyDrive/bdma-07-competition/BDMA7_project_files/train_images/Yellow_headed_Blackbird/Yellow_Headed_Blackbird_0008_8756.jpg: 640x640 1 Bird, 36.7ms\n",
            "Speed: 4.0ms preprocess, 36.7ms inference, 1.8ms postprocess per image at shape (1, 3, 640, 640)\n",
            "\n",
            "image 1/1 /content/drive/MyDrive/bdma-07-competition/BDMA7_project_files/train_images/Yellow_headed_Blackbird/Yellow_Headed_Blackbird_0053_8410.jpg: 640x640 1 Bird, 38.5ms\n",
            "Speed: 3.9ms preprocess, 38.5ms inference, 4.3ms postprocess per image at shape (1, 3, 640, 640)\n"
          ]
        },
        {
          "output_type": "stream",
          "name": "stderr",
          "text": [
            "\rProcessing train_images images:  33%|███▎      | 353/1082 [00:23<00:55, 13.20it/s]"
          ]
        },
        {
          "output_type": "stream",
          "name": "stdout",
          "text": [
            "\n",
            "image 1/1 /content/drive/MyDrive/bdma-07-competition/BDMA7_project_files/train_images/Yellow_headed_Blackbird/Yellow_Headed_Blackbird_0061_8208.jpg: 640x640 2 Birds, 26.7ms\n",
            "Speed: 3.9ms preprocess, 26.7ms inference, 1.7ms postprocess per image at shape (1, 3, 640, 640)\n",
            "\n",
            "image 1/1 /content/drive/MyDrive/bdma-07-competition/BDMA7_project_files/train_images/Yellow_headed_Blackbird/Yellow_Headed_Blackbird_0072_8606.jpg: 640x640 1 Bird, 30.5ms\n",
            "Speed: 5.2ms preprocess, 30.5ms inference, 1.6ms postprocess per image at shape (1, 3, 640, 640)\n"
          ]
        },
        {
          "output_type": "stream",
          "name": "stderr",
          "text": [
            "\rProcessing train_images images:  33%|███▎      | 355/1082 [00:23<00:58, 12.46it/s]"
          ]
        },
        {
          "output_type": "stream",
          "name": "stdout",
          "text": [
            "\n",
            "image 1/1 /content/drive/MyDrive/bdma-07-competition/BDMA7_project_files/train_images/Yellow_headed_Blackbird/Yellow_Headed_Blackbird_0034_7736.jpg: 640x640 1 Bird, 27.9ms\n",
            "Speed: 3.9ms preprocess, 27.9ms inference, 1.3ms postprocess per image at shape (1, 3, 640, 640)\n",
            "\n",
            "image 1/1 /content/drive/MyDrive/bdma-07-competition/BDMA7_project_files/train_images/Yellow_headed_Blackbird/Yellow_Headed_Blackbird_0015_8207.jpg: 640x640 1 Bird, 28.5ms\n",
            "Speed: 3.8ms preprocess, 28.5ms inference, 1.5ms postprocess per image at shape (1, 3, 640, 640)\n"
          ]
        },
        {
          "output_type": "stream",
          "name": "stderr",
          "text": [
            "\rProcessing train_images images:  33%|███▎      | 357/1082 [00:23<00:57, 12.59it/s]"
          ]
        },
        {
          "output_type": "stream",
          "name": "stdout",
          "text": [
            "\n",
            "image 1/1 /content/drive/MyDrive/bdma-07-competition/BDMA7_project_files/train_images/Yellow_headed_Blackbird/Yellow_Headed_Blackbird_0035_8447.jpg: 640x640 1 Bird, 27.4ms\n",
            "Speed: 3.8ms preprocess, 27.4ms inference, 1.6ms postprocess per image at shape (1, 3, 640, 640)\n",
            "\n",
            "image 1/1 /content/drive/MyDrive/bdma-07-competition/BDMA7_project_files/train_images/Yellow_headed_Blackbird/Yellow_Headed_Blackbird_0087_8358.jpg: 640x640 1 Bird, 27.5ms\n",
            "Speed: 3.8ms preprocess, 27.5ms inference, 1.5ms postprocess per image at shape (1, 3, 640, 640)\n"
          ]
        },
        {
          "output_type": "stream",
          "name": "stderr",
          "text": [
            "\rProcessing train_images images:  33%|███▎      | 359/1082 [00:23<00:55, 12.94it/s]"
          ]
        },
        {
          "output_type": "stream",
          "name": "stdout",
          "text": [
            "\n",
            "image 1/1 /content/drive/MyDrive/bdma-07-competition/BDMA7_project_files/train_images/Yellow_headed_Blackbird/Yellow_Headed_Blackbird_0098_8367.jpg: 640x640 1 Bird, 27.2ms\n",
            "Speed: 3.8ms preprocess, 27.2ms inference, 1.5ms postprocess per image at shape (1, 3, 640, 640)\n",
            "\n",
            "image 1/1 /content/drive/MyDrive/bdma-07-competition/BDMA7_project_files/train_images/Yellow_headed_Blackbird/Yellow_Headed_Blackbird_0013_8362.jpg: 640x640 1 Bird, 27.5ms\n",
            "Speed: 4.1ms preprocess, 27.5ms inference, 1.5ms postprocess per image at shape (1, 3, 640, 640)\n"
          ]
        },
        {
          "output_type": "stream",
          "name": "stderr",
          "text": [
            "\rProcessing train_images images:  33%|███▎      | 361/1082 [00:23<00:56, 12.87it/s]"
          ]
        },
        {
          "output_type": "stream",
          "name": "stdout",
          "text": [
            "\n",
            "image 1/1 /content/drive/MyDrive/bdma-07-competition/BDMA7_project_files/train_images/Yellow_headed_Blackbird/Yellow_Headed_Blackbird_0077_8332.jpg: 640x640 1 Bird, 26.8ms\n",
            "Speed: 3.9ms preprocess, 26.8ms inference, 1.6ms postprocess per image at shape (1, 3, 640, 640)\n",
            "\n",
            "image 1/1 /content/drive/MyDrive/bdma-07-competition/BDMA7_project_files/train_images/Yellow_headed_Blackbird/Yellow_Headed_Blackbird_0025_8262.jpg: 640x640 1 Bird, 26.8ms\n",
            "Speed: 3.7ms preprocess, 26.8ms inference, 1.4ms postprocess per image at shape (1, 3, 640, 640)\n"
          ]
        },
        {
          "output_type": "stream",
          "name": "stderr",
          "text": [
            "\rProcessing train_images images:  34%|███▎      | 363/1082 [00:23<00:53, 13.50it/s]"
          ]
        },
        {
          "output_type": "stream",
          "name": "stdout",
          "text": [
            "\n",
            "image 1/1 /content/drive/MyDrive/bdma-07-competition/BDMA7_project_files/train_images/Yellow_headed_Blackbird/Yellow_Headed_Blackbird_0082_8577.jpg: 640x640 1 Bird, 27.5ms\n",
            "Speed: 3.9ms preprocess, 27.5ms inference, 1.5ms postprocess per image at shape (1, 3, 640, 640)\n",
            "\n",
            "image 1/1 /content/drive/MyDrive/bdma-07-competition/BDMA7_project_files/train_images/Yellow_headed_Blackbird/Yellow_Headed_Blackbird_0003_8337.jpg: 640x640 1 Bird, 38.1ms\n",
            "Speed: 4.4ms preprocess, 38.1ms inference, 2.2ms postprocess per image at shape (1, 3, 640, 640)\n"
          ]
        },
        {
          "output_type": "stream",
          "name": "stderr",
          "text": [
            "\rProcessing train_images images:  34%|███▎      | 365/1082 [00:24<00:54, 13.27it/s]"
          ]
        },
        {
          "output_type": "stream",
          "name": "stdout",
          "text": [
            "\n",
            "image 1/1 /content/drive/MyDrive/bdma-07-competition/BDMA7_project_files/train_images/Yellow_headed_Blackbird/Yellow_Headed_Blackbird_0074_8452.jpg: 640x640 1 Bird, 39.8ms\n",
            "Speed: 4.7ms preprocess, 39.8ms inference, 1.5ms postprocess per image at shape (1, 3, 640, 640)\n",
            "\n",
            "image 1/1 /content/drive/MyDrive/bdma-07-competition/BDMA7_project_files/train_images/Yellow_headed_Blackbird/Yellow_Headed_Blackbird_0091_8555.jpg: 640x640 1 Bird, 30.2ms\n",
            "Speed: 4.3ms preprocess, 30.2ms inference, 1.6ms postprocess per image at shape (1, 3, 640, 640)\n"
          ]
        },
        {
          "output_type": "stream",
          "name": "stderr",
          "text": [
            "\rProcessing train_images images:  34%|███▍      | 367/1082 [00:24<00:57, 12.41it/s]"
          ]
        },
        {
          "output_type": "stream",
          "name": "stdout",
          "text": [
            "\n",
            "image 1/1 /content/drive/MyDrive/bdma-07-competition/BDMA7_project_files/train_images/Yellow_headed_Blackbird/Yellow_Headed_Blackbird_0108_7937.jpg: 640x640 1 Bird, 26.4ms\n",
            "Speed: 4.1ms preprocess, 26.4ms inference, 1.5ms postprocess per image at shape (1, 3, 640, 640)\n",
            "\n",
            "image 1/1 /content/drive/MyDrive/bdma-07-competition/BDMA7_project_files/train_images/Yellow_headed_Blackbird/Yellow_Headed_Blackbird_0100_8407.jpg: 640x640 1 Bird, 26.9ms\n",
            "Speed: 4.0ms preprocess, 26.9ms inference, 1.4ms postprocess per image at shape (1, 3, 640, 640)\n"
          ]
        },
        {
          "output_type": "stream",
          "name": "stderr",
          "text": [
            "\rProcessing train_images images:  34%|███▍      | 369/1082 [00:24<00:54, 13.19it/s]"
          ]
        },
        {
          "output_type": "stream",
          "name": "stdout",
          "text": [
            "\n",
            "image 1/1 /content/drive/MyDrive/bdma-07-competition/BDMA7_project_files/train_images/Yellow_headed_Blackbird/Yellow_Headed_Blackbird_0102_8441.jpg: 640x640 1 Bird, 26.6ms\n",
            "Speed: 4.0ms preprocess, 26.6ms inference, 1.5ms postprocess per image at shape (1, 3, 640, 640)\n",
            "\n",
            "image 1/1 /content/drive/MyDrive/bdma-07-competition/BDMA7_project_files/train_images/Yellow_headed_Blackbird/Yellow_Headed_Blackbird_0018_8588.jpg: 640x640 1 Bird, 30.8ms\n",
            "Speed: 3.9ms preprocess, 30.8ms inference, 1.7ms postprocess per image at shape (1, 3, 640, 640)\n"
          ]
        },
        {
          "output_type": "stream",
          "name": "stderr",
          "text": [
            "\rProcessing train_images images:  34%|███▍      | 371/1082 [00:24<00:54, 12.96it/s]"
          ]
        },
        {
          "output_type": "stream",
          "name": "stdout",
          "text": [
            "\n",
            "image 1/1 /content/drive/MyDrive/bdma-07-competition/BDMA7_project_files/train_images/Yellow_headed_Blackbird/Yellow_Headed_Blackbird_0109_8271.jpg: 640x640 1 Bird, 26.9ms\n",
            "Speed: 4.3ms preprocess, 26.9ms inference, 1.5ms postprocess per image at shape (1, 3, 640, 640)\n",
            "\n",
            "image 1/1 /content/drive/MyDrive/bdma-07-competition/BDMA7_project_files/train_images/Yellow_headed_Blackbird/Yellow_Headed_Blackbird_0038_8689.jpg: 640x640 1 Bird, 26.9ms\n",
            "Speed: 4.6ms preprocess, 26.9ms inference, 1.4ms postprocess per image at shape (1, 3, 640, 640)\n"
          ]
        },
        {
          "output_type": "stream",
          "name": "stderr",
          "text": [
            "\rProcessing train_images images:  34%|███▍      | 373/1082 [00:24<00:52, 13.58it/s]"
          ]
        },
        {
          "output_type": "stream",
          "name": "stdout",
          "text": [
            "\n",
            "image 1/1 /content/drive/MyDrive/bdma-07-competition/BDMA7_project_files/train_images/Yellow_headed_Blackbird/Yellow_Headed_Blackbird_0070_8583.jpg: 640x640 1 Bird, 26.9ms\n",
            "Speed: 4.6ms preprocess, 26.9ms inference, 1.6ms postprocess per image at shape (1, 3, 640, 640)\n",
            "\n",
            "image 1/1 /content/drive/MyDrive/bdma-07-competition/BDMA7_project_files/train_images/Yellow_headed_Blackbird/Yellow_Headed_Blackbird_0084_8435.jpg: 640x640 1 Bird, 30.5ms\n",
            "Speed: 3.9ms preprocess, 30.5ms inference, 1.7ms postprocess per image at shape (1, 3, 640, 640)\n"
          ]
        },
        {
          "output_type": "stream",
          "name": "stderr",
          "text": [
            "\rProcessing train_images images:  35%|███▍      | 375/1082 [00:24<00:50, 13.91it/s]"
          ]
        },
        {
          "output_type": "stream",
          "name": "stdout",
          "text": [
            "\n",
            "image 1/1 /content/drive/MyDrive/bdma-07-competition/BDMA7_project_files/train_images/Yellow_headed_Blackbird/Yellow_Headed_Blackbird_0065_8481.jpg: 640x640 1 Bird, 33.2ms\n",
            "Speed: 9.2ms preprocess, 33.2ms inference, 1.9ms postprocess per image at shape (1, 3, 640, 640)\n",
            "\n",
            "image 1/1 /content/drive/MyDrive/bdma-07-competition/BDMA7_project_files/train_images/Yellow_headed_Blackbird/Yellow_Headed_Blackbird_0057_8236.jpg: 640x640 1 Bird, 28.9ms\n",
            "Speed: 3.8ms preprocess, 28.9ms inference, 1.5ms postprocess per image at shape (1, 3, 640, 640)\n"
          ]
        },
        {
          "output_type": "stream",
          "name": "stderr",
          "text": [
            "\rProcessing train_images images:  35%|███▍      | 377/1082 [00:24<00:52, 13.48it/s]"
          ]
        },
        {
          "output_type": "stream",
          "name": "stdout",
          "text": [
            "\n",
            "image 1/1 /content/drive/MyDrive/bdma-07-competition/BDMA7_project_files/train_images/Yellow_headed_Blackbird/Yellow_Headed_Blackbird_0023_7325.jpg: 640x640 1 Bird, 37.7ms\n",
            "Speed: 4.3ms preprocess, 37.7ms inference, 2.2ms postprocess per image at shape (1, 3, 640, 640)\n",
            "\n",
            "image 1/1 /content/drive/MyDrive/bdma-07-competition/BDMA7_project_files/train_images/Brewer_Blackbird/Brewer_Blackbird_0101_2630.jpg: 640x640 1 Bird, 36.5ms\n",
            "Speed: 5.3ms preprocess, 36.5ms inference, 1.9ms postprocess per image at shape (1, 3, 640, 640)\n"
          ]
        },
        {
          "output_type": "stream",
          "name": "stderr",
          "text": [
            "\rProcessing train_images images:  35%|███▌      | 379/1082 [00:25<00:56, 12.37it/s]"
          ]
        },
        {
          "output_type": "stream",
          "name": "stdout",
          "text": [
            "\n",
            "image 1/1 /content/drive/MyDrive/bdma-07-competition/BDMA7_project_files/train_images/Brewer_Blackbird/Brewer_Blackbird_0049_2258.jpg: 640x640 1 Bird, 33.4ms\n",
            "Speed: 4.5ms preprocess, 33.4ms inference, 1.9ms postprocess per image at shape (1, 3, 640, 640)\n",
            "\n",
            "image 1/1 /content/drive/MyDrive/bdma-07-competition/BDMA7_project_files/train_images/Brewer_Blackbird/Brewer_Blackbird_0096_2634.jpg: 640x640 1 Bird, 27.2ms\n",
            "Speed: 4.4ms preprocess, 27.2ms inference, 1.5ms postprocess per image at shape (1, 3, 640, 640)\n"
          ]
        },
        {
          "output_type": "stream",
          "name": "stderr",
          "text": [
            "\rProcessing train_images images:  35%|███▌      | 381/1082 [00:25<00:55, 12.53it/s]"
          ]
        },
        {
          "output_type": "stream",
          "name": "stdout",
          "text": [
            "\n",
            "image 1/1 /content/drive/MyDrive/bdma-07-competition/BDMA7_project_files/train_images/Brewer_Blackbird/Brewer_Blackbird_0018_2261.jpg: 640x640 1 Bird, 26.2ms\n",
            "Speed: 4.4ms preprocess, 26.2ms inference, 1.9ms postprocess per image at shape (1, 3, 640, 640)\n",
            "\n",
            "image 1/1 /content/drive/MyDrive/bdma-07-competition/BDMA7_project_files/train_images/Brewer_Blackbird/Brewer_Blackbird_0046_2688.jpg: 640x640 1 Bird, 26.7ms\n",
            "Speed: 4.1ms preprocess, 26.7ms inference, 1.7ms postprocess per image at shape (1, 3, 640, 640)\n"
          ]
        },
        {
          "output_type": "stream",
          "name": "stderr",
          "text": [
            "\rProcessing train_images images:  35%|███▌      | 383/1082 [00:25<00:53, 12.97it/s]"
          ]
        },
        {
          "output_type": "stream",
          "name": "stdout",
          "text": [
            "\n",
            "image 1/1 /content/drive/MyDrive/bdma-07-competition/BDMA7_project_files/train_images/Brewer_Blackbird/Brewer_Blackbird_0102_2620.jpg: 640x640 1 Bird, 42.0ms\n",
            "Speed: 6.3ms preprocess, 42.0ms inference, 3.0ms postprocess per image at shape (1, 3, 640, 640)\n",
            "\n",
            "image 1/1 /content/drive/MyDrive/bdma-07-competition/BDMA7_project_files/train_images/Brewer_Blackbird/Brewer_Blackbird_0079_2343.jpg: 640x640 1 Bird, 27.9ms\n",
            "Speed: 4.5ms preprocess, 27.9ms inference, 1.7ms postprocess per image at shape (1, 3, 640, 640)\n"
          ]
        },
        {
          "output_type": "stream",
          "name": "stderr",
          "text": [
            "\rProcessing train_images images:  36%|███▌      | 385/1082 [00:25<00:54, 12.76it/s]"
          ]
        },
        {
          "output_type": "stream",
          "name": "stdout",
          "text": [
            "\n",
            "image 1/1 /content/drive/MyDrive/bdma-07-competition/BDMA7_project_files/train_images/Brewer_Blackbird/Brewer_Blackbird_0142_2636.jpg: 640x640 1 Bird, 26.8ms\n",
            "Speed: 4.3ms preprocess, 26.8ms inference, 1.6ms postprocess per image at shape (1, 3, 640, 640)\n",
            "\n",
            "image 1/1 /content/drive/MyDrive/bdma-07-competition/BDMA7_project_files/train_images/Brewer_Blackbird/Brewer_Blackbird_0065_2310.jpg: 640x640 1 Bird, 26.2ms\n",
            "Speed: 4.1ms preprocess, 26.2ms inference, 1.6ms postprocess per image at shape (1, 3, 640, 640)\n"
          ]
        },
        {
          "output_type": "stream",
          "name": "stderr",
          "text": [
            "\rProcessing train_images images:  36%|███▌      | 387/1082 [00:25<00:52, 13.36it/s]"
          ]
        },
        {
          "output_type": "stream",
          "name": "stdout",
          "text": [
            "\n",
            "image 1/1 /content/drive/MyDrive/bdma-07-competition/BDMA7_project_files/train_images/Brewer_Blackbird/Brewer_Blackbird_0112_2340.jpg: 640x640 1 Bird, 25.8ms\n",
            "Speed: 4.5ms preprocess, 25.8ms inference, 2.0ms postprocess per image at shape (1, 3, 640, 640)\n",
            "\n",
            "image 1/1 /content/drive/MyDrive/bdma-07-competition/BDMA7_project_files/train_images/Brewer_Blackbird/Brewer_Blackbird_0106_2608.jpg: 640x640 1 Bird, 26.1ms\n",
            "Speed: 4.2ms preprocess, 26.1ms inference, 1.6ms postprocess per image at shape (1, 3, 640, 640)\n"
          ]
        },
        {
          "output_type": "stream",
          "name": "stderr",
          "text": [
            "\rProcessing train_images images:  36%|███▌      | 389/1082 [00:25<00:50, 13.68it/s]"
          ]
        },
        {
          "output_type": "stream",
          "name": "stdout",
          "text": [
            "\n",
            "image 1/1 /content/drive/MyDrive/bdma-07-competition/BDMA7_project_files/train_images/Brewer_Blackbird/Brewer_Blackbird_0032_2214.jpg: 640x640 1 Bird, 77.7ms\n",
            "Speed: 15.8ms preprocess, 77.7ms inference, 4.8ms postprocess per image at shape (1, 3, 640, 640)\n",
            "\n",
            "image 1/1 /content/drive/MyDrive/bdma-07-competition/BDMA7_project_files/train_images/Brewer_Blackbird/Brewer_Blackbird_0109_2232.jpg: 640x640 1 Bird, 39.1ms\n",
            "Speed: 4.4ms preprocess, 39.1ms inference, 2.1ms postprocess per image at shape (1, 3, 640, 640)\n"
          ]
        },
        {
          "output_type": "stream",
          "name": "stderr",
          "text": [
            "\rProcessing train_images images:  36%|███▌      | 391/1082 [00:26<01:01, 11.18it/s]"
          ]
        },
        {
          "output_type": "stream",
          "name": "stdout",
          "text": [
            "\n",
            "image 1/1 /content/drive/MyDrive/bdma-07-competition/BDMA7_project_files/train_images/Brewer_Blackbird/Brewer_Blackbird_0054_2631.jpg: 640x640 1 Bird, 31.8ms\n",
            "Speed: 4.4ms preprocess, 31.8ms inference, 2.1ms postprocess per image at shape (1, 3, 640, 640)\n",
            "\n",
            "image 1/1 /content/drive/MyDrive/bdma-07-competition/BDMA7_project_files/train_images/Brewer_Blackbird/Brewer_Blackbird_0115_2279.jpg: 640x640 1 Bird, 30.5ms\n",
            "Speed: 4.1ms preprocess, 30.5ms inference, 1.8ms postprocess per image at shape (1, 3, 640, 640)\n"
          ]
        },
        {
          "output_type": "stream",
          "name": "stderr",
          "text": [
            "\rProcessing train_images images:  36%|███▋      | 393/1082 [00:26<01:04, 10.65it/s]"
          ]
        },
        {
          "output_type": "stream",
          "name": "stdout",
          "text": [
            "\n",
            "image 1/1 /content/drive/MyDrive/bdma-07-competition/BDMA7_project_files/train_images/Brewer_Blackbird/Brewer_Blackbird_0028_2682.jpg: 640x640 1 Bird, 34.4ms\n",
            "Speed: 3.8ms preprocess, 34.4ms inference, 2.8ms postprocess per image at shape (1, 3, 640, 640)\n",
            "\n",
            "image 1/1 /content/drive/MyDrive/bdma-07-competition/BDMA7_project_files/train_images/Brewer_Blackbird/Brewer_Blackbird_0004_2345.jpg: 640x640 1 Bird, 35.4ms\n",
            "Speed: 3.6ms preprocess, 35.4ms inference, 3.0ms postprocess per image at shape (1, 3, 640, 640)\n"
          ]
        },
        {
          "output_type": "stream",
          "name": "stderr",
          "text": [
            "\rProcessing train_images images:  37%|███▋      | 395/1082 [00:26<01:02, 11.00it/s]"
          ]
        },
        {
          "output_type": "stream",
          "name": "stdout",
          "text": [
            "\n",
            "image 1/1 /content/drive/MyDrive/bdma-07-competition/BDMA7_project_files/train_images/Brewer_Blackbird/Brewer_Blackbird_0064_2290.jpg: 640x640 1 Bird, 26.7ms\n",
            "Speed: 3.8ms preprocess, 26.7ms inference, 1.2ms postprocess per image at shape (1, 3, 640, 640)\n",
            "\n",
            "image 1/1 /content/drive/MyDrive/bdma-07-competition/BDMA7_project_files/train_images/Brewer_Blackbird/Brewer_Blackbird_0061_2270.jpg: 640x640 1 Bird, 28.5ms\n",
            "Speed: 2.9ms preprocess, 28.5ms inference, 1.3ms postprocess per image at shape (1, 3, 640, 640)\n"
          ]
        },
        {
          "output_type": "stream",
          "name": "stderr",
          "text": [
            "\rProcessing train_images images:  37%|███▋      | 397/1082 [00:26<00:57, 11.97it/s]"
          ]
        },
        {
          "output_type": "stream",
          "name": "stdout",
          "text": [
            "\n",
            "image 1/1 /content/drive/MyDrive/bdma-07-competition/BDMA7_project_files/train_images/Brewer_Blackbird/Brewer_Blackbird_0016_2225.jpg: 640x640 1 Bird, 27.8ms\n",
            "Speed: 2.6ms preprocess, 27.8ms inference, 1.4ms postprocess per image at shape (1, 3, 640, 640)\n",
            "\n",
            "image 1/1 /content/drive/MyDrive/bdma-07-competition/BDMA7_project_files/train_images/Brewer_Blackbird/Brewer_Blackbird_0111_2613.jpg: 640x640 1 Bird, 27.8ms\n",
            "Speed: 2.9ms preprocess, 27.8ms inference, 1.1ms postprocess per image at shape (1, 3, 640, 640)\n"
          ]
        },
        {
          "output_type": "stream",
          "name": "stderr",
          "text": [
            "\rProcessing train_images images:  37%|███▋      | 399/1082 [00:26<00:52, 13.02it/s]"
          ]
        },
        {
          "output_type": "stream",
          "name": "stdout",
          "text": [
            "\n",
            "image 1/1 /content/drive/MyDrive/bdma-07-competition/BDMA7_project_files/train_images/Brewer_Blackbird/Brewer_Blackbird_0087_2622.jpg: 640x640 1 Bird, 41.4ms\n",
            "Speed: 4.2ms preprocess, 41.4ms inference, 1.3ms postprocess per image at shape (1, 3, 640, 640)\n",
            "\n",
            "image 1/1 /content/drive/MyDrive/bdma-07-competition/BDMA7_project_files/train_images/Brewer_Blackbird/Brewer_Blackbird_0097_2322.jpg: 640x640 1 Bird, 25.1ms\n",
            "Speed: 2.4ms preprocess, 25.1ms inference, 1.2ms postprocess per image at shape (1, 3, 640, 640)\n"
          ]
        },
        {
          "output_type": "stream",
          "name": "stderr",
          "text": [
            "\rProcessing train_images images:  37%|███▋      | 401/1082 [00:26<00:52, 12.90it/s]"
          ]
        },
        {
          "output_type": "stream",
          "name": "stdout",
          "text": [
            "\n",
            "image 1/1 /content/drive/MyDrive/bdma-07-competition/BDMA7_project_files/train_images/Brewer_Blackbird/Brewer_Blackbird_0041_2653.jpg: 640x640 1 Bird, 50.6ms\n",
            "Speed: 4.3ms preprocess, 50.6ms inference, 1.9ms postprocess per image at shape (1, 3, 640, 640)\n",
            "\n",
            "image 1/1 /content/drive/MyDrive/bdma-07-competition/BDMA7_project_files/train_images/Brewer_Blackbird/Brewer_Blackbird_0137_2680.jpg: 640x640 1 Bird, 27.0ms\n",
            "Speed: 3.5ms preprocess, 27.0ms inference, 1.6ms postprocess per image at shape (1, 3, 640, 640)\n"
          ]
        },
        {
          "output_type": "stream",
          "name": "stderr",
          "text": [
            "\rProcessing train_images images:  37%|███▋      | 403/1082 [00:27<00:53, 12.78it/s]"
          ]
        },
        {
          "output_type": "stream",
          "name": "stdout",
          "text": [
            "\n",
            "image 1/1 /content/drive/MyDrive/bdma-07-competition/BDMA7_project_files/train_images/Brewer_Blackbird/Brewer_Blackbird_0132_2293.jpg: 640x640 1 Bird, 25.3ms\n",
            "Speed: 4.9ms preprocess, 25.3ms inference, 2.0ms postprocess per image at shape (1, 3, 640, 640)\n",
            "\n",
            "image 1/1 /content/drive/MyDrive/bdma-07-competition/BDMA7_project_files/train_images/Brewer_Blackbird/Brewer_Blackbird_0017_2668.jpg: 640x640 1 Bird, 25.5ms\n",
            "Speed: 3.3ms preprocess, 25.5ms inference, 1.4ms postprocess per image at shape (1, 3, 640, 640)\n"
          ]
        },
        {
          "output_type": "stream",
          "name": "stderr",
          "text": [
            "\rProcessing train_images images:  37%|███▋      | 405/1082 [00:27<00:51, 13.25it/s]"
          ]
        },
        {
          "output_type": "stream",
          "name": "stdout",
          "text": [
            "\n",
            "image 1/1 /content/drive/MyDrive/bdma-07-competition/BDMA7_project_files/train_images/Brewer_Blackbird/Brewer_Blackbird_0045_2303.jpg: 640x640 1 Bird, 25.5ms\n",
            "Speed: 3.5ms preprocess, 25.5ms inference, 1.2ms postprocess per image at shape (1, 3, 640, 640)\n",
            "\n",
            "image 1/1 /content/drive/MyDrive/bdma-07-competition/BDMA7_project_files/train_images/Brewer_Blackbird/Brewer_Blackbird_0025_2231.jpg: 640x640 1 Bird, 25.5ms\n",
            "Speed: 2.6ms preprocess, 25.5ms inference, 1.2ms postprocess per image at shape (1, 3, 640, 640)\n"
          ]
        },
        {
          "output_type": "stream",
          "name": "stderr",
          "text": [
            "\rProcessing train_images images:  38%|███▊      | 407/1082 [00:27<00:48, 14.06it/s]"
          ]
        },
        {
          "output_type": "stream",
          "name": "stdout",
          "text": [
            "\n",
            "image 1/1 /content/drive/MyDrive/bdma-07-competition/BDMA7_project_files/train_images/Brewer_Blackbird/Brewer_Blackbird_0038_2294.jpg: 640x640 1 Bird, 25.5ms\n",
            "Speed: 2.7ms preprocess, 25.5ms inference, 1.1ms postprocess per image at shape (1, 3, 640, 640)\n",
            "\n",
            "image 1/1 /content/drive/MyDrive/bdma-07-competition/BDMA7_project_files/train_images/Brewer_Blackbird/Brewer_Blackbird_0074_2277.jpg: 640x640 3 Birds, 25.4ms\n",
            "Speed: 4.3ms preprocess, 25.4ms inference, 1.1ms postprocess per image at shape (1, 3, 640, 640)\n"
          ]
        },
        {
          "output_type": "stream",
          "name": "stderr",
          "text": [
            "\rProcessing train_images images:  38%|███▊      | 409/1082 [00:27<00:46, 14.60it/s]"
          ]
        },
        {
          "output_type": "stream",
          "name": "stdout",
          "text": [
            "\n",
            "image 1/1 /content/drive/MyDrive/bdma-07-competition/BDMA7_project_files/train_images/Brewer_Blackbird/Brewer_Blackbird_0140_2586.jpg: 640x640 1 Bird, 25.2ms\n",
            "Speed: 2.9ms preprocess, 25.2ms inference, 1.2ms postprocess per image at shape (1, 3, 640, 640)\n",
            "\n",
            "image 1/1 /content/drive/MyDrive/bdma-07-competition/BDMA7_project_files/train_images/Brewer_Blackbird/Brewer_Blackbird_0014_2679.jpg: 640x640 1 Bird, 28.1ms\n",
            "Speed: 4.3ms preprocess, 28.1ms inference, 1.6ms postprocess per image at shape (1, 3, 640, 640)\n"
          ]
        },
        {
          "output_type": "stream",
          "name": "stderr",
          "text": [
            "\rProcessing train_images images:  38%|███▊      | 411/1082 [00:27<00:44, 14.92it/s]"
          ]
        },
        {
          "output_type": "stream",
          "name": "stdout",
          "text": [
            "\n",
            "image 1/1 /content/drive/MyDrive/bdma-07-competition/BDMA7_project_files/train_images/Brewer_Blackbird/Brewer_Blackbird_0042_2302.jpg: 640x640 1 Bird, 23.2ms\n",
            "Speed: 3.0ms preprocess, 23.2ms inference, 1.2ms postprocess per image at shape (1, 3, 640, 640)\n",
            "\n",
            "image 1/1 /content/drive/MyDrive/bdma-07-competition/BDMA7_project_files/train_images/Brewer_Blackbird/Brewer_Blackbird_0131_2289.jpg: 640x640 1 Bird, 24.8ms\n",
            "Speed: 3.5ms preprocess, 24.8ms inference, 2.5ms postprocess per image at shape (1, 3, 640, 640)\n"
          ]
        },
        {
          "output_type": "stream",
          "name": "stderr",
          "text": [
            "\rProcessing train_images images:  38%|███▊      | 413/1082 [00:27<00:46, 14.35it/s]"
          ]
        },
        {
          "output_type": "stream",
          "name": "stdout",
          "text": [
            "\n",
            "image 1/1 /content/drive/MyDrive/bdma-07-competition/BDMA7_project_files/train_images/Brewer_Blackbird/Brewer_Blackbird_0103_2273.jpg: 640x640 1 Bird, 23.6ms\n",
            "Speed: 4.1ms preprocess, 23.6ms inference, 1.3ms postprocess per image at shape (1, 3, 640, 640)\n",
            "\n",
            "image 1/1 /content/drive/MyDrive/bdma-07-competition/BDMA7_project_files/train_images/Brewer_Blackbird/Brewer_Blackbird_0030_2268.jpg: 640x640 1 Bird, 23.6ms\n",
            "Speed: 2.5ms preprocess, 23.6ms inference, 1.2ms postprocess per image at shape (1, 3, 640, 640)\n"
          ]
        },
        {
          "output_type": "stream",
          "name": "stderr",
          "text": [
            "\rProcessing train_images images:  38%|███▊      | 415/1082 [00:27<00:44, 14.94it/s]"
          ]
        },
        {
          "output_type": "stream",
          "name": "stdout",
          "text": [
            "\n",
            "image 1/1 /content/drive/MyDrive/bdma-07-competition/BDMA7_project_files/train_images/Brewer_Blackbird/Brewer_Blackbird_0070_2325.jpg: 640x640 1 Bird, 23.5ms\n",
            "Speed: 2.9ms preprocess, 23.5ms inference, 1.1ms postprocess per image at shape (1, 3, 640, 640)\n",
            "\n",
            "image 1/1 /content/drive/MyDrive/bdma-07-competition/BDMA7_project_files/train_images/Brewer_Blackbird/Brewer_Blackbird_0082_2593.jpg: 640x640 1 Bird, 23.4ms\n",
            "Speed: 2.6ms preprocess, 23.4ms inference, 1.4ms postprocess per image at shape (1, 3, 640, 640)\n"
          ]
        },
        {
          "output_type": "stream",
          "name": "stderr",
          "text": [
            "\rProcessing train_images images:  39%|███▊      | 417/1082 [00:28<00:43, 15.35it/s]"
          ]
        },
        {
          "output_type": "stream",
          "name": "stdout",
          "text": [
            "\n",
            "image 1/1 /content/drive/MyDrive/bdma-07-competition/BDMA7_project_files/train_images/Brewer_Blackbird/Brewer_Blackbird_0026_2625.jpg: 640x640 1 Bird, 26.6ms\n",
            "Speed: 4.1ms preprocess, 26.6ms inference, 1.4ms postprocess per image at shape (1, 3, 640, 640)\n",
            "\n",
            "image 1/1 /content/drive/MyDrive/bdma-07-competition/BDMA7_project_files/train_images/Brewer_Blackbird/Brewer_Blackbird_0066_2693.jpg: 640x640 1 Bird, 25.6ms\n",
            "Speed: 3.9ms preprocess, 25.6ms inference, 1.7ms postprocess per image at shape (1, 3, 640, 640)\n"
          ]
        },
        {
          "output_type": "stream",
          "name": "stderr",
          "text": [
            "\rProcessing train_images images:  39%|███▊      | 419/1082 [00:28<00:44, 14.99it/s]"
          ]
        },
        {
          "output_type": "stream",
          "name": "stdout",
          "text": [
            "\n",
            "image 1/1 /content/drive/MyDrive/bdma-07-competition/BDMA7_project_files/train_images/Brewer_Blackbird/Brewer_Blackbird_0139_2567.jpg: 640x640 1 Bird, 25.1ms\n",
            "Speed: 4.3ms preprocess, 25.1ms inference, 1.7ms postprocess per image at shape (1, 3, 640, 640)\n",
            "\n",
            "image 1/1 /content/drive/MyDrive/bdma-07-competition/BDMA7_project_files/train_images/Brewer_Blackbird/Brewer_Blackbird_0080_2234.jpg: 640x640 1 Bird, 23.7ms\n",
            "Speed: 2.8ms preprocess, 23.7ms inference, 1.2ms postprocess per image at shape (1, 3, 640, 640)\n"
          ]
        },
        {
          "output_type": "stream",
          "name": "stderr",
          "text": [
            "\rProcessing train_images images:  39%|███▉      | 421/1082 [00:28<00:43, 15.21it/s]"
          ]
        },
        {
          "output_type": "stream",
          "name": "stdout",
          "text": [
            "\n",
            "image 1/1 /content/drive/MyDrive/bdma-07-competition/BDMA7_project_files/train_images/Brewer_Blackbird/Brewer_Blackbird_0002_2278.jpg: 640x640 1 Bird, 23.5ms\n",
            "Speed: 4.1ms preprocess, 23.5ms inference, 1.2ms postprocess per image at shape (1, 3, 640, 640)\n",
            "\n",
            "image 1/1 /content/drive/MyDrive/bdma-07-competition/BDMA7_project_files/train_images/Brewer_Blackbird/Brewer_Blackbird_0027_2329.jpg: 640x640 1 Bird, 23.6ms\n",
            "Speed: 4.8ms preprocess, 23.6ms inference, 1.2ms postprocess per image at shape (1, 3, 640, 640)\n"
          ]
        },
        {
          "output_type": "stream",
          "name": "stderr",
          "text": [
            "\rProcessing train_images images:  39%|███▉      | 423/1082 [00:28<00:42, 15.64it/s]"
          ]
        },
        {
          "output_type": "stream",
          "name": "stdout",
          "text": [
            "\n",
            "image 1/1 /content/drive/MyDrive/bdma-07-competition/BDMA7_project_files/train_images/Brewer_Blackbird/Brewer_Blackbird_0099_2560.jpg: 640x640 1 Bird, 23.8ms\n",
            "Speed: 3.9ms preprocess, 23.8ms inference, 1.2ms postprocess per image at shape (1, 3, 640, 640)\n",
            "\n",
            "image 1/1 /content/drive/MyDrive/bdma-07-competition/BDMA7_project_files/train_images/Brewer_Blackbird/Brewer_Blackbird_0078_2659.jpg: 640x640 1 Bird, 23.7ms\n",
            "Speed: 3.1ms preprocess, 23.7ms inference, 1.6ms postprocess per image at shape (1, 3, 640, 640)\n"
          ]
        },
        {
          "output_type": "stream",
          "name": "stderr",
          "text": [
            "\rProcessing train_images images:  39%|███▉      | 425/1082 [00:28<00:42, 15.56it/s]"
          ]
        },
        {
          "output_type": "stream",
          "name": "stdout",
          "text": [
            "\n",
            "image 1/1 /content/drive/MyDrive/bdma-07-competition/BDMA7_project_files/train_images/Brewer_Blackbird/Brewer_Blackbird_0035_2611.jpg: 640x640 1 Bird, 23.1ms\n",
            "Speed: 2.8ms preprocess, 23.1ms inference, 1.3ms postprocess per image at shape (1, 3, 640, 640)\n",
            "\n",
            "image 1/1 /content/drive/MyDrive/bdma-07-competition/BDMA7_project_files/train_images/Brewer_Blackbird/Brewer_Blackbird_0135_2607.jpg: 640x640 1 Bird, 22.5ms\n",
            "Speed: 2.8ms preprocess, 22.5ms inference, 1.2ms postprocess per image at shape (1, 3, 640, 640)\n"
          ]
        },
        {
          "output_type": "stream",
          "name": "stderr",
          "text": [
            "\rProcessing train_images images:  39%|███▉      | 427/1082 [00:28<00:43, 15.00it/s]"
          ]
        },
        {
          "output_type": "stream",
          "name": "stdout",
          "text": [
            "\n",
            "image 1/1 /content/drive/MyDrive/bdma-07-competition/BDMA7_project_files/train_images/Brewer_Blackbird/Brewer_Blackbird_0095_2610.jpg: 640x640 1 Bird, 23.1ms\n",
            "Speed: 3.8ms preprocess, 23.1ms inference, 1.2ms postprocess per image at shape (1, 3, 640, 640)\n",
            "\n",
            "image 1/1 /content/drive/MyDrive/bdma-07-competition/BDMA7_project_files/train_images/Brewer_Blackbird/Brewer_Blackbird_0090_2658.jpg: 640x640 1 Bird, 23.5ms\n",
            "Speed: 4.3ms preprocess, 23.5ms inference, 1.2ms postprocess per image at shape (1, 3, 640, 640)\n"
          ]
        },
        {
          "output_type": "stream",
          "name": "stderr",
          "text": [
            "\rProcessing train_images images:  40%|███▉      | 429/1082 [00:28<00:41, 15.64it/s]"
          ]
        },
        {
          "output_type": "stream",
          "name": "stdout",
          "text": [
            "\n",
            "image 1/1 /content/drive/MyDrive/bdma-07-competition/BDMA7_project_files/train_images/Brewer_Blackbird/Brewer_Blackbird_0010_2269.jpg: 640x640 1 Bird, 23.1ms\n",
            "Speed: 3.8ms preprocess, 23.1ms inference, 1.5ms postprocess per image at shape (1, 3, 640, 640)\n",
            "\n",
            "image 1/1 /content/drive/MyDrive/bdma-07-competition/BDMA7_project_files/train_images/Brewer_Blackbird/Brewer_Blackbird_0116_2327.jpg: 640x640 1 Bird, 23.5ms\n",
            "Speed: 2.7ms preprocess, 23.5ms inference, 1.2ms postprocess per image at shape (1, 3, 640, 640)\n"
          ]
        },
        {
          "output_type": "stream",
          "name": "stderr",
          "text": [
            "\rProcessing train_images images:  40%|███▉      | 431/1082 [00:28<00:42, 15.35it/s]"
          ]
        },
        {
          "output_type": "stream",
          "name": "stdout",
          "text": [
            "\n",
            "image 1/1 /content/drive/MyDrive/bdma-07-competition/BDMA7_project_files/train_images/Brewer_Blackbird/Brewer_Blackbird_0133_2324.jpg: 640x640 1 Bird, 23.6ms\n",
            "Speed: 3.3ms preprocess, 23.6ms inference, 1.2ms postprocess per image at shape (1, 3, 640, 640)\n",
            "\n",
            "image 1/1 /content/drive/MyDrive/bdma-07-competition/BDMA7_project_files/train_images/Brewer_Blackbird/Brewer_Blackbird_0012_2691.jpg: 640x640 1 Bird, 25.6ms\n",
            "Speed: 3.1ms preprocess, 25.6ms inference, 1.6ms postprocess per image at shape (1, 3, 640, 640)\n"
          ]
        },
        {
          "output_type": "stream",
          "name": "stderr",
          "text": [
            "\rProcessing train_images images:  40%|████      | 433/1082 [00:29<00:42, 15.31it/s]"
          ]
        },
        {
          "output_type": "stream",
          "name": "stdout",
          "text": [
            "\n",
            "image 1/1 /content/drive/MyDrive/bdma-07-competition/BDMA7_project_files/train_images/Bobolink/Bobolink_0099_9314.jpg: 640x640 1 Bird, 24.1ms\n",
            "Speed: 3.9ms preprocess, 24.1ms inference, 1.4ms postprocess per image at shape (1, 3, 640, 640)\n",
            "\n",
            "image 1/1 /content/drive/MyDrive/bdma-07-competition/BDMA7_project_files/train_images/Bobolink/Bobolink_0056_9080.jpg: 640x640 1 Bird, 26.6ms\n",
            "Speed: 3.4ms preprocess, 26.6ms inference, 1.5ms postprocess per image at shape (1, 3, 640, 640)\n"
          ]
        },
        {
          "output_type": "stream",
          "name": "stderr",
          "text": [
            "\rProcessing train_images images:  40%|████      | 435/1082 [00:29<00:42, 15.17it/s]"
          ]
        },
        {
          "output_type": "stream",
          "name": "stdout",
          "text": [
            "\n",
            "image 1/1 /content/drive/MyDrive/bdma-07-competition/BDMA7_project_files/train_images/Bobolink/Bobolink_0109_9869.jpg: 640x640 1 Bird, 22.6ms\n",
            "Speed: 2.9ms preprocess, 22.6ms inference, 1.3ms postprocess per image at shape (1, 3, 640, 640)\n",
            "\n",
            "image 1/1 /content/drive/MyDrive/bdma-07-competition/BDMA7_project_files/train_images/Bobolink/Bobolink_0115_9265.jpg: 640x640 1 Bird, 22.9ms\n",
            "Speed: 2.7ms preprocess, 22.9ms inference, 1.3ms postprocess per image at shape (1, 3, 640, 640)\n"
          ]
        },
        {
          "output_type": "stream",
          "name": "stderr",
          "text": [
            "\rProcessing train_images images:  40%|████      | 437/1082 [00:29<00:42, 15.34it/s]"
          ]
        },
        {
          "output_type": "stream",
          "name": "stdout",
          "text": [
            "\n",
            "image 1/1 /content/drive/MyDrive/bdma-07-competition/BDMA7_project_files/train_images/Bobolink/Bobolink_0110_9496.jpg: 640x640 1 Bird, 23.0ms\n",
            "Speed: 3.5ms preprocess, 23.0ms inference, 1.2ms postprocess per image at shape (1, 3, 640, 640)\n",
            "\n",
            "image 1/1 /content/drive/MyDrive/bdma-07-competition/BDMA7_project_files/train_images/Bobolink/Bobolink_0044_9990.jpg: 640x640 1 Bird, 22.7ms\n",
            "Speed: 2.8ms preprocess, 22.7ms inference, 1.5ms postprocess per image at shape (1, 3, 640, 640)\n"
          ]
        },
        {
          "output_type": "stream",
          "name": "stderr",
          "text": [
            "\rProcessing train_images images:  41%|████      | 439/1082 [00:29<00:42, 14.98it/s]"
          ]
        },
        {
          "output_type": "stream",
          "name": "stdout",
          "text": [
            "\n",
            "image 1/1 /content/drive/MyDrive/bdma-07-competition/BDMA7_project_files/train_images/Bobolink/Bobolink_0035_11117.jpg: 640x640 1 Bird, 22.9ms\n",
            "Speed: 2.9ms preprocess, 22.9ms inference, 1.3ms postprocess per image at shape (1, 3, 640, 640)\n",
            "\n",
            "image 1/1 /content/drive/MyDrive/bdma-07-competition/BDMA7_project_files/train_images/Bobolink/Bobolink_0094_9823.jpg: 640x640 1 Bird, 23.6ms\n",
            "Speed: 2.8ms preprocess, 23.6ms inference, 1.2ms postprocess per image at shape (1, 3, 640, 640)\n"
          ]
        },
        {
          "output_type": "stream",
          "name": "stderr",
          "text": [
            "\rProcessing train_images images:  41%|████      | 441/1082 [00:29<00:40, 15.66it/s]"
          ]
        },
        {
          "output_type": "stream",
          "name": "stdout",
          "text": [
            "\n",
            "image 1/1 /content/drive/MyDrive/bdma-07-competition/BDMA7_project_files/train_images/Bobolink/Bobolink_0064_10092.jpg: 640x640 1 Bird, 23.6ms\n",
            "Speed: 3.2ms preprocess, 23.6ms inference, 1.2ms postprocess per image at shape (1, 3, 640, 640)\n",
            "\n",
            "image 1/1 /content/drive/MyDrive/bdma-07-competition/BDMA7_project_files/train_images/Bobolink/Bobolink_0033_10809.jpg: 640x640 1 Bird, 22.9ms\n",
            "Speed: 4.2ms preprocess, 22.9ms inference, 1.2ms postprocess per image at shape (1, 3, 640, 640)\n"
          ]
        },
        {
          "output_type": "stream",
          "name": "stderr",
          "text": [
            "\rProcessing train_images images:  41%|████      | 443/1082 [00:29<00:40, 15.69it/s]"
          ]
        },
        {
          "output_type": "stream",
          "name": "stdout",
          "text": [
            "\n",
            "image 1/1 /content/drive/MyDrive/bdma-07-competition/BDMA7_project_files/train_images/Bobolink/Bobolink_0057_10051.jpg: 640x640 1 Bird, 23.0ms\n",
            "Speed: 3.5ms preprocess, 23.0ms inference, 1.3ms postprocess per image at shape (1, 3, 640, 640)\n",
            "\n",
            "image 1/1 /content/drive/MyDrive/bdma-07-competition/BDMA7_project_files/train_images/Bobolink/Bobolink_0097_10861.jpg: 640x640 1 Bird, 23.2ms\n",
            "Speed: 2.5ms preprocess, 23.2ms inference, 1.2ms postprocess per image at shape (1, 3, 640, 640)\n"
          ]
        },
        {
          "output_type": "stream",
          "name": "stderr",
          "text": [
            "\rProcessing train_images images:  41%|████      | 445/1082 [00:29<00:40, 15.88it/s]"
          ]
        },
        {
          "output_type": "stream",
          "name": "stdout",
          "text": [
            "\n",
            "image 1/1 /content/drive/MyDrive/bdma-07-competition/BDMA7_project_files/train_images/Bobolink/Bobolink_0013_9367.jpg: 640x640 1 Bird, 22.9ms\n",
            "Speed: 2.4ms preprocess, 22.9ms inference, 1.4ms postprocess per image at shape (1, 3, 640, 640)\n",
            "\n",
            "image 1/1 /content/drive/MyDrive/bdma-07-competition/BDMA7_project_files/train_images/Bobolink/Bobolink_0021_10623.jpg: 640x640 1 Bird, 24.8ms\n",
            "Speed: 4.4ms preprocess, 24.8ms inference, 1.2ms postprocess per image at shape (1, 3, 640, 640)\n"
          ]
        },
        {
          "output_type": "stream",
          "name": "stderr",
          "text": [
            "\rProcessing train_images images:  41%|████▏     | 447/1082 [00:29<00:39, 16.10it/s]"
          ]
        },
        {
          "output_type": "stream",
          "name": "stdout",
          "text": [
            "\n",
            "image 1/1 /content/drive/MyDrive/bdma-07-competition/BDMA7_project_files/train_images/Bobolink/Bobolink_0001_9261.jpg: 640x640 1 Bird, 23.2ms\n",
            "Speed: 2.9ms preprocess, 23.2ms inference, 1.5ms postprocess per image at shape (1, 3, 640, 640)\n",
            "\n",
            "image 1/1 /content/drive/MyDrive/bdma-07-competition/BDMA7_project_files/train_images/Bobolink/Bobolink_0039_9779.jpg: 640x640 1 Bird, 27.1ms\n",
            "Speed: 3.1ms preprocess, 27.1ms inference, 1.6ms postprocess per image at shape (1, 3, 640, 640)\n"
          ]
        },
        {
          "output_type": "stream",
          "name": "stderr",
          "text": [
            "\rProcessing train_images images:  41%|████▏     | 449/1082 [00:30<00:39, 15.87it/s]"
          ]
        },
        {
          "output_type": "stream",
          "name": "stdout",
          "text": [
            "\n",
            "image 1/1 /content/drive/MyDrive/bdma-07-competition/BDMA7_project_files/train_images/Bobolink/Bobolink_0043_10607.jpg: 640x640 1 Bird, 23.9ms\n",
            "Speed: 3.5ms preprocess, 23.9ms inference, 1.9ms postprocess per image at shape (1, 3, 640, 640)\n",
            "\n",
            "image 1/1 /content/drive/MyDrive/bdma-07-competition/BDMA7_project_files/train_images/Bobolink/Bobolink_0032_10217.jpg: 640x640 1 Bird, 24.6ms\n",
            "Speed: 4.5ms preprocess, 24.6ms inference, 1.7ms postprocess per image at shape (1, 3, 640, 640)\n"
          ]
        },
        {
          "output_type": "stream",
          "name": "stderr",
          "text": [
            "\rProcessing train_images images:  42%|████▏     | 451/1082 [00:30<00:40, 15.47it/s]"
          ]
        },
        {
          "output_type": "stream",
          "name": "stdout",
          "text": [
            "\n",
            "image 1/1 /content/drive/MyDrive/bdma-07-competition/BDMA7_project_files/train_images/Bobolink/Bobolink_0026_11057.jpg: 640x640 1 Bird, 22.8ms\n",
            "Speed: 2.6ms preprocess, 22.8ms inference, 1.3ms postprocess per image at shape (1, 3, 640, 640)\n",
            "\n",
            "image 1/1 /content/drive/MyDrive/bdma-07-competition/BDMA7_project_files/train_images/Bobolink/Bobolink_0120_10859.jpg: 640x640 1 Bird, 22.9ms\n",
            "Speed: 3.9ms preprocess, 22.9ms inference, 1.4ms postprocess per image at shape (1, 3, 640, 640)\n"
          ]
        },
        {
          "output_type": "stream",
          "name": "stderr",
          "text": [
            "\rProcessing train_images images:  42%|████▏     | 453/1082 [00:30<00:41, 15.17it/s]"
          ]
        },
        {
          "output_type": "stream",
          "name": "stdout",
          "text": [
            "\n",
            "image 1/1 /content/drive/MyDrive/bdma-07-competition/BDMA7_project_files/train_images/Bobolink/Bobolink_0106_9126.jpg: 640x640 1 Bird, 22.9ms\n",
            "Speed: 3.0ms preprocess, 22.9ms inference, 1.2ms postprocess per image at shape (1, 3, 640, 640)\n",
            "\n",
            "image 1/1 /content/drive/MyDrive/bdma-07-competition/BDMA7_project_files/train_images/Bobolink/Bobolink_0019_10552.jpg: 640x640 1 Bird, 23.4ms\n",
            "Speed: 2.9ms preprocess, 23.4ms inference, 1.3ms postprocess per image at shape (1, 3, 640, 640)\n"
          ]
        },
        {
          "output_type": "stream",
          "name": "stderr",
          "text": [
            "\rProcessing train_images images:  42%|████▏     | 455/1082 [00:30<00:39, 15.70it/s]"
          ]
        },
        {
          "output_type": "stream",
          "name": "stdout",
          "text": [
            "\n",
            "image 1/1 /content/drive/MyDrive/bdma-07-competition/BDMA7_project_files/train_images/Bobolink/Bobolink_0126_11458.jpg: 640x640 1 Bird, 23.3ms\n",
            "Speed: 2.8ms preprocess, 23.3ms inference, 1.2ms postprocess per image at shape (1, 3, 640, 640)\n",
            "\n",
            "image 1/1 /content/drive/MyDrive/bdma-07-competition/BDMA7_project_files/train_images/Bobolink/Bobolink_0040_9681.jpg: 640x640 1 Bird, 23.8ms\n",
            "Speed: 4.0ms preprocess, 23.8ms inference, 1.2ms postprocess per image at shape (1, 3, 640, 640)\n"
          ]
        },
        {
          "output_type": "stream",
          "name": "stderr",
          "text": [
            "\rProcessing train_images images:  42%|████▏     | 457/1082 [00:30<00:38, 16.03it/s]"
          ]
        },
        {
          "output_type": "stream",
          "name": "stdout",
          "text": [
            "\n",
            "image 1/1 /content/drive/MyDrive/bdma-07-competition/BDMA7_project_files/train_images/Bobolink/Bobolink_0092_10026.jpg: 640x640 1 Bird, 23.3ms\n",
            "Speed: 3.3ms preprocess, 23.3ms inference, 1.4ms postprocess per image at shape (1, 3, 640, 640)\n",
            "\n",
            "image 1/1 /content/drive/MyDrive/bdma-07-competition/BDMA7_project_files/train_images/Bobolink/Bobolink_0008_9289.jpg: 640x640 1 Bird, 28.9ms\n",
            "Speed: 2.5ms preprocess, 28.9ms inference, 1.2ms postprocess per image at shape (1, 3, 640, 640)\n"
          ]
        },
        {
          "output_type": "stream",
          "name": "stderr",
          "text": [
            "\rProcessing train_images images:  42%|████▏     | 459/1082 [00:30<00:38, 16.07it/s]"
          ]
        },
        {
          "output_type": "stream",
          "name": "stdout",
          "text": [
            "\n",
            "image 1/1 /content/drive/MyDrive/bdma-07-competition/BDMA7_project_files/train_images/Bobolink/Bobolink_0112_11073.jpg: 640x640 1 Bird, 23.0ms\n",
            "Speed: 2.8ms preprocess, 23.0ms inference, 1.2ms postprocess per image at shape (1, 3, 640, 640)\n",
            "\n",
            "image 1/1 /content/drive/MyDrive/bdma-07-competition/BDMA7_project_files/train_images/Bobolink/Bobolink_0069_9085.jpg: 640x640 1 Bird, 23.5ms\n",
            "Speed: 2.6ms preprocess, 23.5ms inference, 1.2ms postprocess per image at shape (1, 3, 640, 640)\n"
          ]
        },
        {
          "output_type": "stream",
          "name": "stderr",
          "text": [
            "\rProcessing train_images images:  43%|████▎     | 461/1082 [00:30<00:38, 16.20it/s]"
          ]
        },
        {
          "output_type": "stream",
          "name": "stdout",
          "text": [
            "\n",
            "image 1/1 /content/drive/MyDrive/bdma-07-competition/BDMA7_project_files/train_images/Bobolink/Bobolink_0020_9194.jpg: 640x640 1 Bird, 23.6ms\n",
            "Speed: 2.4ms preprocess, 23.6ms inference, 1.2ms postprocess per image at shape (1, 3, 640, 640)\n",
            "\n",
            "image 1/1 /content/drive/MyDrive/bdma-07-competition/BDMA7_project_files/train_images/Bobolink/Bobolink_0114_10627.jpg: 640x640 1 Bird, 23.7ms\n",
            "Speed: 4.0ms preprocess, 23.7ms inference, 1.2ms postprocess per image at shape (1, 3, 640, 640)\n"
          ]
        },
        {
          "output_type": "stream",
          "name": "stderr",
          "text": [
            "\rProcessing train_images images:  43%|████▎     | 463/1082 [00:30<00:37, 16.42it/s]"
          ]
        },
        {
          "output_type": "stream",
          "name": "stdout",
          "text": [
            "\n",
            "image 1/1 /content/drive/MyDrive/bdma-07-competition/BDMA7_project_files/train_images/Bobolink/Bobolink_0007_9246.jpg: 640x640 1 Bird, 23.5ms\n",
            "Speed: 4.4ms preprocess, 23.5ms inference, 1.5ms postprocess per image at shape (1, 3, 640, 640)\n",
            "\n",
            "image 1/1 /content/drive/MyDrive/bdma-07-competition/BDMA7_project_files/train_images/Bobolink/Bobolink_0052_9423.jpg: 640x640 1 Bird, 25.4ms\n",
            "Speed: 3.6ms preprocess, 25.4ms inference, 1.5ms postprocess per image at shape (1, 3, 640, 640)\n"
          ]
        },
        {
          "output_type": "stream",
          "name": "stderr",
          "text": [
            "\rProcessing train_images images:  43%|████▎     | 465/1082 [00:31<00:39, 15.71it/s]"
          ]
        },
        {
          "output_type": "stream",
          "name": "stdout",
          "text": [
            "\n",
            "image 1/1 /content/drive/MyDrive/bdma-07-competition/BDMA7_project_files/train_images/Bobolink/Bobolink_0102_10807.jpg: 640x640 1 Bird, 26.4ms\n",
            "Speed: 4.0ms preprocess, 26.4ms inference, 1.6ms postprocess per image at shape (1, 3, 640, 640)\n",
            "\n",
            "image 1/1 /content/drive/MyDrive/bdma-07-competition/BDMA7_project_files/train_images/Bobolink/Bobolink_0131_9578.jpg: 640x640 1 Bird, 26.2ms\n",
            "Speed: 3.5ms preprocess, 26.2ms inference, 1.3ms postprocess per image at shape (1, 3, 640, 640)\n"
          ]
        },
        {
          "output_type": "stream",
          "name": "stderr",
          "text": [
            "\rProcessing train_images images:  43%|████▎     | 467/1082 [00:31<00:39, 15.43it/s]"
          ]
        },
        {
          "output_type": "stream",
          "name": "stdout",
          "text": [
            "\n",
            "image 1/1 /content/drive/MyDrive/bdma-07-competition/BDMA7_project_files/train_images/Bobolink/Bobolink_0027_10569.jpg: 640x640 1 Bird, 22.9ms\n",
            "Speed: 4.2ms preprocess, 22.9ms inference, 1.3ms postprocess per image at shape (1, 3, 640, 640)\n",
            "\n",
            "image 1/1 /content/drive/MyDrive/bdma-07-competition/BDMA7_project_files/train_images/Bobolink/Bobolink_0050_9821.jpg: 640x640 1 Bird, 23.2ms\n",
            "Speed: 4.3ms preprocess, 23.2ms inference, 1.2ms postprocess per image at shape (1, 3, 640, 640)\n"
          ]
        },
        {
          "output_type": "stream",
          "name": "stderr",
          "text": [
            "\rProcessing train_images images:  43%|████▎     | 469/1082 [00:31<00:39, 15.70it/s]"
          ]
        },
        {
          "output_type": "stream",
          "name": "stdout",
          "text": [
            "\n",
            "image 1/1 /content/drive/MyDrive/bdma-07-competition/BDMA7_project_files/train_images/Bobolink/Bobolink_0059_10041.jpg: 640x640 1 Bird, 23.1ms\n",
            "Speed: 3.6ms preprocess, 23.1ms inference, 1.2ms postprocess per image at shape (1, 3, 640, 640)\n",
            "\n",
            "image 1/1 /content/drive/MyDrive/bdma-07-competition/BDMA7_project_files/train_images/Bobolink/Bobolink_0065_9375.jpg: 640x640 1 Bird, 23.0ms\n",
            "Speed: 4.2ms preprocess, 23.0ms inference, 1.3ms postprocess per image at shape (1, 3, 640, 640)\n"
          ]
        },
        {
          "output_type": "stream",
          "name": "stderr",
          "text": [
            "\rProcessing train_images images:  44%|████▎     | 471/1082 [00:31<00:39, 15.34it/s]"
          ]
        },
        {
          "output_type": "stream",
          "name": "stdout",
          "text": [
            "\n",
            "image 1/1 /content/drive/MyDrive/bdma-07-competition/BDMA7_project_files/train_images/Bobolink/Bobolink_0018_9402.jpg: 640x640 1 Bird, 23.3ms\n",
            "Speed: 3.8ms preprocess, 23.3ms inference, 1.4ms postprocess per image at shape (1, 3, 640, 640)\n",
            "\n",
            "image 1/1 /content/drive/MyDrive/bdma-07-competition/BDMA7_project_files/train_images/Bobolink/Bobolink_0049_9540.jpg: 640x640 1 Bird, 23.4ms\n",
            "Speed: 2.6ms preprocess, 23.4ms inference, 1.3ms postprocess per image at shape (1, 3, 640, 640)\n"
          ]
        },
        {
          "output_type": "stream",
          "name": "stderr",
          "text": [
            "\rProcessing train_images images:  44%|████▎     | 473/1082 [00:31<00:38, 15.72it/s]"
          ]
        },
        {
          "output_type": "stream",
          "name": "stdout",
          "text": [
            "\n",
            "image 1/1 /content/drive/MyDrive/bdma-07-competition/BDMA7_project_files/train_images/Bobolink/Bobolink_0079_10736.jpg: 640x640 1 Bird, 23.3ms\n",
            "Speed: 3.0ms preprocess, 23.3ms inference, 1.3ms postprocess per image at shape (1, 3, 640, 640)\n",
            "\n",
            "image 1/1 /content/drive/MyDrive/bdma-07-competition/BDMA7_project_files/train_images/Bobolink/Bobolink_0119_10430.jpg: 640x640 1 Bird, 25.2ms\n",
            "Speed: 4.3ms preprocess, 25.2ms inference, 1.9ms postprocess per image at shape (1, 3, 640, 640)\n"
          ]
        },
        {
          "output_type": "stream",
          "name": "stderr",
          "text": [
            "\rProcessing train_images images:  44%|████▍     | 475/1082 [00:31<00:38, 15.86it/s]"
          ]
        },
        {
          "output_type": "stream",
          "name": "stdout",
          "text": [
            "\n",
            "image 1/1 /content/drive/MyDrive/bdma-07-competition/BDMA7_project_files/train_images/Bobolink/Bobolink_0133_9618.jpg: 640x640 1 Bird, 23.8ms\n",
            "Speed: 3.7ms preprocess, 23.8ms inference, 1.3ms postprocess per image at shape (1, 3, 640, 640)\n",
            "\n",
            "image 1/1 /content/drive/MyDrive/bdma-07-competition/BDMA7_project_files/train_images/Bobolink/Bobolink_0117_10215.jpg: 640x640 1 Bird, 23.9ms\n",
            "Speed: 2.8ms preprocess, 23.9ms inference, 1.3ms postprocess per image at shape (1, 3, 640, 640)\n"
          ]
        },
        {
          "output_type": "stream",
          "name": "stderr",
          "text": [
            "\rProcessing train_images images:  44%|████▍     | 477/1082 [00:31<00:39, 15.40it/s]"
          ]
        },
        {
          "output_type": "stream",
          "name": "stdout",
          "text": [
            "\n",
            "image 1/1 /content/drive/MyDrive/bdma-07-competition/BDMA7_project_files/train_images/Bobolink/Bobolink_0071_9503.jpg: 640x640 1 Bird, 23.8ms\n",
            "Speed: 2.6ms preprocess, 23.8ms inference, 2.1ms postprocess per image at shape (1, 3, 640, 640)\n",
            "\n",
            "image 1/1 /content/drive/MyDrive/bdma-07-competition/BDMA7_project_files/train_images/Bobolink/Bobolink_0104_10273.jpg: 640x640 1 Bird, 38.8ms\n",
            "Speed: 7.6ms preprocess, 38.8ms inference, 1.8ms postprocess per image at shape (1, 3, 640, 640)\n"
          ]
        },
        {
          "output_type": "stream",
          "name": "stderr",
          "text": [
            "\rProcessing train_images images:  44%|████▍     | 479/1082 [00:32<00:40, 14.80it/s]"
          ]
        },
        {
          "output_type": "stream",
          "name": "stdout",
          "text": [
            "\n",
            "image 1/1 /content/drive/MyDrive/bdma-07-competition/BDMA7_project_files/train_images/Bobolink/Bobolink_0074_9311.jpg: 640x640 1 Bird, 25.9ms\n",
            "Speed: 3.2ms preprocess, 25.9ms inference, 1.7ms postprocess per image at shape (1, 3, 640, 640)\n",
            "\n",
            "image 1/1 /content/drive/MyDrive/bdma-07-competition/BDMA7_project_files/train_images/Bobolink/Bobolink_0128_9947.jpg: 640x640 1 Bird, 27.3ms\n",
            "Speed: 3.8ms preprocess, 27.3ms inference, 1.7ms postprocess per image at shape (1, 3, 640, 640)\n"
          ]
        },
        {
          "output_type": "stream",
          "name": "stderr",
          "text": [
            "\rProcessing train_images images:  44%|████▍     | 481/1082 [00:32<00:40, 14.69it/s]"
          ]
        },
        {
          "output_type": "stream",
          "name": "stdout",
          "text": [
            "\n",
            "image 1/1 /content/drive/MyDrive/bdma-07-competition/BDMA7_project_files/train_images/Bobolink/Bobolink_0107_10252.jpg: 640x640 1 Bird, 28.3ms\n",
            "Speed: 5.0ms preprocess, 28.3ms inference, 1.8ms postprocess per image at shape (1, 3, 640, 640)\n",
            "\n",
            "image 1/1 /content/drive/MyDrive/bdma-07-competition/BDMA7_project_files/train_images/Bobolink/Bobolink_0048_9988.jpg: 640x640 1 Bird, 25.1ms\n",
            "Speed: 5.7ms preprocess, 25.1ms inference, 1.3ms postprocess per image at shape (1, 3, 640, 640)\n"
          ]
        },
        {
          "output_type": "stream",
          "name": "stderr",
          "text": [
            "\rProcessing train_images images:  45%|████▍     | 483/1082 [00:32<00:42, 14.02it/s]"
          ]
        },
        {
          "output_type": "stream",
          "name": "stdout",
          "text": [
            "\n",
            "image 1/1 /content/drive/MyDrive/bdma-07-competition/BDMA7_project_files/train_images/Bobolink/Bobolink_0002_11085.jpg: 640x640 1 Bird, 23.8ms\n",
            "Speed: 4.2ms preprocess, 23.8ms inference, 1.3ms postprocess per image at shape (1, 3, 640, 640)\n",
            "\n",
            "image 1/1 /content/drive/MyDrive/bdma-07-competition/BDMA7_project_files/train_images/Bobolink/Bobolink_0014_11055.jpg: 640x640 1 Bird, 23.9ms\n",
            "Speed: 2.9ms preprocess, 23.9ms inference, 1.3ms postprocess per image at shape (1, 3, 640, 640)\n"
          ]
        },
        {
          "output_type": "stream",
          "name": "stderr",
          "text": [
            "\rProcessing train_images images:  45%|████▍     | 485/1082 [00:32<00:41, 14.44it/s]"
          ]
        },
        {
          "output_type": "stream",
          "name": "stdout",
          "text": [
            "\n",
            "image 1/1 /content/drive/MyDrive/bdma-07-competition/BDMA7_project_files/train_images/Bobolink/Bobolink_0070_10624.jpg: 640x640 1 Bird, 23.8ms\n",
            "Speed: 3.0ms preprocess, 23.8ms inference, 1.4ms postprocess per image at shape (1, 3, 640, 640)\n",
            "\n",
            "image 1/1 /content/drive/MyDrive/bdma-07-competition/BDMA7_project_files/train_images/Bobolink/Bobolink_0053_10166.jpg: 640x640 1 Bird, 23.8ms\n",
            "Speed: 3.0ms preprocess, 23.8ms inference, 1.2ms postprocess per image at shape (1, 3, 640, 640)\n"
          ]
        },
        {
          "output_type": "stream",
          "name": "stderr",
          "text": [
            "\rProcessing train_images images:  45%|████▌     | 487/1082 [00:32<00:39, 14.99it/s]"
          ]
        },
        {
          "output_type": "stream",
          "name": "stdout",
          "text": [
            "\n",
            "image 1/1 /content/drive/MyDrive/bdma-07-competition/BDMA7_project_files/train_images/Bobolink/Bobolink_0081_9439.jpg: 640x640 1 Bird, 23.9ms\n",
            "Speed: 2.8ms preprocess, 23.9ms inference, 1.3ms postprocess per image at shape (1, 3, 640, 640)\n",
            "\n",
            "image 1/1 /content/drive/MyDrive/bdma-07-competition/BDMA7_project_files/train_images/Bobolink/Bobolink_0124_10182.jpg: 640x640 1 Bird, 23.9ms\n",
            "Speed: 2.4ms preprocess, 23.9ms inference, 1.2ms postprocess per image at shape (1, 3, 640, 640)\n"
          ]
        },
        {
          "output_type": "stream",
          "name": "stderr",
          "text": [
            "\rProcessing train_images images:  45%|████▌     | 489/1082 [00:32<00:39, 14.87it/s]"
          ]
        },
        {
          "output_type": "stream",
          "name": "stdout",
          "text": [
            "\n",
            "image 1/1 /content/drive/MyDrive/bdma-07-competition/BDMA7_project_files/train_images/Bobolink/Bobolink_0067_11533.jpg: 640x640 1 Bird, 28.7ms\n",
            "Speed: 3.6ms preprocess, 28.7ms inference, 1.2ms postprocess per image at shape (1, 3, 640, 640)\n",
            "\n",
            "image 1/1 /content/drive/MyDrive/bdma-07-competition/BDMA7_project_files/train_images/Bobolink/Bobolink_0076_11093.jpg: 640x640 1 Bird, 23.8ms\n",
            "Speed: 4.6ms preprocess, 23.8ms inference, 1.2ms postprocess per image at shape (1, 3, 640, 640)\n"
          ]
        },
        {
          "output_type": "stream",
          "name": "stderr",
          "text": [
            "\rProcessing train_images images:  45%|████▌     | 491/1082 [00:32<00:39, 15.12it/s]"
          ]
        },
        {
          "output_type": "stream",
          "name": "stdout",
          "text": [
            "\n",
            "image 1/1 /content/drive/MyDrive/bdma-07-competition/BDMA7_project_files/train_images/Lazuli_Bunting/Lazuli_Bunting_0032_14778.jpg: 640x640 1 Bird, 24.0ms\n",
            "Speed: 3.4ms preprocess, 24.0ms inference, 1.3ms postprocess per image at shape (1, 3, 640, 640)\n",
            "\n",
            "image 1/1 /content/drive/MyDrive/bdma-07-competition/BDMA7_project_files/train_images/Lazuli_Bunting/Lazuli_Bunting_0084_14815.jpg: 640x640 1 Bird, 24.1ms\n",
            "Speed: 2.6ms preprocess, 24.1ms inference, 1.3ms postprocess per image at shape (1, 3, 640, 640)\n"
          ]
        },
        {
          "output_type": "stream",
          "name": "stderr",
          "text": [
            "\rProcessing train_images images:  46%|████▌     | 493/1082 [00:32<00:38, 15.26it/s]"
          ]
        },
        {
          "output_type": "stream",
          "name": "stdout",
          "text": [
            "\n",
            "image 1/1 /content/drive/MyDrive/bdma-07-competition/BDMA7_project_files/train_images/Lazuli_Bunting/Lazuli_Bunting_0046_14787.jpg: 640x640 1 Bird, 24.2ms\n",
            "Speed: 3.1ms preprocess, 24.2ms inference, 1.6ms postprocess per image at shape (1, 3, 640, 640)\n",
            "\n",
            "image 1/1 /content/drive/MyDrive/bdma-07-competition/BDMA7_project_files/train_images/Lazuli_Bunting/Lazuli_Bunting_0070_14665.jpg: 640x640 1 Bird, 27.8ms\n",
            "Speed: 3.7ms preprocess, 27.8ms inference, 2.4ms postprocess per image at shape (1, 3, 640, 640)\n"
          ]
        },
        {
          "output_type": "stream",
          "name": "stderr",
          "text": [
            "\rProcessing train_images images:  46%|████▌     | 495/1082 [00:33<00:39, 14.81it/s]"
          ]
        },
        {
          "output_type": "stream",
          "name": "stdout",
          "text": [
            "\n",
            "image 1/1 /content/drive/MyDrive/bdma-07-competition/BDMA7_project_files/train_images/Lazuli_Bunting/Lazuli_Bunting_0035_14920.jpg: 640x640 1 Bird, 25.1ms\n",
            "Speed: 4.1ms preprocess, 25.1ms inference, 1.4ms postprocess per image at shape (1, 3, 640, 640)\n",
            "\n",
            "image 1/1 /content/drive/MyDrive/bdma-07-competition/BDMA7_project_files/train_images/Lazuli_Bunting/Lazuli_Bunting_0015_14690.jpg: 640x640 1 Bird, 24.4ms\n",
            "Speed: 4.3ms preprocess, 24.4ms inference, 1.3ms postprocess per image at shape (1, 3, 640, 640)\n"
          ]
        },
        {
          "output_type": "stream",
          "name": "stderr",
          "text": [
            "\rProcessing train_images images:  46%|████▌     | 497/1082 [00:33<00:40, 14.56it/s]"
          ]
        },
        {
          "output_type": "stream",
          "name": "stdout",
          "text": [
            "\n",
            "image 1/1 /content/drive/MyDrive/bdma-07-competition/BDMA7_project_files/train_images/Lazuli_Bunting/Lazuli_Bunting_0095_14919.jpg: 640x640 1 Bird, 24.0ms\n",
            "Speed: 3.9ms preprocess, 24.0ms inference, 1.2ms postprocess per image at shape (1, 3, 640, 640)\n",
            "\n",
            "image 1/1 /content/drive/MyDrive/bdma-07-competition/BDMA7_project_files/train_images/Lazuli_Bunting/Lazuli_Bunting_0097_14617.jpg: 640x640 1 Bird, 24.1ms\n",
            "Speed: 3.0ms preprocess, 24.1ms inference, 1.2ms postprocess per image at shape (1, 3, 640, 640)\n"
          ]
        },
        {
          "output_type": "stream",
          "name": "stderr",
          "text": [
            "\rProcessing train_images images:  46%|████▌     | 499/1082 [00:33<00:38, 15.12it/s]"
          ]
        },
        {
          "output_type": "stream",
          "name": "stdout",
          "text": [
            "\n",
            "image 1/1 /content/drive/MyDrive/bdma-07-competition/BDMA7_project_files/train_images/Lazuli_Bunting/Lazuli_Bunting_0092_14656.jpg: 640x640 1 Bird, 23.8ms\n",
            "Speed: 3.2ms preprocess, 23.8ms inference, 1.2ms postprocess per image at shape (1, 3, 640, 640)\n",
            "\n",
            "image 1/1 /content/drive/MyDrive/bdma-07-competition/BDMA7_project_files/train_images/Lazuli_Bunting/Lazuli_Bunting_0054_14714.jpg: 640x640 1 Bird, 24.0ms\n",
            "Speed: 3.3ms preprocess, 24.0ms inference, 1.2ms postprocess per image at shape (1, 3, 640, 640)\n"
          ]
        },
        {
          "output_type": "stream",
          "name": "stderr",
          "text": [
            "\rProcessing train_images images:  46%|████▋     | 501/1082 [00:33<00:38, 14.95it/s]"
          ]
        },
        {
          "output_type": "stream",
          "name": "stdout",
          "text": [
            "\n",
            "image 1/1 /content/drive/MyDrive/bdma-07-competition/BDMA7_project_files/train_images/Lazuli_Bunting/Lazuli_Bunting_0086_14992.jpg: 640x640 1 Bird, 24.0ms\n",
            "Speed: 3.1ms preprocess, 24.0ms inference, 1.2ms postprocess per image at shape (1, 3, 640, 640)\n",
            "\n",
            "image 1/1 /content/drive/MyDrive/bdma-07-competition/BDMA7_project_files/train_images/Lazuli_Bunting/Lazuli_Bunting_0059_14749.jpg: 640x640 1 Bird, 26.6ms\n",
            "Speed: 4.3ms preprocess, 26.6ms inference, 1.3ms postprocess per image at shape (1, 3, 640, 640)\n"
          ]
        },
        {
          "output_type": "stream",
          "name": "stderr",
          "text": [
            "\rProcessing train_images images:  46%|████▋     | 503/1082 [00:33<00:39, 14.65it/s]"
          ]
        },
        {
          "output_type": "stream",
          "name": "stdout",
          "text": [
            "\n",
            "image 1/1 /content/drive/MyDrive/bdma-07-competition/BDMA7_project_files/train_images/Lazuli_Bunting/Lazuli_Bunting_0105_15017.jpg: 640x640 1 Bird, 25.4ms\n",
            "Speed: 3.9ms preprocess, 25.4ms inference, 1.2ms postprocess per image at shape (1, 3, 640, 640)\n",
            "\n",
            "image 1/1 /content/drive/MyDrive/bdma-07-competition/BDMA7_project_files/train_images/Lazuli_Bunting/Lazuli_Bunting_0025_15079.jpg: 640x640 1 Bird, 25.4ms\n",
            "Speed: 2.5ms preprocess, 25.4ms inference, 3.9ms postprocess per image at shape (1, 3, 640, 640)\n"
          ]
        },
        {
          "output_type": "stream",
          "name": "stderr",
          "text": [
            "\rProcessing train_images images:  47%|████▋     | 505/1082 [00:33<00:39, 14.75it/s]"
          ]
        },
        {
          "output_type": "stream",
          "name": "stdout",
          "text": [
            "\n",
            "image 1/1 /content/drive/MyDrive/bdma-07-competition/BDMA7_project_files/train_images/Lazuli_Bunting/Lazuli_Bunting_0045_14954.jpg: 640x640 1 Bird, 25.1ms\n",
            "Speed: 3.0ms preprocess, 25.1ms inference, 1.3ms postprocess per image at shape (1, 3, 640, 640)\n",
            "\n",
            "image 1/1 /content/drive/MyDrive/bdma-07-competition/BDMA7_project_files/train_images/Lazuli_Bunting/Lazuli_Bunting_0093_15030.jpg: 640x640 2 Birds, 24.8ms\n",
            "Speed: 3.0ms preprocess, 24.8ms inference, 1.2ms postprocess per image at shape (1, 3, 640, 640)\n"
          ]
        },
        {
          "output_type": "stream",
          "name": "stderr",
          "text": [
            "\rProcessing train_images images:  47%|████▋     | 507/1082 [00:33<00:37, 15.43it/s]"
          ]
        },
        {
          "output_type": "stream",
          "name": "stdout",
          "text": [
            "\n",
            "image 1/1 /content/drive/MyDrive/bdma-07-competition/BDMA7_project_files/train_images/Lazuli_Bunting/Lazuli_Bunting_0026_14669.jpg: 640x640 1 Bird, 24.5ms\n",
            "Speed: 3.9ms preprocess, 24.5ms inference, 1.2ms postprocess per image at shape (1, 3, 640, 640)\n",
            "\n",
            "image 1/1 /content/drive/MyDrive/bdma-07-competition/BDMA7_project_files/train_images/Lazuli_Bunting/Lazuli_Bunting_0087_15096.jpg: 640x640 1 Bird, 25.0ms\n",
            "Speed: 3.1ms preprocess, 25.0ms inference, 1.5ms postprocess per image at shape (1, 3, 640, 640)\n"
          ]
        },
        {
          "output_type": "stream",
          "name": "stderr",
          "text": [
            "\rProcessing train_images images:  47%|████▋     | 509/1082 [00:34<00:37, 15.44it/s]"
          ]
        },
        {
          "output_type": "stream",
          "name": "stdout",
          "text": [
            "\n",
            "image 1/1 /content/drive/MyDrive/bdma-07-competition/BDMA7_project_files/train_images/Lazuli_Bunting/Lazuli_Bunting_0052_14618.jpg: 640x640 1 Bird, 27.0ms\n",
            "Speed: 4.5ms preprocess, 27.0ms inference, 1.5ms postprocess per image at shape (1, 3, 640, 640)\n",
            "\n",
            "image 1/1 /content/drive/MyDrive/bdma-07-competition/BDMA7_project_files/train_images/Lazuli_Bunting/Lazuli_Bunting_0030_14986.jpg: 640x640 1 Bird, 24.9ms\n",
            "Speed: 3.4ms preprocess, 24.9ms inference, 1.6ms postprocess per image at shape (1, 3, 640, 640)\n"
          ]
        },
        {
          "output_type": "stream",
          "name": "stderr",
          "text": [
            "\rProcessing train_images images:  47%|████▋     | 511/1082 [00:34<00:37, 15.15it/s]"
          ]
        },
        {
          "output_type": "stream",
          "name": "stdout",
          "text": [
            "\n",
            "image 1/1 /content/drive/MyDrive/bdma-07-competition/BDMA7_project_files/train_images/Lazuli_Bunting/Lazuli_Bunting_0021_14686.jpg: 640x640 1 Bird, 25.2ms\n",
            "Speed: 3.3ms preprocess, 25.2ms inference, 1.6ms postprocess per image at shape (1, 3, 640, 640)\n",
            "\n",
            "image 1/1 /content/drive/MyDrive/bdma-07-competition/BDMA7_project_files/train_images/Lazuli_Bunting/Lazuli_Bunting_0048_14844.jpg: 640x640 1 Bird, 25.0ms\n",
            "Speed: 4.0ms preprocess, 25.0ms inference, 1.3ms postprocess per image at shape (1, 3, 640, 640)\n"
          ]
        },
        {
          "output_type": "stream",
          "name": "stderr",
          "text": [
            "\rProcessing train_images images:  47%|████▋     | 513/1082 [00:34<00:38, 14.69it/s]"
          ]
        },
        {
          "output_type": "stream",
          "name": "stdout",
          "text": [
            "\n",
            "image 1/1 /content/drive/MyDrive/bdma-07-competition/BDMA7_project_files/train_images/Lazuli_Bunting/Lazuli_Bunting_0107_14705.jpg: 640x640 1 Bird, 24.9ms\n",
            "Speed: 3.2ms preprocess, 24.9ms inference, 1.2ms postprocess per image at shape (1, 3, 640, 640)\n",
            "\n",
            "image 1/1 /content/drive/MyDrive/bdma-07-competition/BDMA7_project_files/train_images/Lazuli_Bunting/Lazuli_Bunting_0041_15152.jpg: 640x640 1 Bird, 25.0ms\n",
            "Speed: 3.2ms preprocess, 25.0ms inference, 1.4ms postprocess per image at shape (1, 3, 640, 640)\n"
          ]
        },
        {
          "output_type": "stream",
          "name": "stderr",
          "text": [
            "\rProcessing train_images images:  48%|████▊     | 515/1082 [00:34<00:37, 15.07it/s]"
          ]
        },
        {
          "output_type": "stream",
          "name": "stdout",
          "text": [
            "\n",
            "image 1/1 /content/drive/MyDrive/bdma-07-competition/BDMA7_project_files/train_images/Lazuli_Bunting/Lazuli_Bunting_0076_14662.jpg: 640x640 1 Bird, 24.9ms\n",
            "Speed: 3.8ms preprocess, 24.9ms inference, 1.2ms postprocess per image at shape (1, 3, 640, 640)\n",
            "\n",
            "image 1/1 /content/drive/MyDrive/bdma-07-competition/BDMA7_project_files/train_images/Lazuli_Bunting/Lazuli_Bunting_0039_15081.jpg: 640x640 1 Bird, 24.9ms\n",
            "Speed: 3.1ms preprocess, 24.9ms inference, 1.2ms postprocess per image at shape (1, 3, 640, 640)\n"
          ]
        },
        {
          "output_type": "stream",
          "name": "stderr",
          "text": [
            "\rProcessing train_images images:  48%|████▊     | 517/1082 [00:34<00:36, 15.31it/s]"
          ]
        },
        {
          "output_type": "stream",
          "name": "stdout",
          "text": [
            "\n",
            "image 1/1 /content/drive/MyDrive/bdma-07-competition/BDMA7_project_files/train_images/Lazuli_Bunting/Lazuli_Bunting_0085_14627.jpg: 640x640 1 Bird, 25.0ms\n",
            "Speed: 3.0ms preprocess, 25.0ms inference, 1.3ms postprocess per image at shape (1, 3, 640, 640)\n",
            "\n",
            "image 1/1 /content/drive/MyDrive/bdma-07-competition/BDMA7_project_files/train_images/Lazuli_Bunting/Lazuli_Bunting_0040_14923.jpg: 640x640 2 Birds, 24.9ms\n",
            "Speed: 3.2ms preprocess, 24.9ms inference, 1.2ms postprocess per image at shape (1, 3, 640, 640)\n"
          ]
        },
        {
          "output_type": "stream",
          "name": "stderr",
          "text": [
            "\rProcessing train_images images:  48%|████▊     | 519/1082 [00:34<00:36, 15.52it/s]"
          ]
        },
        {
          "output_type": "stream",
          "name": "stdout",
          "text": [
            "\n",
            "image 1/1 /content/drive/MyDrive/bdma-07-competition/BDMA7_project_files/train_images/Lazuli_Bunting/Lazuli_Bunting_0001_14916.jpg: 640x640 1 Bird, 23.6ms\n",
            "Speed: 2.4ms preprocess, 23.6ms inference, 1.2ms postprocess per image at shape (1, 3, 640, 640)\n",
            "\n",
            "image 1/1 /content/drive/MyDrive/bdma-07-competition/BDMA7_project_files/train_images/Lazuli_Bunting/Lazuli_Bunting_0056_15032.jpg: 640x640 1 Bird, 23.6ms\n",
            "Speed: 2.6ms preprocess, 23.6ms inference, 1.7ms postprocess per image at shape (1, 3, 640, 640)\n"
          ]
        },
        {
          "output_type": "stream",
          "name": "stderr",
          "text": [
            "\rProcessing train_images images:  48%|████▊     | 521/1082 [00:34<00:36, 15.41it/s]"
          ]
        },
        {
          "output_type": "stream",
          "name": "stdout",
          "text": [
            "\n",
            "image 1/1 /content/drive/MyDrive/bdma-07-competition/BDMA7_project_files/train_images/Lazuli_Bunting/Lazuli_Bunting_0010_14915.jpg: 640x640 1 Bird, 23.6ms\n",
            "Speed: 3.8ms preprocess, 23.6ms inference, 1.3ms postprocess per image at shape (1, 3, 640, 640)\n",
            "\n",
            "image 1/1 /content/drive/MyDrive/bdma-07-competition/BDMA7_project_files/train_images/Lazuli_Bunting/Lazuli_Bunting_0067_14672.jpg: 640x640 1 Bird, 23.6ms\n",
            "Speed: 4.8ms preprocess, 23.6ms inference, 1.2ms postprocess per image at shape (1, 3, 640, 640)\n"
          ]
        },
        {
          "output_type": "stream",
          "name": "stderr",
          "text": [
            "\rProcessing train_images images:  48%|████▊     | 523/1082 [00:34<00:36, 15.36it/s]"
          ]
        },
        {
          "output_type": "stream",
          "name": "stdout",
          "text": [
            "\n",
            "image 1/1 /content/drive/MyDrive/bdma-07-competition/BDMA7_project_files/train_images/Lazuli_Bunting/Lazuli_Bunting_0009_15163.jpg: 640x640 1 Bird, 23.6ms\n",
            "Speed: 3.3ms preprocess, 23.6ms inference, 1.7ms postprocess per image at shape (1, 3, 640, 640)\n",
            "\n",
            "image 1/1 /content/drive/MyDrive/bdma-07-competition/BDMA7_project_files/train_images/Lazuli_Bunting/Lazuli_Bunting_0081_14709.jpg: 640x640 1 Bird, 27.7ms\n",
            "Speed: 6.6ms preprocess, 27.7ms inference, 1.7ms postprocess per image at shape (1, 3, 640, 640)\n"
          ]
        },
        {
          "output_type": "stream",
          "name": "stderr",
          "text": [
            "\rProcessing train_images images:  49%|████▊     | 525/1082 [00:35<00:37, 15.02it/s]"
          ]
        },
        {
          "output_type": "stream",
          "name": "stdout",
          "text": [
            "\n",
            "image 1/1 /content/drive/MyDrive/bdma-07-competition/BDMA7_project_files/train_images/Lazuli_Bunting/Lazuli_Bunting_0037_15021.jpg: 640x640 1 Bird, 33.6ms\n",
            "Speed: 4.2ms preprocess, 33.6ms inference, 1.6ms postprocess per image at shape (1, 3, 640, 640)\n",
            "\n",
            "image 1/1 /content/drive/MyDrive/bdma-07-competition/BDMA7_project_files/train_images/Lazuli_Bunting/Lazuli_Bunting_0074_14854.jpg: 640x640 1 Bird, 23.7ms\n",
            "Speed: 2.9ms preprocess, 23.7ms inference, 1.3ms postprocess per image at shape (1, 3, 640, 640)\n"
          ]
        },
        {
          "output_type": "stream",
          "name": "stderr",
          "text": [
            "\rProcessing train_images images:  49%|████▊     | 527/1082 [00:35<00:40, 13.61it/s]"
          ]
        },
        {
          "output_type": "stream",
          "name": "stdout",
          "text": [
            "\n",
            "image 1/1 /content/drive/MyDrive/bdma-07-competition/BDMA7_project_files/train_images/Lazuli_Bunting/Lazuli_Bunting_0057_14775.jpg: 640x640 1 Bird, 23.6ms\n",
            "Speed: 4.2ms preprocess, 23.6ms inference, 1.7ms postprocess per image at shape (1, 3, 640, 640)\n",
            "\n",
            "image 1/1 /content/drive/MyDrive/bdma-07-competition/BDMA7_project_files/train_images/Lazuli_Bunting/Lazuli_Bunting_0078_15164.jpg: 640x640 1 Bird, 23.6ms\n",
            "Speed: 2.9ms preprocess, 23.6ms inference, 1.2ms postprocess per image at shape (1, 3, 640, 640)\n"
          ]
        },
        {
          "output_type": "stream",
          "name": "stderr",
          "text": [
            "\rProcessing train_images images:  49%|████▉     | 529/1082 [00:35<00:38, 14.26it/s]"
          ]
        },
        {
          "output_type": "stream",
          "name": "stdout",
          "text": [
            "\n",
            "image 1/1 /content/drive/MyDrive/bdma-07-competition/BDMA7_project_files/train_images/Lazuli_Bunting/Lazuli_Bunting_0042_14820.jpg: 640x640 1 Bird, 38.4ms\n",
            "Speed: 2.8ms preprocess, 38.4ms inference, 1.3ms postprocess per image at shape (1, 3, 640, 640)\n",
            "\n",
            "image 1/1 /content/drive/MyDrive/bdma-07-competition/BDMA7_project_files/train_images/Lazuli_Bunting/Lazuli_Bunting_0020_14837.jpg: 640x640 1 Bird, 23.6ms\n",
            "Speed: 2.8ms preprocess, 23.6ms inference, 1.1ms postprocess per image at shape (1, 3, 640, 640)\n"
          ]
        },
        {
          "output_type": "stream",
          "name": "stderr",
          "text": [
            "\rProcessing train_images images:  49%|████▉     | 531/1082 [00:35<00:38, 14.33it/s]"
          ]
        },
        {
          "output_type": "stream",
          "name": "stdout",
          "text": [
            "\n",
            "image 1/1 /content/drive/MyDrive/bdma-07-competition/BDMA7_project_files/train_images/Lazuli_Bunting/Lazuli_Bunting_0027_14895.jpg: 640x640 1 Bird, 23.6ms\n",
            "Speed: 2.9ms preprocess, 23.6ms inference, 1.1ms postprocess per image at shape (1, 3, 640, 640)\n",
            "\n",
            "image 1/1 /content/drive/MyDrive/bdma-07-competition/BDMA7_project_files/train_images/Lazuli_Bunting/Lazuli_Bunting_0080_14893.jpg: 640x640 1 Bird, 23.6ms\n",
            "Speed: 2.9ms preprocess, 23.6ms inference, 1.1ms postprocess per image at shape (1, 3, 640, 640)\n"
          ]
        },
        {
          "output_type": "stream",
          "name": "stderr",
          "text": [
            "\rProcessing train_images images:  49%|████▉     | 533/1082 [00:35<00:36, 14.99it/s]"
          ]
        },
        {
          "output_type": "stream",
          "name": "stdout",
          "text": [
            "\n",
            "image 1/1 /content/drive/MyDrive/bdma-07-competition/BDMA7_project_files/train_images/Lazuli_Bunting/Lazuli_Bunting_0047_14863.jpg: 640x640 1 Bird, 23.6ms\n",
            "Speed: 3.9ms preprocess, 23.6ms inference, 1.1ms postprocess per image at shape (1, 3, 640, 640)\n",
            "\n",
            "image 1/1 /content/drive/MyDrive/bdma-07-competition/BDMA7_project_files/train_images/Lazuli_Bunting/Lazuli_Bunting_0102_14605.jpg: 640x640 1 Bird, 24.1ms\n",
            "Speed: 4.1ms preprocess, 24.1ms inference, 1.2ms postprocess per image at shape (1, 3, 640, 640)\n"
          ]
        },
        {
          "output_type": "stream",
          "name": "stderr",
          "text": [
            "\rProcessing train_images images:  49%|████▉     | 535/1082 [00:35<00:35, 15.52it/s]"
          ]
        },
        {
          "output_type": "stream",
          "name": "stdout",
          "text": [
            "\n",
            "image 1/1 /content/drive/MyDrive/bdma-07-competition/BDMA7_project_files/train_images/Lazuli_Bunting/Lazuli_Bunting_0061_15155.jpg: 640x640 1 Bird, 23.6ms\n",
            "Speed: 4.4ms preprocess, 23.6ms inference, 1.2ms postprocess per image at shape (1, 3, 640, 640)\n",
            "\n",
            "image 1/1 /content/drive/MyDrive/bdma-07-competition/BDMA7_project_files/train_images/Lazuli_Bunting/Lazuli_Bunting_0031_15018.jpg: 640x640 1 Bird, 23.6ms\n",
            "Speed: 3.9ms preprocess, 23.6ms inference, 1.2ms postprocess per image at shape (1, 3, 640, 640)\n"
          ]
        },
        {
          "output_type": "stream",
          "name": "stderr",
          "text": [
            "\rProcessing train_images images:  50%|████▉     | 537/1082 [00:35<00:36, 14.94it/s]"
          ]
        },
        {
          "output_type": "stream",
          "name": "stdout",
          "text": [
            "\n",
            "image 1/1 /content/drive/MyDrive/bdma-07-competition/BDMA7_project_files/train_images/Lazuli_Bunting/Lazuli_Bunting_0008_15195.jpg: 640x640 1 Bird, 24.5ms\n",
            "Speed: 5.9ms preprocess, 24.5ms inference, 1.2ms postprocess per image at shape (1, 3, 640, 640)\n",
            "\n",
            "image 1/1 /content/drive/MyDrive/bdma-07-competition/BDMA7_project_files/train_images/Lazuli_Bunting/Lazuli_Bunting_0028_14950.jpg: 640x640 1 Bird, 59.3ms\n",
            "Speed: 4.2ms preprocess, 59.3ms inference, 4.4ms postprocess per image at shape (1, 3, 640, 640)\n"
          ]
        },
        {
          "output_type": "stream",
          "name": "stderr",
          "text": [
            "\rProcessing train_images images:  50%|████▉     | 539/1082 [00:36<00:41, 12.98it/s]"
          ]
        },
        {
          "output_type": "stream",
          "name": "stdout",
          "text": [
            "\n",
            "image 1/1 /content/drive/MyDrive/bdma-07-competition/BDMA7_project_files/train_images/Lazuli_Bunting/Lazuli_Bunting_0089_14598.jpg: 640x640 1 Bird, 40.4ms\n",
            "Speed: 4.0ms preprocess, 40.4ms inference, 1.8ms postprocess per image at shape (1, 3, 640, 640)\n",
            "\n",
            "image 1/1 /content/drive/MyDrive/bdma-07-competition/BDMA7_project_files/train_images/Lazuli_Bunting/Lazuli_Bunting_0073_14594.jpg: 640x640 1 Bird, 42.3ms\n",
            "Speed: 3.4ms preprocess, 42.3ms inference, 3.1ms postprocess per image at shape (1, 3, 640, 640)\n"
          ]
        },
        {
          "output_type": "stream",
          "name": "stderr",
          "text": [
            "\rProcessing train_images images:  50%|█████     | 541/1082 [00:36<00:43, 12.44it/s]"
          ]
        },
        {
          "output_type": "stream",
          "name": "stdout",
          "text": [
            "\n",
            "image 1/1 /content/drive/MyDrive/bdma-07-competition/BDMA7_project_files/train_images/Lazuli_Bunting/Lazuli_Bunting_0094_11894.jpg: 640x640 1 Bird, 23.5ms\n",
            "Speed: 3.5ms preprocess, 23.5ms inference, 1.3ms postprocess per image at shape (1, 3, 640, 640)\n",
            "\n",
            "image 1/1 /content/drive/MyDrive/bdma-07-competition/BDMA7_project_files/train_images/Lazuli_Bunting/Lazuli_Bunting_0004_14887.jpg: 640x640 1 Bird, 23.6ms\n",
            "Speed: 3.1ms preprocess, 23.6ms inference, 1.2ms postprocess per image at shape (1, 3, 640, 640)\n"
          ]
        },
        {
          "output_type": "stream",
          "name": "stderr",
          "text": [
            "\rProcessing train_images images:  50%|█████     | 543/1082 [00:36<00:40, 13.42it/s]"
          ]
        },
        {
          "output_type": "stream",
          "name": "stdout",
          "text": [
            "\n",
            "image 1/1 /content/drive/MyDrive/bdma-07-competition/BDMA7_project_files/train_images/Lazuli_Bunting/Lazuli_Bunting_0082_15047.jpg: 640x640 1 Bird, 23.5ms\n",
            "Speed: 3.4ms preprocess, 23.5ms inference, 1.2ms postprocess per image at shape (1, 3, 640, 640)\n",
            "\n",
            "image 1/1 /content/drive/MyDrive/bdma-07-competition/BDMA7_project_files/train_images/Lazuli_Bunting/Lazuli_Bunting_0034_14864.jpg: 640x640 1 Bird, 23.4ms\n",
            "Speed: 3.4ms preprocess, 23.4ms inference, 1.2ms postprocess per image at shape (1, 3, 640, 640)\n"
          ]
        },
        {
          "output_type": "stream",
          "name": "stderr",
          "text": [
            "\rProcessing train_images images:  50%|█████     | 545/1082 [00:36<00:37, 14.20it/s]"
          ]
        },
        {
          "output_type": "stream",
          "name": "stdout",
          "text": [
            "\n",
            "image 1/1 /content/drive/MyDrive/bdma-07-competition/BDMA7_project_files/train_images/Indigo_Bunting/Indigo_Bunting_0077_14060.jpg: 640x640 1 Bird, 31.6ms\n",
            "Speed: 3.7ms preprocess, 31.6ms inference, 1.8ms postprocess per image at shape (1, 3, 640, 640)\n",
            "\n",
            "image 1/1 /content/drive/MyDrive/bdma-07-competition/BDMA7_project_files/train_images/Indigo_Bunting/Indigo_Bunting_0053_13391.jpg: 640x640 1 Bird, 34.9ms\n",
            "Speed: 4.0ms preprocess, 34.9ms inference, 1.9ms postprocess per image at shape (1, 3, 640, 640)\n"
          ]
        },
        {
          "output_type": "stream",
          "name": "stderr",
          "text": [
            "\rProcessing train_images images:  51%|█████     | 547/1082 [00:36<00:38, 13.89it/s]"
          ]
        },
        {
          "output_type": "stream",
          "name": "stdout",
          "text": [
            "\n",
            "image 1/1 /content/drive/MyDrive/bdma-07-competition/BDMA7_project_files/train_images/Indigo_Bunting/Indigo_Bunting_0074_12829.jpg: 640x640 1 Bird, 29.7ms\n",
            "Speed: 3.5ms preprocess, 29.7ms inference, 2.0ms postprocess per image at shape (1, 3, 640, 640)\n",
            "\n",
            "image 1/1 /content/drive/MyDrive/bdma-07-competition/BDMA7_project_files/train_images/Indigo_Bunting/Indigo_Bunting_0017_11574.jpg: 640x640 1 Bird, 27.4ms\n",
            "Speed: 4.1ms preprocess, 27.4ms inference, 1.5ms postprocess per image at shape (1, 3, 640, 640)\n"
          ]
        },
        {
          "output_type": "stream",
          "name": "stderr",
          "text": [
            "\rProcessing train_images images:  51%|█████     | 549/1082 [00:36<00:39, 13.52it/s]"
          ]
        },
        {
          "output_type": "stream",
          "name": "stdout",
          "text": [
            "\n",
            "image 1/1 /content/drive/MyDrive/bdma-07-competition/BDMA7_project_files/train_images/Indigo_Bunting/Indigo_Bunting_0075_12835.jpg: 640x640 1 Bird, 38.2ms\n",
            "Speed: 3.8ms preprocess, 38.2ms inference, 1.7ms postprocess per image at shape (1, 3, 640, 640)\n",
            "\n",
            "image 1/1 /content/drive/MyDrive/bdma-07-competition/BDMA7_project_files/train_images/Indigo_Bunting/Indigo_Bunting_0044_14389.jpg: 640x640 1 Bird, 50.8ms\n",
            "Speed: 3.8ms preprocess, 50.8ms inference, 2.0ms postprocess per image at shape (1, 3, 640, 640)\n"
          ]
        },
        {
          "output_type": "stream",
          "name": "stderr",
          "text": [
            "\rProcessing train_images images:  51%|█████     | 551/1082 [00:37<00:42, 12.62it/s]"
          ]
        },
        {
          "output_type": "stream",
          "name": "stdout",
          "text": [
            "\n",
            "image 1/1 /content/drive/MyDrive/bdma-07-competition/BDMA7_project_files/train_images/Indigo_Bunting/Indigo_Bunting_0034_12464.jpg: 640x640 1 Bird, 36.0ms\n",
            "Speed: 5.7ms preprocess, 36.0ms inference, 2.0ms postprocess per image at shape (1, 3, 640, 640)\n",
            "\n",
            "image 1/1 /content/drive/MyDrive/bdma-07-competition/BDMA7_project_files/train_images/Indigo_Bunting/Indigo_Bunting_0072_14197.jpg: 640x640 1 Bird, 32.2ms\n",
            "Speed: 3.9ms preprocess, 32.2ms inference, 1.7ms postprocess per image at shape (1, 3, 640, 640)\n"
          ]
        },
        {
          "output_type": "stream",
          "name": "stderr",
          "text": [
            "\rProcessing train_images images:  51%|█████     | 553/1082 [00:37<00:45, 11.54it/s]"
          ]
        },
        {
          "output_type": "stream",
          "name": "stdout",
          "text": [
            "\n",
            "image 1/1 /content/drive/MyDrive/bdma-07-competition/BDMA7_project_files/train_images/Indigo_Bunting/Indigo_Bunting_0073_13933.jpg: 640x640 1 Bird, 46.0ms\n",
            "Speed: 3.9ms preprocess, 46.0ms inference, 1.8ms postprocess per image at shape (1, 3, 640, 640)\n",
            "\n",
            "image 1/1 /content/drive/MyDrive/bdma-07-competition/BDMA7_project_files/train_images/Indigo_Bunting/Indigo_Bunting_0054_12213.jpg: 640x640 1 Bird, 23.0ms\n",
            "Speed: 4.1ms preprocess, 23.0ms inference, 1.6ms postprocess per image at shape (1, 3, 640, 640)\n"
          ]
        },
        {
          "output_type": "stream",
          "name": "stderr",
          "text": [
            "\rProcessing train_images images:  51%|█████▏    | 555/1082 [00:37<00:44, 11.89it/s]"
          ]
        },
        {
          "output_type": "stream",
          "name": "stdout",
          "text": [
            "\n",
            "image 1/1 /content/drive/MyDrive/bdma-07-competition/BDMA7_project_files/train_images/Indigo_Bunting/Indigo_Bunting_0061_13259.jpg: 640x640 1 Bird, 24.0ms\n",
            "Speed: 4.0ms preprocess, 24.0ms inference, 1.5ms postprocess per image at shape (1, 3, 640, 640)\n",
            "\n",
            "image 1/1 /content/drive/MyDrive/bdma-07-competition/BDMA7_project_files/train_images/Indigo_Bunting/Indigo_Bunting_0056_12637.jpg: 640x640 1 Bird, 23.4ms\n",
            "Speed: 3.8ms preprocess, 23.4ms inference, 1.5ms postprocess per image at shape (1, 3, 640, 640)\n"
          ]
        },
        {
          "output_type": "stream",
          "name": "stderr",
          "text": [
            "\rProcessing train_images images:  51%|█████▏    | 557/1082 [00:37<00:41, 12.73it/s]"
          ]
        },
        {
          "output_type": "stream",
          "name": "stdout",
          "text": [
            "\n",
            "image 1/1 /content/drive/MyDrive/bdma-07-competition/BDMA7_project_files/train_images/Indigo_Bunting/Indigo_Bunting_0052_11893.jpg: 640x640 1 Bird, 23.3ms\n",
            "Speed: 3.8ms preprocess, 23.3ms inference, 1.5ms postprocess per image at shape (1, 3, 640, 640)\n",
            "\n",
            "image 1/1 /content/drive/MyDrive/bdma-07-competition/BDMA7_project_files/train_images/Indigo_Bunting/Indigo_Bunting_0016_13661.jpg: 640x640 1 Bird, 23.0ms\n",
            "Speed: 4.0ms preprocess, 23.0ms inference, 1.5ms postprocess per image at shape (1, 3, 640, 640)\n"
          ]
        },
        {
          "output_type": "stream",
          "name": "stderr",
          "text": [
            "\rProcessing train_images images:  52%|█████▏    | 559/1082 [00:37<00:39, 13.12it/s]"
          ]
        },
        {
          "output_type": "stream",
          "name": "stdout",
          "text": [
            "\n",
            "image 1/1 /content/drive/MyDrive/bdma-07-competition/BDMA7_project_files/train_images/Indigo_Bunting/Indigo_Bunting_0021_13979.jpg: 640x640 1 Bird, 27.2ms\n",
            "Speed: 4.3ms preprocess, 27.2ms inference, 1.4ms postprocess per image at shape (1, 3, 640, 640)\n",
            "\n",
            "image 1/1 /content/drive/MyDrive/bdma-07-competition/BDMA7_project_files/train_images/Indigo_Bunting/Indigo_Bunting_0022_12781.jpg: 640x640 1 Bird, 26.9ms\n",
            "Speed: 4.1ms preprocess, 26.9ms inference, 1.5ms postprocess per image at shape (1, 3, 640, 640)\n"
          ]
        },
        {
          "output_type": "stream",
          "name": "stderr",
          "text": [
            "\rProcessing train_images images:  52%|█████▏    | 561/1082 [00:37<00:41, 12.71it/s]"
          ]
        },
        {
          "output_type": "stream",
          "name": "stdout",
          "text": [
            "\n",
            "image 1/1 /content/drive/MyDrive/bdma-07-competition/BDMA7_project_files/train_images/Indigo_Bunting/Indigo_Bunting_0050_11811.jpg: 640x640 1 Bird, 26.9ms\n",
            "Speed: 4.0ms preprocess, 26.9ms inference, 1.5ms postprocess per image at shape (1, 3, 640, 640)\n",
            "\n",
            "image 1/1 /content/drive/MyDrive/bdma-07-competition/BDMA7_project_files/train_images/Indigo_Bunting/Indigo_Bunting_0084_11848.jpg: 640x640 1 Bird, 41.0ms\n",
            "Speed: 3.9ms preprocess, 41.0ms inference, 1.7ms postprocess per image at shape (1, 3, 640, 640)\n"
          ]
        },
        {
          "output_type": "stream",
          "name": "stderr",
          "text": [
            "\rProcessing train_images images:  52%|█████▏    | 563/1082 [00:38<00:42, 12.31it/s]"
          ]
        },
        {
          "output_type": "stream",
          "name": "stdout",
          "text": [
            "\n",
            "image 1/1 /content/drive/MyDrive/bdma-07-competition/BDMA7_project_files/train_images/Indigo_Bunting/Indigo_Bunting_0013_12949.jpg: 640x640 1 Bird, 27.5ms\n",
            "Speed: 7.6ms preprocess, 27.5ms inference, 1.6ms postprocess per image at shape (1, 3, 640, 640)\n",
            "\n",
            "image 1/1 /content/drive/MyDrive/bdma-07-competition/BDMA7_project_files/train_images/Indigo_Bunting/Indigo_Bunting_0018_11883.jpg: 640x640 1 Bird, 34.7ms\n",
            "Speed: 3.9ms preprocess, 34.7ms inference, 1.8ms postprocess per image at shape (1, 3, 640, 640)\n"
          ]
        },
        {
          "output_type": "stream",
          "name": "stderr",
          "text": [
            "\rProcessing train_images images:  52%|█████▏    | 565/1082 [00:38<00:42, 12.07it/s]"
          ]
        },
        {
          "output_type": "stream",
          "name": "stdout",
          "text": [
            "\n",
            "image 1/1 /content/drive/MyDrive/bdma-07-competition/BDMA7_project_files/train_images/Indigo_Bunting/Indigo_Bunting_0010_13000.jpg: 640x640 1 Bird, 35.1ms\n",
            "Speed: 3.8ms preprocess, 35.1ms inference, 2.3ms postprocess per image at shape (1, 3, 640, 640)\n",
            "\n",
            "image 1/1 /content/drive/MyDrive/bdma-07-competition/BDMA7_project_files/train_images/Indigo_Bunting/Indigo_Bunting_0006_14317.jpg: 640x640 1 Bird, 31.9ms\n",
            "Speed: 6.4ms preprocess, 31.9ms inference, 1.8ms postprocess per image at shape (1, 3, 640, 640)\n"
          ]
        },
        {
          "output_type": "stream",
          "name": "stderr",
          "text": [
            "\rProcessing train_images images:  52%|█████▏    | 567/1082 [00:38<00:43, 11.88it/s]"
          ]
        },
        {
          "output_type": "stream",
          "name": "stdout",
          "text": [
            "\n",
            "image 1/1 /content/drive/MyDrive/bdma-07-competition/BDMA7_project_files/train_images/Indigo_Bunting/Indigo_Bunting_0068_13081.jpg: 640x640 1 Bird, 28.3ms\n",
            "Speed: 6.8ms preprocess, 28.3ms inference, 1.6ms postprocess per image at shape (1, 3, 640, 640)\n",
            "\n",
            "image 1/1 /content/drive/MyDrive/bdma-07-competition/BDMA7_project_files/train_images/Indigo_Bunting/Indigo_Bunting_0002_12163.jpg: 640x640 1 Bird, 27.7ms\n",
            "Speed: 4.0ms preprocess, 27.7ms inference, 1.5ms postprocess per image at shape (1, 3, 640, 640)\n"
          ]
        },
        {
          "output_type": "stream",
          "name": "stderr",
          "text": [
            "\rProcessing train_images images:  53%|█████▎    | 569/1082 [00:38<00:41, 12.37it/s]"
          ]
        },
        {
          "output_type": "stream",
          "name": "stdout",
          "text": [
            "\n",
            "image 1/1 /content/drive/MyDrive/bdma-07-competition/BDMA7_project_files/train_images/Indigo_Bunting/Indigo_Bunting_0028_12335.jpg: 640x640 1 Bird, 27.7ms\n",
            "Speed: 4.6ms preprocess, 27.7ms inference, 1.6ms postprocess per image at shape (1, 3, 640, 640)\n",
            "\n",
            "image 1/1 /content/drive/MyDrive/bdma-07-competition/BDMA7_project_files/train_images/Indigo_Bunting/Indigo_Bunting_0025_12532.jpg: 640x640 1 Bird, 28.9ms\n",
            "Speed: 3.7ms preprocess, 28.9ms inference, 1.6ms postprocess per image at shape (1, 3, 640, 640)\n"
          ]
        },
        {
          "output_type": "stream",
          "name": "stderr",
          "text": [
            "\rProcessing train_images images:  53%|█████▎    | 571/1082 [00:38<00:41, 12.23it/s]"
          ]
        },
        {
          "output_type": "stream",
          "name": "stdout",
          "text": [
            "\n",
            "image 1/1 /content/drive/MyDrive/bdma-07-competition/BDMA7_project_files/train_images/Indigo_Bunting/Indigo_Bunting_0031_13300.jpg: 640x640 1 Bird, 28.9ms\n",
            "Speed: 3.7ms preprocess, 28.9ms inference, 1.6ms postprocess per image at shape (1, 3, 640, 640)\n",
            "\n",
            "image 1/1 /content/drive/MyDrive/bdma-07-competition/BDMA7_project_files/train_images/Indigo_Bunting/Indigo_Bunting_0063_11820.jpg: 640x640 1 Bird, 27.4ms\n",
            "Speed: 4.2ms preprocess, 27.4ms inference, 1.5ms postprocess per image at shape (1, 3, 640, 640)\n"
          ]
        },
        {
          "output_type": "stream",
          "name": "stderr",
          "text": [
            "\rProcessing train_images images:  53%|█████▎    | 573/1082 [00:38<00:40, 12.62it/s]"
          ]
        },
        {
          "output_type": "stream",
          "name": "stdout",
          "text": [
            "\n",
            "image 1/1 /content/drive/MyDrive/bdma-07-competition/BDMA7_project_files/train_images/Indigo_Bunting/Indigo_Bunting_0071_11639.jpg: 640x640 1 Bird, 26.6ms\n",
            "Speed: 6.3ms preprocess, 26.6ms inference, 1.5ms postprocess per image at shape (1, 3, 640, 640)\n",
            "\n",
            "image 1/1 /content/drive/MyDrive/bdma-07-competition/BDMA7_project_files/train_images/Indigo_Bunting/Indigo_Bunting_0040_11805.jpg: 640x640 1 Bird, 27.7ms\n",
            "Speed: 3.8ms preprocess, 27.7ms inference, 1.5ms postprocess per image at shape (1, 3, 640, 640)\n"
          ]
        },
        {
          "output_type": "stream",
          "name": "stderr",
          "text": [
            "\rProcessing train_images images:  53%|█████▎    | 575/1082 [00:38<00:39, 12.93it/s]"
          ]
        },
        {
          "output_type": "stream",
          "name": "stdout",
          "text": [
            "\n",
            "image 1/1 /content/drive/MyDrive/bdma-07-competition/BDMA7_project_files/train_images/Indigo_Bunting/Indigo_Bunting_0051_12837.jpg: 640x640 1 Bird, 42.9ms\n",
            "Speed: 4.1ms preprocess, 42.9ms inference, 1.7ms postprocess per image at shape (1, 3, 640, 640)\n",
            "\n",
            "image 1/1 /content/drive/MyDrive/bdma-07-competition/BDMA7_project_files/train_images/Indigo_Bunting/Indigo_Bunting_0060_14495.jpg: 640x640 1 Bird, 34.3ms\n",
            "Speed: 3.8ms preprocess, 34.3ms inference, 1.7ms postprocess per image at shape (1, 3, 640, 640)\n"
          ]
        },
        {
          "output_type": "stream",
          "name": "stderr",
          "text": [
            "\rProcessing train_images images:  53%|█████▎    | 577/1082 [00:39<00:41, 12.24it/s]"
          ]
        },
        {
          "output_type": "stream",
          "name": "stdout",
          "text": [
            "\n",
            "image 1/1 /content/drive/MyDrive/bdma-07-competition/BDMA7_project_files/train_images/Indigo_Bunting/Indigo_Bunting_0003_13049.jpg: 640x640 1 Bird, 35.0ms\n",
            "Speed: 3.9ms preprocess, 35.0ms inference, 1.6ms postprocess per image at shape (1, 3, 640, 640)\n",
            "\n",
            "image 1/1 /content/drive/MyDrive/bdma-07-competition/BDMA7_project_files/train_images/Indigo_Bunting/Indigo_Bunting_0004_13195.jpg: 640x640 1 Bird, 31.4ms\n",
            "Speed: 4.1ms preprocess, 31.4ms inference, 1.5ms postprocess per image at shape (1, 3, 640, 640)\n"
          ]
        },
        {
          "output_type": "stream",
          "name": "stderr",
          "text": [
            "\rProcessing train_images images:  54%|█████▎    | 579/1082 [00:39<00:41, 12.07it/s]"
          ]
        },
        {
          "output_type": "stream",
          "name": "stdout",
          "text": [
            "\n",
            "image 1/1 /content/drive/MyDrive/bdma-07-competition/BDMA7_project_files/train_images/Indigo_Bunting/Indigo_Bunting_0059_11596.jpg: 640x640 1 Bird, 26.6ms\n",
            "Speed: 4.1ms preprocess, 26.6ms inference, 1.6ms postprocess per image at shape (1, 3, 640, 640)\n",
            "\n",
            "image 1/1 /content/drive/MyDrive/bdma-07-competition/BDMA7_project_files/train_images/Indigo_Bunting/Indigo_Bunting_0047_12966.jpg: 640x640 1 Bird, 26.6ms\n",
            "Speed: 4.1ms preprocess, 26.6ms inference, 1.5ms postprocess per image at shape (1, 3, 640, 640)\n"
          ]
        },
        {
          "output_type": "stream",
          "name": "stderr",
          "text": [
            "\rProcessing train_images images:  54%|█████▎    | 581/1082 [00:39<00:40, 12.46it/s]"
          ]
        },
        {
          "output_type": "stream",
          "name": "stdout",
          "text": [
            "\n",
            "image 1/1 /content/drive/MyDrive/bdma-07-competition/BDMA7_project_files/train_images/Indigo_Bunting/Indigo_Bunting_0058_12207.jpg: 640x640 1 Bird, 62.2ms\n",
            "Speed: 4.0ms preprocess, 62.2ms inference, 2.5ms postprocess per image at shape (1, 3, 640, 640)\n",
            "\n",
            "image 1/1 /content/drive/MyDrive/bdma-07-competition/BDMA7_project_files/train_images/Indigo_Bunting/Indigo_Bunting_0082_11907.jpg: 640x640 1 Bird, 26.6ms\n",
            "Speed: 4.3ms preprocess, 26.6ms inference, 1.4ms postprocess per image at shape (1, 3, 640, 640)\n"
          ]
        },
        {
          "output_type": "stream",
          "name": "stderr",
          "text": [
            "\rProcessing train_images images:  54%|█████▍    | 583/1082 [00:39<00:40, 12.24it/s]"
          ]
        },
        {
          "output_type": "stream",
          "name": "stdout",
          "text": [
            "\n",
            "image 1/1 /content/drive/MyDrive/bdma-07-competition/BDMA7_project_files/train_images/Indigo_Bunting/Indigo_Bunting_0049_13641.jpg: 640x640 1 Bird, 26.6ms\n",
            "Speed: 4.1ms preprocess, 26.6ms inference, 1.5ms postprocess per image at shape (1, 3, 640, 640)\n",
            "\n",
            "image 1/1 /content/drive/MyDrive/bdma-07-competition/BDMA7_project_files/train_images/Indigo_Bunting/Indigo_Bunting_0039_12756.jpg: 640x640 1 Bird, 30.0ms\n",
            "Speed: 4.5ms preprocess, 30.0ms inference, 1.5ms postprocess per image at shape (1, 3, 640, 640)\n"
          ]
        },
        {
          "output_type": "stream",
          "name": "stderr",
          "text": [
            "\rProcessing train_images images:  54%|█████▍    | 585/1082 [00:39<00:40, 12.36it/s]"
          ]
        },
        {
          "output_type": "stream",
          "name": "stdout",
          "text": [
            "\n",
            "image 1/1 /content/drive/MyDrive/bdma-07-competition/BDMA7_project_files/train_images/Indigo_Bunting/Indigo_Bunting_0080_13416.jpg: 640x640 1 Bird, 26.6ms\n",
            "Speed: 4.2ms preprocess, 26.6ms inference, 2.2ms postprocess per image at shape (1, 3, 640, 640)\n",
            "\n",
            "image 1/1 /content/drive/MyDrive/bdma-07-competition/BDMA7_project_files/train_images/Indigo_Bunting/Indigo_Bunting_0041_13987.jpg: 640x640 1 Bird, 27.4ms\n",
            "Speed: 4.3ms preprocess, 27.4ms inference, 1.8ms postprocess per image at shape (1, 3, 640, 640)\n"
          ]
        },
        {
          "output_type": "stream",
          "name": "stderr",
          "text": [
            "\rProcessing train_images images:  54%|█████▍    | 587/1082 [00:39<00:38, 12.89it/s]"
          ]
        },
        {
          "output_type": "stream",
          "name": "stdout",
          "text": [
            "\n",
            "image 1/1 /content/drive/MyDrive/bdma-07-competition/BDMA7_project_files/train_images/Indigo_Bunting/Indigo_Bunting_0066_12869.jpg: 640x640 1 Bird, 35.6ms\n",
            "Speed: 3.8ms preprocess, 35.6ms inference, 1.8ms postprocess per image at shape (1, 3, 640, 640)\n",
            "\n",
            "image 1/1 /content/drive/MyDrive/bdma-07-competition/BDMA7_project_files/train_images/Indigo_Bunting/Indigo_Bunting_0085_11991.jpg: 640x640 1 Bird, 48.9ms\n",
            "Speed: 4.1ms preprocess, 48.9ms inference, 1.9ms postprocess per image at shape (1, 3, 640, 640)\n"
          ]
        },
        {
          "output_type": "stream",
          "name": "stderr",
          "text": [
            "\rProcessing train_images images:  54%|█████▍    | 589/1082 [00:40<00:41, 11.90it/s]"
          ]
        },
        {
          "output_type": "stream",
          "name": "stdout",
          "text": [
            "\n",
            "image 1/1 /content/drive/MyDrive/bdma-07-competition/BDMA7_project_files/train_images/Indigo_Bunting/Indigo_Bunting_0032_12215.jpg: 640x640 1 Bird, 36.0ms\n",
            "Speed: 6.2ms preprocess, 36.0ms inference, 1.8ms postprocess per image at shape (1, 3, 640, 640)\n",
            "\n",
            "image 1/1 /content/drive/MyDrive/bdma-07-competition/BDMA7_project_files/train_images/Indigo_Bunting/Indigo_Bunting_0024_13523.jpg: 640x640 1 Bird, 35.8ms\n",
            "Speed: 5.7ms preprocess, 35.8ms inference, 4.0ms postprocess per image at shape (1, 3, 640, 640)\n"
          ]
        },
        {
          "output_type": "stream",
          "name": "stderr",
          "text": [
            "\rProcessing train_images images:  55%|█████▍    | 591/1082 [00:40<00:44, 10.99it/s]"
          ]
        },
        {
          "output_type": "stream",
          "name": "stdout",
          "text": [
            "\n",
            "image 1/1 /content/drive/MyDrive/bdma-07-competition/BDMA7_project_files/train_images/Indigo_Bunting/Indigo_Bunting_0026_11964.jpg: 640x640 1 Bird, 35.4ms\n",
            "Speed: 8.6ms preprocess, 35.4ms inference, 1.8ms postprocess per image at shape (1, 3, 640, 640)\n",
            "\n",
            "image 1/1 /content/drive/MyDrive/bdma-07-competition/BDMA7_project_files/train_images/Indigo_Bunting/Indigo_Bunting_0065_14558.jpg: 640x640 1 Bird, 29.6ms\n",
            "Speed: 4.0ms preprocess, 29.6ms inference, 1.6ms postprocess per image at shape (1, 3, 640, 640)\n"
          ]
        },
        {
          "output_type": "stream",
          "name": "stderr",
          "text": [
            "\rProcessing train_images images:  55%|█████▍    | 593/1082 [00:40<00:43, 11.36it/s]"
          ]
        },
        {
          "output_type": "stream",
          "name": "stdout",
          "text": [
            "\n",
            "image 1/1 /content/drive/MyDrive/bdma-07-competition/BDMA7_project_files/train_images/Indigo_Bunting/Indigo_Bunting_0078_11852.jpg: 640x640 1 Bird, 39.8ms\n",
            "Speed: 3.9ms preprocess, 39.8ms inference, 1.8ms postprocess per image at shape (1, 3, 640, 640)\n",
            "\n",
            "image 1/1 /content/drive/MyDrive/bdma-07-competition/BDMA7_project_files/train_images/Indigo_Bunting/Indigo_Bunting_0055_13473.jpg: 640x640 1 Bird, 34.2ms\n",
            "Speed: 4.1ms preprocess, 34.2ms inference, 1.9ms postprocess per image at shape (1, 3, 640, 640)\n"
          ]
        },
        {
          "output_type": "stream",
          "name": "stderr",
          "text": [
            "\rProcessing train_images images:  55%|█████▍    | 595/1082 [00:40<00:42, 11.33it/s]"
          ]
        },
        {
          "output_type": "stream",
          "name": "stdout",
          "text": [
            "\n",
            "image 1/1 /content/drive/MyDrive/bdma-07-competition/BDMA7_project_files/train_images/Indigo_Bunting/Indigo_Bunting_0033_12777.jpg: 640x640 1 Bird, 28.0ms\n",
            "Speed: 4.4ms preprocess, 28.0ms inference, 2.5ms postprocess per image at shape (1, 3, 640, 640)\n",
            "\n",
            "image 1/1 /content/drive/MyDrive/bdma-07-competition/BDMA7_project_files/train_images/Indigo_Bunting/Indigo_Bunting_0037_14128.jpg: 640x640 1 Bird, 32.0ms\n",
            "Speed: 3.9ms preprocess, 32.0ms inference, 1.7ms postprocess per image at shape (1, 3, 640, 640)\n"
          ]
        },
        {
          "output_type": "stream",
          "name": "stderr",
          "text": [
            "\rProcessing train_images images:  55%|█████▌    | 597/1082 [00:40<00:44, 10.90it/s]"
          ]
        },
        {
          "output_type": "stream",
          "name": "stdout",
          "text": [
            "\n",
            "image 1/1 /content/drive/MyDrive/bdma-07-competition/BDMA7_project_files/train_images/Indigo_Bunting/Indigo_Bunting_0027_11579.jpg: 640x640 1 Bird, 28.0ms\n",
            "Speed: 4.1ms preprocess, 28.0ms inference, 1.7ms postprocess per image at shape (1, 3, 640, 640)\n",
            "\n",
            "image 1/1 /content/drive/MyDrive/bdma-07-competition/BDMA7_project_files/train_images/Indigo_Bunting/Indigo_Bunting_0036_13716.jpg: 640x640 1 Bird, 33.1ms\n",
            "Speed: 5.5ms preprocess, 33.1ms inference, 2.2ms postprocess per image at shape (1, 3, 640, 640)\n"
          ]
        },
        {
          "output_type": "stream",
          "name": "stderr",
          "text": [
            "\rProcessing train_images images:  55%|█████▌    | 599/1082 [00:41<00:45, 10.71it/s]"
          ]
        },
        {
          "output_type": "stream",
          "name": "stdout",
          "text": [
            "\n",
            "image 1/1 /content/drive/MyDrive/bdma-07-competition/BDMA7_project_files/train_images/Indigo_Bunting/Indigo_Bunting_0001_12469.jpg: 640x640 2 Birds, 36.4ms\n",
            "Speed: 4.3ms preprocess, 36.4ms inference, 2.3ms postprocess per image at shape (1, 3, 640, 640)\n",
            "\n",
            "image 1/1 /content/drive/MyDrive/bdma-07-competition/BDMA7_project_files/train_images/Indigo_Bunting/Indigo_Bunting_0015_12632.jpg: 640x640 1 Bird, 34.9ms\n",
            "Speed: 6.0ms preprocess, 34.9ms inference, 2.2ms postprocess per image at shape (1, 3, 640, 640)\n"
          ]
        },
        {
          "output_type": "stream",
          "name": "stderr",
          "text": [
            "\rProcessing train_images images:  56%|█████▌    | 601/1082 [00:41<00:44, 10.79it/s]"
          ]
        },
        {
          "output_type": "stream",
          "name": "stdout",
          "text": [
            "\n",
            "image 1/1 /content/drive/MyDrive/bdma-07-competition/BDMA7_project_files/train_images/Indigo_Bunting/Indigo_Bunting_0029_13761.jpg: 640x640 1 Bird, 32.5ms\n",
            "Speed: 4.7ms preprocess, 32.5ms inference, 1.8ms postprocess per image at shape (1, 3, 640, 640)\n",
            "\n",
            "image 1/1 /content/drive/MyDrive/bdma-07-competition/BDMA7_project_files/train_images/Gray_crowned_Rosy_Finch/Gray_Crowned_Rosy_Finch_0048_27236.jpg: 640x640 1 Bird, 32.6ms\n",
            "Speed: 4.0ms preprocess, 32.6ms inference, 2.3ms postprocess per image at shape (1, 3, 640, 640)\n"
          ]
        },
        {
          "output_type": "stream",
          "name": "stderr",
          "text": [
            "\rProcessing train_images images:  56%|█████▌    | 603/1082 [00:41<00:42, 11.21it/s]"
          ]
        },
        {
          "output_type": "stream",
          "name": "stdout",
          "text": [
            "\n",
            "image 1/1 /content/drive/MyDrive/bdma-07-competition/BDMA7_project_files/train_images/Gray_crowned_Rosy_Finch/Gray_Crowned_Rosy_Finch_0031_797299.jpg: 640x640 1 Bird, 30.6ms\n",
            "Speed: 7.9ms preprocess, 30.6ms inference, 1.9ms postprocess per image at shape (1, 3, 640, 640)\n",
            "\n",
            "image 1/1 /content/drive/MyDrive/bdma-07-competition/BDMA7_project_files/train_images/Gray_crowned_Rosy_Finch/Gray_Crowned_Rosy_Finch_0064_27007.jpg: 640x640 1 Bird, 28.6ms\n",
            "Speed: 4.2ms preprocess, 28.6ms inference, 1.6ms postprocess per image at shape (1, 3, 640, 640)\n"
          ]
        },
        {
          "output_type": "stream",
          "name": "stderr",
          "text": [
            "\rProcessing train_images images:  56%|█████▌    | 605/1082 [00:41<00:40, 11.64it/s]"
          ]
        },
        {
          "output_type": "stream",
          "name": "stdout",
          "text": [
            "\n",
            "image 1/1 /content/drive/MyDrive/bdma-07-competition/BDMA7_project_files/train_images/Gray_crowned_Rosy_Finch/Gray_Crowned_Rosy_Finch_0024_27057.jpg: 640x640 1 Bird, 26.6ms\n",
            "Speed: 4.1ms preprocess, 26.6ms inference, 1.4ms postprocess per image at shape (1, 3, 640, 640)\n",
            "\n",
            "image 1/1 /content/drive/MyDrive/bdma-07-competition/BDMA7_project_files/train_images/Gray_crowned_Rosy_Finch/Gray_Crowned_Rosy_Finch_0026_27160.jpg: 640x640 1 Bird, 26.6ms\n",
            "Speed: 4.1ms preprocess, 26.6ms inference, 1.2ms postprocess per image at shape (1, 3, 640, 640)\n"
          ]
        },
        {
          "output_type": "stream",
          "name": "stderr",
          "text": [
            "\rProcessing train_images images:  56%|█████▌    | 607/1082 [00:41<00:37, 12.61it/s]"
          ]
        },
        {
          "output_type": "stream",
          "name": "stdout",
          "text": [
            "\n",
            "image 1/1 /content/drive/MyDrive/bdma-07-competition/BDMA7_project_files/train_images/Gray_crowned_Rosy_Finch/Gray_Crowned_Rosy_Finch_0022_27028.jpg: 640x640 1 Bird, 27.4ms\n",
            "Speed: 3.0ms preprocess, 27.4ms inference, 1.2ms postprocess per image at shape (1, 3, 640, 640)\n",
            "\n",
            "image 1/1 /content/drive/MyDrive/bdma-07-competition/BDMA7_project_files/train_images/Gray_crowned_Rosy_Finch/Gray_Crowned_Rosy_Finch_0019_27192.jpg: 640x640 1 Bird, 26.6ms\n",
            "Speed: 2.6ms preprocess, 26.6ms inference, 1.2ms postprocess per image at shape (1, 3, 640, 640)\n"
          ]
        },
        {
          "output_type": "stream",
          "name": "stderr",
          "text": [
            "\rProcessing train_images images:  56%|█████▋    | 609/1082 [00:41<00:36, 12.81it/s]"
          ]
        },
        {
          "output_type": "stream",
          "name": "stdout",
          "text": [
            "\n",
            "image 1/1 /content/drive/MyDrive/bdma-07-competition/BDMA7_project_files/train_images/Gray_crowned_Rosy_Finch/Gray_Crowned_Rosy_Finch_0068_27196.jpg: 640x640 1 Bird, 26.5ms\n",
            "Speed: 2.9ms preprocess, 26.5ms inference, 1.2ms postprocess per image at shape (1, 3, 640, 640)\n",
            "\n",
            "image 1/1 /content/drive/MyDrive/bdma-07-competition/BDMA7_project_files/train_images/Gray_crowned_Rosy_Finch/Gray_Crowned_Rosy_Finch_0072_26993.jpg: 640x640 1 Bird, 26.9ms\n",
            "Speed: 3.7ms preprocess, 26.9ms inference, 1.2ms postprocess per image at shape (1, 3, 640, 640)\n"
          ]
        },
        {
          "output_type": "stream",
          "name": "stderr",
          "text": [
            "\rProcessing train_images images:  56%|█████▋    | 611/1082 [00:41<00:35, 13.41it/s]"
          ]
        },
        {
          "output_type": "stream",
          "name": "stdout",
          "text": [
            "\n",
            "image 1/1 /content/drive/MyDrive/bdma-07-competition/BDMA7_project_files/train_images/Gray_crowned_Rosy_Finch/Gray_Crowned_Rosy_Finch_0041_27105.jpg: 640x640 1 Bird, 28.6ms\n",
            "Speed: 4.2ms preprocess, 28.6ms inference, 1.5ms postprocess per image at shape (1, 3, 640, 640)\n",
            "\n",
            "image 1/1 /content/drive/MyDrive/bdma-07-competition/BDMA7_project_files/train_images/Gray_crowned_Rosy_Finch/Gray_Crowned_Rosy_Finch_0025_797274.jpg: 640x640 1 Bird, 26.3ms\n",
            "Speed: 2.9ms preprocess, 26.3ms inference, 1.6ms postprocess per image at shape (1, 3, 640, 640)\n"
          ]
        },
        {
          "output_type": "stream",
          "name": "stderr",
          "text": [
            "\rProcessing train_images images:  57%|█████▋    | 613/1082 [00:42<00:34, 13.60it/s]"
          ]
        },
        {
          "output_type": "stream",
          "name": "stdout",
          "text": [
            "\n",
            "image 1/1 /content/drive/MyDrive/bdma-07-competition/BDMA7_project_files/train_images/Gray_crowned_Rosy_Finch/Gray_Crowned_Rosy_Finch_0084_27034.jpg: 640x640 1 Bird, 33.1ms\n",
            "Speed: 4.4ms preprocess, 33.1ms inference, 1.4ms postprocess per image at shape (1, 3, 640, 640)\n",
            "\n",
            "image 1/1 /content/drive/MyDrive/bdma-07-competition/BDMA7_project_files/train_images/Gray_crowned_Rosy_Finch/Gray_Crowned_Rosy_Finch_0073_27104.jpg: 640x640 1 Bird, 26.4ms\n",
            "Speed: 3.9ms preprocess, 26.4ms inference, 1.2ms postprocess per image at shape (1, 3, 640, 640)\n"
          ]
        },
        {
          "output_type": "stream",
          "name": "stderr",
          "text": [
            "\rProcessing train_images images:  57%|█████▋    | 615/1082 [00:42<00:35, 13.01it/s]"
          ]
        },
        {
          "output_type": "stream",
          "name": "stdout",
          "text": [
            "\n",
            "image 1/1 /content/drive/MyDrive/bdma-07-competition/BDMA7_project_files/train_images/Gray_crowned_Rosy_Finch/Gray_Crowned_Rosy_Finch_0010_27039.jpg: 640x640 1 Bird, 26.3ms\n",
            "Speed: 3.7ms preprocess, 26.3ms inference, 1.2ms postprocess per image at shape (1, 3, 640, 640)\n",
            "\n",
            "image 1/1 /content/drive/MyDrive/bdma-07-competition/BDMA7_project_files/train_images/Gray_crowned_Rosy_Finch/Gray_Crowned_Rosy_Finch_0053_797276.jpg: 640x640 1 Bird, 26.9ms\n",
            "Speed: 3.5ms preprocess, 26.9ms inference, 1.2ms postprocess per image at shape (1, 3, 640, 640)\n"
          ]
        },
        {
          "output_type": "stream",
          "name": "stderr",
          "text": [
            "\rProcessing train_images images:  57%|█████▋    | 617/1082 [00:42<00:33, 13.76it/s]"
          ]
        },
        {
          "output_type": "stream",
          "name": "stdout",
          "text": [
            "\n",
            "image 1/1 /content/drive/MyDrive/bdma-07-competition/BDMA7_project_files/train_images/Gray_crowned_Rosy_Finch/Gray_Crowned_Rosy_Finch_0043_26990.jpg: 640x640 1 Bird, 27.2ms\n",
            "Speed: 4.0ms preprocess, 27.2ms inference, 1.2ms postprocess per image at shape (1, 3, 640, 640)\n",
            "\n",
            "image 1/1 /content/drive/MyDrive/bdma-07-competition/BDMA7_project_files/train_images/Gray_crowned_Rosy_Finch/Gray_Crowned_Rosy_Finch_0001_27211.jpg: 640x640 1 Bird, 26.5ms\n",
            "Speed: 3.9ms preprocess, 26.5ms inference, 1.4ms postprocess per image at shape (1, 3, 640, 640)\n"
          ]
        },
        {
          "output_type": "stream",
          "name": "stderr",
          "text": [
            "\rProcessing train_images images:  57%|█████▋    | 619/1082 [00:42<00:32, 14.21it/s]"
          ]
        },
        {
          "output_type": "stream",
          "name": "stdout",
          "text": [
            "\n",
            "image 1/1 /content/drive/MyDrive/bdma-07-competition/BDMA7_project_files/train_images/Gray_crowned_Rosy_Finch/Gray_Crowned_Rosy_Finch_0012_27062.jpg: 640x640 1 Bird, 24.6ms\n",
            "Speed: 3.9ms preprocess, 24.6ms inference, 1.2ms postprocess per image at shape (1, 3, 640, 640)\n",
            "\n",
            "image 1/1 /content/drive/MyDrive/bdma-07-competition/BDMA7_project_files/train_images/Gray_crowned_Rosy_Finch/Gray_Crowned_Rosy_Finch_0009_26977.jpg: 640x640 1 Bird, 24.6ms\n",
            "Speed: 3.4ms preprocess, 24.6ms inference, 1.3ms postprocess per image at shape (1, 3, 640, 640)\n"
          ]
        },
        {
          "output_type": "stream",
          "name": "stderr",
          "text": [
            "\rProcessing train_images images:  57%|█████▋    | 621/1082 [00:42<00:32, 14.13it/s]"
          ]
        },
        {
          "output_type": "stream",
          "name": "stdout",
          "text": [
            "\n",
            "image 1/1 /content/drive/MyDrive/bdma-07-competition/BDMA7_project_files/train_images/Gray_crowned_Rosy_Finch/Gray_Crowned_Rosy_Finch_0063_27123.jpg: 640x640 1 Bird, 24.6ms\n",
            "Speed: 3.7ms preprocess, 24.6ms inference, 1.3ms postprocess per image at shape (1, 3, 640, 640)\n",
            "\n",
            "image 1/1 /content/drive/MyDrive/bdma-07-competition/BDMA7_project_files/train_images/Gray_crowned_Rosy_Finch/Gray_Crowned_Rosy_Finch_0036_797287.jpg: 640x640 1 Bird, 24.3ms\n",
            "Speed: 2.8ms preprocess, 24.3ms inference, 1.3ms postprocess per image at shape (1, 3, 640, 640)\n"
          ]
        },
        {
          "output_type": "stream",
          "name": "stderr",
          "text": [
            "\rProcessing train_images images:  58%|█████▊    | 623/1082 [00:42<00:31, 14.53it/s]"
          ]
        },
        {
          "output_type": "stream",
          "name": "stdout",
          "text": [
            "\n",
            "image 1/1 /content/drive/MyDrive/bdma-07-competition/BDMA7_project_files/train_images/Gray_crowned_Rosy_Finch/Gray_Crowned_Rosy_Finch_0030_27068.jpg: 640x640 1 Bird, 24.4ms\n",
            "Speed: 4.2ms preprocess, 24.4ms inference, 1.2ms postprocess per image at shape (1, 3, 640, 640)\n",
            "\n",
            "image 1/1 /content/drive/MyDrive/bdma-07-competition/BDMA7_project_files/train_images/Gray_crowned_Rosy_Finch/Gray_Crowned_Rosy_Finch_0075_27165.jpg: 640x640 1 Bird, 30.8ms\n",
            "Speed: 4.4ms preprocess, 30.8ms inference, 1.4ms postprocess per image at shape (1, 3, 640, 640)\n"
          ]
        },
        {
          "output_type": "stream",
          "name": "stderr",
          "text": [
            "\rProcessing train_images images:  58%|█████▊    | 625/1082 [00:42<00:31, 14.68it/s]"
          ]
        },
        {
          "output_type": "stream",
          "name": "stdout",
          "text": [
            "\n",
            "image 1/1 /content/drive/MyDrive/bdma-07-competition/BDMA7_project_files/train_images/Gray_crowned_Rosy_Finch/Gray_Crowned_Rosy_Finch_0013_27110.jpg: 640x640 1 Bird, 24.8ms\n",
            "Speed: 3.6ms preprocess, 24.8ms inference, 1.7ms postprocess per image at shape (1, 3, 640, 640)\n",
            "\n",
            "image 1/1 /content/drive/MyDrive/bdma-07-competition/BDMA7_project_files/train_images/Gray_crowned_Rosy_Finch/Gray_Crowned_Rosy_Finch_0034_797305.jpg: 640x640 1 Bird, 27.9ms\n",
            "Speed: 4.6ms preprocess, 27.9ms inference, 2.0ms postprocess per image at shape (1, 3, 640, 640)\n"
          ]
        },
        {
          "output_type": "stream",
          "name": "stderr",
          "text": [
            "\rProcessing train_images images:  58%|█████▊    | 627/1082 [00:43<00:30, 14.76it/s]"
          ]
        },
        {
          "output_type": "stream",
          "name": "stdout",
          "text": [
            "\n",
            "image 1/1 /content/drive/MyDrive/bdma-07-competition/BDMA7_project_files/train_images/Gray_crowned_Rosy_Finch/Gray_Crowned_Rosy_Finch_0047_797303.jpg: 640x640 1 Bird, 30.1ms\n",
            "Speed: 4.2ms preprocess, 30.1ms inference, 1.7ms postprocess per image at shape (1, 3, 640, 640)\n",
            "\n",
            "image 1/1 /content/drive/MyDrive/bdma-07-competition/BDMA7_project_files/train_images/Gray_crowned_Rosy_Finch/Gray_Crowned_Rosy_Finch_0056_797293.jpg: 640x640 1 Bird, 24.6ms\n",
            "Speed: 3.8ms preprocess, 24.6ms inference, 1.8ms postprocess per image at shape (1, 3, 640, 640)\n"
          ]
        },
        {
          "output_type": "stream",
          "name": "stderr",
          "text": [
            "\rProcessing train_images images:  58%|█████▊    | 629/1082 [00:43<00:31, 14.52it/s]"
          ]
        },
        {
          "output_type": "stream",
          "name": "stdout",
          "text": [
            "\n",
            "image 1/1 /content/drive/MyDrive/bdma-07-competition/BDMA7_project_files/train_images/Gray_crowned_Rosy_Finch/Gray_Crowned_Rosy_Finch_0046_797295.jpg: 640x640 1 Bird, 24.9ms\n",
            "Speed: 4.2ms preprocess, 24.9ms inference, 1.2ms postprocess per image at shape (1, 3, 640, 640)\n",
            "\n",
            "image 1/1 /content/drive/MyDrive/bdma-07-competition/BDMA7_project_files/train_images/Gray_crowned_Rosy_Finch/Gray_Crowned_Rosy_Finch_0071_797285.jpg: 640x640 1 Bird, 24.8ms\n",
            "Speed: 3.4ms preprocess, 24.8ms inference, 1.2ms postprocess per image at shape (1, 3, 640, 640)\n"
          ]
        },
        {
          "output_type": "stream",
          "name": "stderr",
          "text": [
            "\rProcessing train_images images:  58%|█████▊    | 631/1082 [00:43<00:30, 14.84it/s]"
          ]
        },
        {
          "output_type": "stream",
          "name": "stdout",
          "text": [
            "\n",
            "image 1/1 /content/drive/MyDrive/bdma-07-competition/BDMA7_project_files/train_images/Gray_crowned_Rosy_Finch/Gray_Crowned_Rosy_Finch_0061_26979.jpg: 640x640 1 Bird, 24.8ms\n",
            "Speed: 3.9ms preprocess, 24.8ms inference, 1.2ms postprocess per image at shape (1, 3, 640, 640)\n",
            "\n",
            "image 1/1 /content/drive/MyDrive/bdma-07-competition/BDMA7_project_files/train_images/Gray_crowned_Rosy_Finch/Gray_Crowned_Rosy_Finch_0079_797294.jpg: 640x640 1 Bird, 24.7ms\n",
            "Speed: 3.4ms preprocess, 24.7ms inference, 1.2ms postprocess per image at shape (1, 3, 640, 640)\n"
          ]
        },
        {
          "output_type": "stream",
          "name": "stderr",
          "text": [
            "\rProcessing train_images images:  59%|█████▊    | 633/1082 [00:43<00:29, 15.19it/s]"
          ]
        },
        {
          "output_type": "stream",
          "name": "stdout",
          "text": [
            "\n",
            "image 1/1 /content/drive/MyDrive/bdma-07-competition/BDMA7_project_files/train_images/Gray_crowned_Rosy_Finch/Gray_Crowned_Rosy_Finch_0066_797298.jpg: 640x640 1 Bird, 24.5ms\n",
            "Speed: 3.5ms preprocess, 24.5ms inference, 1.4ms postprocess per image at shape (1, 3, 640, 640)\n",
            "\n",
            "image 1/1 /content/drive/MyDrive/bdma-07-competition/BDMA7_project_files/train_images/Gray_crowned_Rosy_Finch/Gray_Crowned_Rosy_Finch_0076_27200.jpg: 640x640 1 Bird, 24.4ms\n",
            "Speed: 3.4ms preprocess, 24.4ms inference, 1.2ms postprocess per image at shape (1, 3, 640, 640)\n"
          ]
        },
        {
          "output_type": "stream",
          "name": "stderr",
          "text": [
            "\rProcessing train_images images:  59%|█████▊    | 635/1082 [00:43<00:29, 14.96it/s]"
          ]
        },
        {
          "output_type": "stream",
          "name": "stdout",
          "text": [
            "\n",
            "image 1/1 /content/drive/MyDrive/bdma-07-competition/BDMA7_project_files/train_images/Gray_crowned_Rosy_Finch/Gray_Crowned_Rosy_Finch_0055_27112.jpg: 640x640 1 Bird, 24.4ms\n",
            "Speed: 5.3ms preprocess, 24.4ms inference, 1.3ms postprocess per image at shape (1, 3, 640, 640)\n",
            "\n",
            "image 1/1 /content/drive/MyDrive/bdma-07-competition/BDMA7_project_files/train_images/Gray_crowned_Rosy_Finch/Gray_Crowned_Rosy_Finch_0051_26988.jpg: 640x640 1 Bird, 24.8ms\n",
            "Speed: 4.6ms preprocess, 24.8ms inference, 1.2ms postprocess per image at shape (1, 3, 640, 640)\n"
          ]
        },
        {
          "output_type": "stream",
          "name": "stderr",
          "text": [
            "\rProcessing train_images images:  59%|█████▉    | 637/1082 [00:43<00:29, 15.23it/s]"
          ]
        },
        {
          "output_type": "stream",
          "name": "stdout",
          "text": [
            "\n",
            "image 1/1 /content/drive/MyDrive/bdma-07-competition/BDMA7_project_files/train_images/Gray_crowned_Rosy_Finch/Gray_Crowned_Rosy_Finch_0067_797289.jpg: 640x640 1 Bird, 22.9ms\n",
            "Speed: 4.0ms preprocess, 22.9ms inference, 1.4ms postprocess per image at shape (1, 3, 640, 640)\n",
            "\n",
            "image 1/1 /content/drive/MyDrive/bdma-07-competition/BDMA7_project_files/train_images/Gray_crowned_Rosy_Finch/Gray_Crowned_Rosy_Finch_0016_27181.jpg: 640x640 1 Bird, 22.9ms\n",
            "Speed: 4.0ms preprocess, 22.9ms inference, 1.3ms postprocess per image at shape (1, 3, 640, 640)\n"
          ]
        },
        {
          "output_type": "stream",
          "name": "stderr",
          "text": [
            "\rProcessing train_images images:  59%|█████▉    | 639/1082 [00:43<00:28, 15.38it/s]"
          ]
        },
        {
          "output_type": "stream",
          "name": "stdout",
          "text": [
            "\n",
            "image 1/1 /content/drive/MyDrive/bdma-07-competition/BDMA7_project_files/train_images/Gray_crowned_Rosy_Finch/Gray_Crowned_Rosy_Finch_0057_27107.jpg: 640x640 1 Bird, 22.8ms\n",
            "Speed: 3.9ms preprocess, 22.8ms inference, 1.2ms postprocess per image at shape (1, 3, 640, 640)\n",
            "\n",
            "image 1/1 /content/drive/MyDrive/bdma-07-competition/BDMA7_project_files/train_images/Gray_crowned_Rosy_Finch/Gray_Crowned_Rosy_Finch_0038_797309.jpg: 640x640 1 Bird, 23.2ms\n",
            "Speed: 4.4ms preprocess, 23.2ms inference, 1.6ms postprocess per image at shape (1, 3, 640, 640)\n"
          ]
        },
        {
          "output_type": "stream",
          "name": "stderr",
          "text": [
            "\rProcessing train_images images:  59%|█████▉    | 641/1082 [00:44<00:28, 15.63it/s]"
          ]
        },
        {
          "output_type": "stream",
          "name": "stdout",
          "text": [
            "\n",
            "image 1/1 /content/drive/MyDrive/bdma-07-competition/BDMA7_project_files/train_images/Gray_crowned_Rosy_Finch/Gray_Crowned_Rosy_Finch_0042_27143.jpg: 640x640 1 Bird, 26.7ms\n",
            "Speed: 4.2ms preprocess, 26.7ms inference, 9.2ms postprocess per image at shape (1, 3, 640, 640)\n",
            "\n",
            "image 1/1 /content/drive/MyDrive/bdma-07-competition/BDMA7_project_files/train_images/Gray_crowned_Rosy_Finch/Gray_Crowned_Rosy_Finch_0029_797300.jpg: 640x640 1 Bird, 44.5ms\n",
            "Speed: 4.2ms preprocess, 44.5ms inference, 4.0ms postprocess per image at shape (1, 3, 640, 640)\n"
          ]
        },
        {
          "output_type": "stream",
          "name": "stderr",
          "text": [
            "\rProcessing train_images images:  59%|█████▉    | 643/1082 [00:44<00:32, 13.52it/s]"
          ]
        },
        {
          "output_type": "stream",
          "name": "stdout",
          "text": [
            "\n",
            "image 1/1 /content/drive/MyDrive/bdma-07-competition/BDMA7_project_files/train_images/Gray_crowned_Rosy_Finch/Gray_Crowned_Rosy_Finch_0015_797291.jpg: 640x640 1 Bird, 22.9ms\n",
            "Speed: 4.2ms preprocess, 22.9ms inference, 1.3ms postprocess per image at shape (1, 3, 640, 640)\n",
            "\n",
            "image 1/1 /content/drive/MyDrive/bdma-07-competition/BDMA7_project_files/train_images/Gray_crowned_Rosy_Finch/Gray_Crowned_Rosy_Finch_0021_797286.jpg: 640x640 1 Bird, 23.5ms\n",
            "Speed: 3.3ms preprocess, 23.5ms inference, 1.3ms postprocess per image at shape (1, 3, 640, 640)\n"
          ]
        },
        {
          "output_type": "stream",
          "name": "stderr",
          "text": [
            "\rProcessing train_images images:  60%|█████▉    | 645/1082 [00:44<00:32, 13.38it/s]"
          ]
        },
        {
          "output_type": "stream",
          "name": "stdout",
          "text": [
            "\n",
            "image 1/1 /content/drive/MyDrive/bdma-07-competition/BDMA7_project_files/train_images/Gray_crowned_Rosy_Finch/Gray_Crowned_Rosy_Finch_0044_26976.jpg: 640x640 1 Bird, 23.5ms\n",
            "Speed: 3.9ms preprocess, 23.5ms inference, 1.3ms postprocess per image at shape (1, 3, 640, 640)\n",
            "\n",
            "image 1/1 /content/drive/MyDrive/bdma-07-competition/BDMA7_project_files/train_images/Gray_crowned_Rosy_Finch/Gray_Crowned_Rosy_Finch_0074_27156.jpg: 640x640 1 Bird, 23.4ms\n",
            "Speed: 5.0ms preprocess, 23.4ms inference, 1.2ms postprocess per image at shape (1, 3, 640, 640)\n"
          ]
        },
        {
          "output_type": "stream",
          "name": "stderr",
          "text": [
            "\rProcessing train_images images:  60%|█████▉    | 647/1082 [00:44<00:30, 14.06it/s]"
          ]
        },
        {
          "output_type": "stream",
          "name": "stdout",
          "text": [
            "\n",
            "image 1/1 /content/drive/MyDrive/bdma-07-competition/BDMA7_project_files/train_images/Gray_crowned_Rosy_Finch/Gray_Crowned_Rosy_Finch_0080_27108.jpg: 640x640 1 Bird, 23.0ms\n",
            "Speed: 3.8ms preprocess, 23.0ms inference, 1.2ms postprocess per image at shape (1, 3, 640, 640)\n",
            "\n",
            "image 1/1 /content/drive/MyDrive/bdma-07-competition/BDMA7_project_files/train_images/Gray_crowned_Rosy_Finch/Gray_Crowned_Rosy_Finch_0023_797288.jpg: 640x640 1 Bird, 23.0ms\n",
            "Speed: 5.1ms preprocess, 23.0ms inference, 1.2ms postprocess per image at shape (1, 3, 640, 640)\n"
          ]
        },
        {
          "output_type": "stream",
          "name": "stderr",
          "text": [
            "\rProcessing train_images images:  60%|█████▉    | 649/1082 [00:44<00:29, 14.61it/s]"
          ]
        },
        {
          "output_type": "stream",
          "name": "stdout",
          "text": [
            "\n",
            "image 1/1 /content/drive/MyDrive/bdma-07-competition/BDMA7_project_files/train_images/Gray_crowned_Rosy_Finch/Gray_Crowned_Rosy_Finch_0040_26985.jpg: 640x640 1 Bird, 22.9ms\n",
            "Speed: 3.8ms preprocess, 22.9ms inference, 1.2ms postprocess per image at shape (1, 3, 640, 640)\n",
            "\n",
            "image 1/1 /content/drive/MyDrive/bdma-07-competition/BDMA7_project_files/train_images/Gray_crowned_Rosy_Finch/Gray_Crowned_Rosy_Finch_0018_26978.jpg: 640x640 1 Bird, 23.4ms\n",
            "Speed: 3.2ms preprocess, 23.4ms inference, 1.2ms postprocess per image at shape (1, 3, 640, 640)\n"
          ]
        },
        {
          "output_type": "stream",
          "name": "stderr",
          "text": [
            "\rProcessing train_images images:  60%|██████    | 651/1082 [00:44<00:28, 15.18it/s]"
          ]
        },
        {
          "output_type": "stream",
          "name": "stdout",
          "text": [
            "\n",
            "image 1/1 /content/drive/MyDrive/bdma-07-competition/BDMA7_project_files/train_images/Gray_crowned_Rosy_Finch/Gray_Crowned_Rosy_Finch_0028_27114.jpg: 640x640 1 Bird, 23.2ms\n",
            "Speed: 3.0ms preprocess, 23.2ms inference, 1.1ms postprocess per image at shape (1, 3, 640, 640)\n",
            "\n",
            "image 1/1 /content/drive/MyDrive/bdma-07-competition/BDMA7_project_files/train_images/Gray_crowned_Rosy_Finch/Gray_Crowned_Rosy_Finch_0078_27136.jpg: 640x640 1 Bird, 22.9ms\n",
            "Speed: 4.1ms preprocess, 22.9ms inference, 1.2ms postprocess per image at shape (1, 3, 640, 640)\n"
          ]
        },
        {
          "output_type": "stream",
          "name": "stderr",
          "text": [
            "\rProcessing train_images images:  60%|██████    | 653/1082 [00:44<00:27, 15.50it/s]"
          ]
        },
        {
          "output_type": "stream",
          "name": "stdout",
          "text": [
            "\n",
            "image 1/1 /content/drive/MyDrive/bdma-07-competition/BDMA7_project_files/train_images/Fish_Crow/Fish_Crow_0078_26144.jpg: 640x640 1 Bird, 22.9ms\n",
            "Speed: 3.7ms preprocess, 22.9ms inference, 1.2ms postprocess per image at shape (1, 3, 640, 640)\n",
            "\n",
            "image 1/1 /content/drive/MyDrive/bdma-07-competition/BDMA7_project_files/train_images/Fish_Crow/Fish_Crow_0025_25893.jpg: 640x640 1 Bird, 23.0ms\n",
            "Speed: 4.4ms preprocess, 23.0ms inference, 1.4ms postprocess per image at shape (1, 3, 640, 640)\n"
          ]
        },
        {
          "output_type": "stream",
          "name": "stderr",
          "text": [
            "\rProcessing train_images images:  61%|██████    | 655/1082 [00:44<00:27, 15.69it/s]"
          ]
        },
        {
          "output_type": "stream",
          "name": "stdout",
          "text": [
            "\n",
            "image 1/1 /content/drive/MyDrive/bdma-07-competition/BDMA7_project_files/train_images/Fish_Crow/Fish_Crow_0085_25919.jpg: 640x640 1 Bird, 26.0ms\n",
            "Speed: 5.1ms preprocess, 26.0ms inference, 1.6ms postprocess per image at shape (1, 3, 640, 640)\n",
            "\n",
            "image 1/1 /content/drive/MyDrive/bdma-07-competition/BDMA7_project_files/train_images/Fish_Crow/Fish_Crow_0041_25887.jpg: 640x640 1 Bird, 25.1ms\n",
            "Speed: 3.5ms preprocess, 25.1ms inference, 1.6ms postprocess per image at shape (1, 3, 640, 640)\n"
          ]
        },
        {
          "output_type": "stream",
          "name": "stderr",
          "text": [
            "\rProcessing train_images images:  61%|██████    | 657/1082 [00:45<00:30, 13.79it/s]"
          ]
        },
        {
          "output_type": "stream",
          "name": "stdout",
          "text": [
            "\n",
            "image 1/1 /content/drive/MyDrive/bdma-07-competition/BDMA7_project_files/train_images/Fish_Crow/Fish_Crow_0010_25836.jpg: 640x640 1 Bird, 25.2ms\n",
            "Speed: 4.1ms preprocess, 25.2ms inference, 2.1ms postprocess per image at shape (1, 3, 640, 640)\n",
            "\n",
            "image 1/1 /content/drive/MyDrive/bdma-07-competition/BDMA7_project_files/train_images/Fish_Crow/Fish_Crow_0073_25977.jpg: 640x640 1 Bird, 22.7ms\n",
            "Speed: 3.6ms preprocess, 22.7ms inference, 1.3ms postprocess per image at shape (1, 3, 640, 640)\n"
          ]
        },
        {
          "output_type": "stream",
          "name": "stderr",
          "text": [
            "\rProcessing train_images images:  61%|██████    | 659/1082 [00:45<00:29, 14.54it/s]"
          ]
        },
        {
          "output_type": "stream",
          "name": "stdout",
          "text": [
            "\n",
            "image 1/1 /content/drive/MyDrive/bdma-07-competition/BDMA7_project_files/train_images/Fish_Crow/Fish_Crow_0081_25908.jpg: 640x640 1 Bird, 29.6ms\n",
            "Speed: 3.7ms preprocess, 29.6ms inference, 1.2ms postprocess per image at shape (1, 3, 640, 640)\n",
            "\n",
            "image 1/1 /content/drive/MyDrive/bdma-07-competition/BDMA7_project_files/train_images/Fish_Crow/Fish_Crow_0001_26031.jpg: 640x640 1 Bird, 22.7ms\n",
            "Speed: 3.6ms preprocess, 22.7ms inference, 1.4ms postprocess per image at shape (1, 3, 640, 640)\n"
          ]
        },
        {
          "output_type": "stream",
          "name": "stderr",
          "text": [
            "\rProcessing train_images images:  61%|██████    | 661/1082 [00:45<00:28, 14.86it/s]"
          ]
        },
        {
          "output_type": "stream",
          "name": "stdout",
          "text": [
            "\n",
            "image 1/1 /content/drive/MyDrive/bdma-07-competition/BDMA7_project_files/train_images/Fish_Crow/Fish_Crow_0003_25970.jpg: 640x640 1 Bird, 23.2ms\n",
            "Speed: 3.8ms preprocess, 23.2ms inference, 1.2ms postprocess per image at shape (1, 3, 640, 640)\n",
            "\n",
            "image 1/1 /content/drive/MyDrive/bdma-07-competition/BDMA7_project_files/train_images/Fish_Crow/Fish_Crow_0060_26016.jpg: 640x640 1 Bird, 23.2ms\n",
            "Speed: 3.1ms preprocess, 23.2ms inference, 1.4ms postprocess per image at shape (1, 3, 640, 640)\n"
          ]
        },
        {
          "output_type": "stream",
          "name": "stderr",
          "text": [
            "\rProcessing train_images images:  61%|██████▏   | 663/1082 [00:45<00:27, 15.19it/s]"
          ]
        },
        {
          "output_type": "stream",
          "name": "stdout",
          "text": [
            "\n",
            "image 1/1 /content/drive/MyDrive/bdma-07-competition/BDMA7_project_files/train_images/Fish_Crow/Fish_Crow_0014_26041.jpg: 640x640 1 Bird, 23.3ms\n",
            "Speed: 3.1ms preprocess, 23.3ms inference, 1.2ms postprocess per image at shape (1, 3, 640, 640)\n",
            "\n",
            "image 1/1 /content/drive/MyDrive/bdma-07-competition/BDMA7_project_files/train_images/Fish_Crow/Fish_Crow_0065_25942.jpg: 640x640 1 Bird, 23.1ms\n",
            "Speed: 2.5ms preprocess, 23.1ms inference, 1.2ms postprocess per image at shape (1, 3, 640, 640)\n"
          ]
        },
        {
          "output_type": "stream",
          "name": "stderr",
          "text": [
            "\rProcessing train_images images:  61%|██████▏   | 665/1082 [00:45<00:27, 15.34it/s]"
          ]
        },
        {
          "output_type": "stream",
          "name": "stdout",
          "text": [
            "\n",
            "image 1/1 /content/drive/MyDrive/bdma-07-competition/BDMA7_project_files/train_images/Fish_Crow/Fish_Crow_0034_25891.jpg: 640x640 1 Bird, 23.0ms\n",
            "Speed: 3.8ms preprocess, 23.0ms inference, 1.2ms postprocess per image at shape (1, 3, 640, 640)\n",
            "\n",
            "image 1/1 /content/drive/MyDrive/bdma-07-competition/BDMA7_project_files/train_images/Fish_Crow/Fish_Crow_0053_26067.jpg: 640x640 1 Bird, 23.7ms\n",
            "Speed: 3.6ms preprocess, 23.7ms inference, 1.2ms postprocess per image at shape (1, 3, 640, 640)\n"
          ]
        },
        {
          "output_type": "stream",
          "name": "stderr",
          "text": [
            "\rProcessing train_images images:  62%|██████▏   | 667/1082 [00:45<00:26, 15.74it/s]"
          ]
        },
        {
          "output_type": "stream",
          "name": "stdout",
          "text": [
            "\n",
            "image 1/1 /content/drive/MyDrive/bdma-07-competition/BDMA7_project_files/train_images/Fish_Crow/Fish_Crow_0056_25851.jpg: 640x640 1 Bird, 23.4ms\n",
            "Speed: 3.7ms preprocess, 23.4ms inference, 1.2ms postprocess per image at shape (1, 3, 640, 640)\n",
            "\n",
            "image 1/1 /content/drive/MyDrive/bdma-07-competition/BDMA7_project_files/train_images/Fish_Crow/Fish_Crow_0079_26030.jpg: 640x640 1 Bird, 23.3ms\n",
            "Speed: 4.3ms preprocess, 23.3ms inference, 1.2ms postprocess per image at shape (1, 3, 640, 640)\n"
          ]
        },
        {
          "output_type": "stream",
          "name": "stderr",
          "text": [
            "\rProcessing train_images images:  62%|██████▏   | 669/1082 [00:45<00:25, 16.13it/s]"
          ]
        },
        {
          "output_type": "stream",
          "name": "stdout",
          "text": [
            "\n",
            "image 1/1 /content/drive/MyDrive/bdma-07-competition/BDMA7_project_files/train_images/Fish_Crow/Fish_Crow_0063_26094.jpg: 640x640 1 Bird, 23.4ms\n",
            "Speed: 4.0ms preprocess, 23.4ms inference, 1.6ms postprocess per image at shape (1, 3, 640, 640)\n",
            "\n",
            "image 1/1 /content/drive/MyDrive/bdma-07-competition/BDMA7_project_files/train_images/Fish_Crow/Fish_Crow_0058_25999.jpg: 640x640 1 Bird, 24.9ms\n",
            "Speed: 4.5ms preprocess, 24.9ms inference, 1.6ms postprocess per image at shape (1, 3, 640, 640)\n"
          ]
        },
        {
          "output_type": "stream",
          "name": "stderr",
          "text": [
            "\rProcessing train_images images:  62%|██████▏   | 671/1082 [00:46<00:26, 15.27it/s]"
          ]
        },
        {
          "output_type": "stream",
          "name": "stdout",
          "text": [
            "\n",
            "image 1/1 /content/drive/MyDrive/bdma-07-competition/BDMA7_project_files/train_images/Fish_Crow/Fish_Crow_0022_26062.jpg: 640x640 1 Bird, 27.8ms\n",
            "Speed: 3.7ms preprocess, 27.8ms inference, 1.6ms postprocess per image at shape (1, 3, 640, 640)\n",
            "\n",
            "image 1/1 /content/drive/MyDrive/bdma-07-competition/BDMA7_project_files/train_images/Fish_Crow/Fish_Crow_0024_26064.jpg: 640x640 1 Bird, 25.0ms\n",
            "Speed: 3.4ms preprocess, 25.0ms inference, 1.7ms postprocess per image at shape (1, 3, 640, 640)\n"
          ]
        },
        {
          "output_type": "stream",
          "name": "stderr",
          "text": [
            "\rProcessing train_images images:  62%|██████▏   | 673/1082 [00:46<00:27, 15.07it/s]"
          ]
        },
        {
          "output_type": "stream",
          "name": "stdout",
          "text": [
            "\n",
            "image 1/1 /content/drive/MyDrive/bdma-07-competition/BDMA7_project_files/train_images/Fish_Crow/Fish_Crow_0032_26014.jpg: 640x640 1 Bird, 28.5ms\n",
            "Speed: 4.1ms preprocess, 28.5ms inference, 1.2ms postprocess per image at shape (1, 3, 640, 640)\n",
            "\n",
            "image 1/1 /content/drive/MyDrive/bdma-07-competition/BDMA7_project_files/train_images/Fish_Crow/Fish_Crow_0068_25859.jpg: 640x640 1 Bird, 23.0ms\n",
            "Speed: 4.0ms preprocess, 23.0ms inference, 2.5ms postprocess per image at shape (1, 3, 640, 640)\n"
          ]
        },
        {
          "output_type": "stream",
          "name": "stderr",
          "text": [
            "\rProcessing train_images images:  62%|██████▏   | 675/1082 [00:46<00:26, 15.09it/s]"
          ]
        },
        {
          "output_type": "stream",
          "name": "stdout",
          "text": [
            "\n",
            "image 1/1 /content/drive/MyDrive/bdma-07-competition/BDMA7_project_files/train_images/Fish_Crow/Fish_Crow_0017_26127.jpg: 640x640 1 Bird, 29.5ms\n",
            "Speed: 3.7ms preprocess, 29.5ms inference, 1.2ms postprocess per image at shape (1, 3, 640, 640)\n",
            "\n",
            "image 1/1 /content/drive/MyDrive/bdma-07-competition/BDMA7_project_files/train_images/Fish_Crow/Fish_Crow_0011_25866.jpg: 640x640 1 Bird, 23.2ms\n",
            "Speed: 3.7ms preprocess, 23.2ms inference, 1.2ms postprocess per image at shape (1, 3, 640, 640)\n"
          ]
        },
        {
          "output_type": "stream",
          "name": "stderr",
          "text": [
            "\rProcessing train_images images:  63%|██████▎   | 677/1082 [00:46<00:26, 15.19it/s]"
          ]
        },
        {
          "output_type": "stream",
          "name": "stdout",
          "text": [
            "\n",
            "image 1/1 /content/drive/MyDrive/bdma-07-competition/BDMA7_project_files/train_images/Fish_Crow/Fish_Crow_0059_25864.jpg: 640x640 1 Bird, 23.4ms\n",
            "Speed: 3.5ms preprocess, 23.4ms inference, 1.2ms postprocess per image at shape (1, 3, 640, 640)\n",
            "\n",
            "image 1/1 /content/drive/MyDrive/bdma-07-competition/BDMA7_project_files/train_images/Fish_Crow/Fish_Crow_0082_26012.jpg: 640x640 1 Bird, 23.2ms\n",
            "Speed: 4.0ms preprocess, 23.2ms inference, 1.5ms postprocess per image at shape (1, 3, 640, 640)\n"
          ]
        },
        {
          "output_type": "stream",
          "name": "stderr",
          "text": [
            "\rProcessing train_images images:  63%|██████▎   | 679/1082 [00:46<00:26, 15.47it/s]"
          ]
        },
        {
          "output_type": "stream",
          "name": "stdout",
          "text": [
            "\n",
            "image 1/1 /content/drive/MyDrive/bdma-07-competition/BDMA7_project_files/train_images/Fish_Crow/Fish_Crow_0076_25971.jpg: 640x640 1 Bird, 23.2ms\n",
            "Speed: 3.7ms preprocess, 23.2ms inference, 1.2ms postprocess per image at shape (1, 3, 640, 640)\n",
            "\n",
            "image 1/1 /content/drive/MyDrive/bdma-07-competition/BDMA7_project_files/train_images/Fish_Crow/Fish_Crow_0044_25964.jpg: 640x640 1 Bird, 23.5ms\n",
            "Speed: 3.6ms preprocess, 23.5ms inference, 1.2ms postprocess per image at shape (1, 3, 640, 640)\n"
          ]
        },
        {
          "output_type": "stream",
          "name": "stderr",
          "text": [
            "\rProcessing train_images images:  63%|██████▎   | 681/1082 [00:46<00:25, 15.67it/s]"
          ]
        },
        {
          "output_type": "stream",
          "name": "stdout",
          "text": [
            "\n",
            "image 1/1 /content/drive/MyDrive/bdma-07-competition/BDMA7_project_files/train_images/Fish_Crow/Fish_Crow_0013_25939.jpg: 640x640 1 Bird, 23.6ms\n",
            "Speed: 3.8ms preprocess, 23.6ms inference, 1.2ms postprocess per image at shape (1, 3, 640, 640)\n",
            "\n",
            "image 1/1 /content/drive/MyDrive/bdma-07-competition/BDMA7_project_files/train_images/Fish_Crow/Fish_Crow_0016_25854.jpg: 640x640 1 Bird, 23.3ms\n",
            "Speed: 3.4ms preprocess, 23.3ms inference, 1.2ms postprocess per image at shape (1, 3, 640, 640)\n"
          ]
        },
        {
          "output_type": "stream",
          "name": "stderr",
          "text": [
            "\rProcessing train_images images:  63%|██████▎   | 683/1082 [00:46<00:25, 15.46it/s]"
          ]
        },
        {
          "output_type": "stream",
          "name": "stdout",
          "text": [
            "\n",
            "image 1/1 /content/drive/MyDrive/bdma-07-competition/BDMA7_project_files/train_images/Fish_Crow/Fish_Crow_0043_25847.jpg: 640x640 1 Bird, 23.8ms\n",
            "Speed: 3.5ms preprocess, 23.8ms inference, 1.2ms postprocess per image at shape (1, 3, 640, 640)\n",
            "\n",
            "image 1/1 /content/drive/MyDrive/bdma-07-competition/BDMA7_project_files/train_images/Fish_Crow/Fish_Crow_0028_25968.jpg: 640x640 2 Birds, 23.8ms\n",
            "Speed: 3.2ms preprocess, 23.8ms inference, 2.7ms postprocess per image at shape (1, 3, 640, 640)\n"
          ]
        },
        {
          "output_type": "stream",
          "name": "stderr",
          "text": [
            "\rProcessing train_images images:  63%|██████▎   | 685/1082 [00:46<00:25, 15.52it/s]"
          ]
        },
        {
          "output_type": "stream",
          "name": "stdout",
          "text": [
            "\n",
            "image 1/1 /content/drive/MyDrive/bdma-07-competition/BDMA7_project_files/train_images/Fish_Crow/Fish_Crow_0042_26148.jpg: 640x640 1 Bird, 30.3ms\n",
            "Speed: 3.9ms preprocess, 30.3ms inference, 1.9ms postprocess per image at shape (1, 3, 640, 640)\n",
            "\n",
            "image 1/1 /content/drive/MyDrive/bdma-07-competition/BDMA7_project_files/train_images/Fish_Crow/Fish_Crow_0040_25158.jpg: 640x640 1 Bird, 33.5ms\n",
            "Speed: 9.4ms preprocess, 33.5ms inference, 1.5ms postprocess per image at shape (1, 3, 640, 640)\n"
          ]
        },
        {
          "output_type": "stream",
          "name": "stderr",
          "text": [
            "\rProcessing train_images images:  63%|██████▎   | 687/1082 [00:47<00:26, 14.64it/s]"
          ]
        },
        {
          "output_type": "stream",
          "name": "stdout",
          "text": [
            "\n",
            "image 1/1 /content/drive/MyDrive/bdma-07-competition/BDMA7_project_files/train_images/Fish_Crow/Fish_Crow_0031_25909.jpg: 640x640 1 Bird, 25.6ms\n",
            "Speed: 4.0ms preprocess, 25.6ms inference, 1.8ms postprocess per image at shape (1, 3, 640, 640)\n",
            "\n",
            "image 1/1 /content/drive/MyDrive/bdma-07-competition/BDMA7_project_files/train_images/Fish_Crow/Fish_Crow_0002_26072.jpg: 640x640 1 Bird, 23.8ms\n",
            "Speed: 3.5ms preprocess, 23.8ms inference, 1.3ms postprocess per image at shape (1, 3, 640, 640)\n"
          ]
        },
        {
          "output_type": "stream",
          "name": "stderr",
          "text": [
            "\rProcessing train_images images:  64%|██████▎   | 689/1082 [00:47<00:27, 14.26it/s]"
          ]
        },
        {
          "output_type": "stream",
          "name": "stdout",
          "text": [
            "\n",
            "image 1/1 /content/drive/MyDrive/bdma-07-competition/BDMA7_project_files/train_images/Fish_Crow/Fish_Crow_0035_26081.jpg: 640x640 1 Bird, 24.1ms\n",
            "Speed: 3.8ms preprocess, 24.1ms inference, 1.2ms postprocess per image at shape (1, 3, 640, 640)\n",
            "\n",
            "image 1/1 /content/drive/MyDrive/bdma-07-competition/BDMA7_project_files/train_images/Fish_Crow/Fish_Crow_0004_25936.jpg: 640x640 1 Bird, 24.0ms\n",
            "Speed: 3.7ms preprocess, 24.0ms inference, 1.2ms postprocess per image at shape (1, 3, 640, 640)\n"
          ]
        },
        {
          "output_type": "stream",
          "name": "stderr",
          "text": [
            "\rProcessing train_images images:  64%|██████▍   | 691/1082 [00:47<00:26, 14.65it/s]"
          ]
        },
        {
          "output_type": "stream",
          "name": "stdout",
          "text": [
            "\n",
            "image 1/1 /content/drive/MyDrive/bdma-07-competition/BDMA7_project_files/train_images/Fish_Crow/Fish_Crow_0080_25861.jpg: 640x640 1 Bird, 25.7ms\n",
            "Speed: 16.1ms preprocess, 25.7ms inference, 1.4ms postprocess per image at shape (1, 3, 640, 640)\n",
            "\n",
            "image 1/1 /content/drive/MyDrive/bdma-07-competition/BDMA7_project_files/train_images/Fish_Crow/Fish_Crow_0055_26077.jpg: 640x640 1 Bird, 24.1ms\n",
            "Speed: 4.3ms preprocess, 24.1ms inference, 1.7ms postprocess per image at shape (1, 3, 640, 640)\n"
          ]
        },
        {
          "output_type": "stream",
          "name": "stderr",
          "text": [
            "\rProcessing train_images images:  64%|██████▍   | 693/1082 [00:47<00:26, 14.72it/s]"
          ]
        },
        {
          "output_type": "stream",
          "name": "stdout",
          "text": [
            "\n",
            "image 1/1 /content/drive/MyDrive/bdma-07-competition/BDMA7_project_files/train_images/Fish_Crow/Fish_Crow_0018_25879.jpg: 640x640 1 Bird, 24.1ms\n",
            "Speed: 3.9ms preprocess, 24.1ms inference, 1.3ms postprocess per image at shape (1, 3, 640, 640)\n",
            "\n",
            "image 1/1 /content/drive/MyDrive/bdma-07-competition/BDMA7_project_files/train_images/Fish_Crow/Fish_Crow_0007_26023.jpg: 640x640 1 Bird, 23.8ms\n",
            "Speed: 4.0ms preprocess, 23.8ms inference, 1.2ms postprocess per image at shape (1, 3, 640, 640)\n"
          ]
        },
        {
          "output_type": "stream",
          "name": "stderr",
          "text": [
            "\rProcessing train_images images:  64%|██████▍   | 695/1082 [00:47<00:25, 15.14it/s]"
          ]
        },
        {
          "output_type": "stream",
          "name": "stdout",
          "text": [
            "\n",
            "image 1/1 /content/drive/MyDrive/bdma-07-competition/BDMA7_project_files/train_images/Fish_Crow/Fish_Crow_0049_26040.jpg: 640x640 1 Bird, 23.8ms\n",
            "Speed: 3.9ms preprocess, 23.8ms inference, 1.2ms postprocess per image at shape (1, 3, 640, 640)\n",
            "\n",
            "image 1/1 /content/drive/MyDrive/bdma-07-competition/BDMA7_project_files/train_images/Fish_Crow/Fish_Crow_0047_26070.jpg: 640x640 2 Birds, 23.8ms\n",
            "Speed: 3.4ms preprocess, 23.8ms inference, 1.2ms postprocess per image at shape (1, 3, 640, 640)\n"
          ]
        },
        {
          "output_type": "stream",
          "name": "stderr",
          "text": [
            "\rProcessing train_images images:  64%|██████▍   | 697/1082 [00:47<00:25, 15.00it/s]"
          ]
        },
        {
          "output_type": "stream",
          "name": "stdout",
          "text": [
            "\n",
            "image 1/1 /content/drive/MyDrive/bdma-07-competition/BDMA7_project_files/train_images/Fish_Crow/Fish_Crow_0038_26000.jpg: 640x640 1 Bird, 23.8ms\n",
            "Speed: 3.8ms preprocess, 23.8ms inference, 1.5ms postprocess per image at shape (1, 3, 640, 640)\n",
            "\n",
            "image 1/1 /content/drive/MyDrive/bdma-07-competition/BDMA7_project_files/train_images/Fish_Crow/Fish_Crow_0067_26124.jpg: 640x640 1 Bird, 23.9ms\n",
            "Speed: 3.4ms preprocess, 23.9ms inference, 1.9ms postprocess per image at shape (1, 3, 640, 640)\n"
          ]
        },
        {
          "output_type": "stream",
          "name": "stderr",
          "text": [
            "\rProcessing train_images images:  65%|██████▍   | 699/1082 [00:47<00:24, 15.50it/s]"
          ]
        },
        {
          "output_type": "stream",
          "name": "stdout",
          "text": [
            "\n",
            "image 1/1 /content/drive/MyDrive/bdma-07-competition/BDMA7_project_files/train_images/Fish_Crow/Fish_Crow_0051_25934.jpg: 640x640 1 Bird, 23.9ms\n",
            "Speed: 4.0ms preprocess, 23.9ms inference, 1.7ms postprocess per image at shape (1, 3, 640, 640)\n",
            "\n",
            "image 1/1 /content/drive/MyDrive/bdma-07-competition/BDMA7_project_files/train_images/Fish_Crow/Fish_Crow_0083_25949.jpg: 640x640 1 Bird, 23.8ms\n",
            "Speed: 4.5ms preprocess, 23.8ms inference, 1.7ms postprocess per image at shape (1, 3, 640, 640)\n"
          ]
        },
        {
          "output_type": "stream",
          "name": "stderr",
          "text": [
            "\rProcessing train_images images:  65%|██████▍   | 701/1082 [00:48<00:24, 15.42it/s]"
          ]
        },
        {
          "output_type": "stream",
          "name": "stdout",
          "text": [
            "\n",
            "image 1/1 /content/drive/MyDrive/bdma-07-competition/BDMA7_project_files/train_images/Fish_Crow/Fish_Crow_0033_25915.jpg: 640x640 1 Bird, 42.8ms\n",
            "Speed: 3.6ms preprocess, 42.8ms inference, 1.5ms postprocess per image at shape (1, 3, 640, 640)\n",
            "\n",
            "image 1/1 /content/drive/MyDrive/bdma-07-competition/BDMA7_project_files/train_images/Fish_Crow/Fish_Crow_0037_26071.jpg: 640x640 1 Bird, 25.5ms\n",
            "Speed: 3.7ms preprocess, 25.5ms inference, 2.0ms postprocess per image at shape (1, 3, 640, 640)\n"
          ]
        },
        {
          "output_type": "stream",
          "name": "stderr",
          "text": [
            "\rProcessing train_images images:  65%|██████▍   | 703/1082 [00:48<00:26, 14.53it/s]"
          ]
        },
        {
          "output_type": "stream",
          "name": "stdout",
          "text": [
            "\n",
            "image 1/1 /content/drive/MyDrive/bdma-07-competition/BDMA7_project_files/train_images/Fish_Crow/Fish_Crow_0012_25946.jpg: 640x640 1 Bird, 23.8ms\n",
            "Speed: 4.7ms preprocess, 23.8ms inference, 1.4ms postprocess per image at shape (1, 3, 640, 640)\n",
            "\n",
            "image 1/1 /content/drive/MyDrive/bdma-07-competition/BDMA7_project_files/train_images/Fish_Crow/Fish_Crow_0023_26037.jpg: 640x640 1 Bird, 23.8ms\n",
            "Speed: 3.5ms preprocess, 23.8ms inference, 1.2ms postprocess per image at shape (1, 3, 640, 640)\n"
          ]
        },
        {
          "output_type": "stream",
          "name": "stderr",
          "text": [
            "\rProcessing train_images images:  65%|██████▌   | 705/1082 [00:48<00:25, 15.01it/s]"
          ]
        },
        {
          "output_type": "stream",
          "name": "stdout",
          "text": [
            "\n",
            "image 1/1 /content/drive/MyDrive/bdma-07-competition/BDMA7_project_files/train_images/Fish_Crow/Fish_Crow_0020_26027.jpg: 640x640 1 Bird, 24.0ms\n",
            "Speed: 4.0ms preprocess, 24.0ms inference, 1.8ms postprocess per image at shape (1, 3, 640, 640)\n",
            "\n",
            "image 1/1 /content/drive/MyDrive/bdma-07-competition/BDMA7_project_files/train_images/Fish_Crow/Fish_Crow_0072_25945.jpg: 640x640 1 Bird, 23.6ms\n",
            "Speed: 4.2ms preprocess, 23.6ms inference, 1.8ms postprocess per image at shape (1, 3, 640, 640)\n"
          ]
        },
        {
          "output_type": "stream",
          "name": "stderr",
          "text": [
            "\rProcessing train_images images:  65%|██████▌   | 707/1082 [00:48<00:24, 15.16it/s]"
          ]
        },
        {
          "output_type": "stream",
          "name": "stdout",
          "text": [
            "\n",
            "image 1/1 /content/drive/MyDrive/bdma-07-competition/BDMA7_project_files/train_images/Painted_Bunting/Painted_Bunting_0073_16737.jpg: 640x640 1 Bird, 58.4ms\n",
            "Speed: 4.2ms preprocess, 58.4ms inference, 1.3ms postprocess per image at shape (1, 3, 640, 640)\n",
            "\n",
            "image 1/1 /content/drive/MyDrive/bdma-07-competition/BDMA7_project_files/train_images/Painted_Bunting/Painted_Bunting_0055_15208.jpg: 640x640 1 Bird, 23.4ms\n",
            "Speed: 4.1ms preprocess, 23.4ms inference, 1.2ms postprocess per image at shape (1, 3, 640, 640)\n"
          ]
        },
        {
          "output_type": "stream",
          "name": "stderr",
          "text": [
            "\rProcessing train_images images:  66%|██████▌   | 709/1082 [00:48<00:27, 13.56it/s]"
          ]
        },
        {
          "output_type": "stream",
          "name": "stdout",
          "text": [
            "\n",
            "image 1/1 /content/drive/MyDrive/bdma-07-competition/BDMA7_project_files/train_images/Painted_Bunting/Painted_Bunting_0069_16462.jpg: 640x640 1 Bird, 23.6ms\n",
            "Speed: 4.0ms preprocess, 23.6ms inference, 1.2ms postprocess per image at shape (1, 3, 640, 640)\n",
            "\n",
            "image 1/1 /content/drive/MyDrive/bdma-07-competition/BDMA7_project_files/train_images/Painted_Bunting/Painted_Bunting_0001_16585.jpg: 640x640 1 Bird, 23.6ms\n",
            "Speed: 3.9ms preprocess, 23.6ms inference, 1.4ms postprocess per image at shape (1, 3, 640, 640)\n"
          ]
        },
        {
          "output_type": "stream",
          "name": "stderr",
          "text": [
            "\rProcessing train_images images:  66%|██████▌   | 711/1082 [00:48<00:26, 13.79it/s]"
          ]
        },
        {
          "output_type": "stream",
          "name": "stdout",
          "text": [
            "\n",
            "image 1/1 /content/drive/MyDrive/bdma-07-competition/BDMA7_project_files/train_images/Painted_Bunting/Painted_Bunting_0025_16722.jpg: 640x640 1 Bird, 23.6ms\n",
            "Speed: 3.7ms preprocess, 23.6ms inference, 1.4ms postprocess per image at shape (1, 3, 640, 640)\n",
            "\n",
            "image 1/1 /content/drive/MyDrive/bdma-07-competition/BDMA7_project_files/train_images/Painted_Bunting/Painted_Bunting_0027_16536.jpg: 640x640 1 Bird, 23.6ms\n",
            "Speed: 3.4ms preprocess, 23.6ms inference, 1.3ms postprocess per image at shape (1, 3, 640, 640)\n"
          ]
        },
        {
          "output_type": "stream",
          "name": "stderr",
          "text": [
            "\rProcessing train_images images:  66%|██████▌   | 713/1082 [00:48<00:25, 14.38it/s]"
          ]
        },
        {
          "output_type": "stream",
          "name": "stdout",
          "text": [
            "\n",
            "image 1/1 /content/drive/MyDrive/bdma-07-competition/BDMA7_project_files/train_images/Painted_Bunting/Painted_Bunting_0099_16525.jpg: 640x640 1 Bird, 23.6ms\n",
            "Speed: 3.9ms preprocess, 23.6ms inference, 1.2ms postprocess per image at shape (1, 3, 640, 640)\n",
            "\n",
            "image 1/1 /content/drive/MyDrive/bdma-07-competition/BDMA7_project_files/train_images/Painted_Bunting/Painted_Bunting_0093_15212.jpg: 640x640 1 Bird, 23.6ms\n",
            "Speed: 3.2ms preprocess, 23.6ms inference, 1.2ms postprocess per image at shape (1, 3, 640, 640)\n"
          ]
        },
        {
          "output_type": "stream",
          "name": "stderr",
          "text": [
            "\rProcessing train_images images:  66%|██████▌   | 715/1082 [00:49<00:24, 14.75it/s]"
          ]
        },
        {
          "output_type": "stream",
          "name": "stdout",
          "text": [
            "\n",
            "image 1/1 /content/drive/MyDrive/bdma-07-competition/BDMA7_project_files/train_images/Painted_Bunting/Painted_Bunting_0091_15198.jpg: 640x640 1 Bird, 29.0ms\n",
            "Speed: 4.4ms preprocess, 29.0ms inference, 1.8ms postprocess per image at shape (1, 3, 640, 640)\n",
            "\n",
            "image 1/1 /content/drive/MyDrive/bdma-07-competition/BDMA7_project_files/train_images/Painted_Bunting/Painted_Bunting_0032_16605.jpg: 640x640 1 Bird, 31.1ms\n",
            "Speed: 4.6ms preprocess, 31.1ms inference, 1.5ms postprocess per image at shape (1, 3, 640, 640)\n"
          ]
        },
        {
          "output_type": "stream",
          "name": "stderr",
          "text": [
            "\rProcessing train_images images:  66%|██████▋   | 717/1082 [00:49<00:26, 14.00it/s]"
          ]
        },
        {
          "output_type": "stream",
          "name": "stdout",
          "text": [
            "\n",
            "image 1/1 /content/drive/MyDrive/bdma-07-competition/BDMA7_project_files/train_images/Painted_Bunting/Painted_Bunting_0011_16690.jpg: 640x640 1 Bird, 27.1ms\n",
            "Speed: 4.3ms preprocess, 27.1ms inference, 1.4ms postprocess per image at shape (1, 3, 640, 640)\n",
            "\n",
            "image 1/1 /content/drive/MyDrive/bdma-07-competition/BDMA7_project_files/train_images/Painted_Bunting/Painted_Bunting_0079_15197.jpg: 640x640 1 Bird, 23.6ms\n",
            "Speed: 3.6ms preprocess, 23.6ms inference, 1.2ms postprocess per image at shape (1, 3, 640, 640)\n"
          ]
        },
        {
          "output_type": "stream",
          "name": "stderr",
          "text": [
            "\rProcessing train_images images:  66%|██████▋   | 719/1082 [00:49<00:26, 13.86it/s]"
          ]
        },
        {
          "output_type": "stream",
          "name": "stdout",
          "text": [
            "\n",
            "image 1/1 /content/drive/MyDrive/bdma-07-competition/BDMA7_project_files/train_images/Painted_Bunting/Painted_Bunting_0080_16534.jpg: 640x640 1 Bird, 23.8ms\n",
            "Speed: 3.8ms preprocess, 23.8ms inference, 1.4ms postprocess per image at shape (1, 3, 640, 640)\n",
            "\n",
            "image 1/1 /content/drive/MyDrive/bdma-07-competition/BDMA7_project_files/train_images/Painted_Bunting/Painted_Bunting_0029_16530.jpg: 640x640 1 Bird, 23.6ms\n",
            "Speed: 4.3ms preprocess, 23.6ms inference, 1.2ms postprocess per image at shape (1, 3, 640, 640)\n"
          ]
        },
        {
          "output_type": "stream",
          "name": "stderr",
          "text": [
            "\rProcessing train_images images:  67%|██████▋   | 721/1082 [00:49<00:25, 14.42it/s]"
          ]
        },
        {
          "output_type": "stream",
          "name": "stdout",
          "text": [
            "\n",
            "image 1/1 /content/drive/MyDrive/bdma-07-competition/BDMA7_project_files/train_images/Painted_Bunting/Painted_Bunting_0060_15224.jpg: 640x640 1 Bird, 25.5ms\n",
            "Speed: 3.9ms preprocess, 25.5ms inference, 1.2ms postprocess per image at shape (1, 3, 640, 640)\n",
            "\n",
            "image 1/1 /content/drive/MyDrive/bdma-07-competition/BDMA7_project_files/train_images/Painted_Bunting/Painted_Bunting_0006_15249.jpg: 640x640 1 Bird, 23.6ms\n",
            "Speed: 3.8ms preprocess, 23.6ms inference, 1.4ms postprocess per image at shape (1, 3, 640, 640)\n"
          ]
        },
        {
          "output_type": "stream",
          "name": "stderr",
          "text": [
            "\rProcessing train_images images:  67%|██████▋   | 723/1082 [00:49<00:31, 11.53it/s]"
          ]
        },
        {
          "output_type": "stream",
          "name": "stdout",
          "text": [
            "\n",
            "image 1/1 /content/drive/MyDrive/bdma-07-competition/BDMA7_project_files/train_images/Painted_Bunting/Painted_Bunting_0066_15241.jpg: 640x640 1 Bird, 34.8ms\n",
            "Speed: 4.7ms preprocess, 34.8ms inference, 2.1ms postprocess per image at shape (1, 3, 640, 640)\n",
            "\n",
            "image 1/1 /content/drive/MyDrive/bdma-07-competition/BDMA7_project_files/train_images/Painted_Bunting/Painted_Bunting_0084_16531.jpg: 640x640 1 Bird, 27.9ms\n",
            "Speed: 3.8ms preprocess, 27.9ms inference, 1.2ms postprocess per image at shape (1, 3, 640, 640)\n"
          ]
        },
        {
          "output_type": "stream",
          "name": "stderr",
          "text": [
            "\rProcessing train_images images:  67%|██████▋   | 725/1082 [00:49<00:30, 11.81it/s]"
          ]
        },
        {
          "output_type": "stream",
          "name": "stdout",
          "text": [
            "\n",
            "image 1/1 /content/drive/MyDrive/bdma-07-competition/BDMA7_project_files/train_images/Painted_Bunting/Painted_Bunting_0081_15230.jpg: 640x640 1 Bird, 27.8ms\n",
            "Speed: 4.2ms preprocess, 27.8ms inference, 1.2ms postprocess per image at shape (1, 3, 640, 640)\n",
            "\n",
            "image 1/1 /content/drive/MyDrive/bdma-07-competition/BDMA7_project_files/train_images/Painted_Bunting/Painted_Bunting_0005_15202.jpg: 640x640 1 Bird, 27.1ms\n",
            "Speed: 3.2ms preprocess, 27.1ms inference, 1.7ms postprocess per image at shape (1, 3, 640, 640)\n"
          ]
        },
        {
          "output_type": "stream",
          "name": "stderr",
          "text": [
            "\rProcessing train_images images:  67%|██████▋   | 727/1082 [00:50<00:29, 11.95it/s]"
          ]
        },
        {
          "output_type": "stream",
          "name": "stdout",
          "text": [
            "\n",
            "image 1/1 /content/drive/MyDrive/bdma-07-competition/BDMA7_project_files/train_images/Painted_Bunting/Painted_Bunting_0058_16719.jpg: 640x640 1 Bird, 33.7ms\n",
            "Speed: 4.7ms preprocess, 33.7ms inference, 1.6ms postprocess per image at shape (1, 3, 640, 640)\n",
            "\n",
            "image 1/1 /content/drive/MyDrive/bdma-07-competition/BDMA7_project_files/train_images/Painted_Bunting/Painted_Bunting_0078_16565.jpg: 640x640 1 Bird, 26.4ms\n",
            "Speed: 3.5ms preprocess, 26.4ms inference, 1.5ms postprocess per image at shape (1, 3, 640, 640)\n"
          ]
        },
        {
          "output_type": "stream",
          "name": "stderr",
          "text": [
            "\rProcessing train_images images:  67%|██████▋   | 729/1082 [00:50<00:28, 12.51it/s]"
          ]
        },
        {
          "output_type": "stream",
          "name": "stdout",
          "text": [
            "\n",
            "image 1/1 /content/drive/MyDrive/bdma-07-competition/BDMA7_project_files/train_images/Painted_Bunting/Painted_Bunting_0085_15282.jpg: 640x640 1 Bird, 26.3ms\n",
            "Speed: 3.9ms preprocess, 26.3ms inference, 1.2ms postprocess per image at shape (1, 3, 640, 640)\n",
            "\n",
            "image 1/1 /content/drive/MyDrive/bdma-07-competition/BDMA7_project_files/train_images/Painted_Bunting/Painted_Bunting_0010_16948.jpg: 640x640 1 Bird, 26.3ms\n",
            "Speed: 3.2ms preprocess, 26.3ms inference, 1.2ms postprocess per image at shape (1, 3, 640, 640)\n"
          ]
        },
        {
          "output_type": "stream",
          "name": "stderr",
          "text": [
            "\rProcessing train_images images:  68%|██████▊   | 731/1082 [00:50<00:26, 13.37it/s]"
          ]
        },
        {
          "output_type": "stream",
          "name": "stdout",
          "text": [
            "\n",
            "image 1/1 /content/drive/MyDrive/bdma-07-competition/BDMA7_project_files/train_images/Painted_Bunting/Painted_Bunting_0086_16540.jpg: 640x640 1 Bird, 26.3ms\n",
            "Speed: 4.1ms preprocess, 26.3ms inference, 1.2ms postprocess per image at shape (1, 3, 640, 640)\n",
            "\n",
            "image 1/1 /content/drive/MyDrive/bdma-07-competition/BDMA7_project_files/train_images/Painted_Bunting/Painted_Bunting_0021_15295.jpg: 640x640 1 Bird, 26.3ms\n",
            "Speed: 3.6ms preprocess, 26.3ms inference, 1.2ms postprocess per image at shape (1, 3, 640, 640)\n"
          ]
        },
        {
          "output_type": "stream",
          "name": "stderr",
          "text": [
            "\rProcessing train_images images:  68%|██████▊   | 733/1082 [00:50<00:24, 13.97it/s]"
          ]
        },
        {
          "output_type": "stream",
          "name": "stdout",
          "text": [
            "\n",
            "image 1/1 /content/drive/MyDrive/bdma-07-competition/BDMA7_project_files/train_images/Painted_Bunting/Painted_Bunting_0053_16404.jpg: 640x640 1 Bird, 26.3ms\n",
            "Speed: 3.9ms preprocess, 26.3ms inference, 1.3ms postprocess per image at shape (1, 3, 640, 640)\n",
            "\n",
            "image 1/1 /content/drive/MyDrive/bdma-07-competition/BDMA7_project_files/train_images/Painted_Bunting/Painted_Bunting_0028_15205.jpg: 640x640 1 Bird, 26.3ms\n",
            "Speed: 3.8ms preprocess, 26.3ms inference, 1.2ms postprocess per image at shape (1, 3, 640, 640)\n"
          ]
        },
        {
          "output_type": "stream",
          "name": "stderr",
          "text": [
            "\rProcessing train_images images:  68%|██████▊   | 735/1082 [00:50<00:24, 14.36it/s]"
          ]
        },
        {
          "output_type": "stream",
          "name": "stdout",
          "text": [
            "\n",
            "image 1/1 /content/drive/MyDrive/bdma-07-competition/BDMA7_project_files/train_images/Painted_Bunting/Painted_Bunting_0040_16691.jpg: 640x640 1 Bird, 26.3ms\n",
            "Speed: 3.9ms preprocess, 26.3ms inference, 1.1ms postprocess per image at shape (1, 3, 640, 640)\n",
            "\n",
            "image 1/1 /content/drive/MyDrive/bdma-07-competition/BDMA7_project_files/train_images/Painted_Bunting/Painted_Bunting_0019_15231.jpg: 640x640 1 Bird, 26.3ms\n",
            "Speed: 3.3ms preprocess, 26.3ms inference, 1.2ms postprocess per image at shape (1, 3, 640, 640)\n"
          ]
        },
        {
          "output_type": "stream",
          "name": "stderr",
          "text": [
            "\rProcessing train_images images:  68%|██████▊   | 737/1082 [00:50<00:23, 14.66it/s]"
          ]
        },
        {
          "output_type": "stream",
          "name": "stdout",
          "text": [
            "\n",
            "image 1/1 /content/drive/MyDrive/bdma-07-competition/BDMA7_project_files/train_images/Painted_Bunting/Painted_Bunting_0076_16765.jpg: 640x640 1 Bird, 27.0ms\n",
            "Speed: 3.8ms preprocess, 27.0ms inference, 1.2ms postprocess per image at shape (1, 3, 640, 640)\n",
            "\n",
            "image 1/1 /content/drive/MyDrive/bdma-07-competition/BDMA7_project_files/train_images/Painted_Bunting/Painted_Bunting_0098_15226.jpg: 640x640 1 Bird, 26.5ms\n",
            "Speed: 3.9ms preprocess, 26.5ms inference, 1.3ms postprocess per image at shape (1, 3, 640, 640)\n"
          ]
        },
        {
          "output_type": "stream",
          "name": "stderr",
          "text": [
            "\rProcessing train_images images:  68%|██████▊   | 739/1082 [00:50<00:24, 14.24it/s]"
          ]
        },
        {
          "output_type": "stream",
          "name": "stdout",
          "text": [
            "\n",
            "image 1/1 /content/drive/MyDrive/bdma-07-competition/BDMA7_project_files/train_images/Painted_Bunting/Painted_Bunting_0039_15235.jpg: 640x640 1 Bird, 26.4ms\n",
            "Speed: 4.0ms preprocess, 26.4ms inference, 1.3ms postprocess per image at shape (1, 3, 640, 640)\n",
            "\n",
            "image 1/1 /content/drive/MyDrive/bdma-07-competition/BDMA7_project_files/train_images/Painted_Bunting/Painted_Bunting_0102_16642.jpg: 640x640 1 Bird, 26.3ms\n",
            "Speed: 3.5ms preprocess, 26.3ms inference, 1.2ms postprocess per image at shape (1, 3, 640, 640)\n"
          ]
        },
        {
          "output_type": "stream",
          "name": "stderr",
          "text": [
            "\rProcessing train_images images:  68%|██████▊   | 741/1082 [00:50<00:23, 14.44it/s]"
          ]
        },
        {
          "output_type": "stream",
          "name": "stdout",
          "text": [
            "\n",
            "image 1/1 /content/drive/MyDrive/bdma-07-competition/BDMA7_project_files/train_images/Painted_Bunting/Painted_Bunting_0036_16563.jpg: 640x640 1 Bird, 26.9ms\n",
            "Speed: 3.9ms preprocess, 26.9ms inference, 1.6ms postprocess per image at shape (1, 3, 640, 640)\n",
            "\n",
            "image 1/1 /content/drive/MyDrive/bdma-07-competition/BDMA7_project_files/train_images/Painted_Bunting/Painted_Bunting_0046_16535.jpg: 640x640 1 Bird, 28.9ms\n",
            "Speed: 4.1ms preprocess, 28.9ms inference, 1.7ms postprocess per image at shape (1, 3, 640, 640)\n"
          ]
        },
        {
          "output_type": "stream",
          "name": "stderr",
          "text": [
            "\rProcessing train_images images:  69%|██████▊   | 743/1082 [00:51<00:23, 14.56it/s]"
          ]
        },
        {
          "output_type": "stream",
          "name": "stdout",
          "text": [
            "\n",
            "image 1/1 /content/drive/MyDrive/bdma-07-competition/BDMA7_project_files/train_images/Painted_Bunting/Painted_Bunting_0077_16819.jpg: 640x640 1 Bird, 28.0ms\n",
            "Speed: 3.8ms preprocess, 28.0ms inference, 1.8ms postprocess per image at shape (1, 3, 640, 640)\n",
            "\n",
            "image 1/1 /content/drive/MyDrive/bdma-07-competition/BDMA7_project_files/train_images/Painted_Bunting/Painted_Bunting_0056_16599.jpg: 640x640 1 Bird, 26.3ms\n",
            "Speed: 3.8ms preprocess, 26.3ms inference, 1.8ms postprocess per image at shape (1, 3, 640, 640)\n"
          ]
        },
        {
          "output_type": "stream",
          "name": "stderr",
          "text": [
            "\rProcessing train_images images:  69%|██████▉   | 745/1082 [00:51<00:23, 14.61it/s]"
          ]
        },
        {
          "output_type": "stream",
          "name": "stdout",
          "text": [
            "\n",
            "image 1/1 /content/drive/MyDrive/bdma-07-competition/BDMA7_project_files/train_images/Painted_Bunting/Painted_Bunting_0050_16670.jpg: 640x640 1 Bird, 30.0ms\n",
            "Speed: 4.1ms preprocess, 30.0ms inference, 1.2ms postprocess per image at shape (1, 3, 640, 640)\n",
            "\n",
            "image 1/1 /content/drive/MyDrive/bdma-07-competition/BDMA7_project_files/train_images/Painted_Bunting/Painted_Bunting_0013_15294.jpg: 640x640 1 Bird, 26.4ms\n",
            "Speed: 4.1ms preprocess, 26.4ms inference, 1.2ms postprocess per image at shape (1, 3, 640, 640)\n"
          ]
        },
        {
          "output_type": "stream",
          "name": "stderr",
          "text": [
            "\rProcessing train_images images:  69%|██████▉   | 747/1082 [00:51<00:22, 14.61it/s]"
          ]
        },
        {
          "output_type": "stream",
          "name": "stdout",
          "text": [
            "\n",
            "image 1/1 /content/drive/MyDrive/bdma-07-competition/BDMA7_project_files/train_images/Painted_Bunting/Painted_Bunting_0016_15200.jpg: 640x640 1 Bird, 26.3ms\n",
            "Speed: 3.9ms preprocess, 26.3ms inference, 1.3ms postprocess per image at shape (1, 3, 640, 640)\n",
            "\n",
            "image 1/1 /content/drive/MyDrive/bdma-07-competition/BDMA7_project_files/train_images/Painted_Bunting/Painted_Bunting_0071_15209.jpg: 640x640 1 Bird, 26.3ms\n",
            "Speed: 4.0ms preprocess, 26.3ms inference, 1.2ms postprocess per image at shape (1, 3, 640, 640)\n"
          ]
        },
        {
          "output_type": "stream",
          "name": "stderr",
          "text": [
            "\rProcessing train_images images:  69%|██████▉   | 749/1082 [00:51<00:22, 14.96it/s]"
          ]
        },
        {
          "output_type": "stream",
          "name": "stdout",
          "text": [
            "\n",
            "image 1/1 /content/drive/MyDrive/bdma-07-competition/BDMA7_project_files/train_images/Painted_Bunting/Painted_Bunting_0083_16587.jpg: 640x640 1 Bird, 27.5ms\n",
            "Speed: 4.8ms preprocess, 27.5ms inference, 1.5ms postprocess per image at shape (1, 3, 640, 640)\n",
            "\n",
            "image 1/1 /content/drive/MyDrive/bdma-07-competition/BDMA7_project_files/train_images/Painted_Bunting/Painted_Bunting_0054_16711.jpg: 640x640 1 Bird, 26.3ms\n",
            "Speed: 3.8ms preprocess, 26.3ms inference, 1.7ms postprocess per image at shape (1, 3, 640, 640)\n"
          ]
        },
        {
          "output_type": "stream",
          "name": "stderr",
          "text": [
            "\rProcessing train_images images:  69%|██████▉   | 751/1082 [00:51<00:22, 14.84it/s]"
          ]
        },
        {
          "output_type": "stream",
          "name": "stdout",
          "text": [
            "\n",
            "image 1/1 /content/drive/MyDrive/bdma-07-competition/BDMA7_project_files/train_images/Painted_Bunting/Painted_Bunting_0009_16674.jpg: 640x640 1 Bird, 35.7ms\n",
            "Speed: 5.4ms preprocess, 35.7ms inference, 2.1ms postprocess per image at shape (1, 3, 640, 640)\n",
            "\n",
            "image 1/1 /content/drive/MyDrive/bdma-07-competition/BDMA7_project_files/train_images/Painted_Bunting/Painted_Bunting_0094_16467.jpg: 640x640 1 Bird, 26.4ms\n",
            "Speed: 4.4ms preprocess, 26.4ms inference, 1.6ms postprocess per image at shape (1, 3, 640, 640)\n"
          ]
        },
        {
          "output_type": "stream",
          "name": "stderr",
          "text": [
            "\rProcessing train_images images:  70%|██████▉   | 753/1082 [00:51<00:25, 12.80it/s]"
          ]
        },
        {
          "output_type": "stream",
          "name": "stdout",
          "text": [
            "\n",
            "image 1/1 /content/drive/MyDrive/bdma-07-competition/BDMA7_project_files/train_images/Painted_Bunting/Painted_Bunting_0072_16697.jpg: 640x640 1 Bird, 27.6ms\n",
            "Speed: 4.1ms preprocess, 27.6ms inference, 1.6ms postprocess per image at shape (1, 3, 640, 640)\n",
            "\n",
            "image 1/1 /content/drive/MyDrive/bdma-07-competition/BDMA7_project_files/train_images/Painted_Bunting/Painted_Bunting_0061_16930.jpg: 640x640 1 Bird, 31.1ms\n",
            "Speed: 6.2ms preprocess, 31.1ms inference, 2.3ms postprocess per image at shape (1, 3, 640, 640)\n"
          ]
        },
        {
          "output_type": "stream",
          "name": "stderr",
          "text": [
            "\rProcessing train_images images:  70%|██████▉   | 755/1082 [00:51<00:25, 12.94it/s]"
          ]
        },
        {
          "output_type": "stream",
          "name": "stdout",
          "text": [
            "\n",
            "image 1/1 /content/drive/MyDrive/bdma-07-competition/BDMA7_project_files/train_images/Painted_Bunting/Painted_Bunting_0044_16557.jpg: 640x640 1 Bird, 80.0ms\n",
            "Speed: 3.9ms preprocess, 80.0ms inference, 2.0ms postprocess per image at shape (1, 3, 640, 640)\n",
            "\n",
            "image 1/1 /content/drive/MyDrive/bdma-07-competition/BDMA7_project_files/train_images/Painted_Bunting/Painted_Bunting_0070_16515.jpg: 640x640 1 Bird, 27.4ms\n",
            "Speed: 5.4ms preprocess, 27.4ms inference, 1.6ms postprocess per image at shape (1, 3, 640, 640)\n"
          ]
        },
        {
          "output_type": "stream",
          "name": "stderr",
          "text": [
            "\rProcessing train_images images:  70%|██████▉   | 757/1082 [00:52<00:28, 11.54it/s]"
          ]
        },
        {
          "output_type": "stream",
          "name": "stdout",
          "text": [
            "\n",
            "image 1/1 /content/drive/MyDrive/bdma-07-competition/BDMA7_project_files/train_images/Painted_Bunting/Painted_Bunting_0096_15233.jpg: 640x640 1 Bird, 31.3ms\n",
            "Speed: 5.0ms preprocess, 31.3ms inference, 1.6ms postprocess per image at shape (1, 3, 640, 640)\n",
            "\n",
            "image 1/1 /content/drive/MyDrive/bdma-07-competition/BDMA7_project_files/train_images/Painted_Bunting/Painted_Bunting_0087_15232.jpg: 640x640 1 Bird, 44.0ms\n",
            "Speed: 4.0ms preprocess, 44.0ms inference, 4.8ms postprocess per image at shape (1, 3, 640, 640)\n"
          ]
        },
        {
          "output_type": "stream",
          "name": "stderr",
          "text": [
            "\rProcessing train_images images:  70%|███████   | 759/1082 [00:52<00:27, 11.88it/s]"
          ]
        },
        {
          "output_type": "stream",
          "name": "stdout",
          "text": [
            "\n",
            "image 1/1 /content/drive/MyDrive/bdma-07-competition/BDMA7_project_files/train_images/Yellow_breasted_Chat/Yellow_Breasted_Chat_0106_22032.jpg: 640x640 (no detections), 27.9ms\n",
            "Speed: 4.0ms preprocess, 27.9ms inference, 0.7ms postprocess per image at shape (1, 3, 640, 640)\n",
            "Warning: No objects detected in /content/drive/MyDrive/bdma-07-competition/BDMA7_project_files/train_images/Yellow_breasted_Chat/Yellow_Breasted_Chat_0106_22032.jpg, skipping cropping.\n",
            "\n",
            "image 1/1 /content/drive/MyDrive/bdma-07-competition/BDMA7_project_files/train_images/Yellow_breasted_Chat/Yellow_Breasted_Chat_0022_21944.jpg: 640x640 1 Bird, 27.4ms\n",
            "Speed: 3.8ms preprocess, 27.4ms inference, 1.7ms postprocess per image at shape (1, 3, 640, 640)\n"
          ]
        },
        {
          "output_type": "stream",
          "name": "stderr",
          "text": [
            "\rProcessing train_images images:  70%|███████   | 761/1082 [00:52<00:24, 13.13it/s]"
          ]
        },
        {
          "output_type": "stream",
          "name": "stdout",
          "text": [
            "\n",
            "image 1/1 /content/drive/MyDrive/bdma-07-competition/BDMA7_project_files/train_images/Yellow_breasted_Chat/Yellow_Breasted_Chat_0008_21856.jpg: 640x640 1 Bird, 27.4ms\n",
            "Speed: 3.8ms preprocess, 27.4ms inference, 1.5ms postprocess per image at shape (1, 3, 640, 640)\n",
            "\n",
            "image 1/1 /content/drive/MyDrive/bdma-07-competition/BDMA7_project_files/train_images/Yellow_breasted_Chat/Yellow_Breasted_Chat_0048_21797.jpg: 640x640 1 Bird, 34.1ms\n",
            "Speed: 4.1ms preprocess, 34.1ms inference, 5.6ms postprocess per image at shape (1, 3, 640, 640)\n"
          ]
        },
        {
          "output_type": "stream",
          "name": "stderr",
          "text": [
            "\rProcessing train_images images:  71%|███████   | 763/1082 [00:52<00:24, 12.82it/s]"
          ]
        },
        {
          "output_type": "stream",
          "name": "stdout",
          "text": [
            "\n",
            "image 1/1 /content/drive/MyDrive/bdma-07-competition/BDMA7_project_files/train_images/Yellow_breasted_Chat/Yellow_Breasted_Chat_0014_21970.jpg: 640x640 1 Bird, 29.7ms\n",
            "Speed: 6.6ms preprocess, 29.7ms inference, 1.8ms postprocess per image at shape (1, 3, 640, 640)\n",
            "\n",
            "image 1/1 /content/drive/MyDrive/bdma-07-competition/BDMA7_project_files/train_images/Yellow_breasted_Chat/Yellow_Breasted_Chat_0089_21804.jpg: 640x640 1 Bird, 26.7ms\n",
            "Speed: 4.0ms preprocess, 26.7ms inference, 1.6ms postprocess per image at shape (1, 3, 640, 640)\n"
          ]
        },
        {
          "output_type": "stream",
          "name": "stderr",
          "text": [
            "\rProcessing train_images images:  71%|███████   | 765/1082 [00:52<00:24, 13.12it/s]"
          ]
        },
        {
          "output_type": "stream",
          "name": "stdout",
          "text": [
            "\n",
            "image 1/1 /content/drive/MyDrive/bdma-07-competition/BDMA7_project_files/train_images/Yellow_breasted_Chat/Yellow_Breasted_Chat_0101_21677.jpg: 640x640 1 Bird, 44.3ms\n",
            "Speed: 4.2ms preprocess, 44.3ms inference, 1.6ms postprocess per image at shape (1, 3, 640, 640)\n",
            "\n",
            "image 1/1 /content/drive/MyDrive/bdma-07-competition/BDMA7_project_files/train_images/Yellow_breasted_Chat/Yellow_Breasted_Chat_0110_21871.jpg: 448x640 (no detections), 23.2ms\n",
            "Speed: 3.2ms preprocess, 23.2ms inference, 0.6ms postprocess per image at shape (1, 3, 448, 640)\n"
          ]
        },
        {
          "output_type": "stream",
          "name": "stderr",
          "text": [
            "\rProcessing train_images images:  71%|███████   | 767/1082 [00:52<00:23, 13.55it/s]"
          ]
        },
        {
          "output_type": "stream",
          "name": "stdout",
          "text": [
            "Warning: No objects detected in /content/drive/MyDrive/bdma-07-competition/BDMA7_project_files/train_images/Yellow_breasted_Chat/Yellow_Breasted_Chat_0110_21871.jpg, skipping cropping.\n",
            "\n",
            "image 1/1 /content/drive/MyDrive/bdma-07-competition/BDMA7_project_files/train_images/Yellow_breasted_Chat/Yellow_Breasted_Chat_0041_21683.jpg: 640x640 1 Bird, 27.8ms\n",
            "Speed: 4.2ms preprocess, 27.8ms inference, 1.8ms postprocess per image at shape (1, 3, 640, 640)\n",
            "\n",
            "image 1/1 /content/drive/MyDrive/bdma-07-competition/BDMA7_project_files/train_images/Yellow_breasted_Chat/Yellow_Breasted_Chat_0001_21928.jpg: 640x640 1 Bird, 32.7ms\n",
            "Speed: 3.9ms preprocess, 32.7ms inference, 3.3ms postprocess per image at shape (1, 3, 640, 640)\n"
          ]
        },
        {
          "output_type": "stream",
          "name": "stderr",
          "text": [
            "\rProcessing train_images images:  71%|███████   | 769/1082 [00:53<00:23, 13.59it/s]"
          ]
        },
        {
          "output_type": "stream",
          "name": "stdout",
          "text": [
            "\n",
            "image 1/1 /content/drive/MyDrive/bdma-07-competition/BDMA7_project_files/train_images/Yellow_breasted_Chat/Yellow_Breasted_Chat_0097_21748.jpg: 640x640 1 Bird, 47.9ms\n",
            "Speed: 8.9ms preprocess, 47.9ms inference, 2.2ms postprocess per image at shape (1, 3, 640, 640)\n",
            "\n",
            "image 1/1 /content/drive/MyDrive/bdma-07-competition/BDMA7_project_files/train_images/Yellow_breasted_Chat/Yellow_Breasted_Chat_0086_21877.jpg: 448x640 (no detections), 27.2ms\n",
            "Speed: 3.2ms preprocess, 27.2ms inference, 0.7ms postprocess per image at shape (1, 3, 448, 640)\n"
          ]
        },
        {
          "output_type": "stream",
          "name": "stderr",
          "text": [
            "\rProcessing train_images images:  71%|███████▏  | 771/1082 [00:53<00:23, 13.12it/s]"
          ]
        },
        {
          "output_type": "stream",
          "name": "stdout",
          "text": [
            "Warning: No objects detected in /content/drive/MyDrive/bdma-07-competition/BDMA7_project_files/train_images/Yellow_breasted_Chat/Yellow_Breasted_Chat_0086_21877.jpg, skipping cropping.\n",
            "\n",
            "image 1/1 /content/drive/MyDrive/bdma-07-competition/BDMA7_project_files/train_images/Yellow_breasted_Chat/Yellow_Breasted_Chat_0107_21698.jpg: 640x640 1 Bird, 30.5ms\n",
            "Speed: 4.0ms preprocess, 30.5ms inference, 1.6ms postprocess per image at shape (1, 3, 640, 640)\n",
            "\n",
            "image 1/1 /content/drive/MyDrive/bdma-07-competition/BDMA7_project_files/train_images/Yellow_breasted_Chat/Yellow_Breasted_Chat_0081_21829.jpg: 640x640 1 Bird, 37.5ms\n",
            "Speed: 4.2ms preprocess, 37.5ms inference, 1.5ms postprocess per image at shape (1, 3, 640, 640)\n"
          ]
        },
        {
          "output_type": "stream",
          "name": "stderr",
          "text": [
            "\rProcessing train_images images:  71%|███████▏  | 773/1082 [00:53<00:23, 13.05it/s]"
          ]
        },
        {
          "output_type": "stream",
          "name": "stdout",
          "text": [
            "\n",
            "image 1/1 /content/drive/MyDrive/bdma-07-competition/BDMA7_project_files/train_images/Yellow_breasted_Chat/Yellow_Breasted_Chat_0034_21955.jpg: 640x640 1 Bird, 29.5ms\n",
            "Speed: 4.0ms preprocess, 29.5ms inference, 1.9ms postprocess per image at shape (1, 3, 640, 640)\n",
            "\n",
            "image 1/1 /content/drive/MyDrive/bdma-07-competition/BDMA7_project_files/train_images/Yellow_breasted_Chat/Yellow_Breasted_Chat_0033_21873.jpg: 640x640 1 Bird, 34.9ms\n",
            "Speed: 4.0ms preprocess, 34.9ms inference, 2.0ms postprocess per image at shape (1, 3, 640, 640)\n"
          ]
        },
        {
          "output_type": "stream",
          "name": "stderr",
          "text": [
            "\rProcessing train_images images:  72%|███████▏  | 775/1082 [00:53<00:23, 12.90it/s]"
          ]
        },
        {
          "output_type": "stream",
          "name": "stdout",
          "text": [
            "\n",
            "image 1/1 /content/drive/MyDrive/bdma-07-competition/BDMA7_project_files/train_images/Yellow_breasted_Chat/Yellow_Breasted_Chat_0052_21866.jpg: 640x640 1 Bird, 34.3ms\n",
            "Speed: 3.8ms preprocess, 34.3ms inference, 1.8ms postprocess per image at shape (1, 3, 640, 640)\n",
            "\n",
            "image 1/1 /content/drive/MyDrive/bdma-07-competition/BDMA7_project_files/train_images/Yellow_breasted_Chat/Yellow_Breasted_Chat_0073_21932.jpg: 480x640 (no detections), 36.3ms\n",
            "Speed: 7.6ms preprocess, 36.3ms inference, 0.7ms postprocess per image at shape (1, 3, 480, 640)\n"
          ]
        },
        {
          "output_type": "stream",
          "name": "stderr",
          "text": [
            "\rProcessing train_images images:  72%|███████▏  | 777/1082 [00:53<00:24, 12.61it/s]"
          ]
        },
        {
          "output_type": "stream",
          "name": "stdout",
          "text": [
            "Warning: No objects detected in /content/drive/MyDrive/bdma-07-competition/BDMA7_project_files/train_images/Yellow_breasted_Chat/Yellow_Breasted_Chat_0073_21932.jpg, skipping cropping.\n",
            "\n",
            "image 1/1 /content/drive/MyDrive/bdma-07-competition/BDMA7_project_files/train_images/Yellow_breasted_Chat/Yellow_Breasted_Chat_0077_21986.jpg: 640x640 1 Bird, 37.6ms\n",
            "Speed: 3.9ms preprocess, 37.6ms inference, 1.6ms postprocess per image at shape (1, 3, 640, 640)\n",
            "\n",
            "image 1/1 /content/drive/MyDrive/bdma-07-competition/BDMA7_project_files/train_images/Yellow_breasted_Chat/Yellow_Breasted_Chat_0072_21830.jpg: 640x640 1 Bird, 29.1ms\n",
            "Speed: 3.9ms preprocess, 29.1ms inference, 1.5ms postprocess per image at shape (1, 3, 640, 640)\n"
          ]
        },
        {
          "output_type": "stream",
          "name": "stderr",
          "text": [
            "\rProcessing train_images images:  72%|███████▏  | 779/1082 [00:53<00:24, 12.32it/s]"
          ]
        },
        {
          "output_type": "stream",
          "name": "stdout",
          "text": [
            "\n",
            "image 1/1 /content/drive/MyDrive/bdma-07-competition/BDMA7_project_files/train_images/Yellow_breasted_Chat/Yellow_Breasted_Chat_0044_22106.jpg: 640x640 1 Bird, 26.3ms\n",
            "Speed: 4.0ms preprocess, 26.3ms inference, 1.4ms postprocess per image at shape (1, 3, 640, 640)\n",
            "\n",
            "image 1/1 /content/drive/MyDrive/bdma-07-competition/BDMA7_project_files/train_images/Yellow_breasted_Chat/Yellow_Breasted_Chat_0079_21978.jpg: 640x640 1 Bird, 33.1ms\n",
            "Speed: 3.8ms preprocess, 33.1ms inference, 2.0ms postprocess per image at shape (1, 3, 640, 640)\n"
          ]
        },
        {
          "output_type": "stream",
          "name": "stderr",
          "text": [
            "\rProcessing train_images images:  72%|███████▏  | 781/1082 [00:54<00:24, 12.36it/s]"
          ]
        },
        {
          "output_type": "stream",
          "name": "stdout",
          "text": [
            "\n",
            "image 1/1 /content/drive/MyDrive/bdma-07-competition/BDMA7_project_files/train_images/Yellow_breasted_Chat/Yellow_Breasted_Chat_0065_22137.jpg: 640x640 1 Bird, 40.0ms\n",
            "Speed: 5.4ms preprocess, 40.0ms inference, 2.0ms postprocess per image at shape (1, 3, 640, 640)\n",
            "\n",
            "image 1/1 /content/drive/MyDrive/bdma-07-competition/BDMA7_project_files/train_images/Yellow_breasted_Chat/Yellow_Breasted_Chat_0026_21845.jpg: 640x640 1 Bird, 31.0ms\n",
            "Speed: 4.0ms preprocess, 31.0ms inference, 1.6ms postprocess per image at shape (1, 3, 640, 640)\n"
          ]
        },
        {
          "output_type": "stream",
          "name": "stderr",
          "text": [
            "\rProcessing train_images images:  72%|███████▏  | 783/1082 [00:54<00:24, 12.16it/s]"
          ]
        },
        {
          "output_type": "stream",
          "name": "stdout",
          "text": [
            "\n",
            "image 1/1 /content/drive/MyDrive/bdma-07-competition/BDMA7_project_files/train_images/Yellow_breasted_Chat/Yellow_Breasted_Chat_0084_22082.jpg: 640x640 1 Bird, 26.4ms\n",
            "Speed: 3.4ms preprocess, 26.4ms inference, 3.1ms postprocess per image at shape (1, 3, 640, 640)\n",
            "\n",
            "image 1/1 /content/drive/MyDrive/bdma-07-competition/BDMA7_project_files/train_images/Yellow_breasted_Chat/Yellow_Breasted_Chat_0032_21823.jpg: 640x640 1 Bird, 26.4ms\n",
            "Speed: 4.1ms preprocess, 26.4ms inference, 1.7ms postprocess per image at shape (1, 3, 640, 640)\n"
          ]
        },
        {
          "output_type": "stream",
          "name": "stderr",
          "text": [
            "\rProcessing train_images images:  73%|███████▎  | 785/1082 [00:54<00:23, 12.75it/s]"
          ]
        },
        {
          "output_type": "stream",
          "name": "stdout",
          "text": [
            "\n",
            "image 1/1 /content/drive/MyDrive/bdma-07-competition/BDMA7_project_files/train_images/Yellow_breasted_Chat/Yellow_Breasted_Chat_0013_22008.jpg: 640x640 1 Bird, 26.3ms\n",
            "Speed: 4.0ms preprocess, 26.3ms inference, 1.8ms postprocess per image at shape (1, 3, 640, 640)\n",
            "\n",
            "image 1/1 /content/drive/MyDrive/bdma-07-competition/BDMA7_project_files/train_images/Yellow_breasted_Chat/Yellow_Breasted_Chat_0098_21987.jpg: 640x640 1 Bird, 28.4ms\n",
            "Speed: 5.6ms preprocess, 28.4ms inference, 1.6ms postprocess per image at shape (1, 3, 640, 640)\n"
          ]
        },
        {
          "output_type": "stream",
          "name": "stderr",
          "text": [
            "\rProcessing train_images images:  73%|███████▎  | 787/1082 [00:54<00:24, 12.22it/s]"
          ]
        },
        {
          "output_type": "stream",
          "name": "stdout",
          "text": [
            "\n",
            "image 1/1 /content/drive/MyDrive/bdma-07-competition/BDMA7_project_files/train_images/Yellow_breasted_Chat/Yellow_Breasted_Chat_0005_21828.jpg: 640x640 1 Bird, 31.7ms\n",
            "Speed: 5.9ms preprocess, 31.7ms inference, 1.7ms postprocess per image at shape (1, 3, 640, 640)\n",
            "\n",
            "image 1/1 /content/drive/MyDrive/bdma-07-competition/BDMA7_project_files/train_images/Yellow_breasted_Chat/Yellow_Breasted_Chat_0102_21696.jpg: 640x640 1 Bird, 29.6ms\n",
            "Speed: 4.1ms preprocess, 29.6ms inference, 1.6ms postprocess per image at shape (1, 3, 640, 640)\n"
          ]
        },
        {
          "output_type": "stream",
          "name": "stderr",
          "text": [
            "\rProcessing train_images images:  73%|███████▎  | 789/1082 [00:54<00:24, 12.11it/s]"
          ]
        },
        {
          "output_type": "stream",
          "name": "stdout",
          "text": [
            "\n",
            "image 1/1 /content/drive/MyDrive/bdma-07-competition/BDMA7_project_files/train_images/Yellow_breasted_Chat/Yellow_Breasted_Chat_0091_22111.jpg: 640x640 1 Bird, 33.8ms\n",
            "Speed: 4.2ms preprocess, 33.8ms inference, 2.0ms postprocess per image at shape (1, 3, 640, 640)\n",
            "\n",
            "image 1/1 /content/drive/MyDrive/bdma-07-competition/BDMA7_project_files/train_images/Yellow_breasted_Chat/Yellow_Breasted_Chat_0029_22017.jpg: 640x640 2 Birds, 26.9ms\n",
            "Speed: 4.0ms preprocess, 26.9ms inference, 1.5ms postprocess per image at shape (1, 3, 640, 640)\n"
          ]
        },
        {
          "output_type": "stream",
          "name": "stderr",
          "text": [
            "\rProcessing train_images images:  73%|███████▎  | 791/1082 [00:54<00:23, 12.36it/s]"
          ]
        },
        {
          "output_type": "stream",
          "name": "stdout",
          "text": [
            "\n",
            "image 1/1 /content/drive/MyDrive/bdma-07-competition/BDMA7_project_files/train_images/Yellow_breasted_Chat/Yellow_Breasted_Chat_0071_22129.jpg: 640x640 1 Bird, 29.5ms\n",
            "Speed: 3.9ms preprocess, 29.5ms inference, 1.8ms postprocess per image at shape (1, 3, 640, 640)\n",
            "\n",
            "image 1/1 /content/drive/MyDrive/bdma-07-competition/BDMA7_project_files/train_images/Yellow_breasted_Chat/Yellow_Breasted_Chat_0094_21693.jpg: 640x640 1 Bird, 26.9ms\n",
            "Speed: 4.1ms preprocess, 26.9ms inference, 1.9ms postprocess per image at shape (1, 3, 640, 640)\n"
          ]
        },
        {
          "output_type": "stream",
          "name": "stderr",
          "text": [
            "\rProcessing train_images images:  73%|███████▎  | 793/1082 [00:55<00:23, 12.19it/s]"
          ]
        },
        {
          "output_type": "stream",
          "name": "stdout",
          "text": [
            "\n",
            "image 1/1 /content/drive/MyDrive/bdma-07-competition/BDMA7_project_files/train_images/Yellow_breasted_Chat/Yellow_Breasted_Chat_0103_21670.jpg: 640x640 1 Bird, 36.6ms\n",
            "Speed: 5.8ms preprocess, 36.6ms inference, 2.8ms postprocess per image at shape (1, 3, 640, 640)\n",
            "\n",
            "image 1/1 /content/drive/MyDrive/bdma-07-competition/BDMA7_project_files/train_images/Yellow_breasted_Chat/Yellow_Breasted_Chat_0035_21870.jpg: 608x640 (no detections), 38.3ms\n",
            "Speed: 4.3ms preprocess, 38.3ms inference, 1.3ms postprocess per image at shape (1, 3, 608, 640)\n"
          ]
        },
        {
          "output_type": "stream",
          "name": "stderr",
          "text": [
            "\rProcessing train_images images:  73%|███████▎  | 795/1082 [00:55<00:23, 12.07it/s]"
          ]
        },
        {
          "output_type": "stream",
          "name": "stdout",
          "text": [
            "Warning: No objects detected in /content/drive/MyDrive/bdma-07-competition/BDMA7_project_files/train_images/Yellow_breasted_Chat/Yellow_Breasted_Chat_0035_21870.jpg, skipping cropping.\n",
            "\n",
            "image 1/1 /content/drive/MyDrive/bdma-07-competition/BDMA7_project_files/train_images/Yellow_breasted_Chat/Yellow_Breasted_Chat_0058_21864.jpg: 640x640 1 Bird, 34.0ms\n",
            "Speed: 5.1ms preprocess, 34.0ms inference, 2.2ms postprocess per image at shape (1, 3, 640, 640)\n",
            "\n",
            "image 1/1 /content/drive/MyDrive/bdma-07-competition/BDMA7_project_files/train_images/Yellow_breasted_Chat/Yellow_Breasted_Chat_0039_21654.jpg: 640x640 1 Bird, 31.3ms\n",
            "Speed: 4.1ms preprocess, 31.3ms inference, 1.5ms postprocess per image at shape (1, 3, 640, 640)\n"
          ]
        },
        {
          "output_type": "stream",
          "name": "stderr",
          "text": [
            "\rProcessing train_images images:  74%|███████▎  | 797/1082 [00:55<00:23, 11.93it/s]"
          ]
        },
        {
          "output_type": "stream",
          "name": "stdout",
          "text": [
            "\n",
            "image 1/1 /content/drive/MyDrive/bdma-07-competition/BDMA7_project_files/train_images/Yellow_breasted_Chat/Yellow_Breasted_Chat_0090_21931.jpg: 640x640 1 Bird, 35.3ms\n",
            "Speed: 3.9ms preprocess, 35.3ms inference, 4.0ms postprocess per image at shape (1, 3, 640, 640)\n",
            "\n",
            "image 1/1 /content/drive/MyDrive/bdma-07-competition/BDMA7_project_files/train_images/Yellow_breasted_Chat/Yellow_Breasted_Chat_0002_21819.jpg: 640x640 1 Bird, 35.5ms\n",
            "Speed: 5.8ms preprocess, 35.5ms inference, 1.9ms postprocess per image at shape (1, 3, 640, 640)\n"
          ]
        },
        {
          "output_type": "stream",
          "name": "stderr",
          "text": [
            "\rProcessing train_images images:  74%|███████▍  | 799/1082 [00:55<00:24, 11.48it/s]"
          ]
        },
        {
          "output_type": "stream",
          "name": "stdout",
          "text": [
            "\n",
            "image 1/1 /content/drive/MyDrive/bdma-07-competition/BDMA7_project_files/train_images/Yellow_breasted_Chat/Yellow_Breasted_Chat_0109_21796.jpg: 640x640 1 Bird, 29.7ms\n",
            "Speed: 4.4ms preprocess, 29.7ms inference, 1.6ms postprocess per image at shape (1, 3, 640, 640)\n",
            "\n",
            "image 1/1 /content/drive/MyDrive/bdma-07-competition/BDMA7_project_files/train_images/Yellow_breasted_Chat/Yellow_Breasted_Chat_0061_21967.jpg: 640x640 1 Bird, 29.0ms\n",
            "Speed: 4.1ms preprocess, 29.0ms inference, 1.8ms postprocess per image at shape (1, 3, 640, 640)\n"
          ]
        },
        {
          "output_type": "stream",
          "name": "stderr",
          "text": [
            "\rProcessing train_images images:  74%|███████▍  | 801/1082 [00:55<00:23, 12.06it/s]"
          ]
        },
        {
          "output_type": "stream",
          "name": "stdout",
          "text": [
            "\n",
            "image 1/1 /content/drive/MyDrive/bdma-07-competition/BDMA7_project_files/train_images/Yellow_breasted_Chat/Yellow_Breasted_Chat_0062_21673.jpg: 640x640 1 Bird, 28.6ms\n",
            "Speed: 4.3ms preprocess, 28.6ms inference, 1.5ms postprocess per image at shape (1, 3, 640, 640)\n",
            "\n",
            "image 1/1 /content/drive/MyDrive/bdma-07-competition/BDMA7_project_files/train_images/Yellow_breasted_Chat/Yellow_Breasted_Chat_0011_21820.jpg: 640x640 1 Bird, 29.6ms\n",
            "Speed: 4.1ms preprocess, 29.6ms inference, 2.0ms postprocess per image at shape (1, 3, 640, 640)\n"
          ]
        },
        {
          "output_type": "stream",
          "name": "stderr",
          "text": [
            "\rProcessing train_images images:  74%|███████▍  | 803/1082 [00:55<00:24, 11.46it/s]"
          ]
        },
        {
          "output_type": "stream",
          "name": "stdout",
          "text": [
            "\n",
            "image 1/1 /content/drive/MyDrive/bdma-07-competition/BDMA7_project_files/train_images/Yellow_breasted_Chat/Yellow_Breasted_Chat_0010_21777.jpg: 640x640 2 Birds, 36.4ms\n",
            "Speed: 3.8ms preprocess, 36.4ms inference, 1.8ms postprocess per image at shape (1, 3, 640, 640)\n",
            "\n",
            "image 1/1 /content/drive/MyDrive/bdma-07-competition/BDMA7_project_files/train_images/Yellow_breasted_Chat/Yellow_Breasted_Chat_0095_21832.jpg: 640x640 1 Bird, 33.3ms\n",
            "Speed: 4.8ms preprocess, 33.3ms inference, 2.0ms postprocess per image at shape (1, 3, 640, 640)\n"
          ]
        },
        {
          "output_type": "stream",
          "name": "stderr",
          "text": [
            "\rProcessing train_images images:  74%|███████▍  | 805/1082 [00:56<00:24, 11.33it/s]"
          ]
        },
        {
          "output_type": "stream",
          "name": "stdout",
          "text": [
            "\n",
            "image 1/1 /content/drive/MyDrive/bdma-07-competition/BDMA7_project_files/train_images/Yellow_breasted_Chat/Yellow_Breasted_Chat_0063_21783.jpg: 640x640 1 Bird, 47.5ms\n",
            "Speed: 3.6ms preprocess, 47.5ms inference, 2.0ms postprocess per image at shape (1, 3, 640, 640)\n",
            "\n",
            "image 1/1 /content/drive/MyDrive/bdma-07-competition/BDMA7_project_files/train_images/Yellow_breasted_Chat/Yellow_Breasted_Chat_0012_21961.jpg: 640x640 1 Bird, 29.3ms\n",
            "Speed: 4.0ms preprocess, 29.3ms inference, 1.8ms postprocess per image at shape (1, 3, 640, 640)\n"
          ]
        },
        {
          "output_type": "stream",
          "name": "stderr",
          "text": [
            "\rProcessing train_images images:  75%|███████▍  | 807/1082 [00:56<00:24, 11.03it/s]"
          ]
        },
        {
          "output_type": "stream",
          "name": "stdout",
          "text": [
            "\n",
            "image 1/1 /content/drive/MyDrive/bdma-07-competition/BDMA7_project_files/train_images/Yellow_breasted_Chat/Yellow_Breasted_Chat_0066_21839.jpg: 640x640 1 Bird, 41.5ms\n",
            "Speed: 4.1ms preprocess, 41.5ms inference, 1.6ms postprocess per image at shape (1, 3, 640, 640)\n",
            "\n",
            "image 1/1 /content/drive/MyDrive/bdma-07-competition/BDMA7_project_files/train_images/Yellow_breasted_Chat/Yellow_Breasted_Chat_0105_21714.jpg: 640x640 1 Bird, 29.7ms\n",
            "Speed: 3.8ms preprocess, 29.7ms inference, 1.6ms postprocess per image at shape (1, 3, 640, 640)\n"
          ]
        },
        {
          "output_type": "stream",
          "name": "stderr",
          "text": [
            "\rProcessing train_images images:  75%|███████▍  | 809/1082 [00:56<00:24, 11.32it/s]"
          ]
        },
        {
          "output_type": "stream",
          "name": "stdout",
          "text": [
            "\n",
            "image 1/1 /content/drive/MyDrive/bdma-07-competition/BDMA7_project_files/train_images/Yellow_breasted_Chat/Yellow_Breasted_Chat_0100_21913.jpg: 640x640 1 Bird, 31.8ms\n",
            "Speed: 4.2ms preprocess, 31.8ms inference, 1.8ms postprocess per image at shape (1, 3, 640, 640)\n",
            "\n",
            "image 1/1 /content/drive/MyDrive/bdma-07-competition/BDMA7_project_files/train_images/Rusty_Blackbird/Rusty_Blackbird_0073_6744.jpg: 640x640 1 Bird, 31.6ms\n",
            "Speed: 7.5ms preprocess, 31.6ms inference, 1.8ms postprocess per image at shape (1, 3, 640, 640)\n"
          ]
        },
        {
          "output_type": "stream",
          "name": "stderr",
          "text": [
            "\rProcessing train_images images:  75%|███████▍  | 811/1082 [00:56<00:23, 11.57it/s]"
          ]
        },
        {
          "output_type": "stream",
          "name": "stdout",
          "text": [
            "\n",
            "image 1/1 /content/drive/MyDrive/bdma-07-competition/BDMA7_project_files/train_images/Rusty_Blackbird/Rusty_Blackbird_0026_6768.jpg: 640x640 1 Bird, 32.0ms\n",
            "Speed: 5.0ms preprocess, 32.0ms inference, 3.9ms postprocess per image at shape (1, 3, 640, 640)\n",
            "\n",
            "image 1/1 /content/drive/MyDrive/bdma-07-competition/BDMA7_project_files/train_images/Rusty_Blackbird/Rusty_Blackbird_0054_6676.jpg: 640x640 1 Bird, 32.4ms\n",
            "Speed: 5.8ms preprocess, 32.4ms inference, 2.2ms postprocess per image at shape (1, 3, 640, 640)\n"
          ]
        },
        {
          "output_type": "stream",
          "name": "stderr",
          "text": [
            "\rProcessing train_images images:  75%|███████▌  | 813/1082 [00:56<00:23, 11.49it/s]"
          ]
        },
        {
          "output_type": "stream",
          "name": "stdout",
          "text": [
            "\n",
            "image 1/1 /content/drive/MyDrive/bdma-07-competition/BDMA7_project_files/train_images/Rusty_Blackbird/Rusty_Blackbird_0015_6885.jpg: 640x640 1 Bird, 28.9ms\n",
            "Speed: 7.0ms preprocess, 28.9ms inference, 1.8ms postprocess per image at shape (1, 3, 640, 640)\n",
            "\n",
            "image 1/1 /content/drive/MyDrive/bdma-07-competition/BDMA7_project_files/train_images/Rusty_Blackbird/Rusty_Blackbird_0111_3220.jpg: 640x640 1 Bird, 57.0ms\n",
            "Speed: 4.1ms preprocess, 57.0ms inference, 1.9ms postprocess per image at shape (1, 3, 640, 640)\n"
          ]
        },
        {
          "output_type": "stream",
          "name": "stderr",
          "text": [
            "\rProcessing train_images images:  75%|███████▌  | 815/1082 [00:56<00:24, 10.86it/s]"
          ]
        },
        {
          "output_type": "stream",
          "name": "stdout",
          "text": [
            "\n",
            "image 1/1 /content/drive/MyDrive/bdma-07-competition/BDMA7_project_files/train_images/Rusty_Blackbird/Rusty_Blackbird_0085_6713.jpg: 640x640 1 Bird, 41.4ms\n",
            "Speed: 4.0ms preprocess, 41.4ms inference, 3.8ms postprocess per image at shape (1, 3, 640, 640)\n",
            "\n",
            "image 1/1 /content/drive/MyDrive/bdma-07-competition/BDMA7_project_files/train_images/Rusty_Blackbird/Rusty_Blackbird_0001_6548.jpg: 640x640 1 Bird, 28.5ms\n",
            "Speed: 4.1ms preprocess, 28.5ms inference, 1.6ms postprocess per image at shape (1, 3, 640, 640)\n"
          ]
        },
        {
          "output_type": "stream",
          "name": "stderr",
          "text": [
            "\rProcessing train_images images:  76%|███████▌  | 817/1082 [00:57<00:23, 11.14it/s]"
          ]
        },
        {
          "output_type": "stream",
          "name": "stdout",
          "text": [
            "\n",
            "image 1/1 /content/drive/MyDrive/bdma-07-competition/BDMA7_project_files/train_images/Rusty_Blackbird/Rusty_Blackbird_0027_6593.jpg: 640x640 1 Bird, 29.4ms\n",
            "Speed: 3.9ms preprocess, 29.4ms inference, 1.7ms postprocess per image at shape (1, 3, 640, 640)\n",
            "\n",
            "image 1/1 /content/drive/MyDrive/bdma-07-competition/BDMA7_project_files/train_images/Rusty_Blackbird/Rusty_Blackbird_0057_6935.jpg: 640x640 1 Bird, 36.0ms\n",
            "Speed: 4.3ms preprocess, 36.0ms inference, 1.2ms postprocess per image at shape (1, 3, 640, 640)\n"
          ]
        },
        {
          "output_type": "stream",
          "name": "stderr",
          "text": [
            "\rProcessing train_images images:  76%|███████▌  | 819/1082 [00:57<00:22, 11.81it/s]"
          ]
        },
        {
          "output_type": "stream",
          "name": "stdout",
          "text": [
            "\n",
            "image 1/1 /content/drive/MyDrive/bdma-07-competition/BDMA7_project_files/train_images/Rusty_Blackbird/Rusty_Blackbird_0020_6679.jpg: 640x640 1 Bird, 28.5ms\n",
            "Speed: 4.0ms preprocess, 28.5ms inference, 1.2ms postprocess per image at shape (1, 3, 640, 640)\n",
            "\n",
            "image 1/1 /content/drive/MyDrive/bdma-07-competition/BDMA7_project_files/train_images/Rusty_Blackbird/Rusty_Blackbird_0019_6704.jpg: 640x640 1 Bird, 28.5ms\n",
            "Speed: 3.7ms preprocess, 28.5ms inference, 1.2ms postprocess per image at shape (1, 3, 640, 640)\n"
          ]
        },
        {
          "output_type": "stream",
          "name": "stderr",
          "text": [
            "\rProcessing train_images images:  76%|███████▌  | 821/1082 [00:57<00:20, 12.63it/s]"
          ]
        },
        {
          "output_type": "stream",
          "name": "stdout",
          "text": [
            "\n",
            "image 1/1 /content/drive/MyDrive/bdma-07-competition/BDMA7_project_files/train_images/Rusty_Blackbird/Rusty_Blackbird_0108_6867.jpg: 640x640 1 Bird, 27.4ms\n",
            "Speed: 4.3ms preprocess, 27.4ms inference, 1.6ms postprocess per image at shape (1, 3, 640, 640)\n",
            "\n",
            "image 1/1 /content/drive/MyDrive/bdma-07-competition/BDMA7_project_files/train_images/Rusty_Blackbird/Rusty_Blackbird_0094_6582.jpg: 640x640 1 Bird, 27.3ms\n",
            "Speed: 4.3ms preprocess, 27.3ms inference, 2.0ms postprocess per image at shape (1, 3, 640, 640)\n"
          ]
        },
        {
          "output_type": "stream",
          "name": "stderr",
          "text": [
            "\rProcessing train_images images:  76%|███████▌  | 823/1082 [00:57<00:19, 13.14it/s]"
          ]
        },
        {
          "output_type": "stream",
          "name": "stdout",
          "text": [
            "\n",
            "image 1/1 /content/drive/MyDrive/bdma-07-competition/BDMA7_project_files/train_images/Rusty_Blackbird/Rusty_Blackbird_0006_6633.jpg: 640x640 1 Bird, 26.6ms\n",
            "Speed: 4.0ms preprocess, 26.6ms inference, 1.2ms postprocess per image at shape (1, 3, 640, 640)\n",
            "\n",
            "image 1/1 /content/drive/MyDrive/bdma-07-competition/BDMA7_project_files/train_images/Rusty_Blackbird/Rusty_Blackbird_0017_6755.jpg: 640x640 1 Bird, 26.9ms\n",
            "Speed: 4.2ms preprocess, 26.9ms inference, 1.2ms postprocess per image at shape (1, 3, 640, 640)\n"
          ]
        },
        {
          "output_type": "stream",
          "name": "stderr",
          "text": [
            "\rProcessing train_images images:  76%|███████▌  | 825/1082 [00:57<00:19, 13.39it/s]"
          ]
        },
        {
          "output_type": "stream",
          "name": "stdout",
          "text": [
            "\n",
            "image 1/1 /content/drive/MyDrive/bdma-07-competition/BDMA7_project_files/train_images/Rusty_Blackbird/Rusty_Blackbird_0092_2727.jpg: 640x640 1 Bird, 28.0ms\n",
            "Speed: 4.4ms preprocess, 28.0ms inference, 1.3ms postprocess per image at shape (1, 3, 640, 640)\n",
            "\n",
            "image 1/1 /content/drive/MyDrive/bdma-07-competition/BDMA7_project_files/train_images/Rusty_Blackbird/Rusty_Blackbird_0105_6937.jpg: 640x640 1 Bird, 26.3ms\n",
            "Speed: 3.8ms preprocess, 26.3ms inference, 1.2ms postprocess per image at shape (1, 3, 640, 640)\n"
          ]
        },
        {
          "output_type": "stream",
          "name": "stderr",
          "text": [
            "\rProcessing train_images images:  76%|███████▋  | 827/1082 [00:57<00:19, 12.87it/s]"
          ]
        },
        {
          "output_type": "stream",
          "name": "stdout",
          "text": [
            "\n",
            "image 1/1 /content/drive/MyDrive/bdma-07-competition/BDMA7_project_files/train_images/Rusty_Blackbird/Rusty_Blackbird_0114_6760.jpg: 640x640 1 Bird, 28.4ms\n",
            "Speed: 3.9ms preprocess, 28.4ms inference, 1.7ms postprocess per image at shape (1, 3, 640, 640)\n",
            "\n",
            "image 1/1 /content/drive/MyDrive/bdma-07-competition/BDMA7_project_files/train_images/Rusty_Blackbird/Rusty_Blackbird_0120_6762.jpg: 640x640 1 Bird, 26.7ms\n",
            "Speed: 3.9ms preprocess, 26.7ms inference, 1.4ms postprocess per image at shape (1, 3, 640, 640)\n"
          ]
        },
        {
          "output_type": "stream",
          "name": "stderr",
          "text": [
            "\rProcessing train_images images:  77%|███████▋  | 829/1082 [00:58<00:19, 13.14it/s]"
          ]
        },
        {
          "output_type": "stream",
          "name": "stdout",
          "text": [
            "\n",
            "image 1/1 /content/drive/MyDrive/bdma-07-competition/BDMA7_project_files/train_images/Rusty_Blackbird/Rusty_Blackbird_0023_6752.jpg: 640x640 1 Bird, 30.6ms\n",
            "Speed: 4.6ms preprocess, 30.6ms inference, 2.8ms postprocess per image at shape (1, 3, 640, 640)\n",
            "\n",
            "image 1/1 /content/drive/MyDrive/bdma-07-competition/BDMA7_project_files/train_images/Rusty_Blackbird/Rusty_Blackbird_0009_6853.jpg: 640x640 1 Bird, 26.3ms\n",
            "Speed: 4.3ms preprocess, 26.3ms inference, 1.6ms postprocess per image at shape (1, 3, 640, 640)\n"
          ]
        },
        {
          "output_type": "stream",
          "name": "stderr",
          "text": [
            "\rProcessing train_images images:  77%|███████▋  | 831/1082 [00:58<00:19, 13.17it/s]"
          ]
        },
        {
          "output_type": "stream",
          "name": "stdout",
          "text": [
            "\n",
            "image 1/1 /content/drive/MyDrive/bdma-07-competition/BDMA7_project_files/train_images/Rusty_Blackbird/Rusty_Blackbird_0112_3415.jpg: 640x640 1 Bird, 27.0ms\n",
            "Speed: 4.0ms preprocess, 27.0ms inference, 1.3ms postprocess per image at shape (1, 3, 640, 640)\n",
            "\n",
            "image 1/1 /content/drive/MyDrive/bdma-07-competition/BDMA7_project_files/train_images/Rusty_Blackbird/Rusty_Blackbird_0031_6699.jpg: 544x640 1 Bird, 25.9ms\n",
            "Speed: 4.3ms preprocess, 25.9ms inference, 1.1ms postprocess per image at shape (1, 3, 544, 640)\n"
          ]
        },
        {
          "output_type": "stream",
          "name": "stderr",
          "text": [
            "\rProcessing train_images images:  77%|███████▋  | 833/1082 [00:58<00:18, 13.73it/s]"
          ]
        },
        {
          "output_type": "stream",
          "name": "stdout",
          "text": [
            "\n",
            "image 1/1 /content/drive/MyDrive/bdma-07-competition/BDMA7_project_files/train_images/Rusty_Blackbird/Rusty_Blackbird_0100_6597.jpg: 576x640 1 Bird, 46.6ms\n",
            "Speed: 3.7ms preprocess, 46.6ms inference, 1.2ms postprocess per image at shape (1, 3, 576, 640)\n",
            "\n",
            "image 1/1 /content/drive/MyDrive/bdma-07-competition/BDMA7_project_files/train_images/Rusty_Blackbird/Rusty_Blackbird_0051_6715.jpg: 512x640 1 Bird, 39.0ms\n",
            "Speed: 2.7ms preprocess, 39.0ms inference, 1.3ms postprocess per image at shape (1, 3, 512, 640)\n"
          ]
        },
        {
          "output_type": "stream",
          "name": "stderr",
          "text": [
            "\rProcessing train_images images:  77%|███████▋  | 835/1082 [01:01<02:00,  2.05it/s]"
          ]
        },
        {
          "output_type": "stream",
          "name": "stdout",
          "text": [
            "\n",
            "image 1/1 /content/drive/MyDrive/bdma-07-competition/BDMA7_project_files/train_images/Rusty_Blackbird/Rusty_Blackbird_0109_6698.jpg: 480x640 1 Bird, 102.8ms\n",
            "Speed: 3.3ms preprocess, 102.8ms inference, 1.7ms postprocess per image at shape (1, 3, 480, 640)\n"
          ]
        },
        {
          "output_type": "stream",
          "name": "stderr",
          "text": [
            "\rProcessing train_images images:  77%|███████▋  | 836/1082 [01:03<03:38,  1.13it/s]"
          ]
        },
        {
          "output_type": "stream",
          "name": "stdout",
          "text": [
            "\n",
            "image 1/1 /content/drive/MyDrive/bdma-07-competition/BDMA7_project_files/train_images/Rusty_Blackbird/Rusty_Blackbird_0076_6716.jpg: 480x640 1 Bird, 37.8ms\n",
            "Speed: 3.5ms preprocess, 37.8ms inference, 1.5ms postprocess per image at shape (1, 3, 480, 640)\n"
          ]
        },
        {
          "output_type": "stream",
          "name": "stderr",
          "text": [
            "\rProcessing train_images images:  77%|███████▋  | 837/1082 [01:05<04:17,  1.05s/it]"
          ]
        },
        {
          "output_type": "stream",
          "name": "stdout",
          "text": [
            "\n",
            "image 1/1 /content/drive/MyDrive/bdma-07-competition/BDMA7_project_files/train_images/Rusty_Blackbird/Rusty_Blackbird_0075_6717.jpg: 384x640 1 Bird, 32.3ms\n",
            "Speed: 3.3ms preprocess, 32.3ms inference, 1.8ms postprocess per image at shape (1, 3, 384, 640)\n"
          ]
        },
        {
          "output_type": "stream",
          "name": "stderr",
          "text": [
            "\rProcessing train_images images:  77%|███████▋  | 838/1082 [01:07<04:39,  1.15s/it]"
          ]
        },
        {
          "output_type": "stream",
          "name": "stdout",
          "text": [
            "\n",
            "image 1/1 /content/drive/MyDrive/bdma-07-competition/BDMA7_project_files/train_images/Rusty_Blackbird/Rusty_Blackbird_0013_6902.jpg: 448x640 1 Bird, 39.5ms\n",
            "Speed: 6.5ms preprocess, 39.5ms inference, 1.5ms postprocess per image at shape (1, 3, 448, 640)\n"
          ]
        },
        {
          "output_type": "stream",
          "name": "stderr",
          "text": [
            "\rProcessing train_images images:  78%|███████▊  | 839/1082 [01:07<04:10,  1.03s/it]"
          ]
        },
        {
          "output_type": "stream",
          "name": "stdout",
          "text": [
            "\n",
            "image 1/1 /content/drive/MyDrive/bdma-07-competition/BDMA7_project_files/train_images/Rusty_Blackbird/Rusty_Blackbird_0107_6839.jpg: 640x608 1 Bird, 48.0ms\n",
            "Speed: 6.1ms preprocess, 48.0ms inference, 2.7ms postprocess per image at shape (1, 3, 640, 608)\n"
          ]
        },
        {
          "output_type": "stream",
          "name": "stderr",
          "text": [
            "\rProcessing train_images images:  78%|███████▊  | 840/1082 [01:09<04:20,  1.08s/it]"
          ]
        },
        {
          "output_type": "stream",
          "name": "stdout",
          "text": [
            "\n",
            "image 1/1 /content/drive/MyDrive/bdma-07-competition/BDMA7_project_files/train_images/Rusty_Blackbird/Rusty_Blackbird_0121_6637.jpg: 512x640 1 Bird, 39.0ms\n",
            "Speed: 3.8ms preprocess, 39.0ms inference, 1.3ms postprocess per image at shape (1, 3, 512, 640)\n"
          ]
        },
        {
          "output_type": "stream",
          "name": "stderr",
          "text": [
            "\rProcessing train_images images:  78%|███████▊  | 841/1082 [01:09<04:08,  1.03s/it]"
          ]
        },
        {
          "output_type": "stream",
          "name": "stdout",
          "text": [
            "\n",
            "image 1/1 /content/drive/MyDrive/bdma-07-competition/BDMA7_project_files/train_images/Rusty_Blackbird/Rusty_Blackbird_0093_6628.jpg: 448x640 1 Bird, 40.6ms\n",
            "Speed: 3.4ms preprocess, 40.6ms inference, 1.9ms postprocess per image at shape (1, 3, 448, 640)\n"
          ]
        },
        {
          "output_type": "stream",
          "name": "stderr",
          "text": [
            "\rProcessing train_images images:  78%|███████▊  | 842/1082 [01:12<05:35,  1.40s/it]"
          ]
        },
        {
          "output_type": "stream",
          "name": "stdout",
          "text": [
            "\n",
            "image 1/1 /content/drive/MyDrive/bdma-07-competition/BDMA7_project_files/train_images/Rusty_Blackbird/Rusty_Blackbird_0003_6749.jpg: 608x640 1 Bird, 50.1ms\n",
            "Speed: 4.1ms preprocess, 50.1ms inference, 4.3ms postprocess per image at shape (1, 3, 608, 640)\n"
          ]
        },
        {
          "output_type": "stream",
          "name": "stderr",
          "text": [
            "\rProcessing train_images images:  78%|███████▊  | 843/1082 [01:14<06:21,  1.60s/it]"
          ]
        },
        {
          "output_type": "stream",
          "name": "stdout",
          "text": [
            "\n",
            "image 1/1 /content/drive/MyDrive/bdma-07-competition/BDMA7_project_files/train_images/Rusty_Blackbird/Rusty_Blackbird_0036_6550.jpg: 544x640 1 Bird, 46.0ms\n",
            "Speed: 5.1ms preprocess, 46.0ms inference, 1.2ms postprocess per image at shape (1, 3, 544, 640)\n"
          ]
        },
        {
          "output_type": "stream",
          "name": "stderr",
          "text": [
            "\rProcessing train_images images:  78%|███████▊  | 844/1082 [01:15<05:35,  1.41s/it]"
          ]
        },
        {
          "output_type": "stream",
          "name": "stdout",
          "text": [
            "\n",
            "image 1/1 /content/drive/MyDrive/bdma-07-competition/BDMA7_project_files/train_images/Rusty_Blackbird/Rusty_Blackbird_0011_7028.jpg: 448x640 1 Bird, 37.6ms\n",
            "Speed: 3.4ms preprocess, 37.6ms inference, 1.3ms postprocess per image at shape (1, 3, 448, 640)\n"
          ]
        },
        {
          "output_type": "stream",
          "name": "stderr",
          "text": [
            "\rProcessing train_images images:  78%|███████▊  | 845/1082 [01:16<05:04,  1.29s/it]"
          ]
        },
        {
          "output_type": "stream",
          "name": "stdout",
          "text": [
            "\n",
            "image 1/1 /content/drive/MyDrive/bdma-07-competition/BDMA7_project_files/train_images/Rusty_Blackbird/Rusty_Blackbird_0080_6877.jpg: 448x640 1 Bird, 36.8ms\n",
            "Speed: 3.3ms preprocess, 36.8ms inference, 1.3ms postprocess per image at shape (1, 3, 448, 640)\n"
          ]
        },
        {
          "output_type": "stream",
          "name": "stderr",
          "text": [
            "\rProcessing train_images images:  78%|███████▊  | 846/1082 [01:17<05:04,  1.29s/it]"
          ]
        },
        {
          "output_type": "stream",
          "name": "stdout",
          "text": [
            "\n",
            "image 1/1 /content/drive/MyDrive/bdma-07-competition/BDMA7_project_files/train_images/Rusty_Blackbird/Rusty_Blackbird_0047_7009.jpg: 640x448 1 Bird, 35.8ms\n",
            "Speed: 2.8ms preprocess, 35.8ms inference, 1.2ms postprocess per image at shape (1, 3, 640, 448)\n"
          ]
        },
        {
          "output_type": "stream",
          "name": "stderr",
          "text": [
            "\rProcessing train_images images:  78%|███████▊  | 847/1082 [01:18<04:41,  1.20s/it]"
          ]
        },
        {
          "output_type": "stream",
          "name": "stdout",
          "text": [
            "\n",
            "image 1/1 /content/drive/MyDrive/bdma-07-competition/BDMA7_project_files/train_images/Rusty_Blackbird/Rusty_Blackbird_0043_2597.jpg: 480x640 1 Bird, 38.8ms\n",
            "Speed: 3.6ms preprocess, 38.8ms inference, 1.5ms postprocess per image at shape (1, 3, 480, 640)\n"
          ]
        },
        {
          "output_type": "stream",
          "name": "stderr",
          "text": [
            "\rProcessing train_images images:  78%|███████▊  | 848/1082 [01:20<04:59,  1.28s/it]"
          ]
        },
        {
          "output_type": "stream",
          "name": "stdout",
          "text": [
            "\n",
            "image 1/1 /content/drive/MyDrive/bdma-07-competition/BDMA7_project_files/train_images/Rusty_Blackbird/Rusty_Blackbird_0016_6684.jpg: 448x640 1 Bird, 38.0ms\n",
            "Speed: 4.1ms preprocess, 38.0ms inference, 1.8ms postprocess per image at shape (1, 3, 448, 640)\n"
          ]
        },
        {
          "output_type": "stream",
          "name": "stderr",
          "text": [
            "\rProcessing train_images images:  78%|███████▊  | 849/1082 [01:21<05:04,  1.31s/it]"
          ]
        },
        {
          "output_type": "stream",
          "name": "stdout",
          "text": [
            "\n",
            "image 1/1 /content/drive/MyDrive/bdma-07-competition/BDMA7_project_files/train_images/Rusty_Blackbird/Rusty_Blackbird_0056_6856.jpg: 544x640 1 Bird, 46.1ms\n",
            "Speed: 3.7ms preprocess, 46.1ms inference, 1.3ms postprocess per image at shape (1, 3, 544, 640)\n"
          ]
        },
        {
          "output_type": "stream",
          "name": "stderr",
          "text": [
            "\rProcessing train_images images:  79%|███████▊  | 850/1082 [01:22<04:53,  1.27s/it]"
          ]
        },
        {
          "output_type": "stream",
          "name": "stdout",
          "text": [
            "\n",
            "image 1/1 /content/drive/MyDrive/bdma-07-competition/BDMA7_project_files/train_images/Rusty_Blackbird/Rusty_Blackbird_0074_6585.jpg: 480x640 1 Bird, 39.6ms\n",
            "Speed: 3.6ms preprocess, 39.6ms inference, 1.3ms postprocess per image at shape (1, 3, 480, 640)\n"
          ]
        },
        {
          "output_type": "stream",
          "name": "stderr",
          "text": [
            "\rProcessing train_images images:  79%|███████▊  | 851/1082 [01:23<04:11,  1.09s/it]"
          ]
        },
        {
          "output_type": "stream",
          "name": "stdout",
          "text": [
            "\n",
            "image 1/1 /content/drive/MyDrive/bdma-07-competition/BDMA7_project_files/train_images/Rusty_Blackbird/Rusty_Blackbird_0086_6658.jpg: 640x512 1 Bird, 36.7ms\n",
            "Speed: 3.9ms preprocess, 36.7ms inference, 1.3ms postprocess per image at shape (1, 3, 640, 512)\n"
          ]
        },
        {
          "output_type": "stream",
          "name": "stderr",
          "text": [
            "\rProcessing train_images images:  79%|███████▊  | 852/1082 [01:25<05:10,  1.35s/it]"
          ]
        },
        {
          "output_type": "stream",
          "name": "stdout",
          "text": [
            "\n",
            "image 1/1 /content/drive/MyDrive/bdma-07-competition/BDMA7_project_files/train_images/Rusty_Blackbird/Rusty_Blackbird_0052_7035.jpg: 480x640 1 Bird, 38.8ms\n",
            "Speed: 2.9ms preprocess, 38.8ms inference, 1.2ms postprocess per image at shape (1, 3, 480, 640)\n"
          ]
        },
        {
          "output_type": "stream",
          "name": "stderr",
          "text": [
            "\rProcessing train_images images:  79%|███████▉  | 853/1082 [01:26<04:40,  1.23s/it]"
          ]
        },
        {
          "output_type": "stream",
          "name": "stdout",
          "text": [
            "\n",
            "image 1/1 /content/drive/MyDrive/bdma-07-competition/BDMA7_project_files/train_images/Rusty_Blackbird/Rusty_Blackbird_0048_6632.jpg: 480x640 1 Bird, 37.8ms\n",
            "Speed: 3.2ms preprocess, 37.8ms inference, 1.5ms postprocess per image at shape (1, 3, 480, 640)\n"
          ]
        },
        {
          "output_type": "stream",
          "name": "stderr",
          "text": [
            "\rProcessing train_images images:  79%|███████▉  | 854/1082 [01:27<04:45,  1.25s/it]"
          ]
        },
        {
          "output_type": "stream",
          "name": "stdout",
          "text": [
            "\n",
            "image 1/1 /content/drive/MyDrive/bdma-07-competition/BDMA7_project_files/train_images/Rusty_Blackbird/Rusty_Blackbird_0087_6727.jpg: 640x640 1 Bird, 48.3ms\n",
            "Speed: 4.0ms preprocess, 48.3ms inference, 1.3ms postprocess per image at shape (1, 3, 640, 640)\n"
          ]
        },
        {
          "output_type": "stream",
          "name": "stderr",
          "text": [
            "\rProcessing train_images images:  79%|███████▉  | 855/1082 [01:29<05:01,  1.33s/it]"
          ]
        },
        {
          "output_type": "stream",
          "name": "stdout",
          "text": [
            "\n",
            "image 1/1 /content/drive/MyDrive/bdma-07-competition/BDMA7_project_files/train_images/Rusty_Blackbird/Rusty_Blackbird_0055_6923.jpg: 480x640 1 Bird, 38.9ms\n",
            "Speed: 3.2ms preprocess, 38.9ms inference, 1.7ms postprocess per image at shape (1, 3, 480, 640)\n"
          ]
        },
        {
          "output_type": "stream",
          "name": "stderr",
          "text": [
            "\rProcessing train_images images:  79%|███████▉  | 856/1082 [01:30<04:37,  1.23s/it]"
          ]
        },
        {
          "output_type": "stream",
          "name": "stdout",
          "text": [
            "\n",
            "image 1/1 /content/drive/MyDrive/bdma-07-competition/BDMA7_project_files/train_images/Rusty_Blackbird/Rusty_Blackbird_0033_6879.jpg: 448x640 1 Bird, 37.5ms\n",
            "Speed: 2.9ms preprocess, 37.5ms inference, 1.2ms postprocess per image at shape (1, 3, 448, 640)\n"
          ]
        },
        {
          "output_type": "stream",
          "name": "stderr",
          "text": [
            "\rProcessing train_images images:  79%|███████▉  | 857/1082 [01:30<04:20,  1.16s/it]"
          ]
        },
        {
          "output_type": "stream",
          "name": "stdout",
          "text": [
            "\n",
            "image 1/1 /content/drive/MyDrive/bdma-07-competition/BDMA7_project_files/train_images/Rusty_Blackbird/Rusty_Blackbird_0122_6736.jpg: 448x640 1 Bird, 38.5ms\n",
            "Speed: 4.9ms preprocess, 38.5ms inference, 1.9ms postprocess per image at shape (1, 3, 448, 640)\n"
          ]
        },
        {
          "output_type": "stream",
          "name": "stderr",
          "text": [
            "\rProcessing train_images images:  79%|███████▉  | 858/1082 [01:31<04:03,  1.09s/it]"
          ]
        },
        {
          "output_type": "stream",
          "name": "stdout",
          "text": [
            "\n",
            "image 1/1 /content/drive/MyDrive/bdma-07-competition/BDMA7_project_files/train_images/Rusty_Blackbird/Rusty_Blackbird_0081_6967.jpg: 448x640 1 Bird, 37.1ms\n",
            "Speed: 3.3ms preprocess, 37.1ms inference, 1.6ms postprocess per image at shape (1, 3, 448, 640)\n"
          ]
        },
        {
          "output_type": "stream",
          "name": "stderr",
          "text": [
            "\rProcessing train_images images:  79%|███████▉  | 859/1082 [01:32<03:57,  1.07s/it]"
          ]
        },
        {
          "output_type": "stream",
          "name": "stdout",
          "text": [
            "\n",
            "image 1/1 /content/drive/MyDrive/bdma-07-competition/BDMA7_project_files/train_images/Rusty_Blackbird/Rusty_Blackbird_0091_6695.jpg: 416x640 1 Bird, 39.2ms\n",
            "Speed: 3.0ms preprocess, 39.2ms inference, 1.7ms postprocess per image at shape (1, 3, 416, 640)\n"
          ]
        },
        {
          "output_type": "stream",
          "name": "stderr",
          "text": [
            "\rProcessing train_images images:  79%|███████▉  | 860/1082 [01:33<03:51,  1.04s/it]"
          ]
        },
        {
          "output_type": "stream",
          "name": "stdout",
          "text": [
            "\n",
            "image 1/1 /content/drive/MyDrive/bdma-07-competition/BDMA7_project_files/train_images/Rusty_Blackbird/Rusty_Blackbird_0032_6611.jpg: 448x640 1 Bird, 37.7ms\n",
            "Speed: 3.2ms preprocess, 37.7ms inference, 1.2ms postprocess per image at shape (1, 3, 448, 640)\n"
          ]
        },
        {
          "output_type": "stream",
          "name": "stderr",
          "text": [
            "\rProcessing train_images images:  80%|███████▉  | 861/1082 [01:34<03:45,  1.02s/it]"
          ]
        },
        {
          "output_type": "stream",
          "name": "stdout",
          "text": [
            "\n",
            "image 1/1 /content/drive/MyDrive/bdma-07-competition/BDMA7_project_files/train_images/Rusty_Blackbird/Rusty_Blackbird_0096_6846.jpg: 512x640 1 Bird, 39.4ms\n",
            "Speed: 3.6ms preprocess, 39.4ms inference, 1.5ms postprocess per image at shape (1, 3, 512, 640)\n"
          ]
        },
        {
          "output_type": "stream",
          "name": "stderr",
          "text": [
            "\rProcessing train_images images:  80%|███████▉  | 862/1082 [01:36<04:42,  1.28s/it]"
          ]
        },
        {
          "output_type": "stream",
          "name": "stdout",
          "text": [
            "\n",
            "image 1/1 /content/drive/MyDrive/bdma-07-competition/BDMA7_project_files/train_images/Rusty_Blackbird/Rusty_Blackbird_0101_6880.jpg: 416x640 1 Bird, 37.2ms\n",
            "Speed: 3.0ms preprocess, 37.2ms inference, 1.3ms postprocess per image at shape (1, 3, 416, 640)\n"
          ]
        },
        {
          "output_type": "stream",
          "name": "stderr",
          "text": [
            "\rProcessing train_images images:  80%|███████▉  | 863/1082 [01:37<04:13,  1.16s/it]"
          ]
        },
        {
          "output_type": "stream",
          "name": "stdout",
          "text": [
            "\n",
            "image 1/1 /content/drive/MyDrive/bdma-07-competition/BDMA7_project_files/train_images/Rusty_Blackbird/Rusty_Blackbird_0102_6590.jpg: 448x640 1 Bird, 37.6ms\n",
            "Speed: 3.3ms preprocess, 37.6ms inference, 1.2ms postprocess per image at shape (1, 3, 448, 640)\n"
          ]
        },
        {
          "output_type": "stream",
          "name": "stderr",
          "text": [
            "\rProcessing train_images images:  80%|███████▉  | 864/1082 [01:39<05:28,  1.51s/it]"
          ]
        },
        {
          "output_type": "stream",
          "name": "stdout",
          "text": [
            "\n",
            "image 1/1 /content/drive/MyDrive/bdma-07-competition/BDMA7_project_files/train_images/Rusty_Blackbird/Rusty_Blackbird_0113_6664.jpg: 448x640 1 Bird, 37.2ms\n",
            "Speed: 5.9ms preprocess, 37.2ms inference, 1.3ms postprocess per image at shape (1, 3, 448, 640)\n"
          ]
        },
        {
          "output_type": "stream",
          "name": "stderr",
          "text": [
            "\rProcessing train_images images:  80%|███████▉  | 865/1082 [01:40<04:35,  1.27s/it]"
          ]
        },
        {
          "output_type": "stream",
          "name": "stdout",
          "text": [
            "\n",
            "image 1/1 /content/drive/MyDrive/bdma-07-competition/BDMA7_project_files/train_images/Rusty_Blackbird/Rusty_Blackbird_0022_6808.jpg: 480x640 1 Bird, 38.8ms\n",
            "Speed: 3.3ms preprocess, 38.8ms inference, 1.3ms postprocess per image at shape (1, 3, 480, 640)\n"
          ]
        },
        {
          "output_type": "stream",
          "name": "stderr",
          "text": [
            "\rProcessing train_images images:  80%|████████  | 866/1082 [01:42<04:52,  1.36s/it]"
          ]
        },
        {
          "output_type": "stream",
          "name": "stdout",
          "text": [
            "\n",
            "image 1/1 /content/drive/MyDrive/bdma-07-competition/BDMA7_project_files/train_images/Rusty_Blackbird/Rusty_Blackbird_0104_6685.jpg: 512x640 1 Bird, 39.0ms\n",
            "Speed: 3.7ms preprocess, 39.0ms inference, 1.2ms postprocess per image at shape (1, 3, 512, 640)\n"
          ]
        },
        {
          "output_type": "stream",
          "name": "stderr",
          "text": [
            "\rProcessing train_images images:  80%|████████  | 867/1082 [01:43<04:47,  1.34s/it]"
          ]
        },
        {
          "output_type": "stream",
          "name": "stdout",
          "text": [
            "\n",
            "image 1/1 /content/drive/MyDrive/bdma-07-competition/BDMA7_project_files/train_images/American_Crow/American_Crow_0025_25522.jpg: 480x640 1 Bird, 38.8ms\n",
            "Speed: 8.9ms preprocess, 38.8ms inference, 1.6ms postprocess per image at shape (1, 3, 480, 640)\n"
          ]
        },
        {
          "output_type": "stream",
          "name": "stderr",
          "text": [
            "\rProcessing train_images images:  80%|████████  | 868/1082 [01:44<04:23,  1.23s/it]"
          ]
        },
        {
          "output_type": "stream",
          "name": "stdout",
          "text": [
            "\n",
            "image 1/1 /content/drive/MyDrive/bdma-07-competition/BDMA7_project_files/train_images/American_Crow/American_Crow_0014_25287.jpg: 448x640 1 Bird, 38.1ms\n",
            "Speed: 3.3ms preprocess, 38.1ms inference, 1.9ms postprocess per image at shape (1, 3, 448, 640)\n"
          ]
        },
        {
          "output_type": "stream",
          "name": "stderr",
          "text": [
            "\rProcessing train_images images:  80%|████████  | 869/1082 [01:46<04:48,  1.36s/it]"
          ]
        },
        {
          "output_type": "stream",
          "name": "stdout",
          "text": [
            "\n",
            "image 1/1 /content/drive/MyDrive/bdma-07-competition/BDMA7_project_files/train_images/American_Crow/American_Crow_0074_25350.jpg: 448x640 1 Bird, 36.8ms\n",
            "Speed: 3.7ms preprocess, 36.8ms inference, 1.3ms postprocess per image at shape (1, 3, 448, 640)\n"
          ]
        },
        {
          "output_type": "stream",
          "name": "stderr",
          "text": [
            "\rProcessing train_images images:  80%|████████  | 870/1082 [01:47<04:24,  1.25s/it]"
          ]
        },
        {
          "output_type": "stream",
          "name": "stdout",
          "text": [
            "\n",
            "image 1/1 /content/drive/MyDrive/bdma-07-competition/BDMA7_project_files/train_images/American_Crow/American_Crow_0021_25137.jpg: 640x448 1 Bird, 35.7ms\n",
            "Speed: 3.1ms preprocess, 35.7ms inference, 1.3ms postprocess per image at shape (1, 3, 640, 448)\n"
          ]
        },
        {
          "output_type": "stream",
          "name": "stderr",
          "text": [
            "\rProcessing train_images images:  80%|████████  | 871/1082 [01:47<03:50,  1.09s/it]"
          ]
        },
        {
          "output_type": "stream",
          "name": "stdout",
          "text": [
            "\n",
            "image 1/1 /content/drive/MyDrive/bdma-07-competition/BDMA7_project_files/train_images/American_Crow/American_Crow_0047_25397.jpg: 480x640 1 Bird, 38.6ms\n",
            "Speed: 3.2ms preprocess, 38.6ms inference, 1.4ms postprocess per image at shape (1, 3, 480, 640)\n"
          ]
        },
        {
          "output_type": "stream",
          "name": "stderr",
          "text": [
            "\rProcessing train_images images:  81%|████████  | 872/1082 [01:49<04:31,  1.29s/it]"
          ]
        },
        {
          "output_type": "stream",
          "name": "stdout",
          "text": [
            "\n",
            "image 1/1 /content/drive/MyDrive/bdma-07-competition/BDMA7_project_files/train_images/American_Crow/American_Crow_0116_25199.jpg: 448x640 1 Bird, 37.6ms\n",
            "Speed: 3.0ms preprocess, 37.6ms inference, 1.2ms postprocess per image at shape (1, 3, 448, 640)\n"
          ]
        },
        {
          "output_type": "stream",
          "name": "stderr",
          "text": [
            "\rProcessing train_images images:  81%|████████  | 873/1082 [01:50<03:50,  1.10s/it]"
          ]
        },
        {
          "output_type": "stream",
          "name": "stdout",
          "text": [
            "\n",
            "image 1/1 /content/drive/MyDrive/bdma-07-competition/BDMA7_project_files/train_images/American_Crow/American_Crow_0079_25463.jpg: 448x640 1 Bird, 36.8ms\n",
            "Speed: 3.9ms preprocess, 36.8ms inference, 1.3ms postprocess per image at shape (1, 3, 448, 640)\n"
          ]
        },
        {
          "output_type": "stream",
          "name": "stderr",
          "text": [
            "\rProcessing train_images images:  81%|████████  | 874/1082 [01:51<04:03,  1.17s/it]"
          ]
        },
        {
          "output_type": "stream",
          "name": "stdout",
          "text": [
            "\n",
            "image 1/1 /content/drive/MyDrive/bdma-07-competition/BDMA7_project_files/train_images/American_Crow/American_Crow_0109_25123.jpg: 512x640 1 Bird, 39.0ms\n",
            "Speed: 5.1ms preprocess, 39.0ms inference, 1.2ms postprocess per image at shape (1, 3, 512, 640)\n"
          ]
        },
        {
          "output_type": "stream",
          "name": "stderr",
          "text": [
            "\rProcessing train_images images:  81%|████████  | 875/1082 [01:52<03:43,  1.08s/it]"
          ]
        },
        {
          "output_type": "stream",
          "name": "stdout",
          "text": [
            "\n",
            "image 1/1 /content/drive/MyDrive/bdma-07-competition/BDMA7_project_files/train_images/American_Crow/American_Crow_0137_25221.jpg: 448x640 1 Bird, 37.7ms\n",
            "Speed: 3.4ms preprocess, 37.7ms inference, 1.3ms postprocess per image at shape (1, 3, 448, 640)\n"
          ]
        },
        {
          "output_type": "stream",
          "name": "stderr",
          "text": [
            "\rProcessing train_images images:  81%|████████  | 876/1082 [01:53<03:40,  1.07s/it]"
          ]
        },
        {
          "output_type": "stream",
          "name": "stdout",
          "text": [
            "\n",
            "image 1/1 /content/drive/MyDrive/bdma-07-competition/BDMA7_project_files/train_images/American_Crow/American_Crow_0059_25599.jpg: 480x640 1 Bird, 38.7ms\n",
            "Speed: 3.5ms preprocess, 38.7ms inference, 1.2ms postprocess per image at shape (1, 3, 480, 640)\n"
          ]
        },
        {
          "output_type": "stream",
          "name": "stderr",
          "text": [
            "\rProcessing train_images images:  81%|████████  | 877/1082 [01:55<04:29,  1.31s/it]"
          ]
        },
        {
          "output_type": "stream",
          "name": "stdout",
          "text": [
            "\n",
            "image 1/1 /content/drive/MyDrive/bdma-07-competition/BDMA7_project_files/train_images/American_Crow/American_Crow_0002_25122.jpg: 576x640 1 Bird, 46.9ms\n",
            "Speed: 7.2ms preprocess, 46.9ms inference, 1.5ms postprocess per image at shape (1, 3, 576, 640)\n"
          ]
        },
        {
          "output_type": "stream",
          "name": "stderr",
          "text": [
            "\rProcessing train_images images:  81%|████████  | 878/1082 [01:57<04:50,  1.43s/it]"
          ]
        },
        {
          "output_type": "stream",
          "name": "stdout",
          "text": [
            "\n",
            "image 1/1 /content/drive/MyDrive/bdma-07-competition/BDMA7_project_files/train_images/American_Crow/American_Crow_0043_25666.jpg: 448x640 1 Bird, 38.0ms\n",
            "Speed: 3.0ms preprocess, 38.0ms inference, 2.1ms postprocess per image at shape (1, 3, 448, 640)\n"
          ]
        },
        {
          "output_type": "stream",
          "name": "stderr",
          "text": [
            "\rProcessing train_images images:  81%|████████  | 879/1082 [01:58<04:23,  1.30s/it]"
          ]
        },
        {
          "output_type": "stream",
          "name": "stdout",
          "text": [
            "\n",
            "image 1/1 /content/drive/MyDrive/bdma-07-competition/BDMA7_project_files/train_images/American_Crow/American_Crow_0139_25186.jpg: 480x640 1 Bird, 42.1ms\n",
            "Speed: 3.8ms preprocess, 42.1ms inference, 1.2ms postprocess per image at shape (1, 3, 480, 640)\n"
          ]
        },
        {
          "output_type": "stream",
          "name": "stderr",
          "text": [
            "\rProcessing train_images images:  81%|████████▏ | 880/1082 [01:59<04:15,  1.26s/it]"
          ]
        },
        {
          "output_type": "stream",
          "name": "stdout",
          "text": [
            "\n",
            "image 1/1 /content/drive/MyDrive/bdma-07-competition/BDMA7_project_files/train_images/American_Crow/American_Crow_0012_25305.jpg: 512x640 1 Bird, 39.1ms\n",
            "Speed: 3.9ms preprocess, 39.1ms inference, 1.2ms postprocess per image at shape (1, 3, 512, 640)\n"
          ]
        },
        {
          "output_type": "stream",
          "name": "stderr",
          "text": [
            "\rProcessing train_images images:  81%|████████▏ | 881/1082 [02:00<04:14,  1.27s/it]"
          ]
        },
        {
          "output_type": "stream",
          "name": "stdout",
          "text": [
            "\n",
            "image 1/1 /content/drive/MyDrive/bdma-07-competition/BDMA7_project_files/train_images/American_Crow/American_Crow_0030_25092.jpg: 448x640 1 Bird, 38.2ms\n",
            "Speed: 3.0ms preprocess, 38.2ms inference, 1.8ms postprocess per image at shape (1, 3, 448, 640)\n"
          ]
        },
        {
          "output_type": "stream",
          "name": "stderr",
          "text": [
            "\rProcessing train_images images:  82%|████████▏ | 882/1082 [02:01<03:37,  1.09s/it]"
          ]
        },
        {
          "output_type": "stream",
          "name": "stdout",
          "text": [
            "\n",
            "image 1/1 /content/drive/MyDrive/bdma-07-competition/BDMA7_project_files/train_images/American_Crow/American_Crow_0036_25313.jpg: 512x640 1 Bird, 39.0ms\n",
            "Speed: 2.9ms preprocess, 39.0ms inference, 1.3ms postprocess per image at shape (1, 3, 512, 640)\n"
          ]
        },
        {
          "output_type": "stream",
          "name": "stderr",
          "text": [
            "\rProcessing train_images images:  82%|████████▏ | 883/1082 [02:02<04:09,  1.26s/it]"
          ]
        },
        {
          "output_type": "stream",
          "name": "stdout",
          "text": [
            "\n",
            "image 1/1 /content/drive/MyDrive/bdma-07-competition/BDMA7_project_files/train_images/American_Crow/American_Crow_0004_25819.jpg: 512x640 1 Bird, 38.2ms\n",
            "Speed: 3.6ms preprocess, 38.2ms inference, 1.4ms postprocess per image at shape (1, 3, 512, 640)\n"
          ]
        },
        {
          "output_type": "stream",
          "name": "stderr",
          "text": [
            "\rProcessing train_images images:  82%|████████▏ | 884/1082 [02:03<03:45,  1.14s/it]"
          ]
        },
        {
          "output_type": "stream",
          "name": "stdout",
          "text": [
            "\n",
            "image 1/1 /content/drive/MyDrive/bdma-07-competition/BDMA7_project_files/train_images/American_Crow/American_Crow_0020_25618.jpg: 480x640 1 Bird, 38.8ms\n",
            "Speed: 3.7ms preprocess, 38.8ms inference, 1.2ms postprocess per image at shape (1, 3, 480, 640)\n"
          ]
        },
        {
          "output_type": "stream",
          "name": "stderr",
          "text": [
            "\rProcessing train_images images:  82%|████████▏ | 885/1082 [02:04<03:27,  1.05s/it]"
          ]
        },
        {
          "output_type": "stream",
          "name": "stdout",
          "text": [
            "\n",
            "image 1/1 /content/drive/MyDrive/bdma-07-competition/BDMA7_project_files/train_images/American_Crow/American_Crow_0069_25506.jpg: 512x640 1 Bird, 39.1ms\n",
            "Speed: 4.2ms preprocess, 39.1ms inference, 1.3ms postprocess per image at shape (1, 3, 512, 640)\n"
          ]
        },
        {
          "output_type": "stream",
          "name": "stderr",
          "text": [
            "\rProcessing train_images images:  82%|████████▏ | 886/1082 [02:05<03:24,  1.04s/it]"
          ]
        },
        {
          "output_type": "stream",
          "name": "stdout",
          "text": [
            "\n",
            "image 1/1 /content/drive/MyDrive/bdma-07-competition/BDMA7_project_files/train_images/American_Crow/American_Crow_0088_25303.jpg: 480x640 1 Bird, 38.6ms\n",
            "Speed: 3.2ms preprocess, 38.6ms inference, 1.3ms postprocess per image at shape (1, 3, 480, 640)\n"
          ]
        },
        {
          "output_type": "stream",
          "name": "stderr",
          "text": [
            "\rProcessing train_images images:  82%|████████▏ | 887/1082 [02:06<03:22,  1.04s/it]"
          ]
        },
        {
          "output_type": "stream",
          "name": "stdout",
          "text": [
            "\n",
            "image 1/1 /content/drive/MyDrive/bdma-07-competition/BDMA7_project_files/train_images/American_Crow/American_Crow_0113_25149.jpg: 480x640 1 Bird, 37.8ms\n",
            "Speed: 2.9ms preprocess, 37.8ms inference, 1.3ms postprocess per image at shape (1, 3, 480, 640)\n"
          ]
        },
        {
          "output_type": "stream",
          "name": "stderr",
          "text": [
            "\rProcessing train_images images:  82%|████████▏ | 888/1082 [02:07<03:22,  1.04s/it]"
          ]
        },
        {
          "output_type": "stream",
          "name": "stdout",
          "text": [
            "\n",
            "image 1/1 /content/drive/MyDrive/bdma-07-competition/BDMA7_project_files/train_images/American_Crow/American_Crow_0117_25090.jpg: 448x640 1 Bird, 38.1ms\n",
            "Speed: 3.1ms preprocess, 38.1ms inference, 1.9ms postprocess per image at shape (1, 3, 448, 640)\n"
          ]
        },
        {
          "output_type": "stream",
          "name": "stderr",
          "text": [
            "\rProcessing train_images images:  82%|████████▏ | 889/1082 [02:09<03:35,  1.12s/it]"
          ]
        },
        {
          "output_type": "stream",
          "name": "stdout",
          "text": [
            "\n",
            "image 1/1 /content/drive/MyDrive/bdma-07-competition/BDMA7_project_files/train_images/American_Crow/American_Crow_0053_25203.jpg: 640x640 1 Bird, 48.5ms\n",
            "Speed: 5.5ms preprocess, 48.5ms inference, 1.6ms postprocess per image at shape (1, 3, 640, 640)\n"
          ]
        },
        {
          "output_type": "stream",
          "name": "stderr",
          "text": [
            "\rProcessing train_images images:  82%|████████▏ | 890/1082 [02:10<03:30,  1.10s/it]"
          ]
        },
        {
          "output_type": "stream",
          "name": "stdout",
          "text": [
            "\n",
            "image 1/1 /content/drive/MyDrive/bdma-07-competition/BDMA7_project_files/train_images/American_Crow/American_Crow_0093_25694.jpg: 448x640 1 Bird, 39.9ms\n",
            "Speed: 3.6ms preprocess, 39.9ms inference, 1.7ms postprocess per image at shape (1, 3, 448, 640)\n"
          ]
        },
        {
          "output_type": "stream",
          "name": "stderr",
          "text": [
            "\rProcessing train_images images:  82%|████████▏ | 891/1082 [02:10<03:18,  1.04s/it]"
          ]
        },
        {
          "output_type": "stream",
          "name": "stdout",
          "text": [
            "\n",
            "image 1/1 /content/drive/MyDrive/bdma-07-competition/BDMA7_project_files/train_images/American_Crow/American_Crow_0003_25130.jpg: 640x480 1 Bird, 36.8ms\n",
            "Speed: 5.0ms preprocess, 36.8ms inference, 1.3ms postprocess per image at shape (1, 3, 640, 480)\n"
          ]
        },
        {
          "output_type": "stream",
          "name": "stderr",
          "text": [
            "\rProcessing train_images images:  82%|████████▏ | 892/1082 [02:11<03:15,  1.03s/it]"
          ]
        },
        {
          "output_type": "stream",
          "name": "stdout",
          "text": [
            "\n",
            "image 1/1 /content/drive/MyDrive/bdma-07-competition/BDMA7_project_files/train_images/American_Crow/American_Crow_0111_25127.jpg: 640x640 1 Bird, 50.4ms\n",
            "Speed: 4.3ms preprocess, 50.4ms inference, 1.3ms postprocess per image at shape (1, 3, 640, 640)\n"
          ]
        },
        {
          "output_type": "stream",
          "name": "stderr",
          "text": [
            "\rProcessing train_images images:  83%|████████▎ | 893/1082 [02:12<03:08,  1.00it/s]"
          ]
        },
        {
          "output_type": "stream",
          "name": "stdout",
          "text": [
            "\n",
            "image 1/1 /content/drive/MyDrive/bdma-07-competition/BDMA7_project_files/train_images/American_Crow/American_Crow_0124_25356.jpg: 480x640 1 Bird, 38.8ms\n",
            "Speed: 3.8ms preprocess, 38.8ms inference, 1.3ms postprocess per image at shape (1, 3, 480, 640)\n"
          ]
        },
        {
          "output_type": "stream",
          "name": "stderr",
          "text": [
            "\rProcessing train_images images:  83%|████████▎ | 894/1082 [02:13<03:05,  1.01it/s]"
          ]
        },
        {
          "output_type": "stream",
          "name": "stdout",
          "text": [
            "\n",
            "image 1/1 /content/drive/MyDrive/bdma-07-competition/BDMA7_project_files/train_images/American_Crow/American_Crow_0104_25086.jpg: 480x640 1 Bird, 37.8ms\n",
            "Speed: 5.3ms preprocess, 37.8ms inference, 1.3ms postprocess per image at shape (1, 3, 480, 640)\n"
          ]
        },
        {
          "output_type": "stream",
          "name": "stderr",
          "text": [
            "\rProcessing train_images images:  83%|████████▎ | 895/1082 [02:14<03:06,  1.01it/s]"
          ]
        },
        {
          "output_type": "stream",
          "name": "stdout",
          "text": [
            "\n",
            "image 1/1 /content/drive/MyDrive/bdma-07-competition/BDMA7_project_files/train_images/American_Crow/American_Crow_0121_25720.jpg: 480x640 1 Bird, 37.8ms\n",
            "Speed: 3.9ms preprocess, 37.8ms inference, 1.3ms postprocess per image at shape (1, 3, 480, 640)\n"
          ]
        },
        {
          "output_type": "stream",
          "name": "stderr",
          "text": [
            "\rProcessing train_images images:  83%|████████▎ | 896/1082 [02:15<02:50,  1.09it/s]"
          ]
        },
        {
          "output_type": "stream",
          "name": "stdout",
          "text": [
            "\n",
            "image 1/1 /content/drive/MyDrive/bdma-07-competition/BDMA7_project_files/train_images/American_Crow/American_Crow_0122_25200.jpg: 512x640 1 Bird, 39.3ms\n",
            "Speed: 3.8ms preprocess, 39.3ms inference, 1.2ms postprocess per image at shape (1, 3, 512, 640)\n"
          ]
        },
        {
          "output_type": "stream",
          "name": "stderr",
          "text": [
            "\rProcessing train_images images:  83%|████████▎ | 897/1082 [02:16<02:50,  1.09it/s]"
          ]
        },
        {
          "output_type": "stream",
          "name": "stdout",
          "text": [
            "\n",
            "image 1/1 /content/drive/MyDrive/bdma-07-competition/BDMA7_project_files/train_images/American_Crow/American_Crow_0085_25260.jpg: 448x640 1 Bird, 37.6ms\n",
            "Speed: 3.5ms preprocess, 37.6ms inference, 1.4ms postprocess per image at shape (1, 3, 448, 640)\n"
          ]
        },
        {
          "output_type": "stream",
          "name": "stderr",
          "text": [
            "\rProcessing train_images images:  83%|████████▎ | 898/1082 [02:17<02:49,  1.09it/s]"
          ]
        },
        {
          "output_type": "stream",
          "name": "stdout",
          "text": [
            "\n",
            "image 1/1 /content/drive/MyDrive/bdma-07-competition/BDMA7_project_files/train_images/American_Crow/American_Crow_0016_25112.jpg: 480x640 1 Bird, 38.6ms\n",
            "Speed: 3.7ms preprocess, 38.6ms inference, 1.2ms postprocess per image at shape (1, 3, 480, 640)\n"
          ]
        },
        {
          "output_type": "stream",
          "name": "stderr",
          "text": [
            "\rProcessing train_images images:  83%|████████▎ | 899/1082 [02:19<03:23,  1.11s/it]"
          ]
        },
        {
          "output_type": "stream",
          "name": "stdout",
          "text": [
            "\n",
            "image 1/1 /content/drive/MyDrive/bdma-07-competition/BDMA7_project_files/train_images/American_Crow/American_Crow_0048_25062.jpg: 448x640 1 Bird, 37.7ms\n",
            "Speed: 3.1ms preprocess, 37.7ms inference, 1.3ms postprocess per image at shape (1, 3, 448, 640)\n"
          ]
        },
        {
          "output_type": "stream",
          "name": "stderr",
          "text": [
            "\rProcessing train_images images:  83%|████████▎ | 900/1082 [02:19<03:02,  1.00s/it]"
          ]
        },
        {
          "output_type": "stream",
          "name": "stdout",
          "text": [
            "\n",
            "image 1/1 /content/drive/MyDrive/bdma-07-competition/BDMA7_project_files/train_images/American_Crow/American_Crow_0107_25353.jpg: 448x640 1 Bird, 36.9ms\n",
            "Speed: 3.1ms preprocess, 36.9ms inference, 2.4ms postprocess per image at shape (1, 3, 448, 640)\n"
          ]
        },
        {
          "output_type": "stream",
          "name": "stderr",
          "text": [
            "\rProcessing train_images images:  83%|████████▎ | 901/1082 [02:20<03:01,  1.00s/it]"
          ]
        },
        {
          "output_type": "stream",
          "name": "stdout",
          "text": [
            "\n",
            "image 1/1 /content/drive/MyDrive/bdma-07-competition/BDMA7_project_files/train_images/American_Crow/American_Crow_0067_25443.jpg: 480x640 1 Bird, 38.8ms\n",
            "Speed: 3.3ms preprocess, 38.8ms inference, 1.6ms postprocess per image at shape (1, 3, 480, 640)\n"
          ]
        },
        {
          "output_type": "stream",
          "name": "stderr",
          "text": [
            "\rProcessing train_images images:  83%|████████▎ | 902/1082 [02:21<02:56,  1.02it/s]"
          ]
        },
        {
          "output_type": "stream",
          "name": "stdout",
          "text": [
            "\n",
            "image 1/1 /content/drive/MyDrive/bdma-07-competition/BDMA7_project_files/train_images/American_Crow/American_Crow_0081_25837.jpg: 448x640 1 Bird, 37.8ms\n",
            "Speed: 4.2ms preprocess, 37.8ms inference, 1.5ms postprocess per image at shape (1, 3, 448, 640)\n"
          ]
        },
        {
          "output_type": "stream",
          "name": "stderr",
          "text": [
            "\rProcessing train_images images:  83%|████████▎ | 903/1082 [02:23<03:25,  1.15s/it]"
          ]
        },
        {
          "output_type": "stream",
          "name": "stdout",
          "text": [
            "\n",
            "image 1/1 /content/drive/MyDrive/bdma-07-competition/BDMA7_project_files/train_images/American_Crow/American_Crow_0132_25704.jpg: 480x640 1 Bird, 38.7ms\n",
            "Speed: 3.6ms preprocess, 38.7ms inference, 1.2ms postprocess per image at shape (1, 3, 480, 640)\n"
          ]
        },
        {
          "output_type": "stream",
          "name": "stderr",
          "text": [
            "\rProcessing train_images images:  84%|████████▎ | 904/1082 [02:23<02:59,  1.01s/it]"
          ]
        },
        {
          "output_type": "stream",
          "name": "stdout",
          "text": [
            "\n",
            "image 1/1 /content/drive/MyDrive/bdma-07-competition/BDMA7_project_files/train_images/American_Crow/American_Crow_0102_25066.jpg: 544x640 1 Bird, 46.0ms\n",
            "Speed: 4.1ms preprocess, 46.0ms inference, 1.2ms postprocess per image at shape (1, 3, 544, 640)\n"
          ]
        },
        {
          "output_type": "stream",
          "name": "stderr",
          "text": [
            "\rProcessing train_images images:  84%|████████▎ | 905/1082 [02:24<02:55,  1.01it/s]"
          ]
        },
        {
          "output_type": "stream",
          "name": "stdout",
          "text": [
            "\n",
            "image 1/1 /content/drive/MyDrive/bdma-07-competition/BDMA7_project_files/train_images/American_Crow/American_Crow_0001_25053.jpg: 480x640 1 Bird, 41.1ms\n",
            "Speed: 3.7ms preprocess, 41.1ms inference, 1.7ms postprocess per image at shape (1, 3, 480, 640)\n"
          ]
        },
        {
          "output_type": "stream",
          "name": "stderr",
          "text": [
            "\rProcessing train_images images:  84%|████████▎ | 906/1082 [02:25<02:53,  1.02it/s]"
          ]
        },
        {
          "output_type": "stream",
          "name": "stdout",
          "text": [
            "\n",
            "image 1/1 /content/drive/MyDrive/bdma-07-competition/BDMA7_project_files/train_images/American_Crow/American_Crow_0127_25412.jpg: 448x640 1 Bird, 37.9ms\n",
            "Speed: 3.5ms preprocess, 37.9ms inference, 1.2ms postprocess per image at shape (1, 3, 448, 640)\n"
          ]
        },
        {
          "output_type": "stream",
          "name": "stderr",
          "text": [
            "\rProcessing train_images images:  84%|████████▍ | 907/1082 [02:26<02:37,  1.11it/s]"
          ]
        },
        {
          "output_type": "stream",
          "name": "stdout",
          "text": [
            "\n",
            "image 1/1 /content/drive/MyDrive/bdma-07-competition/BDMA7_project_files/train_images/American_Crow/American_Crow_0027_25146.jpg: 448x640 1 Bird, 36.8ms\n",
            "Speed: 3.4ms preprocess, 36.8ms inference, 1.2ms postprocess per image at shape (1, 3, 448, 640)\n"
          ]
        },
        {
          "output_type": "stream",
          "name": "stderr",
          "text": [
            "\rProcessing train_images images:  84%|████████▍ | 908/1082 [02:28<03:10,  1.09s/it]"
          ]
        },
        {
          "output_type": "stream",
          "name": "stdout",
          "text": [
            "\n",
            "image 1/1 /content/drive/MyDrive/bdma-07-competition/BDMA7_project_files/train_images/American_Crow/American_Crow_0130_25163.jpg: 640x544 1 Bird, 46.5ms\n",
            "Speed: 3.8ms preprocess, 46.5ms inference, 1.3ms postprocess per image at shape (1, 3, 640, 544)\n"
          ]
        },
        {
          "output_type": "stream",
          "name": "stderr",
          "text": [
            "\rProcessing train_images images:  84%|████████▍ | 909/1082 [02:30<04:33,  1.58s/it]"
          ]
        },
        {
          "output_type": "stream",
          "name": "stdout",
          "text": [
            "\n",
            "image 1/1 /content/drive/MyDrive/bdma-07-competition/BDMA7_project_files/train_images/American_Crow/American_Crow_0134_25206.jpg: 544x640 1 Bird, 45.9ms\n",
            "Speed: 3.6ms preprocess, 45.9ms inference, 1.3ms postprocess per image at shape (1, 3, 544, 640)\n"
          ]
        },
        {
          "output_type": "stream",
          "name": "stderr",
          "text": [
            "\rProcessing train_images images:  84%|████████▍ | 910/1082 [02:31<03:46,  1.31s/it]"
          ]
        },
        {
          "output_type": "stream",
          "name": "stdout",
          "text": [
            "\n",
            "image 1/1 /content/drive/MyDrive/bdma-07-competition/BDMA7_project_files/train_images/American_Crow/American_Crow_0101_25118.jpg: 512x640 1 Bird, 39.2ms\n",
            "Speed: 3.5ms preprocess, 39.2ms inference, 1.3ms postprocess per image at shape (1, 3, 512, 640)\n"
          ]
        },
        {
          "output_type": "stream",
          "name": "stderr",
          "text": [
            "\rProcessing train_images images:  84%|████████▍ | 911/1082 [02:32<03:11,  1.12s/it]"
          ]
        },
        {
          "output_type": "stream",
          "name": "stdout",
          "text": [
            "\n",
            "image 1/1 /content/drive/MyDrive/bdma-07-competition/BDMA7_project_files/train_images/American_Crow/American_Crow_0136_25117.jpg: 448x640 1 Bird, 37.7ms\n",
            "Speed: 3.6ms preprocess, 37.7ms inference, 1.2ms postprocess per image at shape (1, 3, 448, 640)\n"
          ]
        },
        {
          "output_type": "stream",
          "name": "stderr",
          "text": [
            "\rProcessing train_images images:  84%|████████▍ | 912/1082 [02:33<03:03,  1.08s/it]"
          ]
        },
        {
          "output_type": "stream",
          "name": "stdout",
          "text": [
            "\n",
            "image 1/1 /content/drive/MyDrive/bdma-07-competition/BDMA7_project_files/train_images/American_Crow/American_Crow_0068_25198.jpg: 480x640 1 Bird, 38.8ms\n",
            "Speed: 6.2ms preprocess, 38.8ms inference, 1.5ms postprocess per image at shape (1, 3, 480, 640)\n"
          ]
        },
        {
          "output_type": "stream",
          "name": "stderr",
          "text": [
            "\rProcessing train_images images:  84%|████████▍ | 913/1082 [02:34<02:57,  1.05s/it]"
          ]
        },
        {
          "output_type": "stream",
          "name": "stdout",
          "text": [
            "\n",
            "image 1/1 /content/drive/MyDrive/bdma-07-competition/BDMA7_project_files/train_images/American_Crow/American_Crow_0011_25151.jpg: 448x640 1 Bird, 38.6ms\n",
            "Speed: 5.2ms preprocess, 38.6ms inference, 1.5ms postprocess per image at shape (1, 3, 448, 640)\n"
          ]
        },
        {
          "output_type": "stream",
          "name": "stderr",
          "text": [
            "\rProcessing train_images images:  84%|████████▍ | 914/1082 [02:35<02:50,  1.02s/it]"
          ]
        },
        {
          "output_type": "stream",
          "name": "stdout",
          "text": [
            "\n",
            "image 1/1 /content/drive/MyDrive/bdma-07-competition/BDMA7_project_files/train_images/American_Crow/American_Crow_0110_25541.jpg: 480x640 1 Bird, 39.0ms\n",
            "Speed: 3.3ms preprocess, 39.0ms inference, 1.8ms postprocess per image at shape (1, 3, 480, 640)\n"
          ]
        },
        {
          "output_type": "stream",
          "name": "stderr",
          "text": [
            "\rProcessing train_images images:  85%|████████▍ | 915/1082 [02:35<02:40,  1.04it/s]"
          ]
        },
        {
          "output_type": "stream",
          "name": "stdout",
          "text": [
            "\n",
            "image 1/1 /content/drive/MyDrive/bdma-07-competition/BDMA7_project_files/train_images/American_Crow/American_Crow_0131_25706.jpg: 640x480 1 Bird, 36.6ms\n",
            "Speed: 3.3ms preprocess, 36.6ms inference, 1.2ms postprocess per image at shape (1, 3, 640, 480)\n"
          ]
        },
        {
          "output_type": "stream",
          "name": "stderr",
          "text": [
            "\rProcessing train_images images:  85%|████████▍ | 916/1082 [02:36<02:37,  1.06it/s]"
          ]
        },
        {
          "output_type": "stream",
          "name": "stdout",
          "text": [
            "\n",
            "image 1/1 /content/drive/MyDrive/bdma-07-competition/BDMA7_project_files/train_images/American_Crow/American_Crow_0099_25717.jpg: 448x640 1 Bird, 38.3ms\n",
            "Speed: 3.7ms preprocess, 38.3ms inference, 1.3ms postprocess per image at shape (1, 3, 448, 640)\n"
          ]
        },
        {
          "output_type": "stream",
          "name": "stderr",
          "text": [
            "\rProcessing train_images images:  85%|████████▍ | 917/1082 [02:38<03:03,  1.11s/it]"
          ]
        },
        {
          "output_type": "stream",
          "name": "stdout",
          "text": [
            "\n",
            "image 1/1 /content/drive/MyDrive/bdma-07-competition/BDMA7_project_files/train_images/American_Crow/American_Crow_0050_25255.jpg: 480x640 1 Bird, 38.6ms\n",
            "Speed: 4.1ms preprocess, 38.6ms inference, 1.3ms postprocess per image at shape (1, 3, 480, 640)\n"
          ]
        },
        {
          "output_type": "stream",
          "name": "stderr",
          "text": [
            "\rProcessing train_images images:  85%|████████▍ | 918/1082 [02:39<02:59,  1.09s/it]"
          ]
        },
        {
          "output_type": "stream",
          "name": "stdout",
          "text": [
            "\n",
            "image 1/1 /content/drive/MyDrive/bdma-07-competition/BDMA7_project_files/train_images/American_Crow/American_Crow_0094_25576.jpg: 448x640 1 Bird, 37.7ms\n",
            "Speed: 3.4ms preprocess, 37.7ms inference, 1.3ms postprocess per image at shape (1, 3, 448, 640)\n"
          ]
        },
        {
          "output_type": "stream",
          "name": "stderr",
          "text": [
            "\rProcessing train_images images:  85%|████████▍ | 919/1082 [02:40<02:48,  1.03s/it]"
          ]
        },
        {
          "output_type": "stream",
          "name": "stdout",
          "text": [
            "\n",
            "image 1/1 /content/drive/MyDrive/bdma-07-competition/BDMA7_project_files/train_images/American_Crow/American_Crow_0051_25505.jpg: 448x640 1 Bird, 37.2ms\n",
            "Speed: 3.3ms preprocess, 37.2ms inference, 1.4ms postprocess per image at shape (1, 3, 448, 640)\n"
          ]
        },
        {
          "output_type": "stream",
          "name": "stderr",
          "text": [
            "\rProcessing train_images images:  85%|████████▌ | 920/1082 [02:41<03:13,  1.19s/it]"
          ]
        },
        {
          "output_type": "stream",
          "name": "stdout",
          "text": [
            "\n",
            "image 1/1 /content/drive/MyDrive/bdma-07-competition/BDMA7_project_files/train_images/Yellow_billed_Cuckoo/Yellow_Billed_Cuckoo_0026_26794.jpg: 416x640 1 Bird, 37.1ms\n",
            "Speed: 2.6ms preprocess, 37.1ms inference, 1.3ms postprocess per image at shape (1, 3, 416, 640)\n"
          ]
        },
        {
          "output_type": "stream",
          "name": "stderr",
          "text": [
            "\rProcessing train_images images:  85%|████████▌ | 921/1082 [02:42<03:01,  1.13s/it]"
          ]
        },
        {
          "output_type": "stream",
          "name": "stdout",
          "text": [
            "\n",
            "image 1/1 /content/drive/MyDrive/bdma-07-competition/BDMA7_project_files/train_images/Yellow_billed_Cuckoo/Yellow_Billed_Cuckoo_0006_26578.jpg: 512x640 1 Bird, 39.1ms\n",
            "Speed: 3.5ms preprocess, 39.1ms inference, 1.2ms postprocess per image at shape (1, 3, 512, 640)\n"
          ]
        },
        {
          "output_type": "stream",
          "name": "stderr",
          "text": [
            "\rProcessing train_images images:  85%|████████▌ | 922/1082 [02:43<02:41,  1.01s/it]"
          ]
        },
        {
          "output_type": "stream",
          "name": "stdout",
          "text": [
            "\n",
            "image 1/1 /content/drive/MyDrive/bdma-07-competition/BDMA7_project_files/train_images/Yellow_billed_Cuckoo/Yellow_Billed_Cuckoo_0027_26844.jpg: 448x640 1 Bird, 38.2ms\n",
            "Speed: 3.1ms preprocess, 38.2ms inference, 1.2ms postprocess per image at shape (1, 3, 448, 640)\n"
          ]
        },
        {
          "output_type": "stream",
          "name": "stderr",
          "text": [
            "\rProcessing train_images images:  85%|████████▌ | 923/1082 [02:44<02:44,  1.04s/it]"
          ]
        },
        {
          "output_type": "stream",
          "name": "stdout",
          "text": [
            "\n",
            "image 1/1 /content/drive/MyDrive/bdma-07-competition/BDMA7_project_files/train_images/Yellow_billed_Cuckoo/Yellow_Billed_Cuckoo_0036_26682.jpg: 640x480 (no detections), 36.6ms\n",
            "Speed: 3.7ms preprocess, 36.6ms inference, 0.5ms postprocess per image at shape (1, 3, 640, 480)\n"
          ]
        },
        {
          "output_type": "stream",
          "name": "stderr",
          "text": [
            "\rProcessing train_images images:  85%|████████▌ | 924/1082 [02:45<02:40,  1.01s/it]"
          ]
        },
        {
          "output_type": "stream",
          "name": "stdout",
          "text": [
            "Warning: No objects detected in /content/drive/MyDrive/bdma-07-competition/BDMA7_project_files/train_images/Yellow_billed_Cuckoo/Yellow_Billed_Cuckoo_0036_26682.jpg, skipping cropping.\n",
            "\n",
            "image 1/1 /content/drive/MyDrive/bdma-07-competition/BDMA7_project_files/train_images/Yellow_billed_Cuckoo/Yellow_Billed_Cuckoo_0028_26446.jpg: 512x640 1 Bird, 39.3ms\n",
            "Speed: 3.5ms preprocess, 39.3ms inference, 1.5ms postprocess per image at shape (1, 3, 512, 640)\n"
          ]
        },
        {
          "output_type": "stream",
          "name": "stderr",
          "text": [
            "\rProcessing train_images images:  85%|████████▌ | 925/1082 [02:46<02:34,  1.02it/s]"
          ]
        },
        {
          "output_type": "stream",
          "name": "stdout",
          "text": [
            "\n",
            "image 1/1 /content/drive/MyDrive/bdma-07-competition/BDMA7_project_files/train_images/Yellow_billed_Cuckoo/Yellow_Billed_Cuckoo_0091_26428.jpg: 512x640 1 Bird, 38.2ms\n",
            "Speed: 3.5ms preprocess, 38.2ms inference, 1.7ms postprocess per image at shape (1, 3, 512, 640)\n"
          ]
        },
        {
          "output_type": "stream",
          "name": "stderr",
          "text": [
            "\rProcessing train_images images:  86%|████████▌ | 926/1082 [02:47<02:23,  1.09it/s]"
          ]
        },
        {
          "output_type": "stream",
          "name": "stdout",
          "text": [
            "\n",
            "image 1/1 /content/drive/MyDrive/bdma-07-competition/BDMA7_project_files/train_images/Yellow_billed_Cuckoo/Yellow_Billed_Cuckoo_0002_26715.jpg: 576x640 1 Bird, 48.5ms\n",
            "Speed: 4.3ms preprocess, 48.5ms inference, 1.7ms postprocess per image at shape (1, 3, 576, 640)\n"
          ]
        },
        {
          "output_type": "stream",
          "name": "stderr",
          "text": [
            "\rProcessing train_images images:  86%|████████▌ | 927/1082 [02:48<02:26,  1.06it/s]"
          ]
        },
        {
          "output_type": "stream",
          "name": "stdout",
          "text": [
            "\n",
            "image 1/1 /content/drive/MyDrive/bdma-07-competition/BDMA7_project_files/train_images/Yellow_billed_Cuckoo/Yellow_Billed_Cuckoo_0004_26790.jpg: 480x640 1 Bird, 38.6ms\n",
            "Speed: 3.3ms preprocess, 38.6ms inference, 1.2ms postprocess per image at shape (1, 3, 480, 640)\n"
          ]
        },
        {
          "output_type": "stream",
          "name": "stderr",
          "text": [
            "\rProcessing train_images images:  86%|████████▌ | 928/1082 [02:49<02:41,  1.05s/it]"
          ]
        },
        {
          "output_type": "stream",
          "name": "stdout",
          "text": [
            "\n",
            "image 1/1 /content/drive/MyDrive/bdma-07-competition/BDMA7_project_files/train_images/Yellow_billed_Cuckoo/Yellow_Billed_Cuckoo_0007_26687.jpg: 640x512 1 Bird, 36.6ms\n",
            "Speed: 3.6ms preprocess, 36.6ms inference, 1.2ms postprocess per image at shape (1, 3, 640, 512)\n"
          ]
        },
        {
          "output_type": "stream",
          "name": "stderr",
          "text": [
            "\rProcessing train_images images:  86%|████████▌ | 929/1082 [02:50<02:27,  1.04it/s]"
          ]
        },
        {
          "output_type": "stream",
          "name": "stdout",
          "text": [
            "\n",
            "image 1/1 /content/drive/MyDrive/bdma-07-competition/BDMA7_project_files/train_images/Yellow_billed_Cuckoo/Yellow_Billed_Cuckoo_0043_26492.jpg: 480x640 1 Bird, 38.7ms\n",
            "Speed: 4.1ms preprocess, 38.7ms inference, 1.3ms postprocess per image at shape (1, 3, 480, 640)\n"
          ]
        },
        {
          "output_type": "stream",
          "name": "stderr",
          "text": [
            "\rProcessing train_images images:  86%|████████▌ | 930/1082 [02:51<02:29,  1.02it/s]"
          ]
        },
        {
          "output_type": "stream",
          "name": "stdout",
          "text": [
            "\n",
            "image 1/1 /content/drive/MyDrive/bdma-07-competition/BDMA7_project_files/train_images/Yellow_billed_Cuckoo/Yellow_Billed_Cuckoo_0090_26714.jpg: 448x640 1 Bird, 37.6ms\n",
            "Speed: 4.6ms preprocess, 37.6ms inference, 1.3ms postprocess per image at shape (1, 3, 448, 640)\n"
          ]
        },
        {
          "output_type": "stream",
          "name": "stderr",
          "text": [
            "\rProcessing train_images images:  86%|████████▌ | 931/1082 [02:52<02:17,  1.10it/s]"
          ]
        },
        {
          "output_type": "stream",
          "name": "stdout",
          "text": [
            "\n",
            "image 1/1 /content/drive/MyDrive/bdma-07-competition/BDMA7_project_files/train_images/Yellow_billed_Cuckoo/Yellow_Billed_Cuckoo_0034_26694.jpg: 640x448 1 Bird, 35.6ms\n",
            "Speed: 3.2ms preprocess, 35.6ms inference, 1.3ms postprocess per image at shape (1, 3, 640, 448)\n"
          ]
        },
        {
          "output_type": "stream",
          "name": "stderr",
          "text": [
            "\rProcessing train_images images:  86%|████████▌ | 932/1082 [02:53<02:24,  1.04it/s]"
          ]
        },
        {
          "output_type": "stream",
          "name": "stdout",
          "text": [
            "\n",
            "image 1/1 /content/drive/MyDrive/bdma-07-competition/BDMA7_project_files/train_images/Yellow_billed_Cuckoo/Yellow_Billed_Cuckoo_0042_26479.jpg: 448x640 1 Bird, 37.8ms\n",
            "Speed: 4.0ms preprocess, 37.8ms inference, 1.2ms postprocess per image at shape (1, 3, 448, 640)\n"
          ]
        },
        {
          "output_type": "stream",
          "name": "stderr",
          "text": [
            "\rProcessing train_images images:  86%|████████▌ | 933/1082 [02:54<02:24,  1.03it/s]"
          ]
        },
        {
          "output_type": "stream",
          "name": "stdout",
          "text": [
            "\n",
            "image 1/1 /content/drive/MyDrive/bdma-07-competition/BDMA7_project_files/train_images/Yellow_billed_Cuckoo/Yellow_Billed_Cuckoo_0081_26429.jpg: 480x640 1 Bird, 38.7ms\n",
            "Speed: 3.4ms preprocess, 38.7ms inference, 1.3ms postprocess per image at shape (1, 3, 480, 640)\n"
          ]
        },
        {
          "output_type": "stream",
          "name": "stderr",
          "text": [
            "\rProcessing train_images images:  86%|████████▋ | 934/1082 [02:55<02:50,  1.15s/it]"
          ]
        },
        {
          "output_type": "stream",
          "name": "stdout",
          "text": [
            "\n",
            "image 1/1 /content/drive/MyDrive/bdma-07-competition/BDMA7_project_files/train_images/Yellow_billed_Cuckoo/Yellow_Billed_Cuckoo_0117_26651.jpg: 640x544 1 Bird, 46.9ms\n",
            "Speed: 3.8ms preprocess, 46.9ms inference, 1.7ms postprocess per image at shape (1, 3, 640, 544)\n"
          ]
        },
        {
          "output_type": "stream",
          "name": "stderr",
          "text": [
            "\rProcessing train_images images:  86%|████████▋ | 935/1082 [02:57<02:54,  1.18s/it]"
          ]
        },
        {
          "output_type": "stream",
          "name": "stdout",
          "text": [
            "\n",
            "image 1/1 /content/drive/MyDrive/bdma-07-competition/BDMA7_project_files/train_images/Yellow_billed_Cuckoo/Yellow_Billed_Cuckoo_0049_26766.jpg: 640x608 1 Bird, 47.9ms\n",
            "Speed: 7.5ms preprocess, 47.9ms inference, 4.4ms postprocess per image at shape (1, 3, 640, 608)\n"
          ]
        },
        {
          "output_type": "stream",
          "name": "stderr",
          "text": [
            "\rProcessing train_images images:  87%|████████▋ | 936/1082 [02:59<03:34,  1.47s/it]"
          ]
        },
        {
          "output_type": "stream",
          "name": "stdout",
          "text": [
            "\n",
            "image 1/1 /content/drive/MyDrive/bdma-07-competition/BDMA7_project_files/train_images/Yellow_billed_Cuckoo/Yellow_Billed_Cuckoo_0048_26632.jpg: 640x576 1 Bird, 50.2ms\n",
            "Speed: 4.1ms preprocess, 50.2ms inference, 1.6ms postprocess per image at shape (1, 3, 640, 576)\n"
          ]
        },
        {
          "output_type": "stream",
          "name": "stderr",
          "text": [
            "\rProcessing train_images images:  87%|████████▋ | 937/1082 [03:00<03:38,  1.51s/it]"
          ]
        },
        {
          "output_type": "stream",
          "name": "stdout",
          "text": [
            "\n",
            "image 1/1 /content/drive/MyDrive/bdma-07-competition/BDMA7_project_files/train_images/Yellow_billed_Cuckoo/Yellow_Billed_Cuckoo_0119_26550.jpg: 512x640 1 Bird, 40.3ms\n",
            "Speed: 4.5ms preprocess, 40.3ms inference, 1.5ms postprocess per image at shape (1, 3, 512, 640)\n"
          ]
        },
        {
          "output_type": "stream",
          "name": "stderr",
          "text": [
            "\rProcessing train_images images:  87%|████████▋ | 938/1082 [03:02<03:32,  1.48s/it]"
          ]
        },
        {
          "output_type": "stream",
          "name": "stdout",
          "text": [
            "\n",
            "image 1/1 /content/drive/MyDrive/bdma-07-competition/BDMA7_project_files/train_images/Yellow_billed_Cuckoo/Yellow_Billed_Cuckoo_0074_26466.jpg: 416x640 1 Bird, 37.0ms\n",
            "Speed: 2.6ms preprocess, 37.0ms inference, 1.3ms postprocess per image at shape (1, 3, 416, 640)\n"
          ]
        },
        {
          "output_type": "stream",
          "name": "stderr",
          "text": [
            "\rProcessing train_images images:  87%|████████▋ | 939/1082 [03:03<03:10,  1.33s/it]"
          ]
        },
        {
          "output_type": "stream",
          "name": "stdout",
          "text": [
            "\n",
            "image 1/1 /content/drive/MyDrive/bdma-07-competition/BDMA7_project_files/train_images/Yellow_billed_Cuckoo/Yellow_Billed_Cuckoo_0067_26878.jpg: 544x640 1 Bird, 45.9ms\n",
            "Speed: 6.8ms preprocess, 45.9ms inference, 1.3ms postprocess per image at shape (1, 3, 544, 640)\n"
          ]
        },
        {
          "output_type": "stream",
          "name": "stderr",
          "text": [
            "\rProcessing train_images images:  87%|████████▋ | 940/1082 [03:03<02:41,  1.14s/it]"
          ]
        },
        {
          "output_type": "stream",
          "name": "stdout",
          "text": [
            "\n",
            "image 1/1 /content/drive/MyDrive/bdma-07-competition/BDMA7_project_files/train_images/Yellow_billed_Cuckoo/Yellow_Billed_Cuckoo_0010_26795.jpg: 640x480 1 Bird, 36.7ms\n",
            "Speed: 4.2ms preprocess, 36.7ms inference, 1.3ms postprocess per image at shape (1, 3, 640, 480)\n"
          ]
        },
        {
          "output_type": "stream",
          "name": "stderr",
          "text": [
            "\rProcessing train_images images:  87%|████████▋ | 941/1082 [03:04<02:28,  1.05s/it]"
          ]
        },
        {
          "output_type": "stream",
          "name": "stdout",
          "text": [
            "\n",
            "image 1/1 /content/drive/MyDrive/bdma-07-competition/BDMA7_project_files/train_images/Yellow_billed_Cuckoo/Yellow_Billed_Cuckoo_0078_26888.jpg: 640x512 2 Birds, 36.7ms\n",
            "Speed: 3.8ms preprocess, 36.7ms inference, 1.2ms postprocess per image at shape (1, 3, 640, 512)\n"
          ]
        },
        {
          "output_type": "stream",
          "name": "stderr",
          "text": [
            "\rProcessing train_images images:  87%|████████▋ | 942/1082 [03:06<02:48,  1.20s/it]"
          ]
        },
        {
          "output_type": "stream",
          "name": "stdout",
          "text": [
            "\n",
            "image 1/1 /content/drive/MyDrive/bdma-07-competition/BDMA7_project_files/train_images/Yellow_billed_Cuckoo/Yellow_Billed_Cuckoo_0022_26423.jpg: 448x640 1 Bird, 37.6ms\n",
            "Speed: 3.8ms preprocess, 37.6ms inference, 1.3ms postprocess per image at shape (1, 3, 448, 640)\n"
          ]
        },
        {
          "output_type": "stream",
          "name": "stderr",
          "text": [
            "\rProcessing train_images images:  87%|████████▋ | 943/1082 [03:06<02:25,  1.05s/it]"
          ]
        },
        {
          "output_type": "stream",
          "name": "stdout",
          "text": [
            "\n",
            "image 1/1 /content/drive/MyDrive/bdma-07-competition/BDMA7_project_files/train_images/Yellow_billed_Cuckoo/Yellow_Billed_Cuckoo_0024_26832.jpg: 448x640 1 Bird, 36.8ms\n",
            "Speed: 3.2ms preprocess, 36.8ms inference, 1.3ms postprocess per image at shape (1, 3, 448, 640)\n"
          ]
        },
        {
          "output_type": "stream",
          "name": "stderr",
          "text": [
            "\rProcessing train_images images:  87%|████████▋ | 944/1082 [03:07<02:13,  1.04it/s]"
          ]
        },
        {
          "output_type": "stream",
          "name": "stdout",
          "text": [
            "\n",
            "image 1/1 /content/drive/MyDrive/bdma-07-competition/BDMA7_project_files/train_images/Yellow_billed_Cuckoo/Yellow_Billed_Cuckoo_0084_26761.jpg: 640x448 1 Bird, 35.7ms\n",
            "Speed: 3.6ms preprocess, 35.7ms inference, 1.3ms postprocess per image at shape (1, 3, 640, 448)\n"
          ]
        },
        {
          "output_type": "stream",
          "name": "stderr",
          "text": [
            "\rProcessing train_images images:  87%|████████▋ | 945/1082 [03:08<02:09,  1.06it/s]"
          ]
        },
        {
          "output_type": "stream",
          "name": "stdout",
          "text": [
            "\n",
            "image 1/1 /content/drive/MyDrive/bdma-07-competition/BDMA7_project_files/train_images/Yellow_billed_Cuckoo/Yellow_Billed_Cuckoo_0038_26912.jpg: 480x640 1 Bird, 39.1ms\n",
            "Speed: 3.5ms preprocess, 39.1ms inference, 1.5ms postprocess per image at shape (1, 3, 480, 640)\n"
          ]
        },
        {
          "output_type": "stream",
          "name": "stderr",
          "text": [
            "\rProcessing train_images images:  87%|████████▋ | 946/1082 [03:09<02:04,  1.09it/s]"
          ]
        },
        {
          "output_type": "stream",
          "name": "stdout",
          "text": [
            "\n",
            "image 1/1 /content/drive/MyDrive/bdma-07-competition/BDMA7_project_files/train_images/Yellow_billed_Cuckoo/Yellow_Billed_Cuckoo_0116_26544.jpg: 640x448 2 Birds, 35.7ms\n",
            "Speed: 3.3ms preprocess, 35.7ms inference, 1.2ms postprocess per image at shape (1, 3, 640, 448)\n"
          ]
        },
        {
          "output_type": "stream",
          "name": "stderr",
          "text": [
            "\rProcessing train_images images:  88%|████████▊ | 947/1082 [03:10<02:07,  1.06it/s]"
          ]
        },
        {
          "output_type": "stream",
          "name": "stdout",
          "text": [
            "\n",
            "image 1/1 /content/drive/MyDrive/bdma-07-competition/BDMA7_project_files/train_images/Yellow_billed_Cuckoo/Yellow_Billed_Cuckoo_0093_26432.jpg: 480x640 1 Bird, 40.7ms\n",
            "Speed: 4.2ms preprocess, 40.7ms inference, 1.2ms postprocess per image at shape (1, 3, 480, 640)\n"
          ]
        },
        {
          "output_type": "stream",
          "name": "stderr",
          "text": [
            "\rProcessing train_images images:  88%|████████▊ | 948/1082 [03:11<02:17,  1.02s/it]"
          ]
        },
        {
          "output_type": "stream",
          "name": "stdout",
          "text": [
            "\n",
            "image 1/1 /content/drive/MyDrive/bdma-07-competition/BDMA7_project_files/train_images/Yellow_billed_Cuckoo/Yellow_Billed_Cuckoo_0018_26535.jpg: 640x480 1 Bird, 40.2ms\n",
            "Speed: 3.7ms preprocess, 40.2ms inference, 1.5ms postprocess per image at shape (1, 3, 640, 480)\n"
          ]
        },
        {
          "output_type": "stream",
          "name": "stderr",
          "text": [
            "\rProcessing train_images images:  88%|████████▊ | 949/1082 [03:12<02:10,  1.02it/s]"
          ]
        },
        {
          "output_type": "stream",
          "name": "stdout",
          "text": [
            "\n",
            "image 1/1 /content/drive/MyDrive/bdma-07-competition/BDMA7_project_files/train_images/Yellow_billed_Cuckoo/Yellow_Billed_Cuckoo_0009_26656.jpg: 480x640 1 Bird, 39.1ms\n",
            "Speed: 5.6ms preprocess, 39.1ms inference, 1.8ms postprocess per image at shape (1, 3, 480, 640)\n"
          ]
        },
        {
          "output_type": "stream",
          "name": "stderr",
          "text": [
            "\rProcessing train_images images:  88%|████████▊ | 950/1082 [03:13<02:14,  1.02s/it]"
          ]
        },
        {
          "output_type": "stream",
          "name": "stdout",
          "text": [
            "\n",
            "image 1/1 /content/drive/MyDrive/bdma-07-competition/BDMA7_project_files/train_images/Yellow_billed_Cuckoo/Yellow_Billed_Cuckoo_0097_26713.jpg: 448x640 (no detections), 37.7ms\n",
            "Speed: 3.2ms preprocess, 37.7ms inference, 0.6ms postprocess per image at shape (1, 3, 448, 640)\n"
          ]
        },
        {
          "output_type": "stream",
          "name": "stderr",
          "text": [
            "\rProcessing train_images images:  88%|████████▊ | 951/1082 [03:14<02:25,  1.11s/it]"
          ]
        },
        {
          "output_type": "stream",
          "name": "stdout",
          "text": [
            "Warning: No objects detected in /content/drive/MyDrive/bdma-07-competition/BDMA7_project_files/train_images/Yellow_billed_Cuckoo/Yellow_Billed_Cuckoo_0097_26713.jpg, skipping cropping.\n",
            "\n",
            "image 1/1 /content/drive/MyDrive/bdma-07-competition/BDMA7_project_files/train_images/Yellow_billed_Cuckoo/Yellow_Billed_Cuckoo_0066_26600.jpg: 640x448 1 Bird, 35.6ms\n",
            "Speed: 3.3ms preprocess, 35.6ms inference, 1.2ms postprocess per image at shape (1, 3, 640, 448)\n"
          ]
        },
        {
          "output_type": "stream",
          "name": "stderr",
          "text": [
            "\rProcessing train_images images:  88%|████████▊ | 952/1082 [03:16<02:27,  1.14s/it]"
          ]
        },
        {
          "output_type": "stream",
          "name": "stdout",
          "text": [
            "\n",
            "image 1/1 /content/drive/MyDrive/bdma-07-competition/BDMA7_project_files/train_images/Yellow_billed_Cuckoo/Yellow_Billed_Cuckoo_0039_26510.jpg: 512x640 1 Bird, 39.9ms\n",
            "Speed: 3.6ms preprocess, 39.9ms inference, 1.4ms postprocess per image at shape (1, 3, 512, 640)\n"
          ]
        },
        {
          "output_type": "stream",
          "name": "stderr",
          "text": [
            "\rProcessing train_images images:  88%|████████▊ | 953/1082 [03:17<02:21,  1.10s/it]"
          ]
        },
        {
          "output_type": "stream",
          "name": "stdout",
          "text": [
            "\n",
            "image 1/1 /content/drive/MyDrive/bdma-07-competition/BDMA7_project_files/train_images/Yellow_billed_Cuckoo/Yellow_Billed_Cuckoo_0094_26643.jpg: 448x640 1 Bird, 37.8ms\n",
            "Speed: 3.2ms preprocess, 37.8ms inference, 1.4ms postprocess per image at shape (1, 3, 448, 640)\n"
          ]
        },
        {
          "output_type": "stream",
          "name": "stderr",
          "text": [
            "\rProcessing train_images images:  88%|████████▊ | 954/1082 [03:18<02:12,  1.03s/it]"
          ]
        },
        {
          "output_type": "stream",
          "name": "stdout",
          "text": [
            "\n",
            "image 1/1 /content/drive/MyDrive/bdma-07-competition/BDMA7_project_files/train_images/Yellow_billed_Cuckoo/Yellow_Billed_Cuckoo_0050_26424.jpg: 480x640 1 Bird, 38.8ms\n",
            "Speed: 3.4ms preprocess, 38.8ms inference, 1.3ms postprocess per image at shape (1, 3, 480, 640)\n"
          ]
        },
        {
          "output_type": "stream",
          "name": "stderr",
          "text": [
            "\rProcessing train_images images:  88%|████████▊ | 955/1082 [03:19<02:14,  1.06s/it]"
          ]
        },
        {
          "output_type": "stream",
          "name": "stdout",
          "text": [
            "\n",
            "image 1/1 /content/drive/MyDrive/bdma-07-competition/BDMA7_project_files/train_images/Yellow_billed_Cuckoo/Yellow_Billed_Cuckoo_0104_26814.jpg: 480x640 1 Bird, 37.7ms\n",
            "Speed: 3.4ms preprocess, 37.7ms inference, 1.3ms postprocess per image at shape (1, 3, 480, 640)\n"
          ]
        },
        {
          "output_type": "stream",
          "name": "stderr",
          "text": [
            "\rProcessing train_images images:  88%|████████▊ | 956/1082 [03:20<02:28,  1.18s/it]"
          ]
        },
        {
          "output_type": "stream",
          "name": "stdout",
          "text": [
            "\n",
            "image 1/1 /content/drive/MyDrive/bdma-07-competition/BDMA7_project_files/train_images/Yellow_billed_Cuckoo/Yellow_Billed_Cuckoo_0069_26597.jpg: 640x512 (no detections), 36.6ms\n",
            "Speed: 3.2ms preprocess, 36.6ms inference, 0.5ms postprocess per image at shape (1, 3, 640, 512)\n"
          ]
        },
        {
          "output_type": "stream",
          "name": "stderr",
          "text": [
            "\rProcessing train_images images:  88%|████████▊ | 957/1082 [03:21<02:22,  1.14s/it]"
          ]
        },
        {
          "output_type": "stream",
          "name": "stdout",
          "text": [
            "Warning: No objects detected in /content/drive/MyDrive/bdma-07-competition/BDMA7_project_files/train_images/Yellow_billed_Cuckoo/Yellow_Billed_Cuckoo_0069_26597.jpg, skipping cropping.\n",
            "\n",
            "image 1/1 /content/drive/MyDrive/bdma-07-competition/BDMA7_project_files/train_images/Yellow_billed_Cuckoo/Yellow_Billed_Cuckoo_0088_26812.jpg: 640x416 1 Bird, 35.3ms\n",
            "Speed: 3.0ms preprocess, 35.3ms inference, 1.2ms postprocess per image at shape (1, 3, 640, 416)\n"
          ]
        },
        {
          "output_type": "stream",
          "name": "stderr",
          "text": [
            "\rProcessing train_images images:  89%|████████▊ | 958/1082 [03:22<02:12,  1.07s/it]"
          ]
        },
        {
          "output_type": "stream",
          "name": "stdout",
          "text": [
            "\n",
            "image 1/1 /content/drive/MyDrive/bdma-07-competition/BDMA7_project_files/train_images/Yellow_billed_Cuckoo/Yellow_Billed_Cuckoo_0014_26754.jpg: 640x480 1 Bird, 37.2ms\n",
            "Speed: 3.1ms preprocess, 37.2ms inference, 1.8ms postprocess per image at shape (1, 3, 640, 480)\n"
          ]
        },
        {
          "output_type": "stream",
          "name": "stderr",
          "text": [
            "\rProcessing train_images images:  89%|████████▊ | 959/1082 [03:24<02:43,  1.33s/it]"
          ]
        },
        {
          "output_type": "stream",
          "name": "stdout",
          "text": [
            "\n",
            "image 1/1 /content/drive/MyDrive/bdma-07-competition/BDMA7_project_files/train_images/Yellow_billed_Cuckoo/Yellow_Billed_Cuckoo_0077_26431.jpg: 640x512 1 Bird, 36.9ms\n",
            "Speed: 3.5ms preprocess, 36.9ms inference, 1.6ms postprocess per image at shape (1, 3, 640, 512)\n"
          ]
        },
        {
          "output_type": "stream",
          "name": "stderr",
          "text": [
            "\rProcessing train_images images:  89%|████████▊ | 960/1082 [03:25<02:29,  1.22s/it]"
          ]
        },
        {
          "output_type": "stream",
          "name": "stdout",
          "text": [
            "\n",
            "image 1/1 /content/drive/MyDrive/bdma-07-competition/BDMA7_project_files/train_images/Yellow_billed_Cuckoo/Yellow_Billed_Cuckoo_0003_26797.jpg: 640x512 1 Bird, 37.1ms\n",
            "Speed: 3.6ms preprocess, 37.1ms inference, 1.9ms postprocess per image at shape (1, 3, 640, 512)\n"
          ]
        },
        {
          "output_type": "stream",
          "name": "stderr",
          "text": [
            "\rProcessing train_images images:  89%|████████▉ | 961/1082 [03:26<02:07,  1.06s/it]"
          ]
        },
        {
          "output_type": "stream",
          "name": "stdout",
          "text": [
            "\n",
            "image 1/1 /content/drive/MyDrive/bdma-07-competition/BDMA7_project_files/train_images/Yellow_billed_Cuckoo/Yellow_Billed_Cuckoo_0092_26859.jpg: 640x448 1 Bird, 35.8ms\n",
            "Speed: 3.2ms preprocess, 35.8ms inference, 1.2ms postprocess per image at shape (1, 3, 640, 448)\n"
          ]
        },
        {
          "output_type": "stream",
          "name": "stderr",
          "text": [
            "\rProcessing train_images images:  89%|████████▉ | 962/1082 [03:27<02:17,  1.14s/it]"
          ]
        },
        {
          "output_type": "stream",
          "name": "stdout",
          "text": [
            "\n",
            "image 1/1 /content/drive/MyDrive/bdma-07-competition/BDMA7_project_files/train_images/Yellow_billed_Cuckoo/Yellow_Billed_Cuckoo_0019_26803.jpg: 576x640 1 Bird, 47.1ms\n",
            "Speed: 3.6ms preprocess, 47.1ms inference, 1.8ms postprocess per image at shape (1, 3, 576, 640)\n"
          ]
        },
        {
          "output_type": "stream",
          "name": "stderr",
          "text": [
            "\rProcessing train_images images:  89%|████████▉ | 963/1082 [03:28<02:01,  1.02s/it]"
          ]
        },
        {
          "output_type": "stream",
          "name": "stdout",
          "text": [
            "\n",
            "image 1/1 /content/drive/MyDrive/bdma-07-competition/BDMA7_project_files/train_images/Yellow_billed_Cuckoo/Yellow_Billed_Cuckoo_0045_26685.jpg: 448x640 1 Bird, 37.6ms\n",
            "Speed: 3.7ms preprocess, 37.6ms inference, 1.2ms postprocess per image at shape (1, 3, 448, 640)\n"
          ]
        },
        {
          "output_type": "stream",
          "name": "stderr",
          "text": [
            "\rProcessing train_images images:  89%|████████▉ | 964/1082 [03:29<02:08,  1.09s/it]"
          ]
        },
        {
          "output_type": "stream",
          "name": "stdout",
          "text": [
            "\n",
            "image 1/1 /content/drive/MyDrive/bdma-07-competition/BDMA7_project_files/train_images/Yellow_billed_Cuckoo/Yellow_Billed_Cuckoo_0032_26616.jpg: 640x544 1 Bird, 46.7ms\n",
            "Speed: 4.7ms preprocess, 46.7ms inference, 1.3ms postprocess per image at shape (1, 3, 640, 544)\n"
          ]
        },
        {
          "output_type": "stream",
          "name": "stderr",
          "text": [
            "\rProcessing train_images images:  89%|████████▉ | 965/1082 [03:30<02:03,  1.06s/it]"
          ]
        },
        {
          "output_type": "stream",
          "name": "stdout",
          "text": [
            "\n",
            "image 1/1 /content/drive/MyDrive/bdma-07-competition/BDMA7_project_files/train_images/Yellow_billed_Cuckoo/Yellow_Billed_Cuckoo_0053_26738.jpg: 640x448 1 Bird, 35.8ms\n",
            "Speed: 3.4ms preprocess, 35.8ms inference, 1.2ms postprocess per image at shape (1, 3, 640, 448)\n"
          ]
        },
        {
          "output_type": "stream",
          "name": "stderr",
          "text": [
            "\rProcessing train_images images:  89%|████████▉ | 966/1082 [03:31<01:51,  1.04it/s]"
          ]
        },
        {
          "output_type": "stream",
          "name": "stdout",
          "text": [
            "\n",
            "image 1/1 /content/drive/MyDrive/bdma-07-competition/BDMA7_project_files/train_images/Yellow_billed_Cuckoo/Yellow_Billed_Cuckoo_0098_26501.jpg: 448x640 1 Bird, 37.7ms\n",
            "Speed: 3.1ms preprocess, 37.7ms inference, 1.2ms postprocess per image at shape (1, 3, 448, 640)\n"
          ]
        },
        {
          "output_type": "stream",
          "name": "stderr",
          "text": [
            "\rProcessing train_images images:  89%|████████▉ | 967/1082 [03:32<01:48,  1.06it/s]"
          ]
        },
        {
          "output_type": "stream",
          "name": "stdout",
          "text": [
            "\n",
            "image 1/1 /content/drive/MyDrive/bdma-07-competition/BDMA7_project_files/train_images/Yellow_billed_Cuckoo/Yellow_Billed_Cuckoo_0023_26637.jpg: 480x640 1 Bird, 38.8ms\n",
            "Speed: 3.4ms preprocess, 38.8ms inference, 1.5ms postprocess per image at shape (1, 3, 480, 640)\n"
          ]
        },
        {
          "output_type": "stream",
          "name": "stderr",
          "text": [
            "\rProcessing train_images images:  89%|████████▉ | 968/1082 [03:32<01:45,  1.08it/s]"
          ]
        },
        {
          "output_type": "stream",
          "name": "stdout",
          "text": [
            "\n",
            "image 1/1 /content/drive/MyDrive/bdma-07-competition/BDMA7_project_files/train_images/Yellow_billed_Cuckoo/Yellow_Billed_Cuckoo_0059_26828.jpg: 640x480 1 Bird, 40.0ms\n",
            "Speed: 3.5ms preprocess, 40.0ms inference, 1.5ms postprocess per image at shape (1, 3, 640, 480)\n"
          ]
        },
        {
          "output_type": "stream",
          "name": "stderr",
          "text": [
            "\rProcessing train_images images:  90%|████████▉ | 969/1082 [03:34<01:47,  1.05it/s]"
          ]
        },
        {
          "output_type": "stream",
          "name": "stdout",
          "text": [
            "\n",
            "image 1/1 /content/drive/MyDrive/bdma-07-competition/BDMA7_project_files/train_images/Yellow_billed_Cuckoo/Yellow_Billed_Cuckoo_0005_26684.jpg: 448x640 1 Bird, 37.6ms\n",
            "Speed: 3.2ms preprocess, 37.6ms inference, 1.3ms postprocess per image at shape (1, 3, 448, 640)\n"
          ]
        },
        {
          "output_type": "stream",
          "name": "stderr",
          "text": [
            "\rProcessing train_images images:  90%|████████▉ | 970/1082 [03:34<01:38,  1.13it/s]"
          ]
        },
        {
          "output_type": "stream",
          "name": "stdout",
          "text": [
            "\n",
            "image 1/1 /content/drive/MyDrive/bdma-07-competition/BDMA7_project_files/train_images/Yellow_billed_Cuckoo/Yellow_Billed_Cuckoo_0121_26807.jpg: 480x640 1 Bird, 38.6ms\n",
            "Speed: 3.8ms preprocess, 38.6ms inference, 1.2ms postprocess per image at shape (1, 3, 480, 640)\n"
          ]
        },
        {
          "output_type": "stream",
          "name": "stderr",
          "text": [
            "\rProcessing train_images images:  90%|████████▉ | 971/1082 [03:35<01:49,  1.01it/s]"
          ]
        },
        {
          "output_type": "stream",
          "name": "stdout",
          "text": [
            "\n",
            "image 1/1 /content/drive/MyDrive/bdma-07-competition/BDMA7_project_files/train_images/Yellow_billed_Cuckoo/Yellow_Billed_Cuckoo_0012_26712.jpg: 448x640 1 Bird, 38.1ms\n",
            "Speed: 2.7ms preprocess, 38.1ms inference, 3.9ms postprocess per image at shape (1, 3, 448, 640)\n"
          ]
        },
        {
          "output_type": "stream",
          "name": "stderr",
          "text": [
            "\rProcessing train_images images:  90%|████████▉ | 972/1082 [03:36<01:45,  1.04it/s]"
          ]
        },
        {
          "output_type": "stream",
          "name": "stdout",
          "text": [
            "\n",
            "image 1/1 /content/drive/MyDrive/bdma-07-competition/BDMA7_project_files/train_images/Yellow_billed_Cuckoo/Yellow_Billed_Cuckoo_0060_26686.jpg: 640x512 1 Bird, 37.6ms\n",
            "Speed: 5.5ms preprocess, 37.6ms inference, 1.8ms postprocess per image at shape (1, 3, 640, 512)\n"
          ]
        },
        {
          "output_type": "stream",
          "name": "stderr",
          "text": [
            "\rProcessing train_images images:  90%|████████▉ | 973/1082 [03:37<01:37,  1.11it/s]"
          ]
        },
        {
          "output_type": "stream",
          "name": "stdout",
          "text": [
            "\n",
            "image 1/1 /content/drive/MyDrive/bdma-07-competition/BDMA7_project_files/train_images/Yellow_billed_Cuckoo/Yellow_Billed_Cuckoo_0073_26744.jpg: 512x640 1 Bird, 39.5ms\n",
            "Speed: 5.5ms preprocess, 39.5ms inference, 1.9ms postprocess per image at shape (1, 3, 512, 640)\n"
          ]
        },
        {
          "output_type": "stream",
          "name": "stderr",
          "text": [
            "\rProcessing train_images images:  90%|█████████ | 974/1082 [03:38<01:37,  1.11it/s]"
          ]
        },
        {
          "output_type": "stream",
          "name": "stdout",
          "text": [
            "\n",
            "image 1/1 /content/drive/MyDrive/bdma-07-competition/BDMA7_project_files/train_images/Yellow_billed_Cuckoo/Yellow_Billed_Cuckoo_0029_26865.jpg: 480x640 1 Bird, 38.6ms\n",
            "Speed: 6.3ms preprocess, 38.6ms inference, 1.3ms postprocess per image at shape (1, 3, 480, 640)\n"
          ]
        },
        {
          "output_type": "stream",
          "name": "stderr",
          "text": [
            "\rProcessing train_images images:  90%|█████████ | 975/1082 [03:39<01:39,  1.08it/s]"
          ]
        },
        {
          "output_type": "stream",
          "name": "stdout",
          "text": [
            "\n",
            "image 1/1 /content/drive/MyDrive/bdma-07-competition/BDMA7_project_files/train_images/Red_winged_Blackbird/Red_Winged_Blackbird_0064_4936.jpg: 512x640 1 Bird, 39.0ms\n",
            "Speed: 3.7ms preprocess, 39.0ms inference, 1.3ms postprocess per image at shape (1, 3, 512, 640)\n"
          ]
        },
        {
          "output_type": "stream",
          "name": "stderr",
          "text": [
            "\rProcessing train_images images:  90%|█████████ | 976/1082 [03:40<01:31,  1.16it/s]"
          ]
        },
        {
          "output_type": "stream",
          "name": "stdout",
          "text": [
            "\n",
            "image 1/1 /content/drive/MyDrive/bdma-07-competition/BDMA7_project_files/train_images/Red_winged_Blackbird/Red_Winged_Blackbird_0044_5621.jpg: 608x640 1 Bird, 47.8ms\n",
            "Speed: 4.2ms preprocess, 47.8ms inference, 1.3ms postprocess per image at shape (1, 3, 608, 640)\n"
          ]
        },
        {
          "output_type": "stream",
          "name": "stderr",
          "text": [
            "\rProcessing train_images images:  90%|█████████ | 977/1082 [03:41<01:44,  1.00it/s]"
          ]
        },
        {
          "output_type": "stream",
          "name": "stdout",
          "text": [
            "\n",
            "image 1/1 /content/drive/MyDrive/bdma-07-competition/BDMA7_project_files/train_images/Red_winged_Blackbird/Red_Winged_Blackbird_0032_4004.jpg: 640x480 1 Bird, 36.8ms\n",
            "Speed: 3.8ms preprocess, 36.8ms inference, 1.2ms postprocess per image at shape (1, 3, 640, 480)\n"
          ]
        },
        {
          "output_type": "stream",
          "name": "stderr",
          "text": [
            "\rProcessing train_images images:  90%|█████████ | 978/1082 [03:42<01:34,  1.10it/s]"
          ]
        },
        {
          "output_type": "stream",
          "name": "stdout",
          "text": [
            "\n",
            "image 1/1 /content/drive/MyDrive/bdma-07-competition/BDMA7_project_files/train_images/Red_winged_Blackbird/Red_Winged_Blackbird_0022_4483.jpg: 640x480 1 Bird, 35.9ms\n",
            "Speed: 4.2ms preprocess, 35.9ms inference, 1.3ms postprocess per image at shape (1, 3, 640, 480)\n"
          ]
        },
        {
          "output_type": "stream",
          "name": "stderr",
          "text": [
            "\rProcessing train_images images:  90%|█████████ | 979/1082 [03:43<01:32,  1.12it/s]"
          ]
        },
        {
          "output_type": "stream",
          "name": "stdout",
          "text": [
            "\n",
            "image 1/1 /content/drive/MyDrive/bdma-07-competition/BDMA7_project_files/train_images/Red_winged_Blackbird/Red_Winged_Blackbird_0009_5841.jpg: 480x640 1 Bird, 38.6ms\n",
            "Speed: 3.7ms preprocess, 38.6ms inference, 1.3ms postprocess per image at shape (1, 3, 480, 640)\n"
          ]
        },
        {
          "output_type": "stream",
          "name": "stderr",
          "text": [
            "\rProcessing train_images images:  91%|█████████ | 980/1082 [03:44<01:43,  1.01s/it]"
          ]
        },
        {
          "output_type": "stream",
          "name": "stdout",
          "text": [
            "\n",
            "image 1/1 /content/drive/MyDrive/bdma-07-competition/BDMA7_project_files/train_images/Red_winged_Blackbird/Red_Winged_Blackbird_0025_5342.jpg: 480x640 1 Bird, 37.8ms\n",
            "Speed: 2.3ms preprocess, 37.8ms inference, 1.4ms postprocess per image at shape (1, 3, 480, 640)\n"
          ]
        },
        {
          "output_type": "stream",
          "name": "stderr",
          "text": [
            "\rProcessing train_images images:  91%|█████████ | 981/1082 [03:45<01:42,  1.02s/it]"
          ]
        },
        {
          "output_type": "stream",
          "name": "stdout",
          "text": [
            "\n",
            "image 1/1 /content/drive/MyDrive/bdma-07-competition/BDMA7_project_files/train_images/Red_winged_Blackbird/Red_Winged_Blackbird_0007_3706.jpg: 384x640 1 Bird, 31.7ms\n",
            "Speed: 3.1ms preprocess, 31.7ms inference, 1.2ms postprocess per image at shape (1, 3, 384, 640)\n"
          ]
        },
        {
          "output_type": "stream",
          "name": "stderr",
          "text": [
            "\rProcessing train_images images:  91%|█████████ | 982/1082 [03:46<01:38,  1.01it/s]"
          ]
        },
        {
          "output_type": "stream",
          "name": "stdout",
          "text": [
            "\n",
            "image 1/1 /content/drive/MyDrive/bdma-07-competition/BDMA7_project_files/train_images/Red_winged_Blackbird/Red_Winged_Blackbird_0010_6386.jpg: 640x544 1 Bird, 46.8ms\n",
            "Speed: 4.4ms preprocess, 46.8ms inference, 1.2ms postprocess per image at shape (1, 3, 640, 544)\n"
          ]
        },
        {
          "output_type": "stream",
          "name": "stderr",
          "text": [
            "\rProcessing train_images images:  91%|█████████ | 983/1082 [03:47<01:32,  1.08it/s]"
          ]
        },
        {
          "output_type": "stream",
          "name": "stdout",
          "text": [
            "\n",
            "image 1/1 /content/drive/MyDrive/bdma-07-competition/BDMA7_project_files/train_images/Red_winged_Blackbird/Red_Winged_Blackbird_0061_4196.jpg: 416x640 1 Bird, 37.1ms\n",
            "Speed: 3.0ms preprocess, 37.1ms inference, 1.2ms postprocess per image at shape (1, 3, 416, 640)\n"
          ]
        },
        {
          "output_type": "stream",
          "name": "stderr",
          "text": [
            "\rProcessing train_images images:  91%|█████████ | 984/1082 [03:47<01:22,  1.18it/s]"
          ]
        },
        {
          "output_type": "stream",
          "name": "stdout",
          "text": [
            "\n",
            "image 1/1 /content/drive/MyDrive/bdma-07-competition/BDMA7_project_files/train_images/Red_winged_Blackbird/Red_Winged_Blackbird_0040_4522.jpg: 448x640 1 Bird, 37.7ms\n",
            "Speed: 3.5ms preprocess, 37.7ms inference, 1.3ms postprocess per image at shape (1, 3, 448, 640)\n"
          ]
        },
        {
          "output_type": "stream",
          "name": "stderr",
          "text": [
            "\rProcessing train_images images:  91%|█████████ | 985/1082 [03:48<01:25,  1.13it/s]"
          ]
        },
        {
          "output_type": "stream",
          "name": "stdout",
          "text": [
            "\n",
            "image 1/1 /content/drive/MyDrive/bdma-07-competition/BDMA7_project_files/train_images/Red_winged_Blackbird/Red_Winged_Blackbird_0046_4242.jpg: 448x640 1 Bird, 36.9ms\n",
            "Speed: 7.3ms preprocess, 36.9ms inference, 1.7ms postprocess per image at shape (1, 3, 448, 640)\n"
          ]
        },
        {
          "output_type": "stream",
          "name": "stderr",
          "text": [
            "\rProcessing train_images images:  91%|█████████ | 986/1082 [03:49<01:25,  1.13it/s]"
          ]
        },
        {
          "output_type": "stream",
          "name": "stdout",
          "text": [
            "\n",
            "image 1/1 /content/drive/MyDrive/bdma-07-competition/BDMA7_project_files/train_images/Red_winged_Blackbird/Red_Winged_Blackbird_0081_6081.jpg: 544x640 1 Bird, 46.3ms\n",
            "Speed: 6.1ms preprocess, 46.3ms inference, 1.5ms postprocess per image at shape (1, 3, 544, 640)\n"
          ]
        },
        {
          "output_type": "stream",
          "name": "stderr",
          "text": [
            "\rProcessing train_images images:  91%|█████████ | 987/1082 [03:50<01:27,  1.08it/s]"
          ]
        },
        {
          "output_type": "stream",
          "name": "stdout",
          "text": [
            "\n",
            "image 1/1 /content/drive/MyDrive/bdma-07-competition/BDMA7_project_files/train_images/Red_winged_Blackbird/Red_Winged_Blackbird_0078_5372.jpg: 480x640 1 Bird, 39.4ms\n",
            "Speed: 7.3ms preprocess, 39.4ms inference, 1.9ms postprocess per image at shape (1, 3, 480, 640)\n"
          ]
        },
        {
          "output_type": "stream",
          "name": "stderr",
          "text": [
            "\rProcessing train_images images:  91%|█████████▏| 988/1082 [03:51<01:25,  1.10it/s]"
          ]
        },
        {
          "output_type": "stream",
          "name": "stdout",
          "text": [
            "\n",
            "image 1/1 /content/drive/MyDrive/bdma-07-competition/BDMA7_project_files/train_images/Red_winged_Blackbird/Red_Winged_Blackbird_0091_4096.jpg: 576x640 1 Bird, 46.8ms\n",
            "Speed: 5.4ms preprocess, 46.8ms inference, 1.3ms postprocess per image at shape (1, 3, 576, 640)\n"
          ]
        },
        {
          "output_type": "stream",
          "name": "stderr",
          "text": [
            "\rProcessing train_images images:  91%|█████████▏| 989/1082 [03:53<01:40,  1.08s/it]"
          ]
        },
        {
          "output_type": "stream",
          "name": "stdout",
          "text": [
            "\n",
            "image 1/1 /content/drive/MyDrive/bdma-07-competition/BDMA7_project_files/train_images/Red_winged_Blackbird/Red_Winged_Blackbird_0085_5846.jpg: 640x480 1 Bird, 36.7ms\n",
            "Speed: 4.1ms preprocess, 36.7ms inference, 1.2ms postprocess per image at shape (1, 3, 640, 480)\n"
          ]
        },
        {
          "output_type": "stream",
          "name": "stderr",
          "text": [
            "\rProcessing train_images images:  91%|█████████▏| 990/1082 [03:54<01:53,  1.23s/it]"
          ]
        },
        {
          "output_type": "stream",
          "name": "stdout",
          "text": [
            "\n",
            "image 1/1 /content/drive/MyDrive/bdma-07-competition/BDMA7_project_files/train_images/Red_winged_Blackbird/Red_Winged_Blackbird_0099_3985.jpg: 640x576 1 Bird, 46.9ms\n",
            "Speed: 4.7ms preprocess, 46.9ms inference, 1.5ms postprocess per image at shape (1, 3, 640, 576)\n"
          ]
        },
        {
          "output_type": "stream",
          "name": "stderr",
          "text": [
            "\rProcessing train_images images:  92%|█████████▏| 991/1082 [03:55<01:44,  1.14s/it]"
          ]
        },
        {
          "output_type": "stream",
          "name": "stdout",
          "text": [
            "\n",
            "image 1/1 /content/drive/MyDrive/bdma-07-competition/BDMA7_project_files/train_images/Red_winged_Blackbird/Red_Winged_Blackbird_0096_5019.jpg: 480x640 1 Bird, 38.7ms\n",
            "Speed: 3.5ms preprocess, 38.7ms inference, 1.3ms postprocess per image at shape (1, 3, 480, 640)\n"
          ]
        },
        {
          "output_type": "stream",
          "name": "stderr",
          "text": [
            "\rProcessing train_images images:  92%|█████████▏| 992/1082 [03:56<01:38,  1.09s/it]"
          ]
        },
        {
          "output_type": "stream",
          "name": "stdout",
          "text": [
            "\n",
            "image 1/1 /content/drive/MyDrive/bdma-07-competition/BDMA7_project_files/train_images/Red_winged_Blackbird/Red_Winged_Blackbird_0017_4116.jpg: 512x640 1 Bird, 39.1ms\n",
            "Speed: 3.8ms preprocess, 39.1ms inference, 1.3ms postprocess per image at shape (1, 3, 512, 640)\n"
          ]
        },
        {
          "output_type": "stream",
          "name": "stderr",
          "text": [
            "\rProcessing train_images images:  92%|█████████▏| 993/1082 [03:57<01:38,  1.10s/it]"
          ]
        },
        {
          "output_type": "stream",
          "name": "stdout",
          "text": [
            "\n",
            "image 1/1 /content/drive/MyDrive/bdma-07-competition/BDMA7_project_files/train_images/Red_winged_Blackbird/Red_Winged_Blackbird_0039_4285.jpg: 640x448 1 Bird, 35.7ms\n",
            "Speed: 3.8ms preprocess, 35.7ms inference, 1.3ms postprocess per image at shape (1, 3, 640, 448)\n"
          ]
        },
        {
          "output_type": "stream",
          "name": "stderr",
          "text": [
            "\rProcessing train_images images:  92%|█████████▏| 994/1082 [03:59<01:47,  1.23s/it]"
          ]
        },
        {
          "output_type": "stream",
          "name": "stdout",
          "text": [
            "\n",
            "image 1/1 /content/drive/MyDrive/bdma-07-competition/BDMA7_project_files/train_images/Red_winged_Blackbird/Red_Winged_Blackbird_0006_6005.jpg: 448x640 1 Bird, 37.7ms\n",
            "Speed: 3.7ms preprocess, 37.7ms inference, 1.4ms postprocess per image at shape (1, 3, 448, 640)\n"
          ]
        },
        {
          "output_type": "stream",
          "name": "stderr",
          "text": [
            "\rProcessing train_images images:  92%|█████████▏| 995/1082 [04:00<01:37,  1.12s/it]"
          ]
        },
        {
          "output_type": "stream",
          "name": "stdout",
          "text": [
            "\n",
            "image 1/1 /content/drive/MyDrive/bdma-07-competition/BDMA7_project_files/train_images/Red_winged_Blackbird/Red_Winged_Blackbird_0012_6015.jpg: 448x640 1 Bird, 36.9ms\n",
            "Speed: 3.3ms preprocess, 36.9ms inference, 1.4ms postprocess per image at shape (1, 3, 448, 640)\n"
          ]
        },
        {
          "output_type": "stream",
          "name": "stderr",
          "text": [
            "\rProcessing train_images images:  92%|█████████▏| 996/1082 [04:01<01:37,  1.14s/it]"
          ]
        },
        {
          "output_type": "stream",
          "name": "stdout",
          "text": [
            "\n",
            "image 1/1 /content/drive/MyDrive/bdma-07-competition/BDMA7_project_files/train_images/Red_winged_Blackbird/Red_Winged_Blackbird_0027_4123.jpg: 416x640 1 Bird, 37.3ms\n",
            "Speed: 3.2ms preprocess, 37.3ms inference, 1.5ms postprocess per image at shape (1, 3, 416, 640)\n"
          ]
        },
        {
          "output_type": "stream",
          "name": "stderr",
          "text": [
            "\rProcessing train_images images:  92%|█████████▏| 997/1082 [04:02<01:32,  1.09s/it]"
          ]
        },
        {
          "output_type": "stream",
          "name": "stdout",
          "text": [
            "\n",
            "image 1/1 /content/drive/MyDrive/bdma-07-competition/BDMA7_project_files/train_images/Red_winged_Blackbird/Red_Winged_Blackbird_0079_4527.jpg: 448x640 1 Bird, 38.0ms\n",
            "Speed: 5.2ms preprocess, 38.0ms inference, 1.7ms postprocess per image at shape (1, 3, 448, 640)\n"
          ]
        },
        {
          "output_type": "stream",
          "name": "stderr",
          "text": [
            "\rProcessing train_images images:  92%|█████████▏| 998/1082 [04:03<01:42,  1.22s/it]"
          ]
        },
        {
          "output_type": "stream",
          "name": "stdout",
          "text": [
            "\n",
            "image 1/1 /content/drive/MyDrive/bdma-07-competition/BDMA7_project_files/train_images/Red_winged_Blackbird/Red_Winged_Blackbird_0028_4709.jpg: 640x544 1 Bird, 46.7ms\n",
            "Speed: 3.5ms preprocess, 46.7ms inference, 1.2ms postprocess per image at shape (1, 3, 640, 544)\n"
          ]
        },
        {
          "output_type": "stream",
          "name": "stderr",
          "text": [
            "\rProcessing train_images images:  92%|█████████▏| 999/1082 [04:04<01:40,  1.21s/it]"
          ]
        },
        {
          "output_type": "stream",
          "name": "stdout",
          "text": [
            "\n",
            "image 1/1 /content/drive/MyDrive/bdma-07-competition/BDMA7_project_files/train_images/Red_winged_Blackbird/Red_Winged_Blackbird_0014_3761.jpg: 640x448 1 Bird, 35.8ms\n",
            "Speed: 3.1ms preprocess, 35.8ms inference, 1.3ms postprocess per image at shape (1, 3, 640, 448)\n"
          ]
        },
        {
          "output_type": "stream",
          "name": "stderr",
          "text": [
            "\rProcessing train_images images:  92%|█████████▏| 1000/1082 [04:06<01:46,  1.30s/it]"
          ]
        },
        {
          "output_type": "stream",
          "name": "stdout",
          "text": [
            "\n",
            "image 1/1 /content/drive/MyDrive/bdma-07-competition/BDMA7_project_files/train_images/Red_winged_Blackbird/Red_Winged_Blackbird_0066_5070.jpg: 448x640 1 Bird, 38.1ms\n",
            "Speed: 2.1ms preprocess, 38.1ms inference, 2.0ms postprocess per image at shape (1, 3, 448, 640)\n"
          ]
        },
        {
          "output_type": "stream",
          "name": "stderr",
          "text": [
            "\rProcessing train_images images:  93%|█████████▎| 1001/1082 [04:07<01:29,  1.10s/it]"
          ]
        },
        {
          "output_type": "stream",
          "name": "stdout",
          "text": [
            "\n",
            "image 1/1 /content/drive/MyDrive/bdma-07-competition/BDMA7_project_files/train_images/Red_winged_Blackbird/Red_Winged_Blackbird_0020_4050.jpg: 512x640 1 Bird, 39.1ms\n",
            "Speed: 3.5ms preprocess, 39.1ms inference, 1.3ms postprocess per image at shape (1, 3, 512, 640)\n"
          ]
        },
        {
          "output_type": "stream",
          "name": "stderr",
          "text": [
            "\rProcessing train_images images:  93%|█████████▎| 1002/1082 [04:07<01:24,  1.06s/it]"
          ]
        },
        {
          "output_type": "stream",
          "name": "stdout",
          "text": [
            "\n",
            "image 1/1 /content/drive/MyDrive/bdma-07-competition/BDMA7_project_files/train_images/Red_winged_Blackbird/Red_Winged_Blackbird_0062_4233.jpg: 640x480 1 Bird, 36.8ms\n",
            "Speed: 2.3ms preprocess, 36.8ms inference, 1.4ms postprocess per image at shape (1, 3, 640, 480)\n"
          ]
        },
        {
          "output_type": "stream",
          "name": "stderr",
          "text": [
            "\rProcessing train_images images:  93%|█████████▎| 1003/1082 [04:09<01:23,  1.05s/it]"
          ]
        },
        {
          "output_type": "stream",
          "name": "stdout",
          "text": [
            "\n",
            "image 1/1 /content/drive/MyDrive/bdma-07-competition/BDMA7_project_files/train_images/Red_winged_Blackbird/Red_Winged_Blackbird_0047_3802.jpg: 448x640 1 Bird, 37.7ms\n",
            "Speed: 3.7ms preprocess, 37.7ms inference, 1.2ms postprocess per image at shape (1, 3, 448, 640)\n"
          ]
        },
        {
          "output_type": "stream",
          "name": "stderr",
          "text": [
            "\rProcessing train_images images:  93%|█████████▎| 1004/1082 [04:10<01:21,  1.04s/it]"
          ]
        },
        {
          "output_type": "stream",
          "name": "stdout",
          "text": [
            "\n",
            "image 1/1 /content/drive/MyDrive/bdma-07-competition/BDMA7_project_files/train_images/Red_winged_Blackbird/Red_Winged_Blackbird_0071_3988.jpg: 448x640 1 Bird, 36.8ms\n",
            "Speed: 3.4ms preprocess, 36.8ms inference, 1.4ms postprocess per image at shape (1, 3, 448, 640)\n"
          ]
        },
        {
          "output_type": "stream",
          "name": "stderr",
          "text": [
            "\rProcessing train_images images:  93%|█████████▎| 1005/1082 [04:10<01:17,  1.00s/it]"
          ]
        },
        {
          "output_type": "stream",
          "name": "stdout",
          "text": [
            "\n",
            "image 1/1 /content/drive/MyDrive/bdma-07-competition/BDMA7_project_files/train_images/Red_winged_Blackbird/Red_Winged_Blackbird_0101_6244.jpg: 448x640 1 Bird, 36.8ms\n",
            "Speed: 3.1ms preprocess, 36.8ms inference, 1.3ms postprocess per image at shape (1, 3, 448, 640)\n"
          ]
        },
        {
          "output_type": "stream",
          "name": "stderr",
          "text": [
            "\rProcessing train_images images:  93%|█████████▎| 1006/1082 [04:11<01:12,  1.04it/s]"
          ]
        },
        {
          "output_type": "stream",
          "name": "stdout",
          "text": [
            "\n",
            "image 1/1 /content/drive/MyDrive/bdma-07-competition/BDMA7_project_files/train_images/Red_winged_Blackbird/Red_Winged_Blackbird_0052_5575.jpg: 512x640 1 Bird, 39.1ms\n",
            "Speed: 3.8ms preprocess, 39.1ms inference, 1.2ms postprocess per image at shape (1, 3, 512, 640)\n"
          ]
        },
        {
          "output_type": "stream",
          "name": "stderr",
          "text": [
            "\rProcessing train_images images:  93%|█████████▎| 1007/1082 [04:12<01:12,  1.03it/s]"
          ]
        },
        {
          "output_type": "stream",
          "name": "stdout",
          "text": [
            "\n",
            "image 1/1 /content/drive/MyDrive/bdma-07-competition/BDMA7_project_files/train_images/Red_winged_Blackbird/Red_Winged_Blackbird_0104_3918.jpg: 448x640 2 Birds, 37.7ms\n",
            "Speed: 4.4ms preprocess, 37.7ms inference, 1.2ms postprocess per image at shape (1, 3, 448, 640)\n"
          ]
        },
        {
          "output_type": "stream",
          "name": "stderr",
          "text": [
            "\rProcessing train_images images:  93%|█████████▎| 1008/1082 [04:13<01:11,  1.03it/s]"
          ]
        },
        {
          "output_type": "stream",
          "name": "stdout",
          "text": [
            "\n",
            "image 1/1 /content/drive/MyDrive/bdma-07-competition/BDMA7_project_files/train_images/Red_winged_Blackbird/Red_Winged_Blackbird_0029_4804.jpg: 480x640 1 Bird, 39.3ms\n",
            "Speed: 3.3ms preprocess, 39.3ms inference, 1.6ms postprocess per image at shape (1, 3, 480, 640)\n"
          ]
        },
        {
          "output_type": "stream",
          "name": "stderr",
          "text": [
            "\rProcessing train_images images:  93%|█████████▎| 1009/1082 [04:15<01:17,  1.06s/it]"
          ]
        },
        {
          "output_type": "stream",
          "name": "stdout",
          "text": [
            "\n",
            "image 1/1 /content/drive/MyDrive/bdma-07-competition/BDMA7_project_files/train_images/Red_winged_Blackbird/Red_Winged_Blackbird_0093_5948.jpg: 640x480 1 Bird, 36.8ms\n",
            "Speed: 3.5ms preprocess, 36.8ms inference, 1.3ms postprocess per image at shape (1, 3, 640, 480)\n"
          ]
        },
        {
          "output_type": "stream",
          "name": "stderr",
          "text": [
            "\rProcessing train_images images:  93%|█████████▎| 1010/1082 [04:16<01:22,  1.14s/it]"
          ]
        },
        {
          "output_type": "stream",
          "name": "stdout",
          "text": [
            "\n",
            "image 1/1 /content/drive/MyDrive/bdma-07-competition/BDMA7_project_files/train_images/Red_winged_Blackbird/Red_Winged_Blackbird_0013_5762.jpg: 640x608 1 Bird, 47.7ms\n",
            "Speed: 4.4ms preprocess, 47.7ms inference, 1.4ms postprocess per image at shape (1, 3, 640, 608)\n"
          ]
        },
        {
          "output_type": "stream",
          "name": "stderr",
          "text": [
            "\rProcessing train_images images:  93%|█████████▎| 1011/1082 [04:17<01:18,  1.11s/it]"
          ]
        },
        {
          "output_type": "stream",
          "name": "stdout",
          "text": [
            "\n",
            "image 1/1 /content/drive/MyDrive/bdma-07-competition/BDMA7_project_files/train_images/Red_winged_Blackbird/Red_Winged_Blackbird_0001_3695.jpg: 512x640 1 Bird, 39.1ms\n",
            "Speed: 3.6ms preprocess, 39.1ms inference, 1.3ms postprocess per image at shape (1, 3, 512, 640)\n"
          ]
        },
        {
          "output_type": "stream",
          "name": "stderr",
          "text": [
            "\rProcessing train_images images:  94%|█████████▎| 1012/1082 [04:18<01:15,  1.07s/it]"
          ]
        },
        {
          "output_type": "stream",
          "name": "stdout",
          "text": [
            "\n",
            "image 1/1 /content/drive/MyDrive/bdma-07-competition/BDMA7_project_files/train_images/Red_winged_Blackbird/Red_Winged_Blackbird_0074_4146.jpg: 416x640 1 Bird, 38.3ms\n",
            "Speed: 4.0ms preprocess, 38.3ms inference, 1.3ms postprocess per image at shape (1, 3, 416, 640)\n"
          ]
        },
        {
          "output_type": "stream",
          "name": "stderr",
          "text": [
            "\rProcessing train_images images:  94%|█████████▎| 1013/1082 [04:19<01:09,  1.01s/it]"
          ]
        },
        {
          "output_type": "stream",
          "name": "stdout",
          "text": [
            "\n",
            "image 1/1 /content/drive/MyDrive/bdma-07-competition/BDMA7_project_files/train_images/Red_winged_Blackbird/Red_Winged_Blackbird_0055_4345.jpg: 448x640 1 Bird, 37.7ms\n",
            "Speed: 2.9ms preprocess, 37.7ms inference, 1.2ms postprocess per image at shape (1, 3, 448, 640)\n"
          ]
        },
        {
          "output_type": "stream",
          "name": "stderr",
          "text": [
            "\rProcessing train_images images:  94%|█████████▎| 1014/1082 [04:20<01:09,  1.02s/it]"
          ]
        },
        {
          "output_type": "stream",
          "name": "stdout",
          "text": [
            "\n",
            "image 1/1 /content/drive/MyDrive/bdma-07-competition/BDMA7_project_files/train_images/Red_winged_Blackbird/Red_Winged_Blackbird_0109_4454.jpg: 512x640 1 Bird, 39.1ms\n",
            "Speed: 3.7ms preprocess, 39.1ms inference, 1.2ms postprocess per image at shape (1, 3, 512, 640)\n"
          ]
        },
        {
          "output_type": "stream",
          "name": "stderr",
          "text": [
            "\rProcessing train_images images:  94%|█████████▍| 1015/1082 [04:21<01:08,  1.02s/it]"
          ]
        },
        {
          "output_type": "stream",
          "name": "stdout",
          "text": [
            "\n",
            "image 1/1 /content/drive/MyDrive/bdma-07-competition/BDMA7_project_files/train_images/Red_winged_Blackbird/Red_Winged_Blackbird_0089_4188.jpg: 448x640 1 Bird, 38.0ms\n",
            "Speed: 3.3ms preprocess, 38.0ms inference, 1.6ms postprocess per image at shape (1, 3, 448, 640)\n"
          ]
        },
        {
          "output_type": "stream",
          "name": "stderr",
          "text": [
            "\rProcessing train_images images:  94%|█████████▍| 1016/1082 [04:22<01:00,  1.09it/s]"
          ]
        },
        {
          "output_type": "stream",
          "name": "stdout",
          "text": [
            "\n",
            "image 1/1 /content/drive/MyDrive/bdma-07-competition/BDMA7_project_files/train_images/Red_winged_Blackbird/Red_Winged_Blackbird_0045_4526.jpg: 640x512 1 Bird, 36.8ms\n",
            "Speed: 5.0ms preprocess, 36.8ms inference, 1.3ms postprocess per image at shape (1, 3, 640, 512)\n"
          ]
        },
        {
          "output_type": "stream",
          "name": "stderr",
          "text": [
            "\rProcessing train_images images:  94%|█████████▍| 1017/1082 [04:23<01:10,  1.09s/it]"
          ]
        },
        {
          "output_type": "stream",
          "name": "stdout",
          "text": [
            "\n",
            "image 1/1 /content/drive/MyDrive/bdma-07-competition/BDMA7_project_files/train_images/Red_winged_Blackbird/Red_Winged_Blackbird_0023_5257.jpg: 640x544 1 Bird, 46.4ms\n",
            "Speed: 4.0ms preprocess, 46.4ms inference, 1.3ms postprocess per image at shape (1, 3, 640, 544)\n"
          ]
        },
        {
          "output_type": "stream",
          "name": "stderr",
          "text": [
            "\rProcessing train_images images:  94%|█████████▍| 1018/1082 [04:24<01:02,  1.02it/s]"
          ]
        },
        {
          "output_type": "stream",
          "name": "stdout",
          "text": [
            "\n",
            "image 1/1 /content/drive/MyDrive/bdma-07-competition/BDMA7_project_files/train_images/Red_winged_Blackbird/Red_Winged_Blackbird_0042_3635.jpg: 640x448 2 Birds, 35.8ms\n",
            "Speed: 3.6ms preprocess, 35.8ms inference, 1.3ms postprocess per image at shape (1, 3, 640, 448)\n"
          ]
        },
        {
          "output_type": "stream",
          "name": "stderr",
          "text": [
            "\rProcessing train_images images:  94%|█████████▍| 1019/1082 [04:25<01:08,  1.08s/it]"
          ]
        },
        {
          "output_type": "stream",
          "name": "stdout",
          "text": [
            "\n",
            "image 1/1 /content/drive/MyDrive/bdma-07-competition/BDMA7_project_files/train_images/Red_winged_Blackbird/Red_Winged_Blackbird_0058_4141.jpg: 480x640 1 Bird, 38.9ms\n",
            "Speed: 7.1ms preprocess, 38.9ms inference, 1.6ms postprocess per image at shape (1, 3, 480, 640)\n"
          ]
        },
        {
          "output_type": "stream",
          "name": "stderr",
          "text": [
            "\rProcessing train_images images:  94%|█████████▍| 1020/1082 [04:26<01:03,  1.03s/it]"
          ]
        },
        {
          "output_type": "stream",
          "name": "stdout",
          "text": [
            "\n",
            "image 1/1 /content/drive/MyDrive/bdma-07-competition/BDMA7_project_files/train_images/Red_winged_Blackbird/Red_Winged_Blackbird_0075_4953.jpg: 480x640 1 Bird, 44.3ms\n",
            "Speed: 3.4ms preprocess, 44.3ms inference, 1.6ms postprocess per image at shape (1, 3, 480, 640)\n"
          ]
        },
        {
          "output_type": "stream",
          "name": "stderr",
          "text": [
            "\rProcessing train_images images:  94%|█████████▍| 1021/1082 [04:27<01:01,  1.01s/it]"
          ]
        },
        {
          "output_type": "stream",
          "name": "stdout",
          "text": [
            "\n",
            "image 1/1 /content/drive/MyDrive/bdma-07-competition/BDMA7_project_files/train_images/Red_winged_Blackbird/Red_Winged_Blackbird_0072_4338.jpg: 448x640 1 Bird, 38.0ms\n",
            "Speed: 3.3ms preprocess, 38.0ms inference, 1.8ms postprocess per image at shape (1, 3, 448, 640)\n"
          ]
        },
        {
          "output_type": "stream",
          "name": "stderr",
          "text": [
            "\rProcessing train_images images:  94%|█████████▍| 1022/1082 [04:28<00:58,  1.02it/s]"
          ]
        },
        {
          "output_type": "stream",
          "name": "stdout",
          "text": [
            "\n",
            "image 1/1 /content/drive/MyDrive/bdma-07-competition/BDMA7_project_files/train_images/Red_winged_Blackbird/Red_Winged_Blackbird_0011_5845.jpg: 480x640 1 Bird, 38.7ms\n",
            "Speed: 3.8ms preprocess, 38.7ms inference, 1.2ms postprocess per image at shape (1, 3, 480, 640)\n"
          ]
        },
        {
          "output_type": "stream",
          "name": "stderr",
          "text": [
            "\rProcessing train_images images:  95%|█████████▍| 1023/1082 [04:29<00:55,  1.06it/s]"
          ]
        },
        {
          "output_type": "stream",
          "name": "stdout",
          "text": [
            "\n",
            "image 1/1 /content/drive/MyDrive/bdma-07-competition/BDMA7_project_files/train_images/Red_winged_Blackbird/Red_Winged_Blackbird_0024_4180.jpg: 448x640 1 Bird, 39.1ms\n",
            "Speed: 3.1ms preprocess, 39.1ms inference, 1.3ms postprocess per image at shape (1, 3, 448, 640)\n"
          ]
        },
        {
          "output_type": "stream",
          "name": "stderr",
          "text": [
            "\rProcessing train_images images:  95%|█████████▍| 1024/1082 [04:30<00:58,  1.01s/it]"
          ]
        },
        {
          "output_type": "stream",
          "name": "stdout",
          "text": [
            "\n",
            "image 1/1 /content/drive/MyDrive/bdma-07-competition/BDMA7_project_files/train_images/Red_winged_Blackbird/Red_Winged_Blackbird_0049_5598.jpg: 640x448 1 Bird, 35.9ms\n",
            "Speed: 3.6ms preprocess, 35.9ms inference, 1.4ms postprocess per image at shape (1, 3, 640, 448)\n"
          ]
        },
        {
          "output_type": "stream",
          "name": "stderr",
          "text": [
            "\rProcessing train_images images:  95%|█████████▍| 1025/1082 [04:31<00:56,  1.00it/s]"
          ]
        },
        {
          "output_type": "stream",
          "name": "stdout",
          "text": [
            "\n",
            "image 1/1 /content/drive/MyDrive/bdma-07-competition/BDMA7_project_files/train_images/Red_winged_Blackbird/Red_Winged_Blackbird_0053_4072.jpg: 480x640 1 Bird, 38.8ms\n",
            "Speed: 3.4ms preprocess, 38.8ms inference, 1.2ms postprocess per image at shape (1, 3, 480, 640)\n"
          ]
        },
        {
          "output_type": "stream",
          "name": "stderr",
          "text": [
            "\rProcessing train_images images:  95%|█████████▍| 1026/1082 [04:32<00:59,  1.07s/it]"
          ]
        },
        {
          "output_type": "stream",
          "name": "stdout",
          "text": [
            "\n",
            "image 1/1 /content/drive/MyDrive/bdma-07-competition/BDMA7_project_files/train_images/Red_winged_Blackbird/Red_Winged_Blackbird_0065_4026.jpg: 480x640 1 Bird, 37.8ms\n",
            "Speed: 3.4ms preprocess, 37.8ms inference, 1.5ms postprocess per image at shape (1, 3, 480, 640)\n"
          ]
        },
        {
          "output_type": "stream",
          "name": "stderr",
          "text": [
            "\rProcessing train_images images:  95%|█████████▍| 1027/1082 [04:33<00:52,  1.04it/s]"
          ]
        },
        {
          "output_type": "stream",
          "name": "stdout",
          "text": [
            "\n",
            "image 1/1 /content/drive/MyDrive/bdma-07-competition/BDMA7_project_files/train_images/Red_winged_Blackbird/Red_Winged_Blackbird_0060_4688.jpg: 480x640 1 Bird, 37.8ms\n",
            "Speed: 4.0ms preprocess, 37.8ms inference, 1.4ms postprocess per image at shape (1, 3, 480, 640)\n"
          ]
        },
        {
          "output_type": "stream",
          "name": "stderr",
          "text": [
            "\rProcessing train_images images:  95%|█████████▌| 1028/1082 [04:34<01:02,  1.15s/it]"
          ]
        },
        {
          "output_type": "stream",
          "name": "stdout",
          "text": [
            "\n",
            "image 1/1 /content/drive/MyDrive/bdma-07-competition/BDMA7_project_files/train_images/Gray_Catbird/Gray_Catbird_0091_20416.jpg: 480x640 1 Bird, 38.0ms\n",
            "Speed: 3.8ms preprocess, 38.0ms inference, 3.5ms postprocess per image at shape (1, 3, 480, 640)\n"
          ]
        },
        {
          "output_type": "stream",
          "name": "stderr",
          "text": [
            "\rProcessing train_images images:  95%|█████████▌| 1029/1082 [04:36<01:01,  1.16s/it]"
          ]
        },
        {
          "output_type": "stream",
          "name": "stdout",
          "text": [
            "\n",
            "image 1/1 /content/drive/MyDrive/bdma-07-competition/BDMA7_project_files/train_images/Gray_Catbird/Gray_Catbird_0127_20034.jpg: 448x640 1 Bird, 38.0ms\n",
            "Speed: 3.2ms preprocess, 38.0ms inference, 1.3ms postprocess per image at shape (1, 3, 448, 640)\n"
          ]
        },
        {
          "output_type": "stream",
          "name": "stderr",
          "text": [
            "\rProcessing train_images images:  95%|█████████▌| 1030/1082 [04:37<01:05,  1.26s/it]"
          ]
        },
        {
          "output_type": "stream",
          "name": "stdout",
          "text": [
            "\n",
            "image 1/1 /content/drive/MyDrive/bdma-07-competition/BDMA7_project_files/train_images/Gray_Catbird/Gray_Catbird_0080_20139.jpg: 448x640 1 Bird, 36.8ms\n",
            "Speed: 3.3ms preprocess, 36.8ms inference, 1.4ms postprocess per image at shape (1, 3, 448, 640)\n"
          ]
        },
        {
          "output_type": "stream",
          "name": "stderr",
          "text": [
            "\rProcessing train_images images:  95%|█████████▌| 1031/1082 [04:38<00:56,  1.12s/it]"
          ]
        },
        {
          "output_type": "stream",
          "name": "stdout",
          "text": [
            "\n",
            "image 1/1 /content/drive/MyDrive/bdma-07-competition/BDMA7_project_files/train_images/Gray_Catbird/Gray_Catbird_0015_21230.jpg: 512x640 1 Bird, 39.6ms\n",
            "Speed: 3.6ms preprocess, 39.6ms inference, 2.2ms postprocess per image at shape (1, 3, 512, 640)\n"
          ]
        },
        {
          "output_type": "stream",
          "name": "stderr",
          "text": [
            "\rProcessing train_images images:  95%|█████████▌| 1032/1082 [04:38<00:48,  1.03it/s]"
          ]
        },
        {
          "output_type": "stream",
          "name": "stdout",
          "text": [
            "\n",
            "image 1/1 /content/drive/MyDrive/bdma-07-competition/BDMA7_project_files/train_images/Gray_Catbird/Gray_Catbird_0101_21178.jpg: 448x640 1 Bird, 40.9ms\n",
            "Speed: 3.1ms preprocess, 40.9ms inference, 1.6ms postprocess per image at shape (1, 3, 448, 640)\n"
          ]
        },
        {
          "output_type": "stream",
          "name": "stderr",
          "text": [
            "\rProcessing train_images images:  95%|█████████▌| 1033/1082 [04:39<00:47,  1.02it/s]"
          ]
        },
        {
          "output_type": "stream",
          "name": "stdout",
          "text": [
            "\n",
            "image 1/1 /content/drive/MyDrive/bdma-07-competition/BDMA7_project_files/train_images/Gray_Catbird/Gray_Catbird_0117_21333.jpg: 576x640 1 Bird, 47.2ms\n",
            "Speed: 5.9ms preprocess, 47.2ms inference, 1.9ms postprocess per image at shape (1, 3, 576, 640)\n"
          ]
        },
        {
          "output_type": "stream",
          "name": "stderr",
          "text": [
            "\rProcessing train_images images:  96%|█████████▌| 1034/1082 [04:40<00:47,  1.01it/s]"
          ]
        },
        {
          "output_type": "stream",
          "name": "stdout",
          "text": [
            "\n",
            "image 1/1 /content/drive/MyDrive/bdma-07-competition/BDMA7_project_files/train_images/Gray_Catbird/Gray_Catbird_0050_20763.jpg: 544x640 1 Bird, 46.0ms\n",
            "Speed: 4.0ms preprocess, 46.0ms inference, 1.3ms postprocess per image at shape (1, 3, 544, 640)\n"
          ]
        },
        {
          "output_type": "stream",
          "name": "stderr",
          "text": [
            "\rProcessing train_images images:  96%|█████████▌| 1035/1082 [04:41<00:42,  1.10it/s]"
          ]
        },
        {
          "output_type": "stream",
          "name": "stdout",
          "text": [
            "\n",
            "image 1/1 /content/drive/MyDrive/bdma-07-competition/BDMA7_project_files/train_images/Gray_Catbird/Gray_Catbird_0105_20864.jpg: 416x640 1 Bird, 37.3ms\n",
            "Speed: 3.1ms preprocess, 37.3ms inference, 1.3ms postprocess per image at shape (1, 3, 416, 640)\n"
          ]
        },
        {
          "output_type": "stream",
          "name": "stderr",
          "text": [
            "\rProcessing train_images images:  96%|█████████▌| 1036/1082 [04:42<00:42,  1.07it/s]"
          ]
        },
        {
          "output_type": "stream",
          "name": "stdout",
          "text": [
            "\n",
            "image 1/1 /content/drive/MyDrive/bdma-07-competition/BDMA7_project_files/train_images/Gray_Catbird/Gray_Catbird_0057_20979.jpg: 448x640 1 Bird, 37.6ms\n",
            "Speed: 3.3ms preprocess, 37.6ms inference, 1.2ms postprocess per image at shape (1, 3, 448, 640)\n"
          ]
        },
        {
          "output_type": "stream",
          "name": "stderr",
          "text": [
            "\rProcessing train_images images:  96%|█████████▌| 1037/1082 [04:43<00:42,  1.05it/s]"
          ]
        },
        {
          "output_type": "stream",
          "name": "stdout",
          "text": [
            "\n",
            "image 1/1 /content/drive/MyDrive/bdma-07-competition/BDMA7_project_files/train_images/Gray_Catbird/Gray_Catbird_0002_21395.jpg: 544x640 1 Bird, 46.2ms\n",
            "Speed: 4.0ms preprocess, 46.2ms inference, 1.2ms postprocess per image at shape (1, 3, 544, 640)\n"
          ]
        },
        {
          "output_type": "stream",
          "name": "stderr",
          "text": [
            "\rProcessing train_images images:  96%|█████████▌| 1038/1082 [04:44<00:39,  1.11it/s]"
          ]
        },
        {
          "output_type": "stream",
          "name": "stdout",
          "text": [
            "\n",
            "image 1/1 /content/drive/MyDrive/bdma-07-competition/BDMA7_project_files/train_images/Gray_Catbird/Gray_Catbird_0023_20668.jpg: 448x640 1 Bird, 41.6ms\n",
            "Speed: 3.4ms preprocess, 41.6ms inference, 1.2ms postprocess per image at shape (1, 3, 448, 640)\n"
          ]
        },
        {
          "output_type": "stream",
          "name": "stderr",
          "text": [
            "\rProcessing train_images images:  96%|█████████▌| 1039/1082 [04:45<00:47,  1.10s/it]"
          ]
        },
        {
          "output_type": "stream",
          "name": "stdout",
          "text": [
            "\n",
            "image 1/1 /content/drive/MyDrive/bdma-07-competition/BDMA7_project_files/train_images/Gray_Catbird/Gray_Catbird_0094_21303.jpg: 448x640 1 Bird, 36.8ms\n",
            "Speed: 3.4ms preprocess, 36.8ms inference, 1.3ms postprocess per image at shape (1, 3, 448, 640)\n"
          ]
        },
        {
          "output_type": "stream",
          "name": "stderr",
          "text": [
            "\rProcessing train_images images:  96%|█████████▌| 1040/1082 [04:46<00:43,  1.03s/it]"
          ]
        },
        {
          "output_type": "stream",
          "name": "stdout",
          "text": [
            "\n",
            "image 1/1 /content/drive/MyDrive/bdma-07-competition/BDMA7_project_files/train_images/Gray_Catbird/Gray_Catbird_0006_20867.jpg: 448x640 1 Bird, 36.8ms\n",
            "Speed: 3.0ms preprocess, 36.8ms inference, 1.3ms postprocess per image at shape (1, 3, 448, 640)\n"
          ]
        },
        {
          "output_type": "stream",
          "name": "stderr",
          "text": [
            "\rProcessing train_images images:  96%|█████████▌| 1041/1082 [04:47<00:43,  1.06s/it]"
          ]
        },
        {
          "output_type": "stream",
          "name": "stdout",
          "text": [
            "\n",
            "image 1/1 /content/drive/MyDrive/bdma-07-competition/BDMA7_project_files/train_images/Gray_Catbird/Gray_Catbird_0069_21065.jpg: 640x480 1 Bird, 36.7ms\n",
            "Speed: 4.1ms preprocess, 36.7ms inference, 1.3ms postprocess per image at shape (1, 3, 640, 480)\n"
          ]
        },
        {
          "output_type": "stream",
          "name": "stderr",
          "text": [
            "\rProcessing train_images images:  96%|█████████▋| 1042/1082 [04:48<00:39,  1.01it/s]"
          ]
        },
        {
          "output_type": "stream",
          "name": "stdout",
          "text": [
            "\n",
            "image 1/1 /content/drive/MyDrive/bdma-07-competition/BDMA7_project_files/train_images/Gray_Catbird/Gray_Catbird_0013_20562.jpg: 640x640 1 Bird, 48.3ms\n",
            "Speed: 5.0ms preprocess, 48.3ms inference, 1.3ms postprocess per image at shape (1, 3, 640, 640)\n"
          ]
        },
        {
          "output_type": "stream",
          "name": "stderr",
          "text": [
            "\rProcessing train_images images:  96%|█████████▋| 1043/1082 [04:49<00:36,  1.06it/s]"
          ]
        },
        {
          "output_type": "stream",
          "name": "stdout",
          "text": [
            "\n",
            "image 1/1 /content/drive/MyDrive/bdma-07-competition/BDMA7_project_files/train_images/Gray_Catbird/Gray_Catbird_0100_20674.jpg: 512x640 1 Bird, 39.0ms\n",
            "Speed: 3.8ms preprocess, 39.0ms inference, 1.2ms postprocess per image at shape (1, 3, 512, 640)\n"
          ]
        },
        {
          "output_type": "stream",
          "name": "stderr",
          "text": [
            "\rProcessing train_images images:  96%|█████████▋| 1044/1082 [04:50<00:38,  1.02s/it]"
          ]
        },
        {
          "output_type": "stream",
          "name": "stdout",
          "text": [
            "\n",
            "image 1/1 /content/drive/MyDrive/bdma-07-competition/BDMA7_project_files/train_images/Gray_Catbird/Gray_Catbird_0139_21281.jpg: 448x640 1 Bird, 37.9ms\n",
            "Speed: 6.2ms preprocess, 37.9ms inference, 1.6ms postprocess per image at shape (1, 3, 448, 640)\n"
          ]
        },
        {
          "output_type": "stream",
          "name": "stderr",
          "text": [
            "\rProcessing train_images images:  97%|█████████▋| 1045/1082 [04:51<00:33,  1.10it/s]"
          ]
        },
        {
          "output_type": "stream",
          "name": "stdout",
          "text": [
            "\n",
            "image 1/1 /content/drive/MyDrive/bdma-07-competition/BDMA7_project_files/train_images/Gray_Catbird/Gray_Catbird_0008_20430.jpg: 416x640 1 Bird, 37.2ms\n",
            "Speed: 3.2ms preprocess, 37.2ms inference, 1.5ms postprocess per image at shape (1, 3, 416, 640)\n"
          ]
        },
        {
          "output_type": "stream",
          "name": "stderr",
          "text": [
            "\rProcessing train_images images:  97%|█████████▋| 1046/1082 [04:52<00:34,  1.04it/s]"
          ]
        },
        {
          "output_type": "stream",
          "name": "stdout",
          "text": [
            "\n",
            "image 1/1 /content/drive/MyDrive/bdma-07-competition/BDMA7_project_files/train_images/Gray_Catbird/Gray_Catbird_0028_20598.jpg: 448x640 1 Bird, 37.8ms\n",
            "Speed: 3.7ms preprocess, 37.8ms inference, 1.2ms postprocess per image at shape (1, 3, 448, 640)\n"
          ]
        },
        {
          "output_type": "stream",
          "name": "stderr",
          "text": [
            "\rProcessing train_images images:  97%|█████████▋| 1047/1082 [04:53<00:37,  1.06s/it]"
          ]
        },
        {
          "output_type": "stream",
          "name": "stdout",
          "text": [
            "\n",
            "image 1/1 /content/drive/MyDrive/bdma-07-competition/BDMA7_project_files/train_images/Gray_Catbird/Gray_Catbird_0134_20596.jpg: 480x640 1 Bird, 38.7ms\n",
            "Speed: 3.5ms preprocess, 38.7ms inference, 1.2ms postprocess per image at shape (1, 3, 480, 640)\n"
          ]
        },
        {
          "output_type": "stream",
          "name": "stderr",
          "text": [
            "\rProcessing train_images images:  97%|█████████▋| 1048/1082 [04:54<00:35,  1.05s/it]"
          ]
        },
        {
          "output_type": "stream",
          "name": "stdout",
          "text": [
            "\n",
            "image 1/1 /content/drive/MyDrive/bdma-07-competition/BDMA7_project_files/train_images/Gray_Catbird/Gray_Catbird_0019_20567.jpg: 512x640 1 Bird, 39.3ms\n",
            "Speed: 4.0ms preprocess, 39.3ms inference, 1.2ms postprocess per image at shape (1, 3, 512, 640)\n"
          ]
        },
        {
          "output_type": "stream",
          "name": "stderr",
          "text": [
            "\rProcessing train_images images:  97%|█████████▋| 1049/1082 [04:56<00:39,  1.20s/it]"
          ]
        },
        {
          "output_type": "stream",
          "name": "stdout",
          "text": [
            "\n",
            "image 1/1 /content/drive/MyDrive/bdma-07-competition/BDMA7_project_files/train_images/Gray_Catbird/Gray_Catbird_0129_20987.jpg: 512x640 1 Bird, 38.2ms\n",
            "Speed: 3.7ms preprocess, 38.2ms inference, 1.4ms postprocess per image at shape (1, 3, 512, 640)\n"
          ]
        },
        {
          "output_type": "stream",
          "name": "stderr",
          "text": [
            "\rProcessing train_images images:  97%|█████████▋| 1050/1082 [04:57<00:36,  1.14s/it]"
          ]
        },
        {
          "output_type": "stream",
          "name": "stdout",
          "text": [
            "\n",
            "image 1/1 /content/drive/MyDrive/bdma-07-competition/BDMA7_project_files/train_images/Gray_Catbird/Gray_Catbird_0007_20186.jpg: 448x640 1 Bird, 37.7ms\n",
            "Speed: 3.7ms preprocess, 37.7ms inference, 1.2ms postprocess per image at shape (1, 3, 448, 640)\n"
          ]
        },
        {
          "output_type": "stream",
          "name": "stderr",
          "text": [
            "\rProcessing train_images images:  97%|█████████▋| 1051/1082 [04:58<00:33,  1.07s/it]"
          ]
        },
        {
          "output_type": "stream",
          "name": "stdout",
          "text": [
            "\n",
            "image 1/1 /content/drive/MyDrive/bdma-07-competition/BDMA7_project_files/train_images/Gray_Catbird/Gray_Catbird_0027_20968.jpg: 448x640 1 Bird, 36.8ms\n",
            "Speed: 3.2ms preprocess, 36.8ms inference, 1.3ms postprocess per image at shape (1, 3, 448, 640)\n"
          ]
        },
        {
          "output_type": "stream",
          "name": "stderr",
          "text": [
            "\rProcessing train_images images:  97%|█████████▋| 1052/1082 [04:59<00:31,  1.06s/it]"
          ]
        },
        {
          "output_type": "stream",
          "name": "stdout",
          "text": [
            "\n",
            "image 1/1 /content/drive/MyDrive/bdma-07-competition/BDMA7_project_files/train_images/Gray_Catbird/Gray_Catbird_0074_19601.jpg: 448x640 1 Bird, 36.9ms\n",
            "Speed: 3.9ms preprocess, 36.9ms inference, 1.3ms postprocess per image at shape (1, 3, 448, 640)\n"
          ]
        },
        {
          "output_type": "stream",
          "name": "stderr",
          "text": [
            "\rProcessing train_images images:  97%|█████████▋| 1053/1082 [05:00<00:29,  1.02s/it]"
          ]
        },
        {
          "output_type": "stream",
          "name": "stdout",
          "text": [
            "\n",
            "image 1/1 /content/drive/MyDrive/bdma-07-competition/BDMA7_project_files/train_images/Gray_Catbird/Gray_Catbird_0001_20695.jpg: 512x640 1 Bird, 39.6ms\n",
            "Speed: 4.7ms preprocess, 39.6ms inference, 1.6ms postprocess per image at shape (1, 3, 512, 640)\n"
          ]
        },
        {
          "output_type": "stream",
          "name": "stderr",
          "text": [
            "\rProcessing train_images images:  97%|█████████▋| 1054/1082 [05:01<00:26,  1.05it/s]"
          ]
        },
        {
          "output_type": "stream",
          "name": "stdout",
          "text": [
            "\n",
            "image 1/1 /content/drive/MyDrive/bdma-07-competition/BDMA7_project_files/train_images/Gray_Catbird/Gray_Catbird_0032_21551.jpg: 480x640 1 Bird, 38.6ms\n",
            "Speed: 3.7ms preprocess, 38.6ms inference, 1.3ms postprocess per image at shape (1, 3, 480, 640)\n"
          ]
        },
        {
          "output_type": "stream",
          "name": "stderr",
          "text": [
            "\rProcessing train_images images:  98%|█████████▊| 1055/1082 [05:02<00:29,  1.09s/it]"
          ]
        },
        {
          "output_type": "stream",
          "name": "stdout",
          "text": [
            "\n",
            "image 1/1 /content/drive/MyDrive/bdma-07-competition/BDMA7_project_files/train_images/Gray_Catbird/Gray_Catbird_0055_20671.jpg: 544x640 1 Bird, 46.6ms\n",
            "Speed: 4.7ms preprocess, 46.6ms inference, 1.7ms postprocess per image at shape (1, 3, 544, 640)\n"
          ]
        },
        {
          "output_type": "stream",
          "name": "stderr",
          "text": [
            "\rProcessing train_images images:  98%|█████████▊| 1056/1082 [05:03<00:28,  1.08s/it]"
          ]
        },
        {
          "output_type": "stream",
          "name": "stdout",
          "text": [
            "\n",
            "image 1/1 /content/drive/MyDrive/bdma-07-competition/BDMA7_project_files/train_images/Gray_Catbird/Gray_Catbird_0118_20476.jpg: 448x640 1 Bird, 42.4ms\n",
            "Speed: 3.1ms preprocess, 42.4ms inference, 1.7ms postprocess per image at shape (1, 3, 448, 640)\n"
          ]
        },
        {
          "output_type": "stream",
          "name": "stderr",
          "text": [
            "\rProcessing train_images images:  98%|█████████▊| 1057/1082 [05:04<00:25,  1.01s/it]"
          ]
        },
        {
          "output_type": "stream",
          "name": "stdout",
          "text": [
            "\n",
            "image 1/1 /content/drive/MyDrive/bdma-07-competition/BDMA7_project_files/train_images/Gray_Catbird/Gray_Catbird_0141_21174.jpg: 448x640 1 Bird, 44.3ms\n",
            "Speed: 3.2ms preprocess, 44.3ms inference, 2.9ms postprocess per image at shape (1, 3, 448, 640)\n"
          ]
        },
        {
          "output_type": "stream",
          "name": "stderr",
          "text": [
            "\rProcessing train_images images:  98%|█████████▊| 1058/1082 [05:05<00:23,  1.02it/s]"
          ]
        },
        {
          "output_type": "stream",
          "name": "stdout",
          "text": [
            "\n",
            "image 1/1 /content/drive/MyDrive/bdma-07-competition/BDMA7_project_files/train_images/Gray_Catbird/Gray_Catbird_0131_19633.jpg: 512x640 1 Bird, 39.7ms\n",
            "Speed: 4.1ms preprocess, 39.7ms inference, 2.2ms postprocess per image at shape (1, 3, 512, 640)\n"
          ]
        },
        {
          "output_type": "stream",
          "name": "stderr",
          "text": [
            "\rProcessing train_images images:  98%|█████████▊| 1059/1082 [05:06<00:21,  1.06it/s]"
          ]
        },
        {
          "output_type": "stream",
          "name": "stdout",
          "text": [
            "\n",
            "image 1/1 /content/drive/MyDrive/bdma-07-competition/BDMA7_project_files/train_images/Gray_Catbird/Gray_Catbird_0107_20513.jpg: 544x640 1 Bird, 46.0ms\n",
            "Speed: 4.1ms preprocess, 46.0ms inference, 1.3ms postprocess per image at shape (1, 3, 544, 640)\n"
          ]
        },
        {
          "output_type": "stream",
          "name": "stderr",
          "text": [
            "\rProcessing train_images images:  98%|█████████▊| 1060/1082 [05:07<00:24,  1.10s/it]"
          ]
        },
        {
          "output_type": "stream",
          "name": "stdout",
          "text": [
            "\n",
            "image 1/1 /content/drive/MyDrive/bdma-07-competition/BDMA7_project_files/train_images/Gray_Catbird/Gray_Catbird_0024_20739.jpg: 448x640 1 Bird, 37.7ms\n",
            "Speed: 3.3ms preprocess, 37.7ms inference, 1.3ms postprocess per image at shape (1, 3, 448, 640)\n"
          ]
        },
        {
          "output_type": "stream",
          "name": "stderr",
          "text": [
            "\rProcessing train_images images:  98%|█████████▊| 1061/1082 [05:08<00:21,  1.03s/it]"
          ]
        },
        {
          "output_type": "stream",
          "name": "stdout",
          "text": [
            "\n",
            "image 1/1 /content/drive/MyDrive/bdma-07-competition/BDMA7_project_files/train_images/Gray_Catbird/Gray_Catbird_0063_20707.jpg: 608x640 1 Bird, 47.5ms\n",
            "Speed: 4.2ms preprocess, 47.5ms inference, 1.3ms postprocess per image at shape (1, 3, 608, 640)\n"
          ]
        },
        {
          "output_type": "stream",
          "name": "stderr",
          "text": [
            "\rProcessing train_images images:  98%|█████████▊| 1062/1082 [05:09<00:18,  1.08it/s]"
          ]
        },
        {
          "output_type": "stream",
          "name": "stdout",
          "text": [
            "\n",
            "image 1/1 /content/drive/MyDrive/bdma-07-competition/BDMA7_project_files/train_images/Gray_Catbird/Gray_Catbird_0022_19585.jpg: 608x640 1 Bird, 46.8ms\n",
            "Speed: 4.5ms preprocess, 46.8ms inference, 1.7ms postprocess per image at shape (1, 3, 608, 640)\n"
          ]
        },
        {
          "output_type": "stream",
          "name": "stderr",
          "text": [
            "\rProcessing train_images images:  98%|█████████▊| 1063/1082 [05:10<00:17,  1.08it/s]"
          ]
        },
        {
          "output_type": "stream",
          "name": "stdout",
          "text": [
            "\n",
            "image 1/1 /content/drive/MyDrive/bdma-07-competition/BDMA7_project_files/train_images/Gray_Catbird/Gray_Catbird_0049_21311.jpg: 448x640 1 Bird, 38.6ms\n",
            "Speed: 3.8ms preprocess, 38.6ms inference, 1.4ms postprocess per image at shape (1, 3, 448, 640)\n"
          ]
        },
        {
          "output_type": "stream",
          "name": "stderr",
          "text": [
            "\rProcessing train_images images:  98%|█████████▊| 1064/1082 [05:11<00:20,  1.13s/it]"
          ]
        },
        {
          "output_type": "stream",
          "name": "stdout",
          "text": [
            "\n",
            "image 1/1 /content/drive/MyDrive/bdma-07-competition/BDMA7_project_files/train_images/Gray_Catbird/Gray_Catbird_0048_20558.jpg: 544x640 1 Bird, 46.3ms\n",
            "Speed: 5.4ms preprocess, 46.3ms inference, 1.7ms postprocess per image at shape (1, 3, 544, 640)\n"
          ]
        },
        {
          "output_type": "stream",
          "name": "stderr",
          "text": [
            "\rProcessing train_images images:  98%|█████████▊| 1065/1082 [05:13<00:21,  1.25s/it]"
          ]
        },
        {
          "output_type": "stream",
          "name": "stdout",
          "text": [
            "\n",
            "image 1/1 /content/drive/MyDrive/bdma-07-competition/BDMA7_project_files/train_images/Gray_Catbird/Gray_Catbird_0039_21040.jpg: 608x640 1 Bird, 47.7ms\n",
            "Speed: 4.3ms preprocess, 47.7ms inference, 1.3ms postprocess per image at shape (1, 3, 608, 640)\n"
          ]
        },
        {
          "output_type": "stream",
          "name": "stderr",
          "text": [
            "\rProcessing train_images images:  99%|█████████▊| 1066/1082 [05:14<00:18,  1.16s/it]"
          ]
        },
        {
          "output_type": "stream",
          "name": "stdout",
          "text": [
            "\n",
            "image 1/1 /content/drive/MyDrive/bdma-07-competition/BDMA7_project_files/train_images/Gray_Catbird/Gray_Catbird_0103_20930.jpg: 448x640 1 Bird, 37.7ms\n",
            "Speed: 3.1ms preprocess, 37.7ms inference, 1.2ms postprocess per image at shape (1, 3, 448, 640)\n"
          ]
        },
        {
          "output_type": "stream",
          "name": "stderr",
          "text": [
            "\rProcessing train_images images:  99%|█████████▊| 1067/1082 [05:15<00:16,  1.07s/it]"
          ]
        },
        {
          "output_type": "stream",
          "name": "stdout",
          "text": [
            "\n",
            "image 1/1 /content/drive/MyDrive/bdma-07-competition/BDMA7_project_files/train_images/Gray_Catbird/Gray_Catbird_0126_19446.jpg: 480x640 1 Bird, 38.8ms\n",
            "Speed: 5.7ms preprocess, 38.8ms inference, 1.5ms postprocess per image at shape (1, 3, 480, 640)\n"
          ]
        },
        {
          "output_type": "stream",
          "name": "stderr",
          "text": [
            "\rProcessing train_images images:  99%|█████████▊| 1068/1082 [05:16<00:16,  1.16s/it]"
          ]
        },
        {
          "output_type": "stream",
          "name": "stdout",
          "text": [
            "\n",
            "image 1/1 /content/drive/MyDrive/bdma-07-competition/BDMA7_project_files/train_images/Gray_Catbird/Gray_Catbird_0113_21270.jpg: 448x640 1 Bird, 38.1ms\n",
            "Speed: 3.3ms preprocess, 38.1ms inference, 1.8ms postprocess per image at shape (1, 3, 448, 640)\n"
          ]
        },
        {
          "output_type": "stream",
          "name": "stderr",
          "text": [
            "\rProcessing train_images images:  99%|█████████▉| 1069/1082 [05:17<00:15,  1.20s/it]"
          ]
        },
        {
          "output_type": "stream",
          "name": "stdout",
          "text": [
            "\n",
            "image 1/1 /content/drive/MyDrive/bdma-07-competition/BDMA7_project_files/train_images/Gray_Catbird/Gray_Catbird_0111_19550.jpg: 448x640 1 Bird, 36.8ms\n",
            "Speed: 3.3ms preprocess, 36.8ms inference, 1.3ms postprocess per image at shape (1, 3, 448, 640)\n"
          ]
        },
        {
          "output_type": "stream",
          "name": "stderr",
          "text": [
            "\rProcessing train_images images:  99%|█████████▉| 1070/1082 [05:19<00:17,  1.48s/it]"
          ]
        },
        {
          "output_type": "stream",
          "name": "stdout",
          "text": [
            "\n",
            "image 1/1 /content/drive/MyDrive/bdma-07-competition/BDMA7_project_files/train_images/Gray_Catbird/Gray_Catbird_0130_20328.jpg: 512x640 1 Bird, 39.3ms\n",
            "Speed: 3.6ms preprocess, 39.3ms inference, 1.2ms postprocess per image at shape (1, 3, 512, 640)\n"
          ]
        },
        {
          "output_type": "stream",
          "name": "stderr",
          "text": [
            "\rProcessing train_images images:  99%|█████████▉| 1071/1082 [05:21<00:15,  1.41s/it]"
          ]
        },
        {
          "output_type": "stream",
          "name": "stdout",
          "text": [
            "\n",
            "image 1/1 /content/drive/MyDrive/bdma-07-competition/BDMA7_project_files/train_images/Gray_Catbird/Gray_Catbird_0060_20656.jpg: 480x640 1 Bird, 38.7ms\n",
            "Speed: 3.8ms preprocess, 38.7ms inference, 1.3ms postprocess per image at shape (1, 3, 480, 640)\n"
          ]
        },
        {
          "output_type": "stream",
          "name": "stderr",
          "text": [
            "\rProcessing train_images images:  99%|█████████▉| 1072/1082 [05:22<00:12,  1.26s/it]"
          ]
        },
        {
          "output_type": "stream",
          "name": "stdout",
          "text": [
            "\n",
            "image 1/1 /content/drive/MyDrive/bdma-07-competition/BDMA7_project_files/train_images/Gray_Catbird/Gray_Catbird_0045_20950.jpg: 480x640 1 Bird, 38.0ms\n",
            "Speed: 3.4ms preprocess, 38.0ms inference, 1.3ms postprocess per image at shape (1, 3, 480, 640)\n"
          ]
        },
        {
          "output_type": "stream",
          "name": "stderr",
          "text": [
            "\rProcessing train_images images:  99%|█████████▉| 1073/1082 [05:23<00:11,  1.29s/it]"
          ]
        },
        {
          "output_type": "stream",
          "name": "stdout",
          "text": [
            "\n",
            "image 1/1 /content/drive/MyDrive/bdma-07-competition/BDMA7_project_files/train_images/Gray_Catbird/Gray_Catbird_0067_21043.jpg: 576x640 1 Bird, 46.7ms\n",
            "Speed: 4.5ms preprocess, 46.7ms inference, 1.2ms postprocess per image at shape (1, 3, 576, 640)\n"
          ]
        },
        {
          "output_type": "stream",
          "name": "stderr",
          "text": [
            "\rProcessing train_images images:  99%|█████████▉| 1074/1082 [05:24<00:11,  1.38s/it]"
          ]
        },
        {
          "output_type": "stream",
          "name": "stdout",
          "text": [
            "\n",
            "image 1/1 /content/drive/MyDrive/bdma-07-competition/BDMA7_project_files/train_images/Gray_Catbird/Gray_Catbird_0043_21008.jpg: 448x640 1 Bird, 37.6ms\n",
            "Speed: 3.2ms preprocess, 37.6ms inference, 1.2ms postprocess per image at shape (1, 3, 448, 640)\n"
          ]
        },
        {
          "output_type": "stream",
          "name": "stderr",
          "text": [
            "\rProcessing train_images images:  99%|█████████▉| 1075/1082 [05:27<00:12,  1.73s/it]"
          ]
        },
        {
          "output_type": "stream",
          "name": "stdout",
          "text": [
            "\n",
            "image 1/1 /content/drive/MyDrive/bdma-07-competition/BDMA7_project_files/train_images/Gray_Catbird/Gray_Catbird_0031_21635.jpg: 512x640 1 Bird, 39.6ms\n",
            "Speed: 6.9ms preprocess, 39.6ms inference, 1.9ms postprocess per image at shape (1, 3, 512, 640)\n"
          ]
        },
        {
          "output_type": "stream",
          "name": "stderr",
          "text": [
            "\rProcessing train_images images:  99%|█████████▉| 1076/1082 [05:29<00:10,  1.68s/it]"
          ]
        },
        {
          "output_type": "stream",
          "name": "stdout",
          "text": [
            "\n",
            "image 1/1 /content/drive/MyDrive/bdma-07-competition/BDMA7_project_files/train_images/Gray_Catbird/Gray_Catbird_0125_19833.jpg: 480x640 1 Bird, 41.6ms\n",
            "Speed: 3.6ms preprocess, 41.6ms inference, 1.9ms postprocess per image at shape (1, 3, 480, 640)\n"
          ]
        },
        {
          "output_type": "stream",
          "name": "stderr",
          "text": [
            "\rProcessing train_images images: 100%|█████████▉| 1077/1082 [05:30<00:07,  1.48s/it]"
          ]
        },
        {
          "output_type": "stream",
          "name": "stdout",
          "text": [
            "\n",
            "image 1/1 /content/drive/MyDrive/bdma-07-competition/BDMA7_project_files/train_images/Gray_Catbird/Gray_Catbird_0104_20716.jpg: 640x480 1 Bird, 36.7ms\n",
            "Speed: 3.5ms preprocess, 36.7ms inference, 1.3ms postprocess per image at shape (1, 3, 640, 480)\n"
          ]
        },
        {
          "output_type": "stream",
          "name": "stderr",
          "text": [
            "\rProcessing train_images images: 100%|█████████▉| 1078/1082 [05:31<00:05,  1.47s/it]"
          ]
        },
        {
          "output_type": "stream",
          "name": "stdout",
          "text": [
            "\n",
            "image 1/1 /content/drive/MyDrive/bdma-07-competition/BDMA7_project_files/train_images/Gray_Catbird/Gray_Catbird_0102_20644.jpg: 448x640 1 Bird, 37.7ms\n",
            "Speed: 3.4ms preprocess, 37.7ms inference, 1.2ms postprocess per image at shape (1, 3, 448, 640)\n"
          ]
        },
        {
          "output_type": "stream",
          "name": "stderr",
          "text": [
            "\rProcessing train_images images: 100%|█████████▉| 1079/1082 [05:32<00:03,  1.32s/it]"
          ]
        },
        {
          "output_type": "stream",
          "name": "stdout",
          "text": [
            "\n",
            "image 1/1 /content/drive/MyDrive/bdma-07-competition/BDMA7_project_files/train_images/Gray_Catbird/Gray_Catbird_0138_20945.jpg: 640x576 1 Bird, 48.1ms\n",
            "Speed: 4.4ms preprocess, 48.1ms inference, 1.6ms postprocess per image at shape (1, 3, 640, 576)\n"
          ]
        },
        {
          "output_type": "stream",
          "name": "stderr",
          "text": [
            "\rProcessing train_images images: 100%|█████████▉| 1080/1082 [05:33<00:02,  1.15s/it]"
          ]
        },
        {
          "output_type": "stream",
          "name": "stdout",
          "text": [
            "\n",
            "image 1/1 /content/drive/MyDrive/bdma-07-competition/BDMA7_project_files/train_images/Gray_Catbird/Gray_Catbird_0053_20694.jpg: 480x640 1 Bird, 40.1ms\n",
            "Speed: 5.9ms preprocess, 40.1ms inference, 1.2ms postprocess per image at shape (1, 3, 480, 640)\n"
          ]
        },
        {
          "output_type": "stream",
          "name": "stderr",
          "text": [
            "\rProcessing train_images images: 100%|█████████▉| 1081/1082 [05:33<00:01,  1.01s/it]"
          ]
        },
        {
          "output_type": "stream",
          "name": "stdout",
          "text": [
            "\n",
            "image 1/1 /content/drive/MyDrive/bdma-07-competition/BDMA7_project_files/train_images/Gray_Catbird/Gray_Catbird_0075_21125.jpg: 512x640 1 Bird, 39.1ms\n",
            "Speed: 3.5ms preprocess, 39.1ms inference, 1.2ms postprocess per image at shape (1, 3, 512, 640)\n"
          ]
        },
        {
          "output_type": "stream",
          "name": "stderr",
          "text": [
            "Processing train_images images: 100%|██████████| 1082/1082 [05:34<00:00,  3.23it/s]\n",
            "Processing val_images images:   0%|          | 0/103 [00:00<?, ?it/s]"
          ]
        },
        {
          "output_type": "stream",
          "name": "stdout",
          "text": [
            "\n",
            "image 1/1 /content/drive/MyDrive/bdma-07-competition/BDMA7_project_files/val_images/Brandt_Cormorant/Brandt_Cormorant_0092_23061.jpg: 576x640 1 Bird, 46.8ms\n",
            "Speed: 4.3ms preprocess, 46.8ms inference, 1.4ms postprocess per image at shape (1, 3, 576, 640)\n"
          ]
        },
        {
          "output_type": "stream",
          "name": "stderr",
          "text": [
            "\rProcessing val_images images:   1%|          | 1/103 [00:00<01:22,  1.23it/s]"
          ]
        },
        {
          "output_type": "stream",
          "name": "stdout",
          "text": [
            "\n",
            "image 1/1 /content/drive/MyDrive/bdma-07-competition/BDMA7_project_files/val_images/Brandt_Cormorant/Brandt_Cormorant_0047_23337.jpg: 480x640 1 Bird, 39.1ms\n",
            "Speed: 3.3ms preprocess, 39.1ms inference, 1.2ms postprocess per image at shape (1, 3, 480, 640)\n"
          ]
        },
        {
          "output_type": "stream",
          "name": "stderr",
          "text": [
            "\rProcessing val_images images:   2%|▏         | 2/103 [00:03<03:17,  1.95s/it]"
          ]
        },
        {
          "output_type": "stream",
          "name": "stdout",
          "text": [
            "\n",
            "image 1/1 /content/drive/MyDrive/bdma-07-competition/BDMA7_project_files/val_images/Brandt_Cormorant/Brandt_Cormorant_0083_23156.jpg: 416x640 1 Bird, 37.3ms\n",
            "Speed: 2.9ms preprocess, 37.3ms inference, 1.3ms postprocess per image at shape (1, 3, 416, 640)\n"
          ]
        },
        {
          "output_type": "stream",
          "name": "stderr",
          "text": [
            "\rProcessing val_images images:   3%|▎         | 3/103 [00:04<02:33,  1.53s/it]"
          ]
        },
        {
          "output_type": "stream",
          "name": "stdout",
          "text": [
            "\n",
            "image 1/1 /content/drive/MyDrive/bdma-07-competition/BDMA7_project_files/val_images/Brandt_Cormorant/Brandt_Cormorant_0070_23137.jpg: 448x640 1 Bird, 37.9ms\n",
            "Speed: 3.1ms preprocess, 37.9ms inference, 1.6ms postprocess per image at shape (1, 3, 448, 640)\n"
          ]
        },
        {
          "output_type": "stream",
          "name": "stderr",
          "text": [
            "\rProcessing val_images images:   4%|▍         | 4/103 [00:06<02:34,  1.56s/it]"
          ]
        },
        {
          "output_type": "stream",
          "name": "stdout",
          "text": [
            "\n",
            "image 1/1 /content/drive/MyDrive/bdma-07-competition/BDMA7_project_files/val_images/Brandt_Cormorant/Brandt_Cormorant_0009_22890.jpg: 640x512 1 Bird, 39.1ms\n",
            "Speed: 4.3ms preprocess, 39.1ms inference, 1.8ms postprocess per image at shape (1, 3, 640, 512)\n"
          ]
        },
        {
          "output_type": "stream",
          "name": "stderr",
          "text": [
            "\rProcessing val_images images:   5%|▍         | 5/103 [00:07<02:36,  1.59s/it]"
          ]
        },
        {
          "output_type": "stream",
          "name": "stdout",
          "text": [
            "\n",
            "image 1/1 /content/drive/MyDrive/bdma-07-competition/BDMA7_project_files/val_images/Brandt_Cormorant/Brandt_Cormorant_0039_22945.jpg: 480x640 1 Bird, 38.6ms\n",
            "Speed: 3.4ms preprocess, 38.6ms inference, 1.3ms postprocess per image at shape (1, 3, 480, 640)\n"
          ]
        },
        {
          "output_type": "stream",
          "name": "stderr",
          "text": [
            "\rProcessing val_images images:   6%|▌         | 6/103 [00:08<02:15,  1.40s/it]"
          ]
        },
        {
          "output_type": "stream",
          "name": "stdout",
          "text": [
            "\n",
            "image 1/1 /content/drive/MyDrive/bdma-07-competition/BDMA7_project_files/val_images/Brown_Creeper/Brown_Creeper_0089_24841.jpg: 640x480 1 Bird, 36.8ms\n",
            "Speed: 4.3ms preprocess, 36.8ms inference, 1.3ms postprocess per image at shape (1, 3, 640, 480)\n"
          ]
        },
        {
          "output_type": "stream",
          "name": "stderr",
          "text": [
            "\rProcessing val_images images:   7%|▋         | 7/103 [00:10<02:26,  1.52s/it]"
          ]
        },
        {
          "output_type": "stream",
          "name": "stdout",
          "text": [
            "\n",
            "image 1/1 /content/drive/MyDrive/bdma-07-competition/BDMA7_project_files/val_images/Brown_Creeper/Brown_Creeper_0059_25010.jpg: 448x640 1 Bird, 37.7ms\n",
            "Speed: 3.5ms preprocess, 37.7ms inference, 1.3ms postprocess per image at shape (1, 3, 448, 640)\n"
          ]
        },
        {
          "output_type": "stream",
          "name": "stderr",
          "text": [
            "\rProcessing val_images images:   8%|▊         | 8/103 [00:11<02:06,  1.33s/it]"
          ]
        },
        {
          "output_type": "stream",
          "name": "stdout",
          "text": [
            "\n",
            "image 1/1 /content/drive/MyDrive/bdma-07-competition/BDMA7_project_files/val_images/Brown_Creeper/Brown_Creeper_0113_24560.jpg: 640x416 1 Bird, 35.2ms\n",
            "Speed: 3.0ms preprocess, 35.2ms inference, 1.2ms postprocess per image at shape (1, 3, 640, 416)\n"
          ]
        },
        {
          "output_type": "stream",
          "name": "stderr",
          "text": [
            "\rProcessing val_images images:   9%|▊         | 9/103 [00:12<01:56,  1.24s/it]"
          ]
        },
        {
          "output_type": "stream",
          "name": "stdout",
          "text": [
            "\n",
            "image 1/1 /content/drive/MyDrive/bdma-07-competition/BDMA7_project_files/val_images/Brown_Creeper/Brown_Creeper_0035_24941.jpg: 640x544 1 Bird, 46.5ms\n",
            "Speed: 4.5ms preprocess, 46.5ms inference, 1.3ms postprocess per image at shape (1, 3, 640, 544)\n"
          ]
        },
        {
          "output_type": "stream",
          "name": "stderr",
          "text": [
            "\rProcessing val_images images:  10%|▉         | 10/103 [00:13<01:53,  1.22s/it]"
          ]
        },
        {
          "output_type": "stream",
          "name": "stdout",
          "text": [
            "\n",
            "image 1/1 /content/drive/MyDrive/bdma-07-competition/BDMA7_project_files/val_images/Brown_Creeper/Brown_Creeper_0043_24549.jpg: 640x640 1 Bird, 48.2ms\n",
            "Speed: 6.0ms preprocess, 48.2ms inference, 1.3ms postprocess per image at shape (1, 3, 640, 640)\n"
          ]
        },
        {
          "output_type": "stream",
          "name": "stderr",
          "text": [
            "\rProcessing val_images images:  11%|█         | 11/103 [00:14<01:41,  1.10s/it]"
          ]
        },
        {
          "output_type": "stream",
          "name": "stdout",
          "text": [
            "\n",
            "image 1/1 /content/drive/MyDrive/bdma-07-competition/BDMA7_project_files/val_images/Brown_Creeper/Brown_Creeper_0083_24967.jpg: 448x640 1 Bird, 37.6ms\n",
            "Speed: 3.4ms preprocess, 37.6ms inference, 1.2ms postprocess per image at shape (1, 3, 448, 640)\n"
          ]
        },
        {
          "output_type": "stream",
          "name": "stderr",
          "text": [
            "\rProcessing val_images images:  12%|█▏        | 12/103 [00:15<01:33,  1.03s/it]"
          ]
        },
        {
          "output_type": "stream",
          "name": "stdout",
          "text": [
            "\n",
            "image 1/1 /content/drive/MyDrive/bdma-07-competition/BDMA7_project_files/val_images/Brown_Creeper/Brown_Creeper_0029_24912.jpg: 640x480 1 Bird, 36.7ms\n",
            "Speed: 3.4ms preprocess, 36.7ms inference, 1.2ms postprocess per image at shape (1, 3, 640, 480)\n"
          ]
        },
        {
          "output_type": "stream",
          "name": "stderr",
          "text": [
            "\rProcessing val_images images:  13%|█▎        | 13/103 [00:16<01:32,  1.03s/it]"
          ]
        },
        {
          "output_type": "stream",
          "name": "stdout",
          "text": [
            "\n",
            "image 1/1 /content/drive/MyDrive/bdma-07-competition/BDMA7_project_files/val_images/Bronzed_Cowbird/Bronzed_Cowbird_0002_796244.jpg: 640x448 1 Bird, 35.7ms\n",
            "Speed: 3.7ms preprocess, 35.7ms inference, 1.2ms postprocess per image at shape (1, 3, 640, 448)\n"
          ]
        },
        {
          "output_type": "stream",
          "name": "stderr",
          "text": [
            "\rProcessing val_images images:  14%|█▎        | 14/103 [00:17<01:35,  1.07s/it]"
          ]
        },
        {
          "output_type": "stream",
          "name": "stdout",
          "text": [
            "\n",
            "image 1/1 /content/drive/MyDrive/bdma-07-competition/BDMA7_project_files/val_images/Bronzed_Cowbird/Bronzed_Cowbird_0081_24198.jpg: 480x640 1 Bird, 38.9ms\n",
            "Speed: 3.4ms preprocess, 38.9ms inference, 1.6ms postprocess per image at shape (1, 3, 480, 640)\n"
          ]
        },
        {
          "output_type": "stream",
          "name": "stderr",
          "text": [
            "\rProcessing val_images images:  15%|█▍        | 15/103 [00:19<01:50,  1.25s/it]"
          ]
        },
        {
          "output_type": "stream",
          "name": "stdout",
          "text": [
            "\n",
            "image 1/1 /content/drive/MyDrive/bdma-07-competition/BDMA7_project_files/val_images/Bronzed_Cowbird/Bronzed_Cowbird_0010_24146.jpg: 512x640 1 Bird, 39.4ms\n",
            "Speed: 3.8ms preprocess, 39.4ms inference, 1.3ms postprocess per image at shape (1, 3, 512, 640)\n"
          ]
        },
        {
          "output_type": "stream",
          "name": "stderr",
          "text": [
            "\rProcessing val_images images:  16%|█▌        | 16/103 [00:20<01:55,  1.32s/it]"
          ]
        },
        {
          "output_type": "stream",
          "name": "stdout",
          "text": [
            "\n",
            "image 1/1 /content/drive/MyDrive/bdma-07-competition/BDMA7_project_files/val_images/Bronzed_Cowbird/Bronzed_Cowbird_0056_796222.jpg: 544x640 1 Bird, 46.0ms\n",
            "Speed: 5.6ms preprocess, 46.0ms inference, 1.3ms postprocess per image at shape (1, 3, 544, 640)\n"
          ]
        },
        {
          "output_type": "stream",
          "name": "stderr",
          "text": [
            "\rProcessing val_images images:  17%|█▋        | 17/103 [00:21<01:45,  1.23s/it]"
          ]
        },
        {
          "output_type": "stream",
          "name": "stdout",
          "text": [
            "\n",
            "image 1/1 /content/drive/MyDrive/bdma-07-competition/BDMA7_project_files/val_images/Bronzed_Cowbird/Bronzed_Cowbird_0062_796238.jpg: 480x640 1 Bird, 38.7ms\n",
            "Speed: 3.6ms preprocess, 38.7ms inference, 1.3ms postprocess per image at shape (1, 3, 480, 640)\n"
          ]
        },
        {
          "output_type": "stream",
          "name": "stderr",
          "text": [
            "\rProcessing val_images images:  17%|█▋        | 18/103 [00:23<01:50,  1.30s/it]"
          ]
        },
        {
          "output_type": "stream",
          "name": "stdout",
          "text": [
            "\n",
            "image 1/1 /content/drive/MyDrive/bdma-07-competition/BDMA7_project_files/val_images/Bronzed_Cowbird/Bronzed_Cowbird_0058_796239.jpg: 480x640 1 Bird, 37.8ms\n",
            "Speed: 4.5ms preprocess, 37.8ms inference, 1.3ms postprocess per image at shape (1, 3, 480, 640)\n"
          ]
        },
        {
          "output_type": "stream",
          "name": "stderr",
          "text": [
            "\rProcessing val_images images:  18%|█▊        | 19/103 [00:24<01:39,  1.18s/it]"
          ]
        },
        {
          "output_type": "stream",
          "name": "stdout",
          "text": [
            "\n",
            "image 1/1 /content/drive/MyDrive/bdma-07-competition/BDMA7_project_files/val_images/Bronzed_Cowbird/Bronzed_Cowbird_0078_796262.jpg: 576x640 1 Bird, 46.7ms\n",
            "Speed: 5.5ms preprocess, 46.7ms inference, 1.2ms postprocess per image at shape (1, 3, 576, 640)\n"
          ]
        },
        {
          "output_type": "stream",
          "name": "stderr",
          "text": [
            "\rProcessing val_images images:  19%|█▉        | 20/103 [00:25<01:35,  1.15s/it]"
          ]
        },
        {
          "output_type": "stream",
          "name": "stdout",
          "text": [
            "\n",
            "image 1/1 /content/drive/MyDrive/bdma-07-competition/BDMA7_project_files/val_images/Bronzed_Cowbird/Bronzed_Cowbird_0052_796216.jpg: 512x640 1 Bird, 39.1ms\n",
            "Speed: 4.3ms preprocess, 39.1ms inference, 1.3ms postprocess per image at shape (1, 3, 512, 640)\n"
          ]
        },
        {
          "output_type": "stream",
          "name": "stderr",
          "text": [
            "\rProcessing val_images images:  20%|██        | 21/103 [00:26<01:46,  1.29s/it]"
          ]
        },
        {
          "output_type": "stream",
          "name": "stdout",
          "text": [
            "\n",
            "image 1/1 /content/drive/MyDrive/bdma-07-competition/BDMA7_project_files/val_images/Black_billed_Cuckoo/Black_Billed_Cuckoo_0069_795326.jpg: 640x448 1 Bird, 35.7ms\n",
            "Speed: 3.7ms preprocess, 35.7ms inference, 1.2ms postprocess per image at shape (1, 3, 640, 448)\n"
          ]
        },
        {
          "output_type": "stream",
          "name": "stderr",
          "text": [
            "\rProcessing val_images images:  21%|██▏       | 22/103 [00:28<01:42,  1.26s/it]"
          ]
        },
        {
          "output_type": "stream",
          "name": "stdout",
          "text": [
            "\n",
            "image 1/1 /content/drive/MyDrive/bdma-07-competition/BDMA7_project_files/val_images/Black_billed_Cuckoo/Black_Billed_Cuckoo_0019_795329.jpg: 448x640 1 Bird, 38.5ms\n",
            "Speed: 4.0ms preprocess, 38.5ms inference, 1.3ms postprocess per image at shape (1, 3, 448, 640)\n"
          ]
        },
        {
          "output_type": "stream",
          "name": "stderr",
          "text": [
            "\rProcessing val_images images:  22%|██▏       | 23/103 [00:29<01:47,  1.34s/it]"
          ]
        },
        {
          "output_type": "stream",
          "name": "stdout",
          "text": [
            "\n",
            "image 1/1 /content/drive/MyDrive/bdma-07-competition/BDMA7_project_files/val_images/Black_billed_Cuckoo/Black_Billed_Cuckoo_0076_26177.jpg: 512x640 1 Bird, 39.0ms\n",
            "Speed: 3.7ms preprocess, 39.0ms inference, 1.3ms postprocess per image at shape (1, 3, 512, 640)\n"
          ]
        },
        {
          "output_type": "stream",
          "name": "stderr",
          "text": [
            "\rProcessing val_images images:  23%|██▎       | 24/103 [00:30<01:34,  1.20s/it]"
          ]
        },
        {
          "output_type": "stream",
          "name": "stdout",
          "text": [
            "\n",
            "image 1/1 /content/drive/MyDrive/bdma-07-competition/BDMA7_project_files/val_images/Black_billed_Cuckoo/Black_Billed_Cuckoo_0028_26165.jpg: 608x640 1 Bird, 48.3ms\n",
            "Speed: 4.2ms preprocess, 48.3ms inference, 1.9ms postprocess per image at shape (1, 3, 608, 640)\n"
          ]
        },
        {
          "output_type": "stream",
          "name": "stderr",
          "text": [
            "\rProcessing val_images images:  24%|██▍       | 25/103 [00:32<01:42,  1.31s/it]"
          ]
        },
        {
          "output_type": "stream",
          "name": "stdout",
          "text": [
            "\n",
            "image 1/1 /content/drive/MyDrive/bdma-07-competition/BDMA7_project_files/val_images/Black_billed_Cuckoo/Black_Billed_Cuckoo_0037_795330.jpg: 640x480 1 Bird, 37.7ms\n",
            "Speed: 3.4ms preprocess, 37.7ms inference, 1.3ms postprocess per image at shape (1, 3, 640, 480)\n"
          ]
        },
        {
          "output_type": "stream",
          "name": "stderr",
          "text": [
            "\rProcessing val_images images:  25%|██▌       | 26/103 [00:33<01:41,  1.32s/it]"
          ]
        },
        {
          "output_type": "stream",
          "name": "stdout",
          "text": [
            "\n",
            "image 1/1 /content/drive/MyDrive/bdma-07-competition/BDMA7_project_files/val_images/Eastern_Towhee/Eastern_Towhee_0122_22538.jpg: 448x640 1 Bird, 37.9ms\n",
            "Speed: 5.3ms preprocess, 37.9ms inference, 1.3ms postprocess per image at shape (1, 3, 448, 640)\n"
          ]
        },
        {
          "output_type": "stream",
          "name": "stderr",
          "text": [
            "\rProcessing val_images images:  26%|██▌       | 27/103 [00:34<01:30,  1.18s/it]"
          ]
        },
        {
          "output_type": "stream",
          "name": "stdout",
          "text": [
            "\n",
            "image 1/1 /content/drive/MyDrive/bdma-07-competition/BDMA7_project_files/val_images/Eastern_Towhee/Eastern_Towhee_0090_22273.jpg: 448x640 1 Bird, 36.8ms\n",
            "Speed: 3.3ms preprocess, 36.8ms inference, 1.2ms postprocess per image at shape (1, 3, 448, 640)\n"
          ]
        },
        {
          "output_type": "stream",
          "name": "stderr",
          "text": [
            "\rProcessing val_images images:  27%|██▋       | 28/103 [00:35<01:24,  1.12s/it]"
          ]
        },
        {
          "output_type": "stream",
          "name": "stdout",
          "text": [
            "\n",
            "image 1/1 /content/drive/MyDrive/bdma-07-competition/BDMA7_project_files/val_images/Eastern_Towhee/Eastern_Towhee_0021_22152.jpg: 448x640 1 Bird, 36.9ms\n",
            "Speed: 3.6ms preprocess, 36.9ms inference, 1.3ms postprocess per image at shape (1, 3, 448, 640)\n"
          ]
        },
        {
          "output_type": "stream",
          "name": "stderr",
          "text": [
            "\rProcessing val_images images:  28%|██▊       | 29/103 [00:35<01:12,  1.02it/s]"
          ]
        },
        {
          "output_type": "stream",
          "name": "stdout",
          "text": [
            "\n",
            "image 1/1 /content/drive/MyDrive/bdma-07-competition/BDMA7_project_files/val_images/Eastern_Towhee/Eastern_Towhee_0108_22182.jpg: 480x640 1 Bird, 38.8ms\n",
            "Speed: 3.4ms preprocess, 38.8ms inference, 1.3ms postprocess per image at shape (1, 3, 480, 640)\n"
          ]
        },
        {
          "output_type": "stream",
          "name": "stderr",
          "text": [
            "\rProcessing val_images images:  29%|██▉       | 30/103 [00:37<01:26,  1.18s/it]"
          ]
        },
        {
          "output_type": "stream",
          "name": "stdout",
          "text": [
            "\n",
            "image 1/1 /content/drive/MyDrive/bdma-07-competition/BDMA7_project_files/val_images/Eastern_Towhee/Eastern_Towhee_0112_22231.jpg: 480x640 1 Bird, 38.0ms\n",
            "Speed: 3.4ms preprocess, 38.0ms inference, 1.3ms postprocess per image at shape (1, 3, 480, 640)\n"
          ]
        },
        {
          "output_type": "stream",
          "name": "stderr",
          "text": [
            "\rProcessing val_images images:  30%|███       | 31/103 [00:38<01:14,  1.03s/it]"
          ]
        },
        {
          "output_type": "stream",
          "name": "stdout",
          "text": [
            "\n",
            "image 1/1 /content/drive/MyDrive/bdma-07-competition/BDMA7_project_files/val_images/Eastern_Towhee/Eastern_Towhee_0050_22257.jpg: 640x640 1 Bird, 49.9ms\n",
            "Speed: 5.0ms preprocess, 49.9ms inference, 1.9ms postprocess per image at shape (1, 3, 640, 640)\n"
          ]
        },
        {
          "output_type": "stream",
          "name": "stderr",
          "text": [
            "\rProcessing val_images images:  31%|███       | 32/103 [00:39<01:16,  1.08s/it]"
          ]
        },
        {
          "output_type": "stream",
          "name": "stdout",
          "text": [
            "\n",
            "image 1/1 /content/drive/MyDrive/bdma-07-competition/BDMA7_project_files/val_images/Groove_billed_Ani/Groove_Billed_Ani_0105_1562.jpg: 480x640 2 Birds, 38.6ms\n",
            "Speed: 3.4ms preprocess, 38.6ms inference, 1.2ms postprocess per image at shape (1, 3, 480, 640)\n"
          ]
        },
        {
          "output_type": "stream",
          "name": "stderr",
          "text": [
            "\rProcessing val_images images:  32%|███▏      | 33/103 [00:41<01:25,  1.22s/it]"
          ]
        },
        {
          "output_type": "stream",
          "name": "stdout",
          "text": [
            "\n",
            "image 1/1 /content/drive/MyDrive/bdma-07-competition/BDMA7_project_files/val_images/Groove_billed_Ani/Groove_Billed_Ani_0085_1612.jpg: 480x640 1 Bird, 37.8ms\n",
            "Speed: 3.8ms preprocess, 37.8ms inference, 1.3ms postprocess per image at shape (1, 3, 480, 640)\n"
          ]
        },
        {
          "output_type": "stream",
          "name": "stderr",
          "text": [
            "\rProcessing val_images images:  33%|███▎      | 34/103 [00:41<01:17,  1.12s/it]"
          ]
        },
        {
          "output_type": "stream",
          "name": "stdout",
          "text": [
            "\n",
            "image 1/1 /content/drive/MyDrive/bdma-07-competition/BDMA7_project_files/val_images/Yellow_headed_Blackbird/Yellow_Headed_Blackbird_0043_8250.jpg: 448x640 1 Bird, 39.5ms\n",
            "Speed: 3.1ms preprocess, 39.5ms inference, 1.6ms postprocess per image at shape (1, 3, 448, 640)\n"
          ]
        },
        {
          "output_type": "stream",
          "name": "stderr",
          "text": [
            "\rProcessing val_images images:  34%|███▍      | 35/103 [00:42<01:13,  1.08s/it]"
          ]
        },
        {
          "output_type": "stream",
          "name": "stdout",
          "text": [
            "\n",
            "image 1/1 /content/drive/MyDrive/bdma-07-competition/BDMA7_project_files/val_images/Yellow_headed_Blackbird/Yellow_Headed_Blackbird_0007_8366.jpg: 576x640 1 Bird, 46.8ms\n",
            "Speed: 4.1ms preprocess, 46.8ms inference, 1.5ms postprocess per image at shape (1, 3, 576, 640)\n"
          ]
        },
        {
          "output_type": "stream",
          "name": "stderr",
          "text": [
            "\rProcessing val_images images:  35%|███▍      | 36/103 [00:44<01:20,  1.20s/it]"
          ]
        },
        {
          "output_type": "stream",
          "name": "stdout",
          "text": [
            "\n",
            "image 1/1 /content/drive/MyDrive/bdma-07-competition/BDMA7_project_files/val_images/Brewer_Blackbird/Brewer_Blackbird_0127_2235.jpg: 480x640 1 Bird, 38.6ms\n",
            "Speed: 3.6ms preprocess, 38.6ms inference, 1.2ms postprocess per image at shape (1, 3, 480, 640)\n"
          ]
        },
        {
          "output_type": "stream",
          "name": "stderr",
          "text": [
            "\rProcessing val_images images:  36%|███▌      | 37/103 [00:45<01:25,  1.29s/it]"
          ]
        },
        {
          "output_type": "stream",
          "name": "stdout",
          "text": [
            "\n",
            "image 1/1 /content/drive/MyDrive/bdma-07-competition/BDMA7_project_files/val_images/Brewer_Blackbird/Brewer_Blackbird_0009_2616.jpg: 544x640 1 Bird, 45.9ms\n",
            "Speed: 3.7ms preprocess, 45.9ms inference, 1.2ms postprocess per image at shape (1, 3, 544, 640)\n"
          ]
        },
        {
          "output_type": "stream",
          "name": "stderr",
          "text": [
            "\rProcessing val_images images:  37%|███▋      | 38/103 [00:47<01:30,  1.40s/it]"
          ]
        },
        {
          "output_type": "stream",
          "name": "stdout",
          "text": [
            "\n",
            "image 1/1 /content/drive/MyDrive/bdma-07-competition/BDMA7_project_files/val_images/Brewer_Blackbird/Brewer_Blackbird_0015_2286.jpg: 544x640 1 Bird, 47.1ms\n",
            "Speed: 3.7ms preprocess, 47.1ms inference, 1.8ms postprocess per image at shape (1, 3, 544, 640)\n"
          ]
        },
        {
          "output_type": "stream",
          "name": "stderr",
          "text": [
            "\rProcessing val_images images:  38%|███▊      | 39/103 [00:49<01:33,  1.47s/it]"
          ]
        },
        {
          "output_type": "stream",
          "name": "stdout",
          "text": [
            "\n",
            "image 1/1 /content/drive/MyDrive/bdma-07-competition/BDMA7_project_files/val_images/Brewer_Blackbird/Brewer_Blackbird_0104_2230.jpg: 448x640 1 Bird, 37.7ms\n",
            "Speed: 2.9ms preprocess, 37.7ms inference, 1.2ms postprocess per image at shape (1, 3, 448, 640)\n"
          ]
        },
        {
          "output_type": "stream",
          "name": "stderr",
          "text": [
            "\rProcessing val_images images:  39%|███▉      | 40/103 [00:50<01:33,  1.49s/it]"
          ]
        },
        {
          "output_type": "stream",
          "name": "stdout",
          "text": [
            "\n",
            "image 1/1 /content/drive/MyDrive/bdma-07-competition/BDMA7_project_files/val_images/Bobolink/Bobolink_0047_9204.jpg: 640x512 1 Bird, 36.7ms\n",
            "Speed: 5.6ms preprocess, 36.7ms inference, 1.4ms postprocess per image at shape (1, 3, 640, 512)\n"
          ]
        },
        {
          "output_type": "stream",
          "name": "stderr",
          "text": [
            "\rProcessing val_images images:  40%|███▉      | 41/103 [00:52<01:32,  1.50s/it]"
          ]
        },
        {
          "output_type": "stream",
          "name": "stdout",
          "text": [
            "\n",
            "image 1/1 /content/drive/MyDrive/bdma-07-competition/BDMA7_project_files/val_images/Bobolink/Bobolink_0101_9811.jpg: 480x640 1 Bird, 38.6ms\n",
            "Speed: 3.6ms preprocess, 38.6ms inference, 1.3ms postprocess per image at shape (1, 3, 480, 640)\n"
          ]
        },
        {
          "output_type": "stream",
          "name": "stderr",
          "text": [
            "\rProcessing val_images images:  41%|████      | 42/103 [00:53<01:20,  1.32s/it]"
          ]
        },
        {
          "output_type": "stream",
          "name": "stdout",
          "text": [
            "\n",
            "image 1/1 /content/drive/MyDrive/bdma-07-competition/BDMA7_project_files/val_images/Lazuli_Bunting/Lazuli_Bunting_0014_14824.jpg: 640x512 1 Bird, 36.7ms\n",
            "Speed: 4.2ms preprocess, 36.7ms inference, 1.2ms postprocess per image at shape (1, 3, 640, 512)\n"
          ]
        },
        {
          "output_type": "stream",
          "name": "stderr",
          "text": [
            "\rProcessing val_images images:  42%|████▏     | 43/103 [00:54<01:11,  1.20s/it]"
          ]
        },
        {
          "output_type": "stream",
          "name": "stdout",
          "text": [
            "\n",
            "image 1/1 /content/drive/MyDrive/bdma-07-competition/BDMA7_project_files/val_images/Lazuli_Bunting/Lazuli_Bunting_0101_14873.jpg: 512x640 1 Bird, 39.6ms\n",
            "Speed: 6.5ms preprocess, 39.6ms inference, 2.0ms postprocess per image at shape (1, 3, 512, 640)\n"
          ]
        },
        {
          "output_type": "stream",
          "name": "stderr",
          "text": [
            "\rProcessing val_images images:  43%|████▎     | 44/103 [00:55<01:12,  1.22s/it]"
          ]
        },
        {
          "output_type": "stream",
          "name": "stdout",
          "text": [
            "\n",
            "image 1/1 /content/drive/MyDrive/bdma-07-competition/BDMA7_project_files/val_images/Lazuli_Bunting/Lazuli_Bunting_0066_14914.jpg: 640x576 1 Bird, 47.6ms\n",
            "Speed: 4.7ms preprocess, 47.6ms inference, 2.1ms postprocess per image at shape (1, 3, 640, 576)\n"
          ]
        },
        {
          "output_type": "stream",
          "name": "stderr",
          "text": [
            "\rProcessing val_images images:  44%|████▎     | 45/103 [00:56<01:03,  1.09s/it]"
          ]
        },
        {
          "output_type": "stream",
          "name": "stdout",
          "text": [
            "\n",
            "image 1/1 /content/drive/MyDrive/bdma-07-competition/BDMA7_project_files/val_images/Lazuli_Bunting/Lazuli_Bunting_0055_15043.jpg: 576x640 1 Bird, 46.9ms\n",
            "Speed: 6.3ms preprocess, 46.9ms inference, 1.5ms postprocess per image at shape (1, 3, 576, 640)\n"
          ]
        },
        {
          "output_type": "stream",
          "name": "stderr",
          "text": [
            "\rProcessing val_images images:  45%|████▍     | 46/103 [00:56<00:56,  1.01it/s]"
          ]
        },
        {
          "output_type": "stream",
          "name": "stdout",
          "text": [
            "\n",
            "image 1/1 /content/drive/MyDrive/bdma-07-competition/BDMA7_project_files/val_images/Indigo_Bunting/Indigo_Bunting_0005_13832.jpg: 480x640 2 Birds, 38.6ms\n",
            "Speed: 3.5ms preprocess, 38.6ms inference, 1.3ms postprocess per image at shape (1, 3, 480, 640)\n"
          ]
        },
        {
          "output_type": "stream",
          "name": "stderr",
          "text": [
            "\rProcessing val_images images:  46%|████▌     | 47/103 [00:57<00:55,  1.01it/s]"
          ]
        },
        {
          "output_type": "stream",
          "name": "stdout",
          "text": [
            "\n",
            "image 1/1 /content/drive/MyDrive/bdma-07-competition/BDMA7_project_files/val_images/Indigo_Bunting/Indigo_Bunting_0014_14167.jpg: 416x640 1 Bird, 37.6ms\n",
            "Speed: 4.7ms preprocess, 37.6ms inference, 1.8ms postprocess per image at shape (1, 3, 416, 640)\n"
          ]
        },
        {
          "output_type": "stream",
          "name": "stderr",
          "text": [
            "\rProcessing val_images images:  47%|████▋     | 48/103 [00:59<01:02,  1.14s/it]"
          ]
        },
        {
          "output_type": "stream",
          "name": "stdout",
          "text": [
            "\n",
            "image 1/1 /content/drive/MyDrive/bdma-07-competition/BDMA7_project_files/val_images/Indigo_Bunting/Indigo_Bunting_0076_12950.jpg: 448x640 1 Bird, 37.7ms\n",
            "Speed: 3.1ms preprocess, 37.7ms inference, 1.5ms postprocess per image at shape (1, 3, 448, 640)\n"
          ]
        },
        {
          "output_type": "stream",
          "name": "stderr",
          "text": [
            "\rProcessing val_images images:  48%|████▊     | 49/103 [01:00<00:58,  1.09s/it]"
          ]
        },
        {
          "output_type": "stream",
          "name": "stdout",
          "text": [
            "\n",
            "image 1/1 /content/drive/MyDrive/bdma-07-competition/BDMA7_project_files/val_images/Gray_crowned_Rosy_Finch/Gray_Crowned_Rosy_Finch_0027_27153.jpg: 640x608 1 Bird, 47.6ms\n",
            "Speed: 4.9ms preprocess, 47.6ms inference, 1.2ms postprocess per image at shape (1, 3, 640, 608)\n"
          ]
        },
        {
          "output_type": "stream",
          "name": "stderr",
          "text": [
            "\rProcessing val_images images:  49%|████▊     | 50/103 [01:01<00:55,  1.04s/it]"
          ]
        },
        {
          "output_type": "stream",
          "name": "stdout",
          "text": [
            "\n",
            "image 1/1 /content/drive/MyDrive/bdma-07-competition/BDMA7_project_files/val_images/Gray_crowned_Rosy_Finch/Gray_Crowned_Rosy_Finch_0006_797284.jpg: 640x608 1 Bird, 46.7ms\n",
            "Speed: 3.9ms preprocess, 46.7ms inference, 1.3ms postprocess per image at shape (1, 3, 640, 608)\n"
          ]
        },
        {
          "output_type": "stream",
          "name": "stderr",
          "text": [
            "\rProcessing val_images images:  50%|████▉     | 51/103 [01:02<01:02,  1.21s/it]"
          ]
        },
        {
          "output_type": "stream",
          "name": "stdout",
          "text": [
            "\n",
            "image 1/1 /content/drive/MyDrive/bdma-07-competition/BDMA7_project_files/val_images/Gray_crowned_Rosy_Finch/Gray_Crowned_Rosy_Finch_0052_27032.jpg: 480x640 1 Bird, 38.8ms\n",
            "Speed: 4.0ms preprocess, 38.8ms inference, 1.2ms postprocess per image at shape (1, 3, 480, 640)\n"
          ]
        },
        {
          "output_type": "stream",
          "name": "stderr",
          "text": [
            "\rProcessing val_images images:  50%|█████     | 52/103 [01:03<00:57,  1.12s/it]"
          ]
        },
        {
          "output_type": "stream",
          "name": "stdout",
          "text": [
            "\n",
            "image 1/1 /content/drive/MyDrive/bdma-07-competition/BDMA7_project_files/val_images/Gray_crowned_Rosy_Finch/Gray_Crowned_Rosy_Finch_0083_797281.jpg: 640x480 1 Bird, 36.6ms\n",
            "Speed: 4.6ms preprocess, 36.6ms inference, 1.3ms postprocess per image at shape (1, 3, 640, 480)\n"
          ]
        },
        {
          "output_type": "stream",
          "name": "stderr",
          "text": [
            "\rProcessing val_images images:  51%|█████▏    | 53/103 [01:04<00:53,  1.06s/it]"
          ]
        },
        {
          "output_type": "stream",
          "name": "stdout",
          "text": [
            "\n",
            "image 1/1 /content/drive/MyDrive/bdma-07-competition/BDMA7_project_files/val_images/Gray_crowned_Rosy_Finch/Gray_Crowned_Rosy_Finch_0007_797278.jpg: 640x448 1 Bird, 35.7ms\n",
            "Speed: 3.3ms preprocess, 35.7ms inference, 1.2ms postprocess per image at shape (1, 3, 640, 448)\n"
          ]
        },
        {
          "output_type": "stream",
          "name": "stderr",
          "text": [
            "\rProcessing val_images images:  52%|█████▏    | 54/103 [01:05<00:49,  1.01s/it]"
          ]
        },
        {
          "output_type": "stream",
          "name": "stdout",
          "text": [
            "\n",
            "image 1/1 /content/drive/MyDrive/bdma-07-competition/BDMA7_project_files/val_images/Gray_crowned_Rosy_Finch/Gray_Crowned_Rosy_Finch_0037_27088.jpg: 512x640 1 Bird, 39.1ms\n",
            "Speed: 3.5ms preprocess, 39.1ms inference, 1.5ms postprocess per image at shape (1, 3, 512, 640)\n"
          ]
        },
        {
          "output_type": "stream",
          "name": "stderr",
          "text": [
            "\rProcessing val_images images:  53%|█████▎    | 55/103 [01:06<00:47,  1.01it/s]"
          ]
        },
        {
          "output_type": "stream",
          "name": "stdout",
          "text": [
            "\n",
            "image 1/1 /content/drive/MyDrive/bdma-07-competition/BDMA7_project_files/val_images/Gray_crowned_Rosy_Finch/Gray_Crowned_Rosy_Finch_0065_797301.jpg: 480x640 1 Bird, 38.8ms\n",
            "Speed: 3.3ms preprocess, 38.8ms inference, 1.5ms postprocess per image at shape (1, 3, 480, 640)\n"
          ]
        },
        {
          "output_type": "stream",
          "name": "stderr",
          "text": [
            "\rProcessing val_images images:  54%|█████▍    | 56/103 [01:08<00:55,  1.18s/it]"
          ]
        },
        {
          "output_type": "stream",
          "name": "stdout",
          "text": [
            "\n",
            "image 1/1 /content/drive/MyDrive/bdma-07-competition/BDMA7_project_files/val_images/Gray_crowned_Rosy_Finch/Gray_Crowned_Rosy_Finch_0004_797272.jpg: 608x640 1 Bird, 47.5ms\n",
            "Speed: 4.2ms preprocess, 47.5ms inference, 1.2ms postprocess per image at shape (1, 3, 608, 640)\n"
          ]
        },
        {
          "output_type": "stream",
          "name": "stderr",
          "text": [
            "\rProcessing val_images images:  55%|█████▌    | 57/103 [01:10<01:04,  1.40s/it]"
          ]
        },
        {
          "output_type": "stream",
          "name": "stdout",
          "text": [
            "\n",
            "image 1/1 /content/drive/MyDrive/bdma-07-competition/BDMA7_project_files/val_images/Fish_Crow/Fish_Crow_0061_25884.jpg: 640x448 1 Bird, 35.8ms\n",
            "Speed: 3.3ms preprocess, 35.8ms inference, 1.2ms postprocess per image at shape (1, 3, 640, 448)\n"
          ]
        },
        {
          "output_type": "stream",
          "name": "stderr",
          "text": [
            "\rProcessing val_images images:  56%|█████▋    | 58/103 [01:10<00:53,  1.20s/it]"
          ]
        },
        {
          "output_type": "stream",
          "name": "stdout",
          "text": [
            "\n",
            "image 1/1 /content/drive/MyDrive/bdma-07-competition/BDMA7_project_files/val_images/Fish_Crow/Fish_Crow_0070_25504.jpg: 512x640 1 Bird, 39.1ms\n",
            "Speed: 4.0ms preprocess, 39.1ms inference, 1.3ms postprocess per image at shape (1, 3, 512, 640)\n"
          ]
        },
        {
          "output_type": "stream",
          "name": "stderr",
          "text": [
            "\rProcessing val_images images:  57%|█████▋    | 59/103 [01:11<00:46,  1.05s/it]"
          ]
        },
        {
          "output_type": "stream",
          "name": "stdout",
          "text": [
            "\n",
            "image 1/1 /content/drive/MyDrive/bdma-07-competition/BDMA7_project_files/val_images/Fish_Crow/Fish_Crow_0071_25155.jpg: 640x576 1 Bird, 47.7ms\n",
            "Speed: 4.2ms preprocess, 47.7ms inference, 1.7ms postprocess per image at shape (1, 3, 640, 576)\n"
          ]
        },
        {
          "output_type": "stream",
          "name": "stderr",
          "text": [
            "\rProcessing val_images images:  58%|█████▊    | 60/103 [01:12<00:44,  1.03s/it]"
          ]
        },
        {
          "output_type": "stream",
          "name": "stdout",
          "text": [
            "\n",
            "image 1/1 /content/drive/MyDrive/bdma-07-competition/BDMA7_project_files/val_images/Fish_Crow/Fish_Crow_0036_25911.jpg: 448x640 1 Bird, 37.8ms\n",
            "Speed: 3.9ms preprocess, 37.8ms inference, 1.3ms postprocess per image at shape (1, 3, 448, 640)\n"
          ]
        },
        {
          "output_type": "stream",
          "name": "stderr",
          "text": [
            "\rProcessing val_images images:  59%|█████▉    | 61/103 [01:13<00:42,  1.01s/it]"
          ]
        },
        {
          "output_type": "stream",
          "name": "stdout",
          "text": [
            "\n",
            "image 1/1 /content/drive/MyDrive/bdma-07-competition/BDMA7_project_files/val_images/Fish_Crow/Fish_Crow_0005_25912.jpg: 448x640 1 Bird, 36.8ms\n",
            "Speed: 5.2ms preprocess, 36.8ms inference, 1.3ms postprocess per image at shape (1, 3, 448, 640)\n"
          ]
        },
        {
          "output_type": "stream",
          "name": "stderr",
          "text": [
            "\rProcessing val_images images:  60%|██████    | 62/103 [01:15<00:49,  1.20s/it]"
          ]
        },
        {
          "output_type": "stream",
          "name": "stdout",
          "text": [
            "\n",
            "image 1/1 /content/drive/MyDrive/bdma-07-competition/BDMA7_project_files/val_images/Fish_Crow/Fish_Crow_0069_26008.jpg: 480x640 1 Bird, 38.6ms\n",
            "Speed: 3.3ms preprocess, 38.6ms inference, 1.2ms postprocess per image at shape (1, 3, 480, 640)\n"
          ]
        },
        {
          "output_type": "stream",
          "name": "stderr",
          "text": [
            "\rProcessing val_images images:  61%|██████    | 63/103 [01:16<00:48,  1.22s/it]"
          ]
        },
        {
          "output_type": "stream",
          "name": "stdout",
          "text": [
            "\n",
            "image 1/1 /content/drive/MyDrive/bdma-07-competition/BDMA7_project_files/val_images/Painted_Bunting/Painted_Bunting_0049_16869.jpg: 448x640 1 Bird, 37.6ms\n",
            "Speed: 3.2ms preprocess, 37.6ms inference, 1.2ms postprocess per image at shape (1, 3, 448, 640)\n"
          ]
        },
        {
          "output_type": "stream",
          "name": "stderr",
          "text": [
            "\rProcessing val_images images:  62%|██████▏   | 64/103 [01:18<00:59,  1.54s/it]"
          ]
        },
        {
          "output_type": "stream",
          "name": "stdout",
          "text": [
            "\n",
            "image 1/1 /content/drive/MyDrive/bdma-07-competition/BDMA7_project_files/val_images/Painted_Bunting/Painted_Bunting_0008_16416.jpg: 512x640 1 Bird, 39.1ms\n",
            "Speed: 3.7ms preprocess, 39.1ms inference, 1.3ms postprocess per image at shape (1, 3, 512, 640)\n"
          ]
        },
        {
          "output_type": "stream",
          "name": "stderr",
          "text": [
            "\rProcessing val_images images:  63%|██████▎   | 65/103 [01:19<00:51,  1.35s/it]"
          ]
        },
        {
          "output_type": "stream",
          "name": "stdout",
          "text": [
            "\n",
            "image 1/1 /content/drive/MyDrive/bdma-07-competition/BDMA7_project_files/val_images/Painted_Bunting/Painted_Bunting_0002_16887.jpg: 640x512 1 Bird, 37.2ms\n",
            "Speed: 5.3ms preprocess, 37.2ms inference, 1.5ms postprocess per image at shape (1, 3, 640, 512)\n"
          ]
        },
        {
          "output_type": "stream",
          "name": "stderr",
          "text": [
            "\rProcessing val_images images:  64%|██████▍   | 66/103 [01:20<00:44,  1.20s/it]"
          ]
        },
        {
          "output_type": "stream",
          "name": "stdout",
          "text": [
            "\n",
            "image 1/1 /content/drive/MyDrive/bdma-07-competition/BDMA7_project_files/val_images/Painted_Bunting/Painted_Bunting_0004_16641.jpg: 512x640 1 Bird, 39.4ms\n",
            "Speed: 5.9ms preprocess, 39.4ms inference, 1.7ms postprocess per image at shape (1, 3, 512, 640)\n"
          ]
        },
        {
          "output_type": "stream",
          "name": "stderr",
          "text": [
            "\rProcessing val_images images:  65%|██████▌   | 67/103 [01:21<00:46,  1.29s/it]"
          ]
        },
        {
          "output_type": "stream",
          "name": "stdout",
          "text": [
            "\n",
            "image 1/1 /content/drive/MyDrive/bdma-07-competition/BDMA7_project_files/val_images/Painted_Bunting/Painted_Bunting_0100_16735.jpg: 448x640 1 Bird, 37.7ms\n",
            "Speed: 3.1ms preprocess, 37.7ms inference, 1.3ms postprocess per image at shape (1, 3, 448, 640)\n"
          ]
        },
        {
          "output_type": "stream",
          "name": "stderr",
          "text": [
            "\rProcessing val_images images:  66%|██████▌   | 68/103 [01:23<00:53,  1.53s/it]"
          ]
        },
        {
          "output_type": "stream",
          "name": "stdout",
          "text": [
            "\n",
            "image 1/1 /content/drive/MyDrive/bdma-07-competition/BDMA7_project_files/val_images/Painted_Bunting/Painted_Bunting_0034_15207.jpg: 480x640 1 Bird, 38.6ms\n",
            "Speed: 3.6ms preprocess, 38.6ms inference, 1.3ms postprocess per image at shape (1, 3, 480, 640)\n"
          ]
        },
        {
          "output_type": "stream",
          "name": "stderr",
          "text": [
            "\rProcessing val_images images:  67%|██████▋   | 69/103 [01:25<00:48,  1.44s/it]"
          ]
        },
        {
          "output_type": "stream",
          "name": "stdout",
          "text": [
            "\n",
            "image 1/1 /content/drive/MyDrive/bdma-07-competition/BDMA7_project_files/val_images/Yellow_breasted_Chat/Yellow_Breasted_Chat_0087_21695.jpg: 640x480 1 Bird, 37.1ms\n",
            "Speed: 3.4ms preprocess, 37.1ms inference, 1.3ms postprocess per image at shape (1, 3, 640, 480)\n"
          ]
        },
        {
          "output_type": "stream",
          "name": "stderr",
          "text": [
            "\rProcessing val_images images:  68%|██████▊   | 70/103 [01:26<00:43,  1.31s/it]"
          ]
        },
        {
          "output_type": "stream",
          "name": "stdout",
          "text": [
            "\n",
            "image 1/1 /content/drive/MyDrive/bdma-07-competition/BDMA7_project_files/val_images/Yellow_breasted_Chat/Yellow_Breasted_Chat_0088_21686.jpg: 640x480 1 Bird, 35.9ms\n",
            "Speed: 3.4ms preprocess, 35.9ms inference, 1.3ms postprocess per image at shape (1, 3, 640, 480)\n"
          ]
        },
        {
          "output_type": "stream",
          "name": "stderr",
          "text": [
            "\rProcessing val_images images:  69%|██████▉   | 71/103 [01:27<00:37,  1.18s/it]"
          ]
        },
        {
          "output_type": "stream",
          "name": "stdout",
          "text": [
            "\n",
            "image 1/1 /content/drive/MyDrive/bdma-07-competition/BDMA7_project_files/val_images/Yellow_breasted_Chat/Yellow_Breasted_Chat_0075_21715.jpg: 640x480 1 Bird, 35.9ms\n",
            "Speed: 5.3ms preprocess, 35.9ms inference, 1.4ms postprocess per image at shape (1, 3, 640, 480)\n"
          ]
        },
        {
          "output_type": "stream",
          "name": "stderr",
          "text": [
            "\rProcessing val_images images:  70%|██████▉   | 72/103 [01:27<00:32,  1.04s/it]"
          ]
        },
        {
          "output_type": "stream",
          "name": "stdout",
          "text": [
            "\n",
            "image 1/1 /content/drive/MyDrive/bdma-07-competition/BDMA7_project_files/val_images/Yellow_breasted_Chat/Yellow_Breasted_Chat_0030_21964.jpg: 640x448 1 Bird, 35.8ms\n",
            "Speed: 3.5ms preprocess, 35.8ms inference, 1.3ms postprocess per image at shape (1, 3, 640, 448)\n"
          ]
        },
        {
          "output_type": "stream",
          "name": "stderr",
          "text": [
            "\rProcessing val_images images:  71%|███████   | 73/103 [01:28<00:30,  1.02s/it]"
          ]
        },
        {
          "output_type": "stream",
          "name": "stdout",
          "text": [
            "\n",
            "image 1/1 /content/drive/MyDrive/bdma-07-competition/BDMA7_project_files/val_images/Yellow_breasted_Chat/Yellow_Breasted_Chat_0023_21664.jpg: 640x480 1 Bird, 36.8ms\n",
            "Speed: 3.5ms preprocess, 36.8ms inference, 1.2ms postprocess per image at shape (1, 3, 640, 480)\n"
          ]
        },
        {
          "output_type": "stream",
          "name": "stderr",
          "text": [
            "\rProcessing val_images images:  72%|███████▏  | 74/103 [01:29<00:28,  1.01it/s]"
          ]
        },
        {
          "output_type": "stream",
          "name": "stdout",
          "text": [
            "\n",
            "image 1/1 /content/drive/MyDrive/bdma-07-competition/BDMA7_project_files/val_images/Yellow_breasted_Chat/Yellow_Breasted_Chat_0085_21899.jpg: 608x640 1 Bird, 47.6ms\n",
            "Speed: 4.4ms preprocess, 47.6ms inference, 1.2ms postprocess per image at shape (1, 3, 608, 640)\n"
          ]
        },
        {
          "output_type": "stream",
          "name": "stderr",
          "text": [
            "\rProcessing val_images images:  73%|███████▎  | 75/103 [01:30<00:29,  1.06s/it]"
          ]
        },
        {
          "output_type": "stream",
          "name": "stdout",
          "text": [
            "\n",
            "image 1/1 /content/drive/MyDrive/bdma-07-competition/BDMA7_project_files/val_images/Yellow_breasted_Chat/Yellow_Breasted_Chat_0017_21719.jpg: 416x640 1 Bird, 37.6ms\n",
            "Speed: 3.2ms preprocess, 37.6ms inference, 2.0ms postprocess per image at shape (1, 3, 416, 640)\n"
          ]
        },
        {
          "output_type": "stream",
          "name": "stderr",
          "text": [
            "\rProcessing val_images images:  74%|███████▍  | 76/103 [01:31<00:28,  1.06s/it]"
          ]
        },
        {
          "output_type": "stream",
          "name": "stdout",
          "text": [
            "\n",
            "image 1/1 /content/drive/MyDrive/bdma-07-competition/BDMA7_project_files/val_images/Yellow_breasted_Chat/Yellow_Breasted_Chat_0068_21860.jpg: 480x640 1 Bird, 42.4ms\n",
            "Speed: 3.3ms preprocess, 42.4ms inference, 1.6ms postprocess per image at shape (1, 3, 480, 640)\n"
          ]
        },
        {
          "output_type": "stream",
          "name": "stderr",
          "text": [
            "\rProcessing val_images images:  75%|███████▍  | 77/103 [01:32<00:24,  1.05it/s]"
          ]
        },
        {
          "output_type": "stream",
          "name": "stdout",
          "text": [
            "\n",
            "image 1/1 /content/drive/MyDrive/bdma-07-competition/BDMA7_project_files/val_images/Rusty_Blackbird/Rusty_Blackbird_0005_6771.jpg: 448x640 1 Bird, 41.5ms\n",
            "Speed: 3.3ms preprocess, 41.5ms inference, 1.8ms postprocess per image at shape (1, 3, 448, 640)\n"
          ]
        },
        {
          "output_type": "stream",
          "name": "stderr",
          "text": [
            "\rProcessing val_images images:  76%|███████▌  | 78/103 [01:33<00:26,  1.05s/it]"
          ]
        },
        {
          "output_type": "stream",
          "name": "stdout",
          "text": [
            "\n",
            "image 1/1 /content/drive/MyDrive/bdma-07-competition/BDMA7_project_files/val_images/Rusty_Blackbird/Rusty_Blackbird_0060_6756.jpg: 448x640 1 Bird, 38.5ms\n",
            "Speed: 4.5ms preprocess, 38.5ms inference, 1.3ms postprocess per image at shape (1, 3, 448, 640)\n"
          ]
        },
        {
          "output_type": "stream",
          "name": "stderr",
          "text": [
            "\rProcessing val_images images:  77%|███████▋  | 79/103 [01:34<00:24,  1.02s/it]"
          ]
        },
        {
          "output_type": "stream",
          "name": "stdout",
          "text": [
            "\n",
            "image 1/1 /content/drive/MyDrive/bdma-07-competition/BDMA7_project_files/val_images/Rusty_Blackbird/Rusty_Blackbird_0082_6906.jpg: 448x640 1 Bird, 36.9ms\n",
            "Speed: 3.4ms preprocess, 36.9ms inference, 1.3ms postprocess per image at shape (1, 3, 448, 640)\n"
          ]
        },
        {
          "output_type": "stream",
          "name": "stderr",
          "text": [
            "\rProcessing val_images images:  78%|███████▊  | 80/103 [01:35<00:23,  1.03s/it]"
          ]
        },
        {
          "output_type": "stream",
          "name": "stdout",
          "text": [
            "\n",
            "image 1/1 /content/drive/MyDrive/bdma-07-competition/BDMA7_project_files/val_images/American_Crow/American_Crow_0031_25433.jpg: 448x640 1 Bird, 36.8ms\n",
            "Speed: 3.1ms preprocess, 36.8ms inference, 1.3ms postprocess per image at shape (1, 3, 448, 640)\n"
          ]
        },
        {
          "output_type": "stream",
          "name": "stderr",
          "text": [
            "\rProcessing val_images images:  79%|███████▊  | 81/103 [01:37<00:26,  1.18s/it]"
          ]
        },
        {
          "output_type": "stream",
          "name": "stdout",
          "text": [
            "\n",
            "image 1/1 /content/drive/MyDrive/bdma-07-competition/BDMA7_project_files/val_images/American_Crow/American_Crow_0062_25587.jpg: 512x640 1 Bird, 39.3ms\n",
            "Speed: 4.7ms preprocess, 39.3ms inference, 1.4ms postprocess per image at shape (1, 3, 512, 640)\n"
          ]
        },
        {
          "output_type": "stream",
          "name": "stderr",
          "text": [
            "\rProcessing val_images images:  80%|███████▉  | 82/103 [01:38<00:21,  1.04s/it]"
          ]
        },
        {
          "output_type": "stream",
          "name": "stdout",
          "text": [
            "\n",
            "image 1/1 /content/drive/MyDrive/bdma-07-competition/BDMA7_project_files/val_images/American_Crow/American_Crow_0039_25061.jpg: 384x640 1 Bird, 31.8ms\n",
            "Speed: 3.3ms preprocess, 31.8ms inference, 1.3ms postprocess per image at shape (1, 3, 384, 640)\n"
          ]
        },
        {
          "output_type": "stream",
          "name": "stderr",
          "text": [
            "\rProcessing val_images images:  81%|████████  | 83/103 [01:39<00:24,  1.21s/it]"
          ]
        },
        {
          "output_type": "stream",
          "name": "stdout",
          "text": [
            "\n",
            "image 1/1 /content/drive/MyDrive/bdma-07-competition/BDMA7_project_files/val_images/American_Crow/American_Crow_0066_25827.jpg: 448x640 1 Bird, 37.6ms\n",
            "Speed: 3.1ms preprocess, 37.6ms inference, 1.2ms postprocess per image at shape (1, 3, 448, 640)\n"
          ]
        },
        {
          "output_type": "stream",
          "name": "stderr",
          "text": [
            "\rProcessing val_images images:  82%|████████▏ | 84/103 [01:40<00:21,  1.14s/it]"
          ]
        },
        {
          "output_type": "stream",
          "name": "stdout",
          "text": [
            "\n",
            "image 1/1 /content/drive/MyDrive/bdma-07-competition/BDMA7_project_files/val_images/American_Crow/American_Crow_0105_25283.jpg: 608x640 1 Bird, 47.8ms\n",
            "Speed: 4.6ms preprocess, 47.8ms inference, 1.2ms postprocess per image at shape (1, 3, 608, 640)\n"
          ]
        },
        {
          "output_type": "stream",
          "name": "stderr",
          "text": [
            "\rProcessing val_images images:  83%|████████▎ | 85/103 [01:41<00:19,  1.06s/it]"
          ]
        },
        {
          "output_type": "stream",
          "name": "stdout",
          "text": [
            "\n",
            "image 1/1 /content/drive/MyDrive/bdma-07-competition/BDMA7_project_files/val_images/American_Crow/American_Crow_0119_25610.jpg: 640x640 1 Bird, 48.3ms\n",
            "Speed: 5.1ms preprocess, 48.3ms inference, 1.3ms postprocess per image at shape (1, 3, 640, 640)\n"
          ]
        },
        {
          "output_type": "stream",
          "name": "stderr",
          "text": [
            "\rProcessing val_images images:  83%|████████▎ | 86/103 [01:42<00:17,  1.02s/it]"
          ]
        },
        {
          "output_type": "stream",
          "name": "stdout",
          "text": [
            "\n",
            "image 1/1 /content/drive/MyDrive/bdma-07-competition/BDMA7_project_files/val_images/American_Crow/American_Crow_0080_25220.jpg: 640x480 1 Bird, 37.0ms\n",
            "Speed: 3.4ms preprocess, 37.0ms inference, 1.5ms postprocess per image at shape (1, 3, 640, 480)\n"
          ]
        },
        {
          "output_type": "stream",
          "name": "stderr",
          "text": [
            "\rProcessing val_images images:  84%|████████▍ | 87/103 [01:43<00:14,  1.09it/s]"
          ]
        },
        {
          "output_type": "stream",
          "name": "stdout",
          "text": [
            "\n",
            "image 1/1 /content/drive/MyDrive/bdma-07-competition/BDMA7_project_files/val_images/Yellow_billed_Cuckoo/Yellow_Billed_Cuckoo_0033_26521.jpg: 512x640 1 Bird, 39.0ms\n",
            "Speed: 4.6ms preprocess, 39.0ms inference, 1.2ms postprocess per image at shape (1, 3, 512, 640)\n"
          ]
        },
        {
          "output_type": "stream",
          "name": "stderr",
          "text": [
            "\rProcessing val_images images:  85%|████████▌ | 88/103 [01:43<00:12,  1.16it/s]"
          ]
        },
        {
          "output_type": "stream",
          "name": "stdout",
          "text": [
            "\n",
            "image 1/1 /content/drive/MyDrive/bdma-07-competition/BDMA7_project_files/val_images/Yellow_billed_Cuckoo/Yellow_Billed_Cuckoo_0061_26692.jpg: 512x640 1 Bird, 38.2ms\n",
            "Speed: 6.2ms preprocess, 38.2ms inference, 1.6ms postprocess per image at shape (1, 3, 512, 640)\n"
          ]
        },
        {
          "output_type": "stream",
          "name": "stderr",
          "text": [
            "\rProcessing val_images images:  86%|████████▋ | 89/103 [01:44<00:12,  1.10it/s]"
          ]
        },
        {
          "output_type": "stream",
          "name": "stdout",
          "text": [
            "\n",
            "image 1/1 /content/drive/MyDrive/bdma-07-competition/BDMA7_project_files/val_images/Yellow_billed_Cuckoo/Yellow_Billed_Cuckoo_0107_26838.jpg: 480x640 1 Bird, 39.3ms\n",
            "Speed: 7.8ms preprocess, 39.3ms inference, 2.0ms postprocess per image at shape (1, 3, 480, 640)\n"
          ]
        },
        {
          "output_type": "stream",
          "name": "stderr",
          "text": [
            "\rProcessing val_images images:  87%|████████▋ | 90/103 [01:45<00:11,  1.10it/s]"
          ]
        },
        {
          "output_type": "stream",
          "name": "stdout",
          "text": [
            "\n",
            "image 1/1 /content/drive/MyDrive/bdma-07-competition/BDMA7_project_files/val_images/Yellow_billed_Cuckoo/Yellow_Billed_Cuckoo_0082_26655.jpg: 480x640 1 Bird, 37.8ms\n",
            "Speed: 4.5ms preprocess, 37.8ms inference, 1.3ms postprocess per image at shape (1, 3, 480, 640)\n"
          ]
        },
        {
          "output_type": "stream",
          "name": "stderr",
          "text": [
            "\rProcessing val_images images:  88%|████████▊ | 91/103 [01:47<00:13,  1.14s/it]"
          ]
        },
        {
          "output_type": "stream",
          "name": "stdout",
          "text": [
            "\n",
            "image 1/1 /content/drive/MyDrive/bdma-07-competition/BDMA7_project_files/val_images/Red_winged_Blackbird/Red_Winged_Blackbird_0054_4625.jpg: 640x512 1 Bird, 36.7ms\n",
            "Speed: 3.7ms preprocess, 36.7ms inference, 1.3ms postprocess per image at shape (1, 3, 640, 512)\n"
          ]
        },
        {
          "output_type": "stream",
          "name": "stderr",
          "text": [
            "\rProcessing val_images images:  89%|████████▉ | 92/103 [01:48<00:11,  1.09s/it]"
          ]
        },
        {
          "output_type": "stream",
          "name": "stdout",
          "text": [
            "\n",
            "image 1/1 /content/drive/MyDrive/bdma-07-competition/BDMA7_project_files/val_images/Red_winged_Blackbird/Red_Winged_Blackbird_0021_3767.jpg: 448x640 1 Bird, 37.9ms\n",
            "Speed: 3.4ms preprocess, 37.9ms inference, 1.6ms postprocess per image at shape (1, 3, 448, 640)\n"
          ]
        },
        {
          "output_type": "stream",
          "name": "stderr",
          "text": [
            "\rProcessing val_images images:  90%|█████████ | 93/103 [01:50<00:12,  1.24s/it]"
          ]
        },
        {
          "output_type": "stream",
          "name": "stdout",
          "text": [
            "\n",
            "image 1/1 /content/drive/MyDrive/bdma-07-competition/BDMA7_project_files/val_images/Red_winged_Blackbird/Red_Winged_Blackbird_0005_5636.jpg: 416x640 1 Bird, 37.1ms\n",
            "Speed: 3.9ms preprocess, 37.1ms inference, 1.8ms postprocess per image at shape (1, 3, 416, 640)\n"
          ]
        },
        {
          "output_type": "stream",
          "name": "stderr",
          "text": [
            "\rProcessing val_images images:  91%|█████████▏| 94/103 [01:51<00:11,  1.24s/it]"
          ]
        },
        {
          "output_type": "stream",
          "name": "stdout",
          "text": [
            "\n",
            "image 1/1 /content/drive/MyDrive/bdma-07-competition/BDMA7_project_files/val_images/Red_winged_Blackbird/Red_Winged_Blackbird_0088_4007.jpg: 480x640 1 Bird, 38.8ms\n",
            "Speed: 3.4ms preprocess, 38.8ms inference, 1.6ms postprocess per image at shape (1, 3, 480, 640)\n"
          ]
        },
        {
          "output_type": "stream",
          "name": "stderr",
          "text": [
            "\rProcessing val_images images:  92%|█████████▏| 95/103 [01:52<00:09,  1.19s/it]"
          ]
        },
        {
          "output_type": "stream",
          "name": "stdout",
          "text": [
            "\n",
            "image 1/1 /content/drive/MyDrive/bdma-07-competition/BDMA7_project_files/val_images/Red_winged_Blackbird/Red_Winged_Blackbird_0105_4842.jpg: 544x640 1 Bird, 45.9ms\n",
            "Speed: 4.9ms preprocess, 45.9ms inference, 1.2ms postprocess per image at shape (1, 3, 544, 640)\n"
          ]
        },
        {
          "output_type": "stream",
          "name": "stderr",
          "text": [
            "\rProcessing val_images images:  93%|█████████▎| 96/103 [01:53<00:07,  1.13s/it]"
          ]
        },
        {
          "output_type": "stream",
          "name": "stdout",
          "text": [
            "\n",
            "image 1/1 /content/drive/MyDrive/bdma-07-competition/BDMA7_project_files/val_images/Red_winged_Blackbird/Red_Winged_Blackbird_0059_4612.jpg: 480x640 1 Bird, 38.8ms\n",
            "Speed: 4.0ms preprocess, 38.8ms inference, 1.2ms postprocess per image at shape (1, 3, 480, 640)\n"
          ]
        },
        {
          "output_type": "stream",
          "name": "stderr",
          "text": [
            "\rProcessing val_images images:  94%|█████████▍| 97/103 [01:54<00:06,  1.09s/it]"
          ]
        },
        {
          "output_type": "stream",
          "name": "stdout",
          "text": [
            "\n",
            "image 1/1 /content/drive/MyDrive/bdma-07-competition/BDMA7_project_files/val_images/Red_winged_Blackbird/Red_Winged_Blackbird_0094_5856.jpg: 640x480 1 Bird, 38.0ms\n",
            "Speed: 4.1ms preprocess, 38.0ms inference, 1.2ms postprocess per image at shape (1, 3, 640, 480)\n"
          ]
        },
        {
          "output_type": "stream",
          "name": "stderr",
          "text": [
            "\rProcessing val_images images:  95%|█████████▌| 98/103 [01:55<00:05,  1.19s/it]"
          ]
        },
        {
          "output_type": "stream",
          "name": "stdout",
          "text": [
            "\n",
            "image 1/1 /content/drive/MyDrive/bdma-07-competition/BDMA7_project_files/val_images/Gray_Catbird/Gray_Catbird_0090_21464.jpg: 640x448 1 Bird, 35.6ms\n",
            "Speed: 3.3ms preprocess, 35.6ms inference, 1.2ms postprocess per image at shape (1, 3, 640, 448)\n"
          ]
        },
        {
          "output_type": "stream",
          "name": "stderr",
          "text": [
            "\rProcessing val_images images:  96%|█████████▌| 99/103 [01:56<00:04,  1.11s/it]"
          ]
        },
        {
          "output_type": "stream",
          "name": "stdout",
          "text": [
            "\n",
            "image 1/1 /content/drive/MyDrive/bdma-07-competition/BDMA7_project_files/val_images/Gray_Catbird/Gray_Catbird_0044_20955.jpg: 480x640 1 Bird, 38.8ms\n",
            "Speed: 5.1ms preprocess, 38.8ms inference, 4.7ms postprocess per image at shape (1, 3, 480, 640)\n"
          ]
        },
        {
          "output_type": "stream",
          "name": "stderr",
          "text": [
            "\rProcessing val_images images:  97%|█████████▋| 100/103 [01:58<00:03,  1.20s/it]"
          ]
        },
        {
          "output_type": "stream",
          "name": "stdout",
          "text": [
            "\n",
            "image 1/1 /content/drive/MyDrive/bdma-07-competition/BDMA7_project_files/val_images/Gray_Catbird/Gray_Catbird_0071_20974.jpg: 480x640 1 Bird, 37.8ms\n",
            "Speed: 3.3ms preprocess, 37.8ms inference, 1.3ms postprocess per image at shape (1, 3, 480, 640)\n"
          ]
        },
        {
          "output_type": "stream",
          "name": "stderr",
          "text": [
            "\rProcessing val_images images:  98%|█████████▊| 101/103 [01:59<00:02,  1.29s/it]"
          ]
        },
        {
          "output_type": "stream",
          "name": "stdout",
          "text": [
            "\n",
            "image 1/1 /content/drive/MyDrive/bdma-07-competition/BDMA7_project_files/val_images/Gray_Catbird/Gray_Catbird_0042_20546.jpg: 640x448 1 Bird, 35.7ms\n",
            "Speed: 3.0ms preprocess, 35.7ms inference, 1.2ms postprocess per image at shape (1, 3, 640, 448)\n"
          ]
        },
        {
          "output_type": "stream",
          "name": "stderr",
          "text": [
            "\rProcessing val_images images:  99%|█████████▉| 102/103 [02:00<00:01,  1.10s/it]"
          ]
        },
        {
          "output_type": "stream",
          "name": "stdout",
          "text": [
            "\n",
            "image 1/1 /content/drive/MyDrive/bdma-07-competition/BDMA7_project_files/val_images/Gray_Catbird/Gray_Catbird_0092_20735.jpg: 544x640 1 Bird, 46.2ms\n",
            "Speed: 3.8ms preprocess, 46.2ms inference, 1.3ms postprocess per image at shape (1, 3, 544, 640)\n"
          ]
        },
        {
          "output_type": "stream",
          "name": "stderr",
          "text": [
            "Processing val_images images: 100%|██████████| 103/103 [02:01<00:00,  1.18s/it]\n",
            "Processing test_images/mistery_cat images:   0%|          | 0/400 [00:00<?, ?it/s]"
          ]
        },
        {
          "output_type": "stream",
          "name": "stdout",
          "text": [
            "\n",
            "image 1/1 /content/drive/MyDrive/bdma-07-competition/BDMA7_project_files/test_images/mistery_cat/69db2802-241c-4d0b-9037-58f7b1b12d7f.jpg: 480x640 1 Bird, 38.7ms\n",
            "Speed: 3.7ms preprocess, 38.7ms inference, 1.3ms postprocess per image at shape (1, 3, 480, 640)\n"
          ]
        },
        {
          "output_type": "stream",
          "name": "stderr",
          "text": [
            "\rProcessing test_images/mistery_cat images:   0%|          | 1/400 [00:01<08:35,  1.29s/it]"
          ]
        },
        {
          "output_type": "stream",
          "name": "stdout",
          "text": [
            "\n",
            "image 1/1 /content/drive/MyDrive/bdma-07-competition/BDMA7_project_files/test_images/mistery_cat/7ee7451d-ad37-4ad3-9ea2-969339686318.jpg: 512x640 1 Bird, 39.0ms\n",
            "Speed: 3.5ms preprocess, 39.0ms inference, 1.2ms postprocess per image at shape (1, 3, 512, 640)\n"
          ]
        },
        {
          "output_type": "stream",
          "name": "stderr",
          "text": [
            "\rProcessing test_images/mistery_cat images:   0%|          | 2/400 [00:02<09:20,  1.41s/it]"
          ]
        },
        {
          "output_type": "stream",
          "name": "stdout",
          "text": [
            "\n",
            "image 1/1 /content/drive/MyDrive/bdma-07-competition/BDMA7_project_files/test_images/mistery_cat/38fd2538-a22a-4f96-b3c3-2a7f90081321.jpg: 544x640 1 Bird, 46.6ms\n",
            "Speed: 4.1ms preprocess, 46.6ms inference, 1.3ms postprocess per image at shape (1, 3, 544, 640)\n"
          ]
        },
        {
          "output_type": "stream",
          "name": "stderr",
          "text": [
            "\rProcessing test_images/mistery_cat images:   1%|          | 3/400 [00:03<07:41,  1.16s/it]"
          ]
        },
        {
          "output_type": "stream",
          "name": "stdout",
          "text": [
            "\n",
            "image 1/1 /content/drive/MyDrive/bdma-07-competition/BDMA7_project_files/test_images/mistery_cat/c1156a50-ebdb-42ec-b69e-72956ddd44f5.jpg: 576x640 1 Bird, 46.8ms\n",
            "Speed: 5.5ms preprocess, 46.8ms inference, 1.2ms postprocess per image at shape (1, 3, 576, 640)\n"
          ]
        },
        {
          "output_type": "stream",
          "name": "stderr",
          "text": [
            "\rProcessing test_images/mistery_cat images:   1%|          | 4/400 [00:04<07:36,  1.15s/it]"
          ]
        },
        {
          "output_type": "stream",
          "name": "stdout",
          "text": [
            "\n",
            "image 1/1 /content/drive/MyDrive/bdma-07-competition/BDMA7_project_files/test_images/mistery_cat/e8728bb9-aa9a-469b-bb0c-f84957b3b105.jpg: 512x640 1 Bird, 39.1ms\n",
            "Speed: 3.5ms preprocess, 39.1ms inference, 1.3ms postprocess per image at shape (1, 3, 512, 640)\n"
          ]
        },
        {
          "output_type": "stream",
          "name": "stderr",
          "text": [
            "\rProcessing test_images/mistery_cat images:   1%|▏         | 5/400 [00:05<07:12,  1.09s/it]"
          ]
        },
        {
          "output_type": "stream",
          "name": "stdout",
          "text": [
            "\n",
            "image 1/1 /content/drive/MyDrive/bdma-07-competition/BDMA7_project_files/test_images/mistery_cat/95ee36da-0b47-4899-8169-e3762b1a794d.jpg: 224x640 1 Bird, 56.1ms\n",
            "Speed: 2.1ms preprocess, 56.1ms inference, 1.6ms postprocess per image at shape (1, 3, 224, 640)\n"
          ]
        },
        {
          "output_type": "stream",
          "name": "stderr",
          "text": [
            "\rProcessing test_images/mistery_cat images:   2%|▏         | 6/400 [00:07<08:16,  1.26s/it]"
          ]
        },
        {
          "output_type": "stream",
          "name": "stdout",
          "text": [
            "\n",
            "image 1/1 /content/drive/MyDrive/bdma-07-competition/BDMA7_project_files/test_images/mistery_cat/51c93810-d2a3-4f7a-b5b3-a5ee2cafdb43.jpg: 480x640 1 Bird, 39.3ms\n",
            "Speed: 3.3ms preprocess, 39.3ms inference, 1.9ms postprocess per image at shape (1, 3, 480, 640)\n"
          ]
        },
        {
          "output_type": "stream",
          "name": "stderr",
          "text": [
            "\rProcessing test_images/mistery_cat images:   2%|▏         | 7/400 [00:08<08:07,  1.24s/it]"
          ]
        },
        {
          "output_type": "stream",
          "name": "stdout",
          "text": [
            "\n",
            "image 1/1 /content/drive/MyDrive/bdma-07-competition/BDMA7_project_files/test_images/mistery_cat/88c6d05e-e687-473c-b244-71e97e44b93c.jpg: 480x640 1 Bird, 42.2ms\n",
            "Speed: 4.4ms preprocess, 42.2ms inference, 1.8ms postprocess per image at shape (1, 3, 480, 640)\n"
          ]
        },
        {
          "output_type": "stream",
          "name": "stderr",
          "text": [
            "\rProcessing test_images/mistery_cat images:   2%|▏         | 8/400 [00:09<08:14,  1.26s/it]"
          ]
        },
        {
          "output_type": "stream",
          "name": "stdout",
          "text": [
            "\n",
            "image 1/1 /content/drive/MyDrive/bdma-07-competition/BDMA7_project_files/test_images/mistery_cat/24b32b3a-288e-4bf3-8ea4-786a345c1c3a.jpg: 512x640 1 Bird, 39.2ms\n",
            "Speed: 4.0ms preprocess, 39.2ms inference, 1.3ms postprocess per image at shape (1, 3, 512, 640)\n"
          ]
        },
        {
          "output_type": "stream",
          "name": "stderr",
          "text": [
            "\rProcessing test_images/mistery_cat images:   2%|▏         | 9/400 [00:10<07:41,  1.18s/it]"
          ]
        },
        {
          "output_type": "stream",
          "name": "stdout",
          "text": [
            "\n",
            "image 1/1 /content/drive/MyDrive/bdma-07-competition/BDMA7_project_files/test_images/mistery_cat/ae674d8a-12bc-45c5-a2c1-0a38e1aab1fd.jpg: 480x640 1 Bird, 39.0ms\n",
            "Speed: 3.3ms preprocess, 39.0ms inference, 1.5ms postprocess per image at shape (1, 3, 480, 640)\n"
          ]
        },
        {
          "output_type": "stream",
          "name": "stderr",
          "text": [
            "\rProcessing test_images/mistery_cat images:   2%|▎         | 10/400 [00:11<06:46,  1.04s/it]"
          ]
        },
        {
          "output_type": "stream",
          "name": "stdout",
          "text": [
            "\n",
            "image 1/1 /content/drive/MyDrive/bdma-07-competition/BDMA7_project_files/test_images/mistery_cat/b2fb3614-3398-43b2-9d0f-e8afc27b4c1b.jpg: 448x640 1 Bird, 37.7ms\n",
            "Speed: 3.4ms preprocess, 37.7ms inference, 1.3ms postprocess per image at shape (1, 3, 448, 640)\n"
          ]
        },
        {
          "output_type": "stream",
          "name": "stderr",
          "text": [
            "\rProcessing test_images/mistery_cat images:   3%|▎         | 11/400 [00:12<06:26,  1.01it/s]"
          ]
        },
        {
          "output_type": "stream",
          "name": "stdout",
          "text": [
            "\n",
            "image 1/1 /content/drive/MyDrive/bdma-07-competition/BDMA7_project_files/test_images/mistery_cat/a9ca22f4-1c0f-429a-a35d-e0e3eb3d50d6.jpg: 640x576 1 Bird, 46.8ms\n",
            "Speed: 4.1ms preprocess, 46.8ms inference, 1.3ms postprocess per image at shape (1, 3, 640, 576)\n"
          ]
        },
        {
          "output_type": "stream",
          "name": "stderr",
          "text": [
            "\rProcessing test_images/mistery_cat images:   3%|▎         | 12/400 [00:13<06:17,  1.03it/s]"
          ]
        },
        {
          "output_type": "stream",
          "name": "stdout",
          "text": [
            "\n",
            "image 1/1 /content/drive/MyDrive/bdma-07-competition/BDMA7_project_files/test_images/mistery_cat/694aec78-99ca-476a-963d-b64c1ab6575e.jpg: 640x512 1 Bird, 39.0ms\n",
            "Speed: 4.1ms preprocess, 39.0ms inference, 1.3ms postprocess per image at shape (1, 3, 640, 512)\n"
          ]
        },
        {
          "output_type": "stream",
          "name": "stderr",
          "text": [
            "\rProcessing test_images/mistery_cat images:   3%|▎         | 13/400 [00:14<06:55,  1.07s/it]"
          ]
        },
        {
          "output_type": "stream",
          "name": "stdout",
          "text": [
            "\n",
            "image 1/1 /content/drive/MyDrive/bdma-07-competition/BDMA7_project_files/test_images/mistery_cat/753c7ac9-b353-4aa8-a0f0-c3842b0e9e3f.jpg: 640x544 1 Bird, 46.5ms\n",
            "Speed: 4.3ms preprocess, 46.5ms inference, 1.2ms postprocess per image at shape (1, 3, 640, 544)\n"
          ]
        },
        {
          "output_type": "stream",
          "name": "stderr",
          "text": [
            "\rProcessing test_images/mistery_cat images:   4%|▎         | 14/400 [00:16<08:05,  1.26s/it]"
          ]
        },
        {
          "output_type": "stream",
          "name": "stdout",
          "text": [
            "\n",
            "image 1/1 /content/drive/MyDrive/bdma-07-competition/BDMA7_project_files/test_images/mistery_cat/f20fd89c-d70a-4295-a1bb-82f821c9d54c.jpg: 480x640 2 Birds, 38.6ms\n",
            "Speed: 3.5ms preprocess, 38.6ms inference, 1.2ms postprocess per image at shape (1, 3, 480, 640)\n"
          ]
        },
        {
          "output_type": "stream",
          "name": "stderr",
          "text": [
            "\rProcessing test_images/mistery_cat images:   4%|▍         | 15/400 [00:18<08:51,  1.38s/it]"
          ]
        },
        {
          "output_type": "stream",
          "name": "stdout",
          "text": [
            "\n",
            "image 1/1 /content/drive/MyDrive/bdma-07-competition/BDMA7_project_files/test_images/mistery_cat/14095f55-d962-4695-afdf-4cfd32124706.jpg: 480x640 1 Bird, 37.9ms\n",
            "Speed: 3.6ms preprocess, 37.9ms inference, 1.4ms postprocess per image at shape (1, 3, 480, 640)\n"
          ]
        },
        {
          "output_type": "stream",
          "name": "stderr",
          "text": [
            "\rProcessing test_images/mistery_cat images:   4%|▍         | 16/400 [00:19<09:16,  1.45s/it]"
          ]
        },
        {
          "output_type": "stream",
          "name": "stdout",
          "text": [
            "\n",
            "image 1/1 /content/drive/MyDrive/bdma-07-competition/BDMA7_project_files/test_images/mistery_cat/c77461f3-f02f-48ee-b3c1-79ba75bb3407.jpg: 480x640 1 Bird, 37.8ms\n",
            "Speed: 3.4ms preprocess, 37.8ms inference, 2.2ms postprocess per image at shape (1, 3, 480, 640)\n"
          ]
        },
        {
          "output_type": "stream",
          "name": "stderr",
          "text": [
            "\rProcessing test_images/mistery_cat images:   4%|▍         | 17/400 [00:20<08:58,  1.41s/it]"
          ]
        },
        {
          "output_type": "stream",
          "name": "stdout",
          "text": [
            "\n",
            "image 1/1 /content/drive/MyDrive/bdma-07-competition/BDMA7_project_files/test_images/mistery_cat/6a143c2b-8778-405e-9bec-f036035568fb.jpg: 512x640 1 Bird, 39.3ms\n",
            "Speed: 3.7ms preprocess, 39.3ms inference, 1.5ms postprocess per image at shape (1, 3, 512, 640)\n"
          ]
        },
        {
          "output_type": "stream",
          "name": "stderr",
          "text": [
            "\rProcessing test_images/mistery_cat images:   4%|▍         | 18/400 [00:21<07:58,  1.25s/it]"
          ]
        },
        {
          "output_type": "stream",
          "name": "stdout",
          "text": [
            "\n",
            "image 1/1 /content/drive/MyDrive/bdma-07-competition/BDMA7_project_files/test_images/mistery_cat/40442cb3-d563-4a8c-8422-8e51c7948dde.jpg: 480x640 1 Bird, 38.6ms\n",
            "Speed: 3.4ms preprocess, 38.6ms inference, 1.3ms postprocess per image at shape (1, 3, 480, 640)\n"
          ]
        },
        {
          "output_type": "stream",
          "name": "stderr",
          "text": [
            "\rProcessing test_images/mistery_cat images:   5%|▍         | 19/400 [00:22<07:20,  1.16s/it]"
          ]
        },
        {
          "output_type": "stream",
          "name": "stdout",
          "text": [
            "\n",
            "image 1/1 /content/drive/MyDrive/bdma-07-competition/BDMA7_project_files/test_images/mistery_cat/f40daf2f-d819-4278-8042-bb762823de6c.jpg: 448x640 1 Bird, 38.2ms\n",
            "Speed: 3.5ms preprocess, 38.2ms inference, 2.0ms postprocess per image at shape (1, 3, 448, 640)\n"
          ]
        },
        {
          "output_type": "stream",
          "name": "stderr",
          "text": [
            "\rProcessing test_images/mistery_cat images:   5%|▌         | 20/400 [00:23<06:56,  1.10s/it]"
          ]
        },
        {
          "output_type": "stream",
          "name": "stdout",
          "text": [
            "\n",
            "image 1/1 /content/drive/MyDrive/bdma-07-competition/BDMA7_project_files/test_images/mistery_cat/da82c136-bbca-4f69-9e97-2c0edf75e223.jpg: 608x640 1 Bird, 47.5ms\n",
            "Speed: 4.1ms preprocess, 47.5ms inference, 1.3ms postprocess per image at shape (1, 3, 608, 640)\n"
          ]
        },
        {
          "output_type": "stream",
          "name": "stderr",
          "text": [
            "\rProcessing test_images/mistery_cat images:   5%|▌         | 21/400 [00:24<06:34,  1.04s/it]"
          ]
        },
        {
          "output_type": "stream",
          "name": "stdout",
          "text": [
            "\n",
            "image 1/1 /content/drive/MyDrive/bdma-07-competition/BDMA7_project_files/test_images/mistery_cat/6cae3c62-6021-4521-a485-66e8f0d877bc.jpg: 448x640 1 Bird, 37.8ms\n",
            "Speed: 3.5ms preprocess, 37.8ms inference, 1.2ms postprocess per image at shape (1, 3, 448, 640)\n"
          ]
        },
        {
          "output_type": "stream",
          "name": "stderr",
          "text": [
            "\rProcessing test_images/mistery_cat images:   6%|▌         | 22/400 [00:25<06:26,  1.02s/it]"
          ]
        },
        {
          "output_type": "stream",
          "name": "stdout",
          "text": [
            "\n",
            "image 1/1 /content/drive/MyDrive/bdma-07-competition/BDMA7_project_files/test_images/mistery_cat/68a3a4cc-0288-4e6f-8ddf-b340edd1caab.jpg: 480x640 1 Bird, 38.7ms\n",
            "Speed: 3.7ms preprocess, 38.7ms inference, 1.2ms postprocess per image at shape (1, 3, 480, 640)\n"
          ]
        },
        {
          "output_type": "stream",
          "name": "stderr",
          "text": [
            "\rProcessing test_images/mistery_cat images:   6%|▌         | 23/400 [00:26<06:51,  1.09s/it]"
          ]
        },
        {
          "output_type": "stream",
          "name": "stdout",
          "text": [
            "\n",
            "image 1/1 /content/drive/MyDrive/bdma-07-competition/BDMA7_project_files/test_images/mistery_cat/6cd9b8f3-d8dd-49bd-975d-4eff2db96eb1.jpg: 640x544 1 Bird, 46.7ms\n",
            "Speed: 4.4ms preprocess, 46.7ms inference, 1.2ms postprocess per image at shape (1, 3, 640, 544)\n"
          ]
        },
        {
          "output_type": "stream",
          "name": "stderr",
          "text": [
            "\rProcessing test_images/mistery_cat images:   6%|▌         | 24/400 [00:28<07:52,  1.26s/it]"
          ]
        },
        {
          "output_type": "stream",
          "name": "stdout",
          "text": [
            "\n",
            "image 1/1 /content/drive/MyDrive/bdma-07-competition/BDMA7_project_files/test_images/mistery_cat/cf3aa812-fa9f-4fe9-88a6-a413e7571bd9.jpg: 544x640 1 Bird, 46.1ms\n",
            "Speed: 3.7ms preprocess, 46.1ms inference, 1.3ms postprocess per image at shape (1, 3, 544, 640)\n"
          ]
        },
        {
          "output_type": "stream",
          "name": "stderr",
          "text": [
            "\rProcessing test_images/mistery_cat images:   6%|▋         | 25/400 [00:30<08:14,  1.32s/it]"
          ]
        },
        {
          "output_type": "stream",
          "name": "stdout",
          "text": [
            "\n",
            "image 1/1 /content/drive/MyDrive/bdma-07-competition/BDMA7_project_files/test_images/mistery_cat/53683755-ec07-43c8-8802-3c7c06644717.jpg: 480x640 1 Bird, 38.6ms\n",
            "Speed: 4.4ms preprocess, 38.6ms inference, 1.2ms postprocess per image at shape (1, 3, 480, 640)\n"
          ]
        },
        {
          "output_type": "stream",
          "name": "stderr",
          "text": [
            "\rProcessing test_images/mistery_cat images:   6%|▋         | 26/400 [00:31<08:35,  1.38s/it]"
          ]
        },
        {
          "output_type": "stream",
          "name": "stdout",
          "text": [
            "\n",
            "image 1/1 /content/drive/MyDrive/bdma-07-competition/BDMA7_project_files/test_images/mistery_cat/9b3b5ec2-7e06-4b0d-80f2-0649b68be525.jpg: 448x640 1 Bird, 38.0ms\n",
            "Speed: 3.3ms preprocess, 38.0ms inference, 1.5ms postprocess per image at shape (1, 3, 448, 640)\n"
          ]
        },
        {
          "output_type": "stream",
          "name": "stderr",
          "text": [
            "\rProcessing test_images/mistery_cat images:   7%|▋         | 27/400 [00:33<08:51,  1.42s/it]"
          ]
        },
        {
          "output_type": "stream",
          "name": "stdout",
          "text": [
            "\n",
            "image 1/1 /content/drive/MyDrive/bdma-07-competition/BDMA7_project_files/test_images/mistery_cat/d7e74bb2-7f80-4a76-b191-d9318e873caf.jpg: 480x640 1 Bird, 39.2ms\n",
            "Speed: 3.3ms preprocess, 39.2ms inference, 1.5ms postprocess per image at shape (1, 3, 480, 640)\n"
          ]
        },
        {
          "output_type": "stream",
          "name": "stderr",
          "text": [
            "\rProcessing test_images/mistery_cat images:   7%|▋         | 28/400 [00:34<08:21,  1.35s/it]"
          ]
        },
        {
          "output_type": "stream",
          "name": "stdout",
          "text": [
            "\n",
            "image 1/1 /content/drive/MyDrive/bdma-07-competition/BDMA7_project_files/test_images/mistery_cat/c1d87b70-fa2e-4423-80d7-2483cb24daa9.jpg: 416x640 1 Bird, 41.8ms\n",
            "Speed: 3.1ms preprocess, 41.8ms inference, 1.9ms postprocess per image at shape (1, 3, 416, 640)\n"
          ]
        },
        {
          "output_type": "stream",
          "name": "stderr",
          "text": [
            "\rProcessing test_images/mistery_cat images:   7%|▋         | 29/400 [00:35<08:04,  1.31s/it]"
          ]
        },
        {
          "output_type": "stream",
          "name": "stdout",
          "text": [
            "\n",
            "image 1/1 /content/drive/MyDrive/bdma-07-competition/BDMA7_project_files/test_images/mistery_cat/ebffa17e-21f1-4611-95d1-74fbe75e2e2a.jpg: 448x640 1 Bird, 39.0ms\n",
            "Speed: 6.1ms preprocess, 39.0ms inference, 1.9ms postprocess per image at shape (1, 3, 448, 640)\n"
          ]
        },
        {
          "output_type": "stream",
          "name": "stderr",
          "text": [
            "\rProcessing test_images/mistery_cat images:   8%|▊         | 30/400 [00:36<07:18,  1.18s/it]"
          ]
        },
        {
          "output_type": "stream",
          "name": "stdout",
          "text": [
            "\n",
            "image 1/1 /content/drive/MyDrive/bdma-07-competition/BDMA7_project_files/test_images/mistery_cat/9a2785c9-100f-4422-a5a4-f2a016e2f62a.jpg: 608x640 1 Bird, 47.6ms\n",
            "Speed: 4.9ms preprocess, 47.6ms inference, 1.3ms postprocess per image at shape (1, 3, 608, 640)\n"
          ]
        },
        {
          "output_type": "stream",
          "name": "stderr",
          "text": [
            "\rProcessing test_images/mistery_cat images:   8%|▊         | 31/400 [00:37<06:53,  1.12s/it]"
          ]
        },
        {
          "output_type": "stream",
          "name": "stdout",
          "text": [
            "\n",
            "image 1/1 /content/drive/MyDrive/bdma-07-competition/BDMA7_project_files/test_images/mistery_cat/d0fd7536-b2a6-4329-9414-009b3dcb6f44.jpg: 640x640 1 Bird, 48.5ms\n",
            "Speed: 4.9ms preprocess, 48.5ms inference, 1.3ms postprocess per image at shape (1, 3, 640, 640)\n"
          ]
        },
        {
          "output_type": "stream",
          "name": "stderr",
          "text": [
            "\rProcessing test_images/mistery_cat images:   8%|▊         | 32/400 [00:38<06:56,  1.13s/it]"
          ]
        },
        {
          "output_type": "stream",
          "name": "stdout",
          "text": [
            "\n",
            "image 1/1 /content/drive/MyDrive/bdma-07-competition/BDMA7_project_files/test_images/mistery_cat/0082f891-33f6-4057-aa63-c2f462ea66a5.jpg: 448x640 (no detections), 37.8ms\n",
            "Speed: 3.6ms preprocess, 37.8ms inference, 0.6ms postprocess per image at shape (1, 3, 448, 640)\n"
          ]
        },
        {
          "output_type": "stream",
          "name": "stderr",
          "text": [
            "\rProcessing test_images/mistery_cat images:   8%|▊         | 33/400 [00:40<07:48,  1.28s/it]"
          ]
        },
        {
          "output_type": "stream",
          "name": "stdout",
          "text": [
            "Warning: No objects detected in /content/drive/MyDrive/bdma-07-competition/BDMA7_project_files/test_images/mistery_cat/0082f891-33f6-4057-aa63-c2f462ea66a5.jpg, skipping cropping.\n",
            "\n",
            "image 1/1 /content/drive/MyDrive/bdma-07-competition/BDMA7_project_files/test_images/mistery_cat/27b12280-11c9-41f7-9903-3bda8f751067.jpg: 448x640 1 Bird, 36.8ms\n",
            "Speed: 3.1ms preprocess, 36.8ms inference, 1.3ms postprocess per image at shape (1, 3, 448, 640)\n"
          ]
        },
        {
          "output_type": "stream",
          "name": "stderr",
          "text": [
            "\rProcessing test_images/mistery_cat images:   8%|▊         | 34/400 [00:40<07:03,  1.16s/it]"
          ]
        },
        {
          "output_type": "stream",
          "name": "stdout",
          "text": [
            "\n",
            "image 1/1 /content/drive/MyDrive/bdma-07-competition/BDMA7_project_files/test_images/mistery_cat/943f98cb-be88-4414-9096-1afa303a035d.jpg: 640x640 1 Bird, 49.1ms\n",
            "Speed: 4.2ms preprocess, 49.1ms inference, 1.3ms postprocess per image at shape (1, 3, 640, 640)\n"
          ]
        },
        {
          "output_type": "stream",
          "name": "stderr",
          "text": [
            "\rProcessing test_images/mistery_cat images:   9%|▉         | 35/400 [00:42<07:10,  1.18s/it]"
          ]
        },
        {
          "output_type": "stream",
          "name": "stdout",
          "text": [
            "\n",
            "image 1/1 /content/drive/MyDrive/bdma-07-competition/BDMA7_project_files/test_images/mistery_cat/3199a2e4-f883-4858-94a4-ce4892eccbd8.jpg: 416x640 1 Bird, 37.2ms\n",
            "Speed: 3.2ms preprocess, 37.2ms inference, 1.2ms postprocess per image at shape (1, 3, 416, 640)\n"
          ]
        },
        {
          "output_type": "stream",
          "name": "stderr",
          "text": [
            "\rProcessing test_images/mistery_cat images:   9%|▉         | 36/400 [00:43<06:37,  1.09s/it]"
          ]
        },
        {
          "output_type": "stream",
          "name": "stdout",
          "text": [
            "\n",
            "image 1/1 /content/drive/MyDrive/bdma-07-competition/BDMA7_project_files/test_images/mistery_cat/8e49a0b1-9c97-4454-9fa2-5297d9609892.jpg: 448x640 1 Bird, 38.4ms\n",
            "Speed: 3.1ms preprocess, 38.4ms inference, 1.7ms postprocess per image at shape (1, 3, 448, 640)\n"
          ]
        },
        {
          "output_type": "stream",
          "name": "stderr",
          "text": [
            "\rProcessing test_images/mistery_cat images:   9%|▉         | 37/400 [00:43<06:10,  1.02s/it]"
          ]
        },
        {
          "output_type": "stream",
          "name": "stdout",
          "text": [
            "\n",
            "image 1/1 /content/drive/MyDrive/bdma-07-competition/BDMA7_project_files/test_images/mistery_cat/5fa8b937-5599-4311-a482-4c82e550544a.jpg: 448x640 1 Bird, 36.9ms\n",
            "Speed: 3.4ms preprocess, 36.9ms inference, 1.4ms postprocess per image at shape (1, 3, 448, 640)\n"
          ]
        },
        {
          "output_type": "stream",
          "name": "stderr",
          "text": [
            "\rProcessing test_images/mistery_cat images:  10%|▉         | 38/400 [00:44<06:08,  1.02s/it]"
          ]
        },
        {
          "output_type": "stream",
          "name": "stdout",
          "text": [
            "\n",
            "image 1/1 /content/drive/MyDrive/bdma-07-competition/BDMA7_project_files/test_images/mistery_cat/b80134be-0c75-4046-83f8-e0f526528930.jpg: 640x448 1 Bird, 36.1ms\n",
            "Speed: 3.6ms preprocess, 36.1ms inference, 1.9ms postprocess per image at shape (1, 3, 640, 448)\n"
          ]
        },
        {
          "output_type": "stream",
          "name": "stderr",
          "text": [
            "\rProcessing test_images/mistery_cat images:  10%|▉         | 39/400 [00:45<05:55,  1.02it/s]"
          ]
        },
        {
          "output_type": "stream",
          "name": "stdout",
          "text": [
            "\n",
            "image 1/1 /content/drive/MyDrive/bdma-07-competition/BDMA7_project_files/test_images/mistery_cat/f10993cc-64c7-48a9-a7f3-28c448232ccf.jpg: 448x640 1 Bird, 37.6ms\n",
            "Speed: 3.2ms preprocess, 37.6ms inference, 1.2ms postprocess per image at shape (1, 3, 448, 640)\n"
          ]
        },
        {
          "output_type": "stream",
          "name": "stderr",
          "text": [
            "\rProcessing test_images/mistery_cat images:  10%|█         | 40/400 [00:47<06:57,  1.16s/it]"
          ]
        },
        {
          "output_type": "stream",
          "name": "stdout",
          "text": [
            "\n",
            "image 1/1 /content/drive/MyDrive/bdma-07-competition/BDMA7_project_files/test_images/mistery_cat/79b7fa19-8d89-4fb7-8137-a59165f64148.jpg: 640x512 1 Bird, 36.7ms\n",
            "Speed: 6.2ms preprocess, 36.7ms inference, 1.2ms postprocess per image at shape (1, 3, 640, 512)\n"
          ]
        },
        {
          "output_type": "stream",
          "name": "stderr",
          "text": [
            "\rProcessing test_images/mistery_cat images:  10%|█         | 41/400 [00:48<07:15,  1.21s/it]"
          ]
        },
        {
          "output_type": "stream",
          "name": "stdout",
          "text": [
            "\n",
            "image 1/1 /content/drive/MyDrive/bdma-07-competition/BDMA7_project_files/test_images/mistery_cat/e0b2124c-60a7-402e-9341-235df1b150a3.jpg: 480x640 1 Bird, 38.6ms\n",
            "Speed: 3.7ms preprocess, 38.6ms inference, 1.2ms postprocess per image at shape (1, 3, 480, 640)\n"
          ]
        },
        {
          "output_type": "stream",
          "name": "stderr",
          "text": [
            "\rProcessing test_images/mistery_cat images:  10%|█         | 42/400 [00:50<08:11,  1.37s/it]"
          ]
        },
        {
          "output_type": "stream",
          "name": "stdout",
          "text": [
            "\n",
            "image 1/1 /content/drive/MyDrive/bdma-07-competition/BDMA7_project_files/test_images/mistery_cat/04ad8917-07dc-451a-a59c-f4fc8827e0ab.jpg: 448x640 1 Bird, 37.8ms\n",
            "Speed: 3.8ms preprocess, 37.8ms inference, 1.4ms postprocess per image at shape (1, 3, 448, 640)\n"
          ]
        },
        {
          "output_type": "stream",
          "name": "stderr",
          "text": [
            "\rProcessing test_images/mistery_cat images:  11%|█         | 43/400 [00:52<08:32,  1.44s/it]"
          ]
        },
        {
          "output_type": "stream",
          "name": "stdout",
          "text": [
            "\n",
            "image 1/1 /content/drive/MyDrive/bdma-07-competition/BDMA7_project_files/test_images/mistery_cat/5c317085-e90a-4c59-92ee-5641696e7600.jpg: 448x640 1 Bird, 36.8ms\n",
            "Speed: 3.2ms preprocess, 36.8ms inference, 1.4ms postprocess per image at shape (1, 3, 448, 640)\n"
          ]
        },
        {
          "output_type": "stream",
          "name": "stderr",
          "text": [
            "\rProcessing test_images/mistery_cat images:  11%|█         | 44/400 [00:53<08:07,  1.37s/it]"
          ]
        },
        {
          "output_type": "stream",
          "name": "stdout",
          "text": [
            "\n",
            "image 1/1 /content/drive/MyDrive/bdma-07-competition/BDMA7_project_files/test_images/mistery_cat/b1330da4-a2e5-4841-acb4-f6a7044cc8bc.jpg: 640x512 1 Bird, 36.7ms\n",
            "Speed: 5.6ms preprocess, 36.7ms inference, 1.2ms postprocess per image at shape (1, 3, 640, 512)\n"
          ]
        },
        {
          "output_type": "stream",
          "name": "stderr",
          "text": [
            "\rProcessing test_images/mistery_cat images:  11%|█▏        | 45/400 [00:54<08:20,  1.41s/it]"
          ]
        },
        {
          "output_type": "stream",
          "name": "stdout",
          "text": [
            "\n",
            "image 1/1 /content/drive/MyDrive/bdma-07-competition/BDMA7_project_files/test_images/mistery_cat/f845a0cf-ae00-4d68-bf46-6383f5c692e1.jpg: 448x640 1 Bird, 37.6ms\n",
            "Speed: 3.4ms preprocess, 37.6ms inference, 1.2ms postprocess per image at shape (1, 3, 448, 640)\n"
          ]
        },
        {
          "output_type": "stream",
          "name": "stderr",
          "text": [
            "\rProcessing test_images/mistery_cat images:  12%|█▏        | 46/400 [00:56<08:30,  1.44s/it]"
          ]
        },
        {
          "output_type": "stream",
          "name": "stdout",
          "text": [
            "\n",
            "image 1/1 /content/drive/MyDrive/bdma-07-competition/BDMA7_project_files/test_images/mistery_cat/973c02b7-1c87-4cda-9445-45af7e2a8990.jpg: 640x416 1 Bird, 35.2ms\n",
            "Speed: 3.3ms preprocess, 35.2ms inference, 1.3ms postprocess per image at shape (1, 3, 640, 416)\n"
          ]
        },
        {
          "output_type": "stream",
          "name": "stderr",
          "text": [
            "\rProcessing test_images/mistery_cat images:  12%|█▏        | 47/400 [00:57<07:33,  1.28s/it]"
          ]
        },
        {
          "output_type": "stream",
          "name": "stdout",
          "text": [
            "\n",
            "image 1/1 /content/drive/MyDrive/bdma-07-competition/BDMA7_project_files/test_images/mistery_cat/367993c9-5d9e-4d0b-ada8-2aeda751457b.jpg: 448x640 1 Bird, 38.4ms\n",
            "Speed: 3.6ms preprocess, 38.4ms inference, 3.0ms postprocess per image at shape (1, 3, 448, 640)\n"
          ]
        },
        {
          "output_type": "stream",
          "name": "stderr",
          "text": [
            "\rProcessing test_images/mistery_cat images:  12%|█▏        | 48/400 [00:58<06:54,  1.18s/it]"
          ]
        },
        {
          "output_type": "stream",
          "name": "stdout",
          "text": [
            "\n",
            "image 1/1 /content/drive/MyDrive/bdma-07-competition/BDMA7_project_files/test_images/mistery_cat/e73c5599-6d30-4864-936e-5f61c79c414b.jpg: 512x640 1 Bird, 39.5ms\n",
            "Speed: 4.3ms preprocess, 39.5ms inference, 1.8ms postprocess per image at shape (1, 3, 512, 640)\n"
          ]
        },
        {
          "output_type": "stream",
          "name": "stderr",
          "text": [
            "\rProcessing test_images/mistery_cat images:  12%|█▏        | 49/400 [00:59<06:43,  1.15s/it]"
          ]
        },
        {
          "output_type": "stream",
          "name": "stdout",
          "text": [
            "\n",
            "image 1/1 /content/drive/MyDrive/bdma-07-competition/BDMA7_project_files/test_images/mistery_cat/b7450d81-9774-4d8f-bb0b-1d052614676b.jpg: 640x448 1 Bird, 36.2ms\n",
            "Speed: 3.2ms preprocess, 36.2ms inference, 1.8ms postprocess per image at shape (1, 3, 640, 448)\n"
          ]
        },
        {
          "output_type": "stream",
          "name": "stderr",
          "text": [
            "\rProcessing test_images/mistery_cat images:  12%|█▎        | 50/400 [01:00<06:14,  1.07s/it]"
          ]
        },
        {
          "output_type": "stream",
          "name": "stdout",
          "text": [
            "\n",
            "image 1/1 /content/drive/MyDrive/bdma-07-competition/BDMA7_project_files/test_images/mistery_cat/b20a39d0-87f2-4bb5-b3f2-c518b3a7338a.jpg: 448x640 1 Bird, 37.6ms\n",
            "Speed: 3.1ms preprocess, 37.6ms inference, 1.2ms postprocess per image at shape (1, 3, 448, 640)\n"
          ]
        },
        {
          "output_type": "stream",
          "name": "stderr",
          "text": [
            "\rProcessing test_images/mistery_cat images:  13%|█▎        | 51/400 [01:01<07:13,  1.24s/it]"
          ]
        },
        {
          "output_type": "stream",
          "name": "stdout",
          "text": [
            "\n",
            "image 1/1 /content/drive/MyDrive/bdma-07-competition/BDMA7_project_files/test_images/mistery_cat/501a2764-f32f-4492-803a-17513b9a36bc.jpg: 480x640 1 Bird, 38.6ms\n",
            "Speed: 3.8ms preprocess, 38.6ms inference, 1.3ms postprocess per image at shape (1, 3, 480, 640)\n"
          ]
        },
        {
          "output_type": "stream",
          "name": "stderr",
          "text": [
            "\rProcessing test_images/mistery_cat images:  13%|█▎        | 52/400 [01:02<06:47,  1.17s/it]"
          ]
        },
        {
          "output_type": "stream",
          "name": "stdout",
          "text": [
            "\n",
            "image 1/1 /content/drive/MyDrive/bdma-07-competition/BDMA7_project_files/test_images/mistery_cat/471f6f56-5c35-412f-b734-45e989f0d538.jpg: 448x640 1 Bird, 37.7ms\n",
            "Speed: 4.3ms preprocess, 37.7ms inference, 1.2ms postprocess per image at shape (1, 3, 448, 640)\n"
          ]
        },
        {
          "output_type": "stream",
          "name": "stderr",
          "text": [
            "\rProcessing test_images/mistery_cat images:  13%|█▎        | 53/400 [01:03<06:23,  1.11s/it]"
          ]
        },
        {
          "output_type": "stream",
          "name": "stdout",
          "text": [
            "\n",
            "image 1/1 /content/drive/MyDrive/bdma-07-competition/BDMA7_project_files/test_images/mistery_cat/a018c470-3b07-4bec-8416-9c6e40d09d6a.jpg: 448x640 1 Bird, 39.6ms\n",
            "Speed: 4.3ms preprocess, 39.6ms inference, 1.3ms postprocess per image at shape (1, 3, 448, 640)\n"
          ]
        },
        {
          "output_type": "stream",
          "name": "stderr",
          "text": [
            "\rProcessing test_images/mistery_cat images:  14%|█▎        | 54/400 [01:05<06:48,  1.18s/it]"
          ]
        },
        {
          "output_type": "stream",
          "name": "stdout",
          "text": [
            "\n",
            "image 1/1 /content/drive/MyDrive/bdma-07-competition/BDMA7_project_files/test_images/mistery_cat/8cf21481-fd20-4541-8de0-983b0220289e.jpg: 448x640 1 Bird, 37.3ms\n",
            "Speed: 3.3ms preprocess, 37.3ms inference, 1.5ms postprocess per image at shape (1, 3, 448, 640)\n"
          ]
        },
        {
          "output_type": "stream",
          "name": "stderr",
          "text": [
            "\rProcessing test_images/mistery_cat images:  14%|█▍        | 55/400 [01:06<06:20,  1.10s/it]"
          ]
        },
        {
          "output_type": "stream",
          "name": "stdout",
          "text": [
            "\n",
            "image 1/1 /content/drive/MyDrive/bdma-07-competition/BDMA7_project_files/test_images/mistery_cat/a159bf73-3e21-4520-83c6-602037811d7c.jpg: 448x640 1 Bird, 36.9ms\n",
            "Speed: 3.6ms preprocess, 36.9ms inference, 1.4ms postprocess per image at shape (1, 3, 448, 640)\n"
          ]
        },
        {
          "output_type": "stream",
          "name": "stderr",
          "text": [
            "\rProcessing test_images/mistery_cat images:  14%|█▍        | 56/400 [01:07<06:59,  1.22s/it]"
          ]
        },
        {
          "output_type": "stream",
          "name": "stdout",
          "text": [
            "\n",
            "image 1/1 /content/drive/MyDrive/bdma-07-competition/BDMA7_project_files/test_images/mistery_cat/f97f9fd0-9aab-4ad1-8da5-0e593886eada.jpg: 448x640 1 Bird, 36.8ms\n",
            "Speed: 3.8ms preprocess, 36.8ms inference, 1.3ms postprocess per image at shape (1, 3, 448, 640)\n"
          ]
        },
        {
          "output_type": "stream",
          "name": "stderr",
          "text": [
            "\rProcessing test_images/mistery_cat images:  14%|█▍        | 57/400 [01:08<07:05,  1.24s/it]"
          ]
        },
        {
          "output_type": "stream",
          "name": "stdout",
          "text": [
            "\n",
            "image 1/1 /content/drive/MyDrive/bdma-07-competition/BDMA7_project_files/test_images/mistery_cat/dda591b9-6d45-4fa1-a683-cb22b434d0d3.jpg: 448x640 1 Bird, 38.4ms\n",
            "Speed: 3.1ms preprocess, 38.4ms inference, 1.8ms postprocess per image at shape (1, 3, 448, 640)\n"
          ]
        },
        {
          "output_type": "stream",
          "name": "stderr",
          "text": [
            "\rProcessing test_images/mistery_cat images:  14%|█▍        | 58/400 [01:10<07:13,  1.27s/it]"
          ]
        },
        {
          "output_type": "stream",
          "name": "stdout",
          "text": [
            "\n",
            "image 1/1 /content/drive/MyDrive/bdma-07-competition/BDMA7_project_files/test_images/mistery_cat/3bfd3be4-8a79-474b-b2fa-988c4e912a79.jpg: 480x640 1 Bird, 42.0ms\n",
            "Speed: 3.4ms preprocess, 42.0ms inference, 2.3ms postprocess per image at shape (1, 3, 480, 640)\n"
          ]
        },
        {
          "output_type": "stream",
          "name": "stderr",
          "text": [
            "\rProcessing test_images/mistery_cat images:  15%|█▍        | 59/400 [01:11<07:49,  1.38s/it]"
          ]
        },
        {
          "output_type": "stream",
          "name": "stdout",
          "text": [
            "\n",
            "image 1/1 /content/drive/MyDrive/bdma-07-competition/BDMA7_project_files/test_images/mistery_cat/f41322bc-4b41-49a1-9cde-9d93d1feac89.jpg: 480x640 1 Bird, 37.8ms\n",
            "Speed: 3.3ms preprocess, 37.8ms inference, 1.4ms postprocess per image at shape (1, 3, 480, 640)\n"
          ]
        },
        {
          "output_type": "stream",
          "name": "stderr",
          "text": [
            "\rProcessing test_images/mistery_cat images:  15%|█▌        | 60/400 [01:13<07:41,  1.36s/it]"
          ]
        },
        {
          "output_type": "stream",
          "name": "stdout",
          "text": [
            "\n",
            "image 1/1 /content/drive/MyDrive/bdma-07-competition/BDMA7_project_files/test_images/mistery_cat/b28092b1-a0fe-4b2d-899b-a8fc25f1baef.jpg: 480x640 1 Bird, 37.8ms\n",
            "Speed: 3.1ms preprocess, 37.8ms inference, 1.3ms postprocess per image at shape (1, 3, 480, 640)\n"
          ]
        },
        {
          "output_type": "stream",
          "name": "stderr",
          "text": [
            "\rProcessing test_images/mistery_cat images:  15%|█▌        | 61/400 [01:14<08:05,  1.43s/it]"
          ]
        },
        {
          "output_type": "stream",
          "name": "stdout",
          "text": [
            "\n",
            "image 1/1 /content/drive/MyDrive/bdma-07-competition/BDMA7_project_files/test_images/mistery_cat/afe00a56-2fc1-4c3c-b771-7e7fef4d09a1.jpg: 480x640 1 Bird, 39.7ms\n",
            "Speed: 3.5ms preprocess, 39.7ms inference, 1.8ms postprocess per image at shape (1, 3, 480, 640)\n"
          ]
        },
        {
          "output_type": "stream",
          "name": "stderr",
          "text": [
            "\rProcessing test_images/mistery_cat images:  16%|█▌        | 62/400 [01:15<07:18,  1.30s/it]"
          ]
        },
        {
          "output_type": "stream",
          "name": "stdout",
          "text": [
            "\n",
            "image 1/1 /content/drive/MyDrive/bdma-07-competition/BDMA7_project_files/test_images/mistery_cat/c5851932-f1f6-440e-b658-8019dddb92cf.jpg: 512x640 1 Bird, 39.2ms\n",
            "Speed: 3.7ms preprocess, 39.2ms inference, 1.2ms postprocess per image at shape (1, 3, 512, 640)\n"
          ]
        },
        {
          "output_type": "stream",
          "name": "stderr",
          "text": [
            "\rProcessing test_images/mistery_cat images:  16%|█▌        | 63/400 [01:17<07:44,  1.38s/it]"
          ]
        },
        {
          "output_type": "stream",
          "name": "stdout",
          "text": [
            "\n",
            "image 1/1 /content/drive/MyDrive/bdma-07-competition/BDMA7_project_files/test_images/mistery_cat/57cc2868-4b9d-4776-99da-a117179ba3bf.jpg: 544x640 1 Bird, 46.0ms\n",
            "Speed: 3.9ms preprocess, 46.0ms inference, 1.2ms postprocess per image at shape (1, 3, 544, 640)\n"
          ]
        },
        {
          "output_type": "stream",
          "name": "stderr",
          "text": [
            "\rProcessing test_images/mistery_cat images:  16%|█▌        | 64/400 [01:18<07:08,  1.28s/it]"
          ]
        },
        {
          "output_type": "stream",
          "name": "stdout",
          "text": [
            "\n",
            "image 1/1 /content/drive/MyDrive/bdma-07-competition/BDMA7_project_files/test_images/mistery_cat/22e74a25-f6c4-4e74-b9fd-9a618af11ffb.jpg: 640x512 1 Bird, 38.0ms\n",
            "Speed: 3.7ms preprocess, 38.0ms inference, 1.7ms postprocess per image at shape (1, 3, 640, 512)\n"
          ]
        },
        {
          "output_type": "stream",
          "name": "stderr",
          "text": [
            "\rProcessing test_images/mistery_cat images:  16%|█▋        | 65/400 [01:19<07:39,  1.37s/it]"
          ]
        },
        {
          "output_type": "stream",
          "name": "stdout",
          "text": [
            "\n",
            "image 1/1 /content/drive/MyDrive/bdma-07-competition/BDMA7_project_files/test_images/mistery_cat/1b7abf4d-46b7-4c55-9324-d32c02034915.jpg: 480x640 1 Bird, 38.6ms\n",
            "Speed: 3.6ms preprocess, 38.6ms inference, 1.2ms postprocess per image at shape (1, 3, 480, 640)\n"
          ]
        },
        {
          "output_type": "stream",
          "name": "stderr",
          "text": [
            "\rProcessing test_images/mistery_cat images:  16%|█▋        | 66/400 [01:20<06:55,  1.24s/it]"
          ]
        },
        {
          "output_type": "stream",
          "name": "stdout",
          "text": [
            "\n",
            "image 1/1 /content/drive/MyDrive/bdma-07-competition/BDMA7_project_files/test_images/mistery_cat/d104a7ab-2ff1-4dac-bf2e-08dbf22f0145.jpg: 448x640 1 Bird, 37.6ms\n",
            "Speed: 2.9ms preprocess, 37.6ms inference, 1.2ms postprocess per image at shape (1, 3, 448, 640)\n"
          ]
        },
        {
          "output_type": "stream",
          "name": "stderr",
          "text": [
            "\rProcessing test_images/mistery_cat images:  17%|█▋        | 67/400 [01:21<06:36,  1.19s/it]"
          ]
        },
        {
          "output_type": "stream",
          "name": "stdout",
          "text": [
            "\n",
            "image 1/1 /content/drive/MyDrive/bdma-07-competition/BDMA7_project_files/test_images/mistery_cat/63abfa7c-3d18-467b-8bb0-569fe4f841fd.jpg: 416x640 1 Bird, 37.3ms\n",
            "Speed: 3.1ms preprocess, 37.3ms inference, 1.5ms postprocess per image at shape (1, 3, 416, 640)\n"
          ]
        },
        {
          "output_type": "stream",
          "name": "stderr",
          "text": [
            "\rProcessing test_images/mistery_cat images:  17%|█▋        | 68/400 [01:23<07:07,  1.29s/it]"
          ]
        },
        {
          "output_type": "stream",
          "name": "stdout",
          "text": [
            "\n",
            "image 1/1 /content/drive/MyDrive/bdma-07-competition/BDMA7_project_files/test_images/mistery_cat/fe726f53-bb7e-4637-b361-38383ff87101.jpg: 448x640 1 Bird, 37.7ms\n",
            "Speed: 3.3ms preprocess, 37.7ms inference, 1.3ms postprocess per image at shape (1, 3, 448, 640)\n"
          ]
        },
        {
          "output_type": "stream",
          "name": "stderr",
          "text": [
            "\rProcessing test_images/mistery_cat images:  17%|█▋        | 69/400 [01:24<06:25,  1.16s/it]"
          ]
        },
        {
          "output_type": "stream",
          "name": "stdout",
          "text": [
            "\n",
            "image 1/1 /content/drive/MyDrive/bdma-07-competition/BDMA7_project_files/test_images/mistery_cat/6964f838-5bde-4189-bbe7-fab16d564704.jpg: 640x544 1 Bird, 46.7ms\n",
            "Speed: 4.0ms preprocess, 46.7ms inference, 1.7ms postprocess per image at shape (1, 3, 640, 544)\n"
          ]
        },
        {
          "output_type": "stream",
          "name": "stderr",
          "text": [
            "\rProcessing test_images/mistery_cat images:  18%|█▊        | 70/400 [01:25<07:09,  1.30s/it]"
          ]
        },
        {
          "output_type": "stream",
          "name": "stdout",
          "text": [
            "\n",
            "image 1/1 /content/drive/MyDrive/bdma-07-competition/BDMA7_project_files/test_images/mistery_cat/693f5b22-18c0-4039-905e-431411bc940a.jpg: 480x640 1 Bird, 38.9ms\n",
            "Speed: 3.5ms preprocess, 38.9ms inference, 1.3ms postprocess per image at shape (1, 3, 480, 640)\n"
          ]
        },
        {
          "output_type": "stream",
          "name": "stderr",
          "text": [
            "\rProcessing test_images/mistery_cat images:  18%|█▊        | 71/400 [01:27<07:25,  1.35s/it]"
          ]
        },
        {
          "output_type": "stream",
          "name": "stdout",
          "text": [
            "\n",
            "image 1/1 /content/drive/MyDrive/bdma-07-competition/BDMA7_project_files/test_images/mistery_cat/db450429-357a-4cb2-a29d-87203c61808e.jpg: 416x640 1 Bird, 37.0ms\n",
            "Speed: 3.2ms preprocess, 37.0ms inference, 1.2ms postprocess per image at shape (1, 3, 416, 640)\n"
          ]
        },
        {
          "output_type": "stream",
          "name": "stderr",
          "text": [
            "\rProcessing test_images/mistery_cat images:  18%|█▊        | 72/400 [01:29<07:53,  1.44s/it]"
          ]
        },
        {
          "output_type": "stream",
          "name": "stdout",
          "text": [
            "\n",
            "image 1/1 /content/drive/MyDrive/bdma-07-competition/BDMA7_project_files/test_images/mistery_cat/2497080c-739f-4e21-b3d3-41d3e5a52722.jpg: 448x640 1 Bird, 37.8ms\n",
            "Speed: 3.1ms preprocess, 37.8ms inference, 1.4ms postprocess per image at shape (1, 3, 448, 640)\n"
          ]
        },
        {
          "output_type": "stream",
          "name": "stderr",
          "text": [
            "\rProcessing test_images/mistery_cat images:  18%|█▊        | 73/400 [01:29<07:01,  1.29s/it]"
          ]
        },
        {
          "output_type": "stream",
          "name": "stdout",
          "text": [
            "\n",
            "image 1/1 /content/drive/MyDrive/bdma-07-competition/BDMA7_project_files/test_images/mistery_cat/e24dfa3f-d57a-4e80-8e46-3e880f0ad9cc.jpg: 448x640 1 Bird, 36.8ms\n",
            "Speed: 5.2ms preprocess, 36.8ms inference, 1.3ms postprocess per image at shape (1, 3, 448, 640)\n"
          ]
        },
        {
          "output_type": "stream",
          "name": "stderr",
          "text": [
            "\rProcessing test_images/mistery_cat images:  18%|█▊        | 74/400 [01:30<06:35,  1.21s/it]"
          ]
        },
        {
          "output_type": "stream",
          "name": "stdout",
          "text": [
            "\n",
            "image 1/1 /content/drive/MyDrive/bdma-07-competition/BDMA7_project_files/test_images/mistery_cat/ec77de43-938a-4c91-b8ad-913edea35b17.jpg: 480x640 (no detections), 39.3ms\n",
            "Speed: 3.6ms preprocess, 39.3ms inference, 0.6ms postprocess per image at shape (1, 3, 480, 640)\n"
          ]
        },
        {
          "output_type": "stream",
          "name": "stderr",
          "text": [
            "\rProcessing test_images/mistery_cat images:  19%|█▉        | 75/400 [01:32<06:19,  1.17s/it]"
          ]
        },
        {
          "output_type": "stream",
          "name": "stdout",
          "text": [
            "Warning: No objects detected in /content/drive/MyDrive/bdma-07-competition/BDMA7_project_files/test_images/mistery_cat/ec77de43-938a-4c91-b8ad-913edea35b17.jpg, skipping cropping.\n",
            "\n",
            "image 1/1 /content/drive/MyDrive/bdma-07-competition/BDMA7_project_files/test_images/mistery_cat/1ff883ec-138f-46ad-8230-c7a0d6ac321d.jpg: 480x640 1 Bird, 37.8ms\n",
            "Speed: 4.3ms preprocess, 37.8ms inference, 1.3ms postprocess per image at shape (1, 3, 480, 640)\n"
          ]
        },
        {
          "output_type": "stream",
          "name": "stderr",
          "text": [
            "\rProcessing test_images/mistery_cat images:  19%|█▉        | 76/400 [01:33<06:22,  1.18s/it]"
          ]
        },
        {
          "output_type": "stream",
          "name": "stdout",
          "text": [
            "\n",
            "image 1/1 /content/drive/MyDrive/bdma-07-competition/BDMA7_project_files/test_images/mistery_cat/ce92bd0c-68c1-41a0-9caf-ec8b4eccc0e8.jpg: 448x640 1 Bird, 38.3ms\n",
            "Speed: 3.1ms preprocess, 38.3ms inference, 1.8ms postprocess per image at shape (1, 3, 448, 640)\n"
          ]
        },
        {
          "output_type": "stream",
          "name": "stderr",
          "text": [
            "\rProcessing test_images/mistery_cat images:  19%|█▉        | 77/400 [01:34<06:08,  1.14s/it]"
          ]
        },
        {
          "output_type": "stream",
          "name": "stdout",
          "text": [
            "\n",
            "image 1/1 /content/drive/MyDrive/bdma-07-competition/BDMA7_project_files/test_images/mistery_cat/423240fa-e728-4a31-b881-4603f23a581e.jpg: 480x640 1 Bird, 38.8ms\n",
            "Speed: 3.5ms preprocess, 38.8ms inference, 1.6ms postprocess per image at shape (1, 3, 480, 640)\n"
          ]
        },
        {
          "output_type": "stream",
          "name": "stderr",
          "text": [
            "\rProcessing test_images/mistery_cat images:  20%|█▉        | 78/400 [01:35<05:39,  1.06s/it]"
          ]
        },
        {
          "output_type": "stream",
          "name": "stdout",
          "text": [
            "\n",
            "image 1/1 /content/drive/MyDrive/bdma-07-competition/BDMA7_project_files/test_images/mistery_cat/808b7241-b19a-4323-8d34-1ea530be696e.jpg: 448x640 1 Bird, 43.2ms\n",
            "Speed: 3.1ms preprocess, 43.2ms inference, 1.7ms postprocess per image at shape (1, 3, 448, 640)\n"
          ]
        },
        {
          "output_type": "stream",
          "name": "stderr",
          "text": [
            "\rProcessing test_images/mistery_cat images:  20%|█▉        | 79/400 [01:36<05:43,  1.07s/it]"
          ]
        },
        {
          "output_type": "stream",
          "name": "stdout",
          "text": [
            "\n",
            "image 1/1 /content/drive/MyDrive/bdma-07-competition/BDMA7_project_files/test_images/mistery_cat/3c5cc401-4c7e-4934-bc96-64e5a11fe230.jpg: 480x640 1 Bird, 38.6ms\n",
            "Speed: 3.3ms preprocess, 38.6ms inference, 1.3ms postprocess per image at shape (1, 3, 480, 640)\n"
          ]
        },
        {
          "output_type": "stream",
          "name": "stderr",
          "text": [
            "\rProcessing test_images/mistery_cat images:  20%|██        | 80/400 [01:37<06:07,  1.15s/it]"
          ]
        },
        {
          "output_type": "stream",
          "name": "stdout",
          "text": [
            "\n",
            "image 1/1 /content/drive/MyDrive/bdma-07-competition/BDMA7_project_files/test_images/mistery_cat/7730c667-5b12-46c2-a60e-c00917ff2210.jpg: 576x640 1 Bird, 46.7ms\n",
            "Speed: 4.3ms preprocess, 46.7ms inference, 1.2ms postprocess per image at shape (1, 3, 576, 640)\n"
          ]
        },
        {
          "output_type": "stream",
          "name": "stderr",
          "text": [
            "\rProcessing test_images/mistery_cat images:  20%|██        | 81/400 [01:39<06:41,  1.26s/it]"
          ]
        },
        {
          "output_type": "stream",
          "name": "stdout",
          "text": [
            "\n",
            "image 1/1 /content/drive/MyDrive/bdma-07-competition/BDMA7_project_files/test_images/mistery_cat/082a3006-96b8-450d-9047-b86fc19d8db6.jpg: 640x512 1 Bird, 37.2ms\n",
            "Speed: 4.3ms preprocess, 37.2ms inference, 1.8ms postprocess per image at shape (1, 3, 640, 512)\n"
          ]
        },
        {
          "output_type": "stream",
          "name": "stderr",
          "text": [
            "\rProcessing test_images/mistery_cat images:  20%|██        | 82/400 [01:40<06:34,  1.24s/it]"
          ]
        },
        {
          "output_type": "stream",
          "name": "stdout",
          "text": [
            "\n",
            "image 1/1 /content/drive/MyDrive/bdma-07-competition/BDMA7_project_files/test_images/mistery_cat/88a3774e-da50-4f12-9a35-ab8988e2cb55.jpg: 448x640 1 Bird, 37.6ms\n",
            "Speed: 3.4ms preprocess, 37.6ms inference, 1.2ms postprocess per image at shape (1, 3, 448, 640)\n"
          ]
        },
        {
          "output_type": "stream",
          "name": "stderr",
          "text": [
            "\rProcessing test_images/mistery_cat images:  21%|██        | 83/400 [01:41<05:58,  1.13s/it]"
          ]
        },
        {
          "output_type": "stream",
          "name": "stdout",
          "text": [
            "\n",
            "image 1/1 /content/drive/MyDrive/bdma-07-competition/BDMA7_project_files/test_images/mistery_cat/08652414-cab8-4297-af7a-292a59af2d7a.jpg: 448x640 1 Bird, 36.8ms\n",
            "Speed: 3.2ms preprocess, 36.8ms inference, 1.3ms postprocess per image at shape (1, 3, 448, 640)\n"
          ]
        },
        {
          "output_type": "stream",
          "name": "stderr",
          "text": [
            "\rProcessing test_images/mistery_cat images:  21%|██        | 84/400 [01:42<05:39,  1.08s/it]"
          ]
        },
        {
          "output_type": "stream",
          "name": "stdout",
          "text": [
            "\n",
            "image 1/1 /content/drive/MyDrive/bdma-07-competition/BDMA7_project_files/test_images/mistery_cat/1824db25-6d4e-40ed-a8cd-6c2f87e6187c.jpg: 576x640 1 Bird, 46.8ms\n",
            "Speed: 4.6ms preprocess, 46.8ms inference, 1.5ms postprocess per image at shape (1, 3, 576, 640)\n"
          ]
        },
        {
          "output_type": "stream",
          "name": "stderr",
          "text": [
            "\rProcessing test_images/mistery_cat images:  21%|██▏       | 85/400 [01:43<05:29,  1.04s/it]"
          ]
        },
        {
          "output_type": "stream",
          "name": "stdout",
          "text": [
            "\n",
            "image 1/1 /content/drive/MyDrive/bdma-07-competition/BDMA7_project_files/test_images/mistery_cat/0321cf4c-2a19-42b5-992c-f1d6d80af4c7.jpg: 512x640 1 Bird, 39.0ms\n",
            "Speed: 3.6ms preprocess, 39.0ms inference, 1.2ms postprocess per image at shape (1, 3, 512, 640)\n"
          ]
        },
        {
          "output_type": "stream",
          "name": "stderr",
          "text": [
            "\rProcessing test_images/mistery_cat images:  22%|██▏       | 86/400 [01:44<06:12,  1.19s/it]"
          ]
        },
        {
          "output_type": "stream",
          "name": "stdout",
          "text": [
            "\n",
            "image 1/1 /content/drive/MyDrive/bdma-07-competition/BDMA7_project_files/test_images/mistery_cat/12985d98-edd3-4ee1-88a4-7a1bf19da7df.jpg: 576x640 1 Bird, 46.7ms\n",
            "Speed: 4.0ms preprocess, 46.7ms inference, 1.3ms postprocess per image at shape (1, 3, 576, 640)\n"
          ]
        },
        {
          "output_type": "stream",
          "name": "stderr",
          "text": [
            "\rProcessing test_images/mistery_cat images:  22%|██▏       | 87/400 [01:45<05:51,  1.12s/it]"
          ]
        },
        {
          "output_type": "stream",
          "name": "stdout",
          "text": [
            "\n",
            "image 1/1 /content/drive/MyDrive/bdma-07-competition/BDMA7_project_files/test_images/mistery_cat/6dcbac91-0476-4046-9bc6-40aed44d3f48.jpg: 640x640 1 Bird, 48.3ms\n",
            "Speed: 4.3ms preprocess, 48.3ms inference, 1.3ms postprocess per image at shape (1, 3, 640, 640)\n"
          ]
        },
        {
          "output_type": "stream",
          "name": "stderr",
          "text": [
            "\rProcessing test_images/mistery_cat images:  22%|██▏       | 88/400 [01:46<05:38,  1.09s/it]"
          ]
        },
        {
          "output_type": "stream",
          "name": "stdout",
          "text": [
            "\n",
            "image 1/1 /content/drive/MyDrive/bdma-07-competition/BDMA7_project_files/test_images/mistery_cat/decea7ca-d32f-4f19-8fef-c7560d4becf1.jpg: 640x448 1 Bird, 38.1ms\n",
            "Speed: 3.3ms preprocess, 38.1ms inference, 1.6ms postprocess per image at shape (1, 3, 640, 448)\n"
          ]
        },
        {
          "output_type": "stream",
          "name": "stderr",
          "text": [
            "\rProcessing test_images/mistery_cat images:  22%|██▏       | 89/400 [01:47<05:55,  1.14s/it]"
          ]
        },
        {
          "output_type": "stream",
          "name": "stdout",
          "text": [
            "\n",
            "image 1/1 /content/drive/MyDrive/bdma-07-competition/BDMA7_project_files/test_images/mistery_cat/90a9298a-0ae0-4a29-a441-6175909d0a82.jpg: 544x640 1 Bird, 48.5ms\n",
            "Speed: 4.5ms preprocess, 48.5ms inference, 3.4ms postprocess per image at shape (1, 3, 544, 640)\n"
          ]
        },
        {
          "output_type": "stream",
          "name": "stderr",
          "text": [
            "\rProcessing test_images/mistery_cat images:  22%|██▎       | 90/400 [01:48<05:33,  1.07s/it]"
          ]
        },
        {
          "output_type": "stream",
          "name": "stdout",
          "text": [
            "\n",
            "image 1/1 /content/drive/MyDrive/bdma-07-competition/BDMA7_project_files/test_images/mistery_cat/54ed5d79-79ea-4bb4-8340-0187dcbd9f94.jpg: 480x640 1 Bird, 38.6ms\n",
            "Speed: 3.4ms preprocess, 38.6ms inference, 1.3ms postprocess per image at shape (1, 3, 480, 640)\n"
          ]
        },
        {
          "output_type": "stream",
          "name": "stderr",
          "text": [
            "\rProcessing test_images/mistery_cat images:  23%|██▎       | 91/400 [01:49<05:23,  1.05s/it]"
          ]
        },
        {
          "output_type": "stream",
          "name": "stdout",
          "text": [
            "\n",
            "image 1/1 /content/drive/MyDrive/bdma-07-competition/BDMA7_project_files/test_images/mistery_cat/a4d25ed0-6593-44cc-9c2d-0af032edb3da.jpg: 448x640 1 Bird, 37.8ms\n",
            "Speed: 3.3ms preprocess, 37.8ms inference, 1.2ms postprocess per image at shape (1, 3, 448, 640)\n"
          ]
        },
        {
          "output_type": "stream",
          "name": "stderr",
          "text": [
            "\rProcessing test_images/mistery_cat images:  23%|██▎       | 92/400 [01:51<06:14,  1.22s/it]"
          ]
        },
        {
          "output_type": "stream",
          "name": "stdout",
          "text": [
            "\n",
            "image 1/1 /content/drive/MyDrive/bdma-07-competition/BDMA7_project_files/test_images/mistery_cat/8ae07d36-ec07-4e48-aee8-24ee78210d17.jpg: 448x640 1 Bird, 36.8ms\n",
            "Speed: 5.2ms preprocess, 36.8ms inference, 1.3ms postprocess per image at shape (1, 3, 448, 640)\n"
          ]
        },
        {
          "output_type": "stream",
          "name": "stderr",
          "text": [
            "\rProcessing test_images/mistery_cat images:  23%|██▎       | 93/400 [01:52<05:56,  1.16s/it]"
          ]
        },
        {
          "output_type": "stream",
          "name": "stdout",
          "text": [
            "\n",
            "image 1/1 /content/drive/MyDrive/bdma-07-competition/BDMA7_project_files/test_images/mistery_cat/9859bfe4-a2b9-4b1c-92bc-2cd5e598befa.jpg: 480x640 1 Bird, 38.5ms\n",
            "Speed: 3.6ms preprocess, 38.5ms inference, 1.3ms postprocess per image at shape (1, 3, 480, 640)\n"
          ]
        },
        {
          "output_type": "stream",
          "name": "stderr",
          "text": [
            "\rProcessing test_images/mistery_cat images:  24%|██▎       | 94/400 [01:53<06:04,  1.19s/it]"
          ]
        },
        {
          "output_type": "stream",
          "name": "stdout",
          "text": [
            "\n",
            "image 1/1 /content/drive/MyDrive/bdma-07-competition/BDMA7_project_files/test_images/mistery_cat/ec437f94-725c-45cd-addf-cccd5aeeb4fc.jpg: 480x640 1 Bird, 37.8ms\n",
            "Speed: 3.6ms preprocess, 37.8ms inference, 1.4ms postprocess per image at shape (1, 3, 480, 640)\n"
          ]
        },
        {
          "output_type": "stream",
          "name": "stderr",
          "text": [
            "\rProcessing test_images/mistery_cat images:  24%|██▍       | 95/400 [01:54<05:47,  1.14s/it]"
          ]
        },
        {
          "output_type": "stream",
          "name": "stdout",
          "text": [
            "\n",
            "image 1/1 /content/drive/MyDrive/bdma-07-competition/BDMA7_project_files/test_images/mistery_cat/50319536-4848-4e3b-934a-05d036cc730b.jpg: 352x640 1 Bird, 31.4ms\n",
            "Speed: 2.7ms preprocess, 31.4ms inference, 1.3ms postprocess per image at shape (1, 3, 352, 640)\n"
          ]
        },
        {
          "output_type": "stream",
          "name": "stderr",
          "text": [
            "\rProcessing test_images/mistery_cat images:  24%|██▍       | 96/400 [01:55<05:30,  1.09s/it]"
          ]
        },
        {
          "output_type": "stream",
          "name": "stdout",
          "text": [
            "\n",
            "image 1/1 /content/drive/MyDrive/bdma-07-competition/BDMA7_project_files/test_images/mistery_cat/c83cd0ef-fb24-455b-a8fa-a93222177192.jpg: 640x448 1 Bird, 35.8ms\n",
            "Speed: 3.2ms preprocess, 35.8ms inference, 1.2ms postprocess per image at shape (1, 3, 640, 448)\n"
          ]
        },
        {
          "output_type": "stream",
          "name": "stderr",
          "text": [
            "\rProcessing test_images/mistery_cat images:  24%|██▍       | 97/400 [01:56<05:12,  1.03s/it]"
          ]
        },
        {
          "output_type": "stream",
          "name": "stdout",
          "text": [
            "\n",
            "image 1/1 /content/drive/MyDrive/bdma-07-competition/BDMA7_project_files/test_images/mistery_cat/980d09b3-d89a-4177-a6b3-714a23b00f4b.jpg: 448x640 1 Bird, 37.6ms\n",
            "Speed: 3.2ms preprocess, 37.6ms inference, 1.3ms postprocess per image at shape (1, 3, 448, 640)\n"
          ]
        },
        {
          "output_type": "stream",
          "name": "stderr",
          "text": [
            "\rProcessing test_images/mistery_cat images:  24%|██▍       | 98/400 [01:57<05:11,  1.03s/it]"
          ]
        },
        {
          "output_type": "stream",
          "name": "stdout",
          "text": [
            "\n",
            "image 1/1 /content/drive/MyDrive/bdma-07-competition/BDMA7_project_files/test_images/mistery_cat/cfd87f89-8489-429f-b35b-ca2db97f69f4.jpg: 480x640 1 Bird, 38.6ms\n",
            "Speed: 3.9ms preprocess, 38.6ms inference, 1.2ms postprocess per image at shape (1, 3, 480, 640)\n"
          ]
        },
        {
          "output_type": "stream",
          "name": "stderr",
          "text": [
            "\rProcessing test_images/mistery_cat images:  25%|██▍       | 99/400 [01:58<05:08,  1.03s/it]"
          ]
        },
        {
          "output_type": "stream",
          "name": "stdout",
          "text": [
            "\n",
            "image 1/1 /content/drive/MyDrive/bdma-07-competition/BDMA7_project_files/test_images/mistery_cat/385a18fb-74e4-4c5d-955f-353eecbaf7ee.jpg: 448x640 1 Bird, 38.6ms\n",
            "Speed: 3.3ms preprocess, 38.6ms inference, 1.5ms postprocess per image at shape (1, 3, 448, 640)\n"
          ]
        },
        {
          "output_type": "stream",
          "name": "stderr",
          "text": [
            "\rProcessing test_images/mistery_cat images:  25%|██▌       | 100/400 [02:00<05:57,  1.19s/it]"
          ]
        },
        {
          "output_type": "stream",
          "name": "stdout",
          "text": [
            "\n",
            "image 1/1 /content/drive/MyDrive/bdma-07-competition/BDMA7_project_files/test_images/mistery_cat/0d774931-7130-46fb-a70e-99b9d9c9ffce.jpg: 640x480 1 Bird, 36.7ms\n",
            "Speed: 3.8ms preprocess, 36.7ms inference, 1.3ms postprocess per image at shape (1, 3, 640, 480)\n"
          ]
        },
        {
          "output_type": "stream",
          "name": "stderr",
          "text": [
            "\rProcessing test_images/mistery_cat images:  25%|██▌       | 101/400 [02:01<06:30,  1.31s/it]"
          ]
        },
        {
          "output_type": "stream",
          "name": "stdout",
          "text": [
            "\n",
            "image 1/1 /content/drive/MyDrive/bdma-07-competition/BDMA7_project_files/test_images/mistery_cat/703959f8-3a66-4612-b2ff-154362b3fc79.jpg: 448x640 1 Bird, 37.6ms\n",
            "Speed: 3.2ms preprocess, 37.6ms inference, 1.3ms postprocess per image at shape (1, 3, 448, 640)\n"
          ]
        },
        {
          "output_type": "stream",
          "name": "stderr",
          "text": [
            "\rProcessing test_images/mistery_cat images:  26%|██▌       | 102/400 [02:02<05:50,  1.18s/it]"
          ]
        },
        {
          "output_type": "stream",
          "name": "stdout",
          "text": [
            "\n",
            "image 1/1 /content/drive/MyDrive/bdma-07-competition/BDMA7_project_files/test_images/mistery_cat/6b60e1e6-5295-4734-9ea1-90dbc722cb02.jpg: 448x640 1 Bird, 40.3ms\n",
            "Speed: 3.3ms preprocess, 40.3ms inference, 1.3ms postprocess per image at shape (1, 3, 448, 640)\n"
          ]
        },
        {
          "output_type": "stream",
          "name": "stderr",
          "text": [
            "\rProcessing test_images/mistery_cat images:  26%|██▌       | 103/400 [02:03<05:33,  1.12s/it]"
          ]
        },
        {
          "output_type": "stream",
          "name": "stdout",
          "text": [
            "\n",
            "image 1/1 /content/drive/MyDrive/bdma-07-competition/BDMA7_project_files/test_images/mistery_cat/27e5bdf6-32d6-459f-9307-f548c2b88186.jpg: 448x640 1 Bird, 36.8ms\n",
            "Speed: 4.1ms preprocess, 36.8ms inference, 1.3ms postprocess per image at shape (1, 3, 448, 640)\n"
          ]
        },
        {
          "output_type": "stream",
          "name": "stderr",
          "text": [
            "\rProcessing test_images/mistery_cat images:  26%|██▌       | 104/400 [02:04<05:18,  1.08s/it]"
          ]
        },
        {
          "output_type": "stream",
          "name": "stdout",
          "text": [
            "\n",
            "image 1/1 /content/drive/MyDrive/bdma-07-competition/BDMA7_project_files/test_images/mistery_cat/c6ea4d95-4806-4dcb-9ad6-b8769e295b02.jpg: 448x640 1 Bird, 36.9ms\n",
            "Speed: 3.3ms preprocess, 36.9ms inference, 1.3ms postprocess per image at shape (1, 3, 448, 640)\n"
          ]
        },
        {
          "output_type": "stream",
          "name": "stderr",
          "text": [
            "\rProcessing test_images/mistery_cat images:  26%|██▋       | 105/400 [02:05<05:28,  1.11s/it]"
          ]
        },
        {
          "output_type": "stream",
          "name": "stdout",
          "text": [
            "\n",
            "image 1/1 /content/drive/MyDrive/bdma-07-competition/BDMA7_project_files/test_images/mistery_cat/8e3a97c4-5b68-4573-b244-9fc4d43eaa5a.jpg: 448x640 1 Bird, 36.8ms\n",
            "Speed: 3.3ms preprocess, 36.8ms inference, 1.3ms postprocess per image at shape (1, 3, 448, 640)\n"
          ]
        },
        {
          "output_type": "stream",
          "name": "stderr",
          "text": [
            "\rProcessing test_images/mistery_cat images:  26%|██▋       | 106/400 [02:06<05:06,  1.04s/it]"
          ]
        },
        {
          "output_type": "stream",
          "name": "stdout",
          "text": [
            "\n",
            "image 1/1 /content/drive/MyDrive/bdma-07-competition/BDMA7_project_files/test_images/mistery_cat/bb96f6a2-3412-4e37-a051-c9b163af377f.jpg: 448x640 1 Bird, 36.8ms\n",
            "Speed: 3.2ms preprocess, 36.8ms inference, 1.3ms postprocess per image at shape (1, 3, 448, 640)\n"
          ]
        },
        {
          "output_type": "stream",
          "name": "stderr",
          "text": [
            "\rProcessing test_images/mistery_cat images:  27%|██▋       | 107/400 [02:08<05:50,  1.20s/it]"
          ]
        },
        {
          "output_type": "stream",
          "name": "stdout",
          "text": [
            "\n",
            "image 1/1 /content/drive/MyDrive/bdma-07-competition/BDMA7_project_files/test_images/mistery_cat/d5acce80-5a96-4c20-a5fe-00a6cac7fa24.jpg: 512x640 1 Bird, 39.6ms\n",
            "Speed: 3.4ms preprocess, 39.6ms inference, 1.5ms postprocess per image at shape (1, 3, 512, 640)\n"
          ]
        },
        {
          "output_type": "stream",
          "name": "stderr",
          "text": [
            "\rProcessing test_images/mistery_cat images:  27%|██▋       | 108/400 [02:09<05:55,  1.22s/it]"
          ]
        },
        {
          "output_type": "stream",
          "name": "stdout",
          "text": [
            "\n",
            "image 1/1 /content/drive/MyDrive/bdma-07-competition/BDMA7_project_files/test_images/mistery_cat/2aeea850-9153-41f7-805a-8837f15eb303.jpg: 480x640 1 Bird, 38.7ms\n",
            "Speed: 4.8ms preprocess, 38.7ms inference, 1.3ms postprocess per image at shape (1, 3, 480, 640)\n"
          ]
        },
        {
          "output_type": "stream",
          "name": "stderr",
          "text": [
            "\rProcessing test_images/mistery_cat images:  27%|██▋       | 109/400 [02:11<06:22,  1.31s/it]"
          ]
        },
        {
          "output_type": "stream",
          "name": "stdout",
          "text": [
            "\n",
            "image 1/1 /content/drive/MyDrive/bdma-07-competition/BDMA7_project_files/test_images/mistery_cat/a5dc692e-23ee-4360-9ccb-389dadacd43b.jpg: 448x640 1 Bird, 43.8ms\n",
            "Speed: 3.4ms preprocess, 43.8ms inference, 1.9ms postprocess per image at shape (1, 3, 448, 640)\n"
          ]
        },
        {
          "output_type": "stream",
          "name": "stderr",
          "text": [
            "\rProcessing test_images/mistery_cat images:  28%|██▊       | 110/400 [02:11<05:43,  1.18s/it]"
          ]
        },
        {
          "output_type": "stream",
          "name": "stdout",
          "text": [
            "\n",
            "image 1/1 /content/drive/MyDrive/bdma-07-competition/BDMA7_project_files/test_images/mistery_cat/7ee575cf-4da6-44bf-a5cf-4d1a6bde1f9a.jpg: 384x640 1 Bird, 31.8ms\n",
            "Speed: 3.0ms preprocess, 31.8ms inference, 1.3ms postprocess per image at shape (1, 3, 384, 640)\n"
          ]
        },
        {
          "output_type": "stream",
          "name": "stderr",
          "text": [
            "\rProcessing test_images/mistery_cat images:  28%|██▊       | 111/400 [02:13<06:16,  1.30s/it]"
          ]
        },
        {
          "output_type": "stream",
          "name": "stdout",
          "text": [
            "\n",
            "image 1/1 /content/drive/MyDrive/bdma-07-competition/BDMA7_project_files/test_images/mistery_cat/6c478112-ed79-4663-90bc-083ff84e70da.jpg: 448x640 1 Bird, 37.6ms\n",
            "Speed: 3.5ms preprocess, 37.6ms inference, 1.2ms postprocess per image at shape (1, 3, 448, 640)\n"
          ]
        },
        {
          "output_type": "stream",
          "name": "stderr",
          "text": [
            "\rProcessing test_images/mistery_cat images:  28%|██▊       | 112/400 [02:14<05:42,  1.19s/it]"
          ]
        },
        {
          "output_type": "stream",
          "name": "stdout",
          "text": [
            "\n",
            "image 1/1 /content/drive/MyDrive/bdma-07-competition/BDMA7_project_files/test_images/mistery_cat/8f74734f-0e77-4f6f-803c-9776fea8ec2b.jpg: 512x640 1 Bird, 39.0ms\n",
            "Speed: 3.8ms preprocess, 39.0ms inference, 1.2ms postprocess per image at shape (1, 3, 512, 640)\n"
          ]
        },
        {
          "output_type": "stream",
          "name": "stderr",
          "text": [
            "\rProcessing test_images/mistery_cat images:  28%|██▊       | 113/400 [02:15<06:14,  1.30s/it]"
          ]
        },
        {
          "output_type": "stream",
          "name": "stdout",
          "text": [
            "\n",
            "image 1/1 /content/drive/MyDrive/bdma-07-competition/BDMA7_project_files/test_images/mistery_cat/bfc6615c-979d-4c3d-b3f4-98dc8c69de52.jpg: 480x640 1 Bird, 38.6ms\n",
            "Speed: 3.4ms preprocess, 38.6ms inference, 1.2ms postprocess per image at shape (1, 3, 480, 640)\n"
          ]
        },
        {
          "output_type": "stream",
          "name": "stderr",
          "text": [
            "\rProcessing test_images/mistery_cat images:  28%|██▊       | 114/400 [02:17<06:39,  1.40s/it]"
          ]
        },
        {
          "output_type": "stream",
          "name": "stdout",
          "text": [
            "\n",
            "image 1/1 /content/drive/MyDrive/bdma-07-competition/BDMA7_project_files/test_images/mistery_cat/a8ed773c-703d-4ab4-a845-999b803e99c2.jpg: 512x640 1 Bird, 39.3ms\n",
            "Speed: 3.5ms preprocess, 39.3ms inference, 1.3ms postprocess per image at shape (1, 3, 512, 640)\n"
          ]
        },
        {
          "output_type": "stream",
          "name": "stderr",
          "text": [
            "\rProcessing test_images/mistery_cat images:  29%|██▉       | 115/400 [02:18<05:59,  1.26s/it]"
          ]
        },
        {
          "output_type": "stream",
          "name": "stdout",
          "text": [
            "\n",
            "image 1/1 /content/drive/MyDrive/bdma-07-competition/BDMA7_project_files/test_images/mistery_cat/9a8c34de-59bb-4b81-b8b9-e312bc6d70f8.jpg: 448x640 1 Bird, 37.6ms\n",
            "Speed: 3.5ms preprocess, 37.6ms inference, 1.2ms postprocess per image at shape (1, 3, 448, 640)\n"
          ]
        },
        {
          "output_type": "stream",
          "name": "stderr",
          "text": [
            "\rProcessing test_images/mistery_cat images:  29%|██▉       | 116/400 [02:19<05:34,  1.18s/it]"
          ]
        },
        {
          "output_type": "stream",
          "name": "stdout",
          "text": [
            "\n",
            "image 1/1 /content/drive/MyDrive/bdma-07-competition/BDMA7_project_files/test_images/mistery_cat/4310c652-7f6c-46e9-bd3b-9a2b967dd4a8.jpg: 384x640 1 Bird, 31.9ms\n",
            "Speed: 2.9ms preprocess, 31.9ms inference, 1.2ms postprocess per image at shape (1, 3, 384, 640)\n"
          ]
        },
        {
          "output_type": "stream",
          "name": "stderr",
          "text": [
            "\rProcessing test_images/mistery_cat images:  29%|██▉       | 117/400 [02:20<05:08,  1.09s/it]"
          ]
        },
        {
          "output_type": "stream",
          "name": "stdout",
          "text": [
            "\n",
            "image 1/1 /content/drive/MyDrive/bdma-07-competition/BDMA7_project_files/test_images/mistery_cat/0fabe591-d66e-4614-8337-7eb77d20a8e4.jpg: 448x640 1 Bird, 37.9ms\n",
            "Speed: 3.2ms preprocess, 37.9ms inference, 1.3ms postprocess per image at shape (1, 3, 448, 640)\n"
          ]
        },
        {
          "output_type": "stream",
          "name": "stderr",
          "text": [
            "\rProcessing test_images/mistery_cat images:  30%|██▉       | 118/400 [02:21<05:12,  1.11s/it]"
          ]
        },
        {
          "output_type": "stream",
          "name": "stdout",
          "text": [
            "\n",
            "image 1/1 /content/drive/MyDrive/bdma-07-competition/BDMA7_project_files/test_images/mistery_cat/cfe30f63-4b78-499c-bb92-06bb8d3bf402.jpg: 640x512 1 Bird, 36.7ms\n",
            "Speed: 3.6ms preprocess, 36.7ms inference, 1.2ms postprocess per image at shape (1, 3, 640, 512)\n"
          ]
        },
        {
          "output_type": "stream",
          "name": "stderr",
          "text": [
            "\rProcessing test_images/mistery_cat images:  30%|██▉       | 119/400 [02:22<05:04,  1.08s/it]"
          ]
        },
        {
          "output_type": "stream",
          "name": "stdout",
          "text": [
            "\n",
            "image 1/1 /content/drive/MyDrive/bdma-07-competition/BDMA7_project_files/test_images/mistery_cat/d95d7961-c1f7-46c3-96b4-755beb2645d0.jpg: 480x640 1 Bird, 40.9ms\n",
            "Speed: 3.4ms preprocess, 40.9ms inference, 1.9ms postprocess per image at shape (1, 3, 480, 640)\n"
          ]
        },
        {
          "output_type": "stream",
          "name": "stderr",
          "text": [
            "\rProcessing test_images/mistery_cat images:  30%|███       | 120/400 [02:24<05:48,  1.24s/it]"
          ]
        },
        {
          "output_type": "stream",
          "name": "stdout",
          "text": [
            "\n",
            "image 1/1 /content/drive/MyDrive/bdma-07-competition/BDMA7_project_files/test_images/mistery_cat/4b29c389-e487-46a5-9773-c26cfd27a04b.jpg: 640x384 1 Bird, 38.8ms\n",
            "Speed: 2.7ms preprocess, 38.8ms inference, 1.8ms postprocess per image at shape (1, 3, 640, 384)\n"
          ]
        },
        {
          "output_type": "stream",
          "name": "stderr",
          "text": [
            "\rProcessing test_images/mistery_cat images:  30%|███       | 121/400 [02:25<05:28,  1.18s/it]"
          ]
        },
        {
          "output_type": "stream",
          "name": "stdout",
          "text": [
            "\n",
            "image 1/1 /content/drive/MyDrive/bdma-07-competition/BDMA7_project_files/test_images/mistery_cat/d6a6ee97-868a-4066-a99f-5ba42987353f.jpg: 480x640 1 Bird, 38.6ms\n",
            "Speed: 3.5ms preprocess, 38.6ms inference, 1.3ms postprocess per image at shape (1, 3, 480, 640)\n"
          ]
        },
        {
          "output_type": "stream",
          "name": "stderr",
          "text": [
            "\rProcessing test_images/mistery_cat images:  30%|███       | 122/400 [02:26<05:14,  1.13s/it]"
          ]
        },
        {
          "output_type": "stream",
          "name": "stdout",
          "text": [
            "\n",
            "image 1/1 /content/drive/MyDrive/bdma-07-competition/BDMA7_project_files/test_images/mistery_cat/19049bce-8219-4265-80d5-79f5add51ac8.jpg: 448x640 1 Bird, 37.6ms\n",
            "Speed: 3.4ms preprocess, 37.6ms inference, 1.2ms postprocess per image at shape (1, 3, 448, 640)\n"
          ]
        },
        {
          "output_type": "stream",
          "name": "stderr",
          "text": [
            "\rProcessing test_images/mistery_cat images:  31%|███       | 123/400 [02:27<05:50,  1.26s/it]"
          ]
        },
        {
          "output_type": "stream",
          "name": "stdout",
          "text": [
            "\n",
            "image 1/1 /content/drive/MyDrive/bdma-07-competition/BDMA7_project_files/test_images/mistery_cat/a4d99739-b091-45e0-9d7e-50cbdaef6240.jpg: 448x640 1 Bird, 36.8ms\n",
            "Speed: 3.2ms preprocess, 36.8ms inference, 1.3ms postprocess per image at shape (1, 3, 448, 640)\n"
          ]
        },
        {
          "output_type": "stream",
          "name": "stderr",
          "text": [
            "\rProcessing test_images/mistery_cat images:  31%|███       | 124/400 [02:28<05:21,  1.16s/it]"
          ]
        },
        {
          "output_type": "stream",
          "name": "stdout",
          "text": [
            "\n",
            "image 1/1 /content/drive/MyDrive/bdma-07-competition/BDMA7_project_files/test_images/mistery_cat/3b881b35-ad5b-41d4-9439-092ac64185dd.jpg: 640x608 1 Bird, 47.6ms\n",
            "Speed: 4.1ms preprocess, 47.6ms inference, 1.3ms postprocess per image at shape (1, 3, 640, 608)\n"
          ]
        },
        {
          "output_type": "stream",
          "name": "stderr",
          "text": [
            "\rProcessing test_images/mistery_cat images:  31%|███▏      | 125/400 [02:30<05:44,  1.25s/it]"
          ]
        },
        {
          "output_type": "stream",
          "name": "stdout",
          "text": [
            "\n",
            "image 1/1 /content/drive/MyDrive/bdma-07-competition/BDMA7_project_files/test_images/mistery_cat/75a1be46-4436-4c83-846b-130e3816aef1.jpg: 640x512 1 Bird, 36.7ms\n",
            "Speed: 3.9ms preprocess, 36.7ms inference, 1.3ms postprocess per image at shape (1, 3, 640, 512)\n"
          ]
        },
        {
          "output_type": "stream",
          "name": "stderr",
          "text": [
            "\rProcessing test_images/mistery_cat images:  32%|███▏      | 126/400 [02:31<05:15,  1.15s/it]"
          ]
        },
        {
          "output_type": "stream",
          "name": "stdout",
          "text": [
            "\n",
            "image 1/1 /content/drive/MyDrive/bdma-07-competition/BDMA7_project_files/test_images/mistery_cat/8673914f-dc41-4963-a65d-9fbb4557f235.jpg: 640x608 1 Bird, 47.6ms\n",
            "Speed: 4.2ms preprocess, 47.6ms inference, 1.2ms postprocess per image at shape (1, 3, 640, 608)\n"
          ]
        },
        {
          "output_type": "stream",
          "name": "stderr",
          "text": [
            "\rProcessing test_images/mistery_cat images:  32%|███▏      | 127/400 [02:32<05:21,  1.18s/it]"
          ]
        },
        {
          "output_type": "stream",
          "name": "stdout",
          "text": [
            "\n",
            "image 1/1 /content/drive/MyDrive/bdma-07-competition/BDMA7_project_files/test_images/mistery_cat/2587846f-95d3-4adc-9209-b291a1d428c2.jpg: 640x448 1 Bird, 35.8ms\n",
            "Speed: 3.2ms preprocess, 35.8ms inference, 1.4ms postprocess per image at shape (1, 3, 640, 448)\n"
          ]
        },
        {
          "output_type": "stream",
          "name": "stderr",
          "text": [
            "\rProcessing test_images/mistery_cat images:  32%|███▏      | 128/400 [02:33<05:23,  1.19s/it]"
          ]
        },
        {
          "output_type": "stream",
          "name": "stdout",
          "text": [
            "\n",
            "image 1/1 /content/drive/MyDrive/bdma-07-competition/BDMA7_project_files/test_images/mistery_cat/5b68738a-b853-418e-b967-ed3c43d32665.jpg: 640x640 1 Bird, 48.3ms\n",
            "Speed: 4.0ms preprocess, 48.3ms inference, 1.3ms postprocess per image at shape (1, 3, 640, 640)\n"
          ]
        },
        {
          "output_type": "stream",
          "name": "stderr",
          "text": [
            "\rProcessing test_images/mistery_cat images:  32%|███▏      | 129/400 [02:34<05:28,  1.21s/it]"
          ]
        },
        {
          "output_type": "stream",
          "name": "stdout",
          "text": [
            "\n",
            "image 1/1 /content/drive/MyDrive/bdma-07-competition/BDMA7_project_files/test_images/mistery_cat/811c4726-702b-42b9-9215-82df3e03bd86.jpg: 448x640 1 Bird, 40.9ms\n",
            "Speed: 3.3ms preprocess, 40.9ms inference, 1.5ms postprocess per image at shape (1, 3, 448, 640)\n"
          ]
        },
        {
          "output_type": "stream",
          "name": "stderr",
          "text": [
            "\rProcessing test_images/mistery_cat images:  32%|███▎      | 130/400 [02:36<05:36,  1.24s/it]"
          ]
        },
        {
          "output_type": "stream",
          "name": "stdout",
          "text": [
            "\n",
            "image 1/1 /content/drive/MyDrive/bdma-07-competition/BDMA7_project_files/test_images/mistery_cat/7a54a04d-18fe-4a7f-8972-6a46340b1c98.jpg: 480x640 1 Bird, 39.9ms\n",
            "Speed: 3.6ms preprocess, 39.9ms inference, 1.6ms postprocess per image at shape (1, 3, 480, 640)\n"
          ]
        },
        {
          "output_type": "stream",
          "name": "stderr",
          "text": [
            "\rProcessing test_images/mistery_cat images:  33%|███▎      | 131/400 [02:37<05:35,  1.25s/it]"
          ]
        },
        {
          "output_type": "stream",
          "name": "stdout",
          "text": [
            "\n",
            "image 1/1 /content/drive/MyDrive/bdma-07-competition/BDMA7_project_files/test_images/mistery_cat/26b07112-c0c2-4820-bff7-339ddd8a1f42.jpg: 512x640 1 Bird, 39.0ms\n",
            "Speed: 3.7ms preprocess, 39.0ms inference, 1.3ms postprocess per image at shape (1, 3, 512, 640)\n"
          ]
        },
        {
          "output_type": "stream",
          "name": "stderr",
          "text": [
            "\rProcessing test_images/mistery_cat images:  33%|███▎      | 132/400 [02:38<05:15,  1.18s/it]"
          ]
        },
        {
          "output_type": "stream",
          "name": "stdout",
          "text": [
            "\n",
            "image 1/1 /content/drive/MyDrive/bdma-07-competition/BDMA7_project_files/test_images/mistery_cat/17b9d226-c09f-4c7e-a9d4-93360cd5987d.jpg: 640x480 1 Bird, 36.8ms\n",
            "Speed: 3.6ms preprocess, 36.8ms inference, 1.2ms postprocess per image at shape (1, 3, 640, 480)\n"
          ]
        },
        {
          "output_type": "stream",
          "name": "stderr",
          "text": [
            "\rProcessing test_images/mistery_cat images:  33%|███▎      | 133/400 [02:39<05:43,  1.29s/it]"
          ]
        },
        {
          "output_type": "stream",
          "name": "stdout",
          "text": [
            "\n",
            "image 1/1 /content/drive/MyDrive/bdma-07-competition/BDMA7_project_files/test_images/mistery_cat/cc18ec0f-d7f6-4476-a805-87e53846f927.jpg: 416x640 1 Bird, 37.1ms\n",
            "Speed: 3.1ms preprocess, 37.1ms inference, 1.2ms postprocess per image at shape (1, 3, 416, 640)\n"
          ]
        },
        {
          "output_type": "stream",
          "name": "stderr",
          "text": [
            "\rProcessing test_images/mistery_cat images:  34%|███▎      | 134/400 [02:40<05:13,  1.18s/it]"
          ]
        },
        {
          "output_type": "stream",
          "name": "stdout",
          "text": [
            "\n",
            "image 1/1 /content/drive/MyDrive/bdma-07-competition/BDMA7_project_files/test_images/mistery_cat/59e26b6b-9cd3-4aea-b732-4d923101cfe8.jpg: 480x640 1 Bird, 39.5ms\n",
            "Speed: 3.2ms preprocess, 39.5ms inference, 1.2ms postprocess per image at shape (1, 3, 480, 640)\n"
          ]
        },
        {
          "output_type": "stream",
          "name": "stderr",
          "text": [
            "\rProcessing test_images/mistery_cat images:  34%|███▍      | 135/400 [02:42<05:24,  1.23s/it]"
          ]
        },
        {
          "output_type": "stream",
          "name": "stdout",
          "text": [
            "\n",
            "image 1/1 /content/drive/MyDrive/bdma-07-competition/BDMA7_project_files/test_images/mistery_cat/891622b2-8cbf-407b-b518-58c3c2b98f49.jpg: 640x608 1 Bird, 47.5ms\n",
            "Speed: 4.4ms preprocess, 47.5ms inference, 1.3ms postprocess per image at shape (1, 3, 640, 608)\n"
          ]
        },
        {
          "output_type": "stream",
          "name": "stderr",
          "text": [
            "\rProcessing test_images/mistery_cat images:  34%|███▍      | 136/400 [02:43<05:32,  1.26s/it]"
          ]
        },
        {
          "output_type": "stream",
          "name": "stdout",
          "text": [
            "\n",
            "image 1/1 /content/drive/MyDrive/bdma-07-competition/BDMA7_project_files/test_images/mistery_cat/3f557abe-a256-42a7-896b-5306745d582f.jpg: 448x640 1 Bird, 37.6ms\n",
            "Speed: 3.3ms preprocess, 37.6ms inference, 1.5ms postprocess per image at shape (1, 3, 448, 640)\n"
          ]
        },
        {
          "output_type": "stream",
          "name": "stderr",
          "text": [
            "\rProcessing test_images/mistery_cat images:  34%|███▍      | 137/400 [02:44<05:06,  1.16s/it]"
          ]
        },
        {
          "output_type": "stream",
          "name": "stdout",
          "text": [
            "\n",
            "image 1/1 /content/drive/MyDrive/bdma-07-competition/BDMA7_project_files/test_images/mistery_cat/15894ced-30fe-42ca-9345-16437772b6f2.jpg: 448x640 1 Bird, 36.8ms\n",
            "Speed: 3.3ms preprocess, 36.8ms inference, 1.3ms postprocess per image at shape (1, 3, 448, 640)\n"
          ]
        },
        {
          "output_type": "stream",
          "name": "stderr",
          "text": [
            "\rProcessing test_images/mistery_cat images:  34%|███▍      | 138/400 [02:46<05:35,  1.28s/it]"
          ]
        },
        {
          "output_type": "stream",
          "name": "stdout",
          "text": [
            "\n",
            "image 1/1 /content/drive/MyDrive/bdma-07-competition/BDMA7_project_files/test_images/mistery_cat/a61ff1da-bfa9-4fbf-a1e2-1a680df0e79e.jpg: 448x640 1 Bird, 36.8ms\n",
            "Speed: 3.1ms preprocess, 36.8ms inference, 1.3ms postprocess per image at shape (1, 3, 448, 640)\n"
          ]
        },
        {
          "output_type": "stream",
          "name": "stderr",
          "text": [
            "\rProcessing test_images/mistery_cat images:  35%|███▍      | 139/400 [02:47<05:10,  1.19s/it]"
          ]
        },
        {
          "output_type": "stream",
          "name": "stdout",
          "text": [
            "\n",
            "image 1/1 /content/drive/MyDrive/bdma-07-competition/BDMA7_project_files/test_images/mistery_cat/ba627e33-5f7a-48c7-9af3-35eaef16ddfd.jpg: 640x416 1 Bird, 37.3ms\n",
            "Speed: 3.0ms preprocess, 37.3ms inference, 1.8ms postprocess per image at shape (1, 3, 640, 416)\n"
          ]
        },
        {
          "output_type": "stream",
          "name": "stderr",
          "text": [
            "\rProcessing test_images/mistery_cat images:  35%|███▌      | 140/400 [02:47<04:49,  1.11s/it]"
          ]
        },
        {
          "output_type": "stream",
          "name": "stdout",
          "text": [
            "\n",
            "image 1/1 /content/drive/MyDrive/bdma-07-competition/BDMA7_project_files/test_images/mistery_cat/6bb0ffd7-3be6-45b8-a708-e89c6f6f300b.jpg: 640x512 1 Bird, 42.9ms\n",
            "Speed: 4.8ms preprocess, 42.9ms inference, 1.5ms postprocess per image at shape (1, 3, 640, 512)\n"
          ]
        },
        {
          "output_type": "stream",
          "name": "stderr",
          "text": [
            "\rProcessing test_images/mistery_cat images:  35%|███▌      | 141/400 [02:49<05:28,  1.27s/it]"
          ]
        },
        {
          "output_type": "stream",
          "name": "stdout",
          "text": [
            "\n",
            "image 1/1 /content/drive/MyDrive/bdma-07-competition/BDMA7_project_files/test_images/mistery_cat/5096e9b2-6587-44be-86df-0674b6556da9.jpg: 640x544 1 Bird, 46.4ms\n",
            "Speed: 4.4ms preprocess, 46.4ms inference, 1.3ms postprocess per image at shape (1, 3, 640, 544)\n"
          ]
        },
        {
          "output_type": "stream",
          "name": "stderr",
          "text": [
            "\rProcessing test_images/mistery_cat images:  36%|███▌      | 142/400 [02:50<05:04,  1.18s/it]"
          ]
        },
        {
          "output_type": "stream",
          "name": "stdout",
          "text": [
            "\n",
            "image 1/1 /content/drive/MyDrive/bdma-07-competition/BDMA7_project_files/test_images/mistery_cat/54227946-ba52-4352-acf5-2e1dcc2b4419.jpg: 640x448 1 Bird, 35.9ms\n",
            "Speed: 3.2ms preprocess, 35.9ms inference, 1.7ms postprocess per image at shape (1, 3, 640, 448)\n"
          ]
        },
        {
          "output_type": "stream",
          "name": "stderr",
          "text": [
            "\rProcessing test_images/mistery_cat images:  36%|███▌      | 143/400 [02:51<05:12,  1.21s/it]"
          ]
        },
        {
          "output_type": "stream",
          "name": "stdout",
          "text": [
            "\n",
            "image 1/1 /content/drive/MyDrive/bdma-07-competition/BDMA7_project_files/test_images/mistery_cat/3c70f9fa-cb80-44a4-9aef-36aa6cbaa1d1.jpg: 448x640 1 Bird, 37.6ms\n",
            "Speed: 3.1ms preprocess, 37.6ms inference, 1.3ms postprocess per image at shape (1, 3, 448, 640)\n"
          ]
        },
        {
          "output_type": "stream",
          "name": "stderr",
          "text": [
            "\rProcessing test_images/mistery_cat images:  36%|███▌      | 144/400 [02:52<04:47,  1.12s/it]"
          ]
        },
        {
          "output_type": "stream",
          "name": "stdout",
          "text": [
            "\n",
            "image 1/1 /content/drive/MyDrive/bdma-07-competition/BDMA7_project_files/test_images/mistery_cat/99a116a0-f9a1-4983-95de-cd27ef5276f2.jpg: 544x640 1 Bird, 46.1ms\n",
            "Speed: 4.0ms preprocess, 46.1ms inference, 1.3ms postprocess per image at shape (1, 3, 544, 640)\n"
          ]
        },
        {
          "output_type": "stream",
          "name": "stderr",
          "text": [
            "\rProcessing test_images/mistery_cat images:  36%|███▋      | 145/400 [02:53<04:48,  1.13s/it]"
          ]
        },
        {
          "output_type": "stream",
          "name": "stdout",
          "text": [
            "\n",
            "image 1/1 /content/drive/MyDrive/bdma-07-competition/BDMA7_project_files/test_images/mistery_cat/aaf2ad59-b505-4d6a-8ff4-848d3fd3aa1e.jpg: 640x576 1 Bird, 46.8ms\n",
            "Speed: 4.6ms preprocess, 46.8ms inference, 1.3ms postprocess per image at shape (1, 3, 640, 576)\n"
          ]
        },
        {
          "output_type": "stream",
          "name": "stderr",
          "text": [
            "\rProcessing test_images/mistery_cat images:  36%|███▋      | 146/400 [02:55<05:18,  1.25s/it]"
          ]
        },
        {
          "output_type": "stream",
          "name": "stdout",
          "text": [
            "\n",
            "image 1/1 /content/drive/MyDrive/bdma-07-competition/BDMA7_project_files/test_images/mistery_cat/77ffaa64-e53b-4d17-870c-6580f430c581.jpg: 512x640 1 Bird, 39.1ms\n",
            "Speed: 3.8ms preprocess, 39.1ms inference, 1.4ms postprocess per image at shape (1, 3, 512, 640)\n"
          ]
        },
        {
          "output_type": "stream",
          "name": "stderr",
          "text": [
            "\rProcessing test_images/mistery_cat images:  37%|███▋      | 147/400 [02:56<04:58,  1.18s/it]"
          ]
        },
        {
          "output_type": "stream",
          "name": "stdout",
          "text": [
            "\n",
            "image 1/1 /content/drive/MyDrive/bdma-07-competition/BDMA7_project_files/test_images/mistery_cat/30b4b83f-1559-464f-a729-cf8679f73077.jpg: 640x448 1 Bird, 35.7ms\n",
            "Speed: 5.1ms preprocess, 35.7ms inference, 1.3ms postprocess per image at shape (1, 3, 640, 448)\n"
          ]
        },
        {
          "output_type": "stream",
          "name": "stderr",
          "text": [
            "\rProcessing test_images/mistery_cat images:  37%|███▋      | 148/400 [02:57<04:38,  1.11s/it]"
          ]
        },
        {
          "output_type": "stream",
          "name": "stdout",
          "text": [
            "\n",
            "image 1/1 /content/drive/MyDrive/bdma-07-competition/BDMA7_project_files/test_images/mistery_cat/c7ccbe97-a9a7-434c-b505-c06a765aa04a.jpg: 480x640 1 Bird, 38.6ms\n",
            "Speed: 3.4ms preprocess, 38.6ms inference, 1.2ms postprocess per image at shape (1, 3, 480, 640)\n"
          ]
        },
        {
          "output_type": "stream",
          "name": "stderr",
          "text": [
            "\rProcessing test_images/mistery_cat images:  37%|███▋      | 149/400 [02:59<05:15,  1.26s/it]"
          ]
        },
        {
          "output_type": "stream",
          "name": "stdout",
          "text": [
            "\n",
            "image 1/1 /content/drive/MyDrive/bdma-07-competition/BDMA7_project_files/test_images/mistery_cat/78429bb9-88f0-400c-9685-ea004ef3f505.jpg: 384x640 1 Bird, 32.2ms\n",
            "Speed: 2.9ms preprocess, 32.2ms inference, 1.8ms postprocess per image at shape (1, 3, 384, 640)\n"
          ]
        },
        {
          "output_type": "stream",
          "name": "stderr",
          "text": [
            "\rProcessing test_images/mistery_cat images:  38%|███▊      | 150/400 [03:00<05:10,  1.24s/it]"
          ]
        },
        {
          "output_type": "stream",
          "name": "stdout",
          "text": [
            "\n",
            "image 1/1 /content/drive/MyDrive/bdma-07-competition/BDMA7_project_files/test_images/mistery_cat/bdd0ff70-b8ee-4353-8dca-e38073069cf8.jpg: 512x640 1 Bird, 39.3ms\n",
            "Speed: 4.5ms preprocess, 39.3ms inference, 1.7ms postprocess per image at shape (1, 3, 512, 640)\n"
          ]
        },
        {
          "output_type": "stream",
          "name": "stderr",
          "text": [
            "\rProcessing test_images/mistery_cat images:  38%|███▊      | 151/400 [03:01<05:38,  1.36s/it]"
          ]
        },
        {
          "output_type": "stream",
          "name": "stdout",
          "text": [
            "\n",
            "image 1/1 /content/drive/MyDrive/bdma-07-competition/BDMA7_project_files/test_images/mistery_cat/76a470cb-8867-4e2f-8abb-25d06e2d7221.jpg: 480x640 1 Bird, 38.6ms\n",
            "Speed: 3.5ms preprocess, 38.6ms inference, 1.2ms postprocess per image at shape (1, 3, 480, 640)\n"
          ]
        },
        {
          "output_type": "stream",
          "name": "stderr",
          "text": [
            "\rProcessing test_images/mistery_cat images:  38%|███▊      | 152/400 [03:03<05:46,  1.40s/it]"
          ]
        },
        {
          "output_type": "stream",
          "name": "stdout",
          "text": [
            "\n",
            "image 1/1 /content/drive/MyDrive/bdma-07-competition/BDMA7_project_files/test_images/mistery_cat/4eb59185-1ba8-464d-abbf-a26a614de983.jpg: 448x640 1 Bird, 37.6ms\n",
            "Speed: 3.3ms preprocess, 37.6ms inference, 1.2ms postprocess per image at shape (1, 3, 448, 640)\n"
          ]
        },
        {
          "output_type": "stream",
          "name": "stderr",
          "text": [
            "\rProcessing test_images/mistery_cat images:  38%|███▊      | 153/400 [03:04<05:14,  1.27s/it]"
          ]
        },
        {
          "output_type": "stream",
          "name": "stdout",
          "text": [
            "\n",
            "image 1/1 /content/drive/MyDrive/bdma-07-competition/BDMA7_project_files/test_images/mistery_cat/b64f77f3-c9b8-4fc1-a17e-26d20a3e4832.jpg: 384x640 1 Bird, 31.9ms\n",
            "Speed: 2.9ms preprocess, 31.9ms inference, 1.5ms postprocess per image at shape (1, 3, 384, 640)\n"
          ]
        },
        {
          "output_type": "stream",
          "name": "stderr",
          "text": [
            "\rProcessing test_images/mistery_cat images:  38%|███▊      | 154/400 [03:05<04:54,  1.20s/it]"
          ]
        },
        {
          "output_type": "stream",
          "name": "stdout",
          "text": [
            "\n",
            "image 1/1 /content/drive/MyDrive/bdma-07-competition/BDMA7_project_files/test_images/mistery_cat/85edf67e-0429-48b9-b4c4-f5ce19a520fd.jpg: 512x640 1 Bird, 39.2ms\n",
            "Speed: 3.8ms preprocess, 39.2ms inference, 1.3ms postprocess per image at shape (1, 3, 512, 640)\n"
          ]
        },
        {
          "output_type": "stream",
          "name": "stderr",
          "text": [
            "\rProcessing test_images/mistery_cat images:  39%|███▉      | 155/400 [03:06<04:37,  1.13s/it]"
          ]
        },
        {
          "output_type": "stream",
          "name": "stdout",
          "text": [
            "\n",
            "image 1/1 /content/drive/MyDrive/bdma-07-competition/BDMA7_project_files/test_images/mistery_cat/113cf8ea-1413-431b-bd29-ad361b269c29.jpg: 448x640 1 Bird, 37.6ms\n",
            "Speed: 3.2ms preprocess, 37.6ms inference, 1.5ms postprocess per image at shape (1, 3, 448, 640)\n"
          ]
        },
        {
          "output_type": "stream",
          "name": "stderr",
          "text": [
            "\rProcessing test_images/mistery_cat images:  39%|███▉      | 156/400 [03:07<04:30,  1.11s/it]"
          ]
        },
        {
          "output_type": "stream",
          "name": "stdout",
          "text": [
            "\n",
            "image 1/1 /content/drive/MyDrive/bdma-07-competition/BDMA7_project_files/test_images/mistery_cat/c2b54580-243c-4973-a0a1-ecdb33e813ae.jpg: 544x640 1 Bird, 46.0ms\n",
            "Speed: 4.1ms preprocess, 46.0ms inference, 1.3ms postprocess per image at shape (1, 3, 544, 640)\n"
          ]
        },
        {
          "output_type": "stream",
          "name": "stderr",
          "text": [
            "\rProcessing test_images/mistery_cat images:  39%|███▉      | 157/400 [03:08<04:12,  1.04s/it]"
          ]
        },
        {
          "output_type": "stream",
          "name": "stdout",
          "text": [
            "\n",
            "image 1/1 /content/drive/MyDrive/bdma-07-competition/BDMA7_project_files/test_images/mistery_cat/26742b0f-4923-48f5-ad8e-9c3863d8f174.jpg: 448x640 1 Bird, 37.7ms\n",
            "Speed: 3.2ms preprocess, 37.7ms inference, 1.2ms postprocess per image at shape (1, 3, 448, 640)\n"
          ]
        },
        {
          "output_type": "stream",
          "name": "stderr",
          "text": [
            "\rProcessing test_images/mistery_cat images:  40%|███▉      | 158/400 [03:09<04:51,  1.21s/it]"
          ]
        },
        {
          "output_type": "stream",
          "name": "stdout",
          "text": [
            "\n",
            "image 1/1 /content/drive/MyDrive/bdma-07-competition/BDMA7_project_files/test_images/mistery_cat/9ee79350-105a-438e-9a04-a8e9c8f71a1e.jpg: 640x448 1 Bird, 35.8ms\n",
            "Speed: 3.3ms preprocess, 35.8ms inference, 1.3ms postprocess per image at shape (1, 3, 640, 448)\n"
          ]
        },
        {
          "output_type": "stream",
          "name": "stderr",
          "text": [
            "\rProcessing test_images/mistery_cat images:  40%|███▉      | 159/400 [03:11<05:10,  1.29s/it]"
          ]
        },
        {
          "output_type": "stream",
          "name": "stdout",
          "text": [
            "\n",
            "image 1/1 /content/drive/MyDrive/bdma-07-competition/BDMA7_project_files/test_images/mistery_cat/b3feeafc-5e5b-405d-af8a-c2c57952677f.jpg: 608x640 1 Bird, 47.6ms\n",
            "Speed: 4.2ms preprocess, 47.6ms inference, 1.3ms postprocess per image at shape (1, 3, 608, 640)\n"
          ]
        },
        {
          "output_type": "stream",
          "name": "stderr",
          "text": [
            "\rProcessing test_images/mistery_cat images:  40%|████      | 160/400 [03:12<04:41,  1.17s/it]"
          ]
        },
        {
          "output_type": "stream",
          "name": "stdout",
          "text": [
            "\n",
            "image 1/1 /content/drive/MyDrive/bdma-07-competition/BDMA7_project_files/test_images/mistery_cat/0a20475e-4a4f-478f-afe6-bf27667c7d97.jpg: 544x640 1 Bird, 46.1ms\n",
            "Speed: 3.9ms preprocess, 46.1ms inference, 1.5ms postprocess per image at shape (1, 3, 544, 640)\n"
          ]
        },
        {
          "output_type": "stream",
          "name": "stderr",
          "text": [
            "\rProcessing test_images/mistery_cat images:  40%|████      | 161/400 [03:13<05:17,  1.33s/it]"
          ]
        },
        {
          "output_type": "stream",
          "name": "stdout",
          "text": [
            "\n",
            "image 1/1 /content/drive/MyDrive/bdma-07-competition/BDMA7_project_files/test_images/mistery_cat/bb0a6071-18a8-47ea-808c-418c059d4816.jpg: 448x640 1 Bird, 39.0ms\n",
            "Speed: 3.3ms preprocess, 39.0ms inference, 1.2ms postprocess per image at shape (1, 3, 448, 640)\n"
          ]
        },
        {
          "output_type": "stream",
          "name": "stderr",
          "text": [
            "\rProcessing test_images/mistery_cat images:  40%|████      | 162/400 [03:14<04:52,  1.23s/it]"
          ]
        },
        {
          "output_type": "stream",
          "name": "stdout",
          "text": [
            "\n",
            "image 1/1 /content/drive/MyDrive/bdma-07-competition/BDMA7_project_files/test_images/mistery_cat/06f5724d-677e-49ff-abfb-0b21a9592180.jpg: 448x640 1 Bird, 36.8ms\n",
            "Speed: 3.3ms preprocess, 36.8ms inference, 1.3ms postprocess per image at shape (1, 3, 448, 640)\n"
          ]
        },
        {
          "output_type": "stream",
          "name": "stderr",
          "text": [
            "\rProcessing test_images/mistery_cat images:  41%|████      | 163/400 [03:15<04:25,  1.12s/it]"
          ]
        },
        {
          "output_type": "stream",
          "name": "stdout",
          "text": [
            "\n",
            "image 1/1 /content/drive/MyDrive/bdma-07-competition/BDMA7_project_files/test_images/mistery_cat/8588952e-90f1-4f0e-bf3d-bded575d5fcd.jpg: 480x640 2 Birds, 38.6ms\n",
            "Speed: 3.7ms preprocess, 38.6ms inference, 1.3ms postprocess per image at shape (1, 3, 480, 640)\n"
          ]
        },
        {
          "output_type": "stream",
          "name": "stderr",
          "text": [
            "\rProcessing test_images/mistery_cat images:  41%|████      | 164/400 [03:16<04:23,  1.12s/it]"
          ]
        },
        {
          "output_type": "stream",
          "name": "stdout",
          "text": [
            "\n",
            "image 1/1 /content/drive/MyDrive/bdma-07-competition/BDMA7_project_files/test_images/mistery_cat/699d494e-c6e5-4c01-b6ae-78888257c953.jpg: 448x640 1 Bird, 37.6ms\n",
            "Speed: 3.3ms preprocess, 37.6ms inference, 1.3ms postprocess per image at shape (1, 3, 448, 640)\n"
          ]
        },
        {
          "output_type": "stream",
          "name": "stderr",
          "text": [
            "\rProcessing test_images/mistery_cat images:  41%|████▏     | 165/400 [03:17<04:06,  1.05s/it]"
          ]
        },
        {
          "output_type": "stream",
          "name": "stdout",
          "text": [
            "\n",
            "image 1/1 /content/drive/MyDrive/bdma-07-competition/BDMA7_project_files/test_images/mistery_cat/9328ae1b-b7e7-4fbc-b1a0-86224fb9120d.jpg: 640x544 1 Bird, 46.6ms\n",
            "Speed: 3.9ms preprocess, 46.6ms inference, 1.3ms postprocess per image at shape (1, 3, 640, 544)\n"
          ]
        },
        {
          "output_type": "stream",
          "name": "stderr",
          "text": [
            "\rProcessing test_images/mistery_cat images:  42%|████▏     | 166/400 [03:18<03:59,  1.02s/it]"
          ]
        },
        {
          "output_type": "stream",
          "name": "stdout",
          "text": [
            "\n",
            "image 1/1 /content/drive/MyDrive/bdma-07-competition/BDMA7_project_files/test_images/mistery_cat/a15058f9-651b-45d9-8bfa-8065c6973199.jpg: 640x512 1 Bird, 36.7ms\n",
            "Speed: 3.6ms preprocess, 36.7ms inference, 1.3ms postprocess per image at shape (1, 3, 640, 512)\n"
          ]
        },
        {
          "output_type": "stream",
          "name": "stderr",
          "text": [
            "\rProcessing test_images/mistery_cat images:  42%|████▏     | 167/400 [03:19<03:49,  1.01it/s]"
          ]
        },
        {
          "output_type": "stream",
          "name": "stdout",
          "text": [
            "\n",
            "image 1/1 /content/drive/MyDrive/bdma-07-competition/BDMA7_project_files/test_images/mistery_cat/dbc5da34-0395-41be-b064-1d14bb7fddef.jpg: 512x640 1 Bird, 39.1ms\n",
            "Speed: 3.9ms preprocess, 39.1ms inference, 1.3ms postprocess per image at shape (1, 3, 512, 640)\n"
          ]
        },
        {
          "output_type": "stream",
          "name": "stderr",
          "text": [
            "\rProcessing test_images/mistery_cat images:  42%|████▏     | 168/400 [03:20<03:43,  1.04it/s]"
          ]
        },
        {
          "output_type": "stream",
          "name": "stdout",
          "text": [
            "\n",
            "image 1/1 /content/drive/MyDrive/bdma-07-competition/BDMA7_project_files/test_images/mistery_cat/a0fe72a1-1574-4645-85f5-90fbe9831b36.jpg: 480x640 1 Bird, 38.6ms\n",
            "Speed: 3.5ms preprocess, 38.6ms inference, 1.5ms postprocess per image at shape (1, 3, 480, 640)\n"
          ]
        },
        {
          "output_type": "stream",
          "name": "stderr",
          "text": [
            "\rProcessing test_images/mistery_cat images:  42%|████▏     | 169/400 [03:21<03:43,  1.03it/s]"
          ]
        },
        {
          "output_type": "stream",
          "name": "stdout",
          "text": [
            "\n",
            "image 1/1 /content/drive/MyDrive/bdma-07-competition/BDMA7_project_files/test_images/mistery_cat/ed447ee6-c991-4d71-9186-b3c27e91519f.jpg: 448x640 (no detections), 37.7ms\n",
            "Speed: 3.4ms preprocess, 37.7ms inference, 0.6ms postprocess per image at shape (1, 3, 448, 640)\n"
          ]
        },
        {
          "output_type": "stream",
          "name": "stderr",
          "text": [
            "\rProcessing test_images/mistery_cat images:  42%|████▎     | 170/400 [03:22<03:55,  1.02s/it]"
          ]
        },
        {
          "output_type": "stream",
          "name": "stdout",
          "text": [
            "Warning: No objects detected in /content/drive/MyDrive/bdma-07-competition/BDMA7_project_files/test_images/mistery_cat/ed447ee6-c991-4d71-9186-b3c27e91519f.jpg, skipping cropping.\n",
            "\n",
            "image 1/1 /content/drive/MyDrive/bdma-07-competition/BDMA7_project_files/test_images/mistery_cat/89cb4c8e-e931-4e4f-bcb3-0455c5868b62.jpg: 480x640 1 Bird, 38.6ms\n",
            "Speed: 3.8ms preprocess, 38.6ms inference, 1.3ms postprocess per image at shape (1, 3, 480, 640)\n"
          ]
        },
        {
          "output_type": "stream",
          "name": "stderr",
          "text": [
            "\rProcessing test_images/mistery_cat images:  43%|████▎     | 171/400 [03:24<04:32,  1.19s/it]"
          ]
        },
        {
          "output_type": "stream",
          "name": "stdout",
          "text": [
            "\n",
            "image 1/1 /content/drive/MyDrive/bdma-07-competition/BDMA7_project_files/test_images/mistery_cat/fda80014-69af-4b5f-aeb8-9e1e31f27f01.jpg: 480x640 1 Bird, 38.0ms\n",
            "Speed: 15.0ms preprocess, 38.0ms inference, 1.6ms postprocess per image at shape (1, 3, 480, 640)\n"
          ]
        },
        {
          "output_type": "stream",
          "name": "stderr",
          "text": [
            "\rProcessing test_images/mistery_cat images:  43%|████▎     | 172/400 [03:25<05:05,  1.34s/it]"
          ]
        },
        {
          "output_type": "stream",
          "name": "stdout",
          "text": [
            "\n",
            "image 1/1 /content/drive/MyDrive/bdma-07-competition/BDMA7_project_files/test_images/mistery_cat/36ac413a-1beb-480d-b098-35bd7f9617e8.jpg: 448x640 1 Bird, 38.9ms\n",
            "Speed: 3.7ms preprocess, 38.9ms inference, 2.2ms postprocess per image at shape (1, 3, 448, 640)\n"
          ]
        },
        {
          "output_type": "stream",
          "name": "stderr",
          "text": [
            "\rProcessing test_images/mistery_cat images:  43%|████▎     | 173/400 [03:26<04:39,  1.23s/it]"
          ]
        },
        {
          "output_type": "stream",
          "name": "stdout",
          "text": [
            "\n",
            "image 1/1 /content/drive/MyDrive/bdma-07-competition/BDMA7_project_files/test_images/mistery_cat/2f4e7314-2b69-4e67-ab13-71e9a59f57d0.jpg: 480x640 1 Bird, 38.6ms\n",
            "Speed: 3.3ms preprocess, 38.6ms inference, 1.2ms postprocess per image at shape (1, 3, 480, 640)\n"
          ]
        },
        {
          "output_type": "stream",
          "name": "stderr",
          "text": [
            "\rProcessing test_images/mistery_cat images:  44%|████▎     | 174/400 [03:27<04:21,  1.16s/it]"
          ]
        },
        {
          "output_type": "stream",
          "name": "stdout",
          "text": [
            "\n",
            "image 1/1 /content/drive/MyDrive/bdma-07-competition/BDMA7_project_files/test_images/mistery_cat/6b6c9680-4b4a-488d-95a7-fea2fae1c472.jpg: 512x640 1 Bird, 39.1ms\n",
            "Speed: 3.8ms preprocess, 39.1ms inference, 1.4ms postprocess per image at shape (1, 3, 512, 640)\n"
          ]
        },
        {
          "output_type": "stream",
          "name": "stderr",
          "text": [
            "\rProcessing test_images/mistery_cat images:  44%|████▍     | 175/400 [03:29<04:48,  1.28s/it]"
          ]
        },
        {
          "output_type": "stream",
          "name": "stdout",
          "text": [
            "\n",
            "image 1/1 /content/drive/MyDrive/bdma-07-competition/BDMA7_project_files/test_images/mistery_cat/e01c4a83-0c30-456c-a285-06dccafc771b.jpg: 448x640 1 Bird, 37.9ms\n",
            "Speed: 3.5ms preprocess, 37.9ms inference, 1.2ms postprocess per image at shape (1, 3, 448, 640)\n"
          ]
        },
        {
          "output_type": "stream",
          "name": "stderr",
          "text": [
            "\rProcessing test_images/mistery_cat images:  44%|████▍     | 176/400 [03:30<04:25,  1.18s/it]"
          ]
        },
        {
          "output_type": "stream",
          "name": "stdout",
          "text": [
            "\n",
            "image 1/1 /content/drive/MyDrive/bdma-07-competition/BDMA7_project_files/test_images/mistery_cat/92bf4721-d484-455f-bf48-bf3eb89a5873.jpg: 448x640 1 Bird, 37.0ms\n",
            "Speed: 3.1ms preprocess, 37.0ms inference, 1.3ms postprocess per image at shape (1, 3, 448, 640)\n"
          ]
        },
        {
          "output_type": "stream",
          "name": "stderr",
          "text": [
            "\rProcessing test_images/mistery_cat images:  44%|████▍     | 177/400 [03:31<04:10,  1.12s/it]"
          ]
        },
        {
          "output_type": "stream",
          "name": "stdout",
          "text": [
            "\n",
            "image 1/1 /content/drive/MyDrive/bdma-07-competition/BDMA7_project_files/test_images/mistery_cat/760a09f8-a51a-4e2e-9f4a-d653a82fe056.jpg: 448x640 1 Bird, 36.8ms\n",
            "Speed: 3.3ms preprocess, 36.8ms inference, 1.3ms postprocess per image at shape (1, 3, 448, 640)\n"
          ]
        },
        {
          "output_type": "stream",
          "name": "stderr",
          "text": [
            "\rProcessing test_images/mistery_cat images:  44%|████▍     | 178/400 [03:32<04:31,  1.22s/it]"
          ]
        },
        {
          "output_type": "stream",
          "name": "stdout",
          "text": [
            "\n",
            "image 1/1 /content/drive/MyDrive/bdma-07-competition/BDMA7_project_files/test_images/mistery_cat/4ed5006d-88a7-4191-b75d-5de705182f6b.jpg: 448x640 1 Bird, 36.8ms\n",
            "Speed: 3.4ms preprocess, 36.8ms inference, 1.3ms postprocess per image at shape (1, 3, 448, 640)\n"
          ]
        },
        {
          "output_type": "stream",
          "name": "stderr",
          "text": [
            "\rProcessing test_images/mistery_cat images:  45%|████▍     | 179/400 [03:33<04:12,  1.14s/it]"
          ]
        },
        {
          "output_type": "stream",
          "name": "stdout",
          "text": [
            "\n",
            "image 1/1 /content/drive/MyDrive/bdma-07-competition/BDMA7_project_files/test_images/mistery_cat/ecacb5d4-8627-48b1-b402-be2217e4e083.jpg: 640x512 1 Bird, 36.8ms\n",
            "Speed: 4.3ms preprocess, 36.8ms inference, 1.3ms postprocess per image at shape (1, 3, 640, 512)\n"
          ]
        },
        {
          "output_type": "stream",
          "name": "stderr",
          "text": [
            "\rProcessing test_images/mistery_cat images:  45%|████▌     | 180/400 [03:35<04:39,  1.27s/it]"
          ]
        },
        {
          "output_type": "stream",
          "name": "stdout",
          "text": [
            "\n",
            "image 1/1 /content/drive/MyDrive/bdma-07-competition/BDMA7_project_files/test_images/mistery_cat/787ff726-77ff-421a-8d00-aa918dc3ee71.jpg: 352x640 1 Bird, 31.3ms\n",
            "Speed: 2.6ms preprocess, 31.3ms inference, 1.2ms postprocess per image at shape (1, 3, 352, 640)\n"
          ]
        },
        {
          "output_type": "stream",
          "name": "stderr",
          "text": [
            "\rProcessing test_images/mistery_cat images:  45%|████▌     | 181/400 [03:37<04:58,  1.36s/it]"
          ]
        },
        {
          "output_type": "stream",
          "name": "stdout",
          "text": [
            "\n",
            "image 1/1 /content/drive/MyDrive/bdma-07-competition/BDMA7_project_files/test_images/mistery_cat/5386ade4-8a96-4fd0-b92e-d3b1bfb2d837.jpg: 608x640 1 Bird, 47.9ms\n",
            "Speed: 9.2ms preprocess, 47.9ms inference, 1.6ms postprocess per image at shape (1, 3, 608, 640)\n"
          ]
        },
        {
          "output_type": "stream",
          "name": "stderr",
          "text": [
            "\rProcessing test_images/mistery_cat images:  46%|████▌     | 182/400 [03:38<04:35,  1.26s/it]"
          ]
        },
        {
          "output_type": "stream",
          "name": "stdout",
          "text": [
            "\n",
            "image 1/1 /content/drive/MyDrive/bdma-07-competition/BDMA7_project_files/test_images/mistery_cat/13d14e82-4bd4-418f-a6e3-54df2336dafe.jpg: 640x448 1 Bird, 36.8ms\n",
            "Speed: 3.1ms preprocess, 36.8ms inference, 1.2ms postprocess per image at shape (1, 3, 640, 448)\n"
          ]
        },
        {
          "output_type": "stream",
          "name": "stderr",
          "text": [
            "\rProcessing test_images/mistery_cat images:  46%|████▌     | 183/400 [03:39<04:51,  1.35s/it]"
          ]
        },
        {
          "output_type": "stream",
          "name": "stdout",
          "text": [
            "\n",
            "image 1/1 /content/drive/MyDrive/bdma-07-competition/BDMA7_project_files/test_images/mistery_cat/4e599817-3e0f-456a-8a72-f13267dadc2a.jpg: 480x640 2 Birds, 38.5ms\n",
            "Speed: 3.7ms preprocess, 38.5ms inference, 1.2ms postprocess per image at shape (1, 3, 480, 640)\n"
          ]
        },
        {
          "output_type": "stream",
          "name": "stderr",
          "text": [
            "\rProcessing test_images/mistery_cat images:  46%|████▌     | 184/400 [03:40<04:28,  1.24s/it]"
          ]
        },
        {
          "output_type": "stream",
          "name": "stdout",
          "text": [
            "\n",
            "image 1/1 /content/drive/MyDrive/bdma-07-competition/BDMA7_project_files/test_images/mistery_cat/38ffc9ce-dc9b-47f1-a696-0a9964c60c15.jpg: 448x640 1 Bird, 37.7ms\n",
            "Speed: 3.1ms preprocess, 37.7ms inference, 1.3ms postprocess per image at shape (1, 3, 448, 640)\n"
          ]
        },
        {
          "output_type": "stream",
          "name": "stderr",
          "text": [
            "\rProcessing test_images/mistery_cat images:  46%|████▋     | 185/400 [03:41<04:08,  1.16s/it]"
          ]
        },
        {
          "output_type": "stream",
          "name": "stdout",
          "text": [
            "\n",
            "image 1/1 /content/drive/MyDrive/bdma-07-competition/BDMA7_project_files/test_images/mistery_cat/ff3f7943-b237-490d-bf23-7c6a31536fc5.jpg: 448x640 1 Bird, 38.1ms\n",
            "Speed: 4.3ms preprocess, 38.1ms inference, 1.4ms postprocess per image at shape (1, 3, 448, 640)\n"
          ]
        },
        {
          "output_type": "stream",
          "name": "stderr",
          "text": [
            "\rProcessing test_images/mistery_cat images:  46%|████▋     | 186/400 [03:42<04:16,  1.20s/it]"
          ]
        },
        {
          "output_type": "stream",
          "name": "stdout",
          "text": [
            "\n",
            "image 1/1 /content/drive/MyDrive/bdma-07-competition/BDMA7_project_files/test_images/mistery_cat/01e21934-d737-4992-b712-cf544666bd54.jpg: 448x640 1 Bird, 36.9ms\n",
            "Speed: 3.6ms preprocess, 36.9ms inference, 1.4ms postprocess per image at shape (1, 3, 448, 640)\n"
          ]
        },
        {
          "output_type": "stream",
          "name": "stderr",
          "text": [
            "\rProcessing test_images/mistery_cat images:  47%|████▋     | 187/400 [03:43<03:58,  1.12s/it]"
          ]
        },
        {
          "output_type": "stream",
          "name": "stdout",
          "text": [
            "\n",
            "image 1/1 /content/drive/MyDrive/bdma-07-competition/BDMA7_project_files/test_images/mistery_cat/fd8bad6a-3d3e-4923-8ecd-8527969d45a8.jpg: 640x512 1 Bird, 36.8ms\n",
            "Speed: 4.2ms preprocess, 36.8ms inference, 1.2ms postprocess per image at shape (1, 3, 640, 512)\n"
          ]
        },
        {
          "output_type": "stream",
          "name": "stderr",
          "text": [
            "\rProcessing test_images/mistery_cat images:  47%|████▋     | 188/400 [03:44<03:49,  1.08s/it]"
          ]
        },
        {
          "output_type": "stream",
          "name": "stdout",
          "text": [
            "\n",
            "image 1/1 /content/drive/MyDrive/bdma-07-competition/BDMA7_project_files/test_images/mistery_cat/fcc07566-d9d8-4f39-9b6e-e1e414e5461a.jpg: 448x640 1 Bird, 37.6ms\n",
            "Speed: 3.3ms preprocess, 37.6ms inference, 1.2ms postprocess per image at shape (1, 3, 448, 640)\n"
          ]
        },
        {
          "output_type": "stream",
          "name": "stderr",
          "text": [
            "\rProcessing test_images/mistery_cat images:  47%|████▋     | 189/400 [03:45<03:34,  1.02s/it]"
          ]
        },
        {
          "output_type": "stream",
          "name": "stdout",
          "text": [
            "\n",
            "image 1/1 /content/drive/MyDrive/bdma-07-competition/BDMA7_project_files/test_images/mistery_cat/da4a25c5-fec4-4a6e-93fb-7d2159574572.jpg: 640x576 2 Birds, 46.8ms\n",
            "Speed: 4.4ms preprocess, 46.8ms inference, 1.3ms postprocess per image at shape (1, 3, 640, 576)\n"
          ]
        },
        {
          "output_type": "stream",
          "name": "stderr",
          "text": [
            "\rProcessing test_images/mistery_cat images:  48%|████▊     | 190/400 [03:46<03:26,  1.02it/s]"
          ]
        },
        {
          "output_type": "stream",
          "name": "stdout",
          "text": [
            "\n",
            "image 1/1 /content/drive/MyDrive/bdma-07-competition/BDMA7_project_files/test_images/mistery_cat/0d5b87b2-7f01-4b4f-9916-da1eb12f433d.jpg: 512x640 1 Bird, 39.1ms\n",
            "Speed: 3.7ms preprocess, 39.1ms inference, 1.3ms postprocess per image at shape (1, 3, 512, 640)\n"
          ]
        },
        {
          "output_type": "stream",
          "name": "stderr",
          "text": [
            "\rProcessing test_images/mistery_cat images:  48%|████▊     | 191/400 [03:47<03:25,  1.02it/s]"
          ]
        },
        {
          "output_type": "stream",
          "name": "stdout",
          "text": [
            "\n",
            "image 1/1 /content/drive/MyDrive/bdma-07-competition/BDMA7_project_files/test_images/mistery_cat/4bffce44-78aa-43d9-b28b-2de0a1caffeb.jpg: 448x640 2 Birds, 37.7ms\n",
            "Speed: 3.3ms preprocess, 37.7ms inference, 1.2ms postprocess per image at shape (1, 3, 448, 640)\n"
          ]
        },
        {
          "output_type": "stream",
          "name": "stderr",
          "text": [
            "\rProcessing test_images/mistery_cat images:  48%|████▊     | 192/400 [03:48<03:25,  1.01it/s]"
          ]
        },
        {
          "output_type": "stream",
          "name": "stdout",
          "text": [
            "\n",
            "image 1/1 /content/drive/MyDrive/bdma-07-competition/BDMA7_project_files/test_images/mistery_cat/db0ff442-0db3-47d0-ae85-b32ed74889a3.jpg: 640x448 1 Bird, 40.1ms\n",
            "Speed: 3.2ms preprocess, 40.1ms inference, 1.5ms postprocess per image at shape (1, 3, 640, 448)\n"
          ]
        },
        {
          "output_type": "stream",
          "name": "stderr",
          "text": [
            "\rProcessing test_images/mistery_cat images:  48%|████▊     | 193/400 [03:49<03:39,  1.06s/it]"
          ]
        },
        {
          "output_type": "stream",
          "name": "stdout",
          "text": [
            "\n",
            "image 1/1 /content/drive/MyDrive/bdma-07-competition/BDMA7_project_files/test_images/mistery_cat/862adaaf-8b65-43ec-900c-0c6cb95e44a6.jpg: 448x640 1 Bird, 37.8ms\n",
            "Speed: 4.0ms preprocess, 37.8ms inference, 1.6ms postprocess per image at shape (1, 3, 448, 640)\n"
          ]
        },
        {
          "output_type": "stream",
          "name": "stderr",
          "text": [
            "\rProcessing test_images/mistery_cat images:  48%|████▊     | 194/400 [03:50<03:34,  1.04s/it]"
          ]
        },
        {
          "output_type": "stream",
          "name": "stdout",
          "text": [
            "\n",
            "image 1/1 /content/drive/MyDrive/bdma-07-competition/BDMA7_project_files/test_images/mistery_cat/8aa16433-ebfb-4cb1-b85d-3b743cd8df1d.jpg: 448x640 1 Bird, 50.4ms\n",
            "Speed: 5.2ms preprocess, 50.4ms inference, 1.8ms postprocess per image at shape (1, 3, 448, 640)\n"
          ]
        },
        {
          "output_type": "stream",
          "name": "stderr",
          "text": [
            "\rProcessing test_images/mistery_cat images:  49%|████▉     | 195/400 [03:51<03:30,  1.03s/it]"
          ]
        },
        {
          "output_type": "stream",
          "name": "stdout",
          "text": [
            "\n",
            "image 1/1 /content/drive/MyDrive/bdma-07-competition/BDMA7_project_files/test_images/mistery_cat/9d7b4859-999e-4da9-b61b-08a23a349e60.jpg: 480x640 1 Bird, 38.6ms\n",
            "Speed: 3.6ms preprocess, 38.6ms inference, 1.2ms postprocess per image at shape (1, 3, 480, 640)\n"
          ]
        },
        {
          "output_type": "stream",
          "name": "stderr",
          "text": [
            "\rProcessing test_images/mistery_cat images:  49%|████▉     | 196/400 [03:52<03:22,  1.01it/s]"
          ]
        },
        {
          "output_type": "stream",
          "name": "stdout",
          "text": [
            "\n",
            "image 1/1 /content/drive/MyDrive/bdma-07-competition/BDMA7_project_files/test_images/mistery_cat/739eff15-28b0-4b05-901b-ec5e161a1a81.jpg: 480x640 1 Bird, 37.8ms\n",
            "Speed: 4.4ms preprocess, 37.8ms inference, 1.3ms postprocess per image at shape (1, 3, 480, 640)\n"
          ]
        },
        {
          "output_type": "stream",
          "name": "stderr",
          "text": [
            "\rProcessing test_images/mistery_cat images:  49%|████▉     | 197/400 [03:54<03:49,  1.13s/it]"
          ]
        },
        {
          "output_type": "stream",
          "name": "stdout",
          "text": [
            "\n",
            "image 1/1 /content/drive/MyDrive/bdma-07-competition/BDMA7_project_files/test_images/mistery_cat/a5d70ae0-3cf1-4cb1-a13c-cf329a56a229.jpg: 512x640 1 Bird, 40.0ms\n",
            "Speed: 3.9ms preprocess, 40.0ms inference, 1.3ms postprocess per image at shape (1, 3, 512, 640)\n"
          ]
        },
        {
          "output_type": "stream",
          "name": "stderr",
          "text": [
            "\rProcessing test_images/mistery_cat images:  50%|████▉     | 198/400 [03:55<03:41,  1.10s/it]"
          ]
        },
        {
          "output_type": "stream",
          "name": "stdout",
          "text": [
            "\n",
            "image 1/1 /content/drive/MyDrive/bdma-07-competition/BDMA7_project_files/test_images/mistery_cat/9f563798-188c-44e9-aa01-bd78a3a6bee4.jpg: 640x640 1 Bird, 48.3ms\n",
            "Speed: 4.3ms preprocess, 48.3ms inference, 1.3ms postprocess per image at shape (1, 3, 640, 640)\n"
          ]
        },
        {
          "output_type": "stream",
          "name": "stderr",
          "text": [
            "\rProcessing test_images/mistery_cat images:  50%|████▉     | 199/400 [03:56<04:09,  1.24s/it]"
          ]
        },
        {
          "output_type": "stream",
          "name": "stdout",
          "text": [
            "\n",
            "image 1/1 /content/drive/MyDrive/bdma-07-competition/BDMA7_project_files/test_images/mistery_cat/c9c15f99-c7b1-4a3b-9c90-4145892d4ebb.jpg: 640x640 1 Bird, 47.4ms\n",
            "Speed: 4.1ms preprocess, 47.4ms inference, 1.3ms postprocess per image at shape (1, 3, 640, 640)\n"
          ]
        },
        {
          "output_type": "stream",
          "name": "stderr",
          "text": [
            "\rProcessing test_images/mistery_cat images:  50%|█████     | 200/400 [03:57<03:47,  1.14s/it]"
          ]
        },
        {
          "output_type": "stream",
          "name": "stdout",
          "text": [
            "\n",
            "image 1/1 /content/drive/MyDrive/bdma-07-competition/BDMA7_project_files/test_images/mistery_cat/a38d915a-d83d-4509-ae12-b77b0d436026.jpg: 480x640 1 Bird, 38.6ms\n",
            "Speed: 2.2ms preprocess, 38.6ms inference, 1.2ms postprocess per image at shape (1, 3, 480, 640)\n"
          ]
        },
        {
          "output_type": "stream",
          "name": "stderr",
          "text": [
            "\rProcessing test_images/mistery_cat images:  50%|█████     | 201/400 [03:59<04:05,  1.23s/it]"
          ]
        },
        {
          "output_type": "stream",
          "name": "stdout",
          "text": [
            "\n",
            "image 1/1 /content/drive/MyDrive/bdma-07-competition/BDMA7_project_files/test_images/mistery_cat/7a6b15e3-97bc-417c-874c-6b57f9e5991a.jpg: 480x640 1 Bird, 37.9ms\n",
            "Speed: 4.1ms preprocess, 37.9ms inference, 1.3ms postprocess per image at shape (1, 3, 480, 640)\n"
          ]
        },
        {
          "output_type": "stream",
          "name": "stderr",
          "text": [
            "\rProcessing test_images/mistery_cat images:  50%|█████     | 202/400 [03:59<03:42,  1.12s/it]"
          ]
        },
        {
          "output_type": "stream",
          "name": "stdout",
          "text": [
            "\n",
            "image 1/1 /content/drive/MyDrive/bdma-07-competition/BDMA7_project_files/test_images/mistery_cat/1811dbb5-bfb0-48a5-86a8-fbe52a34a4a4.jpg: 512x640 1 Bird, 39.1ms\n",
            "Speed: 4.0ms preprocess, 39.1ms inference, 1.2ms postprocess per image at shape (1, 3, 512, 640)\n"
          ]
        },
        {
          "output_type": "stream",
          "name": "stderr",
          "text": [
            "\rProcessing test_images/mistery_cat images:  51%|█████     | 203/400 [04:01<04:06,  1.25s/it]"
          ]
        },
        {
          "output_type": "stream",
          "name": "stdout",
          "text": [
            "\n",
            "image 1/1 /content/drive/MyDrive/bdma-07-competition/BDMA7_project_files/test_images/mistery_cat/8828a7bc-8974-45d6-954f-cd47c7fb16fd.jpg: 480x640 1 Bird, 40.6ms\n",
            "Speed: 5.5ms preprocess, 40.6ms inference, 1.8ms postprocess per image at shape (1, 3, 480, 640)\n"
          ]
        },
        {
          "output_type": "stream",
          "name": "stderr",
          "text": [
            "\rProcessing test_images/mistery_cat images:  51%|█████     | 204/400 [04:03<04:29,  1.38s/it]"
          ]
        },
        {
          "output_type": "stream",
          "name": "stdout",
          "text": [
            "\n",
            "image 1/1 /content/drive/MyDrive/bdma-07-competition/BDMA7_project_files/test_images/mistery_cat/538291b2-fd3c-4716-920e-f9cc91b351b4.jpg: 576x640 1 Bird, 47.3ms\n",
            "Speed: 5.1ms preprocess, 47.3ms inference, 3.6ms postprocess per image at shape (1, 3, 576, 640)\n"
          ]
        },
        {
          "output_type": "stream",
          "name": "stderr",
          "text": [
            "\rProcessing test_images/mistery_cat images:  51%|█████▏    | 205/400 [04:04<04:11,  1.29s/it]"
          ]
        },
        {
          "output_type": "stream",
          "name": "stdout",
          "text": [
            "\n",
            "image 1/1 /content/drive/MyDrive/bdma-07-competition/BDMA7_project_files/test_images/mistery_cat/bcc506b0-7606-451a-83b8-64e3eede4ac6.jpg: 512x640 1 Bird, 39.1ms\n",
            "Speed: 3.6ms preprocess, 39.1ms inference, 1.2ms postprocess per image at shape (1, 3, 512, 640)\n"
          ]
        },
        {
          "output_type": "stream",
          "name": "stderr",
          "text": [
            "\rProcessing test_images/mistery_cat images:  52%|█████▏    | 206/400 [04:05<04:07,  1.27s/it]"
          ]
        },
        {
          "output_type": "stream",
          "name": "stdout",
          "text": [
            "\n",
            "image 1/1 /content/drive/MyDrive/bdma-07-competition/BDMA7_project_files/test_images/mistery_cat/33c02565-9c35-4f84-828f-b275bbcb1b6c.jpg: 640x512 1 Bird, 36.7ms\n",
            "Speed: 3.7ms preprocess, 36.7ms inference, 1.2ms postprocess per image at shape (1, 3, 640, 512)\n"
          ]
        },
        {
          "output_type": "stream",
          "name": "stderr",
          "text": [
            "\rProcessing test_images/mistery_cat images:  52%|█████▏    | 207/400 [04:06<03:48,  1.18s/it]"
          ]
        },
        {
          "output_type": "stream",
          "name": "stdout",
          "text": [
            "\n",
            "image 1/1 /content/drive/MyDrive/bdma-07-competition/BDMA7_project_files/test_images/mistery_cat/46b87346-62f9-40e0-925a-a93b37a5320e.jpg: 640x512 1 Bird, 36.5ms\n",
            "Speed: 3.6ms preprocess, 36.5ms inference, 1.3ms postprocess per image at shape (1, 3, 640, 512)\n"
          ]
        },
        {
          "output_type": "stream",
          "name": "stderr",
          "text": [
            "\rProcessing test_images/mistery_cat images:  52%|█████▏    | 208/400 [04:07<04:07,  1.29s/it]"
          ]
        },
        {
          "output_type": "stream",
          "name": "stdout",
          "text": [
            "\n",
            "image 1/1 /content/drive/MyDrive/bdma-07-competition/BDMA7_project_files/test_images/mistery_cat/1b5d3f94-1671-412a-8141-5d7a0e68d0d5.jpg: 640x480 1 Bird, 36.6ms\n",
            "Speed: 3.5ms preprocess, 36.6ms inference, 1.3ms postprocess per image at shape (1, 3, 640, 480)\n"
          ]
        },
        {
          "output_type": "stream",
          "name": "stderr",
          "text": [
            "\rProcessing test_images/mistery_cat images:  52%|█████▏    | 209/400 [04:08<03:51,  1.21s/it]"
          ]
        },
        {
          "output_type": "stream",
          "name": "stdout",
          "text": [
            "\n",
            "image 1/1 /content/drive/MyDrive/bdma-07-competition/BDMA7_project_files/test_images/mistery_cat/2cdb4c86-84d9-4631-9ca2-220eaa246dc1.jpg: 480x640 1 Bird, 39.5ms\n",
            "Speed: 4.0ms preprocess, 39.5ms inference, 2.0ms postprocess per image at shape (1, 3, 480, 640)\n"
          ]
        },
        {
          "output_type": "stream",
          "name": "stderr",
          "text": [
            "\rProcessing test_images/mistery_cat images:  52%|█████▎    | 210/400 [04:10<03:59,  1.26s/it]"
          ]
        },
        {
          "output_type": "stream",
          "name": "stdout",
          "text": [
            "\n",
            "image 1/1 /content/drive/MyDrive/bdma-07-competition/BDMA7_project_files/test_images/mistery_cat/e941a426-82d1-4c36-930b-b1d5d74efa62.jpg: 544x640 1 Bird, 46.0ms\n",
            "Speed: 3.8ms preprocess, 46.0ms inference, 1.3ms postprocess per image at shape (1, 3, 544, 640)\n"
          ]
        },
        {
          "output_type": "stream",
          "name": "stderr",
          "text": [
            "\rProcessing test_images/mistery_cat images:  53%|█████▎    | 211/400 [04:11<03:39,  1.16s/it]"
          ]
        },
        {
          "output_type": "stream",
          "name": "stdout",
          "text": [
            "\n",
            "image 1/1 /content/drive/MyDrive/bdma-07-competition/BDMA7_project_files/test_images/mistery_cat/db70aa5a-c4f5-4c75-805a-ea508f18655c.jpg: 384x640 1 Bird, 31.7ms\n",
            "Speed: 2.8ms preprocess, 31.7ms inference, 1.2ms postprocess per image at shape (1, 3, 384, 640)\n"
          ]
        },
        {
          "output_type": "stream",
          "name": "stderr",
          "text": [
            "\rProcessing test_images/mistery_cat images:  53%|█████▎    | 212/400 [04:11<03:11,  1.02s/it]"
          ]
        },
        {
          "output_type": "stream",
          "name": "stdout",
          "text": [
            "\n",
            "image 1/1 /content/drive/MyDrive/bdma-07-competition/BDMA7_project_files/test_images/mistery_cat/22587bbf-0b85-452e-be79-d5e4862ec9c4.jpg: 640x448 2 Birds, 35.6ms\n",
            "Speed: 3.4ms preprocess, 35.6ms inference, 1.2ms postprocess per image at shape (1, 3, 640, 448)\n"
          ]
        },
        {
          "output_type": "stream",
          "name": "stderr",
          "text": [
            "\rProcessing test_images/mistery_cat images:  53%|█████▎    | 213/400 [04:12<03:01,  1.03it/s]"
          ]
        },
        {
          "output_type": "stream",
          "name": "stdout",
          "text": [
            "\n",
            "image 1/1 /content/drive/MyDrive/bdma-07-competition/BDMA7_project_files/test_images/mistery_cat/4e8f6fdd-de46-4fd8-94dd-63f0855d1183.jpg: 480x640 1 Bird, 38.6ms\n",
            "Speed: 3.6ms preprocess, 38.6ms inference, 1.2ms postprocess per image at shape (1, 3, 480, 640)\n"
          ]
        },
        {
          "output_type": "stream",
          "name": "stderr",
          "text": [
            "\rProcessing test_images/mistery_cat images:  54%|█████▎    | 214/400 [04:13<02:55,  1.06it/s]"
          ]
        },
        {
          "output_type": "stream",
          "name": "stdout",
          "text": [
            "\n",
            "image 1/1 /content/drive/MyDrive/bdma-07-competition/BDMA7_project_files/test_images/mistery_cat/ccf0b1da-1e55-4bb7-a64a-b8833219c386.jpg: 416x640 1 Bird, 43.3ms\n",
            "Speed: 2.9ms preprocess, 43.3ms inference, 1.5ms postprocess per image at shape (1, 3, 416, 640)\n"
          ]
        },
        {
          "output_type": "stream",
          "name": "stderr",
          "text": [
            "\rProcessing test_images/mistery_cat images:  54%|█████▍    | 215/400 [04:14<03:12,  1.04s/it]"
          ]
        },
        {
          "output_type": "stream",
          "name": "stdout",
          "text": [
            "\n",
            "image 1/1 /content/drive/MyDrive/bdma-07-competition/BDMA7_project_files/test_images/mistery_cat/b9c1dd86-a265-4764-b8c1-25e5eabb75c6.jpg: 448x640 1 Bird, 41.8ms\n",
            "Speed: 3.1ms preprocess, 41.8ms inference, 2.2ms postprocess per image at shape (1, 3, 448, 640)\n"
          ]
        },
        {
          "output_type": "stream",
          "name": "stderr",
          "text": [
            "\rProcessing test_images/mistery_cat images:  54%|█████▍    | 216/400 [04:16<03:41,  1.20s/it]"
          ]
        },
        {
          "output_type": "stream",
          "name": "stdout",
          "text": [
            "\n",
            "image 1/1 /content/drive/MyDrive/bdma-07-competition/BDMA7_project_files/test_images/mistery_cat/e7df4e93-0166-4578-a742-381c15f456c5.jpg: 480x640 1 Bird, 38.6ms\n",
            "Speed: 3.3ms preprocess, 38.6ms inference, 1.3ms postprocess per image at shape (1, 3, 480, 640)\n"
          ]
        },
        {
          "output_type": "stream",
          "name": "stderr",
          "text": [
            "\rProcessing test_images/mistery_cat images:  54%|█████▍    | 217/400 [04:17<03:25,  1.12s/it]"
          ]
        },
        {
          "output_type": "stream",
          "name": "stdout",
          "text": [
            "\n",
            "image 1/1 /content/drive/MyDrive/bdma-07-competition/BDMA7_project_files/test_images/mistery_cat/efb13a8b-28d0-4c93-ac5e-0a6529ac79bd.jpg: 480x640 1 Bird, 37.8ms\n",
            "Speed: 3.4ms preprocess, 37.8ms inference, 1.3ms postprocess per image at shape (1, 3, 480, 640)\n"
          ]
        },
        {
          "output_type": "stream",
          "name": "stderr",
          "text": [
            "\rProcessing test_images/mistery_cat images:  55%|█████▍    | 218/400 [04:19<03:48,  1.26s/it]"
          ]
        },
        {
          "output_type": "stream",
          "name": "stdout",
          "text": [
            "\n",
            "image 1/1 /content/drive/MyDrive/bdma-07-competition/BDMA7_project_files/test_images/mistery_cat/b064d646-1576-4431-913b-3d868c413996.jpg: 544x640 1 Bird, 46.1ms\n",
            "Speed: 4.2ms preprocess, 46.1ms inference, 1.3ms postprocess per image at shape (1, 3, 544, 640)\n"
          ]
        },
        {
          "output_type": "stream",
          "name": "stderr",
          "text": [
            "\rProcessing test_images/mistery_cat images:  55%|█████▍    | 219/400 [04:20<03:59,  1.32s/it]"
          ]
        },
        {
          "output_type": "stream",
          "name": "stdout",
          "text": [
            "\n",
            "image 1/1 /content/drive/MyDrive/bdma-07-competition/BDMA7_project_files/test_images/mistery_cat/309deabb-b02d-42ae-892d-0b7e58c2b6ad.jpg: 640x480 1 Bird, 36.7ms\n",
            "Speed: 3.6ms preprocess, 36.7ms inference, 1.2ms postprocess per image at shape (1, 3, 640, 480)\n"
          ]
        },
        {
          "output_type": "stream",
          "name": "stderr",
          "text": [
            "\rProcessing test_images/mistery_cat images:  55%|█████▌    | 220/400 [04:21<03:55,  1.31s/it]"
          ]
        },
        {
          "output_type": "stream",
          "name": "stdout",
          "text": [
            "\n",
            "image 1/1 /content/drive/MyDrive/bdma-07-competition/BDMA7_project_files/test_images/mistery_cat/7c8cba3b-ad0b-440e-8b5a-f630c627061a.jpg: 640x448 1 Bird, 35.7ms\n",
            "Speed: 4.0ms preprocess, 35.7ms inference, 1.5ms postprocess per image at shape (1, 3, 640, 448)\n"
          ]
        },
        {
          "output_type": "stream",
          "name": "stderr",
          "text": [
            "\rProcessing test_images/mistery_cat images:  55%|█████▌    | 221/400 [04:22<03:45,  1.26s/it]"
          ]
        },
        {
          "output_type": "stream",
          "name": "stdout",
          "text": [
            "\n",
            "image 1/1 /content/drive/MyDrive/bdma-07-competition/BDMA7_project_files/test_images/mistery_cat/54566b1e-4b73-4a3c-af1b-5c2b09a4c64d.jpg: 384x640 1 Bird, 32.1ms\n",
            "Speed: 2.7ms preprocess, 32.1ms inference, 1.6ms postprocess per image at shape (1, 3, 384, 640)\n"
          ]
        },
        {
          "output_type": "stream",
          "name": "stderr",
          "text": [
            "\rProcessing test_images/mistery_cat images:  56%|█████▌    | 222/400 [04:23<03:26,  1.16s/it]"
          ]
        },
        {
          "output_type": "stream",
          "name": "stdout",
          "text": [
            "\n",
            "image 1/1 /content/drive/MyDrive/bdma-07-competition/BDMA7_project_files/test_images/mistery_cat/89b8351a-99db-435e-9933-e91df779abb1.jpg: 640x480 1 Bird, 36.6ms\n",
            "Speed: 3.6ms preprocess, 36.6ms inference, 1.2ms postprocess per image at shape (1, 3, 640, 480)\n"
          ]
        },
        {
          "output_type": "stream",
          "name": "stderr",
          "text": [
            "\rProcessing test_images/mistery_cat images:  56%|█████▌    | 223/400 [04:25<03:41,  1.25s/it]"
          ]
        },
        {
          "output_type": "stream",
          "name": "stdout",
          "text": [
            "\n",
            "image 1/1 /content/drive/MyDrive/bdma-07-competition/BDMA7_project_files/test_images/mistery_cat/3374d666-9412-46fc-834a-c8ccf54e8c39.jpg: 640x480 1 Bird, 35.9ms\n",
            "Speed: 3.2ms preprocess, 35.9ms inference, 1.3ms postprocess per image at shape (1, 3, 640, 480)\n"
          ]
        },
        {
          "output_type": "stream",
          "name": "stderr",
          "text": [
            "\rProcessing test_images/mistery_cat images:  56%|█████▌    | 224/400 [04:26<03:32,  1.21s/it]"
          ]
        },
        {
          "output_type": "stream",
          "name": "stdout",
          "text": [
            "\n",
            "image 1/1 /content/drive/MyDrive/bdma-07-competition/BDMA7_project_files/test_images/mistery_cat/0e94e277-8b94-4410-abe7-1ec5b934f9ca.jpg: 640x416 1 Bird, 35.4ms\n",
            "Speed: 3.1ms preprocess, 35.4ms inference, 1.5ms postprocess per image at shape (1, 3, 640, 416)\n"
          ]
        },
        {
          "output_type": "stream",
          "name": "stderr",
          "text": [
            "\rProcessing test_images/mistery_cat images:  56%|█████▋    | 225/400 [04:28<03:50,  1.31s/it]"
          ]
        },
        {
          "output_type": "stream",
          "name": "stdout",
          "text": [
            "\n",
            "image 1/1 /content/drive/MyDrive/bdma-07-competition/BDMA7_project_files/test_images/mistery_cat/3f77eff6-ae2f-4c46-9f2b-dab821043a37.jpg: 480x640 1 Bird, 39.0ms\n",
            "Speed: 5.7ms preprocess, 39.0ms inference, 1.8ms postprocess per image at shape (1, 3, 480, 640)\n"
          ]
        },
        {
          "output_type": "stream",
          "name": "stderr",
          "text": [
            "\rProcessing test_images/mistery_cat images:  56%|█████▋    | 226/400 [04:29<03:30,  1.21s/it]"
          ]
        },
        {
          "output_type": "stream",
          "name": "stdout",
          "text": [
            "\n",
            "image 1/1 /content/drive/MyDrive/bdma-07-competition/BDMA7_project_files/test_images/mistery_cat/a825b4ef-c8f9-4787-a7af-1caf81607537.jpg: 448x640 1 Bird, 37.6ms\n",
            "Speed: 3.3ms preprocess, 37.6ms inference, 1.3ms postprocess per image at shape (1, 3, 448, 640)\n"
          ]
        },
        {
          "output_type": "stream",
          "name": "stderr",
          "text": [
            "\rProcessing test_images/mistery_cat images:  57%|█████▋    | 227/400 [04:30<03:46,  1.31s/it]"
          ]
        },
        {
          "output_type": "stream",
          "name": "stdout",
          "text": [
            "\n",
            "image 1/1 /content/drive/MyDrive/bdma-07-competition/BDMA7_project_files/test_images/mistery_cat/b7212bb8-7245-4baa-b415-9ff89a7807b2.jpg: 448x640 1 Bird, 36.8ms\n",
            "Speed: 3.1ms preprocess, 36.8ms inference, 1.3ms postprocess per image at shape (1, 3, 448, 640)\n"
          ]
        },
        {
          "output_type": "stream",
          "name": "stderr",
          "text": [
            "\rProcessing test_images/mistery_cat images:  57%|█████▋    | 228/400 [04:31<03:27,  1.20s/it]"
          ]
        },
        {
          "output_type": "stream",
          "name": "stdout",
          "text": [
            "\n",
            "image 1/1 /content/drive/MyDrive/bdma-07-competition/BDMA7_project_files/test_images/mistery_cat/35bfdd15-ab06-40b6-a3d1-e33910436f50.jpg: 480x640 1 Bird, 38.7ms\n",
            "Speed: 3.3ms preprocess, 38.7ms inference, 1.2ms postprocess per image at shape (1, 3, 480, 640)\n"
          ]
        },
        {
          "output_type": "stream",
          "name": "stderr",
          "text": [
            "\rProcessing test_images/mistery_cat images:  57%|█████▋    | 229/400 [04:32<03:17,  1.16s/it]"
          ]
        },
        {
          "output_type": "stream",
          "name": "stdout",
          "text": [
            "\n",
            "image 1/1 /content/drive/MyDrive/bdma-07-competition/BDMA7_project_files/test_images/mistery_cat/000c02a0-3687-4c0c-bdfc-394b56134ac6.jpg: 512x640 1 Bird, 39.1ms\n",
            "Speed: 3.6ms preprocess, 39.1ms inference, 1.3ms postprocess per image at shape (1, 3, 512, 640)\n"
          ]
        },
        {
          "output_type": "stream",
          "name": "stderr",
          "text": [
            "\rProcessing test_images/mistery_cat images:  57%|█████▊    | 230/400 [04:34<03:37,  1.28s/it]"
          ]
        },
        {
          "output_type": "stream",
          "name": "stdout",
          "text": [
            "\n",
            "image 1/1 /content/drive/MyDrive/bdma-07-competition/BDMA7_project_files/test_images/mistery_cat/3e1b8e3e-30c8-411b-9970-fe1bb01c33ac.jpg: 640x448 1 Bird, 35.6ms\n",
            "Speed: 3.2ms preprocess, 35.6ms inference, 1.2ms postprocess per image at shape (1, 3, 640, 448)\n"
          ]
        },
        {
          "output_type": "stream",
          "name": "stderr",
          "text": [
            "\rProcessing test_images/mistery_cat images:  58%|█████▊    | 231/400 [04:35<03:44,  1.33s/it]"
          ]
        },
        {
          "output_type": "stream",
          "name": "stdout",
          "text": [
            "\n",
            "image 1/1 /content/drive/MyDrive/bdma-07-competition/BDMA7_project_files/test_images/mistery_cat/e2d21be7-b386-4d82-9ab4-7316f828bd72.jpg: 640x480 1 Bird, 37.1ms\n",
            "Speed: 3.5ms preprocess, 37.1ms inference, 1.3ms postprocess per image at shape (1, 3, 640, 480)\n"
          ]
        },
        {
          "output_type": "stream",
          "name": "stderr",
          "text": [
            "\rProcessing test_images/mistery_cat images:  58%|█████▊    | 232/400 [04:36<03:23,  1.21s/it]"
          ]
        },
        {
          "output_type": "stream",
          "name": "stdout",
          "text": [
            "\n",
            "image 1/1 /content/drive/MyDrive/bdma-07-competition/BDMA7_project_files/test_images/mistery_cat/213c333b-f2c1-4128-a768-4b4169070285.jpg: 448x640 2 Birds, 37.7ms\n",
            "Speed: 3.2ms preprocess, 37.7ms inference, 1.3ms postprocess per image at shape (1, 3, 448, 640)\n"
          ]
        },
        {
          "output_type": "stream",
          "name": "stderr",
          "text": [
            "\rProcessing test_images/mistery_cat images:  58%|█████▊    | 233/400 [04:37<03:10,  1.14s/it]"
          ]
        },
        {
          "output_type": "stream",
          "name": "stdout",
          "text": [
            "\n",
            "image 1/1 /content/drive/MyDrive/bdma-07-competition/BDMA7_project_files/test_images/mistery_cat/054c4510-d3a2-4b20-976e-2cf93f78ec81.jpg: 640x576 1 Bird, 50.0ms\n",
            "Speed: 4.0ms preprocess, 50.0ms inference, 1.3ms postprocess per image at shape (1, 3, 640, 576)\n"
          ]
        },
        {
          "output_type": "stream",
          "name": "stderr",
          "text": [
            "\rProcessing test_images/mistery_cat images:  58%|█████▊    | 234/400 [04:39<03:27,  1.25s/it]"
          ]
        },
        {
          "output_type": "stream",
          "name": "stdout",
          "text": [
            "\n",
            "image 1/1 /content/drive/MyDrive/bdma-07-competition/BDMA7_project_files/test_images/mistery_cat/dab72e8d-8034-4bd7-bdb7-74d6c009facf.jpg: 640x448 1 Bird, 40.0ms\n",
            "Speed: 4.9ms preprocess, 40.0ms inference, 1.9ms postprocess per image at shape (1, 3, 640, 448)\n"
          ]
        },
        {
          "output_type": "stream",
          "name": "stderr",
          "text": [
            "\rProcessing test_images/mistery_cat images:  59%|█████▉    | 235/400 [04:39<03:08,  1.15s/it]"
          ]
        },
        {
          "output_type": "stream",
          "name": "stdout",
          "text": [
            "\n",
            "image 1/1 /content/drive/MyDrive/bdma-07-competition/BDMA7_project_files/test_images/mistery_cat/44c91aa5-c025-40e3-9bd9-6681a7b5ac7e.jpg: 480x640 1 Bird, 39.2ms\n",
            "Speed: 6.6ms preprocess, 39.2ms inference, 2.1ms postprocess per image at shape (1, 3, 480, 640)\n"
          ]
        },
        {
          "output_type": "stream",
          "name": "stderr",
          "text": [
            "\rProcessing test_images/mistery_cat images:  59%|█████▉    | 236/400 [04:40<03:04,  1.13s/it]"
          ]
        },
        {
          "output_type": "stream",
          "name": "stdout",
          "text": [
            "\n",
            "image 1/1 /content/drive/MyDrive/bdma-07-competition/BDMA7_project_files/test_images/mistery_cat/6b48d650-0fcd-4368-b238-d6361c347ad4.jpg: 448x640 1 Bird, 37.6ms\n",
            "Speed: 3.4ms preprocess, 37.6ms inference, 1.2ms postprocess per image at shape (1, 3, 448, 640)\n"
          ]
        },
        {
          "output_type": "stream",
          "name": "stderr",
          "text": [
            "\rProcessing test_images/mistery_cat images:  59%|█████▉    | 237/400 [04:41<02:58,  1.09s/it]"
          ]
        },
        {
          "output_type": "stream",
          "name": "stdout",
          "text": [
            "\n",
            "image 1/1 /content/drive/MyDrive/bdma-07-competition/BDMA7_project_files/test_images/mistery_cat/a18aae5e-5ece-4cb5-a3d3-4fca66980142.jpg: 512x640 1 Bird, 39.3ms\n",
            "Speed: 3.5ms preprocess, 39.3ms inference, 1.7ms postprocess per image at shape (1, 3, 512, 640)\n"
          ]
        },
        {
          "output_type": "stream",
          "name": "stderr",
          "text": [
            "\rProcessing test_images/mistery_cat images:  60%|█████▉    | 238/400 [04:42<02:48,  1.04s/it]"
          ]
        },
        {
          "output_type": "stream",
          "name": "stdout",
          "text": [
            "\n",
            "image 1/1 /content/drive/MyDrive/bdma-07-competition/BDMA7_project_files/test_images/mistery_cat/86a1148c-3eb2-437c-9fb0-e3277fe45a48.jpg: 480x640 1 Bird, 38.7ms\n",
            "Speed: 3.3ms preprocess, 38.7ms inference, 1.2ms postprocess per image at shape (1, 3, 480, 640)\n"
          ]
        },
        {
          "output_type": "stream",
          "name": "stderr",
          "text": [
            "\rProcessing test_images/mistery_cat images:  60%|█████▉    | 239/400 [04:44<03:11,  1.19s/it]"
          ]
        },
        {
          "output_type": "stream",
          "name": "stdout",
          "text": [
            "\n",
            "image 1/1 /content/drive/MyDrive/bdma-07-competition/BDMA7_project_files/test_images/mistery_cat/d627c029-7470-4964-b880-21d7e9788e1a.jpg: 640x480 1 Bird, 36.7ms\n",
            "Speed: 3.6ms preprocess, 36.7ms inference, 1.4ms postprocess per image at shape (1, 3, 640, 480)\n"
          ]
        },
        {
          "output_type": "stream",
          "name": "stderr",
          "text": [
            "\rProcessing test_images/mistery_cat images:  60%|██████    | 240/400 [04:45<02:59,  1.12s/it]"
          ]
        },
        {
          "output_type": "stream",
          "name": "stdout",
          "text": [
            "\n",
            "image 1/1 /content/drive/MyDrive/bdma-07-competition/BDMA7_project_files/test_images/mistery_cat/3c50c05d-da7a-4dda-a918-a05afb725b71.jpg: 448x640 1 Bird, 38.6ms\n",
            "Speed: 3.3ms preprocess, 38.6ms inference, 1.2ms postprocess per image at shape (1, 3, 448, 640)\n"
          ]
        },
        {
          "output_type": "stream",
          "name": "stderr",
          "text": [
            "\rProcessing test_images/mistery_cat images:  60%|██████    | 241/400 [04:47<03:23,  1.28s/it]"
          ]
        },
        {
          "output_type": "stream",
          "name": "stdout",
          "text": [
            "\n",
            "image 1/1 /content/drive/MyDrive/bdma-07-competition/BDMA7_project_files/test_images/mistery_cat/175b9210-001f-4ccc-9cea-92ea32d3642b.jpg: 512x640 1 Bird, 39.0ms\n",
            "Speed: 3.5ms preprocess, 39.0ms inference, 1.2ms postprocess per image at shape (1, 3, 512, 640)\n"
          ]
        },
        {
          "output_type": "stream",
          "name": "stderr",
          "text": [
            "\rProcessing test_images/mistery_cat images:  60%|██████    | 242/400 [04:48<03:25,  1.30s/it]"
          ]
        },
        {
          "output_type": "stream",
          "name": "stdout",
          "text": [
            "\n",
            "image 1/1 /content/drive/MyDrive/bdma-07-competition/BDMA7_project_files/test_images/mistery_cat/22ebab06-ba73-4ff0-985f-0350cdd433fa.jpg: 448x640 1 Bird, 37.6ms\n",
            "Speed: 3.1ms preprocess, 37.6ms inference, 1.2ms postprocess per image at shape (1, 3, 448, 640)\n"
          ]
        },
        {
          "output_type": "stream",
          "name": "stderr",
          "text": [
            "\rProcessing test_images/mistery_cat images:  61%|██████    | 243/400 [04:49<03:08,  1.20s/it]"
          ]
        },
        {
          "output_type": "stream",
          "name": "stdout",
          "text": [
            "\n",
            "image 1/1 /content/drive/MyDrive/bdma-07-competition/BDMA7_project_files/test_images/mistery_cat/7815586b-8769-4029-96aa-e094eb0b0a91.jpg: 480x640 1 Bird, 38.6ms\n",
            "Speed: 3.6ms preprocess, 38.6ms inference, 1.3ms postprocess per image at shape (1, 3, 480, 640)\n"
          ]
        },
        {
          "output_type": "stream",
          "name": "stderr",
          "text": [
            "\rProcessing test_images/mistery_cat images:  61%|██████    | 244/400 [04:50<02:55,  1.12s/it]"
          ]
        },
        {
          "output_type": "stream",
          "name": "stdout",
          "text": [
            "\n",
            "image 1/1 /content/drive/MyDrive/bdma-07-competition/BDMA7_project_files/test_images/mistery_cat/f7e3b736-361e-4745-bddb-5c077f891e59.jpg: 512x640 1 Bird, 39.2ms\n",
            "Speed: 3.3ms preprocess, 39.2ms inference, 1.2ms postprocess per image at shape (1, 3, 512, 640)\n"
          ]
        },
        {
          "output_type": "stream",
          "name": "stderr",
          "text": [
            "\rProcessing test_images/mistery_cat images:  61%|██████▏   | 245/400 [04:51<02:47,  1.08s/it]"
          ]
        },
        {
          "output_type": "stream",
          "name": "stdout",
          "text": [
            "\n",
            "image 1/1 /content/drive/MyDrive/bdma-07-competition/BDMA7_project_files/test_images/mistery_cat/100fe8e3-66fe-4a58-9ddc-df6e94010404.jpg: 640x640 1 Bird, 53.3ms\n",
            "Speed: 4.4ms preprocess, 53.3ms inference, 1.5ms postprocess per image at shape (1, 3, 640, 640)\n"
          ]
        },
        {
          "output_type": "stream",
          "name": "stderr",
          "text": [
            "\rProcessing test_images/mistery_cat images:  62%|██████▏   | 246/400 [04:52<02:37,  1.02s/it]"
          ]
        },
        {
          "output_type": "stream",
          "name": "stdout",
          "text": [
            "\n",
            "image 1/1 /content/drive/MyDrive/bdma-07-competition/BDMA7_project_files/test_images/mistery_cat/9f3dea5a-e8f4-45ab-8e22-85241a3db94b.jpg: 608x640 1 Bird, 47.8ms\n",
            "Speed: 5.2ms preprocess, 47.8ms inference, 1.7ms postprocess per image at shape (1, 3, 608, 640)\n"
          ]
        },
        {
          "output_type": "stream",
          "name": "stderr",
          "text": [
            "\rProcessing test_images/mistery_cat images:  62%|██████▏   | 247/400 [04:53<02:50,  1.12s/it]"
          ]
        },
        {
          "output_type": "stream",
          "name": "stdout",
          "text": [
            "\n",
            "image 1/1 /content/drive/MyDrive/bdma-07-competition/BDMA7_project_files/test_images/mistery_cat/f389e44e-b369-41dc-b3e2-eb66267baf09.jpg: 480x640 1 Bird, 38.6ms\n",
            "Speed: 3.6ms preprocess, 38.6ms inference, 1.2ms postprocess per image at shape (1, 3, 480, 640)\n"
          ]
        },
        {
          "output_type": "stream",
          "name": "stderr",
          "text": [
            "\rProcessing test_images/mistery_cat images:  62%|██████▏   | 248/400 [04:54<02:57,  1.17s/it]"
          ]
        },
        {
          "output_type": "stream",
          "name": "stdout",
          "text": [
            "\n",
            "image 1/1 /content/drive/MyDrive/bdma-07-competition/BDMA7_project_files/test_images/mistery_cat/0e1f224e-aa25-4c94-939a-cc51a90f60da.jpg: 480x640 1 Bird, 37.8ms\n",
            "Speed: 3.4ms preprocess, 37.8ms inference, 1.4ms postprocess per image at shape (1, 3, 480, 640)\n"
          ]
        },
        {
          "output_type": "stream",
          "name": "stderr",
          "text": [
            "\rProcessing test_images/mistery_cat images:  62%|██████▏   | 249/400 [04:55<02:48,  1.12s/it]"
          ]
        },
        {
          "output_type": "stream",
          "name": "stdout",
          "text": [
            "\n",
            "image 1/1 /content/drive/MyDrive/bdma-07-competition/BDMA7_project_files/test_images/mistery_cat/ff688ca5-1700-48b0-b0c9-dd8a8fb711e2.jpg: 448x640 1 Bird, 37.6ms\n",
            "Speed: 3.0ms preprocess, 37.6ms inference, 1.7ms postprocess per image at shape (1, 3, 448, 640)\n"
          ]
        },
        {
          "output_type": "stream",
          "name": "stderr",
          "text": [
            "\rProcessing test_images/mistery_cat images:  62%|██████▎   | 250/400 [04:56<02:41,  1.07s/it]"
          ]
        },
        {
          "output_type": "stream",
          "name": "stdout",
          "text": [
            "\n",
            "image 1/1 /content/drive/MyDrive/bdma-07-competition/BDMA7_project_files/test_images/mistery_cat/582fcf42-2fe4-44ef-8b3d-fe24ac4ceac1.jpg: 448x640 1 Bird, 36.8ms\n",
            "Speed: 3.3ms preprocess, 36.8ms inference, 1.3ms postprocess per image at shape (1, 3, 448, 640)\n"
          ]
        },
        {
          "output_type": "stream",
          "name": "stderr",
          "text": [
            "\rProcessing test_images/mistery_cat images:  63%|██████▎   | 251/400 [04:57<02:37,  1.06s/it]"
          ]
        },
        {
          "output_type": "stream",
          "name": "stdout",
          "text": [
            "\n",
            "image 1/1 /content/drive/MyDrive/bdma-07-competition/BDMA7_project_files/test_images/mistery_cat/6392e5e0-4541-49a3-9b1e-151956c697c7.jpg: 544x640 1 Bird, 45.9ms\n",
            "Speed: 3.6ms preprocess, 45.9ms inference, 1.2ms postprocess per image at shape (1, 3, 544, 640)\n"
          ]
        },
        {
          "output_type": "stream",
          "name": "stderr",
          "text": [
            "\rProcessing test_images/mistery_cat images:  63%|██████▎   | 252/400 [04:59<02:55,  1.18s/it]"
          ]
        },
        {
          "output_type": "stream",
          "name": "stdout",
          "text": [
            "\n",
            "image 1/1 /content/drive/MyDrive/bdma-07-competition/BDMA7_project_files/test_images/mistery_cat/ea21cad2-ab70-4bdb-9937-9ac4c14bcde5.jpg: 640x640 1 Bird, 48.3ms\n",
            "Speed: 4.4ms preprocess, 48.3ms inference, 1.3ms postprocess per image at shape (1, 3, 640, 640)\n"
          ]
        },
        {
          "output_type": "stream",
          "name": "stderr",
          "text": [
            "\rProcessing test_images/mistery_cat images:  63%|██████▎   | 253/400 [05:00<02:44,  1.12s/it]"
          ]
        },
        {
          "output_type": "stream",
          "name": "stdout",
          "text": [
            "\n",
            "image 1/1 /content/drive/MyDrive/bdma-07-competition/BDMA7_project_files/test_images/mistery_cat/458a486f-db42-484b-ad7f-c22444778dd1.jpg: 640x480 1 Bird, 36.6ms\n",
            "Speed: 3.6ms preprocess, 36.6ms inference, 1.2ms postprocess per image at shape (1, 3, 640, 480)\n"
          ]
        },
        {
          "output_type": "stream",
          "name": "stderr",
          "text": [
            "\rProcessing test_images/mistery_cat images:  64%|██████▎   | 254/400 [05:01<02:40,  1.10s/it]"
          ]
        },
        {
          "output_type": "stream",
          "name": "stdout",
          "text": [
            "\n",
            "image 1/1 /content/drive/MyDrive/bdma-07-competition/BDMA7_project_files/test_images/mistery_cat/1ca66f4b-e409-42ae-b800-c168e2fe7aab.jpg: 448x640 1 Bird, 37.7ms\n",
            "Speed: 3.4ms preprocess, 37.7ms inference, 1.3ms postprocess per image at shape (1, 3, 448, 640)\n"
          ]
        },
        {
          "output_type": "stream",
          "name": "stderr",
          "text": [
            "\rProcessing test_images/mistery_cat images:  64%|██████▍   | 255/400 [05:02<02:31,  1.05s/it]"
          ]
        },
        {
          "output_type": "stream",
          "name": "stdout",
          "text": [
            "\n",
            "image 1/1 /content/drive/MyDrive/bdma-07-competition/BDMA7_project_files/test_images/mistery_cat/d55ea499-b22f-4f4a-84a6-b19dab659a03.jpg: 448x640 1 Bird, 42.1ms\n",
            "Speed: 3.1ms preprocess, 42.1ms inference, 1.7ms postprocess per image at shape (1, 3, 448, 640)\n"
          ]
        },
        {
          "output_type": "stream",
          "name": "stderr",
          "text": [
            "\rProcessing test_images/mistery_cat images:  64%|██████▍   | 256/400 [05:04<03:11,  1.33s/it]"
          ]
        },
        {
          "output_type": "stream",
          "name": "stdout",
          "text": [
            "\n",
            "image 1/1 /content/drive/MyDrive/bdma-07-competition/BDMA7_project_files/test_images/mistery_cat/fbba8028-3596-4d06-86a5-8a70c2ad3ac6.jpg: 448x640 1 Bird, 39.4ms\n",
            "Speed: 3.3ms preprocess, 39.4ms inference, 1.6ms postprocess per image at shape (1, 3, 448, 640)\n"
          ]
        },
        {
          "output_type": "stream",
          "name": "stderr",
          "text": [
            "\rProcessing test_images/mistery_cat images:  64%|██████▍   | 257/400 [05:05<02:54,  1.22s/it]"
          ]
        },
        {
          "output_type": "stream",
          "name": "stdout",
          "text": [
            "\n",
            "image 1/1 /content/drive/MyDrive/bdma-07-competition/BDMA7_project_files/test_images/mistery_cat/0036f660-7d6e-46d4-822d-dbb71b20c788.jpg: 448x640 1 Bird, 36.9ms\n",
            "Speed: 4.4ms preprocess, 36.9ms inference, 1.3ms postprocess per image at shape (1, 3, 448, 640)\n"
          ]
        },
        {
          "output_type": "stream",
          "name": "stderr",
          "text": [
            "\rProcessing test_images/mistery_cat images:  64%|██████▍   | 258/400 [05:06<03:09,  1.33s/it]"
          ]
        },
        {
          "output_type": "stream",
          "name": "stdout",
          "text": [
            "\n",
            "image 1/1 /content/drive/MyDrive/bdma-07-competition/BDMA7_project_files/test_images/mistery_cat/bba7700f-3571-4a06-af7e-f81e0618c32b.jpg: 640x608 1 Bird, 47.6ms\n",
            "Speed: 4.2ms preprocess, 47.6ms inference, 1.2ms postprocess per image at shape (1, 3, 640, 608)\n"
          ]
        },
        {
          "output_type": "stream",
          "name": "stderr",
          "text": [
            "\rProcessing test_images/mistery_cat images:  65%|██████▍   | 259/400 [05:08<03:15,  1.39s/it]"
          ]
        },
        {
          "output_type": "stream",
          "name": "stdout",
          "text": [
            "\n",
            "image 1/1 /content/drive/MyDrive/bdma-07-competition/BDMA7_project_files/test_images/mistery_cat/6a469c6f-9d21-465f-805a-3a1cf1a732ea.jpg: 448x640 1 Bird, 37.6ms\n",
            "Speed: 3.3ms preprocess, 37.6ms inference, 1.3ms postprocess per image at shape (1, 3, 448, 640)\n"
          ]
        },
        {
          "output_type": "stream",
          "name": "stderr",
          "text": [
            "\rProcessing test_images/mistery_cat images:  65%|██████▌   | 260/400 [05:09<03:00,  1.29s/it]"
          ]
        },
        {
          "output_type": "stream",
          "name": "stdout",
          "text": [
            "\n",
            "image 1/1 /content/drive/MyDrive/bdma-07-competition/BDMA7_project_files/test_images/mistery_cat/03b3a4cf-dccc-4874-bf30-809e5498a815.jpg: 640x640 1 Bird, 49.2ms\n",
            "Speed: 4.4ms preprocess, 49.2ms inference, 3.3ms postprocess per image at shape (1, 3, 640, 640)\n"
          ]
        },
        {
          "output_type": "stream",
          "name": "stderr",
          "text": [
            "\rProcessing test_images/mistery_cat images:  65%|██████▌   | 261/400 [05:10<02:44,  1.19s/it]"
          ]
        },
        {
          "output_type": "stream",
          "name": "stdout",
          "text": [
            "\n",
            "image 1/1 /content/drive/MyDrive/bdma-07-competition/BDMA7_project_files/test_images/mistery_cat/43c2aa65-9ce0-40d6-af2d-eecc0594248d.jpg: 544x640 1 Bird, 46.2ms\n",
            "Speed: 3.8ms preprocess, 46.2ms inference, 1.3ms postprocess per image at shape (1, 3, 544, 640)\n"
          ]
        },
        {
          "output_type": "stream",
          "name": "stderr",
          "text": [
            "\rProcessing test_images/mistery_cat images:  66%|██████▌   | 262/400 [05:12<03:08,  1.36s/it]"
          ]
        },
        {
          "output_type": "stream",
          "name": "stdout",
          "text": [
            "\n",
            "image 1/1 /content/drive/MyDrive/bdma-07-competition/BDMA7_project_files/test_images/mistery_cat/2642ab23-ec60-48bf-a1e8-0d5409065d9b.jpg: 448x640 1 Bird, 37.5ms\n",
            "Speed: 3.3ms preprocess, 37.5ms inference, 1.2ms postprocess per image at shape (1, 3, 448, 640)\n"
          ]
        },
        {
          "output_type": "stream",
          "name": "stderr",
          "text": [
            "\rProcessing test_images/mistery_cat images:  66%|██████▌   | 263/400 [05:13<03:03,  1.34s/it]"
          ]
        },
        {
          "output_type": "stream",
          "name": "stdout",
          "text": [
            "\n",
            "image 1/1 /content/drive/MyDrive/bdma-07-competition/BDMA7_project_files/test_images/mistery_cat/8cb73372-8192-4253-b5dc-e31bfaf18f88.jpg: 448x640 1 Bird, 36.8ms\n",
            "Speed: 3.3ms preprocess, 36.8ms inference, 1.3ms postprocess per image at shape (1, 3, 448, 640)\n"
          ]
        },
        {
          "output_type": "stream",
          "name": "stderr",
          "text": [
            "\rProcessing test_images/mistery_cat images:  66%|██████▌   | 264/400 [05:14<02:58,  1.31s/it]"
          ]
        },
        {
          "output_type": "stream",
          "name": "stdout",
          "text": [
            "\n",
            "image 1/1 /content/drive/MyDrive/bdma-07-competition/BDMA7_project_files/test_images/mistery_cat/05d54ffe-c3ef-41c8-94eb-44bdd2c77311.jpg: 448x640 1 Bird, 36.9ms\n",
            "Speed: 3.5ms preprocess, 36.9ms inference, 1.4ms postprocess per image at shape (1, 3, 448, 640)\n"
          ]
        },
        {
          "output_type": "stream",
          "name": "stderr",
          "text": [
            "\rProcessing test_images/mistery_cat images:  66%|██████▋   | 265/400 [05:15<02:39,  1.18s/it]"
          ]
        },
        {
          "output_type": "stream",
          "name": "stdout",
          "text": [
            "\n",
            "image 1/1 /content/drive/MyDrive/bdma-07-competition/BDMA7_project_files/test_images/mistery_cat/84b77224-fd7a-4885-8fe7-6909d70d3631.jpg: 512x640 1 Bird, 39.5ms\n",
            "Speed: 3.6ms preprocess, 39.5ms inference, 1.8ms postprocess per image at shape (1, 3, 512, 640)\n"
          ]
        },
        {
          "output_type": "stream",
          "name": "stderr",
          "text": [
            "\rProcessing test_images/mistery_cat images:  66%|██████▋   | 266/400 [05:16<02:51,  1.28s/it]"
          ]
        },
        {
          "output_type": "stream",
          "name": "stdout",
          "text": [
            "\n",
            "image 1/1 /content/drive/MyDrive/bdma-07-competition/BDMA7_project_files/test_images/mistery_cat/4989cca6-982c-4f7d-a531-50334a3dd5b3.jpg: 512x640 1 Bird, 44.4ms\n",
            "Speed: 3.6ms preprocess, 44.4ms inference, 1.8ms postprocess per image at shape (1, 3, 512, 640)\n"
          ]
        },
        {
          "output_type": "stream",
          "name": "stderr",
          "text": [
            "\rProcessing test_images/mistery_cat images:  67%|██████▋   | 267/400 [05:18<02:52,  1.30s/it]"
          ]
        },
        {
          "output_type": "stream",
          "name": "stdout",
          "text": [
            "\n",
            "image 1/1 /content/drive/MyDrive/bdma-07-competition/BDMA7_project_files/test_images/mistery_cat/ec7a5d3f-cea9-4236-81a9-57d1ee7b9fc4.jpg: 576x640 1 Bird, 46.7ms\n",
            "Speed: 4.2ms preprocess, 46.7ms inference, 1.4ms postprocess per image at shape (1, 3, 576, 640)\n"
          ]
        },
        {
          "output_type": "stream",
          "name": "stderr",
          "text": [
            "\rProcessing test_images/mistery_cat images:  67%|██████▋   | 268/400 [05:19<02:51,  1.30s/it]"
          ]
        },
        {
          "output_type": "stream",
          "name": "stdout",
          "text": [
            "\n",
            "image 1/1 /content/drive/MyDrive/bdma-07-competition/BDMA7_project_files/test_images/mistery_cat/4a0f0a0f-1111-46ba-b888-a6983efd0f0d.jpg: 512x640 1 Bird, 39.0ms\n",
            "Speed: 5.7ms preprocess, 39.0ms inference, 1.3ms postprocess per image at shape (1, 3, 512, 640)\n"
          ]
        },
        {
          "output_type": "stream",
          "name": "stderr",
          "text": [
            "\rProcessing test_images/mistery_cat images:  67%|██████▋   | 269/400 [05:21<03:00,  1.38s/it]"
          ]
        },
        {
          "output_type": "stream",
          "name": "stdout",
          "text": [
            "\n",
            "image 1/1 /content/drive/MyDrive/bdma-07-competition/BDMA7_project_files/test_images/mistery_cat/736d19b1-fbf9-4eaf-8ae4-f3a965f455be.jpg: 608x640 1 Bird, 48.0ms\n",
            "Speed: 4.3ms preprocess, 48.0ms inference, 1.9ms postprocess per image at shape (1, 3, 608, 640)\n"
          ]
        },
        {
          "output_type": "stream",
          "name": "stderr",
          "text": [
            "\rProcessing test_images/mistery_cat images:  68%|██████▊   | 270/400 [05:22<03:09,  1.46s/it]"
          ]
        },
        {
          "output_type": "stream",
          "name": "stdout",
          "text": [
            "\n",
            "image 1/1 /content/drive/MyDrive/bdma-07-competition/BDMA7_project_files/test_images/mistery_cat/583b57ee-62c5-4441-8af7-b4536bdd3395.jpg: 448x640 1 Bird, 37.6ms\n",
            "Speed: 3.3ms preprocess, 37.6ms inference, 1.2ms postprocess per image at shape (1, 3, 448, 640)\n"
          ]
        },
        {
          "output_type": "stream",
          "name": "stderr",
          "text": [
            "\rProcessing test_images/mistery_cat images:  68%|██████▊   | 271/400 [05:24<03:14,  1.50s/it]"
          ]
        },
        {
          "output_type": "stream",
          "name": "stdout",
          "text": [
            "\n",
            "image 1/1 /content/drive/MyDrive/bdma-07-competition/BDMA7_project_files/test_images/mistery_cat/667de0b0-22f0-4ad1-a628-bf7a6d8cb61a.jpg: 416x640 1 Bird, 37.3ms\n",
            "Speed: 3.3ms preprocess, 37.3ms inference, 1.2ms postprocess per image at shape (1, 3, 416, 640)\n"
          ]
        },
        {
          "output_type": "stream",
          "name": "stderr",
          "text": [
            "\rProcessing test_images/mistery_cat images:  68%|██████▊   | 272/400 [05:25<02:52,  1.35s/it]"
          ]
        },
        {
          "output_type": "stream",
          "name": "stdout",
          "text": [
            "\n",
            "image 1/1 /content/drive/MyDrive/bdma-07-competition/BDMA7_project_files/test_images/mistery_cat/ec0ae230-06ff-40e0-8914-d3cf4f6a010a.jpg: 608x640 1 Bird, 47.6ms\n",
            "Speed: 4.4ms preprocess, 47.6ms inference, 1.3ms postprocess per image at shape (1, 3, 608, 640)\n"
          ]
        },
        {
          "output_type": "stream",
          "name": "stderr",
          "text": [
            "\rProcessing test_images/mistery_cat images:  68%|██████▊   | 273/400 [05:26<02:47,  1.32s/it]"
          ]
        },
        {
          "output_type": "stream",
          "name": "stdout",
          "text": [
            "\n",
            "image 1/1 /content/drive/MyDrive/bdma-07-competition/BDMA7_project_files/test_images/mistery_cat/2976d7c8-2f82-4c86-a04e-68327dab64cf.jpg: 448x640 1 Bird, 37.8ms\n",
            "Speed: 3.3ms preprocess, 37.8ms inference, 1.3ms postprocess per image at shape (1, 3, 448, 640)\n"
          ]
        },
        {
          "output_type": "stream",
          "name": "stderr",
          "text": [
            "\rProcessing test_images/mistery_cat images:  68%|██████▊   | 274/400 [05:28<02:54,  1.38s/it]"
          ]
        },
        {
          "output_type": "stream",
          "name": "stdout",
          "text": [
            "\n",
            "image 1/1 /content/drive/MyDrive/bdma-07-competition/BDMA7_project_files/test_images/mistery_cat/2fc559fd-8350-496c-a0cd-66c0129f05a2.jpg: 448x640 1 Bird, 36.9ms\n",
            "Speed: 6.7ms preprocess, 36.9ms inference, 3.4ms postprocess per image at shape (1, 3, 448, 640)\n"
          ]
        },
        {
          "output_type": "stream",
          "name": "stderr",
          "text": [
            "\rProcessing test_images/mistery_cat images:  69%|██████▉   | 275/400 [05:29<02:38,  1.27s/it]"
          ]
        },
        {
          "output_type": "stream",
          "name": "stdout",
          "text": [
            "\n",
            "image 1/1 /content/drive/MyDrive/bdma-07-competition/BDMA7_project_files/test_images/mistery_cat/9da080e9-8e7f-47b4-b29d-d728013464e9.jpg: 640x512 1 Bird, 36.9ms\n",
            "Speed: 3.4ms preprocess, 36.9ms inference, 1.5ms postprocess per image at shape (1, 3, 640, 512)\n"
          ]
        },
        {
          "output_type": "stream",
          "name": "stderr",
          "text": [
            "\rProcessing test_images/mistery_cat images:  69%|██████▉   | 276/400 [05:30<02:24,  1.17s/it]"
          ]
        },
        {
          "output_type": "stream",
          "name": "stdout",
          "text": [
            "\n",
            "image 1/1 /content/drive/MyDrive/bdma-07-competition/BDMA7_project_files/test_images/mistery_cat/a83e57c5-27fb-4b72-b03c-4c6db801866d.jpg: 448x640 1 Bird, 37.6ms\n",
            "Speed: 3.7ms preprocess, 37.6ms inference, 1.2ms postprocess per image at shape (1, 3, 448, 640)\n"
          ]
        },
        {
          "output_type": "stream",
          "name": "stderr",
          "text": [
            "\rProcessing test_images/mistery_cat images:  69%|██████▉   | 277/400 [05:31<02:36,  1.27s/it]"
          ]
        },
        {
          "output_type": "stream",
          "name": "stdout",
          "text": [
            "\n",
            "image 1/1 /content/drive/MyDrive/bdma-07-competition/BDMA7_project_files/test_images/mistery_cat/d643eb1c-f399-4a4c-b729-7297b3ab87ce.jpg: 448x640 1 Bird, 36.8ms\n",
            "Speed: 3.3ms preprocess, 36.8ms inference, 1.4ms postprocess per image at shape (1, 3, 448, 640)\n"
          ]
        },
        {
          "output_type": "stream",
          "name": "stderr",
          "text": [
            "\rProcessing test_images/mistery_cat images:  70%|██████▉   | 278/400 [05:32<02:23,  1.18s/it]"
          ]
        },
        {
          "output_type": "stream",
          "name": "stdout",
          "text": [
            "\n",
            "image 1/1 /content/drive/MyDrive/bdma-07-competition/BDMA7_project_files/test_images/mistery_cat/ff8e5415-c19d-4ebe-896b-8246c32ea401.jpg: 448x640 1 Bird, 36.8ms\n",
            "Speed: 3.3ms preprocess, 36.8ms inference, 1.3ms postprocess per image at shape (1, 3, 448, 640)\n"
          ]
        },
        {
          "output_type": "stream",
          "name": "stderr",
          "text": [
            "\rProcessing test_images/mistery_cat images:  70%|██████▉   | 279/400 [05:33<02:15,  1.12s/it]"
          ]
        },
        {
          "output_type": "stream",
          "name": "stdout",
          "text": [
            "\n",
            "image 1/1 /content/drive/MyDrive/bdma-07-competition/BDMA7_project_files/test_images/mistery_cat/9820c56b-7155-455b-9cb7-7bca81ec914e.jpg: 544x640 1 Bird, 46.0ms\n",
            "Speed: 4.0ms preprocess, 46.0ms inference, 1.3ms postprocess per image at shape (1, 3, 544, 640)\n"
          ]
        },
        {
          "output_type": "stream",
          "name": "stderr",
          "text": [
            "\rProcessing test_images/mistery_cat images:  70%|███████   | 280/400 [05:34<02:06,  1.05s/it]"
          ]
        },
        {
          "output_type": "stream",
          "name": "stdout",
          "text": [
            "\n",
            "image 1/1 /content/drive/MyDrive/bdma-07-competition/BDMA7_project_files/test_images/mistery_cat/5863ad9d-f1a4-4403-a3db-350ede663f9a.jpg: 640x640 1 Bird, 48.3ms\n",
            "Speed: 4.5ms preprocess, 48.3ms inference, 1.3ms postprocess per image at shape (1, 3, 640, 640)\n"
          ]
        },
        {
          "output_type": "stream",
          "name": "stderr",
          "text": [
            "\rProcessing test_images/mistery_cat images:  70%|███████   | 281/400 [05:35<02:01,  1.02s/it]"
          ]
        },
        {
          "output_type": "stream",
          "name": "stdout",
          "text": [
            "\n",
            "image 1/1 /content/drive/MyDrive/bdma-07-competition/BDMA7_project_files/test_images/mistery_cat/847d456a-2ac5-44a6-9c13-dd3476fad736.jpg: 448x640 1 Bird, 37.6ms\n",
            "Speed: 3.3ms preprocess, 37.6ms inference, 1.3ms postprocess per image at shape (1, 3, 448, 640)\n"
          ]
        },
        {
          "output_type": "stream",
          "name": "stderr",
          "text": [
            "\rProcessing test_images/mistery_cat images:  70%|███████   | 282/400 [05:36<01:59,  1.01s/it]"
          ]
        },
        {
          "output_type": "stream",
          "name": "stdout",
          "text": [
            "\n",
            "image 1/1 /content/drive/MyDrive/bdma-07-competition/BDMA7_project_files/test_images/mistery_cat/3d43413c-8705-48de-bace-aa663740461e.jpg: 416x640 1 Bird, 37.1ms\n",
            "Speed: 3.1ms preprocess, 37.1ms inference, 1.3ms postprocess per image at shape (1, 3, 416, 640)\n"
          ]
        },
        {
          "output_type": "stream",
          "name": "stderr",
          "text": [
            "\rProcessing test_images/mistery_cat images:  71%|███████   | 283/400 [05:37<01:56,  1.00it/s]"
          ]
        },
        {
          "output_type": "stream",
          "name": "stdout",
          "text": [
            "\n",
            "image 1/1 /content/drive/MyDrive/bdma-07-competition/BDMA7_project_files/test_images/mistery_cat/dbc98147-3e7d-409c-a66c-9a83f75bdc3f.jpg: 640x480 1 Bird, 36.7ms\n",
            "Speed: 3.6ms preprocess, 36.7ms inference, 1.3ms postprocess per image at shape (1, 3, 640, 480)\n"
          ]
        },
        {
          "output_type": "stream",
          "name": "stderr",
          "text": [
            "\rProcessing test_images/mistery_cat images:  71%|███████   | 284/400 [05:38<02:03,  1.07s/it]"
          ]
        },
        {
          "output_type": "stream",
          "name": "stdout",
          "text": [
            "\n",
            "image 1/1 /content/drive/MyDrive/bdma-07-competition/BDMA7_project_files/test_images/mistery_cat/26b0e379-14ed-480e-bdc6-b396cf689466.jpg: 480x640 1 Bird, 40.8ms\n",
            "Speed: 3.5ms preprocess, 40.8ms inference, 1.3ms postprocess per image at shape (1, 3, 480, 640)\n"
          ]
        },
        {
          "output_type": "stream",
          "name": "stderr",
          "text": [
            "\rProcessing test_images/mistery_cat images:  71%|███████▏  | 285/400 [05:39<01:57,  1.02s/it]"
          ]
        },
        {
          "output_type": "stream",
          "name": "stdout",
          "text": [
            "\n",
            "image 1/1 /content/drive/MyDrive/bdma-07-competition/BDMA7_project_files/test_images/mistery_cat/872ea0f7-bddc-413e-93ca-6ed91cc2dab6.jpg: 480x640 1 Bird, 37.8ms\n",
            "Speed: 3.3ms preprocess, 37.8ms inference, 1.5ms postprocess per image at shape (1, 3, 480, 640)\n"
          ]
        },
        {
          "output_type": "stream",
          "name": "stderr",
          "text": [
            "\rProcessing test_images/mistery_cat images:  72%|███████▏  | 286/400 [05:40<01:52,  1.02it/s]"
          ]
        },
        {
          "output_type": "stream",
          "name": "stdout",
          "text": [
            "\n",
            "image 1/1 /content/drive/MyDrive/bdma-07-competition/BDMA7_project_files/test_images/mistery_cat/9c40a5c7-d5fa-43d1-b368-d1cc24839439.jpg: 640x480 1 Bird, 37.1ms\n",
            "Speed: 6.1ms preprocess, 37.1ms inference, 1.7ms postprocess per image at shape (1, 3, 640, 480)\n"
          ]
        },
        {
          "output_type": "stream",
          "name": "stderr",
          "text": [
            "\rProcessing test_images/mistery_cat images:  72%|███████▏  | 287/400 [05:41<01:51,  1.01it/s]"
          ]
        },
        {
          "output_type": "stream",
          "name": "stdout",
          "text": [
            "\n",
            "image 1/1 /content/drive/MyDrive/bdma-07-competition/BDMA7_project_files/test_images/mistery_cat/9b3377d2-5ce5-42d8-9780-2934c44575b8.jpg: 448x640 (no detections), 37.8ms\n",
            "Speed: 8.0ms preprocess, 37.8ms inference, 0.7ms postprocess per image at shape (1, 3, 448, 640)\n"
          ]
        },
        {
          "output_type": "stream",
          "name": "stderr",
          "text": [
            "\rProcessing test_images/mistery_cat images:  72%|███████▏  | 288/400 [05:42<01:56,  1.04s/it]"
          ]
        },
        {
          "output_type": "stream",
          "name": "stdout",
          "text": [
            "Warning: No objects detected in /content/drive/MyDrive/bdma-07-competition/BDMA7_project_files/test_images/mistery_cat/9b3377d2-5ce5-42d8-9780-2934c44575b8.jpg, skipping cropping.\n",
            "\n",
            "image 1/1 /content/drive/MyDrive/bdma-07-competition/BDMA7_project_files/test_images/mistery_cat/62f04f3d-b5cb-4453-a9de-ce33b1af6da2.jpg: 480x640 1 Bird, 39.3ms\n",
            "Speed: 4.7ms preprocess, 39.3ms inference, 1.7ms postprocess per image at shape (1, 3, 480, 640)\n"
          ]
        },
        {
          "output_type": "stream",
          "name": "stderr",
          "text": [
            "\rProcessing test_images/mistery_cat images:  72%|███████▏  | 289/400 [05:43<01:56,  1.05s/it]"
          ]
        },
        {
          "output_type": "stream",
          "name": "stdout",
          "text": [
            "\n",
            "image 1/1 /content/drive/MyDrive/bdma-07-competition/BDMA7_project_files/test_images/mistery_cat/54361975-b292-478e-8ae6-928d28d055a1.jpg: 640x640 1 Bird, 48.7ms\n",
            "Speed: 4.7ms preprocess, 48.7ms inference, 1.9ms postprocess per image at shape (1, 3, 640, 640)\n"
          ]
        },
        {
          "output_type": "stream",
          "name": "stderr",
          "text": [
            "\rProcessing test_images/mistery_cat images:  72%|███████▎  | 290/400 [05:44<01:53,  1.03s/it]"
          ]
        },
        {
          "output_type": "stream",
          "name": "stdout",
          "text": [
            "\n",
            "image 1/1 /content/drive/MyDrive/bdma-07-competition/BDMA7_project_files/test_images/mistery_cat/ecf5233d-0f8f-4730-9583-2c169dbf0810.jpg: 640x640 1 Bird, 47.5ms\n",
            "Speed: 4.3ms preprocess, 47.5ms inference, 1.3ms postprocess per image at shape (1, 3, 640, 640)\n"
          ]
        },
        {
          "output_type": "stream",
          "name": "stderr",
          "text": [
            "\rProcessing test_images/mistery_cat images:  73%|███████▎  | 291/400 [05:45<01:50,  1.01s/it]"
          ]
        },
        {
          "output_type": "stream",
          "name": "stdout",
          "text": [
            "\n",
            "image 1/1 /content/drive/MyDrive/bdma-07-competition/BDMA7_project_files/test_images/mistery_cat/9e12f047-2332-4981-858f-a391740de28b.jpg: 448x640 1 Bird, 37.6ms\n",
            "Speed: 3.7ms preprocess, 37.6ms inference, 1.3ms postprocess per image at shape (1, 3, 448, 640)\n"
          ]
        },
        {
          "output_type": "stream",
          "name": "stderr",
          "text": [
            "\rProcessing test_images/mistery_cat images:  73%|███████▎  | 292/400 [05:46<01:46,  1.01it/s]"
          ]
        },
        {
          "output_type": "stream",
          "name": "stdout",
          "text": [
            "\n",
            "image 1/1 /content/drive/MyDrive/bdma-07-competition/BDMA7_project_files/test_images/mistery_cat/80aee06f-371a-4177-8fd9-50027a9445f9.jpg: 448x640 1 Bird, 36.8ms\n",
            "Speed: 3.2ms preprocess, 36.8ms inference, 1.3ms postprocess per image at shape (1, 3, 448, 640)\n"
          ]
        },
        {
          "output_type": "stream",
          "name": "stderr",
          "text": [
            "\rProcessing test_images/mistery_cat images:  73%|███████▎  | 293/400 [05:47<01:44,  1.02it/s]"
          ]
        },
        {
          "output_type": "stream",
          "name": "stdout",
          "text": [
            "\n",
            "image 1/1 /content/drive/MyDrive/bdma-07-competition/BDMA7_project_files/test_images/mistery_cat/0707df46-96ef-45a2-81e9-0480927cd26b.jpg: 512x640 1 Bird, 39.1ms\n",
            "Speed: 3.6ms preprocess, 39.1ms inference, 1.2ms postprocess per image at shape (1, 3, 512, 640)\n"
          ]
        },
        {
          "output_type": "stream",
          "name": "stderr",
          "text": [
            "\rProcessing test_images/mistery_cat images:  74%|███████▎  | 294/400 [05:49<01:59,  1.13s/it]"
          ]
        },
        {
          "output_type": "stream",
          "name": "stdout",
          "text": [
            "\n",
            "image 1/1 /content/drive/MyDrive/bdma-07-competition/BDMA7_project_files/test_images/mistery_cat/de342e12-fce1-4c6c-9b46-f2192b3e3ed1.jpg: 480x640 1 Bird, 38.9ms\n",
            "Speed: 3.5ms preprocess, 38.9ms inference, 1.3ms postprocess per image at shape (1, 3, 480, 640)\n"
          ]
        },
        {
          "output_type": "stream",
          "name": "stderr",
          "text": [
            "\rProcessing test_images/mistery_cat images:  74%|███████▍  | 295/400 [05:49<01:50,  1.05s/it]"
          ]
        },
        {
          "output_type": "stream",
          "name": "stdout",
          "text": [
            "\n",
            "image 1/1 /content/drive/MyDrive/bdma-07-competition/BDMA7_project_files/test_images/mistery_cat/4a577565-8aec-483f-a33d-ebbd7baea44d.jpg: 448x640 1 Bird, 37.6ms\n",
            "Speed: 3.1ms preprocess, 37.6ms inference, 1.3ms postprocess per image at shape (1, 3, 448, 640)\n"
          ]
        },
        {
          "output_type": "stream",
          "name": "stderr",
          "text": [
            "\rProcessing test_images/mistery_cat images:  74%|███████▍  | 296/400 [05:50<01:44,  1.00s/it]"
          ]
        },
        {
          "output_type": "stream",
          "name": "stdout",
          "text": [
            "\n",
            "image 1/1 /content/drive/MyDrive/bdma-07-competition/BDMA7_project_files/test_images/mistery_cat/f6684a5e-ab08-48bb-a698-187460037e28.jpg: 512x640 1 Bird, 39.2ms\n",
            "Speed: 5.6ms preprocess, 39.2ms inference, 1.3ms postprocess per image at shape (1, 3, 512, 640)\n"
          ]
        },
        {
          "output_type": "stream",
          "name": "stderr",
          "text": [
            "\rProcessing test_images/mistery_cat images:  74%|███████▍  | 297/400 [05:52<02:07,  1.24s/it]"
          ]
        },
        {
          "output_type": "stream",
          "name": "stdout",
          "text": [
            "\n",
            "image 1/1 /content/drive/MyDrive/bdma-07-competition/BDMA7_project_files/test_images/mistery_cat/8fc431c2-b044-41bd-8168-7514ad8715b8.jpg: 640x480 1 Bird, 36.8ms\n",
            "Speed: 3.7ms preprocess, 36.8ms inference, 1.4ms postprocess per image at shape (1, 3, 640, 480)\n"
          ]
        },
        {
          "output_type": "stream",
          "name": "stderr",
          "text": [
            "\rProcessing test_images/mistery_cat images:  74%|███████▍  | 298/400 [05:53<02:04,  1.22s/it]"
          ]
        },
        {
          "output_type": "stream",
          "name": "stdout",
          "text": [
            "\n",
            "image 1/1 /content/drive/MyDrive/bdma-07-competition/BDMA7_project_files/test_images/mistery_cat/c96b90ed-a5d2-4691-9659-c512dbc0db01.jpg: 480x640 1 Bird, 38.8ms\n",
            "Speed: 3.4ms preprocess, 38.8ms inference, 1.5ms postprocess per image at shape (1, 3, 480, 640)\n"
          ]
        },
        {
          "output_type": "stream",
          "name": "stderr",
          "text": [
            "\rProcessing test_images/mistery_cat images:  75%|███████▍  | 299/400 [05:55<02:12,  1.31s/it]"
          ]
        },
        {
          "output_type": "stream",
          "name": "stdout",
          "text": [
            "\n",
            "image 1/1 /content/drive/MyDrive/bdma-07-competition/BDMA7_project_files/test_images/mistery_cat/ae4d0b13-6614-451a-92db-90c60e64e58c.jpg: 640x448 1 Bird, 39.6ms\n",
            "Speed: 3.2ms preprocess, 39.6ms inference, 1.5ms postprocess per image at shape (1, 3, 640, 448)\n"
          ]
        },
        {
          "output_type": "stream",
          "name": "stderr",
          "text": [
            "\rProcessing test_images/mistery_cat images:  75%|███████▌  | 300/400 [05:56<02:09,  1.29s/it]"
          ]
        },
        {
          "output_type": "stream",
          "name": "stdout",
          "text": [
            "\n",
            "image 1/1 /content/drive/MyDrive/bdma-07-competition/BDMA7_project_files/test_images/mistery_cat/76924428-0338-4241-b284-2630c5fddcf1.jpg: 448x640 1 Bird, 37.7ms\n",
            "Speed: 3.3ms preprocess, 37.7ms inference, 1.2ms postprocess per image at shape (1, 3, 448, 640)\n"
          ]
        },
        {
          "output_type": "stream",
          "name": "stderr",
          "text": [
            "\rProcessing test_images/mistery_cat images:  75%|███████▌  | 301/400 [05:58<02:14,  1.36s/it]"
          ]
        },
        {
          "output_type": "stream",
          "name": "stdout",
          "text": [
            "\n",
            "image 1/1 /content/drive/MyDrive/bdma-07-competition/BDMA7_project_files/test_images/mistery_cat/5a35fd9e-9510-48e1-82b6-1eef8d61cfb9.jpg: 640x512 1 Bird, 37.1ms\n",
            "Speed: 3.8ms preprocess, 37.1ms inference, 1.6ms postprocess per image at shape (1, 3, 640, 512)\n"
          ]
        },
        {
          "output_type": "stream",
          "name": "stderr",
          "text": [
            "\rProcessing test_images/mistery_cat images:  76%|███████▌  | 302/400 [05:58<01:59,  1.22s/it]"
          ]
        },
        {
          "output_type": "stream",
          "name": "stdout",
          "text": [
            "\n",
            "image 1/1 /content/drive/MyDrive/bdma-07-competition/BDMA7_project_files/test_images/mistery_cat/43ca70bc-f8c6-4832-84e6-4324ddbb3996.jpg: 544x640 1 Bird, 48.1ms\n",
            "Speed: 3.7ms preprocess, 48.1ms inference, 1.4ms postprocess per image at shape (1, 3, 544, 640)\n"
          ]
        },
        {
          "output_type": "stream",
          "name": "stderr",
          "text": [
            "\rProcessing test_images/mistery_cat images:  76%|███████▌  | 303/400 [05:59<01:48,  1.11s/it]"
          ]
        },
        {
          "output_type": "stream",
          "name": "stdout",
          "text": [
            "\n",
            "image 1/1 /content/drive/MyDrive/bdma-07-competition/BDMA7_project_files/test_images/mistery_cat/aac027fe-b69c-4181-b43f-ee5b12d979f6.jpg: 640x448 1 Bird, 37.5ms\n",
            "Speed: 3.2ms preprocess, 37.5ms inference, 7.4ms postprocess per image at shape (1, 3, 640, 448)\n"
          ]
        },
        {
          "output_type": "stream",
          "name": "stderr",
          "text": [
            "\rProcessing test_images/mistery_cat images:  76%|███████▌  | 304/400 [06:00<01:40,  1.05s/it]"
          ]
        },
        {
          "output_type": "stream",
          "name": "stdout",
          "text": [
            "\n",
            "image 1/1 /content/drive/MyDrive/bdma-07-competition/BDMA7_project_files/test_images/mistery_cat/1c62f098-f4a5-42f3-87ba-be52603a9657.jpg: 448x640 1 Bird, 37.8ms\n",
            "Speed: 3.1ms preprocess, 37.8ms inference, 1.3ms postprocess per image at shape (1, 3, 448, 640)\n"
          ]
        },
        {
          "output_type": "stream",
          "name": "stderr",
          "text": [
            "\rProcessing test_images/mistery_cat images:  76%|███████▋  | 305/400 [06:01<01:35,  1.01s/it]"
          ]
        },
        {
          "output_type": "stream",
          "name": "stdout",
          "text": [
            "\n",
            "image 1/1 /content/drive/MyDrive/bdma-07-competition/BDMA7_project_files/test_images/mistery_cat/c92bb9ac-4a73-45a8-a809-df0ab1905238.jpg: 480x640 1 Bird, 38.7ms\n",
            "Speed: 3.4ms preprocess, 38.7ms inference, 1.4ms postprocess per image at shape (1, 3, 480, 640)\n"
          ]
        },
        {
          "output_type": "stream",
          "name": "stderr",
          "text": [
            "\rProcessing test_images/mistery_cat images:  76%|███████▋  | 306/400 [06:02<01:33,  1.00it/s]"
          ]
        },
        {
          "output_type": "stream",
          "name": "stdout",
          "text": [
            "\n",
            "image 1/1 /content/drive/MyDrive/bdma-07-competition/BDMA7_project_files/test_images/mistery_cat/871454ea-f75c-4317-8e48-aa6bcfb03c02.jpg: 448x640 1 Bird, 37.6ms\n",
            "Speed: 3.2ms preprocess, 37.6ms inference, 1.2ms postprocess per image at shape (1, 3, 448, 640)\n"
          ]
        },
        {
          "output_type": "stream",
          "name": "stderr",
          "text": [
            "\rProcessing test_images/mistery_cat images:  77%|███████▋  | 307/400 [06:03<01:39,  1.07s/it]"
          ]
        },
        {
          "output_type": "stream",
          "name": "stdout",
          "text": [
            "\n",
            "image 1/1 /content/drive/MyDrive/bdma-07-competition/BDMA7_project_files/test_images/mistery_cat/dc4379fb-0515-473d-81c8-0d2a4f43a38c.jpg: 640x608 1 Bird, 47.5ms\n",
            "Speed: 4.4ms preprocess, 47.5ms inference, 1.3ms postprocess per image at shape (1, 3, 640, 608)\n"
          ]
        },
        {
          "output_type": "stream",
          "name": "stderr",
          "text": [
            "\rProcessing test_images/mistery_cat images:  77%|███████▋  | 308/400 [06:05<01:45,  1.15s/it]"
          ]
        },
        {
          "output_type": "stream",
          "name": "stdout",
          "text": [
            "\n",
            "image 1/1 /content/drive/MyDrive/bdma-07-competition/BDMA7_project_files/test_images/mistery_cat/86efff0d-9c69-4d2b-b45a-d968ec179098.jpg: 480x640 1 Bird, 38.6ms\n",
            "Speed: 3.4ms preprocess, 38.6ms inference, 1.2ms postprocess per image at shape (1, 3, 480, 640)\n"
          ]
        },
        {
          "output_type": "stream",
          "name": "stderr",
          "text": [
            "\rProcessing test_images/mistery_cat images:  77%|███████▋  | 309/400 [06:06<01:56,  1.28s/it]"
          ]
        },
        {
          "output_type": "stream",
          "name": "stdout",
          "text": [
            "\n",
            "image 1/1 /content/drive/MyDrive/bdma-07-competition/BDMA7_project_files/test_images/mistery_cat/d718da03-ffed-4be0-bbdb-8eb8a474bad3.jpg: 512x640 1 Bird, 39.2ms\n",
            "Speed: 3.6ms preprocess, 39.2ms inference, 1.5ms postprocess per image at shape (1, 3, 512, 640)\n"
          ]
        },
        {
          "output_type": "stream",
          "name": "stderr",
          "text": [
            "\rProcessing test_images/mistery_cat images:  78%|███████▊  | 310/400 [06:08<02:03,  1.37s/it]"
          ]
        },
        {
          "output_type": "stream",
          "name": "stdout",
          "text": [
            "\n",
            "image 1/1 /content/drive/MyDrive/bdma-07-competition/BDMA7_project_files/test_images/mistery_cat/9c336ec7-d2a5-418a-9bbb-c5a6298e36ef.jpg: 416x640 1 Bird, 37.2ms\n",
            "Speed: 3.0ms preprocess, 37.2ms inference, 1.7ms postprocess per image at shape (1, 3, 416, 640)\n"
          ]
        },
        {
          "output_type": "stream",
          "name": "stderr",
          "text": [
            "\rProcessing test_images/mistery_cat images:  78%|███████▊  | 311/400 [06:09<02:08,  1.44s/it]"
          ]
        },
        {
          "output_type": "stream",
          "name": "stdout",
          "text": [
            "\n",
            "image 1/1 /content/drive/MyDrive/bdma-07-competition/BDMA7_project_files/test_images/mistery_cat/2a50392c-b3b2-4562-91c8-5953c3c9e92c.jpg: 640x448 1 Bird, 35.7ms\n",
            "Speed: 3.2ms preprocess, 35.7ms inference, 1.2ms postprocess per image at shape (1, 3, 640, 448)\n"
          ]
        },
        {
          "output_type": "stream",
          "name": "stderr",
          "text": [
            "\rProcessing test_images/mistery_cat images:  78%|███████▊  | 312/400 [06:11<02:04,  1.41s/it]"
          ]
        },
        {
          "output_type": "stream",
          "name": "stdout",
          "text": [
            "\n",
            "image 1/1 /content/drive/MyDrive/bdma-07-competition/BDMA7_project_files/test_images/mistery_cat/169dba93-b700-4265-8857-d42d8dbe59f1.jpg: 448x640 1 Bird, 37.6ms\n",
            "Speed: 3.2ms preprocess, 37.6ms inference, 1.3ms postprocess per image at shape (1, 3, 448, 640)\n"
          ]
        },
        {
          "output_type": "stream",
          "name": "stderr",
          "text": [
            "\rProcessing test_images/mistery_cat images:  78%|███████▊  | 313/400 [06:12<01:50,  1.27s/it]"
          ]
        },
        {
          "output_type": "stream",
          "name": "stdout",
          "text": [
            "\n",
            "image 1/1 /content/drive/MyDrive/bdma-07-competition/BDMA7_project_files/test_images/mistery_cat/74cb1e31-ce96-41f2-aa45-519f3fbd6349.jpg: 448x640 1 Bird, 36.9ms\n",
            "Speed: 3.3ms preprocess, 36.9ms inference, 1.3ms postprocess per image at shape (1, 3, 448, 640)\n"
          ]
        },
        {
          "output_type": "stream",
          "name": "stderr",
          "text": [
            "\rProcessing test_images/mistery_cat images:  78%|███████▊  | 314/400 [06:13<01:39,  1.16s/it]"
          ]
        },
        {
          "output_type": "stream",
          "name": "stdout",
          "text": [
            "\n",
            "image 1/1 /content/drive/MyDrive/bdma-07-competition/BDMA7_project_files/test_images/mistery_cat/cba2ca8a-4132-40fa-aecc-cb1e60d72308.jpg: 640x640 1 Bird, 48.2ms\n",
            "Speed: 4.4ms preprocess, 48.2ms inference, 1.3ms postprocess per image at shape (1, 3, 640, 640)\n"
          ]
        },
        {
          "output_type": "stream",
          "name": "stderr",
          "text": [
            "\rProcessing test_images/mistery_cat images:  79%|███████▉  | 315/400 [06:14<01:47,  1.27s/it]"
          ]
        },
        {
          "output_type": "stream",
          "name": "stdout",
          "text": [
            "\n",
            "image 1/1 /content/drive/MyDrive/bdma-07-competition/BDMA7_project_files/test_images/mistery_cat/c1bd342c-67f6-4aa7-8391-ed4de9f27417.jpg: 640x512 1 Bird, 36.8ms\n",
            "Speed: 3.8ms preprocess, 36.8ms inference, 1.3ms postprocess per image at shape (1, 3, 640, 512)\n"
          ]
        },
        {
          "output_type": "stream",
          "name": "stderr",
          "text": [
            "\rProcessing test_images/mistery_cat images:  79%|███████▉  | 316/400 [06:15<01:40,  1.19s/it]"
          ]
        },
        {
          "output_type": "stream",
          "name": "stdout",
          "text": [
            "\n",
            "image 1/1 /content/drive/MyDrive/bdma-07-competition/BDMA7_project_files/test_images/mistery_cat/6ee33d4a-d301-4cb5-be75-8aadcd02f195.jpg: 448x640 1 Bird, 37.6ms\n",
            "Speed: 3.2ms preprocess, 37.6ms inference, 1.2ms postprocess per image at shape (1, 3, 448, 640)\n"
          ]
        },
        {
          "output_type": "stream",
          "name": "stderr",
          "text": [
            "\rProcessing test_images/mistery_cat images:  79%|███████▉  | 317/400 [06:17<01:48,  1.31s/it]"
          ]
        },
        {
          "output_type": "stream",
          "name": "stdout",
          "text": [
            "\n",
            "image 1/1 /content/drive/MyDrive/bdma-07-competition/BDMA7_project_files/test_images/mistery_cat/b8a1b691-a9e5-4f02-9fe7-8b2ec5118d41.jpg: 448x640 1 Bird, 36.8ms\n",
            "Speed: 3.4ms preprocess, 36.8ms inference, 1.4ms postprocess per image at shape (1, 3, 448, 640)\n"
          ]
        },
        {
          "output_type": "stream",
          "name": "stderr",
          "text": [
            "\rProcessing test_images/mistery_cat images:  80%|███████▉  | 318/400 [06:18<01:39,  1.22s/it]"
          ]
        },
        {
          "output_type": "stream",
          "name": "stdout",
          "text": [
            "\n",
            "image 1/1 /content/drive/MyDrive/bdma-07-competition/BDMA7_project_files/test_images/mistery_cat/beb3a70d-c13f-47aa-aaed-2834488a2665.jpg: 480x640 1 Bird, 38.8ms\n",
            "Speed: 5.6ms preprocess, 38.8ms inference, 1.6ms postprocess per image at shape (1, 3, 480, 640)\n"
          ]
        },
        {
          "output_type": "stream",
          "name": "stderr",
          "text": [
            "\rProcessing test_images/mistery_cat images:  80%|███████▉  | 319/400 [06:19<01:47,  1.33s/it]"
          ]
        },
        {
          "output_type": "stream",
          "name": "stdout",
          "text": [
            "\n",
            "image 1/1 /content/drive/MyDrive/bdma-07-competition/BDMA7_project_files/test_images/mistery_cat/e8f81dc5-b6e6-456d-b8d9-c769c366c94a.jpg: 480x640 1 Bird, 42.3ms\n",
            "Speed: 3.4ms preprocess, 42.3ms inference, 1.7ms postprocess per image at shape (1, 3, 480, 640)\n"
          ]
        },
        {
          "output_type": "stream",
          "name": "stderr",
          "text": [
            "\rProcessing test_images/mistery_cat images:  80%|████████  | 320/400 [06:20<01:35,  1.20s/it]"
          ]
        },
        {
          "output_type": "stream",
          "name": "stdout",
          "text": [
            "\n",
            "image 1/1 /content/drive/MyDrive/bdma-07-competition/BDMA7_project_files/test_images/mistery_cat/de9b92dc-b52f-4579-a1b5-b1f99db551a2.jpg: 640x448 1 Bird, 42.4ms\n",
            "Speed: 3.2ms preprocess, 42.4ms inference, 1.7ms postprocess per image at shape (1, 3, 640, 448)\n"
          ]
        },
        {
          "output_type": "stream",
          "name": "stderr",
          "text": [
            "\rProcessing test_images/mistery_cat images:  80%|████████  | 321/400 [06:21<01:28,  1.12s/it]"
          ]
        },
        {
          "output_type": "stream",
          "name": "stdout",
          "text": [
            "\n",
            "image 1/1 /content/drive/MyDrive/bdma-07-competition/BDMA7_project_files/test_images/mistery_cat/2b9bb616-d276-453f-80c9-6e0f2b751fe5.jpg: 448x640 1 Bird, 37.7ms\n",
            "Speed: 6.1ms preprocess, 37.7ms inference, 1.3ms postprocess per image at shape (1, 3, 448, 640)\n"
          ]
        },
        {
          "output_type": "stream",
          "name": "stderr",
          "text": [
            "\rProcessing test_images/mistery_cat images:  80%|████████  | 322/400 [06:22<01:23,  1.07s/it]"
          ]
        },
        {
          "output_type": "stream",
          "name": "stdout",
          "text": [
            "\n",
            "image 1/1 /content/drive/MyDrive/bdma-07-competition/BDMA7_project_files/test_images/mistery_cat/84c29e5b-a884-47e8-b761-e8d5f78e07d9.jpg: 640x640 1 Bird, 48.3ms\n",
            "Speed: 5.1ms preprocess, 48.3ms inference, 1.3ms postprocess per image at shape (1, 3, 640, 640)\n"
          ]
        },
        {
          "output_type": "stream",
          "name": "stderr",
          "text": [
            "\rProcessing test_images/mistery_cat images:  81%|████████  | 323/400 [06:24<01:33,  1.21s/it]"
          ]
        },
        {
          "output_type": "stream",
          "name": "stdout",
          "text": [
            "\n",
            "image 1/1 /content/drive/MyDrive/bdma-07-competition/BDMA7_project_files/test_images/mistery_cat/dbd98ed3-a29d-4bc1-adbe-41dded5d3ba7.jpg: 640x448 1 Bird, 35.6ms\n",
            "Speed: 3.1ms preprocess, 35.6ms inference, 1.2ms postprocess per image at shape (1, 3, 640, 448)\n"
          ]
        },
        {
          "output_type": "stream",
          "name": "stderr",
          "text": [
            "\rProcessing test_images/mistery_cat images:  81%|████████  | 324/400 [06:25<01:33,  1.23s/it]"
          ]
        },
        {
          "output_type": "stream",
          "name": "stdout",
          "text": [
            "\n",
            "image 1/1 /content/drive/MyDrive/bdma-07-competition/BDMA7_project_files/test_images/mistery_cat/f2302af0-d7aa-4b87-9389-75a94afb0b54.jpg: 480x640 1 Bird, 38.6ms\n",
            "Speed: 3.9ms preprocess, 38.6ms inference, 1.2ms postprocess per image at shape (1, 3, 480, 640)\n"
          ]
        },
        {
          "output_type": "stream",
          "name": "stderr",
          "text": [
            "\rProcessing test_images/mistery_cat images:  81%|████████▏ | 325/400 [06:26<01:40,  1.33s/it]"
          ]
        },
        {
          "output_type": "stream",
          "name": "stdout",
          "text": [
            "\n",
            "image 1/1 /content/drive/MyDrive/bdma-07-competition/BDMA7_project_files/test_images/mistery_cat/62811a29-f582-40ae-977a-3f3e531bd340.jpg: 480x640 1 Bird, 37.8ms\n",
            "Speed: 8.3ms preprocess, 37.8ms inference, 1.7ms postprocess per image at shape (1, 3, 480, 640)\n"
          ]
        },
        {
          "output_type": "stream",
          "name": "stderr",
          "text": [
            "\rProcessing test_images/mistery_cat images:  82%|████████▏ | 326/400 [06:28<01:37,  1.31s/it]"
          ]
        },
        {
          "output_type": "stream",
          "name": "stdout",
          "text": [
            "\n",
            "image 1/1 /content/drive/MyDrive/bdma-07-competition/BDMA7_project_files/test_images/mistery_cat/860a92e8-8c06-4e38-83d4-05d07d0baacf.jpg: 544x640 1 Bird, 45.9ms\n",
            "Speed: 3.9ms preprocess, 45.9ms inference, 1.2ms postprocess per image at shape (1, 3, 544, 640)\n"
          ]
        },
        {
          "output_type": "stream",
          "name": "stderr",
          "text": [
            "\rProcessing test_images/mistery_cat images:  82%|████████▏ | 327/400 [06:29<01:26,  1.18s/it]"
          ]
        },
        {
          "output_type": "stream",
          "name": "stdout",
          "text": [
            "\n",
            "image 1/1 /content/drive/MyDrive/bdma-07-competition/BDMA7_project_files/test_images/mistery_cat/e53d93c0-c393-4abf-9dc4-b7ed935f6765.jpg: 448x640 1 Bird, 37.9ms\n",
            "Speed: 3.3ms preprocess, 37.9ms inference, 1.2ms postprocess per image at shape (1, 3, 448, 640)\n"
          ]
        },
        {
          "output_type": "stream",
          "name": "stderr",
          "text": [
            "\rProcessing test_images/mistery_cat images:  82%|████████▏ | 328/400 [06:30<01:27,  1.21s/it]"
          ]
        },
        {
          "output_type": "stream",
          "name": "stdout",
          "text": [
            "\n",
            "image 1/1 /content/drive/MyDrive/bdma-07-competition/BDMA7_project_files/test_images/mistery_cat/60a019d5-d14c-4773-847c-12068eae9381.jpg: 640x512 1 Bird, 36.7ms\n",
            "Speed: 3.7ms preprocess, 36.7ms inference, 1.2ms postprocess per image at shape (1, 3, 640, 512)\n"
          ]
        },
        {
          "output_type": "stream",
          "name": "stderr",
          "text": [
            "\rProcessing test_images/mistery_cat images:  82%|████████▏ | 329/400 [06:31<01:27,  1.23s/it]"
          ]
        },
        {
          "output_type": "stream",
          "name": "stdout",
          "text": [
            "\n",
            "image 1/1 /content/drive/MyDrive/bdma-07-competition/BDMA7_project_files/test_images/mistery_cat/f4094556-b57e-4fd1-98f0-6174822039c0.jpg: 480x640 1 Bird, 38.9ms\n",
            "Speed: 6.7ms preprocess, 38.9ms inference, 1.6ms postprocess per image at shape (1, 3, 480, 640)\n"
          ]
        },
        {
          "output_type": "stream",
          "name": "stderr",
          "text": [
            "\rProcessing test_images/mistery_cat images:  82%|████████▎ | 330/400 [06:33<01:30,  1.30s/it]"
          ]
        },
        {
          "output_type": "stream",
          "name": "stdout",
          "text": [
            "\n",
            "image 1/1 /content/drive/MyDrive/bdma-07-competition/BDMA7_project_files/test_images/mistery_cat/5f9f3da1-645f-427c-9f66-e7b97ecc58d0.jpg: 448x640 1 Bird, 45.1ms\n",
            "Speed: 3.6ms preprocess, 45.1ms inference, 1.9ms postprocess per image at shape (1, 3, 448, 640)\n"
          ]
        },
        {
          "output_type": "stream",
          "name": "stderr",
          "text": [
            "\rProcessing test_images/mistery_cat images:  83%|████████▎ | 331/400 [06:34<01:24,  1.22s/it]"
          ]
        },
        {
          "output_type": "stream",
          "name": "stdout",
          "text": [
            "\n",
            "image 1/1 /content/drive/MyDrive/bdma-07-competition/BDMA7_project_files/test_images/mistery_cat/214cd8ab-348e-41c7-a8d9-fe00185cbe4a.jpg: 480x640 1 Bird, 40.3ms\n",
            "Speed: 7.1ms preprocess, 40.3ms inference, 1.2ms postprocess per image at shape (1, 3, 480, 640)\n"
          ]
        },
        {
          "output_type": "stream",
          "name": "stderr",
          "text": [
            "\rProcessing test_images/mistery_cat images:  83%|████████▎ | 332/400 [06:35<01:29,  1.31s/it]"
          ]
        },
        {
          "output_type": "stream",
          "name": "stdout",
          "text": [
            "\n",
            "image 1/1 /content/drive/MyDrive/bdma-07-competition/BDMA7_project_files/test_images/mistery_cat/526de2d4-8f51-4b6f-843b-d1576df98d04.jpg: 384x640 1 Bird, 31.9ms\n",
            "Speed: 2.9ms preprocess, 31.9ms inference, 1.3ms postprocess per image at shape (1, 3, 384, 640)\n"
          ]
        },
        {
          "output_type": "stream",
          "name": "stderr",
          "text": [
            "\rProcessing test_images/mistery_cat images:  83%|████████▎ | 333/400 [06:36<01:26,  1.29s/it]"
          ]
        },
        {
          "output_type": "stream",
          "name": "stdout",
          "text": [
            "\n",
            "image 1/1 /content/drive/MyDrive/bdma-07-competition/BDMA7_project_files/test_images/mistery_cat/901cc974-1c50-4de5-b9cd-9bf02651df27.jpg: 480x640 1 Bird, 38.7ms\n",
            "Speed: 3.8ms preprocess, 38.7ms inference, 1.4ms postprocess per image at shape (1, 3, 480, 640)\n"
          ]
        },
        {
          "output_type": "stream",
          "name": "stderr",
          "text": [
            "\rProcessing test_images/mistery_cat images:  84%|████████▎ | 334/400 [06:37<01:18,  1.19s/it]"
          ]
        },
        {
          "output_type": "stream",
          "name": "stdout",
          "text": [
            "\n",
            "image 1/1 /content/drive/MyDrive/bdma-07-competition/BDMA7_project_files/test_images/mistery_cat/64cc74bd-66a0-4e39-aba2-96184dfd1206.jpg: 640x640 1 Bird, 48.2ms\n",
            "Speed: 4.4ms preprocess, 48.2ms inference, 1.3ms postprocess per image at shape (1, 3, 640, 640)\n"
          ]
        },
        {
          "output_type": "stream",
          "name": "stderr",
          "text": [
            "\rProcessing test_images/mistery_cat images:  84%|████████▍ | 335/400 [06:38<01:13,  1.14s/it]"
          ]
        },
        {
          "output_type": "stream",
          "name": "stdout",
          "text": [
            "\n",
            "image 1/1 /content/drive/MyDrive/bdma-07-competition/BDMA7_project_files/test_images/mistery_cat/8edf3704-68f6-4696-97be-f25144280cd7.jpg: 512x640 1 Bird, 39.0ms\n",
            "Speed: 3.5ms preprocess, 39.0ms inference, 1.2ms postprocess per image at shape (1, 3, 512, 640)\n"
          ]
        },
        {
          "output_type": "stream",
          "name": "stderr",
          "text": [
            "\rProcessing test_images/mistery_cat images:  84%|████████▍ | 336/400 [06:40<01:19,  1.24s/it]"
          ]
        },
        {
          "output_type": "stream",
          "name": "stdout",
          "text": [
            "\n",
            "image 1/1 /content/drive/MyDrive/bdma-07-competition/BDMA7_project_files/test_images/mistery_cat/46e88ca9-167a-4bfb-85ac-da50fe3ced1b.jpg: 448x640 1 Bird, 37.6ms\n",
            "Speed: 3.4ms preprocess, 37.6ms inference, 1.2ms postprocess per image at shape (1, 3, 448, 640)\n"
          ]
        },
        {
          "output_type": "stream",
          "name": "stderr",
          "text": [
            "\rProcessing test_images/mistery_cat images:  84%|████████▍ | 337/400 [06:41<01:24,  1.35s/it]"
          ]
        },
        {
          "output_type": "stream",
          "name": "stdout",
          "text": [
            "\n",
            "image 1/1 /content/drive/MyDrive/bdma-07-competition/BDMA7_project_files/test_images/mistery_cat/f9f89d93-cd23-497d-8d33-d6fb3cff60b4.jpg: 480x640 1 Bird, 38.8ms\n",
            "Speed: 3.1ms preprocess, 38.8ms inference, 1.6ms postprocess per image at shape (1, 3, 480, 640)\n"
          ]
        },
        {
          "output_type": "stream",
          "name": "stderr",
          "text": [
            "\rProcessing test_images/mistery_cat images:  84%|████████▍ | 338/400 [06:42<01:16,  1.23s/it]"
          ]
        },
        {
          "output_type": "stream",
          "name": "stdout",
          "text": [
            "\n",
            "image 1/1 /content/drive/MyDrive/bdma-07-competition/BDMA7_project_files/test_images/mistery_cat/f0acbbf0-33ba-4429-b207-55c25f53ac69.jpg: 448x640 1 Bird, 38.3ms\n",
            "Speed: 3.2ms preprocess, 38.3ms inference, 1.9ms postprocess per image at shape (1, 3, 448, 640)\n"
          ]
        },
        {
          "output_type": "stream",
          "name": "stderr",
          "text": [
            "\rProcessing test_images/mistery_cat images:  85%|████████▍ | 339/400 [06:44<01:22,  1.36s/it]"
          ]
        },
        {
          "output_type": "stream",
          "name": "stdout",
          "text": [
            "\n",
            "image 1/1 /content/drive/MyDrive/bdma-07-competition/BDMA7_project_files/test_images/mistery_cat/18cad6fb-c02e-4540-bc00-976cdf0c5271.jpg: 512x640 1 Bird, 40.4ms\n",
            "Speed: 4.6ms preprocess, 40.4ms inference, 1.8ms postprocess per image at shape (1, 3, 512, 640)\n"
          ]
        },
        {
          "output_type": "stream",
          "name": "stderr",
          "text": [
            "\rProcessing test_images/mistery_cat images:  85%|████████▌ | 340/400 [06:46<01:23,  1.40s/it]"
          ]
        },
        {
          "output_type": "stream",
          "name": "stdout",
          "text": [
            "\n",
            "image 1/1 /content/drive/MyDrive/bdma-07-competition/BDMA7_project_files/test_images/mistery_cat/4fb16341-48be-4d9f-aa2a-674eda07b582.jpg: 448x640 1 Bird, 37.7ms\n",
            "Speed: 3.3ms preprocess, 37.7ms inference, 1.3ms postprocess per image at shape (1, 3, 448, 640)\n"
          ]
        },
        {
          "output_type": "stream",
          "name": "stderr",
          "text": [
            "\rProcessing test_images/mistery_cat images:  85%|████████▌ | 341/400 [06:47<01:14,  1.27s/it]"
          ]
        },
        {
          "output_type": "stream",
          "name": "stdout",
          "text": [
            "\n",
            "image 1/1 /content/drive/MyDrive/bdma-07-competition/BDMA7_project_files/test_images/mistery_cat/cc08e4f2-4349-4431-8b3b-3c5a06847909.jpg: 640x448 1 Bird, 35.6ms\n",
            "Speed: 3.2ms preprocess, 35.6ms inference, 1.3ms postprocess per image at shape (1, 3, 640, 448)\n"
          ]
        },
        {
          "output_type": "stream",
          "name": "stderr",
          "text": [
            "\rProcessing test_images/mistery_cat images:  86%|████████▌ | 342/400 [06:47<01:08,  1.17s/it]"
          ]
        },
        {
          "output_type": "stream",
          "name": "stdout",
          "text": [
            "\n",
            "image 1/1 /content/drive/MyDrive/bdma-07-competition/BDMA7_project_files/test_images/mistery_cat/8ba3fd3a-09b1-40f2-9d64-e3e6c61c7c3b.jpg: 512x640 1 Bird, 39.0ms\n",
            "Speed: 4.1ms preprocess, 39.0ms inference, 1.2ms postprocess per image at shape (1, 3, 512, 640)\n"
          ]
        },
        {
          "output_type": "stream",
          "name": "stderr",
          "text": [
            "\rProcessing test_images/mistery_cat images:  86%|████████▌ | 343/400 [06:49<01:08,  1.20s/it]"
          ]
        },
        {
          "output_type": "stream",
          "name": "stdout",
          "text": [
            "\n",
            "image 1/1 /content/drive/MyDrive/bdma-07-competition/BDMA7_project_files/test_images/mistery_cat/501cf977-75b0-4ea4-98ee-308226718320.jpg: 640x512 1 Bird, 36.8ms\n",
            "Speed: 3.6ms preprocess, 36.8ms inference, 1.3ms postprocess per image at shape (1, 3, 640, 512)\n"
          ]
        },
        {
          "output_type": "stream",
          "name": "stderr",
          "text": [
            "\rProcessing test_images/mistery_cat images:  86%|████████▌ | 344/400 [06:50<01:07,  1.21s/it]"
          ]
        },
        {
          "output_type": "stream",
          "name": "stdout",
          "text": [
            "\n",
            "image 1/1 /content/drive/MyDrive/bdma-07-competition/BDMA7_project_files/test_images/mistery_cat/1d9c405f-b193-4034-9744-1ce5c2778296.jpg: 480x640 1 Bird, 38.7ms\n",
            "Speed: 3.4ms preprocess, 38.7ms inference, 1.2ms postprocess per image at shape (1, 3, 480, 640)\n"
          ]
        },
        {
          "output_type": "stream",
          "name": "stderr",
          "text": [
            "\rProcessing test_images/mistery_cat images:  86%|████████▋ | 345/400 [06:51<01:07,  1.23s/it]"
          ]
        },
        {
          "output_type": "stream",
          "name": "stdout",
          "text": [
            "\n",
            "image 1/1 /content/drive/MyDrive/bdma-07-competition/BDMA7_project_files/test_images/mistery_cat/a26cbd27-7e5a-48c9-a4b9-5a9c100a1839.jpg: 448x640 1 Bird, 44.0ms\n",
            "Speed: 3.1ms preprocess, 44.0ms inference, 2.1ms postprocess per image at shape (1, 3, 448, 640)\n"
          ]
        },
        {
          "output_type": "stream",
          "name": "stderr",
          "text": [
            "\rProcessing test_images/mistery_cat images:  86%|████████▋ | 346/400 [06:52<01:02,  1.16s/it]"
          ]
        },
        {
          "output_type": "stream",
          "name": "stdout",
          "text": [
            "\n",
            "image 1/1 /content/drive/MyDrive/bdma-07-competition/BDMA7_project_files/test_images/mistery_cat/dc845fe1-fb51-4993-a3b3-21ca99eee43a.jpg: 480x640 1 Bird, 38.5ms\n",
            "Speed: 3.4ms preprocess, 38.5ms inference, 1.2ms postprocess per image at shape (1, 3, 480, 640)\n"
          ]
        },
        {
          "output_type": "stream",
          "name": "stderr",
          "text": [
            "\rProcessing test_images/mistery_cat images:  87%|████████▋ | 347/400 [06:54<01:07,  1.28s/it]"
          ]
        },
        {
          "output_type": "stream",
          "name": "stdout",
          "text": [
            "\n",
            "image 1/1 /content/drive/MyDrive/bdma-07-competition/BDMA7_project_files/test_images/mistery_cat/324a1c80-e4f3-44fa-8feb-7ad7917e5b97.jpg: 512x640 1 Bird, 39.0ms\n",
            "Speed: 3.7ms preprocess, 39.0ms inference, 1.3ms postprocess per image at shape (1, 3, 512, 640)\n"
          ]
        },
        {
          "output_type": "stream",
          "name": "stderr",
          "text": [
            "\rProcessing test_images/mistery_cat images:  87%|████████▋ | 348/400 [06:55<01:01,  1.18s/it]"
          ]
        },
        {
          "output_type": "stream",
          "name": "stdout",
          "text": [
            "\n",
            "image 1/1 /content/drive/MyDrive/bdma-07-competition/BDMA7_project_files/test_images/mistery_cat/1a14429a-865d-4c9b-ac5b-35b6dc61c8a9.jpg: 480x640 1 Bird, 38.6ms\n",
            "Speed: 3.5ms preprocess, 38.6ms inference, 1.3ms postprocess per image at shape (1, 3, 480, 640)\n"
          ]
        },
        {
          "output_type": "stream",
          "name": "stderr",
          "text": [
            "\rProcessing test_images/mistery_cat images:  87%|████████▋ | 349/400 [06:56<00:55,  1.09s/it]"
          ]
        },
        {
          "output_type": "stream",
          "name": "stdout",
          "text": [
            "\n",
            "image 1/1 /content/drive/MyDrive/bdma-07-competition/BDMA7_project_files/test_images/mistery_cat/e7b4548c-d755-431b-8974-8a13754c3d21.jpg: 448x640 1 Bird, 40.1ms\n",
            "Speed: 3.0ms preprocess, 40.1ms inference, 1.6ms postprocess per image at shape (1, 3, 448, 640)\n"
          ]
        },
        {
          "output_type": "stream",
          "name": "stderr",
          "text": [
            "\rProcessing test_images/mistery_cat images:  88%|████████▊ | 350/400 [06:57<01:00,  1.22s/it]"
          ]
        },
        {
          "output_type": "stream",
          "name": "stdout",
          "text": [
            "\n",
            "image 1/1 /content/drive/MyDrive/bdma-07-competition/BDMA7_project_files/test_images/mistery_cat/e72fa000-b152-4aa4-a26f-20c051647bf5.jpg: 640x512 1 Bird, 39.6ms\n",
            "Speed: 10.6ms preprocess, 39.6ms inference, 1.8ms postprocess per image at shape (1, 3, 640, 512)\n"
          ]
        },
        {
          "output_type": "stream",
          "name": "stderr",
          "text": [
            "\rProcessing test_images/mistery_cat images:  88%|████████▊ | 351/400 [06:58<00:57,  1.18s/it]"
          ]
        },
        {
          "output_type": "stream",
          "name": "stdout",
          "text": [
            "\n",
            "image 1/1 /content/drive/MyDrive/bdma-07-competition/BDMA7_project_files/test_images/mistery_cat/37e2a8fb-3123-40c9-8f0b-7875ac21d376.jpg: 512x640 1 Bird, 39.0ms\n",
            "Speed: 5.5ms preprocess, 39.0ms inference, 1.2ms postprocess per image at shape (1, 3, 512, 640)\n"
          ]
        },
        {
          "output_type": "stream",
          "name": "stderr",
          "text": [
            "\rProcessing test_images/mistery_cat images:  88%|████████▊ | 352/400 [07:00<01:01,  1.28s/it]"
          ]
        },
        {
          "output_type": "stream",
          "name": "stdout",
          "text": [
            "\n",
            "image 1/1 /content/drive/MyDrive/bdma-07-competition/BDMA7_project_files/test_images/mistery_cat/83ee354c-03ce-49a4-b15b-073f94ab9c03.jpg: 480x640 1 Bird, 40.7ms\n",
            "Speed: 3.5ms preprocess, 40.7ms inference, 1.2ms postprocess per image at shape (1, 3, 480, 640)\n"
          ]
        },
        {
          "output_type": "stream",
          "name": "stderr",
          "text": [
            "\rProcessing test_images/mistery_cat images:  88%|████████▊ | 353/400 [07:01<00:54,  1.16s/it]"
          ]
        },
        {
          "output_type": "stream",
          "name": "stdout",
          "text": [
            "\n",
            "image 1/1 /content/drive/MyDrive/bdma-07-competition/BDMA7_project_files/test_images/mistery_cat/7442546c-3b5a-461f-a716-9f67bb33db1c.jpg: 512x640 1 Bird, 39.0ms\n",
            "Speed: 3.9ms preprocess, 39.0ms inference, 1.2ms postprocess per image at shape (1, 3, 512, 640)\n"
          ]
        },
        {
          "output_type": "stream",
          "name": "stderr",
          "text": [
            "\rProcessing test_images/mistery_cat images:  88%|████████▊ | 354/400 [07:02<00:50,  1.11s/it]"
          ]
        },
        {
          "output_type": "stream",
          "name": "stdout",
          "text": [
            "\n",
            "image 1/1 /content/drive/MyDrive/bdma-07-competition/BDMA7_project_files/test_images/mistery_cat/e17fb45d-08a6-412a-8436-c68bca97a2b0.jpg: 640x448 1 Bird, 35.7ms\n",
            "Speed: 3.4ms preprocess, 35.7ms inference, 1.3ms postprocess per image at shape (1, 3, 640, 448)\n"
          ]
        },
        {
          "output_type": "stream",
          "name": "stderr",
          "text": [
            "\rProcessing test_images/mistery_cat images:  89%|████████▉ | 355/400 [07:03<00:51,  1.14s/it]"
          ]
        },
        {
          "output_type": "stream",
          "name": "stdout",
          "text": [
            "\n",
            "image 1/1 /content/drive/MyDrive/bdma-07-competition/BDMA7_project_files/test_images/mistery_cat/d5a60446-0497-4ba0-bcfd-eb664ed824e2.jpg: 544x640 1 Bird, 46.0ms\n",
            "Speed: 4.5ms preprocess, 46.0ms inference, 1.4ms postprocess per image at shape (1, 3, 544, 640)\n"
          ]
        },
        {
          "output_type": "stream",
          "name": "stderr",
          "text": [
            "\rProcessing test_images/mistery_cat images:  89%|████████▉ | 356/400 [07:04<00:51,  1.17s/it]"
          ]
        },
        {
          "output_type": "stream",
          "name": "stdout",
          "text": [
            "\n",
            "image 1/1 /content/drive/MyDrive/bdma-07-competition/BDMA7_project_files/test_images/mistery_cat/0a3d2fc2-6444-413f-804a-0ebe8dd3f664.jpg: 448x640 1 Bird, 37.8ms\n",
            "Speed: 3.2ms preprocess, 37.8ms inference, 1.2ms postprocess per image at shape (1, 3, 448, 640)\n"
          ]
        },
        {
          "output_type": "stream",
          "name": "stderr",
          "text": [
            "\rProcessing test_images/mistery_cat images:  89%|████████▉ | 357/400 [07:05<00:47,  1.11s/it]"
          ]
        },
        {
          "output_type": "stream",
          "name": "stdout",
          "text": [
            "\n",
            "image 1/1 /content/drive/MyDrive/bdma-07-competition/BDMA7_project_files/test_images/mistery_cat/a3b84773-8880-4c24-b6ae-0bc43f9c74bb.jpg: 608x640 1 Bird, 47.5ms\n",
            "Speed: 4.3ms preprocess, 47.5ms inference, 1.3ms postprocess per image at shape (1, 3, 608, 640)\n"
          ]
        },
        {
          "output_type": "stream",
          "name": "stderr",
          "text": [
            "\rProcessing test_images/mistery_cat images:  90%|████████▉ | 358/400 [07:06<00:46,  1.10s/it]"
          ]
        },
        {
          "output_type": "stream",
          "name": "stdout",
          "text": [
            "\n",
            "image 1/1 /content/drive/MyDrive/bdma-07-competition/BDMA7_project_files/test_images/mistery_cat/12c2d60b-10f5-4f12-b7a9-a5127065b1ec.jpg: 640x512 1 Bird, 36.7ms\n",
            "Speed: 3.8ms preprocess, 36.7ms inference, 1.2ms postprocess per image at shape (1, 3, 640, 512)\n"
          ]
        },
        {
          "output_type": "stream",
          "name": "stderr",
          "text": [
            "\rProcessing test_images/mistery_cat images:  90%|████████▉ | 359/400 [07:07<00:42,  1.04s/it]"
          ]
        },
        {
          "output_type": "stream",
          "name": "stdout",
          "text": [
            "\n",
            "image 1/1 /content/drive/MyDrive/bdma-07-competition/BDMA7_project_files/test_images/mistery_cat/2f1867e3-14e4-4ef5-8db4-2022aa57b05a.jpg: 512x640 1 Bird, 39.1ms\n",
            "Speed: 3.8ms preprocess, 39.1ms inference, 1.2ms postprocess per image at shape (1, 3, 512, 640)\n"
          ]
        },
        {
          "output_type": "stream",
          "name": "stderr",
          "text": [
            "\rProcessing test_images/mistery_cat images:  90%|█████████ | 360/400 [07:08<00:39,  1.01it/s]"
          ]
        },
        {
          "output_type": "stream",
          "name": "stdout",
          "text": [
            "\n",
            "image 1/1 /content/drive/MyDrive/bdma-07-competition/BDMA7_project_files/test_images/mistery_cat/1de2dcef-3fdb-49e8-9c87-25185618dbee.jpg: 544x640 1 Bird, 47.7ms\n",
            "Speed: 3.7ms preprocess, 47.7ms inference, 1.6ms postprocess per image at shape (1, 3, 544, 640)\n"
          ]
        },
        {
          "output_type": "stream",
          "name": "stderr",
          "text": [
            "\rProcessing test_images/mistery_cat images:  90%|█████████ | 361/400 [07:09<00:41,  1.07s/it]"
          ]
        },
        {
          "output_type": "stream",
          "name": "stdout",
          "text": [
            "\n",
            "image 1/1 /content/drive/MyDrive/bdma-07-competition/BDMA7_project_files/test_images/mistery_cat/45d81e35-2a25-4f25-ab8e-58587ad4fe77.jpg: 448x640 1 Bird, 44.5ms\n",
            "Speed: 3.3ms preprocess, 44.5ms inference, 1.5ms postprocess per image at shape (1, 3, 448, 640)\n"
          ]
        },
        {
          "output_type": "stream",
          "name": "stderr",
          "text": [
            "\rProcessing test_images/mistery_cat images:  90%|█████████ | 362/400 [07:10<00:38,  1.01s/it]"
          ]
        },
        {
          "output_type": "stream",
          "name": "stdout",
          "text": [
            "\n",
            "image 1/1 /content/drive/MyDrive/bdma-07-competition/BDMA7_project_files/test_images/mistery_cat/9c3db537-116a-4e2e-91d6-8f8ef5c3c812.jpg: 544x640 1 Bird, 46.3ms\n",
            "Speed: 3.8ms preprocess, 46.3ms inference, 2.2ms postprocess per image at shape (1, 3, 544, 640)\n"
          ]
        },
        {
          "output_type": "stream",
          "name": "stderr",
          "text": [
            "\rProcessing test_images/mistery_cat images:  91%|█████████ | 363/400 [07:11<00:37,  1.02s/it]"
          ]
        },
        {
          "output_type": "stream",
          "name": "stdout",
          "text": [
            "\n",
            "image 1/1 /content/drive/MyDrive/bdma-07-competition/BDMA7_project_files/test_images/mistery_cat/a4c63f83-0d36-4a0d-80d5-27193a6103cf.jpg: 640x640 1 Bird, 48.2ms\n",
            "Speed: 3.9ms preprocess, 48.2ms inference, 1.2ms postprocess per image at shape (1, 3, 640, 640)\n"
          ]
        },
        {
          "output_type": "stream",
          "name": "stderr",
          "text": [
            "\rProcessing test_images/mistery_cat images:  91%|█████████ | 364/400 [07:13<00:42,  1.19s/it]"
          ]
        },
        {
          "output_type": "stream",
          "name": "stdout",
          "text": [
            "\n",
            "image 1/1 /content/drive/MyDrive/bdma-07-competition/BDMA7_project_files/test_images/mistery_cat/48c16f15-ea56-4857-aa81-3e601be28244.jpg: 640x480 1 Bird, 36.6ms\n",
            "Speed: 3.4ms preprocess, 36.6ms inference, 1.8ms postprocess per image at shape (1, 3, 640, 480)\n"
          ]
        },
        {
          "output_type": "stream",
          "name": "stderr",
          "text": [
            "\rProcessing test_images/mistery_cat images:  91%|█████████▏| 365/400 [07:14<00:38,  1.11s/it]"
          ]
        },
        {
          "output_type": "stream",
          "name": "stdout",
          "text": [
            "\n",
            "image 1/1 /content/drive/MyDrive/bdma-07-competition/BDMA7_project_files/test_images/mistery_cat/47f6e3af-d4d8-4e66-bbf6-67bad5a5ba64.jpg: 480x640 1 Bird, 38.6ms\n",
            "Speed: 4.0ms preprocess, 38.6ms inference, 1.3ms postprocess per image at shape (1, 3, 480, 640)\n"
          ]
        },
        {
          "output_type": "stream",
          "name": "stderr",
          "text": [
            "\rProcessing test_images/mistery_cat images:  92%|█████████▏| 366/400 [07:15<00:42,  1.24s/it]"
          ]
        },
        {
          "output_type": "stream",
          "name": "stdout",
          "text": [
            "\n",
            "image 1/1 /content/drive/MyDrive/bdma-07-competition/BDMA7_project_files/test_images/mistery_cat/a12cf332-6618-40ce-a6d1-17bbdcb8c456.jpg: 640x480 1 Bird, 37.1ms\n",
            "Speed: 3.6ms preprocess, 37.1ms inference, 1.8ms postprocess per image at shape (1, 3, 640, 480)\n"
          ]
        },
        {
          "output_type": "stream",
          "name": "stderr",
          "text": [
            "\rProcessing test_images/mistery_cat images:  92%|█████████▏| 367/400 [07:17<00:44,  1.34s/it]"
          ]
        },
        {
          "output_type": "stream",
          "name": "stdout",
          "text": [
            "\n",
            "image 1/1 /content/drive/MyDrive/bdma-07-competition/BDMA7_project_files/test_images/mistery_cat/0bc059ad-6c2e-4210-920f-04877e5aa9bb.jpg: 416x640 1 Bird, 37.1ms\n",
            "Speed: 3.1ms preprocess, 37.1ms inference, 1.2ms postprocess per image at shape (1, 3, 416, 640)\n"
          ]
        },
        {
          "output_type": "stream",
          "name": "stderr",
          "text": [
            "\rProcessing test_images/mistery_cat images:  92%|█████████▏| 368/400 [07:18<00:43,  1.37s/it]"
          ]
        },
        {
          "output_type": "stream",
          "name": "stdout",
          "text": [
            "\n",
            "image 1/1 /content/drive/MyDrive/bdma-07-competition/BDMA7_project_files/test_images/mistery_cat/061c3569-07a0-4611-ad18-ffeec09fb828.jpg: 480x640 1 Bird, 38.5ms\n",
            "Speed: 3.4ms preprocess, 38.5ms inference, 1.2ms postprocess per image at shape (1, 3, 480, 640)\n"
          ]
        },
        {
          "output_type": "stream",
          "name": "stderr",
          "text": [
            "\rProcessing test_images/mistery_cat images:  92%|█████████▏| 369/400 [07:19<00:41,  1.33s/it]"
          ]
        },
        {
          "output_type": "stream",
          "name": "stdout",
          "text": [
            "\n",
            "image 1/1 /content/drive/MyDrive/bdma-07-competition/BDMA7_project_files/test_images/mistery_cat/85c36217-82cd-4e3f-a863-ef8fa4ff50c7.jpg: 640x512 1 Bird, 36.8ms\n",
            "Speed: 3.9ms preprocess, 36.8ms inference, 1.3ms postprocess per image at shape (1, 3, 640, 512)\n"
          ]
        },
        {
          "output_type": "stream",
          "name": "stderr",
          "text": [
            "\rProcessing test_images/mistery_cat images:  92%|█████████▎| 370/400 [07:20<00:36,  1.22s/it]"
          ]
        },
        {
          "output_type": "stream",
          "name": "stdout",
          "text": [
            "\n",
            "image 1/1 /content/drive/MyDrive/bdma-07-competition/BDMA7_project_files/test_images/mistery_cat/348174ec-55ea-4b79-a0ed-3f09bfcb209d.jpg: 640x512 1 Bird, 37.9ms\n",
            "Speed: 3.5ms preprocess, 37.9ms inference, 1.6ms postprocess per image at shape (1, 3, 640, 512)\n"
          ]
        },
        {
          "output_type": "stream",
          "name": "stderr",
          "text": [
            "\rProcessing test_images/mistery_cat images:  93%|█████████▎| 371/400 [07:22<00:37,  1.30s/it]"
          ]
        },
        {
          "output_type": "stream",
          "name": "stdout",
          "text": [
            "\n",
            "image 1/1 /content/drive/MyDrive/bdma-07-competition/BDMA7_project_files/test_images/mistery_cat/3aa31ddd-755b-44de-8348-8c36b64a1a29.jpg: 640x416 1 Bird, 35.9ms\n",
            "Speed: 3.7ms preprocess, 35.9ms inference, 2.2ms postprocess per image at shape (1, 3, 640, 416)\n"
          ]
        },
        {
          "output_type": "stream",
          "name": "stderr",
          "text": [
            "\rProcessing test_images/mistery_cat images:  93%|█████████▎| 372/400 [07:23<00:37,  1.35s/it]"
          ]
        },
        {
          "output_type": "stream",
          "name": "stdout",
          "text": [
            "\n",
            "image 1/1 /content/drive/MyDrive/bdma-07-competition/BDMA7_project_files/test_images/mistery_cat/91dcbbb0-aef6-4d64-91d7-cedb76ac6bb9.jpg: 640x608 1 Bird, 47.7ms\n",
            "Speed: 4.4ms preprocess, 47.7ms inference, 1.2ms postprocess per image at shape (1, 3, 640, 608)\n"
          ]
        },
        {
          "output_type": "stream",
          "name": "stderr",
          "text": [
            "\rProcessing test_images/mistery_cat images:  93%|█████████▎| 373/400 [07:24<00:32,  1.22s/it]"
          ]
        },
        {
          "output_type": "stream",
          "name": "stdout",
          "text": [
            "\n",
            "image 1/1 /content/drive/MyDrive/bdma-07-competition/BDMA7_project_files/test_images/mistery_cat/8ee75699-005a-4649-aaa2-b4120e994fc4.jpg: 448x640 1 Bird, 37.7ms\n",
            "Speed: 3.5ms preprocess, 37.7ms inference, 1.2ms postprocess per image at shape (1, 3, 448, 640)\n"
          ]
        },
        {
          "output_type": "stream",
          "name": "stderr",
          "text": [
            "\rProcessing test_images/mistery_cat images:  94%|█████████▎| 374/400 [07:25<00:29,  1.12s/it]"
          ]
        },
        {
          "output_type": "stream",
          "name": "stdout",
          "text": [
            "\n",
            "image 1/1 /content/drive/MyDrive/bdma-07-competition/BDMA7_project_files/test_images/mistery_cat/ae4b60e9-8f1e-403d-8223-2c6ad1bee105.jpg: 640x448 1 Bird, 35.6ms\n",
            "Speed: 3.4ms preprocess, 35.6ms inference, 1.3ms postprocess per image at shape (1, 3, 640, 448)\n"
          ]
        },
        {
          "output_type": "stream",
          "name": "stderr",
          "text": [
            "\rProcessing test_images/mistery_cat images:  94%|█████████▍| 375/400 [07:27<00:31,  1.27s/it]"
          ]
        },
        {
          "output_type": "stream",
          "name": "stdout",
          "text": [
            "\n",
            "image 1/1 /content/drive/MyDrive/bdma-07-competition/BDMA7_project_files/test_images/mistery_cat/bea422c3-d9f5-4b5e-b9a6-f135914af562.jpg: 480x640 1 Bird, 38.6ms\n",
            "Speed: 4.6ms preprocess, 38.6ms inference, 1.3ms postprocess per image at shape (1, 3, 480, 640)\n"
          ]
        },
        {
          "output_type": "stream",
          "name": "stderr",
          "text": [
            "\rProcessing test_images/mistery_cat images:  94%|█████████▍| 376/400 [07:28<00:32,  1.35s/it]"
          ]
        },
        {
          "output_type": "stream",
          "name": "stdout",
          "text": [
            "\n",
            "image 1/1 /content/drive/MyDrive/bdma-07-competition/BDMA7_project_files/test_images/mistery_cat/58e304e5-c822-41b1-86bf-1d55e49eb4e2.jpg: 448x640 1 Bird, 37.6ms\n",
            "Speed: 3.2ms preprocess, 37.6ms inference, 1.3ms postprocess per image at shape (1, 3, 448, 640)\n"
          ]
        },
        {
          "output_type": "stream",
          "name": "stderr",
          "text": [
            "\rProcessing test_images/mistery_cat images:  94%|█████████▍| 377/400 [07:29<00:27,  1.20s/it]"
          ]
        },
        {
          "output_type": "stream",
          "name": "stdout",
          "text": [
            "\n",
            "image 1/1 /content/drive/MyDrive/bdma-07-competition/BDMA7_project_files/test_images/mistery_cat/eccae49f-b855-49c5-b8c1-b85c6a5cc296.jpg: 416x640 1 Bird, 37.0ms\n",
            "Speed: 3.0ms preprocess, 37.0ms inference, 1.2ms postprocess per image at shape (1, 3, 416, 640)\n"
          ]
        },
        {
          "output_type": "stream",
          "name": "stderr",
          "text": [
            "\rProcessing test_images/mistery_cat images:  94%|█████████▍| 378/400 [07:31<00:31,  1.42s/it]"
          ]
        },
        {
          "output_type": "stream",
          "name": "stdout",
          "text": [
            "\n",
            "image 1/1 /content/drive/MyDrive/bdma-07-competition/BDMA7_project_files/test_images/mistery_cat/36512405-6dc5-43c6-86ee-0ee4c1a52b62.jpg: 480x640 1 Bird, 38.6ms\n",
            "Speed: 3.6ms preprocess, 38.6ms inference, 1.3ms postprocess per image at shape (1, 3, 480, 640)\n"
          ]
        },
        {
          "output_type": "stream",
          "name": "stderr",
          "text": [
            "\rProcessing test_images/mistery_cat images:  95%|█████████▍| 379/400 [07:32<00:29,  1.39s/it]"
          ]
        },
        {
          "output_type": "stream",
          "name": "stdout",
          "text": [
            "\n",
            "image 1/1 /content/drive/MyDrive/bdma-07-competition/BDMA7_project_files/test_images/mistery_cat/aa672b31-a63c-44ed-9d52-558fb60e3aa9.jpg: 640x416 1 Bird, 35.3ms\n",
            "Speed: 3.0ms preprocess, 35.3ms inference, 1.3ms postprocess per image at shape (1, 3, 640, 416)\n"
          ]
        },
        {
          "output_type": "stream",
          "name": "stderr",
          "text": [
            "\rProcessing test_images/mistery_cat images:  95%|█████████▌| 380/400 [07:33<00:25,  1.29s/it]"
          ]
        },
        {
          "output_type": "stream",
          "name": "stdout",
          "text": [
            "\n",
            "image 1/1 /content/drive/MyDrive/bdma-07-competition/BDMA7_project_files/test_images/mistery_cat/39ec1c87-4bad-4bc3-a214-d6ceed5c5fb6.jpg: 480x640 1 Bird, 39.9ms\n",
            "Speed: 3.4ms preprocess, 39.9ms inference, 1.9ms postprocess per image at shape (1, 3, 480, 640)\n"
          ]
        },
        {
          "output_type": "stream",
          "name": "stderr",
          "text": [
            "\rProcessing test_images/mistery_cat images:  95%|█████████▌| 381/400 [07:34<00:22,  1.19s/it]"
          ]
        },
        {
          "output_type": "stream",
          "name": "stdout",
          "text": [
            "\n",
            "image 1/1 /content/drive/MyDrive/bdma-07-competition/BDMA7_project_files/test_images/mistery_cat/4e954a03-56a0-4ace-9828-e166b5e9ecfd.jpg: 448x640 1 Bird, 43.0ms\n",
            "Speed: 3.1ms preprocess, 43.0ms inference, 1.8ms postprocess per image at shape (1, 3, 448, 640)\n"
          ]
        },
        {
          "output_type": "stream",
          "name": "stderr",
          "text": [
            "\rProcessing test_images/mistery_cat images:  96%|█████████▌| 382/400 [07:36<00:21,  1.21s/it]"
          ]
        },
        {
          "output_type": "stream",
          "name": "stdout",
          "text": [
            "\n",
            "image 1/1 /content/drive/MyDrive/bdma-07-competition/BDMA7_project_files/test_images/mistery_cat/2d09e4bb-00bf-4cc0-9f8b-df41178b0c01.jpg: 512x640 1 Bird, 39.3ms\n",
            "Speed: 3.9ms preprocess, 39.3ms inference, 1.4ms postprocess per image at shape (1, 3, 512, 640)\n"
          ]
        },
        {
          "output_type": "stream",
          "name": "stderr",
          "text": [
            "\rProcessing test_images/mistery_cat images:  96%|█████████▌| 383/400 [07:37<00:21,  1.28s/it]"
          ]
        },
        {
          "output_type": "stream",
          "name": "stdout",
          "text": [
            "\n",
            "image 1/1 /content/drive/MyDrive/bdma-07-competition/BDMA7_project_files/test_images/mistery_cat/2f7ae5ef-f887-493b-9e2e-0b2a87499a33.jpg: 448x640 1 Bird, 37.6ms\n",
            "Speed: 3.1ms preprocess, 37.6ms inference, 1.3ms postprocess per image at shape (1, 3, 448, 640)\n"
          ]
        },
        {
          "output_type": "stream",
          "name": "stderr",
          "text": [
            "\rProcessing test_images/mistery_cat images:  96%|█████████▌| 384/400 [07:38<00:18,  1.18s/it]"
          ]
        },
        {
          "output_type": "stream",
          "name": "stdout",
          "text": [
            "\n",
            "image 1/1 /content/drive/MyDrive/bdma-07-competition/BDMA7_project_files/test_images/mistery_cat/2c25579e-d68d-46fa-a6fe-35dc7b5ddbda.jpg: 640x512 1 Bird, 37.0ms\n",
            "Speed: 4.4ms preprocess, 37.0ms inference, 1.6ms postprocess per image at shape (1, 3, 640, 512)\n"
          ]
        },
        {
          "output_type": "stream",
          "name": "stderr",
          "text": [
            "\rProcessing test_images/mistery_cat images:  96%|█████████▋| 385/400 [07:39<00:18,  1.24s/it]"
          ]
        },
        {
          "output_type": "stream",
          "name": "stdout",
          "text": [
            "\n",
            "image 1/1 /content/drive/MyDrive/bdma-07-competition/BDMA7_project_files/test_images/mistery_cat/10fd2ecf-825c-4e82-bd7b-cdb165760b63.jpg: 544x640 1 Bird, 46.0ms\n",
            "Speed: 4.5ms preprocess, 46.0ms inference, 1.8ms postprocess per image at shape (1, 3, 544, 640)\n"
          ]
        },
        {
          "output_type": "stream",
          "name": "stderr",
          "text": [
            "\rProcessing test_images/mistery_cat images:  96%|█████████▋| 386/400 [07:40<00:15,  1.08s/it]"
          ]
        },
        {
          "output_type": "stream",
          "name": "stdout",
          "text": [
            "\n",
            "image 1/1 /content/drive/MyDrive/bdma-07-competition/BDMA7_project_files/test_images/mistery_cat/f5b4ff99-33bf-4dbd-8174-a152f6b6911e.jpg: 448x640 1 Bird, 37.7ms\n",
            "Speed: 3.3ms preprocess, 37.7ms inference, 1.3ms postprocess per image at shape (1, 3, 448, 640)\n"
          ]
        },
        {
          "output_type": "stream",
          "name": "stderr",
          "text": [
            "\rProcessing test_images/mistery_cat images:  97%|█████████▋| 387/400 [07:41<00:13,  1.02s/it]"
          ]
        },
        {
          "output_type": "stream",
          "name": "stdout",
          "text": [
            "\n",
            "image 1/1 /content/drive/MyDrive/bdma-07-competition/BDMA7_project_files/test_images/mistery_cat/34e4a402-e072-4bb0-be92-90c7bea6dcf9.jpg: 480x640 1 Bird, 38.5ms\n",
            "Speed: 3.6ms preprocess, 38.5ms inference, 1.2ms postprocess per image at shape (1, 3, 480, 640)\n"
          ]
        },
        {
          "output_type": "stream",
          "name": "stderr",
          "text": [
            "\rProcessing test_images/mistery_cat images:  97%|█████████▋| 388/400 [07:42<00:12,  1.02s/it]"
          ]
        },
        {
          "output_type": "stream",
          "name": "stdout",
          "text": [
            "\n",
            "image 1/1 /content/drive/MyDrive/bdma-07-competition/BDMA7_project_files/test_images/mistery_cat/310e0d23-96d3-4445-a34b-46480f9fc8d2.jpg: 640x512 1 Bird, 36.7ms\n",
            "Speed: 3.6ms preprocess, 36.7ms inference, 1.3ms postprocess per image at shape (1, 3, 640, 512)\n"
          ]
        },
        {
          "output_type": "stream",
          "name": "stderr",
          "text": [
            "\rProcessing test_images/mistery_cat images:  97%|█████████▋| 389/400 [07:43<00:11,  1.02s/it]"
          ]
        },
        {
          "output_type": "stream",
          "name": "stdout",
          "text": [
            "\n",
            "image 1/1 /content/drive/MyDrive/bdma-07-competition/BDMA7_project_files/test_images/mistery_cat/186b5212-fbf4-47d2-a834-baaef28cc958.jpg: 448x640 1 Bird, 37.9ms\n",
            "Speed: 3.4ms preprocess, 37.9ms inference, 1.3ms postprocess per image at shape (1, 3, 448, 640)\n"
          ]
        },
        {
          "output_type": "stream",
          "name": "stderr",
          "text": [
            "\rProcessing test_images/mistery_cat images:  98%|█████████▊| 390/400 [07:45<00:11,  1.18s/it]"
          ]
        },
        {
          "output_type": "stream",
          "name": "stdout",
          "text": [
            "\n",
            "image 1/1 /content/drive/MyDrive/bdma-07-competition/BDMA7_project_files/test_images/mistery_cat/355dd879-88a3-4e26-a7bd-3f208f6fc352.jpg: 448x640 1 Bird, 36.8ms\n",
            "Speed: 3.2ms preprocess, 36.8ms inference, 1.4ms postprocess per image at shape (1, 3, 448, 640)\n"
          ]
        },
        {
          "output_type": "stream",
          "name": "stderr",
          "text": [
            "\rProcessing test_images/mistery_cat images:  98%|█████████▊| 391/400 [07:46<00:10,  1.21s/it]"
          ]
        },
        {
          "output_type": "stream",
          "name": "stdout",
          "text": [
            "\n",
            "image 1/1 /content/drive/MyDrive/bdma-07-competition/BDMA7_project_files/test_images/mistery_cat/7765259f-a0a2-48e8-85fa-1fbedee776b3.jpg: 512x640 1 Bird, 44.0ms\n",
            "Speed: 3.5ms preprocess, 44.0ms inference, 1.9ms postprocess per image at shape (1, 3, 512, 640)\n"
          ]
        },
        {
          "output_type": "stream",
          "name": "stderr",
          "text": [
            "\rProcessing test_images/mistery_cat images:  98%|█████████▊| 392/400 [07:47<00:08,  1.12s/it]"
          ]
        },
        {
          "output_type": "stream",
          "name": "stdout",
          "text": [
            "\n",
            "image 1/1 /content/drive/MyDrive/bdma-07-competition/BDMA7_project_files/test_images/mistery_cat/100c9cef-e24c-48fe-a22d-5a144145365d.jpg: 416x640 1 Bird, 37.3ms\n",
            "Speed: 2.9ms preprocess, 37.3ms inference, 1.6ms postprocess per image at shape (1, 3, 416, 640)\n"
          ]
        },
        {
          "output_type": "stream",
          "name": "stderr",
          "text": [
            "\rProcessing test_images/mistery_cat images:  98%|█████████▊| 393/400 [07:48<00:08,  1.24s/it]"
          ]
        },
        {
          "output_type": "stream",
          "name": "stdout",
          "text": [
            "\n",
            "image 1/1 /content/drive/MyDrive/bdma-07-competition/BDMA7_project_files/test_images/mistery_cat/f268b3b1-2bd7-44ee-91a7-847e431f5bc0.jpg: 480x640 1 Bird, 38.7ms\n",
            "Speed: 3.6ms preprocess, 38.7ms inference, 1.3ms postprocess per image at shape (1, 3, 480, 640)\n"
          ]
        },
        {
          "output_type": "stream",
          "name": "stderr",
          "text": [
            "\rProcessing test_images/mistery_cat images:  98%|█████████▊| 394/400 [07:50<00:07,  1.32s/it]"
          ]
        },
        {
          "output_type": "stream",
          "name": "stdout",
          "text": [
            "\n",
            "image 1/1 /content/drive/MyDrive/bdma-07-competition/BDMA7_project_files/test_images/mistery_cat/56db39e0-f769-48f8-8687-61bd7703e476.jpg: 448x640 1 Bird, 37.6ms\n",
            "Speed: 3.1ms preprocess, 37.6ms inference, 1.3ms postprocess per image at shape (1, 3, 448, 640)\n"
          ]
        },
        {
          "output_type": "stream",
          "name": "stderr",
          "text": [
            "\rProcessing test_images/mistery_cat images:  99%|█████████▉| 395/400 [07:51<00:06,  1.28s/it]"
          ]
        },
        {
          "output_type": "stream",
          "name": "stdout",
          "text": [
            "\n",
            "image 1/1 /content/drive/MyDrive/bdma-07-competition/BDMA7_project_files/test_images/mistery_cat/4a53e392-6359-4386-81dc-acc71d1fcfe3.jpg: 640x512 1 Bird, 36.8ms\n",
            "Speed: 3.5ms preprocess, 36.8ms inference, 1.3ms postprocess per image at shape (1, 3, 640, 512)\n"
          ]
        },
        {
          "output_type": "stream",
          "name": "stderr",
          "text": [
            "\rProcessing test_images/mistery_cat images:  99%|█████████▉| 396/400 [07:52<00:05,  1.28s/it]"
          ]
        },
        {
          "output_type": "stream",
          "name": "stdout",
          "text": [
            "\n",
            "image 1/1 /content/drive/MyDrive/bdma-07-competition/BDMA7_project_files/test_images/mistery_cat/1aabb131-3144-4f64-a3c0-46fa6d153b50.jpg: 448x640 1 Bird, 38.2ms\n",
            "Speed: 3.3ms preprocess, 38.2ms inference, 1.3ms postprocess per image at shape (1, 3, 448, 640)\n"
          ]
        },
        {
          "output_type": "stream",
          "name": "stderr",
          "text": [
            "\rProcessing test_images/mistery_cat images:  99%|█████████▉| 397/400 [07:53<00:03,  1.19s/it]"
          ]
        },
        {
          "output_type": "stream",
          "name": "stdout",
          "text": [
            "\n",
            "image 1/1 /content/drive/MyDrive/bdma-07-competition/BDMA7_project_files/test_images/mistery_cat/e488246f-501d-482a-bedf-1f6b50d1f70e.jpg: 480x640 1 Bird, 38.8ms\n",
            "Speed: 3.8ms preprocess, 38.8ms inference, 1.2ms postprocess per image at shape (1, 3, 480, 640)\n"
          ]
        },
        {
          "output_type": "stream",
          "name": "stderr",
          "text": [
            "\rProcessing test_images/mistery_cat images: 100%|█████████▉| 398/400 [07:54<00:02,  1.09s/it]"
          ]
        },
        {
          "output_type": "stream",
          "name": "stdout",
          "text": [
            "\n",
            "image 1/1 /content/drive/MyDrive/bdma-07-competition/BDMA7_project_files/test_images/mistery_cat/3ad7c164-0d2f-4f38-a50c-c2b85f69fc4f.jpg: 448x640 1 Bird, 37.7ms\n",
            "Speed: 3.1ms preprocess, 37.7ms inference, 1.2ms postprocess per image at shape (1, 3, 448, 640)\n"
          ]
        },
        {
          "output_type": "stream",
          "name": "stderr",
          "text": [
            "\rProcessing test_images/mistery_cat images: 100%|█████████▉| 399/400 [07:55<00:01,  1.13s/it]"
          ]
        },
        {
          "output_type": "stream",
          "name": "stdout",
          "text": [
            "\n",
            "image 1/1 /content/drive/MyDrive/bdma-07-competition/BDMA7_project_files/test_images/mistery_cat/baa5009b-b99f-418b-9231-4d387526b1f7.jpg: 416x640 1 Bird, 37.1ms\n",
            "Speed: 12.7ms preprocess, 37.1ms inference, 1.2ms postprocess per image at shape (1, 3, 416, 640)\n"
          ]
        },
        {
          "output_type": "stream",
          "name": "stderr",
          "text": [
            "Processing test_images/mistery_cat images: 100%|██████████| 400/400 [07:57<00:00,  1.19s/it]"
          ]
        },
        {
          "output_type": "stream",
          "name": "stdout",
          "text": [
            "✅ Cropped and resized images saved successfully!\n"
          ]
        },
        {
          "output_type": "stream",
          "name": "stderr",
          "text": [
            "\n"
          ]
        }
      ]
    },
    {
      "cell_type": "code",
      "source": [
        "# done"
      ],
      "metadata": {
        "id": "pSZ6N0mSoDYl"
      },
      "id": "pSZ6N0mSoDYl",
      "execution_count": 22,
      "outputs": []
    }
  ],
  "metadata": {
    "kaggle": {
      "accelerator": "gpu",
      "dataSources": [],
      "dockerImageVersionId": 30840,
      "isGpuEnabled": true,
      "isInternetEnabled": true,
      "language": "python",
      "sourceType": "notebook"
    },
    "kernelspec": {
      "display_name": "Python 3",
      "name": "python3"
    },
    "language_info": {
      "codemirror_mode": {
        "name": "ipython",
        "version": 3
      },
      "file_extension": ".py",
      "mimetype": "text/x-python",
      "name": "python",
      "nbconvert_exporter": "python",
      "pygments_lexer": "ipython3",
      "version": "3.10.12"
    },
    "papermill": {
      "default_parameters": {},
      "duration": 22741.011481,
      "end_time": "2025-02-06T03:14:59.290174",
      "environment_variables": {},
      "exception": null,
      "input_path": "__notebook__.ipynb",
      "output_path": "__notebook__.ipynb",
      "parameters": {},
      "start_time": "2025-02-05T20:55:58.278693",
      "version": "2.6.0"
    },
    "colab": {
      "provenance": [],
      "gpuType": "T4"
    },
    "accelerator": "GPU"
  },
  "nbformat": 4,
  "nbformat_minor": 5
}