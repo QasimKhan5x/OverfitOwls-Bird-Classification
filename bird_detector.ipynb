{
  "cells": [
    {
      "cell_type": "code",
      "execution_count": null,
      "id": "3b7d92df",
      "metadata": {
        "_cell_guid": "b1076dfc-b9ad-4769-8c92-a6c4dae69d19",
        "_uuid": "8f2839f25d086af736a60e9eeb907d3b93b6e0e5",
        "colab": {
          "base_uri": "https://localhost:8080/"
        },
        "execution": {
          "iopub.execute_input": "2025-02-05T20:56:01.263766Z",
          "iopub.status.busy": "2025-02-05T20:56:01.263246Z",
          "iopub.status.idle": "2025-02-05T20:56:01.450204Z",
          "shell.execute_reply": "2025-02-05T20:56:01.448932Z"
        },
        "id": "3b7d92df",
        "outputId": "e4669487-3132-48b8-ac52-4972e0d4c975",
        "papermill": {
          "duration": 0.193013,
          "end_time": "2025-02-05T20:56:01.452237",
          "exception": false,
          "start_time": "2025-02-05T20:56:01.259224",
          "status": "completed"
        },
        "tags": []
      },
      "outputs": [],
      "source": [
        "!nvidia-smi"
      ]
    },
    {
      "cell_type": "code",
      "execution_count": null,
      "id": "8048cd19",
      "metadata": {
        "colab": {
          "base_uri": "https://localhost:8080/"
        },
        "execution": {
          "iopub.execute_input": "2025-02-05T20:56:01.458544Z",
          "iopub.status.busy": "2025-02-05T20:56:01.458223Z",
          "iopub.status.idle": "2025-02-05T20:56:07.843925Z",
          "shell.execute_reply": "2025-02-05T20:56:07.842852Z"
        },
        "id": "8048cd19",
        "outputId": "e558bf08-6430-4d3f-e9ea-d204e566f277",
        "papermill": {
          "duration": 6.390662,
          "end_time": "2025-02-05T20:56:07.845733",
          "exception": false,
          "start_time": "2025-02-05T20:56:01.455071",
          "status": "completed"
        },
        "tags": []
      },
      "outputs": [],
      "source": [
        "!pip install ultralytics"
      ]
    },
    {
      "cell_type": "code",
      "execution_count": null,
      "id": "b69f1a89",
      "metadata": {
        "colab": {
          "base_uri": "https://localhost:8080/"
        },
        "execution": {
          "iopub.execute_input": "2025-02-05T20:56:07.855336Z",
          "iopub.status.busy": "2025-02-05T20:56:07.855012Z",
          "iopub.status.idle": "2025-02-05T20:56:14.486236Z",
          "shell.execute_reply": "2025-02-05T20:56:14.485305Z"
        },
        "id": "b69f1a89",
        "outputId": "885a0eaf-1bcb-4c85-d0ee-83e5879731be",
        "papermill": {
          "duration": 6.638392,
          "end_time": "2025-02-05T20:56:14.487794",
          "exception": false,
          "start_time": "2025-02-05T20:56:07.849402",
          "status": "completed"
        },
        "tags": []
      },
      "outputs": [],
      "source": [
        "import ultralytics\n",
        "ultralytics.checks()"
      ]
    },
    {
      "cell_type": "code",
      "execution_count": null,
      "id": "ccefbd8e",
      "metadata": {
        "execution": {
          "iopub.execute_input": "2025-02-05T20:56:14.496316Z",
          "iopub.status.busy": "2025-02-05T20:56:14.495820Z",
          "iopub.status.idle": "2025-02-05T20:56:14.503729Z",
          "shell.execute_reply": "2025-02-05T20:56:14.502926Z"
        },
        "id": "ccefbd8e",
        "outputId": "b5d6f2c8-33cb-4f52-bb66-b26cc74fcee4",
        "papermill": {
          "duration": 0.013663,
          "end_time": "2025-02-05T20:56:14.505120",
          "exception": false,
          "start_time": "2025-02-05T20:56:14.491457",
          "status": "completed"
        },
        "tags": []
      },
      "outputs": [],
      "source": [
        "import ultralytics\n",
        "ultralytics.checks()"
      ]
    },
    {
      "cell_type": "code",
      "execution_count": null,
      "id": "3Bp9m5dsoyN3",
      "metadata": {
        "colab": {
          "base_uri": "https://localhost:8080/",
          "height": 957
        },
        "id": "3Bp9m5dsoyN3",
        "outputId": "4854bccc-3123-4197-cbab-a601d6b40ecd"
      },
      "outputs": [],
      "source": [
        "!pip install roboflow"
      ]
    },
    {
      "cell_type": "code",
      "execution_count": null,
      "id": "b4c86fbe",
      "metadata": {
        "execution": {
          "iopub.execute_input": "2025-02-05T20:56:14.513165Z",
          "iopub.status.busy": "2025-02-05T20:56:14.512891Z",
          "iopub.status.idle": "2025-02-05T20:56:26.813431Z",
          "shell.execute_reply": "2025-02-05T20:56:26.812520Z"
        },
        "id": "b4c86fbe",
        "outputId": "9e9a682a-40a5-4766-f905-47eeffe3b2ac",
        "papermill": {
          "duration": 12.306402,
          "end_time": "2025-02-05T20:56:26.815233",
          "exception": false,
          "start_time": "2025-02-05T20:56:14.508831",
          "status": "completed"
        },
        "tags": []
      },
      "outputs": [],
      "source": [
        "from roboflow import Roboflow\n",
        "rf = Roboflow(api_key=\"uhtPWClvIGgUa3WaB0k6\")\n",
        "project = rf.workspace(\"ml-lmvau\").project(\"birddetector-wrvb1-v20r0\")\n",
        "version = project.version(1)\n",
        "dataset = version.download(\"yolov11\")"
      ]
    },
    {
      "cell_type": "code",
      "execution_count": null,
      "id": "40b75eed",
      "metadata": {
        "execution": {
          "iopub.execute_input": "2025-02-05T20:56:26.832148Z",
          "iopub.status.busy": "2025-02-05T20:56:26.831765Z",
          "iopub.status.idle": "2025-02-05T20:56:26.838130Z",
          "shell.execute_reply": "2025-02-05T20:56:26.837159Z"
        },
        "id": "40b75eed",
        "outputId": "e97e129e-43fa-468a-9cbc-ec4e5c495b51",
        "papermill": {
          "duration": 0.016253,
          "end_time": "2025-02-05T20:56:26.839599",
          "exception": false,
          "start_time": "2025-02-05T20:56:26.823346",
          "status": "completed"
        },
        "tags": []
      },
      "outputs": [],
      "source": [
        "dataset.location"
      ]
    },
    {
      "cell_type": "code",
      "execution_count": null,
      "id": "b9200280",
      "metadata": {
        "execution": {
          "iopub.execute_input": "2025-02-05T20:56:26.855866Z",
          "iopub.status.busy": "2025-02-05T20:56:26.855492Z",
          "iopub.status.idle": "2025-02-06T03:14:53.806919Z",
          "shell.execute_reply": "2025-02-06T03:14:53.805574Z"
        },
        "id": "b9200280",
        "outputId": "6706320b-57b8-4dd0-8b6f-dddf97e1adbd",
        "papermill": {
          "duration": 22706.961535,
          "end_time": "2025-02-06T03:14:53.808804",
          "exception": false,
          "start_time": "2025-02-05T20:56:26.847269",
          "status": "completed"
        },
        "tags": []
      },
      "outputs": [],
      "source": [
        "!yolo task=detect mode=train data={dataset.location}/data.yaml model=\"yolo11l.pt\" epochs=100 imgsz=640 batch=16 plots=True save=True"
      ]
    },
    {
      "cell_type": "code",
      "execution_count": null,
      "id": "SZ0wVnefn81i",
      "metadata": {
        "colab": {
          "base_uri": "https://localhost:8080/"
        },
        "id": "SZ0wVnefn81i",
        "outputId": "4af9998f-1b36-426a-c113-b8f9ebc1a70d"
      },
      "outputs": [],
      "source": [
        "from google.colab import drive\n",
        "drive.mount('/content/drive')"
      ]
    },
    {
      "cell_type": "code",
      "execution_count": null,
      "id": "yZpCTo7poDTg",
      "metadata": {
        "colab": {
          "base_uri": "https://localhost:8080/"
        },
        "id": "yZpCTo7poDTg",
        "outputId": "bcdb6bfa-473c-4c29-a02f-fa25f57d6a46"
      },
      "outputs": [],
      "source": [
        "import os\n",
        "import cv2\n",
        "import pandas as pd\n",
        "from PIL import Image\n",
        "from tqdm import tqdm\n",
        "from ultralytics import YOLO\n",
        "\n",
        "# ===========================\n",
        "# CONFIGURATION\n",
        "# ===========================\n",
        "MODEL_PATH = \"/content/drive/MyDrive/bdma-07-competition/best.pt\"  # Path to trained YOLO11L model\n",
        "ROOT_DIR = \"/content/drive/MyDrive/bdma-07-competition/BDMA7_project_files/\"\n",
        "SAVE_DIR = \"/content/drive/MyDrive/bdma-07-competition/BDMA7_project_files/cropped_images/\"\n",
        "RESIZE_SHAPE = (448, 448)  # Resize cropped images to 448x448\n",
        "\n",
        "# Paths to metadata files\n",
        "train_csv = os.path.join(ROOT_DIR, \"train_metadata.csv\")\n",
        "val_csv = os.path.join(ROOT_DIR, \"val_metadata.csv\")\n",
        "train_img_dir = os.path.join(ROOT_DIR, \"train_images\")\n",
        "val_img_dir = os.path.join(ROOT_DIR, \"val_images\")\n",
        "test_img_dir = os.path.join(ROOT_DIR, \"test_images/mistery_cat\")\n",
        "\n",
        "# ===========================\n",
        "# LOAD YOLO MODEL\n",
        "# ===========================\n",
        "model = YOLO(MODEL_PATH)\n",
        "\n",
        "# ===========================\n",
        "# HELPER FUNCTION: CROP, RESIZE, AND SAVE IMAGES\n",
        "# ===========================\n",
        "def crop_resize_save_images(image_paths, save_subdir, is_test=False):\n",
        "    for img_path in tqdm(image_paths, desc=f\"Processing {save_subdir} images\"):\n",
        "        try:\n",
        "            filename = img_path\n",
        "            if not is_test:\n",
        "                class_name = filename.split('/')[7]  # Extract class from folder structure\n",
        "                class_save_dir = os.path.join(SAVE_DIR, save_subdir, class_name)\n",
        "                os.makedirs(class_save_dir, exist_ok=True)\n",
        "                save_path = os.path.join(class_save_dir, filename.split('/')[8])  # Keep original name\n",
        "            else:\n",
        "                test_save_dir = os.path.join(SAVE_DIR, save_subdir)\n",
        "                os.makedirs(test_save_dir, exist_ok=True)\n",
        "                save_path = os.path.join(test_save_dir, filename.split('/')[8])  # Keep original name\n",
        "\n",
        "            # Read image\n",
        "            image = cv2.imread(img_path)\n",
        "            if image is None:\n",
        "                print(f\"Warning: Could not read {img_path}\")\n",
        "                continue\n",
        "\n",
        "            # Run YOLO inference\n",
        "            results = model(img_path)\n",
        "\n",
        "            for result in results:\n",
        "                boxes = result.boxes.xyxy.cpu().numpy()  # Get bounding boxes [x1, y1, x2, y2]\n",
        "                if len(boxes) == 0:\n",
        "                    print(f\"Warning: No objects detected in {img_path}, skipping cropping.\")\n",
        "                    continue  # Skip if no objects detected\n",
        "\n",
        "                # Use the first detected box (assuming one object per image)\n",
        "                x1, y1, x2, y2 = map(int, boxes[0])\n",
        "\n",
        "                # Crop the detected region\n",
        "                cropped_img = image[y1:y2, x1:x2]\n",
        "\n",
        "                # Convert to PIL format, resize, and save\n",
        "                cropped_img_pil = Image.fromarray(cv2.cvtColor(cropped_img, cv2.COLOR_BGR2RGB))\n",
        "                resized_img_pil = cropped_img_pil.resize(RESIZE_SHAPE, Image.Resampling.LANCZOS)\n",
        "                resized_img_pil.save(save_path)\n",
        "\n",
        "        except Exception as e:\n",
        "            print(f\"Error processing {img_path}: {e}\")\n",
        "\n",
        "# ===========================\n",
        "# PROCESS TRAIN, VAL, TEST IMAGES\n",
        "# ===========================\n",
        "\n",
        "# Load train and val metadata\n",
        "train_metadata = pd.read_csv(train_csv)\n",
        "val_metadata = pd.read_csv(val_csv)\n",
        "\n",
        "# Get full image paths\n",
        "train_images = [os.path.join(train_img_dir, img) for img in train_metadata.iloc[:, 0].tolist()]\n",
        "val_images = [os.path.join(val_img_dir, img) for img in val_metadata.iloc[:, 0].tolist()]\n",
        "test_images = [os.path.join(test_img_dir, img) for img in os.listdir(test_img_dir) if img.endswith((\".jpg\", \".png\"))]\n",
        "\n",
        "print(train_images[0].split(\"/\")[7])\n",
        "\n",
        "# Process images\n",
        "crop_resize_save_images(train_images, \"train_images\")\n",
        "crop_resize_save_images(val_images, \"val_images\")\n",
        "crop_resize_save_images(test_images, \"test_images/mistery_cat\", is_test=True)\n",
        "\n",
        "print(\"✅ Cropped and resized images saved successfully!\")"
      ]
    },
    {
      "cell_type": "code",
      "execution_count": null,
      "id": "pSZ6N0mSoDYl",
      "metadata": {
        "id": "pSZ6N0mSoDYl"
      },
      "outputs": [],
      "source": [
        "# done"
      ]
    }
  ],
  "metadata": {
    "accelerator": "GPU",
    "colab": {
      "gpuType": "T4",
      "provenance": []
    },
    "kaggle": {
      "accelerator": "gpu",
      "dataSources": [],
      "dockerImageVersionId": 30840,
      "isGpuEnabled": true,
      "isInternetEnabled": true,
      "language": "python",
      "sourceType": "notebook"
    },
    "kernelspec": {
      "display_name": "base",
      "language": "python",
      "name": "python3"
    },
    "language_info": {
      "codemirror_mode": {
        "name": "ipython",
        "version": 3
      },
      "file_extension": ".py",
      "mimetype": "text/x-python",
      "name": "python",
      "nbconvert_exporter": "python",
      "pygments_lexer": "ipython3",
      "version": "3.12.2"
    },
    "papermill": {
      "default_parameters": {},
      "duration": 22741.011481,
      "end_time": "2025-02-06T03:14:59.290174",
      "environment_variables": {},
      "exception": null,
      "input_path": "__notebook__.ipynb",
      "output_path": "__notebook__.ipynb",
      "parameters": {},
      "start_time": "2025-02-05T20:55:58.278693",
      "version": "2.6.0"
    }
  },
  "nbformat": 4,
  "nbformat_minor": 5
}
